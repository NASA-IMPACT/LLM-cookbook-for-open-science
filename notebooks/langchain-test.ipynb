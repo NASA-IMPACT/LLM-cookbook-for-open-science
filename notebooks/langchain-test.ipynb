{
 "cells": [
  {
   "cell_type": "code",
   "execution_count": 1,
   "metadata": {},
   "outputs": [],
   "source": [
    "%load_ext autoreload\n",
    "%autoreload 2\n",
    "import sys\n",
    "sys.path.append(\"code\")\n"
   ]
  },
  {
   "cell_type": "code",
   "execution_count": 2,
   "metadata": {},
   "outputs": [],
   "source": [
    "query = \"Which DPR scan pattern is similar to the TRMM PR?\"\n",
    "\n",
    "contexts = [\n",
    "            \"\"\"t the same time allows for the smooth change of daily solar zenith angle due to daily solar declination change. 9 For high-latitude tiles with their centers above the highest latitude that Landsat-8 and Sentinel- 2's nadir view can reach (81.8 degrees and 81.38 degrees respectively), the NBAR solar zenith angle prescribed by Li et al (2018) cannot be applied, and the mean observed solar zenith angle in the tile is used instead. Only about 20 land tiles fall into this category. Figure 2. The observed mean solar zenith angle in each tiled Sentinel-2 and Landsat-8 image and the solar zenith angle used in each image's BRDF normalization, for an equatorial tile 19NGA in 2019. The observed mean solar zenith angle in a Landsat image is higher than that in a temporally close Sentile-2 image because Landsat overpasses 30 minutes earlier. There is also day-to-day oscillation in mean observed solar zenith angle for each sensor due to the alternating observation from two adjacent orbits. 4.5 Bandpass adjustment MSI and OLI have slightly different bandpasses for equivalent spectral bands, and these differences need to be removed in HLS products. The OLI spectral bandpasses are used as reference, to which the MSI spectral bands are adjusted. The bandpass adjustment is a linear fit between equivalent spectral bands. The slope and offset coefficients were computed based on 500 hyperspectral spectra selected on 160 globally distributed Hyperion scenes processed to surface reflectance and used to synthesis MSI and OLI bands. MSI's RSRs correspond to the version v2.0 (Claverie et al., 2018). The spectral differences between MSI onboard Sentinel-2A 10 (S2A) and Sentinel-2B (S2B) are accounted. Note that the S2A CA and Blue bands RSRs correspond to S2B RSRs. The coefficients are given in Table 5, and scatterplots are given in Figure 3 and Figure 4. Figure 3: Sentinel-2A MSI vs OLI surface reflectance for the seven equivalent bands, using a synthetic dataset built with 500 surface reflectance spectra from Hyperion. Figure 4: Same as Figure 3, but for Sentinel-2B. OLI = a x MSI + b (5) 11 Table 5: Bandpass adjustment coefficients HLS Band name CA BLUE GREEN RED NIR1 SWIR1 SWIR2 OLI band number 1 2 3 4 5 6 7 MSI band number 1 2 3 4 8A 11 12 Sentinel-2A Sentinel-2B Slope (a) Intercept (b) Slope (a) Intercept (b) 0.9959 0.9778 1.0053 0.9765 0.9983 0.9987 1.003 -0.0002 -0.004 -0.0009 0.0009 -0.0001 -0.0011 -0.0012 0.9959 0.9778 1.0075 0.9761 0.9966 1.000 0.9867 -0.0002 -0.004 -0.0008 0.001 0.000 -0.0003 0.0004 4.6 Spatial resampling Spectral data resampling in L30 creation uses cubic convolution. With the improved geolocation in the Collection-2 Landsat-8 data, AROP-based temporal co-registration has phased out. But spatial resampling of Landsat-8 data is still needed in gridding the data into the MGRS tiles used by Sentinel-2, because even if the Landsat image and the intended MGRS tile are in the same UTM zone, ESA registers a corner of a Sentinel-2 pixel to the UTM coordinate origin, but USGS registers the center of a Landsat pixel to the UTM coordinate origin. A simple coordinate shift will not work. Moreover, when the Landsat data and the MGRS tile are in different UTM zones, reprojection and resampling must always be performed. Spectral data resampling in S30 creation uses the simple area-weighted average because of the nesting relationship between the original 10 m, 20 m, 60 m input pixels and the desired output 30 m pixels. To produce an S30 pixel, a set of 3x3 10 m pixels are averaged with equal weights, 2x2 20 m pixels are averaged with weights 4/9, 2/9, 2/9, and 1/9 depending on the relative position, and a 60 m pixel is duplicated to produce 2x2 S30 pixels. To create S30 from Sentinel-2 L1C input of processing baseline prior to 2.04 (approximately mid-2016), additional resampling is needed, before the area-weighted average, as part of the AROP-based temporal co-registration. Once LaSRC derives the surface reflectance, cubic convolution is applied to resample the 10 m/20 m/60 m spectral bands based on AROP-derived coordinate transform. Then the aera-weighted average described above is applied. Only a small proportion of L1C images are of processing baseline prior to 2.04. Resampling of the QA layer is implemented differently. The QA layer is mostly based on cloud masking by Fmask, which outputs at 30 m over the WRS-2 path-row grid for Landsat and at 20 m over the MGRS grid for Sentinel-2. It also incorporates the qualitative aerosol optical thickness level assessment from the atmospheric correction. The resample of the QA is performed for each bit of the QA byte in turn: - L30: while a 4x4 window is used in cubic convolution resampling of the spectral data, only the innermost 2x2 pixels are examined for QA resampling because 1) almost all the cubic convolution weights are in the 2x2 window, 2) a 4x4 window would artificially create a mixture situation. The \"presence\" rule is used: a QA bit value 1 in any of the 4 input pix\n",
    "\"\"\",\n",
    "            \"\"\"The Dual-Frequency Precipitation Radar (DPR) on the GPM core satellite will be the second\n",
    "space-borne precipitation radar, following the first such radar, the Precipitation Radar (PR),\n",
    "launched on the TRMM satellite in November, 1997. The TRMM PR has already revolutionized\n",
    "the measurement of precipitation from space by providing high resolution 3-dimensional rain\n",
    "echoes in the tropics and subtropics. The DPR consists of Ku-band (13.6GHz) and Ka-band\n",
    "(35.5GHz) channels. A major source of error in the rainfall estimates from the TRMM/PR comes\n",
    "from the uncertainty in the conversion of radar reflectivity into rainfall rate. This uncertainty\n",
    "originates in the variations of the raindrop size distribution (DSD) that changes by region, season\n",
    "and rain type. One of the reasons for adding the Ka-band frequency channel to the DPR is to\n",
    "provide information on the DSD that can be obtained from non-Rayleigh scattering effects at\n",
    "the higher frequency.\n",
    "Another reason for the new Ka-band channel is to provide more accurate estimates of the\n",
    "phase-transition height in precipitating systems. This information is very important not only\n",
    "in increasing the accuracy of rain rate estimation by the DPR itself, but in improving rain\n",
    "estimation by passive microwave radiometers.\n",
    "The third reason for the Ka-band channel arises from the fact that the GPM core satellite will\n",
    "provide coverage up to about 65 degrees latitude; by increasing the sensitivity of this channel, a\n",
    "larger fraction of snow events will be detected.\n",
    "Since the Ku-band channel of the DPR is very similar to the TRMM PR, the principal challenge\n",
    "in the development of the DPR level 2 algorithms is to combine the new Ka-band data with the\n",
    "Ku-band data to achieve the objectives mentioned above.\"\"\",\n",
    "        ]\n"
   ]
  },
  {
   "cell_type": "code",
   "execution_count": 3,
   "metadata": {},
   "outputs": [
    {
     "name": "stdout",
     "output_type": "stream",
     "text": [
      "/Users/mramasub/work/cmr-prompt-chain\n"
     ]
    },
    {
     "data": {
      "text/plain": [
       "'The Dual-Frequency Precipitation Radar (DPR) on the GPM core satellite has a Ku-band (13.6GHz) and a Ka-band (35.5GHz) channel. The Ka-band channel was added to provide information on the raindrop size distribution, more accurate estimates of the phase-transition height in precipitating systems, and to increase sensitivity for detecting snow events at higher latitudes. The Ku-band channel of the DPR is similar to the TRMM PR. \\n\\nAnswer: The Ku-band channel of the DPR is similar to the TRMM PR. \\n\\nReference: \"Since the Ku-band channel of the DPR is very similar to the TRMM PR...\"'"
      ]
     },
     "execution_count": 3,
     "metadata": {},
     "output_type": "execute_result"
    }
   ],
   "source": [
    "from chains import QASummarizeChain\n",
    "\n",
    "inputs = {\n",
    "    'query': query,\n",
    "    'contexts': contexts,\n",
    "}\n",
    "\n",
    "QASummarizeChain().run(inputs)"
   ]
  },
  {
   "cell_type": "code",
   "execution_count": 4,
   "metadata": {},
   "outputs": [
    {
     "name": "stdout",
     "output_type": "stream",
     "text": [
      "/Users/mramasub/work/cmr-prompt-chain\n"
     ]
    },
    {
     "data": {
      "text/plain": [
       "['EARTH SCIENCE > SPECTRAL/ENGINEERING > LIDAR > LIDAR DEPOLARIZATION RATIO']"
      ]
     },
     "execution_count": 4,
     "metadata": {},
     "output_type": "execute_result"
    }
   ],
   "source": [
    "from gpt_embedder import GPTEmbedder\n",
    "embedder = GPTEmbedder()\n",
    "embedder.find_nearest_kw(contexts[0], top_n=1)\n"
   ]
  },
  {
   "attachments": {},
   "cell_type": "markdown",
   "metadata": {},
   "source": [
    "## testing summarization of primeqa responses"
   ]
  },
  {
   "cell_type": "code",
   "execution_count": 150,
   "metadata": {},
   "outputs": [],
   "source": [
    "import requests\n",
    "max_num_documents = 5\n",
    "PQA_API = \"http://primeqa.nasa-impact.net/orchestrator/ask\"\n",
    "\n",
    "## POST /orchestrator/ask HTTP/1.1\n",
    "# Accept: application/json\n",
    "# Accept-Encoding: gzip, deflate\n",
    "# Accept-Language: en-US,en;q=0.9\n",
    "# Connection: keep-alive\n",
    "# Content-Length: 884\n",
    "# Content-Type: application/json\n",
    "# Host: primeqa.nasa-impact.net\n",
    "# Origin: http://primeqa.nasa-impact.net\n",
    "# Referer: http://primeqa.nasa-impact.net/qa\n",
    "# User-Agent: Mozilla/5.0 (Macintosh; Intel Mac OS X 10_15_7) AppleWebKit/537.36 (KHTML, like Gecko) Chrome/109.0.0.0 Safari/537.36\n",
    "#{question: \"what is CYGNSS?\",…}\n",
    "# collection\n",
    "# : \n",
    "# {collection_id: \"cmr-atbds-v2\", name: \"cmr-atbds-v2\", description: \"\"}\n",
    "# question\n",
    "# : \n",
    "# \"what is CYGNSS?\"\n",
    "# reader\n",
    "# : \n",
    "# {reader_id: \"ExtractiveReader\",…}\n",
    "# retriever\n",
    "# : \n",
    "# {retriever_id: \"ColBERTRetriever\", parameters: [,…], provenance: \"PrimeQA\"}\n",
    "\n",
    "#description\n",
    "# : \n",
    "# \"\"\n",
    "# name\n",
    "# : \n",
    "# \"Maximum number of retrieved documents\"\n",
    "# options\n",
    "# : \n",
    "# []\n",
    "# parameter_id\n",
    "# : \n",
    "# \"max_num_documents\"\n",
    "headers = {\n",
    "    \"Accept\": \"application/json\",\n",
    "    \"Accept-Encoding\": \"gzip, deflate\",\n",
    "    \"Accept-Language\": \"en-US,en;q=0.9\",\n",
    "    \"Connection\": \"keep-alive\",\n",
    "    \"Content-Length\": \"884\",\n",
    "    \"Content-Type\": \"application/json\",\n",
    "    \"Host\": \"primeqa.nasa-impact.net\",\n",
    "    \"Origin\": \"http://primeqa.nasa-impact.net\",\n",
    "    \"Referer\": \"http://primeqa.nasa-impact.net/qa\",\n",
    "    \"User-Agent\": \"Mozilla/5.0 (Macintosh; Intel Mac OS X 10_15_7) AppleWebKit/537.36 (KHTML, like Gecko) Chrome/109.0.0.0 Safari/537.36\"\n",
    "}\n",
    "\n",
    "payload = {\n",
    "    \"question\":\"\",\n",
    "    \"retriever\":{\n",
    "        \"retriever_id\":\"ColBERTRetriever\",\n",
    "        \"parameters\":[{\n",
    "            \"parameter_id\":\"max_num_documents\",\n",
    "            \"name\":\"Maximum number of retrieved documents\",\n",
    "            \"description\":\"\",\n",
    "            \"type\":\"Numeric\",\n",
    "            \"value\":5,\n",
    "            \"options\":[],\n",
    "            \"range\":[1,100,1]\n",
    "        }],\n",
    "        \"provenance\":\"PrimeQA\"\n",
    "    },\n",
    "    \"collection\": {\n",
    "        \"collection_id\":\"cmr-atbds-v2\",\n",
    "        \"name\":\"cmr-atbds-v2\",\n",
    "        \"description\":\"\"\n",
    "    },\n",
    "    \"reader\": {\n",
    "        \"reader_id\":\"ExtractiveReader\",\n",
    "        \"parameters\": [{\n",
    "            \"parameter_id\":\"model\",\n",
    "            \"name\":\"Model\",\n",
    "            \"description\":\"\",\n",
    "            \"type\":\"String\",\n",
    "            \"value\":\"PrimeQA/nq_tydi_sq1-reader-xlmr_large-20221110\",\n",
    "            \"options\":[],\n",
    "            \"range\":[]\n",
    "        },{\n",
    "            \"parameter_id\":\"max_num_answers\",\n",
    "            \"name\":\"Maximum number of answers\",\n",
    "            \"description\":\"\",\n",
    "            \"type\":\"Numeric\",\n",
    "            \"value\":3,\n",
    "            \"options\":[],\n",
    "            \"range\":[1,5,1]\n",
    "        },{\n",
    "            \"parameter_id\":\"max_answer_length\",\n",
    "            \"name\":\"Maximum answer length\",\n",
    "            \"description\":\"\",\n",
    "            \"type\":\"Numeric\",\n",
    "            \"value\":1000,\n",
    "            \"options\":[],\n",
    "            \"range\":[2,2000,2]\n",
    "        }],\n",
    "        \"provenance\":\"PrimeQA\"\n",
    "    }\n",
    "}\n",
    "\n",
    "# response =\n",
    "# 'answers': [{'text': 'KuPR',\n",
    "#    'confidence_score': 0.7057064359463523,\n",
    "#    'evidences': [{'evidence_type': 'document',\n",
    "#      'text': \"second (kbps) Housekeeping Data Rate (nominal)2 1. In nominal operation mode. 2. 1 kbps may increase up to 2 kbps during SCDP switch-overs. 3. This parameter is for informational purposes in the ICD. Table 3.1-2 Spacecraft Orbital Information Inclination Mean semi-major axis S/C Altitude Control Box 65o 6776.14 km +- 1 km Orbit Eccentricity 0.00010 (0-0.0005 tolerance) Geodetic Altitude Variation Range 397 km to 419 km Figure 3.1-1 shows the DPR scan pattern. KuPR's scan pattern is similar to that of the TRMM PR. It has 49 footprints in a scan and the footprint size is about 5 km in diameter. The scan swath is 245 km. The KaPR also has 49 footprints, but these are divided into two types of scan. In the first type of scan (Ka_MA), the beams are matched to the central 25 beams of KuPR, providing a swath of 120 km. In the second type of scan (Ka_HS), the KaPR is operated in the high-sensitivity mode to detect light rain and snow; in this case, its beams are interlaced within the scan pattern of the matched beams as shown in Fig. 3.1-1. The KuPR and KaPR for the Ka_MA scan have the same range resolution (250 m), while the range resolution of data in Ka_HS is 500m. In both cases, radar echoes are over-sampled at twice the rate of the corresponding resolution: 125 m for the matched beams and 250 m for the Ka_HS. Figure 3.1-2 shows the observation range. The DPR's echo sampling is designed to cover a range that, at minimum, extends from the surface to 19 km above the sea level (or from the Ellipsoid). The pulse repetition interval is adjusted according to the satellite altitude and the angle of observation. As a result, the number of independent samples changes slightly as\",\n",
    "#      'score': 21.96875,\n",
    "#      'document_id': '92331',\n",
    "#      'title': 'GPM DPR Ka Precipitation Profile 2A 1.5 hours 5 km V07 (GPM_2AKa) at GES DISC',\n",
    "#      'offsets': [{'start': 464, 'end': 468}]}]},\n",
    "#   {'text': 'KuPR',\n",
    "#    'confidence_score': 0.7039312880173583,\n",
    "#    'evidences': [{'evidence_type': 'document',\n",
    "#      'text': \"second (kbps) Housekeeping Data Rate (nominal)2 1. In nominal operation mode. 2. 1 kbps may increase up to 2 kbps during SCDP switch-overs. 3. This parameter is for informational purposes in the ICD. Table 3.1-2 Spacecraft Orbital Information Inclination Mean semi-major axis S/C Altitude Control Box 65o 6776.14 km +- 1 km Orbit Eccentricity 0.00010 (0-0.0005 tolerance) Geodetic Altitude Variation Range 397 km to 419 km Figure 3.1-1 shows the DPR scan pattern. KuPR's scan pattern is similar to that of the TRMM PR. It has 49 footprints in a scan and the footprint size is about 5 km in diameter. The scan swath is 245 km. The KaPR also has 49 footprints, but these are divided into two types of scan. In the first type of scan (Ka_MA), the beams are matched to the central 25 beams of KuPR, providing a swath of 120 km. In the second type of scan (Ka_HS), the KaPR is operated in the high-sensitivity mode to detect light rain and snow; in this case, its beams are interlaced within the scan pattern of the matched beams as shown in Fig. 3.1-1. The KuPR and KaPR for the Ka_MA scan have the same range resolution (250 m), while the range resolution of data in Ka_HS is 500m. In both cases, radar echoes are over-sampled at twice the rate of the corresponding resolution: 125 m for the matched beams and 250 m for the Ka_HS. Figure 3.1-2 shows the observation range. The DPR's echo sampling is designed to cover a range that, at minimum, extends from the surface to 19 km above the sea level (or from the Ellipsoid). The pulse repetition interval is adjusted according to the satellite altitude and the angle of observation. As a result, the number of independent samples changes slightly as\",\n",
    "#      'score': 21.953125,\n",
    "#      'document_id': '5786',\n",
    "#      'title': 'GPM DPR Ku Precipitation Profile 2A 1.5 hours 5 km V07 (GPM_2AKu) at GES DISC',\n",
    "#      'offsets': [{'start': 464, 'end': 468}]}]}, \n",
    "def get_contexts(question, max_num_documents=5):\n",
    "    payload[\"question\"] = question\n",
    "    payload[\"retriever\"][\"parameters\"][0][\"value\"] = max_num_documents\n",
    "    response = requests.post(\n",
    "        PQA_API, \n",
    "        json=payload, \n",
    "        headers=headers\n",
    "    ).json()\n",
    "    return [f'Title: {doc[\"evidences\"][0][\"title\"]}, Snippet: {doc[\"evidences\"][0][\"text\"]}' for doc in response[\"answers\"]]"
   ]
  },
  {
   "cell_type": "code",
   "execution_count": 160,
   "metadata": {},
   "outputs": [
    {
     "name": "stdout",
     "output_type": "stream",
     "text": [
      "query: What area is defined by the DPR footprints?\n",
      "\n",
      "('Title: GPM AMSR-2 on GCOM-W1 (GPROF) Climate-based Radiometer Precipitation Profiling L3 1 day 0.25 degree x 0.25 '\n",
      " 'degree V07 (GPM_3GPROFGCOMW1AMSR2_DAY_CLIM) at GES DISC, Snippet: GPROF algorithm, the 10 land classes correspond to '\n",
      " 'self-similar mean emissivities. Subsequent versions might use self-similar co-variances among channels. This change '\n",
      " 'would better fit the GPM post-launch paradigm in that the combined GMI-DPR algorithm that would eventually replace '\n",
      " 'the current algorithm would likely be based upon such a co-variance paradigm were the emissivities could be adjusted '\n",
      " 'to achieve the optimal fit between GMI and DPR. 16 The Colorado State University Land surface definition is a sensor '\n",
      " 'specific classification starting with these 10 surface classes. Then we define the GPM land/ocean boundary using a '\n",
      " 'roughly one km MODIS/SeaWIFS / Ocean Color land mask. This was initially generated in 1993 and based on the World '\n",
      " 'Vector Shoreline (WVS) database. In October 1997, shortly after the SeaWiFS launch, the land mask database was '\n",
      " 'modified to include inland waterways, based on the World Data Bank (WDB) information. The final result is a 1/128th '\n",
      " 'degree global grid that specifies either land or water. The GPROF sensor specific land mask files are on a 1/16th '\n",
      " 'degree grid, derived at the nominal sensor footprints of 19GHz. In the GPROF classification, the above land mask '\n",
      " 'defines 2 additional classes to add to the 10 land surface classifications: Ocean and large inland water, and '\n",
      " 'Land/Ocean Boundaries (coast). The coast class is defined as the percentage of land falling within the 1/16th degree '\n",
      " 'grid box to be between 2 and 95%. Finally, the areas of sea-ice are defined from the NOAA Autosnow daily fields '\n",
      " 'which have a 4 km resolution, available the day after real-time. The final CSU GPM surface classifications, and the '\n",
      " 'ones output from the GPROF retrieval are numbered as: 1 : Ocean / Large inland Water 2 : Sea Ice 3 - 7 : Decreasing '\n",
      " 'Vegetation Covered (3=Amazon, 7 = Sahara Desert) 8 - 11: Decreasing Snow')\n",
      "('Title: GPM DPR and GMI (Combined Precipitation) L3 1 month 0.25 degree x 0.25 degree V07 (GPM_3CMB) at GES DISC, '\n",
      " 'Snippet: solutions at each DPR footprint location, the Forward Model Module, that simulates the remaining DPR and '\n",
      " 'GMI measurements, the Radiance Enhancement Module, which estimates what the GMI brightness temperatures would be at '\n",
      " 'the resolution of the DPR, and the Filter Module, that modifies the Ku radar-derived precipitation ensembles to be '\n",
      " 'more consistent with remaining observations. The outputs of the algorithm are the mean (best estimate) and standard '\n",
      " 'deviation (uncertainty of estimate) of the DPR-GMI filtered ensemble of estimated precipitation profiles at each DPR '\n",
      " '5 footprint location. Following is a description of algorithm flow from the ingest of satellite sensor data to the '\n",
      " 'output of precipitation estimates. The Combined Radar-Radiometer Algorithm first ingests Radar Algorithm Level 2 '\n",
      " 'calibrated reflectivities at Ku and Ka bands (if available) as well as Level 1C intercalibrated brightness '\n",
      " 'temperatures from the GMI. To stay within computer memory limitations, a maximum of 300 scan lines of DPR data and '\n",
      " 'corresponding GMI data are processed by the algorithm at a time. Therefore, the flow diagram of Fig. 2a represents '\n",
      " 'the processing of one swath segment, which is repeated until the entire orbit is processed. The DPR footprint '\n",
      " 'locations define an Fig. 2a. Processing schematic for the Combined Radar-Radiometer Algorithm. Ku Radar Module is in '\n",
      " 'blue (see also Fig. 2b), Forward Model Module is in green, Radiance Enhancement Module is in yellow, and Filter '\n",
      " \"Module is in orange. approximate 5 km x 5 km grid on the earth's surface, and these footprints are used to represent \"\n",
      " 'the solution grid for algorithm-estimated precipitation profiles. 6 The first major process in the algorithm is the '\n",
      " 'estimation of precipitation profiles in the Ku Radar Module. The first step in this process is to determine whether '\n",
      " 'precipitation is detected in the column. The Ku Radar has a minimum detectable signal of approximately 13')\n",
      "('Title: GPM DPR and GMI (Combined Precipitation) L3 1 day 0.25 degree x 0.25 degree V07 (GPM_3CMB_DAY) at GES DISC, '\n",
      " 'Snippet: solutions at each DPR footprint location, the Forward Model Module, that simulates the remaining DPR and '\n",
      " 'GMI measurements, the Radiance Enhancement Module, which estimates what the GMI brightness temperatures would be at '\n",
      " 'the resolution of the DPR, and the Filter Module, that modifies the Ku radar-derived precipitation ensembles to be '\n",
      " 'more consistent with remaining observations. The outputs of the algorithm are the mean (best estimate) and standard '\n",
      " 'deviation (uncertainty of estimate) of the DPR-GMI filtered ensemble of estimated precipitation profiles at each DPR '\n",
      " '5 footprint location. Following is a description of algorithm flow from the ingest of satellite sensor data to the '\n",
      " 'output of precipitation estimates. The Combined Radar-Radiometer Algorithm first ingests Radar Algorithm Level 2 '\n",
      " 'calibrated reflectivities at Ku and Ka bands (if available) as well as Level 1C intercalibrated brightness '\n",
      " 'temperatures from the GMI. To stay within computer memory limitations, a maximum of 300 scan lines of DPR data and '\n",
      " 'corresponding GMI data are processed by the algorithm at a time. Therefore, the flow diagram of Fig. 2a represents '\n",
      " 'the processing of one swath segment, which is repeated until the entire orbit is processed. The DPR footprint '\n",
      " 'locations define an Fig. 2a. Processing schematic for the Combined Radar-Radiometer Algorithm. Ku Radar Module is in '\n",
      " 'blue (see also Fig. 2b), Forward Model Module is in green, Radiance Enhancement Module is in yellow, and Filter '\n",
      " \"Module is in orange. approximate 5 km x 5 km grid on the earth's surface, and these footprints are used to represent \"\n",
      " 'the solution grid for algorithm-estimated precipitation profiles. 6 The first major process in the algorithm is the '\n",
      " 'estimation of precipitation profiles in the Ku Radar Module. The first step in this process is to determine whether '\n",
      " 'precipitation is detected in the column. The Ku Radar has a minimum detectable signal of approximately 13')\n",
      "('Title: GPM AMSR-2 on GCOM-W1 (GPROF) Climate-based Radiometer Precipitation Profiling L3 1 month 0.25 degree x 0.25 '\n",
      " 'degree V07 (GPM_3GPROFGCOMW1AMSR2_CLIM) at GES DISC, Snippet: GPROF algorithm, the 10 land classes correspond to '\n",
      " 'self-similar mean emissivities. Subsequent versions might use self-similar co-variances among channels. This change '\n",
      " 'would better fit the GPM post-launch paradigm in that the combined GMI-DPR algorithm that would eventually replace '\n",
      " 'the current algorithm would likely be based upon such a co-variance paradigm were the emissivities could be adjusted '\n",
      " 'to achieve the optimal fit between GMI and DPR. 16 The Colorado State University Land surface definition is a sensor '\n",
      " 'specific classification starting with these 10 surface classes. Then we define the GPM land/ocean boundary using a '\n",
      " 'roughly one km MODIS/SeaWIFS / Ocean Color land mask. This was initially generated in 1993 and based on the World '\n",
      " 'Vector Shoreline (WVS) database. In October 1997, shortly after the SeaWiFS launch, the land mask database was '\n",
      " 'modified to include inland waterways, based on the World Data Bank (WDB) information. The final result is a 1/128th '\n",
      " 'degree global grid that specifies either land or water. The GPROF sensor specific land mask files are on a 1/16th '\n",
      " 'degree grid, derived at the nominal sensor footprints of 19GHz. In the GPROF classification, the above land mask '\n",
      " 'defines 2 additional classes to add to the 10 land surface classifications: Ocean and large inland water, and '\n",
      " 'Land/Ocean Boundaries (coast). The coast class is defined as the percentage of land falling within the 1/16th degree '\n",
      " 'grid box to be between 2 and 95%. Finally, the areas of sea-ice are defined from the NOAA Autosnow daily fields '\n",
      " 'which have a 4 km resolution, available the day after real-time. The final CSU GPM surface classifications, and the '\n",
      " 'ones output from the GPROF retrieval are numbered as: 1 : Ocean / Large inland Water 2 : Sea Ice 3 - 7 : Decreasing '\n",
      " 'Vegetation Covered (3=Amazon, 7 = Sahara Desert) 8 - 11: Decreasing Snow')\n",
      "('Title: GPM DPR and GMI Combined Precipitation L2B 1.5 hours 5 km V07 (GPM_2BCMB) at GES DISC, Snippet: solutions at '\n",
      " 'each DPR footprint location, the Forward Model Module, that simulates the remaining DPR and GMI measurements, the '\n",
      " 'Radiance Enhancement Module, which estimates what the GMI brightness temperatures would be at the resolution of the '\n",
      " 'DPR, and the Filter Module, that modifies the Ku radar-derived precipitation ensembles to be more consistent with '\n",
      " 'remaining observations. The outputs of the algorithm are the mean (best estimate) and standard deviation '\n",
      " '(uncertainty of estimate) of the DPR-GMI filtered ensemble of estimated precipitation profiles at each DPR 5 '\n",
      " 'footprint location. Following is a description of algorithm flow from the ingest of satellite sensor data to the '\n",
      " 'output of precipitation estimates. The Combined Radar-Radiometer Algorithm first ingests Radar Algorithm Level 2 '\n",
      " 'calibrated reflectivities at Ku and Ka bands (if available) as well as Level 1C intercalibrated brightness '\n",
      " 'temperatures from the GMI. To stay within computer memory limitations, a maximum of 300 scan lines of DPR data and '\n",
      " 'corresponding GMI data are processed by the algorithm at a time. Therefore, the flow diagram of Fig. 2a represents '\n",
      " 'the processing of one swath segment, which is repeated until the entire orbit is processed. The DPR footprint '\n",
      " 'locations define an Fig. 2a. Processing schematic for the Combined Radar-Radiometer Algorithm. Ku Radar Module is in '\n",
      " 'blue (see also Fig. 2b), Forward Model Module is in green, Radiance Enhancement Module is in yellow, and Filter '\n",
      " \"Module is in orange. approximate 5 km x 5 km grid on the earth's surface, and these footprints are used to represent \"\n",
      " 'the solution grid for algorithm-estimated precipitation profiles. 6 The first major process in the algorithm is the '\n",
      " 'estimation of precipitation profiles in the Ku Radar Module. The first step in this process is to determine whether '\n",
      " 'precipitation is detected in the column. The Ku Radar has a minimum detectable signal of approximately 13')\n"
     ]
    }
   ],
   "source": [
    "import sys\n",
    "sys.path.append(\"code\")\n",
    "from  cmr_connector import CMRConnector\n",
    "import pprint\n",
    "pp = pprint.PrettyPrinter(indent=4, width=120)\n",
    "\n",
    "cmr_connector = CMRConnector()\n",
    "cmr_connector_babbage = CMRConnector(singleqa_model=\"text-babbage-001\")\n",
    "query = \"What area is defined by the DPR footprints?\"\n",
    "contexts = get_contexts(query, max_num_documents=5)\n",
    "contexts = list(set(contexts))\n",
    "# print with wrapping to 80 characters\n",
    "print(f'query: {query}\\n')\n",
    "for context in contexts:\n",
    "    pp.pprint(context)\n"
   ]
  },
  {
   "cell_type": "code",
   "execution_count": 161,
   "metadata": {},
   "outputs": [],
   "source": [
    "contexts = list(set(contexts)) + [\"DSCOVR is used to monitor flooded regions\"]"
   ]
  },
  {
   "cell_type": "code",
   "execution_count": 162,
   "metadata": {},
   "outputs": [
    {
     "name": "stdout",
     "output_type": "stream",
     "text": [
      "What area is defined by the DPR footprints?\n",
      "context: Title: GPM AMSR-2 on GCOM-W1 (GPROF) Climate-based Radiometer Precipitation Profiling L3 1 day 0.25 degree x 0.25 degree V07 (GPM_3GPROFGCOMW1AMSR2_DAY_CLIM) at GES DISC, Snippet: GPROF algorithm, the 10 land classes correspond to self-similar mean emissivities. Subsequent versions might use self-similar co-variances among channels. This change would better fit the GPM post-launch paradigm in that the combined GMI-DPR algorithm that would eventually replace the current algorithm would likely be based upon such a co-variance paradigm were the emissivities could be adjusted to achieve the optimal fit between GMI and DPR. 16 The Colorado State University Land surface definition is a sensor specific classification starting with these 10 surface classes. Then we define the GPM land/ocean boundary using a roughly one km MODIS/SeaWIFS / Ocean Color land mask. This was initially generated in 1993 and based on the World Vector Shoreline (WVS) database. In October 1997, shortly after the SeaWiFS launch, the land mask database was modified to include inland waterways, based on the World Data Bank (WDB) information. The final result is a 1/128th degree global grid that specifies either land or water. The GPROF sensor specific land mask files are on a 1/16th degree grid, derived at the nominal sensor footprints of 19GHz. In the GPROF classification, the above land mask defines 2 additional classes to add to the 10 land surface classifications: Ocean and large inland water, and Land/Ocean Boundaries (coast). The coast class is defined as the percentage of land falling within the 1/16th degree grid box to be between 2 and 95%. Finally, the areas of sea-ice are defined from the NOAA Autosnow daily fields which have a 4 km resolution, available the day after real-time. The final CSU GPM surface classifications, and the ones output from the GPROF retrieval are numbered as: 1 : Ocean / Large inland Water 2 : Sea Ice 3 - 7 : Decreasing Vegetation Covered (3=Amazon, 7 = Sahara Desert) 8 - 11: Decreasing Snow\n",
      "answer: The DPR footprints are used to adjust emissivities to achieve the optimal fit between GMI and DPR.\n",
      "\n",
      "answer_babbage: \n",
      "Here is the evidence sentence from the context paragraph that is used for inference:\n",
      "\n",
      "The final CSU GPM surface classifications, and the ones output from the GPROF retrieval are numbered as: 1 : Ocean / Large inland Water\n",
      "\n",
      "The evidence sentence states that the final CSU GPM surface classifications are numbered 1-11.\n",
      "context: Title: GPM DPR and GMI (Combined Precipitation) L3 1 month 0.25 degree x 0.25 degree V07 (GPM_3CMB) at GES DISC, Snippet: solutions at each DPR footprint location, the Forward Model Module, that simulates the remaining DPR and GMI measurements, the Radiance Enhancement Module, which estimates what the GMI brightness temperatures would be at the resolution of the DPR, and the Filter Module, that modifies the Ku radar-derived precipitation ensembles to be more consistent with remaining observations. The outputs of the algorithm are the mean (best estimate) and standard deviation (uncertainty of estimate) of the DPR-GMI filtered ensemble of estimated precipitation profiles at each DPR 5 footprint location. Following is a description of algorithm flow from the ingest of satellite sensor data to the output of precipitation estimates. The Combined Radar-Radiometer Algorithm first ingests Radar Algorithm Level 2 calibrated reflectivities at Ku and Ka bands (if available) as well as Level 1C intercalibrated brightness temperatures from the GMI. To stay within computer memory limitations, a maximum of 300 scan lines of DPR data and corresponding GMI data are processed by the algorithm at a time. Therefore, the flow diagram of Fig. 2a represents the processing of one swath segment, which is repeated until the entire orbit is processed. The DPR footprint locations define an Fig. 2a. Processing schematic for the Combined Radar-Radiometer Algorithm. Ku Radar Module is in blue (see also Fig. 2b), Forward Model Module is in green, Radiance Enhancement Module is in yellow, and Filter Module is in orange. approximate 5 km x 5 km grid on the earth's surface, and these footprints are used to represent the solution grid for algorithm-estimated precipitation profiles. 6 The first major process in the algorithm is the estimation of precipitation profiles in the Ku Radar Module. The first step in this process is to determine whether precipitation is detected in the column. The Ku Radar has a minimum detectable signal of approximately 13\n",
      "answer: The DPR footprints define an approximate 5 km x 5 km grid on the earth's surface.\n",
      "\n",
      "answer_babbage: \n",
      "N/A\n",
      "context: Title: GPM DPR and GMI (Combined Precipitation) L3 1 day 0.25 degree x 0.25 degree V07 (GPM_3CMB_DAY) at GES DISC, Snippet: solutions at each DPR footprint location, the Forward Model Module, that simulates the remaining DPR and GMI measurements, the Radiance Enhancement Module, which estimates what the GMI brightness temperatures would be at the resolution of the DPR, and the Filter Module, that modifies the Ku radar-derived precipitation ensembles to be more consistent with remaining observations. The outputs of the algorithm are the mean (best estimate) and standard deviation (uncertainty of estimate) of the DPR-GMI filtered ensemble of estimated precipitation profiles at each DPR 5 footprint location. Following is a description of algorithm flow from the ingest of satellite sensor data to the output of precipitation estimates. The Combined Radar-Radiometer Algorithm first ingests Radar Algorithm Level 2 calibrated reflectivities at Ku and Ka bands (if available) as well as Level 1C intercalibrated brightness temperatures from the GMI. To stay within computer memory limitations, a maximum of 300 scan lines of DPR data and corresponding GMI data are processed by the algorithm at a time. Therefore, the flow diagram of Fig. 2a represents the processing of one swath segment, which is repeated until the entire orbit is processed. The DPR footprint locations define an Fig. 2a. Processing schematic for the Combined Radar-Radiometer Algorithm. Ku Radar Module is in blue (see also Fig. 2b), Forward Model Module is in green, Radiance Enhancement Module is in yellow, and Filter Module is in orange. approximate 5 km x 5 km grid on the earth's surface, and these footprints are used to represent the solution grid for algorithm-estimated precipitation profiles. 6 The first major process in the algorithm is the estimation of precipitation profiles in the Ku Radar Module. The first step in this process is to determine whether precipitation is detected in the column. The Ku Radar has a minimum detectable signal of approximately 13\n",
      "answer: The DPR footprints define an approximate 5 km x 5 km grid on the earth's surface.\n",
      "\n",
      "answer_babbage: \n",
      "N/A\n",
      "context: Title: GPM AMSR-2 on GCOM-W1 (GPROF) Climate-based Radiometer Precipitation Profiling L3 1 month 0.25 degree x 0.25 degree V07 (GPM_3GPROFGCOMW1AMSR2_CLIM) at GES DISC, Snippet: GPROF algorithm, the 10 land classes correspond to self-similar mean emissivities. Subsequent versions might use self-similar co-variances among channels. This change would better fit the GPM post-launch paradigm in that the combined GMI-DPR algorithm that would eventually replace the current algorithm would likely be based upon such a co-variance paradigm were the emissivities could be adjusted to achieve the optimal fit between GMI and DPR. 16 The Colorado State University Land surface definition is a sensor specific classification starting with these 10 surface classes. Then we define the GPM land/ocean boundary using a roughly one km MODIS/SeaWIFS / Ocean Color land mask. This was initially generated in 1993 and based on the World Vector Shoreline (WVS) database. In October 1997, shortly after the SeaWiFS launch, the land mask database was modified to include inland waterways, based on the World Data Bank (WDB) information. The final result is a 1/128th degree global grid that specifies either land or water. The GPROF sensor specific land mask files are on a 1/16th degree grid, derived at the nominal sensor footprints of 19GHz. In the GPROF classification, the above land mask defines 2 additional classes to add to the 10 land surface classifications: Ocean and large inland water, and Land/Ocean Boundaries (coast). The coast class is defined as the percentage of land falling within the 1/16th degree grid box to be between 2 and 95%. Finally, the areas of sea-ice are defined from the NOAA Autosnow daily fields which have a 4 km resolution, available the day after real-time. The final CSU GPM surface classifications, and the ones output from the GPROF retrieval are numbered as: 1 : Ocean / Large inland Water 2 : Sea Ice 3 - 7 : Decreasing Vegetation Covered (3=Amazon, 7 = Sahara Desert) 8 - 11: Decreasing Snow\n"
     ]
    },
    {
     "name": "stderr",
     "output_type": "stream",
     "text": [
      "Retrying langchain.chat_models.openai.ChatOpenAI.completion_with_retry.<locals>._completion_with_retry in 4.0 seconds as it raised RateLimitError: That model is currently overloaded with other requests. You can retry your request, or contact us through our help center at help.openai.com if the error persists. (Please include the request ID 141b1c2871ca3997c3f6ce323d9640f5 in your message.).\n"
     ]
    },
    {
     "name": "stdout",
     "output_type": "stream",
     "text": [
      "answer: The context paragraph does not provide a clear answer to this question.\n",
      "\n",
      "answer_babbage: \n",
      "N/A\n",
      "context: Title: GPM DPR and GMI Combined Precipitation L2B 1.5 hours 5 km V07 (GPM_2BCMB) at GES DISC, Snippet: solutions at each DPR footprint location, the Forward Model Module, that simulates the remaining DPR and GMI measurements, the Radiance Enhancement Module, which estimates what the GMI brightness temperatures would be at the resolution of the DPR, and the Filter Module, that modifies the Ku radar-derived precipitation ensembles to be more consistent with remaining observations. The outputs of the algorithm are the mean (best estimate) and standard deviation (uncertainty of estimate) of the DPR-GMI filtered ensemble of estimated precipitation profiles at each DPR 5 footprint location. Following is a description of algorithm flow from the ingest of satellite sensor data to the output of precipitation estimates. The Combined Radar-Radiometer Algorithm first ingests Radar Algorithm Level 2 calibrated reflectivities at Ku and Ka bands (if available) as well as Level 1C intercalibrated brightness temperatures from the GMI. To stay within computer memory limitations, a maximum of 300 scan lines of DPR data and corresponding GMI data are processed by the algorithm at a time. Therefore, the flow diagram of Fig. 2a represents the processing of one swath segment, which is repeated until the entire orbit is processed. The DPR footprint locations define an Fig. 2a. Processing schematic for the Combined Radar-Radiometer Algorithm. Ku Radar Module is in blue (see also Fig. 2b), Forward Model Module is in green, Radiance Enhancement Module is in yellow, and Filter Module is in orange. approximate 5 km x 5 km grid on the earth's surface, and these footprints are used to represent the solution grid for algorithm-estimated precipitation profiles. 6 The first major process in the algorithm is the estimation of precipitation profiles in the Ku Radar Module. The first step in this process is to determine whether precipitation is detected in the column. The Ku Radar has a minimum detectable signal of approximately 13\n",
      "answer: The DPR footprints define an approximate 5 km x 5 km grid on the earth's surface.\n",
      "\n",
      "answer_babbage: \n",
      "N/A\n",
      "context: DSCOVR is used to monitor flooded regions\n",
      "answer: The context paragraph does not provide information to answer this question.\n",
      "\n",
      "answer_babbage: \n",
      "N/A\n"
     ]
    }
   ],
   "source": [
    "print(query)\n",
    "for context in contexts:\n",
    "    print(f\"context: {context}\")\n",
    "    print(f\"answer: {cmr_connector.reader(query=query, context=context)['answer']}\")\n",
    "    print(f\"answer_babbage: {cmr_connector_babbage.reader(query=query, context=context)['answer']}\")"
   ]
  },
  {
   "cell_type": "code",
   "execution_count": 97,
   "metadata": {},
   "outputs": [
    {
     "data": {
      "text/plain": [
       "{'answer': 'DSCOVR stands for Deep Space Climate Observatory. It is a spacecraft that orbits at the first Lagrange point (L1) between the Earth and the Sun. \\n',\n",
       " 'evidence': '\"Title: DSCOVR EPIC Level 1A Version 3\", \"Title: DSCOVR EPIC Level 1B Version 3\", \"Title: DSCOVR EPIC L2 Ozone (O3), Sulfur Dioxide (SO2) Aerosol Index (AI) with Epic L1B V03 Input, Version 2\", \"Title: Deep Space Climate Observatory National Institute of Standards and Technology Advanced Radiometer Level 1A Radiance, Version 3\", \"Title: DSCOVR EPIC L2 Multi-Angle Implementation of Atmospheric Correction (MAIAC) Version 02\", \"DSCOVR stands for Deep Space Climate Observatory.\"',\n",
       " 'matching_context_id': -1}"
      ]
     },
     "execution_count": 97,
     "metadata": {},
     "output_type": "execute_result"
    }
   ],
   "source": [
    "## gpt reading comprehension\n",
    "# print(cmr_connector.multi_context_qa.llm.temperature)\n",
    "cmr_connector.multi_reader(query=query, contexts=contexts)"
   ]
  },
  {
   "cell_type": "code",
   "execution_count": null,
   "metadata": {},
   "outputs": [],
   "source": []
  }
 ],
 "metadata": {
  "kernelspec": {
   "display_name": ".venv",
   "language": "python",
   "name": "python3"
  },
  "language_info": {
   "codemirror_mode": {
    "name": "ipython",
    "version": 3
   },
   "file_extension": ".py",
   "mimetype": "text/x-python",
   "name": "python",
   "nbconvert_exporter": "python",
   "pygments_lexer": "ipython3",
   "version": "3.9.12"
  },
  "orig_nbformat": 4
 },
 "nbformat": 4,
 "nbformat_minor": 2
}
