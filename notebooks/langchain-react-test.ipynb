{
 "cells": [
  {
   "cell_type": "markdown",
   "metadata": {},
   "source": [
    "# CMR Query ReACT Agent\n",
    "\n",
    "#### Using Langchain Agent Library"
   ]
  },
  {
   "cell_type": "code",
   "execution_count": 1,
   "metadata": {},
   "outputs": [
    {
     "name": "stdout",
     "output_type": "stream",
     "text": [
      "/Users/mramasub/work/cmr-prompt-chain\n"
     ]
    }
   ],
   "source": [
    "%load_ext autoreload\n",
    "%autoreload 2\n",
    "import sys\n",
    "sys.path.append(\"code\")\n",
    "import pprint\n",
    "pprinter = pprint.PrettyPrinter(indent=4, width=120, depth=2)\n",
    "\n",
    "from agent import CMRQueryAgent\n",
    "query_agent = CMRQueryAgent()"
   ]
  },
  {
   "cell_type": "code",
   "execution_count": 3,
   "metadata": {
    "scrolled": false
   },
   "outputs": [
    {
     "name": "stdout",
     "output_type": "stream",
     "text": [
      "\n",
      "\n",
      "\u001b[1m> Entering new  chain...\u001b[0m\n",
      "\u001b[32;1m\u001b[1;3mThought: We need to extract the datetime, bounding box, and GKR science keyword from the query.\n",
      "Action: DateTime Extractor\n",
      "Action Input: \"last 10 years\"\u001b[0m\n",
      "\n",
      "Observation:\u001b[33;1m\u001b[1;3m\n",
      "\n",
      "'temporal[]=2013-08-01T00:00:00Z,2023-08-01T00:00:00Z'\u001b[0m\n",
      "\u001b[32;1m\u001b[1;3mThe DateTime Extractor has converted the input \"last 10 years\" into a temporal range from August 1, 2013, to August 1, 2023.\n",
      "\n",
      "Action: bounding_box_finder\n",
      "Action Input: \"california\"\u001b[0m\n",
      "\n",
      "Observation:\u001b[36;1m\u001b[1;3mbounding_box[]=-124.482003,32.5295236,-114.1307816,42.009499\u001b[0m\n",
      "\u001b[32;1m\u001b[1;3mThe bounding_box_finder tool has provided the bounding box coordinates for California in the format of min Longitude, min Latitude, max Longitude, max Latitude.\n",
      "\n",
      "Action: gcmd_keyword_search\n",
      "Action Input: \"wildfires\"\u001b[0m\n",
      "\n",
      "Observation:\u001b[38;5;200m\u001b[1;3m['EARTH SCIENCE > HUMAN DIMENSIONS > NATURAL HAZARDS > WILDFIRES', 'EARTH SCIENCE SERVICES > ENVIRONMENTAL ADVISORIES > FIRE ADVISORIES > WILDFIRES', 'EARTH SCIENCE > HUMAN DIMENSIONS > NATURAL HAZARDS > WILDFIRES > BURNED AREA', 'EARTH SCIENCE > HUMAN DIMENSIONS > NATURAL HAZARDS > WILDFIRES > WILDFIRE SUPPRESSION', 'EARTH SCIENCE SERVICES > ENVIRONMENTAL ADVISORIES > FIRE ADVISORIES > PRESCRIBED BURNS']\u001b[0m\n",
      "\u001b[32;1m\u001b[1;3mThe gcmd_keyword_search tool has provided a list of relevant science keywords related to wildfires.\n",
      "\n",
      "Thought: I now have all the information needed to construct the CMR query.\n",
      "Action: cmr_query_api\n",
      "Action Input: \"temporal[]=2013-08-01T00:00:00Z,2023-08-01T00:00:00Z&bounding_box[]=-124.482003,32.5295236,-114.1307816,42.009499&keyword[]=EARTH SCIENCE > HUMAN DIMENSIONS > NATURAL HAZARDS > WILDFIRES&keyword[]=EARTH SCIENCE SERVICES > ENVIRONMENTAL ADVISORIES > FIRE ADVISORIES > WILDFIRES&keyword[]=EARTH SCIENCE > HUMAN DIMENSIONS > NATURAL HAZARDS > WILDFIRES > BURNED AREA&keyword[]=EARTH SCIENCE > HUMAN DIMENSIONS > NATURAL HAZARDS > WILDFIRES > WILDFIRE SUPPRESSION&keyword[]=EARTH SCIENCE SERVICES > ENVIRONMENTAL ADVISORIES > FIRE ADVISORIES > PRESCRIBED BURNS\"\u001b[0m\n",
      "\n",
      "Observation:\u001b[36;1m\u001b[1;3mhttps://cmr.earthdata.nasa.gov/search/collections?temporal[]=2013-08-01T00:00:00Z,2023-08-01T00:00:00Z&bounding_box[]=-124.482003,32.5295236,-114.1307816,42.009499&keyword[]=EARTH SCIENCE > HUMAN DIMENSIONS > NATURAL HAZARDS > WILDFIRES&keyword[]=EARTH SCIENCE SERVICES > ENVIRONMENTAL ADVISORIES > FIRE ADVISORIES > WILDFIRES&keyword[]=EARTH SCIENCE > HUMAN DIMENSIONS > NATURAL HAZARDS > WILDFIRES > BURNED AREA&keyword[]=EARTH SCIENCE > HUMAN DIMENSIONS > NATURAL HAZARDS > WILDFIRES > WILDFIRE SUPPRESSION&keyword[]=EARTH SCIENCE SERVICES > ENVIRONMENTAL ADVISORIES > FIRE ADVISORIES > PRESCRIBED BURNS\u001b[0m\n",
      "\u001b[32;1m\u001b[1;3mThe CMR query has been constructed using the extracted datetime, bounding box, and GKR science keyword. The query can be accessed at the provided URL. \n",
      "\n",
      "Final Answer: The CMR query for monitoring wildfires in California for the last 10 years is available at the following URL: https://cmr.earthdata.nasa.gov/search/collections?temporal[]=2013-08-01T00:00:00Z,2023-08-01T00:00:00Z&bounding_box[]=-124.482003,32.5295236,-114.1307816,42.009499&keyword[]=EARTH SCIENCE > HUMAN DIMENSIONS > NATURAL HAZARDS > WILDFIRES&keyword[]=EARTH SCIENCE SERVICES > ENVIRONMENTAL ADVISORIES > FIRE ADVISORIES > WILDFIRES&keyword[]=EARTH SCIENCE > HUMAN DIMENSIONS > NATURAL HAZARDS > WILDFIRES > BURNED AREA&keyword[]=EARTH SCIENCE > HUMAN DIMENSIONS > NATURAL HAZARDS > WILDFIRES > WILDFIRE SUPPRESSION&keyword[]=EARTH SCIENCE SERVICES > ENVIRONMENTAL ADVISORIES > FIRE ADVISORIES > PRESCRIBED BURNS\u001b[0m\n",
      "\n",
      "\u001b[1m> Finished chain.\u001b[0m\n",
      "The CMR query for monitoring wildfires in California for the last 10 years is available at the following URL: https://cmr.earthdata.nasa.gov/search/collections?temporal[]=2013-08-01T00:00:00Z,2023-08-01T00:00:00Z&bounding_box[]=-124.482003,32.5295236,-114.1307816,42.009499&keyword[]=EARTH SCIENCE > HUMAN DIMENSIONS > NATURAL HAZARDS > WILDFIRES&keyword[]=EARTH SCIENCE SERVICES > ENVIRONMENTAL ADVISORIES > FIRE ADVISORIES > WILDFIRES&keyword[]=EARTH SCIENCE > HUMAN DIMENSIONS > NATURAL HAZARDS > WILDFIRES > BURNED AREA&keyword[]=EARTH SCIENCE > HUMAN DIMENSIONS > NATURAL HAZARDS > WILDFIRES > WILDFIRE SUPPRESSION&keyword[]=EARTH SCIENCE SERVICES > ENVIRONMENTAL ADVISORIES > FIRE ADVISORIES > PRESCRIBED BURNS\n"
     ]
    }
   ],
   "source": [
    "query= \"data to monitor wildfires for california for the last 10 years.\"\n",
    "print(\n",
    "    query_agent.run_query(query)\n",
    ")\n"
   ]
  },
  {
   "cell_type": "code",
   "execution_count": null,
   "metadata": {},
   "outputs": [],
   "source": [
    "from langchain.chains.api.prompt import API_RESPONSE_PROMPT\n",
    "\n",
    "from langchain.chains import APIChain\n",
    "from langchain.prompts.prompt import PromptTemplate\n",
    "\n",
    "\n",
    "from langchain.chat_models import ChatOpenAI\n",
    "\n",
    "llm = ChatOpenAI(model_name=\"gpt-3.5-turbo\", temperature=0)\n",
    "# read str from txt file\n",
    "with open(\"/Users/mramasub/work/cmr-prompt-chain/cmr-collection-search-api_documentation_minimal.txt\", \"r\") as f:\n",
    "    doc_string = f.read()\n",
    "\n",
    "chain_new = APIChain.from_llm_and_api_docs(llm, doc_string, verbose=True)\n"
   ]
  },
  {
   "cell_type": "code",
   "execution_count": 10,
   "metadata": {},
   "outputs": [
    {
     "ename": "NameError",
     "evalue": "name 'chain_new' is not defined",
     "output_type": "error",
     "traceback": [
      "\u001b[0;31m---------------------------------------------------------------------------\u001b[0m",
      "\u001b[0;31mNameError\u001b[0m                                 Traceback (most recent call last)",
      "Cell \u001b[0;32mIn[10], line 1\u001b[0m\n\u001b[0;32m----> 1\u001b[0m chain_new\u001b[39m.\u001b[39mrun(\u001b[39m'\u001b[39m\u001b[39mHow do I search for collections to monitor wildfires in california region for the year 2012?\u001b[39m\u001b[39m'\u001b[39m)\n",
      "\u001b[0;31mNameError\u001b[0m: name 'chain_new' is not defined"
     ]
    }
   ],
   "source": [
    "chain_new.run('How do I search for collections to monitor wildfires in california region for the year 2012?')"
   ]
  },
  {
   "cell_type": "code",
   "execution_count": 11,
   "metadata": {},
   "outputs": [
    {
     "data": {
      "text/plain": [
       "'\\n\\ntemporal[\\\\]=2022-04-01T00:00:00Z,2023-04-01T00:00:00Z'"
      ]
     },
     "execution_count": 11,
     "metadata": {},
     "output_type": "execute_result"
    }
   ],
   "source": [
    "# from prompting_tools import GCMDKeywordSearchTool, BoundingBoxFinderTool\n",
    "# print(GCMDKeywordSearchTool()('floods'))\n",
    "# print(BoundingBoxFinderTool()('CALIFORNIA'))\n",
    "\n",
    "from chains import DatetimeChain\n",
    "DatetimeChain().run('last year')"
   ]
  }
 ],
 "metadata": {
  "kernelspec": {
   "display_name": "Python 3 (ipykernel)",
   "language": "python",
   "name": "python3"
  },
  "language_info": {
   "codemirror_mode": {
    "name": "ipython",
    "version": 3
   },
   "file_extension": ".py",
   "mimetype": "text/x-python",
   "name": "python",
   "nbconvert_exporter": "python",
   "pygments_lexer": "ipython3",
   "version": "3.9.12"
  }
 },
 "nbformat": 4,
 "nbformat_minor": 2
}
