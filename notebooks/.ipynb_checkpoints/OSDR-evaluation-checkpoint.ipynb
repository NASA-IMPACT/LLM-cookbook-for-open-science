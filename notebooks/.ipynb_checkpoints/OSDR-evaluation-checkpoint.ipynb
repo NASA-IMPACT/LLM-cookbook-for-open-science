{
 "cells": [
  {
   "cell_type": "code",
   "execution_count": 1,
   "id": "0218187e-16be-4d4f-af8f-bf16270f2794",
   "metadata": {},
   "outputs": [],
   "source": [
    "%reload_ext autoreload\n",
    "%autoreload 2"
   ]
  },
  {
   "cell_type": "code",
   "execution_count": 10,
   "id": "9f9a7deb-e1e4-4214-91e6-69e92b132de3",
   "metadata": {},
   "outputs": [],
   "source": [
    "!pip install openpyxl tenacity loguru  python-dotenv rake-nltk seaborn -qq\n",
    "!pip install git+https://git@github.com/NASA-IMPACT/evalem.git@develop -qq"
   ]
  },
  {
   "cell_type": "code",
   "execution_count": 2,
   "id": "a0dcc700-a774-469c-92bd-78a085931103",
   "metadata": {},
   "outputs": [],
   "source": [
    "import ast\n",
    "import glob\n",
    "import json\n",
    "import os\n",
    "import random\n",
    "import re\n",
    "from typing import List"
   ]
  },
  {
   "cell_type": "code",
   "execution_count": 3,
   "id": "e00f4048-be53-4cfa-819e-25ec66a8e98d",
   "metadata": {},
   "outputs": [],
   "source": [
    "from pprint import pprint\n",
    "from IPython.display import display, HTML"
   ]
  },
  {
   "cell_type": "code",
   "execution_count": 4,
   "id": "4ba3bbc0-5572-4af7-a2f4-dd2053b32327",
   "metadata": {},
   "outputs": [],
   "source": [
    "from loguru import logger"
   ]
  },
  {
   "cell_type": "code",
   "execution_count": 5,
   "id": "8754ddab-a661-47c0-98cf-da4a00265f02",
   "metadata": {},
   "outputs": [],
   "source": [
    "import matplotlib.pyplot as plt\n",
    "import pandas as pd\n",
    "import seaborn as sns"
   ]
  },
  {
   "cell_type": "code",
   "execution_count": 6,
   "id": "8f49bd28-5009-43e1-90f6-483ac8f794b6",
   "metadata": {},
   "outputs": [],
   "source": [
    "from dotenv import load_dotenv"
   ]
  },
  {
   "cell_type": "code",
   "execution_count": 7,
   "id": "f5a5d561-792d-49d9-b7fd-f1a8e0185bf3",
   "metadata": {},
   "outputs": [
    {
     "data": {
      "text/plain": [
       "True"
      ]
     },
     "execution_count": 7,
     "metadata": {},
     "output_type": "execute_result"
    }
   ],
   "source": [
    "load_dotenv()"
   ]
  },
  {
   "cell_type": "code",
   "execution_count": 72,
   "id": "276c87f8-95c6-4845-95a2-da00a257205d",
   "metadata": {},
   "outputs": [
    {
     "name": "stdout",
     "output_type": "stream",
     "text": [
      "Archive:  ../data/osdr-eval.zip\n",
      "   creating: ../data/osdr-eval/\n",
      "  inflating: ../data/osdr-eval/responses-gpt-3.5-turbo.csv  \n",
      "  inflating: ../data/osdr-eval/osdr-eval-retrieval-kws.csv  \n",
      "  inflating: ../data/osdr-eval/OSDR_LLM_QA_correctFormat.xlsx  \n",
      "  inflating: ../data/osdr-eval/responses-simplified-gpt-3.5-turbo-rephrased.csv  \n",
      "  inflating: ../data/osdr-eval/osdr-eval-retrieval-semantic.csv  \n"
     ]
    }
   ],
   "source": [
    "!unzip ../data/osdr-eval.zip -d ../data"
   ]
  },
  {
   "cell_type": "markdown",
   "id": "ff194b8d-1240-4489-94e6-bdba80632d79",
   "metadata": {},
   "source": [
    "# Load Validation Data"
   ]
  },
  {
   "cell_type": "code",
   "execution_count": 73,
   "id": "7be67049-2832-4d4e-a413-2cbede699a3e",
   "metadata": {},
   "outputs": [],
   "source": [
    "FILE_PATH = \"../data/osdr-eval/OSDR_LLM_QA_correctFormat.xlsx\""
   ]
  },
  {
   "cell_type": "code",
   "execution_count": 74,
   "id": "d49eb939-2b6b-451f-acaf-78cc9c1b665c",
   "metadata": {},
   "outputs": [],
   "source": [
    "def load_data(path) -> pd.DataFrame:\n",
    "    data = pd.read_excel(path)\n",
    "    data = data.rename(columns={data.columns[0]: 'context'})\n",
    "    return data"
   ]
  },
  {
   "cell_type": "code",
   "execution_count": 75,
   "id": "aec1b9b5-9c05-454e-b178-d47fbdacb1bf",
   "metadata": {},
   "outputs": [],
   "source": [
    "def simplify_columns(df: pd.DataFrame) -> pd.DataFrame:\n",
    "    df = df.copy()\n",
    "    transformed_data = []\n",
    "    for index, row in df.iterrows():\n",
    "        context = row['context']\n",
    "        url = row['URL']\n",
    "        for i in range(1, 6): # Assuming there are 5 question-answer pairs\n",
    "            question = row[f'Question {i}']\n",
    "            answer = row[f'Question {i} Answer']\n",
    "            if question and answer:\n",
    "                transformed_data.append(dict(\n",
    "                    context=context,\n",
    "                    context_hash=abs(hash(context)) % (10 ** 8),\n",
    "                    url=url,\n",
    "                    question=question,\n",
    "                    answer=answer,\n",
    "                ))\n",
    "    df =  pd.DataFrame(transformed_data)\n",
    "    return df.dropna(subset=['question', 'answer'], how='all')"
   ]
  },
  {
   "cell_type": "code",
   "execution_count": 76,
   "id": "464f6e4b-7701-403c-bf30-2286092b8cbd",
   "metadata": {},
   "outputs": [
    {
     "data": {
      "text/html": [
       "<div>\n",
       "<style scoped>\n",
       "    .dataframe tbody tr th:only-of-type {\n",
       "        vertical-align: middle;\n",
       "    }\n",
       "\n",
       "    .dataframe tbody tr th {\n",
       "        vertical-align: top;\n",
       "    }\n",
       "\n",
       "    .dataframe thead th {\n",
       "        text-align: right;\n",
       "    }\n",
       "</style>\n",
       "<table border=\"1\" class=\"dataframe\">\n",
       "  <thead>\n",
       "    <tr style=\"text-align: right;\">\n",
       "      <th></th>\n",
       "      <th>context</th>\n",
       "      <th>URL</th>\n",
       "      <th>Question 1</th>\n",
       "      <th>Question 1 Answer</th>\n",
       "      <th>Question 2</th>\n",
       "      <th>Question 2 Answer</th>\n",
       "      <th>Question 3</th>\n",
       "      <th>Question 3 Answer</th>\n",
       "      <th>Question 4</th>\n",
       "      <th>Question 4 Answer</th>\n",
       "      <th>Question 5</th>\n",
       "      <th>Question 5 Answer</th>\n",
       "    </tr>\n",
       "  </thead>\n",
       "  <tbody>\n",
       "    <tr>\n",
       "      <th>0</th>\n",
       "      <td>Genome-wide transcriptional profiling showed t...</td>\n",
       "      <td>https://sciencediscoveryengine.nasa.gov#/previ...</td>\n",
       "      <td>Where were the gene expression alterations in ...</td>\n",
       "      <td>reducing gravity levels in the International S...</td>\n",
       "      <td>What kind of experiments showed differential r...</td>\n",
       "      <td>simulation experiments on ground testing space...</td>\n",
       "      <td>What is overrepresented in the different exper...</td>\n",
       "      <td>the same GO groups including a large multigene...</td>\n",
       "      <td>what analytical methodology provided integrati...</td>\n",
       "      <td>Self-organizing maps of the Gene Expression Dy...</td>\n",
       "      <td>What are the implications of the findings in t...</td>\n",
       "      <td>The findings indicate that the finely adjusted...</td>\n",
       "    </tr>\n",
       "    <tr>\n",
       "      <th>1</th>\n",
       "      <td>The objective of the Rodent Research-5 (RR-5) ...</td>\n",
       "      <td>https://sciencediscoveryengine.nasa.gov#/previ...</td>\n",
       "      <td>What was the main goal of the Rodent Research-...</td>\n",
       "      <td>to evaluate bone loss in mice during spaceflig...</td>\n",
       "      <td>What type of mice and how old were they when f...</td>\n",
       "      <td>a cohort of forty 30-weeks-old female BALB/cAn...</td>\n",
       "      <td>How many days after launch were the mice treat...</td>\n",
       "      <td>Six days after launch</td>\n",
       "      <td>How was the Earth recovery period for the subj...</td>\n",
       "      <td>Following their return to Earth, the experimen...</td>\n",
       "      <td>What specific type of samples and from which c...</td>\n",
       "      <td>GeneLab received RNA later preserved dorsal sk...</td>\n",
       "    </tr>\n",
       "    <tr>\n",
       "      <th>2</th>\n",
       "      <td>The radiation bystander response is an importa...</td>\n",
       "      <td>https://sciencediscoveryengine.nasa.gov#/previ...</td>\n",
       "      <td>What is a key component of the overall respons...</td>\n",
       "      <td>The radiation bystander response</td>\n",
       "      <td>Which methods were used to measure the bystand...</td>\n",
       "      <td>using chromosomal aberration and micronucleus ...</td>\n",
       "      <td>What was shown to increase chromosomal structu...</td>\n",
       "      <td>depletion or mutation of RAD9</td>\n",
       "      <td>what cellular pathways were altered as a resul...</td>\n",
       "      <td>The depletion of RAD9 caused changes in numero...</td>\n",
       "      <td>How were differences in the activation of tran...</td>\n",
       "      <td>The use of network analysis allowed the discov...</td>\n",
       "    </tr>\n",
       "    <tr>\n",
       "      <th>3</th>\n",
       "      <td>Martian regolith (unconsolidated surface mater...</td>\n",
       "      <td>https://sciencediscoveryengine.nasa.gov#/previ...</td>\n",
       "      <td>What is considered a potential medium for plan...</td>\n",
       "      <td>Martian regolith (unconsolidated surface mater...</td>\n",
       "      <td>What is the level of hydrated magnesium sulfat...</td>\n",
       "      <td>hydrated magnesium sulfate mineral levels in t...</td>\n",
       "      <td>What was characterized in the study to identif...</td>\n",
       "      <td>The early Arabidopsis root transcriptome respo...</td>\n",
       "      <td>how was the genetic comparison approached to d...</td>\n",
       "      <td>A comparative analysis was conducted between t...</td>\n",
       "      <td>What distinctive characteristic does the cax1-...</td>\n",
       "      <td>The cax1-1 mutant line demonstrated relative t...</td>\n",
       "    </tr>\n",
       "    <tr>\n",
       "      <th>4</th>\n",
       "      <td>The objective of the Rodent Research-23 missio...</td>\n",
       "      <td>https://sciencediscoveryengine.nasa.gov#/previ...</td>\n",
       "      <td>What was the objective of the Rodent Research-...</td>\n",
       "      <td>to better understand the effects of spacefligh...</td>\n",
       "      <td>How many mice and of what type were involved i...</td>\n",
       "      <td>twenty male, C57BL/6J, 16-17 weeks-old mice</td>\n",
       "      <td>How long were the mice in the RR-23 study main...</td>\n",
       "      <td>maintained in microgravity for 38 days</td>\n",
       "      <td>What was the procedure followed for the mice f...</td>\n",
       "      <td>The mice, after landing in the Atlantic, were ...</td>\n",
       "      <td>How was RNA extraction and analysis managed fo...</td>\n",
       "      <td>Adrenal glands of the mice were preserved by i...</td>\n",
       "    </tr>\n",
       "  </tbody>\n",
       "</table>\n",
       "</div>"
      ],
      "text/plain": [
       "                                             context  \\\n",
       "0  Genome-wide transcriptional profiling showed t...   \n",
       "1  The objective of the Rodent Research-5 (RR-5) ...   \n",
       "2  The radiation bystander response is an importa...   \n",
       "3  Martian regolith (unconsolidated surface mater...   \n",
       "4  The objective of the Rodent Research-23 missio...   \n",
       "\n",
       "                                                 URL  \\\n",
       "0  https://sciencediscoveryengine.nasa.gov#/previ...   \n",
       "1  https://sciencediscoveryengine.nasa.gov#/previ...   \n",
       "2  https://sciencediscoveryengine.nasa.gov#/previ...   \n",
       "3  https://sciencediscoveryengine.nasa.gov#/previ...   \n",
       "4  https://sciencediscoveryengine.nasa.gov#/previ...   \n",
       "\n",
       "                                          Question 1  \\\n",
       "0  Where were the gene expression alterations in ...   \n",
       "1  What was the main goal of the Rodent Research-...   \n",
       "2  What is a key component of the overall respons...   \n",
       "3  What is considered a potential medium for plan...   \n",
       "4  What was the objective of the Rodent Research-...   \n",
       "\n",
       "                                   Question 1 Answer  \\\n",
       "0  reducing gravity levels in the International S...   \n",
       "1  to evaluate bone loss in mice during spaceflig...   \n",
       "2                   The radiation bystander response   \n",
       "3  Martian regolith (unconsolidated surface mater...   \n",
       "4  to better understand the effects of spacefligh...   \n",
       "\n",
       "                                          Question 2  \\\n",
       "0  What kind of experiments showed differential r...   \n",
       "1  What type of mice and how old were they when f...   \n",
       "2  Which methods were used to measure the bystand...   \n",
       "3  What is the level of hydrated magnesium sulfat...   \n",
       "4  How many mice and of what type were involved i...   \n",
       "\n",
       "                                   Question 2 Answer  \\\n",
       "0  simulation experiments on ground testing space...   \n",
       "1  a cohort of forty 30-weeks-old female BALB/cAn...   \n",
       "2  using chromosomal aberration and micronucleus ...   \n",
       "3  hydrated magnesium sulfate mineral levels in t...   \n",
       "4        twenty male, C57BL/6J, 16-17 weeks-old mice   \n",
       "\n",
       "                                          Question 3  \\\n",
       "0  What is overrepresented in the different exper...   \n",
       "1  How many days after launch were the mice treat...   \n",
       "2  What was shown to increase chromosomal structu...   \n",
       "3  What was characterized in the study to identif...   \n",
       "4  How long were the mice in the RR-23 study main...   \n",
       "\n",
       "                                   Question 3 Answer  \\\n",
       "0  the same GO groups including a large multigene...   \n",
       "1                              Six days after launch   \n",
       "2                      depletion or mutation of RAD9   \n",
       "3  The early Arabidopsis root transcriptome respo...   \n",
       "4             maintained in microgravity for 38 days   \n",
       "\n",
       "                                          Question 4  \\\n",
       "0  what analytical methodology provided integrati...   \n",
       "1  How was the Earth recovery period for the subj...   \n",
       "2  what cellular pathways were altered as a resul...   \n",
       "3  how was the genetic comparison approached to d...   \n",
       "4  What was the procedure followed for the mice f...   \n",
       "\n",
       "                                   Question 4 Answer  \\\n",
       "0  Self-organizing maps of the Gene Expression Dy...   \n",
       "1  Following their return to Earth, the experimen...   \n",
       "2  The depletion of RAD9 caused changes in numero...   \n",
       "3  A comparative analysis was conducted between t...   \n",
       "4  The mice, after landing in the Atlantic, were ...   \n",
       "\n",
       "                                          Question 5  \\\n",
       "0  What are the implications of the findings in t...   \n",
       "1  What specific type of samples and from which c...   \n",
       "2  How were differences in the activation of tran...   \n",
       "3  What distinctive characteristic does the cax1-...   \n",
       "4  How was RNA extraction and analysis managed fo...   \n",
       "\n",
       "                                   Question 5 Answer  \n",
       "0  The findings indicate that the finely adjusted...  \n",
       "1  GeneLab received RNA later preserved dorsal sk...  \n",
       "2  The use of network analysis allowed the discov...  \n",
       "3  The cax1-1 mutant line demonstrated relative t...  \n",
       "4  Adrenal glands of the mice were preserved by i...  "
      ]
     },
     "execution_count": 76,
     "metadata": {},
     "output_type": "execute_result"
    }
   ],
   "source": [
    "data = load_data(FILE_PATH)\n",
    "data.head()"
   ]
  },
  {
   "cell_type": "markdown",
   "id": "91c44192-e4d2-480e-9bfd-08f765b80822",
   "metadata": {},
   "source": [
    "## Data Peek\n",
    "\n",
    "Here we pick a sample row to inspect the nature of data.\n",
    "- What each column looks like"
   ]
  },
  {
   "cell_type": "code",
   "execution_count": 77,
   "id": "0fdfb6da-a192-4188-8ff6-fc0e895c5a0b",
   "metadata": {},
   "outputs": [],
   "source": [
    "def peek_data(data: pd.DataFrame, row_index: int = 0):\n",
    "    print(f\"Row = {row_index}\")\n",
    "    row = data.iloc[row_index]\n",
    "    for col, value in zip(data.columns, row):\n",
    "        display(HTML(f\"<h4>{col}</h4>\"))\n",
    "        print(value)\n",
    "        display(HTML(\"<hr/>\"))"
   ]
  },
  {
   "cell_type": "code",
   "execution_count": 78,
   "id": "7f75d398-58ce-4b4e-acc6-3f08a7028074",
   "metadata": {},
   "outputs": [
    {
     "data": {
      "text/plain": [
       "(60, 12)"
      ]
     },
     "execution_count": 78,
     "metadata": {},
     "output_type": "execute_result"
    }
   ],
   "source": [
    "data.shape"
   ]
  },
  {
   "cell_type": "code",
   "execution_count": 79,
   "id": "194713b7-dd62-46f2-a2c5-84458dbca3dd",
   "metadata": {},
   "outputs": [
    {
     "name": "stdout",
     "output_type": "stream",
     "text": [
      "Row = 0\n"
     ]
    },
    {
     "data": {
      "text/html": [
       "<h4>context</h4>"
      ],
      "text/plain": [
       "<IPython.core.display.HTML object>"
      ]
     },
     "metadata": {},
     "output_type": "display_data"
    },
    {
     "name": "stdout",
     "output_type": "stream",
     "text": [
      "Genome-wide transcriptional profiling showed that reducing gravity levels in the International Space Station (ISS) causes important alterations in Drosophila gene expression intimately linked to imposed spaceflight-related environmental constrains during Drosophila metamorphosis. However, simulation experiments on ground testing space-related environmental constraints, show differential responses. Curiously, although particular genes are not common in the different experiments, the same GO groups including a large multigene family related with behavior, stress response and organogenesis are over represented in them. A global and integrative analysis using the gene expression dynamics inspector (GEDI) self-organizing maps, reveals different degrees in the responses of the transcriptome when using different environmental conditions or microgravity/hypergravity simulation devices. These results suggest that the transcriptome is finely tuned to normal gravity. In regular environmental conditions the alteration of this constant parameter on Earth can have mild effects on gene expression but when environmental conditions are far from optimal, the gene expression is much more intense and consistent effects.\n"
     ]
    },
    {
     "data": {
      "text/html": [
       "<hr/>"
      ],
      "text/plain": [
       "<IPython.core.display.HTML object>"
      ]
     },
     "metadata": {},
     "output_type": "display_data"
    },
    {
     "data": {
      "text/html": [
       "<h4>URL</h4>"
      ],
      "text/plain": [
       "<IPython.core.display.HTML object>"
      ]
     },
     "metadata": {},
     "output_type": "display_data"
    },
    {
     "name": "stdout",
     "output_type": "stream",
     "text": [
      "https://sciencediscoveryengine.nasa.gov#/preview?id=%2FSDE%2Fgenelab_lsda%2F%7Chttps:%2F%2Fosdr.nasa.gov%2Fbio%2Frepo%2Fdata%2Fstudies%2FOSD-70%2F&query=%7B%22name%22:%22query-smd-primary%22,%22scope%22:%22All%22,%22text%22:%22osd-70%22%7D\n"
     ]
    },
    {
     "data": {
      "text/html": [
       "<hr/>"
      ],
      "text/plain": [
       "<IPython.core.display.HTML object>"
      ]
     },
     "metadata": {},
     "output_type": "display_data"
    },
    {
     "data": {
      "text/html": [
       "<h4>Question 1</h4>"
      ],
      "text/plain": [
       "<IPython.core.display.HTML object>"
      ]
     },
     "metadata": {},
     "output_type": "display_data"
    },
    {
     "name": "stdout",
     "output_type": "stream",
     "text": [
      "Where were the gene expression alterations in Drosophila observed during their metamorphosis?\n"
     ]
    },
    {
     "data": {
      "text/html": [
       "<hr/>"
      ],
      "text/plain": [
       "<IPython.core.display.HTML object>"
      ]
     },
     "metadata": {},
     "output_type": "display_data"
    },
    {
     "data": {
      "text/html": [
       "<h4>Question 1 Answer</h4>"
      ],
      "text/plain": [
       "<IPython.core.display.HTML object>"
      ]
     },
     "metadata": {},
     "output_type": "display_data"
    },
    {
     "name": "stdout",
     "output_type": "stream",
     "text": [
      "reducing gravity levels in the International Space Station (ISS)\n"
     ]
    },
    {
     "data": {
      "text/html": [
       "<hr/>"
      ],
      "text/plain": [
       "<IPython.core.display.HTML object>"
      ]
     },
     "metadata": {},
     "output_type": "display_data"
    },
    {
     "data": {
      "text/html": [
       "<h4>Question 2</h4>"
      ],
      "text/plain": [
       "<IPython.core.display.HTML object>"
      ]
     },
     "metadata": {},
     "output_type": "display_data"
    },
    {
     "name": "stdout",
     "output_type": "stream",
     "text": [
      "What kind of experiments showed differential responses in gene expression?\n"
     ]
    },
    {
     "data": {
      "text/html": [
       "<hr/>"
      ],
      "text/plain": [
       "<IPython.core.display.HTML object>"
      ]
     },
     "metadata": {},
     "output_type": "display_data"
    },
    {
     "data": {
      "text/html": [
       "<h4>Question 2 Answer</h4>"
      ],
      "text/plain": [
       "<IPython.core.display.HTML object>"
      ]
     },
     "metadata": {},
     "output_type": "display_data"
    },
    {
     "name": "stdout",
     "output_type": "stream",
     "text": [
      "simulation experiments on ground testing space-related environmental constraints\n"
     ]
    },
    {
     "data": {
      "text/html": [
       "<hr/>"
      ],
      "text/plain": [
       "<IPython.core.display.HTML object>"
      ]
     },
     "metadata": {},
     "output_type": "display_data"
    },
    {
     "data": {
      "text/html": [
       "<h4>Question 3</h4>"
      ],
      "text/plain": [
       "<IPython.core.display.HTML object>"
      ]
     },
     "metadata": {},
     "output_type": "display_data"
    },
    {
     "name": "stdout",
     "output_type": "stream",
     "text": [
      "What is overrepresented in the different experiments despite particular genes not being common?\n"
     ]
    },
    {
     "data": {
      "text/html": [
       "<hr/>"
      ],
      "text/plain": [
       "<IPython.core.display.HTML object>"
      ]
     },
     "metadata": {},
     "output_type": "display_data"
    },
    {
     "data": {
      "text/html": [
       "<h4>Question 3 Answer</h4>"
      ],
      "text/plain": [
       "<IPython.core.display.HTML object>"
      ]
     },
     "metadata": {},
     "output_type": "display_data"
    },
    {
     "name": "stdout",
     "output_type": "stream",
     "text": [
      "the same GO groups including a large multigene family related with behavior, stress response and organogenesis\n"
     ]
    },
    {
     "data": {
      "text/html": [
       "<hr/>"
      ],
      "text/plain": [
       "<IPython.core.display.HTML object>"
      ]
     },
     "metadata": {},
     "output_type": "display_data"
    },
    {
     "data": {
      "text/html": [
       "<h4>Question 4</h4>"
      ],
      "text/plain": [
       "<IPython.core.display.HTML object>"
      ]
     },
     "metadata": {},
     "output_type": "display_data"
    },
    {
     "name": "stdout",
     "output_type": "stream",
     "text": [
      "what analytical methodology provided integrative insights on transcriptome variations?\n"
     ]
    },
    {
     "data": {
      "text/html": [
       "<hr/>"
      ],
      "text/plain": [
       "<IPython.core.display.HTML object>"
      ]
     },
     "metadata": {},
     "output_type": "display_data"
    },
    {
     "data": {
      "text/html": [
       "<h4>Question 4 Answer</h4>"
      ],
      "text/plain": [
       "<IPython.core.display.HTML object>"
      ]
     },
     "metadata": {},
     "output_type": "display_data"
    },
    {
     "name": "stdout",
     "output_type": "stream",
     "text": [
      "Self-organizing maps of the Gene Expression Dynamics Inspector (GEDI) were utilized to reveal transcriptome variations under various environmental conditions or microgravity/hypergravity simulation devices.\n"
     ]
    },
    {
     "data": {
      "text/html": [
       "<hr/>"
      ],
      "text/plain": [
       "<IPython.core.display.HTML object>"
      ]
     },
     "metadata": {},
     "output_type": "display_data"
    },
    {
     "data": {
      "text/html": [
       "<h4>Question 5</h4>"
      ],
      "text/plain": [
       "<IPython.core.display.HTML object>"
      ]
     },
     "metadata": {},
     "output_type": "display_data"
    },
    {
     "name": "stdout",
     "output_type": "stream",
     "text": [
      "What are the implications of the findings in terms of the tuning of the transcriptome to Earth's gravity and its variations in extreme environmental conditions?\n"
     ]
    },
    {
     "data": {
      "text/html": [
       "<hr/>"
      ],
      "text/plain": [
       "<IPython.core.display.HTML object>"
      ]
     },
     "metadata": {},
     "output_type": "display_data"
    },
    {
     "data": {
      "text/html": [
       "<h4>Question 5 Answer</h4>"
      ],
      "text/plain": [
       "<IPython.core.display.HTML object>"
      ]
     },
     "metadata": {},
     "output_type": "display_data"
    },
    {
     "name": "stdout",
     "output_type": "stream",
     "text": [
      "The findings indicate that the finely adjusted transcriptome is tuned to normal Earth gravity, showing a more marked and coherent genetic response when environmental conditions significantly deviate from optimal.\n"
     ]
    },
    {
     "data": {
      "text/html": [
       "<hr/>"
      ],
      "text/plain": [
       "<IPython.core.display.HTML object>"
      ]
     },
     "metadata": {},
     "output_type": "display_data"
    }
   ],
   "source": [
    "# index = random.randint(0, len(data))\n",
    "peek_data(data, row_index=0)"
   ]
  },
  {
   "cell_type": "markdown",
   "id": "6d907c7a-b5dd-4021-b3e6-f2559ad0999d",
   "metadata": {},
   "source": [
    "## Simplify Data\n",
    "\n",
    "Here we separate out individual question/answer pair into separate row for each context.\n",
    "\n",
    "\n",
    "This is used for simplifying the validation process so that each row would have consistent view of data."
   ]
  },
  {
   "cell_type": "code",
   "execution_count": 80,
   "id": "9e51eb58-ad91-485a-8eae-a29e409c660d",
   "metadata": {},
   "outputs": [
    {
     "data": {
      "text/html": [
       "<div>\n",
       "<style scoped>\n",
       "    .dataframe tbody tr th:only-of-type {\n",
       "        vertical-align: middle;\n",
       "    }\n",
       "\n",
       "    .dataframe tbody tr th {\n",
       "        vertical-align: top;\n",
       "    }\n",
       "\n",
       "    .dataframe thead th {\n",
       "        text-align: right;\n",
       "    }\n",
       "</style>\n",
       "<table border=\"1\" class=\"dataframe\">\n",
       "  <thead>\n",
       "    <tr style=\"text-align: right;\">\n",
       "      <th></th>\n",
       "      <th>context</th>\n",
       "      <th>context_hash</th>\n",
       "      <th>url</th>\n",
       "      <th>question</th>\n",
       "      <th>answer</th>\n",
       "    </tr>\n",
       "  </thead>\n",
       "  <tbody>\n",
       "    <tr>\n",
       "      <th>0</th>\n",
       "      <td>Genome-wide transcriptional profiling showed t...</td>\n",
       "      <td>88473883</td>\n",
       "      <td>https://sciencediscoveryengine.nasa.gov#/previ...</td>\n",
       "      <td>Where were the gene expression alterations in ...</td>\n",
       "      <td>reducing gravity levels in the International S...</td>\n",
       "    </tr>\n",
       "    <tr>\n",
       "      <th>1</th>\n",
       "      <td>Genome-wide transcriptional profiling showed t...</td>\n",
       "      <td>88473883</td>\n",
       "      <td>https://sciencediscoveryengine.nasa.gov#/previ...</td>\n",
       "      <td>What kind of experiments showed differential r...</td>\n",
       "      <td>simulation experiments on ground testing space...</td>\n",
       "    </tr>\n",
       "    <tr>\n",
       "      <th>2</th>\n",
       "      <td>Genome-wide transcriptional profiling showed t...</td>\n",
       "      <td>88473883</td>\n",
       "      <td>https://sciencediscoveryengine.nasa.gov#/previ...</td>\n",
       "      <td>What is overrepresented in the different exper...</td>\n",
       "      <td>the same GO groups including a large multigene...</td>\n",
       "    </tr>\n",
       "    <tr>\n",
       "      <th>3</th>\n",
       "      <td>Genome-wide transcriptional profiling showed t...</td>\n",
       "      <td>88473883</td>\n",
       "      <td>https://sciencediscoveryengine.nasa.gov#/previ...</td>\n",
       "      <td>what analytical methodology provided integrati...</td>\n",
       "      <td>Self-organizing maps of the Gene Expression Dy...</td>\n",
       "    </tr>\n",
       "    <tr>\n",
       "      <th>4</th>\n",
       "      <td>Genome-wide transcriptional profiling showed t...</td>\n",
       "      <td>88473883</td>\n",
       "      <td>https://sciencediscoveryengine.nasa.gov#/previ...</td>\n",
       "      <td>What are the implications of the findings in t...</td>\n",
       "      <td>The findings indicate that the finely adjusted...</td>\n",
       "    </tr>\n",
       "    <tr>\n",
       "      <th>5</th>\n",
       "      <td>The objective of the Rodent Research-5 (RR-5) ...</td>\n",
       "      <td>43632810</td>\n",
       "      <td>https://sciencediscoveryengine.nasa.gov#/previ...</td>\n",
       "      <td>What was the main goal of the Rodent Research-...</td>\n",
       "      <td>to evaluate bone loss in mice during spaceflig...</td>\n",
       "    </tr>\n",
       "    <tr>\n",
       "      <th>6</th>\n",
       "      <td>The objective of the Rodent Research-5 (RR-5) ...</td>\n",
       "      <td>43632810</td>\n",
       "      <td>https://sciencediscoveryengine.nasa.gov#/previ...</td>\n",
       "      <td>What type of mice and how old were they when f...</td>\n",
       "      <td>a cohort of forty 30-weeks-old female BALB/cAn...</td>\n",
       "    </tr>\n",
       "    <tr>\n",
       "      <th>7</th>\n",
       "      <td>The objective of the Rodent Research-5 (RR-5) ...</td>\n",
       "      <td>43632810</td>\n",
       "      <td>https://sciencediscoveryengine.nasa.gov#/previ...</td>\n",
       "      <td>How many days after launch were the mice treat...</td>\n",
       "      <td>Six days after launch</td>\n",
       "    </tr>\n",
       "    <tr>\n",
       "      <th>8</th>\n",
       "      <td>The objective of the Rodent Research-5 (RR-5) ...</td>\n",
       "      <td>43632810</td>\n",
       "      <td>https://sciencediscoveryengine.nasa.gov#/previ...</td>\n",
       "      <td>How was the Earth recovery period for the subj...</td>\n",
       "      <td>Following their return to Earth, the experimen...</td>\n",
       "    </tr>\n",
       "    <tr>\n",
       "      <th>9</th>\n",
       "      <td>The objective of the Rodent Research-5 (RR-5) ...</td>\n",
       "      <td>43632810</td>\n",
       "      <td>https://sciencediscoveryengine.nasa.gov#/previ...</td>\n",
       "      <td>What specific type of samples and from which c...</td>\n",
       "      <td>GeneLab received RNA later preserved dorsal sk...</td>\n",
       "    </tr>\n",
       "  </tbody>\n",
       "</table>\n",
       "</div>"
      ],
      "text/plain": [
       "                                             context  context_hash  \\\n",
       "0  Genome-wide transcriptional profiling showed t...      88473883   \n",
       "1  Genome-wide transcriptional profiling showed t...      88473883   \n",
       "2  Genome-wide transcriptional profiling showed t...      88473883   \n",
       "3  Genome-wide transcriptional profiling showed t...      88473883   \n",
       "4  Genome-wide transcriptional profiling showed t...      88473883   \n",
       "5  The objective of the Rodent Research-5 (RR-5) ...      43632810   \n",
       "6  The objective of the Rodent Research-5 (RR-5) ...      43632810   \n",
       "7  The objective of the Rodent Research-5 (RR-5) ...      43632810   \n",
       "8  The objective of the Rodent Research-5 (RR-5) ...      43632810   \n",
       "9  The objective of the Rodent Research-5 (RR-5) ...      43632810   \n",
       "\n",
       "                                                 url  \\\n",
       "0  https://sciencediscoveryengine.nasa.gov#/previ...   \n",
       "1  https://sciencediscoveryengine.nasa.gov#/previ...   \n",
       "2  https://sciencediscoveryengine.nasa.gov#/previ...   \n",
       "3  https://sciencediscoveryengine.nasa.gov#/previ...   \n",
       "4  https://sciencediscoveryengine.nasa.gov#/previ...   \n",
       "5  https://sciencediscoveryengine.nasa.gov#/previ...   \n",
       "6  https://sciencediscoveryengine.nasa.gov#/previ...   \n",
       "7  https://sciencediscoveryengine.nasa.gov#/previ...   \n",
       "8  https://sciencediscoveryengine.nasa.gov#/previ...   \n",
       "9  https://sciencediscoveryengine.nasa.gov#/previ...   \n",
       "\n",
       "                                            question  \\\n",
       "0  Where were the gene expression alterations in ...   \n",
       "1  What kind of experiments showed differential r...   \n",
       "2  What is overrepresented in the different exper...   \n",
       "3  what analytical methodology provided integrati...   \n",
       "4  What are the implications of the findings in t...   \n",
       "5  What was the main goal of the Rodent Research-...   \n",
       "6  What type of mice and how old were they when f...   \n",
       "7  How many days after launch were the mice treat...   \n",
       "8  How was the Earth recovery period for the subj...   \n",
       "9  What specific type of samples and from which c...   \n",
       "\n",
       "                                              answer  \n",
       "0  reducing gravity levels in the International S...  \n",
       "1  simulation experiments on ground testing space...  \n",
       "2  the same GO groups including a large multigene...  \n",
       "3  Self-organizing maps of the Gene Expression Dy...  \n",
       "4  The findings indicate that the finely adjusted...  \n",
       "5  to evaluate bone loss in mice during spaceflig...  \n",
       "6  a cohort of forty 30-weeks-old female BALB/cAn...  \n",
       "7                              Six days after launch  \n",
       "8  Following their return to Earth, the experimen...  \n",
       "9  GeneLab received RNA later preserved dorsal sk...  "
      ]
     },
     "execution_count": 80,
     "metadata": {},
     "output_type": "execute_result"
    }
   ],
   "source": [
    "data = simplify_columns(data)\n",
    "data.head(10)"
   ]
  },
  {
   "cell_type": "code",
   "execution_count": 81,
   "id": "78a5cc46-2659-4b89-9cf0-f3fa7118fbbe",
   "metadata": {},
   "outputs": [
    {
     "data": {
      "text/plain": [
       "(295, 5)"
      ]
     },
     "execution_count": 81,
     "metadata": {},
     "output_type": "execute_result"
    }
   ],
   "source": [
    "data.shape"
   ]
  },
  {
   "cell_type": "code",
   "execution_count": 82,
   "id": "8b3b805c-a5b2-46a1-b6e9-18acbcca0939",
   "metadata": {},
   "outputs": [
    {
     "name": "stdout",
     "output_type": "stream",
     "text": [
      "Row = 0\n"
     ]
    },
    {
     "data": {
      "text/html": [
       "<h4>context</h4>"
      ],
      "text/plain": [
       "<IPython.core.display.HTML object>"
      ]
     },
     "metadata": {},
     "output_type": "display_data"
    },
    {
     "name": "stdout",
     "output_type": "stream",
     "text": [
      "Genome-wide transcriptional profiling showed that reducing gravity levels in the International Space Station (ISS) causes important alterations in Drosophila gene expression intimately linked to imposed spaceflight-related environmental constrains during Drosophila metamorphosis. However, simulation experiments on ground testing space-related environmental constraints, show differential responses. Curiously, although particular genes are not common in the different experiments, the same GO groups including a large multigene family related with behavior, stress response and organogenesis are over represented in them. A global and integrative analysis using the gene expression dynamics inspector (GEDI) self-organizing maps, reveals different degrees in the responses of the transcriptome when using different environmental conditions or microgravity/hypergravity simulation devices. These results suggest that the transcriptome is finely tuned to normal gravity. In regular environmental conditions the alteration of this constant parameter on Earth can have mild effects on gene expression but when environmental conditions are far from optimal, the gene expression is much more intense and consistent effects.\n"
     ]
    },
    {
     "data": {
      "text/html": [
       "<hr/>"
      ],
      "text/plain": [
       "<IPython.core.display.HTML object>"
      ]
     },
     "metadata": {},
     "output_type": "display_data"
    },
    {
     "data": {
      "text/html": [
       "<h4>context_hash</h4>"
      ],
      "text/plain": [
       "<IPython.core.display.HTML object>"
      ]
     },
     "metadata": {},
     "output_type": "display_data"
    },
    {
     "name": "stdout",
     "output_type": "stream",
     "text": [
      "88473883\n"
     ]
    },
    {
     "data": {
      "text/html": [
       "<hr/>"
      ],
      "text/plain": [
       "<IPython.core.display.HTML object>"
      ]
     },
     "metadata": {},
     "output_type": "display_data"
    },
    {
     "data": {
      "text/html": [
       "<h4>url</h4>"
      ],
      "text/plain": [
       "<IPython.core.display.HTML object>"
      ]
     },
     "metadata": {},
     "output_type": "display_data"
    },
    {
     "name": "stdout",
     "output_type": "stream",
     "text": [
      "https://sciencediscoveryengine.nasa.gov#/preview?id=%2FSDE%2Fgenelab_lsda%2F%7Chttps:%2F%2Fosdr.nasa.gov%2Fbio%2Frepo%2Fdata%2Fstudies%2FOSD-70%2F&query=%7B%22name%22:%22query-smd-primary%22,%22scope%22:%22All%22,%22text%22:%22osd-70%22%7D\n"
     ]
    },
    {
     "data": {
      "text/html": [
       "<hr/>"
      ],
      "text/plain": [
       "<IPython.core.display.HTML object>"
      ]
     },
     "metadata": {},
     "output_type": "display_data"
    },
    {
     "data": {
      "text/html": [
       "<h4>question</h4>"
      ],
      "text/plain": [
       "<IPython.core.display.HTML object>"
      ]
     },
     "metadata": {},
     "output_type": "display_data"
    },
    {
     "name": "stdout",
     "output_type": "stream",
     "text": [
      "Where were the gene expression alterations in Drosophila observed during their metamorphosis?\n"
     ]
    },
    {
     "data": {
      "text/html": [
       "<hr/>"
      ],
      "text/plain": [
       "<IPython.core.display.HTML object>"
      ]
     },
     "metadata": {},
     "output_type": "display_data"
    },
    {
     "data": {
      "text/html": [
       "<h4>answer</h4>"
      ],
      "text/plain": [
       "<IPython.core.display.HTML object>"
      ]
     },
     "metadata": {},
     "output_type": "display_data"
    },
    {
     "name": "stdout",
     "output_type": "stream",
     "text": [
      "reducing gravity levels in the International Space Station (ISS)\n"
     ]
    },
    {
     "data": {
      "text/html": [
       "<hr/>"
      ],
      "text/plain": [
       "<IPython.core.display.HTML object>"
      ]
     },
     "metadata": {},
     "output_type": "display_data"
    }
   ],
   "source": [
    "peek_data(data, row_index=0)"
   ]
  },
  {
   "cell_type": "code",
   "execution_count": 83,
   "id": "16d87194-9768-4015-8103-6bfc2d5e89e6",
   "metadata": {},
   "outputs": [
    {
     "name": "stdout",
     "output_type": "stream",
     "text": [
      "Row = 1\n"
     ]
    },
    {
     "data": {
      "text/html": [
       "<h4>context</h4>"
      ],
      "text/plain": [
       "<IPython.core.display.HTML object>"
      ]
     },
     "metadata": {},
     "output_type": "display_data"
    },
    {
     "name": "stdout",
     "output_type": "stream",
     "text": [
      "Genome-wide transcriptional profiling showed that reducing gravity levels in the International Space Station (ISS) causes important alterations in Drosophila gene expression intimately linked to imposed spaceflight-related environmental constrains during Drosophila metamorphosis. However, simulation experiments on ground testing space-related environmental constraints, show differential responses. Curiously, although particular genes are not common in the different experiments, the same GO groups including a large multigene family related with behavior, stress response and organogenesis are over represented in them. A global and integrative analysis using the gene expression dynamics inspector (GEDI) self-organizing maps, reveals different degrees in the responses of the transcriptome when using different environmental conditions or microgravity/hypergravity simulation devices. These results suggest that the transcriptome is finely tuned to normal gravity. In regular environmental conditions the alteration of this constant parameter on Earth can have mild effects on gene expression but when environmental conditions are far from optimal, the gene expression is much more intense and consistent effects.\n"
     ]
    },
    {
     "data": {
      "text/html": [
       "<hr/>"
      ],
      "text/plain": [
       "<IPython.core.display.HTML object>"
      ]
     },
     "metadata": {},
     "output_type": "display_data"
    },
    {
     "data": {
      "text/html": [
       "<h4>context_hash</h4>"
      ],
      "text/plain": [
       "<IPython.core.display.HTML object>"
      ]
     },
     "metadata": {},
     "output_type": "display_data"
    },
    {
     "name": "stdout",
     "output_type": "stream",
     "text": [
      "88473883\n"
     ]
    },
    {
     "data": {
      "text/html": [
       "<hr/>"
      ],
      "text/plain": [
       "<IPython.core.display.HTML object>"
      ]
     },
     "metadata": {},
     "output_type": "display_data"
    },
    {
     "data": {
      "text/html": [
       "<h4>url</h4>"
      ],
      "text/plain": [
       "<IPython.core.display.HTML object>"
      ]
     },
     "metadata": {},
     "output_type": "display_data"
    },
    {
     "name": "stdout",
     "output_type": "stream",
     "text": [
      "https://sciencediscoveryengine.nasa.gov#/preview?id=%2FSDE%2Fgenelab_lsda%2F%7Chttps:%2F%2Fosdr.nasa.gov%2Fbio%2Frepo%2Fdata%2Fstudies%2FOSD-70%2F&query=%7B%22name%22:%22query-smd-primary%22,%22scope%22:%22All%22,%22text%22:%22osd-70%22%7D\n"
     ]
    },
    {
     "data": {
      "text/html": [
       "<hr/>"
      ],
      "text/plain": [
       "<IPython.core.display.HTML object>"
      ]
     },
     "metadata": {},
     "output_type": "display_data"
    },
    {
     "data": {
      "text/html": [
       "<h4>question</h4>"
      ],
      "text/plain": [
       "<IPython.core.display.HTML object>"
      ]
     },
     "metadata": {},
     "output_type": "display_data"
    },
    {
     "name": "stdout",
     "output_type": "stream",
     "text": [
      "What kind of experiments showed differential responses in gene expression?\n"
     ]
    },
    {
     "data": {
      "text/html": [
       "<hr/>"
      ],
      "text/plain": [
       "<IPython.core.display.HTML object>"
      ]
     },
     "metadata": {},
     "output_type": "display_data"
    },
    {
     "data": {
      "text/html": [
       "<h4>answer</h4>"
      ],
      "text/plain": [
       "<IPython.core.display.HTML object>"
      ]
     },
     "metadata": {},
     "output_type": "display_data"
    },
    {
     "name": "stdout",
     "output_type": "stream",
     "text": [
      "simulation experiments on ground testing space-related environmental constraints\n"
     ]
    },
    {
     "data": {
      "text/html": [
       "<hr/>"
      ],
      "text/plain": [
       "<IPython.core.display.HTML object>"
      ]
     },
     "metadata": {},
     "output_type": "display_data"
    }
   ],
   "source": [
    "peek_data(data, row_index=1)"
   ]
  },
  {
   "cell_type": "markdown",
   "id": "bee52cc4-5257-47d5-9141-a82ac02ae9e2",
   "metadata": {},
   "source": [
    "# promptlab \n",
    "\n",
    "\n",
    "**promptlab** provides a programmatic approach to interact with the bot via its REST API.\n",
    "Specificially, the `/process/` endpoint can process any query and generate the respond accordingly.\n",
    "https://api.promptlab.nasa-impact.net/api/v1/process/\n",
    "\n",
    "We can send a request to the API with the query/question and get the response.\n",
    "\n",
    "Here, the `FlowRunner` class abstracts everything. Its `.run(...)` method processes the query which:\n",
    "- Takes in a query string\n",
    "- Returns a result json/dictionary\n",
    "\n",
    "The result from the API tentatively gives us following information:\n",
    "\n",
    "- *question* : input question fed into the bot\n",
    "- *answer* : generated answer based on retrieved contexts\n",
    "- *retrieved contexts* : List of **top-k** contexts retrieved by the RAG system"
   ]
  },
  {
   "cell_type": "markdown",
   "id": "783bcbf4-b439-4045-b12f-80c4f5f545e0",
   "metadata": {},
   "source": [
    "## setup flow processors"
   ]
  },
  {
   "cell_type": "code",
   "execution_count": 84,
   "id": "9b91d48d-1c8b-4572-a5f8-b1f04cca610b",
   "metadata": {},
   "outputs": [],
   "source": [
    "import requests\n",
    "from typing import Optional, Union\n",
    "import urllib.parse"
   ]
  },
  {
   "cell_type": "code",
   "execution_count": 85,
   "id": "bd72e375-e9e6-438a-b5b0-ceb4d53d8eab",
   "metadata": {},
   "outputs": [],
   "source": [
    "from loguru import logger"
   ]
  },
  {
   "cell_type": "code",
   "execution_count": 86,
   "id": "3822fbeb-a9f7-4550-9411-85d1b24f33b8",
   "metadata": {},
   "outputs": [],
   "source": [
    "from tenacity import retry, retry_if_result, stop_after_attempt, wait_fixed, retry_if_exception, retry_if_exception_type"
   ]
  },
  {
   "cell_type": "code",
   "execution_count": 87,
   "id": "b630a0a7-9552-483b-aaa2-ed1f5ac194fd",
   "metadata": {},
   "outputs": [],
   "source": [
    "# Setup the base URL to point to the production\n",
    "BASE_API_URL = \"https://api.promptlab.nasa-impact.net/api/v1/process/\"\n",
    "\n",
    "# Setup api key to authenticate\n",
    "\n",
    "PROMPTLAB_API_KEY = os.environ[\"PROMPTLAB_API_KEY\"]\n",
    "assert PROMPTLAB_API_KEY"
   ]
  },
  {
   "cell_type": "code",
   "execution_count": 29,
   "id": "4027554b-6321-4c7f-bd63-edfca390c7e1",
   "metadata": {},
   "outputs": [],
   "source": [
    "# tweaks for the OSDR bot flow\n",
    "TWEAKS = {\n",
    "  \"ConversationalRetrievalChain-83vns\": {},\n",
    "  \"ChatOpenAI-gsfUD\": {\"model\": \"gpt-3.5-turbo\"},\n",
    "  \"ConversationBufferMemory-z2ZqE\": {},\n",
    "  \"Sinequa-Z8S73\": {}\n",
    "}\n",
    "\n",
    "# flow id of the OSDR bot in promptlab that is used for QA programmatically\n",
    "FLOW_ID = \"1edbe0f9-d7ff-4c2a-a371-5f6312964f05\""
   ]
  },
  {
   "cell_type": "code",
   "execution_count": 88,
   "id": "cdc7b670-02a4-4974-ab57-3b7d0ac9baf0",
   "metadata": {},
   "outputs": [],
   "source": [
    "class FlowRunner:\n",
    "    def __init__(self, base_url: str, api_key: str, debug:bool = False) -> None:\n",
    "        self.base_url = base_url\n",
    "        self.api_key = api_key\n",
    "        self.debug=bool(debug)\n",
    "\n",
    "    def run_flow(\n",
    "        self,\n",
    "        inputs: dict,\n",
    "        flow_id: str,\n",
    "        tweaks: Optional[dict] = None,\n",
    "    ) -> dict:\n",
    "        \"\"\"\n",
    "        Run a flow with a given message and optional tweaks.\n",
    "    \n",
    "        :param message: The message to send to the flow\n",
    "        :param flow_id: The ID of the flow to run\n",
    "        :param tweaks: Optional tweaks to customize the flow\n",
    "        :return: The JSON response from the flow\n",
    "        \"\"\"\n",
    "        api_url = urllib.parse.urljoin(self.base_url, flow_id)\n",
    "        if self.debug:\n",
    "            logger.debug(f\"URL = {api_url}\")\n",
    "\n",
    "        api_key = self.api_key\n",
    "        payload = {\"inputs\": inputs}\n",
    "        headers = None\n",
    "        if tweaks:\n",
    "            payload[\"tweaks\"] = tweaks\n",
    "        if api_key:\n",
    "            headers = {\"x-api-key\": api_key}\n",
    "        response = requests.post(api_url, json=payload, headers=headers)\n",
    "        if self.debug:\n",
    "            logger.debug(f\"response = {response}\")\n",
    "            logger.debug(f\"status code = {response.status_code}\")\n",
    "        if response.status_code != 200:\n",
    "            raise requests.exceptions.HTTPError(f\"Error: {response.status_code}\")\n",
    "        return response.json()\n",
    "\n",
    "    @staticmethod\n",
    "    def if_not_valid_result(result: dict) -> bool:\n",
    "        return not (isinstance(result, dict) and \"result\" in result and \"answer\" in result.get(\"result\", {}))\n",
    "    \n",
    "    @retry(\n",
    "        retry=(retry_if_exception_type(requests.exceptions.RequestException) | retry_if_result(if_not_valid_result)),\n",
    "        stop=stop_after_attempt(3),\n",
    "        wait=wait_fixed(2)\n",
    "    )\n",
    "    def run(\n",
    "        self,\n",
    "        input: Union[dict, str],\n",
    "        flow_id: str,\n",
    "        tweaks: Optional[dict] = None,\n",
    "    ) -> dict:\n",
    "        if isinstance(input, str):\n",
    "            input = dict(question=input)\n",
    "        result = self.run_flow(\n",
    "            inputs=input,\n",
    "            flow_id=flow_id,\n",
    "            tweaks=tweaks,\n",
    "        )\n",
    "        result[\"question\"] = input[\"question\"] if isinstance(input, dict) else input\n",
    "\n",
    "        if \"result\" in result:\n",
    "            source_documents = result.get(\"result\", {}).get(\"source_documents\", \"[]\")\n",
    "            if isinstance(source_documents, str):\n",
    "                result[\"result\"][\"source_documents\"] = json.loads(source_documents)\n",
    "        return result\n",
    "\n",
    "    @staticmethod\n",
    "    def display_result(result: dict, question: Optional[str]=None, reference_answer=None):\n",
    "        header_tag = \"h4\"\n",
    "        question = result.get(\"question\", question)\n",
    "        if question:\n",
    "            display(HTML(f\"<{header_tag}>Question</{header_tag}>\"))\n",
    "            print(question)\n",
    "            display(HTML(\"<hr/>\"))\n",
    "\n",
    "        if \"result\" in result:\n",
    "            result = result[\"result\"]\n",
    "        display(HTML(f\"<{header_tag}>Generated Answer</{header_tag}>\"))\n",
    "        print(result[\"answer\"])\n",
    "        display(HTML(\"<hr/>\"))\n",
    "\n",
    "        if reference_answer:\n",
    "            display(HTML(f\"<{header_tag}>Exepcted Answer (Reference/Ground Truth)</{header_tag}>\"))\n",
    "            print(reference_answer)\n",
    "            display(HTML(\"<hr/>\"))\n",
    "        \n",
    "        # display(HTML(f\"<{header_tag}>Retrieved Contexts</{header_tag}>\"))\n",
    "        for idx, doc in enumerate(result[\"source_documents\"], start=1):\n",
    "            display(HTML(f\"<{header_tag}>Retrieved Context #{idx}</{header_tag}>\"))\n",
    "            print(doc[\"page_content\"])\n",
    "            print(doc[\"metadata\"][\"source\"])\n",
    "            display(HTML(\"<hr/>\"))"
   ]
  },
  {
   "cell_type": "markdown",
   "id": "a0a6cd33-17a9-4f76-9b30-aac4b726ddcd",
   "metadata": {},
   "source": [
    "## Test Run\n",
    "\n",
    "Now, let's check what a sample test run looks like when we call the API for QA."
   ]
  },
  {
   "cell_type": "code",
   "execution_count": 89,
   "id": "bef70819-ac3d-43a0-a3a4-b6af8f6ba2f9",
   "metadata": {},
   "outputs": [],
   "source": [
    "flow_runner = FlowRunner(\n",
    "    base_url=BASE_API_URL,\n",
    "    api_key=PROMPTLAB_API_KEY\n",
    ")"
   ]
  },
  {
   "cell_type": "code",
   "execution_count": 32,
   "id": "ee541856-c87c-4dc7-85ce-26ef6e3cdd73",
   "metadata": {},
   "outputs": [],
   "source": [
    "query = \"What parasites were sent to ISS to study host immunity?\""
   ]
  },
  {
   "cell_type": "code",
   "execution_count": 33,
   "id": "197ff92a-0b01-4a79-9355-02af414e6d6c",
   "metadata": {},
   "outputs": [],
   "source": [
    "result = flow_runner.run(\n",
    "    input=query,\n",
    "    flow_id=FLOW_ID,\n",
    "    tweaks=TWEAKS,\n",
    ")"
   ]
  },
  {
   "cell_type": "code",
   "execution_count": 34,
   "id": "a0f6565d-cbfa-430f-9067-f429001e797f",
   "metadata": {},
   "outputs": [
    {
     "data": {
      "text/plain": [
       "'What parasites were sent to ISS to study host immunity?'"
      ]
     },
     "execution_count": 34,
     "metadata": {},
     "output_type": "execute_result"
    }
   ],
   "source": [
    "result[\"question\"]"
   ]
  },
  {
   "cell_type": "code",
   "execution_count": 35,
   "id": "340f1781-096f-485e-a8f4-ea48365f741d",
   "metadata": {},
   "outputs": [
    {
     "data": {
      "text/html": [
       "<h4>Question</h4>"
      ],
      "text/plain": [
       "<IPython.core.display.HTML object>"
      ]
     },
     "metadata": {},
     "output_type": "display_data"
    },
    {
     "name": "stdout",
     "output_type": "stream",
     "text": [
      "What parasites were sent to ISS to study host immunity?\n"
     ]
    },
    {
     "data": {
      "text/html": [
       "<hr/>"
      ],
      "text/plain": [
       "<IPython.core.display.HTML object>"
      ]
     },
     "metadata": {},
     "output_type": "display_data"
    },
    {
     "data": {
      "text/html": [
       "<h4>Generated Answer</h4>"
      ],
      "text/plain": [
       "<IPython.core.display.HTML object>"
      ]
     },
     "metadata": {},
     "output_type": "display_data"
    },
    {
     "name": "stdout",
     "output_type": "stream",
     "text": [
      "In the study mentioned, fruit flies and their parasitic wasps were sent to the ISS to examine changes in host immunity and parasite virulence. The specific parasites mentioned in the study are Leptopilina boulardi 17 and Leptopilina heterotoma 14.\n"
     ]
    },
    {
     "data": {
      "text/html": [
       "<hr/>"
      ],
      "text/plain": [
       "<IPython.core.display.HTML object>"
      ]
     },
     "metadata": {},
     "output_type": "display_data"
    },
    {
     "data": {
      "text/html": [
       "<h4>Retrieved Context #1</h4>"
      ],
      "text/plain": [
       "<IPython.core.display.HTML object>"
      ]
     },
     "metadata": {},
     "output_type": "display_data"
    },
    {
     "name": "stdout",
     "output_type": "stream",
     "text": [
      "In this <b>study</b>, fruit flies and their parasitic wasps were <b>sent</b> to the <b>ISS</b> to examine changes in <b>host</b> <b>immunity</b> and <b>parasite</b> virulence. Key findings from this work are as follows: (a) Spaceflight spiked the expression of inflammation genes in fruit flies; (b) Spaceflight enhanced tumor growth in flies already suffering from chronic inflammation; (c) Spaceflight did not significantly affect parasitic wasp development, emergence, or the expression of virulence genes; (d) <b>Parasite</b> mutants with visible wing color and shape alterations were obtained. This <b>study</b> contains Drosophila melanogaster data.\n",
      "https://osdr.nasa.gov/bio/repo/data/studies/OSD-588/\n"
     ]
    },
    {
     "data": {
      "text/html": [
       "<hr/>"
      ],
      "text/plain": [
       "<IPython.core.display.HTML object>"
      ]
     },
     "metadata": {},
     "output_type": "display_data"
    },
    {
     "data": {
      "text/html": [
       "<h4>Retrieved Context #2</h4>"
      ],
      "text/plain": [
       "<IPython.core.display.HTML object>"
      ]
     },
     "metadata": {},
     "output_type": "display_data"
    },
    {
     "name": "stdout",
     "output_type": "stream",
     "text": [
      "In this <b>study</b>, fruit flies and their parasitic wasps were <b>sent</b> to the <b>ISS</b> to examine changes in <b>host</b> <b>immunity</b> and <b>parasite</b> virulence. Key findings from this work are as follows: (a) Spaceflight spiked the expression of inflammation genes in fruit flies; (b) Spaceflight enhanced tumor growth in flies already suffering from chronic inflammation; (c) Spaceflight did not significantly affect parasitic wasp development, emergence, or the expression of virulence genes; (d) <b>Parasite</b> mutants with visible wing color and shape alterations were obtained. This <b>study</b> contains Leptopilina boulardi 17 data.\n",
      "https://osdr.nasa.gov/bio/repo/data/studies/OSD-610/\n"
     ]
    },
    {
     "data": {
      "text/html": [
       "<hr/>"
      ],
      "text/plain": [
       "<IPython.core.display.HTML object>"
      ]
     },
     "metadata": {},
     "output_type": "display_data"
    },
    {
     "data": {
      "text/html": [
       "<h4>Retrieved Context #3</h4>"
      ],
      "text/plain": [
       "<IPython.core.display.HTML object>"
      ]
     },
     "metadata": {},
     "output_type": "display_data"
    },
    {
     "name": "stdout",
     "output_type": "stream",
     "text": [
      "In this <b>study</b>, fruit flies and their parasitic wasps were <b>sent</b> to the <b>ISS</b> to examine changes in <b>host</b> <b>immunity</b> and <b>parasite</b> virulence. Key findings from this work are as follows: (a) Spaceflight spiked the expression of inflammation genes in fruit flies; (b) Spaceflight enhanced tumor growth in flies already suffering from chronic inflammation; (c) Spaceflight did not significantly affect parasitic wasp development, emergence, or the expression of virulence genes; (d) <b>Parasite</b> mutants with visible wing color and shape alterations were obtained. This <b>study</b> contains Leptopilina heterotoma14 data.\n",
      "https://osdr.nasa.gov/bio/repo/data/studies/OSD-609/\n"
     ]
    },
    {
     "data": {
      "text/html": [
       "<hr/>"
      ],
      "text/plain": [
       "<IPython.core.display.HTML object>"
      ]
     },
     "metadata": {},
     "output_type": "display_data"
    },
    {
     "data": {
      "text/html": [
       "<h4>Retrieved Context #4</h4>"
      ],
      "text/plain": [
       "<IPython.core.display.HTML object>"
      ]
     },
     "metadata": {},
     "output_type": "display_data"
    },
    {
     "name": "stdout",
     "output_type": "stream",
     "text": [
      "About  Charter  How to Join  Current AWG Members  Citizen Science  SOLSTICE  SOLSTICE Members  FAQ  Terms & Conditions  Genelab Tutorials  Contact Us  account_circle expand_more  1.26 TB  OSD-588 Version 1  Drosophila parasitoids go to space: Unexpected effects of spaceflight on <b>hosts</b> and their parasitoids - Drosophila data <b>Study</b>  Submitted Date: 02-Feb-2023  Initial Release Date: 02-Jan-2024  notifications share  GeneLab ID : GLDS-583 DOI : 10.26030/v9rh-5a70  Cite this <b>Study</b>  info Description  Description  In this <b>study</b>, fruit flies and their parasitic wasps were <b>sent</b> to the <b>ISS</b> to examine changes in <b>host</b> <b>immunity</b> and <b>parasite</b> virulence.\n",
      "https://osdr.nasa.gov/bio/repo/data/studies/OSD-588/\n"
     ]
    },
    {
     "data": {
      "text/html": [
       "<hr/>"
      ],
      "text/plain": [
       "<IPython.core.display.HTML object>"
      ]
     },
     "metadata": {},
     "output_type": "display_data"
    },
    {
     "data": {
      "text/html": [
       "<h4>Retrieved Context #5</h4>"
      ],
      "text/plain": [
       "<IPython.core.display.HTML object>"
      ]
     },
     "metadata": {},
     "output_type": "display_data"
    },
    {
     "name": "stdout",
     "output_type": "stream",
     "text": [
      "About  Charter  How to Join  Current AWG Members  Citizen Science  SOLSTICE  SOLSTICE Members  FAQ  Terms & Conditions  Genelab Tutorials  Contact Us  account_circle expand_more  148.92 GB  OSD-610 Version 1  Drosophila parasitoids go to space: Unexpected and differential effects of spaceflight on <b>hosts</b> and their parasitoids - Wasp Leptopilina boulardi 17 data <b>Study</b>  Submitted Date: 28-Apr-2023  Initial Release Date: 02-Jan-2024  notifications share  GeneLab ID : GLDS-587 DOI : 10.26030/9ee4-6s36  Cite this <b>Study</b>  info Description  Description  In this <b>study</b>, fruit flies and their parasitic wasps were <b>sent</b> to the <b>ISS</b> to examine changes in <b>host</b> <b>immunity</b> and <b>parasite</b> virulence.\n",
      "https://osdr.nasa.gov/bio/repo/data/studies/OSD-610/\n"
     ]
    },
    {
     "data": {
      "text/html": [
       "<hr/>"
      ],
      "text/plain": [
       "<IPython.core.display.HTML object>"
      ]
     },
     "metadata": {},
     "output_type": "display_data"
    },
    {
     "data": {
      "text/html": [
       "<h4>Retrieved Context #6</h4>"
      ],
      "text/plain": [
       "<IPython.core.display.HTML object>"
      ]
     },
     "metadata": {},
     "output_type": "display_data"
    },
    {
     "name": "stdout",
     "output_type": "stream",
     "text": [
      "About  Charter  How to Join  Current AWG Members  Citizen Science  SOLSTICE  SOLSTICE Members  FAQ  Terms & Conditions  Genelab Tutorials  Contact Us  account_circle expand_more  176.26 GB  OSD-609 Version 1  Drosophila parasitoids go to space: Unexpected and differential effects of spaceflight on <b>hosts</b> and their parasitoids - Wasp Leptopilina heterotoma 14 data <b>Study</b>  Submitted Date: 28-Apr-2023  Initial Release Date: 02-Jan-2024  notifications share  GeneLab ID : GLDS-586 DOI : 10.26030/5rjq-a347  Cite this <b>Study</b>  info Description  Description  In this <b>study</b>, fruit flies and their parasitic wasps were <b>sent</b> to the <b>ISS</b> to examine changes in <b>host</b> <b>immunity</b> and <b>parasite</b> virulence.\n",
      "https://osdr.nasa.gov/bio/repo/data/studies/OSD-609/\n"
     ]
    },
    {
     "data": {
      "text/html": [
       "<hr/>"
      ],
      "text/plain": [
       "<IPython.core.display.HTML object>"
      ]
     },
     "metadata": {},
     "output_type": "display_data"
    },
    {
     "data": {
      "text/html": [
       "<h4>Retrieved Context #7</h4>"
      ],
      "text/plain": [
       "<IPython.core.display.HTML object>"
      ]
     },
     "metadata": {},
     "output_type": "display_data"
    },
    {
     "name": "stdout",
     "output_type": "stream",
     "text": [
      "The biology chosen for this experiment was Arabidopsis thaliana, ecotype Col-0, because of the plant's history of spaceflight experimentation within KFTs and wealth of comparative data from orbital experiments. KFTs were deployed as a wearable device, a leg pouch attached to the astronaut, which proved to be operationally effective during the course of the flight. Data from the inflight samples indicated that the microgravity period of the flight elicited the strongest transcriptomic responses as measured by the number of genes showing differential expression.\n",
      "https://osdr.nasa.gov/bio/repo/data/studies/OSD-624/\n"
     ]
    },
    {
     "data": {
      "text/html": [
       "<hr/>"
      ],
      "text/plain": [
       "<IPython.core.display.HTML object>"
      ]
     },
     "metadata": {},
     "output_type": "display_data"
    },
    {
     "data": {
      "text/html": [
       "<h4>Retrieved Context #8</h4>"
      ],
      "text/plain": [
       "<IPython.core.display.HTML object>"
      ]
     },
     "metadata": {},
     "output_type": "display_data"
    },
    {
     "name": "stdout",
     "output_type": "stream",
     "text": [
      "Fungal Pathogenesis , Tumorigenesis , and Effects of <b>Host</b> <b>Immunity</b> in Space  Project Type  Spaceflight <b>Study</b>  Flight Program  Space Transportation System (STS)  Experiment Platform  Shuttle Life Sciences Research (Middeck)  Sponsoring Agency  NASA  NASA Center  Ames Research Center (ARC)  Funding Source  This <b>study</b> work was supported by a NASA grant to SB for Fungal Pathogenesis, Tumorigenesis, and Effects of <b>Host</b> <b>Immunity</b> in the Space Environment (FSB-FIT-2005). The funder had a role in <b>study</b> design and in supporting data collection.  Acknowledgments  We thank David Schneider for helping us with the design of this experiment.\n",
      "https://osdr.nasa.gov/bio/repo/data/studies/OSD-3/\n"
     ]
    },
    {
     "data": {
      "text/html": [
       "<hr/>"
      ],
      "text/plain": [
       "<IPython.core.display.HTML object>"
      ]
     },
     "metadata": {},
     "output_type": "display_data"
    },
    {
     "data": {
      "text/html": [
       "<h4>Retrieved Context #9</h4>"
      ],
      "text/plain": [
       "<IPython.core.display.HTML object>"
      ]
     },
     "metadata": {},
     "output_type": "display_data"
    },
    {
     "name": "stdout",
     "output_type": "stream",
     "text": [
      "Spaceflight uniquely alters the physiology of both human cells and microbial pathogens, stimulating cellular and molecular changes directly relevant to infectious disease. However, the influence of this environment on host-pathogen interactions remains poorly understood. Here we report our results from the STL-IMMUNE study flown aboard Space Shuttle mission STS-131, which investigated multi-omic responses (transcriptomic, proteomic) of human intestinal epithelial cells to infection with Salmonella Typhimurium when both host and pathogen were simultaneously exposed to spaceflight. To our knowledge, this was the first in-flight infection and dual RNA-seq analysis using human cells.\n",
      "https://osdr.nasa.gov/bio/repo/data/studies/OSD-323/\n"
     ]
    },
    {
     "data": {
      "text/html": [
       "<hr/>"
      ],
      "text/plain": [
       "<IPython.core.display.HTML object>"
      ]
     },
     "metadata": {},
     "output_type": "display_data"
    },
    {
     "data": {
      "text/html": [
       "<h4>Retrieved Context #10</h4>"
      ],
      "text/plain": [
       "<IPython.core.display.HTML object>"
      ]
     },
     "metadata": {},
     "output_type": "display_data"
    },
    {
     "name": "stdout",
     "output_type": "stream",
     "text": [
      "Immune dysregulation is among the main adverse outcomes of spaceflight. Despite its crucial role in host protection, effects on the human antibody repertoire are unknown. Consequently, we examined the IgM repertoire of five cosmonauts 25 days before launch, after 64 and 129 days spent on the International Space Station (ISS), and after 1, 7 and 30 days of Earth reambulation using high-throughput sequencing. This is the first study of this kind.\n",
      "https://osdr.nasa.gov/bio/repo/data/studies/OSD-316/\n"
     ]
    },
    {
     "data": {
      "text/html": [
       "<hr/>"
      ],
      "text/plain": [
       "<IPython.core.display.HTML object>"
      ]
     },
     "metadata": {},
     "output_type": "display_data"
    }
   ],
   "source": [
    "flow_runner.display_result(result)"
   ]
  },
  {
   "cell_type": "markdown",
   "id": "1145101f-e93c-44ef-a493-1d224e1dbf90",
   "metadata": {},
   "source": [
    "# Run OSDR Validation set\n",
    "\n",
    "Instead of manually running each question through the bot to generate the answer, we run all the questions from the validation data in bulk.\n",
    "\n",
    "We have some functions for housekeeping and the details for them are hidden away for brevity.\n",
    "\n",
    "> Note: Since it takes some time to run through all the questions, we'll pre-load the responses from a csv."
   ]
  },
  {
   "cell_type": "code",
   "execution_count": 90,
   "id": "a481fd4b-e50f-491e-8346-ebea7d26d5e0",
   "metadata": {},
   "outputs": [],
   "source": [
    "from tqdm import tqdm\n",
    "from joblib import Parallel, delayed\n",
    "import ast"
   ]
  },
  {
   "cell_type": "code",
   "execution_count": 91,
   "id": "2c504385-1609-48a2-aad9-d02a48e71f4c",
   "metadata": {},
   "outputs": [],
   "source": [
    "def process_row(row, flow_runner, flow_id, tweaks):\n",
    "    try:\n",
    "        result = flow_runner.run(input=row.question, flow_id=flow_id, tweaks=tweaks)\n",
    "    except:\n",
    "        logger.error(f\"Error for question={row.question}. Skipping\")\n",
    "        result = {}\n",
    "    print(result.keys())\n",
    "    result[\"reference_context\"] = row.context\n",
    "    result[\"reference_answer\"] = row.answer\n",
    "    result[\"context_hash\"] = row.context_hash\n",
    "    return result"
   ]
  },
  {
   "cell_type": "code",
   "execution_count": 92,
   "id": "1ba8708a-2bc7-4c96-9178-10a7280680cc",
   "metadata": {},
   "outputs": [],
   "source": [
    "def get_osdr_responses(\n",
    "    data: pd.DataFrame,\n",
    "    flow_runner: FlowRunner,\n",
    "    flow_id,\n",
    "    tweaks\n",
    ") -> pd.DataFrame:\n",
    "    results = []\n",
    "    for row in tqdm(data.itertuples()):\n",
    "        result = process_row(row, flow_runner, flow_id, tweaks)\n",
    "        results.append(result)\n",
    "    return pd.DataFrame(results)\n",
    "\n",
    "def get_osdr_responses_parallel(\n",
    "    data: pd.DataFrame,\n",
    "    flow_runner,\n",
    "    flow_id, \n",
    "    tweaks\n",
    ") -> pd.DataFrame:\n",
    "    results = Parallel(n_jobs=-1, backend=\"threading\")(\n",
    "        delayed(process_row)\\\n",
    "        (row, flow_runner, flow_id, tweaks) for row in tqdm(data.itertuples(index=False))\n",
    "    )\n",
    "    results_df = pd.DataFrame(results)\n",
    "    return results_df"
   ]
  },
  {
   "cell_type": "code",
   "execution_count": 93,
   "id": "55acaec1-1d4d-4845-bc00-9459dbab6a88",
   "metadata": {},
   "outputs": [],
   "source": [
    "def load_responses(path: str) -> pd.DataFrame:\n",
    "    df = pd.read_csv(path)\n",
    "    df[\"result\"] = df[\"result\"].apply(ast.literal_eval)\n",
    "    return df"
   ]
  },
  {
   "cell_type": "code",
   "execution_count": 94,
   "id": "1fedaca6-2564-4d89-aaa5-d666e9fce707",
   "metadata": {},
   "outputs": [],
   "source": [
    "# # get all the responses\n",
    "# responses = get_osdr_responses_parallel(\n",
    "#     data=simplify_columns(load_data(FILE_PATH)).iloc[:],\n",
    "#     flow_runner=flow_runner,\n",
    "#     flow_id=FLOW_ID,\n",
    "#     tweaks=TWEAKS\n",
    "# )"
   ]
  },
  {
   "cell_type": "code",
   "execution_count": 95,
   "id": "8854fe51-db69-4821-9871-fced425035a8",
   "metadata": {},
   "outputs": [],
   "source": [
    "# load already dumped responses\n",
    "responses = load_responses(\"../data/osdr-eval/responses-gpt-3.5-turbo.csv\")"
   ]
  },
  {
   "cell_type": "code",
   "execution_count": 96,
   "id": "8a5746d6-c365-48e4-9323-02514e65b77d",
   "metadata": {},
   "outputs": [
    {
     "data": {
      "text/html": [
       "<div>\n",
       "<style scoped>\n",
       "    .dataframe tbody tr th:only-of-type {\n",
       "        vertical-align: middle;\n",
       "    }\n",
       "\n",
       "    .dataframe tbody tr th {\n",
       "        vertical-align: top;\n",
       "    }\n",
       "\n",
       "    .dataframe thead th {\n",
       "        text-align: right;\n",
       "    }\n",
       "</style>\n",
       "<table border=\"1\" class=\"dataframe\">\n",
       "  <thead>\n",
       "    <tr style=\"text-align: right;\">\n",
       "      <th></th>\n",
       "      <th>result</th>\n",
       "      <th>status</th>\n",
       "      <th>task</th>\n",
       "      <th>session_id</th>\n",
       "      <th>backend</th>\n",
       "      <th>question</th>\n",
       "      <th>reference_context</th>\n",
       "      <th>reference_answer</th>\n",
       "      <th>context_hash</th>\n",
       "    </tr>\n",
       "  </thead>\n",
       "  <tbody>\n",
       "    <tr>\n",
       "      <th>0</th>\n",
       "      <td>{'answer': 'The gene expression alterations in...</td>\n",
       "      <td>NaN</td>\n",
       "      <td>{'id': '139756224681744', 'href': 'api/v1/task...</td>\n",
       "      <td>RG8XKS:6b5b553ba5e766ccbc1429e4540911c1e7ac597...</td>\n",
       "      <td>anyio</td>\n",
       "      <td>Where were the gene expression alterations in ...</td>\n",
       "      <td>Genome-wide transcriptional profiling showed t...</td>\n",
       "      <td>reducing gravity levels in the International S...</td>\n",
       "      <td>30225908</td>\n",
       "    </tr>\n",
       "    <tr>\n",
       "      <th>1</th>\n",
       "      <td>{'answer': 'Experiments involving reducing gra...</td>\n",
       "      <td>NaN</td>\n",
       "      <td>{'id': '139756227007232', 'href': 'api/v1/task...</td>\n",
       "      <td>JHTOXO:6b5b553ba5e766ccbc1429e4540911c1e7ac597...</td>\n",
       "      <td>anyio</td>\n",
       "      <td>What kind of experiments showed differential r...</td>\n",
       "      <td>Genome-wide transcriptional profiling showed t...</td>\n",
       "      <td>simulation experiments on ground testing space...</td>\n",
       "      <td>30225908</td>\n",
       "    </tr>\n",
       "    <tr>\n",
       "      <th>2</th>\n",
       "      <td>{'answer': 'The same GO groups, including a la...</td>\n",
       "      <td>NaN</td>\n",
       "      <td>{'id': '139756223614704', 'href': 'api/v1/task...</td>\n",
       "      <td>VWW7ZL:6b5b553ba5e766ccbc1429e4540911c1e7ac597...</td>\n",
       "      <td>anyio</td>\n",
       "      <td>What is overrepresented in the different exper...</td>\n",
       "      <td>Genome-wide transcriptional profiling showed t...</td>\n",
       "      <td>the same GO groups including a large multigene...</td>\n",
       "      <td>30225908</td>\n",
       "    </tr>\n",
       "  </tbody>\n",
       "</table>\n",
       "</div>"
      ],
      "text/plain": [
       "                                              result  status  \\\n",
       "0  {'answer': 'The gene expression alterations in...     NaN   \n",
       "1  {'answer': 'Experiments involving reducing gra...     NaN   \n",
       "2  {'answer': 'The same GO groups, including a la...     NaN   \n",
       "\n",
       "                                                task  \\\n",
       "0  {'id': '139756224681744', 'href': 'api/v1/task...   \n",
       "1  {'id': '139756227007232', 'href': 'api/v1/task...   \n",
       "2  {'id': '139756223614704', 'href': 'api/v1/task...   \n",
       "\n",
       "                                          session_id backend  \\\n",
       "0  RG8XKS:6b5b553ba5e766ccbc1429e4540911c1e7ac597...   anyio   \n",
       "1  JHTOXO:6b5b553ba5e766ccbc1429e4540911c1e7ac597...   anyio   \n",
       "2  VWW7ZL:6b5b553ba5e766ccbc1429e4540911c1e7ac597...   anyio   \n",
       "\n",
       "                                            question  \\\n",
       "0  Where were the gene expression alterations in ...   \n",
       "1  What kind of experiments showed differential r...   \n",
       "2  What is overrepresented in the different exper...   \n",
       "\n",
       "                                   reference_context  \\\n",
       "0  Genome-wide transcriptional profiling showed t...   \n",
       "1  Genome-wide transcriptional profiling showed t...   \n",
       "2  Genome-wide transcriptional profiling showed t...   \n",
       "\n",
       "                                    reference_answer  context_hash  \n",
       "0  reducing gravity levels in the International S...      30225908  \n",
       "1  simulation experiments on ground testing space...      30225908  \n",
       "2  the same GO groups including a large multigene...      30225908  "
      ]
     },
     "execution_count": 96,
     "metadata": {},
     "output_type": "execute_result"
    }
   ],
   "source": [
    "responses.head(3)"
   ]
  },
  {
   "cell_type": "code",
   "execution_count": 97,
   "id": "117d7ed2-cc9e-441a-9dcf-baa909843a4a",
   "metadata": {},
   "outputs": [],
   "source": [
    "# responses.to_csv(\"data/responses-gpt-3.5-turbo.csv\", index=False)"
   ]
  },
  {
   "cell_type": "code",
   "execution_count": 58,
   "id": "db8843f3-6983-42be-8644-b6b719f4eeaa",
   "metadata": {},
   "outputs": [
    {
     "data": {
      "text/html": [
       "<h4>Question</h4>"
      ],
      "text/plain": [
       "<IPython.core.display.HTML object>"
      ]
     },
     "metadata": {},
     "output_type": "display_data"
    },
    {
     "name": "stdout",
     "output_type": "stream",
     "text": [
      "When was gait analysis performed in this study?\n"
     ]
    },
    {
     "data": {
      "text/html": [
       "<hr/>"
      ],
      "text/plain": [
       "<IPython.core.display.HTML object>"
      ]
     },
     "metadata": {},
     "output_type": "display_data"
    },
    {
     "data": {
      "text/html": [
       "<h4>Generated Answer</h4>"
      ],
      "text/plain": [
       "<IPython.core.display.HTML object>"
      ]
     },
     "metadata": {},
     "output_type": "display_data"
    },
    {
     "name": "stdout",
     "output_type": "stream",
     "text": [
      "The gait analysis was performed both pre-flight and post-flight on the mice in this study.\n"
     ]
    },
    {
     "data": {
      "text/html": [
       "<hr/>"
      ],
      "text/plain": [
       "<IPython.core.display.HTML object>"
      ]
     },
     "metadata": {},
     "output_type": "display_data"
    },
    {
     "data": {
      "text/html": [
       "<h4>Exepcted Answer (Reference/Ground Truth)</h4>"
      ],
      "text/plain": [
       "<IPython.core.display.HTML object>"
      ]
     },
     "metadata": {},
     "output_type": "display_data"
    },
    {
     "name": "stdout",
     "output_type": "stream",
     "text": [
      "Gait analysis was performed pre-flight and post-flight.\n"
     ]
    },
    {
     "data": {
      "text/html": [
       "<hr/>"
      ],
      "text/plain": [
       "<IPython.core.display.HTML object>"
      ]
     },
     "metadata": {},
     "output_type": "display_data"
    },
    {
     "data": {
      "text/html": [
       "<h4>Retrieved Context #1</h4>"
      ],
      "text/plain": [
       "<IPython.core.display.HTML object>"
      ]
     },
     "metadata": {},
     "output_type": "display_data"
    },
    {
     "name": "stdout",
     "output_type": "stream",
     "text": [
      "Thus, the purpose of this <b>study</b> was to evaluate <b>gait</b> changes in response to spaceflight. A prospective collection of <b>gait</b> data was collected on 3 groups of mice: those who spent~35 days in orbit (FLIGHT) aboard the International Space Station (ISS); a ground-based control with the same habitat conditions as ISS (Ground Control;\n",
      "https://osdr.nasa.gov/bio/repo/data/studies/OSD-478/\n"
     ]
    },
    {
     "data": {
      "text/html": [
       "<hr/>"
      ],
      "text/plain": [
       "<IPython.core.display.HTML object>"
      ]
     },
     "metadata": {},
     "output_type": "display_data"
    },
    {
     "data": {
      "text/html": [
       "<h4>Retrieved Context #2</h4>"
      ],
      "text/plain": [
       "<IPython.core.display.HTML object>"
      ]
     },
     "metadata": {},
     "output_type": "display_data"
    },
    {
     "name": "stdout",
     "output_type": "stream",
     "text": [
      "The long-term adaptations to microgravity and other spaceflight challenges within the confines of a spacecraft, and readaptations to weight-bearing upon reaching a destination, are unclear. While post-flight <b>gait</b> change in astronauts have been well documented and reflect multi-system deficits, no data from rodents have been collected. Thus, the purpose of this <b>study</b> was to evaluate <b>gait</b> changes in response to spaceflight. A prospective collection of <b>gait</b> data was collected on 3 groups of mice:\n",
      "https://osdr.nasa.gov/bio/repo/data/studies/OSD-478/\n"
     ]
    },
    {
     "data": {
      "text/html": [
       "<hr/>"
      ],
      "text/plain": [
       "<IPython.core.display.HTML object>"
      ]
     },
     "metadata": {},
     "output_type": "display_data"
    },
    {
     "data": {
      "text/html": [
       "<h4>Retrieved Context #3</h4>"
      ],
      "text/plain": [
       "<IPython.core.display.HTML object>"
      ]
     },
     "metadata": {},
     "output_type": "display_data"
    },
    {
     "name": "stdout",
     "output_type": "stream",
     "text": [
      "those who spent~35 days in orbit (FLIGHT) aboard the International Space Station (ISS); a ground-based control with the same habitat conditions as ISS (Ground Control; GC); and a vivarium control with typical rodent housing conditions (VIV). Pre-flight and post-flight <b>gait</b> measurements were conducted utilizing an optimized and portable <b>gait</b> <b>analysis</b> system (DigiGait, Mouse Specifics, Inc). The total data acquisition time for <b>gait</b> patterns of FLIGHT and control mice was 1.5-5 min/mouse, allowing all 20 mice per group to be assessed in less than an hour.\n",
      "https://osdr.nasa.gov/bio/repo/data/studies/OSD-478/\n"
     ]
    },
    {
     "data": {
      "text/html": [
       "<hr/>"
      ],
      "text/plain": [
       "<IPython.core.display.HTML object>"
      ]
     },
     "metadata": {},
     "output_type": "display_data"
    },
    {
     "data": {
      "text/html": [
       "<h4>Retrieved Context #4</h4>"
      ],
      "text/plain": [
       "<IPython.core.display.HTML object>"
      ]
     },
     "metadata": {},
     "output_type": "display_data"
    },
    {
     "name": "stdout",
     "output_type": "stream",
     "text": [
      "The total data acquisition time for <b>gait</b> patterns of FLIGHT and control mice was 1.5-5 min/mouse, allowing all 20 mice per group to be assessed in less than an hour. Patterns of longitudinal <b>gait</b> changes were observed in the hind limbs and the forelimbs of the FLIGHT mice after ~35 days in orbit; few differences were observed in <b>gait</b> characteristics within the GC and VIV controls from the initial to the final <b>gait</b> assessment, and between groups. For FLIGHT mice, 12 out of 18 of the evaluated <b>gait</b> characteristics in the hind limbs were significantly changed, including:\n",
      "https://osdr.nasa.gov/bio/repo/data/studies/OSD-478/\n"
     ]
    },
    {
     "data": {
      "text/html": [
       "<hr/>"
      ],
      "text/plain": [
       "<IPython.core.display.HTML object>"
      ]
     },
     "metadata": {},
     "output_type": "display_data"
    },
    {
     "data": {
      "text/html": [
       "<h4>Retrieved Context #5</h4>"
      ],
      "text/plain": [
       "<IPython.core.display.HTML object>"
      ]
     },
     "metadata": {},
     "output_type": "display_data"
    },
    {
     "name": "stdout",
     "output_type": "stream",
     "text": [
      "DigiGait System (Mouse Specifics) and DigiGait <b>Analysis</b> v.14  L-8 days (45 total days)  Yes  Treadmill And Chamber  DigiGait manufacturer system  <b>Gait</b> Assay Characteristics  None  1.5-5 minute  17 centimeters per second  4 second  6-8 consecutive strides per animal  Left Only  No  DigiGait <b>Analysis</b> v.14 software and SigmaPlot v.14  Gait  Not Available  LSDS-34_<b>Gait_Left_Hind_GOOD_RAW_with_RFIDs.xlsx</b>  ALSDA Processed Data  LSDS-34_<b>Gait_willeyTRANSFORMED.csv</b>  F1_LH_Pre  Assay Arrangement  DigiGait System (Mouse Specifics) and DigiGait <b>Analysis</b> v.14  L-8 days (45 total days)  Yes  Treadmill And Chamber  DigiGait manufacturer system  <b>Gait</b> Assay Characteristics  None  1.5-5 minute  17 centimeters per second  4 second\n",
      "https://osdr.nasa.gov/bio/repo/data/studies/OSD-478/\n"
     ]
    },
    {
     "data": {
      "text/html": [
       "<hr/>"
      ],
      "text/plain": [
       "<IPython.core.display.HTML object>"
      ]
     },
     "metadata": {},
     "output_type": "display_data"
    },
    {
     "data": {
      "text/html": [
       "<h4>Retrieved Context #6</h4>"
      ],
      "text/plain": [
       "<IPython.core.display.HTML object>"
      ]
     },
     "metadata": {},
     "output_type": "display_data"
    },
    {
     "name": "stdout",
     "output_type": "stream",
     "text": [
      "DigiGait System (Mouse Specifics) and DigiGait <b>Analysis</b> v.14  L-8 days (45 total days)  Yes  Treadmill And Chamber  DigiGait manufacturer system  <b>Gait</b> Assay Characteristics  None  1.5-5 minute  17 centimeters per second  4 second  6-8 consecutive strides per animal  Left Only  No  DigiGait <b>Analysis</b> v.14 software and SigmaPlot v.14  <b>Gait</b>  Not Available  LSDS-34_<b>Gait_Left_Hind_GOOD_RAW_with_RFIDs.xlsx</b>  ALSDA Processed Data  LSDS-34_<b>Gait_willeyTRANSFORMED.csv</b>  F16_LH_Pre  Assay Arrangement  DigiGait System (Mouse Specifics) and DigiGait <b>Analysis</b> v.14  L-8 days (45 total days)  Yes  Treadmill And Chamber  DigiGait manufacturer system  <b>Gait</b> Assay Characteristics  None  1.5-5 minute  17 centimeters per second  4 second\n",
      "https://osdr.nasa.gov/bio/repo/data/studies/OSD-478/\n"
     ]
    },
    {
     "data": {
      "text/html": [
       "<hr/>"
      ],
      "text/plain": [
       "<IPython.core.display.HTML object>"
      ]
     },
     "metadata": {},
     "output_type": "display_data"
    },
    {
     "data": {
      "text/html": [
       "<h4>Retrieved Context #7</h4>"
      ],
      "text/plain": [
       "<IPython.core.display.HTML object>"
      ]
     },
     "metadata": {},
     "output_type": "display_data"
    },
    {
     "name": "stdout",
     "output_type": "stream",
     "text": [
      "LSDS-34_<b>Gait_Left_Hind_GOOD_RAW_with_RFIDs.xlsx</b>  ALSDA Processed Data  LSDS-34_<b>Gait_willeyTRANSFORMED.csv</b>  F10_LH_Post  Assay Arrangement  DigiGait System (Mouse Specifics) and DigiGait <b>Analysis</b> v.14  L-8 days (45 total days)  Yes  Treadmill And Chamber  DigiGait manufacturer system  <b>Gait</b> Assay Characteristics  None  1.5-5 minute  17 centimeters per second  4 second  6-8 consecutive strides per animal  Left Only  No  DigiGait <b>Analysis</b> v.14 software and SigmaPlot v.14  <b>Gait</b>  Not Available  LSDS-34_<b>Gait_Left_Hind_GOOD_RAW_with_RFIDs.xlsx</b>  ALSDA Processed Data  LSDS-34_<b>Gait_willeyTRANSFORMED.csv</b>  F11_LH_Pre  Assay Arrangement  DigiGait System (Mouse Specifics) and DigiGait <b>Analysis</b> v.14  L-8 days (45 total days)  Yes  Treadmill And Chamber  DigiGait manufacturer system\n",
      "https://osdr.nasa.gov/bio/repo/data/studies/OSD-478/\n"
     ]
    },
    {
     "data": {
      "text/html": [
       "<hr/>"
      ],
      "text/plain": [
       "<IPython.core.display.HTML object>"
      ]
     },
     "metadata": {},
     "output_type": "display_data"
    },
    {
     "data": {
      "text/html": [
       "<h4>Retrieved Context #8</h4>"
      ],
      "text/plain": [
       "<IPython.core.display.HTML object>"
      ]
     },
     "metadata": {},
     "output_type": "display_data"
    },
    {
     "name": "stdout",
     "output_type": "stream",
     "text": [
      "L-8 days (45 total days)  Yes  Treadmill And Chamber  DigiGait manufacturer system  <b>Gait</b> Assay Characteristics  None  1.5-5 minute  17 centimeters per second  4 second  6-8 consecutive strides per animal  Left Only  No  DigiGait <b>Analysis</b> v.14 software and SigmaPlot v.14  <b>Gait</b>  Not Available  LSDS-34_<b>Gait_Left_Hind_GOOD_RAW_with_RFIDs.xlsx</b>  ALSDA Processed Data  LSDS-34_<b>Gait_willeyTRANSFORMED.csv</b>  F15_LH_Pre  Assay Arrangement  DigiGait System (Mouse Specifics) and DigiGait <b>Analysis</b> v.14  L-8 days (45 total days)  Yes  Treadmill And Chamber  DigiGait manufacturer system  <b>Gait</b> Assay Characteristics  None  1.5-5 minute  17 centimeters per second  4 second  6-8 consecutive strides per animal  Left Only  No\n",
      "https://osdr.nasa.gov/bio/repo/data/studies/OSD-478/\n"
     ]
    },
    {
     "data": {
      "text/html": [
       "<hr/>"
      ],
      "text/plain": [
       "<IPython.core.display.HTML object>"
      ]
     },
     "metadata": {},
     "output_type": "display_data"
    },
    {
     "data": {
      "text/html": [
       "<h4>Retrieved Context #9</h4>"
      ],
      "text/plain": [
       "<IPython.core.display.HTML object>"
      ]
     },
     "metadata": {},
     "output_type": "display_data"
    },
    {
     "name": "stdout",
     "output_type": "stream",
     "text": [
      "LSDS-34_<b>Gait_Left_Hind_GOOD_RAW_with_RFIDs.xlsx</b>  ALSDA Processed Data  LSDS-34_<b>Gait_willeyTRANSFORMED.csv</b>  F3_LH_Pre  Assay Arrangement  DigiGait System (Mouse Specifics) and DigiGait <b>Analysis</b> v.14  L-8 days (45 total days)  Yes  Treadmill And Chamber  DigiGait manufacturer system  <b>Gait</b> Assay Characteristics  None  1.5-5 minute  17 centimeters per second  4 second  6-8 consecutive strides per animal  Left Only  No  DigiGait <b>Analysis</b> v.14 software and SigmaPlot v.14  Gait  Not Available  LSDS-34_<b>Gait_Left_Hind_GOOD_RAW_with_RFIDs.xlsx</b>  ALSDA Processed Data  LSDS-34_<b>Gait_willeyTRANSFORMED.csv</b>  F3_LH_Post  Assay Arrangement  DigiGait System (Mouse Specifics) and DigiGait <b>Analysis</b> v.14  L-8 days (45 total days)  Yes  Treadmill And Chamber  DigiGait manufacturer system\n",
      "https://osdr.nasa.gov/bio/repo/data/studies/OSD-478/\n"
     ]
    },
    {
     "data": {
      "text/html": [
       "<hr/>"
      ],
      "text/plain": [
       "<IPython.core.display.HTML object>"
      ]
     },
     "metadata": {},
     "output_type": "display_data"
    },
    {
     "data": {
      "text/html": [
       "<h4>Retrieved Context #10</h4>"
      ],
      "text/plain": [
       "<IPython.core.display.HTML object>"
      ]
     },
     "metadata": {},
     "output_type": "display_data"
    },
    {
     "name": "stdout",
     "output_type": "stream",
     "text": [
      "L-8 days (45 total days)  Yes  Treadmill And Chamber  DigiGait manufacturer system  <b>Gait</b> Assay Characteristics  None  1.5-5 minute  17 centimeters per second  4 second  6-8 consecutive strides per animal  Left Only  No  DigiGait <b>Analysis</b> v.14 software and SigmaPlot v.14  <b>Gait</b>  Not Available  LSDS-34_<b>Gait_Left_Hind_GOOD_RAW_with_RFIDs.xlsx</b>  ALSDA Processed Data  LSDS-34_<b>Gait_willeyTRANSFORMED.csv</b>  F8_LH_Pre  Assay Arrangement  DigiGait System (Mouse Specifics) and DigiGait <b>Analysis</b> v.14  L-8 days (45 total days)  Yes  Treadmill And Chamber  DigiGait manufacturer system  <b>Gait</b> Assay Characteristics  None  1.5-5 minute  17 centimeters per second  4 second  6-8 consecutive strides per animal  Left Only  No\n",
      "https://osdr.nasa.gov/bio/repo/data/studies/OSD-478/\n"
     ]
    },
    {
     "data": {
      "text/html": [
       "<hr/>"
      ],
      "text/plain": [
       "<IPython.core.display.HTML object>"
      ]
     },
     "metadata": {},
     "output_type": "display_data"
    }
   ],
   "source": [
    "sample_row = responses.sample(1)\n",
    "FlowRunner.display_result(\n",
    "    sample_row.result.iloc[0],\n",
    "    sample_row.question.iloc[0],\n",
    "    reference_answer=sample_row.reference_answer.iloc[0]\n",
    ")"
   ]
  },
  {
   "cell_type": "markdown",
   "id": "9cf2f1ae-33da-4a54-9019-27bcf2c2931b",
   "metadata": {},
   "source": [
    "# Evaluation\n",
    "\n",
    "Here, we evaluate the generated responses. We primarily follow two modes of evaluation:\n",
    "\n",
    "- I. Evaluation of **retrieved contexts** (recall)\n",
    "\n",
    "    How good/accurate are the retrieved contexts based on the input query?\n",
    "\n",
    "- II. Evaluation of **generated answers** (different evaluation metrics)\n",
    "\n",
    "    How good/accurate are the generated answers?"
   ]
  },
  {
   "cell_type": "code",
   "execution_count": 98,
   "id": "bc002b54-2f36-479a-ac20-bf88aa718472",
   "metadata": {},
   "outputs": [],
   "source": [
    "from evalem.nlp.metrics import (\n",
    "    BertScore,\n",
    "    ExactMatchMetric,\n",
    "    MeteorMetric,\n",
    "    RougeMetric,\n",
    ")\n",
    "from evalem import Evaluator\n",
    "from evalem._base.structures import MetricResult"
   ]
  },
  {
   "cell_type": "code",
   "execution_count": 99,
   "id": "0eca9b67-d8cf-4bff-a387-23301253d279",
   "metadata": {},
   "outputs": [],
   "source": [
    "from nltk.corpus import stopwords\n",
    "from nltk.tokenize import word_tokenize\n",
    "from rake_nltk import Rake"
   ]
  },
  {
   "cell_type": "code",
   "execution_count": 100,
   "id": "76b8d635-d6b1-4ee7-8254-166f0639396a",
   "metadata": {},
   "outputs": [
    {
     "name": "stderr",
     "output_type": "stream",
     "text": [
      "[nltk_data] Downloading package stopwords to\n",
      "[nltk_data]     /Users/npantha/nltk_data...\n",
      "[nltk_data]   Package stopwords is already up-to-date!\n"
     ]
    },
    {
     "data": {
      "text/plain": [
       "True"
      ]
     },
     "execution_count": 100,
     "metadata": {},
     "output_type": "execute_result"
    }
   ],
   "source": [
    "import nltk\n",
    "nltk.download(\"stopwords\")"
   ]
  },
  {
   "attachments": {
    "258c7d85-21c9-48ee-a018-a4d6d760ea9c.png": {
     "image/png": "[encoded data removed]"
    }
   },
   "cell_type": "markdown",
   "id": "8670d2d4-06c6-441d-8195-22ad35ccebd6",
   "metadata": {},
   "source": [
    "## Retrieval Evaluation\n",
    "\n",
    "In this mode of evaluation, we compare whether the actual context (which is the ground truth context) lies in any of the **top-k** retrieved context chunks.\n",
    "\n",
    "$$\\text{Recall} = \\begin{cases} \n",
    "1 & \\text{if actual reference context is in top } k \\text{ retrieved contexts}, \\\\\n",
    "0 & \\text{otherwise}.\n",
    "\\end{cases}$$\n",
    "\n",
    "![recall.png](attachment:258c7d85-21c9-48ee-a018-a4d6d760ea9c.png)"
   ]
  },
  {
   "cell_type": "markdown",
   "id": "69cf023c-9bc4-4575-846e-994f4de625e4",
   "metadata": {},
   "source": [
    "### Keyword-based evaluation\n",
    "\n",
    "We compute the recall of retrieved contexts based on the overlapping of keywords between the\n",
    "actual context (ground truth context) and the retrieved context."
   ]
  },
  {
   "cell_type": "code",
   "execution_count": 101,
   "id": "f78219bc-28aa-4ece-83b1-b72d110c52a0",
   "metadata": {},
   "outputs": [],
   "source": [
    "def extract_keywords(text, top_k: int = 10):\n",
    "    text = preprocess_text(text, top_k)\n",
    "    text = text.lower()\n",
    "    stop_words = set(stopwords.words('english'))\n",
    "    words = word_tokenize(text)\n",
    "    keywords = [word.lower() for word in words if word.isalpha() and word.lower() not in stop_words]\n",
    "    return set(keywords)\n",
    "\n",
    "def preprocess_text(text, top_k=10):\n",
    "    text = text.lower()\n",
    "    r = Rake()\n",
    "    r.extract_keywords_from_text(text)\n",
    "    return \" \".join(set(r.get_ranked_phrases()[:top_k]))\n",
    "\n",
    "def compute_recall_kws(\n",
    "    reference: str,\n",
    "    retrieved_values: List[str],\n",
    "    top_k: int = 1,\n",
    "    top_k_kws: int = 10,\n",
    "    threshold:float = 0.5,\n",
    "    debug: bool = False,\n",
    ") -> float:\n",
    "    ref_keywords = extract_keywords(reference, top_k_kws)\n",
    "    relevant_items = 0\n",
    "\n",
    "    recall = 0.0\n",
    "\n",
    "    if debug:\n",
    "        print(f\">>>>> reference = {reference}\")\n",
    "        print(f\">>>>> reference keywords = {ref_keywords} | {len(ref_keywords)}\")\n",
    "    for idx, value in enumerate(retrieved_values, start=1):\n",
    "        keywords = extract_keywords(value, top_k=top_k_kws)\n",
    "        overlap = len(ref_keywords.intersection(keywords))\n",
    "        score = overlap/len(ref_keywords)\n",
    "        if debug:\n",
    "            print(f\">>>>> retrieved = {value}\")\n",
    "            print(f\">>>>> retrieved kws = {keywords}\")\n",
    "            print(f\">>>>> overlap = {overlap}\")\n",
    "            print(f\">>>> score = {score}\")\n",
    "\n",
    "        if score >= threshold:\n",
    "            recall = 1.0\n",
    "        if idx >= top_k:\n",
    "            break\n",
    "    return recall\n",
    "\n",
    "def evaluate_retrieval_keywords(\n",
    "    response: pd.DataFrame,\n",
    "    threshold=0.5,\n",
    "    top_k:int = 1,\n",
    "    top_k_kws: int = 10,\n",
    "    debug:bool=False\n",
    ") -> pd.DataFrame:\n",
    "    if \"question\" not in response and \"prediction\" not in response and \"reference\" not in response:\n",
    "        response = simplify_response(response)\n",
    "\n",
    "    response = response[response.retrieved_contexts.str.len() != 0]\n",
    "\n",
    "    results = []\n",
    "    for row in response.itertuples():\n",
    "        context = row.context\n",
    "        retrieved_contexts = row.retrieved_contexts\n",
    "        retrieved_contexts = list(map(lambda x: x[\"page_content\"], retrieved_contexts))\n",
    "        recall = compute_recall_kws(\n",
    "            context,\n",
    "            retrieved_contexts,\n",
    "            threshold=threshold,\n",
    "            top_k=top_k,\n",
    "            top_k_kws=top_k_kws,\n",
    "            debug=debug\n",
    "        )\n",
    "        results.append(dict(\n",
    "            context=context,\n",
    "            question=row.question,\n",
    "            answer=row.reference,\n",
    "            prediction=row.prediction,\n",
    "            retrieved_contexts=retrieved_contexts,\n",
    "            recall=recall\n",
    "        ))\n",
    "    return pd.DataFrame(results)"
   ]
  },
  {
   "cell_type": "code",
   "execution_count": 102,
   "id": "7536ad44-3eaa-4e0b-9141-4c1e9320ece1",
   "metadata": {},
   "outputs": [],
   "source": [
    "def batch_evaluate_retrieval_keywords(\n",
    "    response: pd.DataFrame,\n",
    "):\n",
    "    final_df = []\n",
    "    for threshold in [0.25, 0.3, 0.35, 0.4, 0.45, 0.5]:\n",
    "        for top_k in range(1, 10):\n",
    "            for top_k_kws in [25, 50]:\n",
    "                result = evaluate_retrieval_keywords(\n",
    "                    response,\n",
    "                    threshold=threshold,\n",
    "                    top_k=top_k,\n",
    "                    top_k_kws=top_k_kws,\n",
    "                    debug=False\n",
    "                )\n",
    "                fname = f\"data/evals/retrieval/keywords/eval-context-keywords-{threshold}-{top_k}-{top_k_kws}.csv\"\n",
    "                logger.debug(f\"Dumping eval to {fname}\")\n",
    "                result.to_csv(fname, index=False)\n",
    "\n",
    "def load_retrieval_eval_keywords(\n",
    "    directory: str,\n",
    "    pattern: Optional[str] = None\n",
    ") -> pd.DataFrame:\n",
    "    \n",
    "    if pattern is None:\n",
    "        pattern = \"eval-context-keywords-([0-9.]+)-([0-9]+)-([0-9.]+).csv\"\n",
    "    \n",
    "    dfs = []\n",
    "    search_path = f\"{directory}/eval-context-keywords*.csv\"\n",
    "    for path in glob.glob(search_path):\n",
    "        df = pd.read_csv(path)\n",
    "        match = re.search(pattern, path)\n",
    "        if match:\n",
    "            df[\"threshold\"] = float(match.group(1))\n",
    "            df[\"top_k\"] = int(match.group(2))\n",
    "            df[\"top_k_kws\"] = int(match.group(3))\n",
    "        dfs.append(df)\n",
    "    df = pd.concat(dfs, axis=0)\n",
    "    df[\"retrieved_contexts\"] = df[\"retrieved_contexts\"].apply(ast.literal_eval)\n",
    "    return df\n",
    "\n",
    "def load_retrieval_eval(path: str) -> pd.DataFrame:\n",
    "    df = pd.read_csv(path)\n",
    "    df[\"retrieved_contexts\"] = df[\"retrieved_contexts\"].apply(ast.literal_eval)\n",
    "    return df\n",
    "\n",
    "def peek_evaluation_result(df: pd.DataFrame, peek_type:str =\"max\"):\n",
    "    df = df.copy()\n",
    "    peek_type = peek_type.lower().strip()\n",
    "    if peek_type in [\"max\", \"good\"]:\n",
    "        df = df[df['recall'] == df['recall'].max()]\n",
    "    else:\n",
    "        df = df[df['recall'] == df['recall'].min()]\n",
    "        \n",
    "    row = df.sample(n=1).iloc[0]\n",
    "\n",
    "    header_tag = \"h4\"\n",
    "    display(HTML(f\"<h3>{'Good' if peek_type in ['max', 'good'] else 'Bad'} Recall (Passage Overlap Threshold={row['threshold']}, top_k={row['top_k']})</h3\"))\n",
    "    display(HTML(f\"<{header_tag}>Question</{header_tag}>\"))\n",
    "    print(row[\"question\"])\n",
    "\n",
    "    display(HTML(f\"<{header_tag}>Generated Answer</{header_tag}>\"))\n",
    "    print(row[\"prediction\"])\n",
    "\n",
    "    display(HTML(f\"<{header_tag}>Actual Answer</{header_tag}>\"))\n",
    "    print(row[\"answer\"])\n",
    "\n",
    "    display(HTML(f\"<{header_tag}>Actual Context</{header_tag}>\"))\n",
    "    print(row[\"context\"])\n",
    "\n",
    "    display(HTML(\"<hr/>\"))\n",
    "    for idx, ctx in enumerate(row[\"retrieved_contexts\"], start=1):\n",
    "        display(HTML(f\"<{header_tag}>Retrieved Context #{idx}</{header_tag}>\"))\n",
    "        print(ctx)"
   ]
  },
  {
   "cell_type": "code",
   "execution_count": 103,
   "id": "26ba0221-f7f5-412e-ad77-4023dbcd2f49",
   "metadata": {},
   "outputs": [],
   "source": [
    "def plot_mean_recall_kws(df, figsize=(12, 6)):\n",
    "    df = df.copy()\n",
    "    df['top_k'] = pd.to_numeric(df['top_k'], errors='coerce')\n",
    "    df['threshold'] = pd.to_numeric(df['threshold'], errors='coerce')\n",
    "    df['recall'] = pd.to_numeric(df['recall'], errors='coerce')\n",
    "    df['top_k_kws'] = pd.to_numeric(df['top_k_kws'], errors='coerce')\n",
    "\n",
    "    # df = df.groupby(['threshold', 'top_k', 'top_k_kws'])['recall'].mean().reset_index()\n",
    "\n",
    "    # df_mean_recall = df.copy()\n",
    "\n",
    "    # mean recall vs. top_k with lines for each threshold\n",
    "    plt.figure(figsize=figsize)\n",
    "    ax = sns.lineplot(data=df, x='top_k', y='recall', hue='threshold', marker='o', palette='hls')\n",
    "    plt.title('Recall by Top K Retrieved Contexts (colored by Passage Overlap Threshold)')\n",
    "    plt.xlabel('Top K')\n",
    "    plt.ylabel('Recall')\n",
    "    plt.legend(title='Passage Overlap Threshold')\n",
    "\n",
    "    lines, labels = ax.get_legend_handles_labels()\n",
    "    for line, label in zip(ax.lines, labels[:]):  # Skip the first label as it is the legend title\n",
    "        x, y = line.get_data()\n",
    "        plt.text(x[-1], y[-1], f' {label}', verticalalignment='center')  # Annotate the end of the line\n",
    "    \n",
    "    plt.show()"
   ]
  },
  {
   "cell_type": "code",
   "execution_count": 106,
   "id": "a6221d61-b051-441a-8bf1-95476cc48377",
   "metadata": {},
   "outputs": [
    {
     "name": "stdout",
     "output_type": "stream",
     "text": [
      "(30996, 9)\n"
     ]
    },
    {
     "data": {
      "text/html": [
       "<div>\n",
       "<style scoped>\n",
       "    .dataframe tbody tr th:only-of-type {\n",
       "        vertical-align: middle;\n",
       "    }\n",
       "\n",
       "    .dataframe tbody tr th {\n",
       "        vertical-align: top;\n",
       "    }\n",
       "\n",
       "    .dataframe thead th {\n",
       "        text-align: right;\n",
       "    }\n",
       "</style>\n",
       "<table border=\"1\" class=\"dataframe\">\n",
       "  <thead>\n",
       "    <tr style=\"text-align: right;\">\n",
       "      <th></th>\n",
       "      <th>context</th>\n",
       "      <th>question</th>\n",
       "      <th>answer</th>\n",
       "      <th>prediction</th>\n",
       "      <th>retrieved_contexts</th>\n",
       "      <th>recall</th>\n",
       "      <th>threshold</th>\n",
       "      <th>top_k</th>\n",
       "      <th>top_k_kws</th>\n",
       "    </tr>\n",
       "  </thead>\n",
       "  <tbody>\n",
       "    <tr>\n",
       "      <th>0</th>\n",
       "      <td>Genome-wide transcriptional profiling showed t...</td>\n",
       "      <td>Where were the gene expression alterations in ...</td>\n",
       "      <td>reducing gravity levels in the International S...</td>\n",
       "      <td>The gene expression alterations in Drosophila ...</td>\n",
       "      <td>[26-Jun-2013  notifications share  GeneLab ID ...</td>\n",
       "      <td>1.0</td>\n",
       "      <td>0.25</td>\n",
       "      <td>6</td>\n",
       "      <td>25</td>\n",
       "    </tr>\n",
       "    <tr>\n",
       "      <th>1</th>\n",
       "      <td>Genome-wide transcriptional profiling showed t...</td>\n",
       "      <td>What kind of experiments showed differential r...</td>\n",
       "      <td>simulation experiments on ground testing space...</td>\n",
       "      <td>Experiments involving reducing gravity levels ...</td>\n",
       "      <td>[26-Jun-2013  notifications share  GeneLab ID ...</td>\n",
       "      <td>1.0</td>\n",
       "      <td>0.25</td>\n",
       "      <td>6</td>\n",
       "      <td>25</td>\n",
       "    </tr>\n",
       "    <tr>\n",
       "      <th>2</th>\n",
       "      <td>Genome-wide transcriptional profiling showed t...</td>\n",
       "      <td>What is overrepresented in the different exper...</td>\n",
       "      <td>the same GO groups including a large multigene...</td>\n",
       "      <td>The same GO groups, including a large multigen...</td>\n",
       "      <td>[Curiously, although &lt;b&gt;particular&lt;/b&gt; &lt;b&gt;gene...</td>\n",
       "      <td>1.0</td>\n",
       "      <td>0.25</td>\n",
       "      <td>6</td>\n",
       "      <td>25</td>\n",
       "    </tr>\n",
       "    <tr>\n",
       "      <th>3</th>\n",
       "      <td>Genome-wide transcriptional profiling showed t...</td>\n",
       "      <td>What are the implications of the findings in t...</td>\n",
       "      <td>The findings indicate that the finely adjusted...</td>\n",
       "      <td>The findings suggest that the transcriptome is...</td>\n",
       "      <td>[These results suggest that, in addition to be...</td>\n",
       "      <td>1.0</td>\n",
       "      <td>0.25</td>\n",
       "      <td>6</td>\n",
       "      <td>25</td>\n",
       "    </tr>\n",
       "    <tr>\n",
       "      <th>4</th>\n",
       "      <td>The objective of the Rodent Research-5 (RR-5) ...</td>\n",
       "      <td>What was the main goal of the Rodent Research-...</td>\n",
       "      <td>to evaluate bone loss in mice during spaceflig...</td>\n",
       "      <td>The main goal of the Rodent Research-5 (RR-5) ...</td>\n",
       "      <td>[12-Aug-2019  notifications share  GeneLab ID ...</td>\n",
       "      <td>1.0</td>\n",
       "      <td>0.25</td>\n",
       "      <td>6</td>\n",
       "      <td>25</td>\n",
       "    </tr>\n",
       "  </tbody>\n",
       "</table>\n",
       "</div>"
      ],
      "text/plain": [
       "                                             context  \\\n",
       "0  Genome-wide transcriptional profiling showed t...   \n",
       "1  Genome-wide transcriptional profiling showed t...   \n",
       "2  Genome-wide transcriptional profiling showed t...   \n",
       "3  Genome-wide transcriptional profiling showed t...   \n",
       "4  The objective of the Rodent Research-5 (RR-5) ...   \n",
       "\n",
       "                                            question  \\\n",
       "0  Where were the gene expression alterations in ...   \n",
       "1  What kind of experiments showed differential r...   \n",
       "2  What is overrepresented in the different exper...   \n",
       "3  What are the implications of the findings in t...   \n",
       "4  What was the main goal of the Rodent Research-...   \n",
       "\n",
       "                                              answer  \\\n",
       "0  reducing gravity levels in the International S...   \n",
       "1  simulation experiments on ground testing space...   \n",
       "2  the same GO groups including a large multigene...   \n",
       "3  The findings indicate that the finely adjusted...   \n",
       "4  to evaluate bone loss in mice during spaceflig...   \n",
       "\n",
       "                                          prediction  \\\n",
       "0  The gene expression alterations in Drosophila ...   \n",
       "1  Experiments involving reducing gravity levels ...   \n",
       "2  The same GO groups, including a large multigen...   \n",
       "3  The findings suggest that the transcriptome is...   \n",
       "4  The main goal of the Rodent Research-5 (RR-5) ...   \n",
       "\n",
       "                                  retrieved_contexts  recall  threshold  \\\n",
       "0  [26-Jun-2013  notifications share  GeneLab ID ...     1.0       0.25   \n",
       "1  [26-Jun-2013  notifications share  GeneLab ID ...     1.0       0.25   \n",
       "2  [Curiously, although <b>particular</b> <b>gene...     1.0       0.25   \n",
       "3  [These results suggest that, in addition to be...     1.0       0.25   \n",
       "4  [12-Aug-2019  notifications share  GeneLab ID ...     1.0       0.25   \n",
       "\n",
       "   top_k  top_k_kws  \n",
       "0      6         25  \n",
       "1      6         25  \n",
       "2      6         25  \n",
       "3      6         25  \n",
       "4      6         25  "
      ]
     },
     "execution_count": 106,
     "metadata": {},
     "output_type": "execute_result"
    }
   ],
   "source": [
    "# eval_retrieval_kws = load_retrieval_eval_keywords(directory=\"../data/osdr-eval/evals/retrieval/keywords/\")\n",
    "eval_retrieval_kws = load_retrieval_eval(\"../data/osdr-eval/osdr-eval-retrieval-kws.csv\")\n",
    "print(eval_retrieval_kws.shape)\n",
    "eval_retrieval_kws.head()"
   ]
  },
  {
   "cell_type": "code",
   "execution_count": 107,
   "id": "27dd072d-7ee6-4334-8998-1b3ec5a68254",
   "metadata": {},
   "outputs": [
    {
     "data": {
      "text/html": [
       "<div>\n",
       "<style scoped>\n",
       "    .dataframe tbody tr th:only-of-type {\n",
       "        vertical-align: middle;\n",
       "    }\n",
       "\n",
       "    .dataframe tbody tr th {\n",
       "        vertical-align: top;\n",
       "    }\n",
       "\n",
       "    .dataframe thead th {\n",
       "        text-align: right;\n",
       "    }\n",
       "</style>\n",
       "<table border=\"1\" class=\"dataframe\">\n",
       "  <thead>\n",
       "    <tr style=\"text-align: right;\">\n",
       "      <th></th>\n",
       "      <th>recall</th>\n",
       "      <th>threshold</th>\n",
       "      <th>top_k</th>\n",
       "      <th>top_k_kws</th>\n",
       "    </tr>\n",
       "  </thead>\n",
       "  <tbody>\n",
       "    <tr>\n",
       "      <th>count</th>\n",
       "      <td>30996.000000</td>\n",
       "      <td>30996.000000</td>\n",
       "      <td>30996.000000</td>\n",
       "      <td>30996.000000</td>\n",
       "    </tr>\n",
       "    <tr>\n",
       "      <th>mean</th>\n",
       "      <td>0.359595</td>\n",
       "      <td>0.375000</td>\n",
       "      <td>5.000000</td>\n",
       "      <td>37.500000</td>\n",
       "    </tr>\n",
       "    <tr>\n",
       "      <th>std</th>\n",
       "      <td>0.479889</td>\n",
       "      <td>0.085393</td>\n",
       "      <td>2.582031</td>\n",
       "      <td>12.500202</td>\n",
       "    </tr>\n",
       "    <tr>\n",
       "      <th>min</th>\n",
       "      <td>0.000000</td>\n",
       "      <td>0.250000</td>\n",
       "      <td>1.000000</td>\n",
       "      <td>25.000000</td>\n",
       "    </tr>\n",
       "    <tr>\n",
       "      <th>25%</th>\n",
       "      <td>0.000000</td>\n",
       "      <td>0.300000</td>\n",
       "      <td>3.000000</td>\n",
       "      <td>25.000000</td>\n",
       "    </tr>\n",
       "    <tr>\n",
       "      <th>50%</th>\n",
       "      <td>0.000000</td>\n",
       "      <td>0.375000</td>\n",
       "      <td>5.000000</td>\n",
       "      <td>37.500000</td>\n",
       "    </tr>\n",
       "    <tr>\n",
       "      <th>75%</th>\n",
       "      <td>1.000000</td>\n",
       "      <td>0.450000</td>\n",
       "      <td>7.000000</td>\n",
       "      <td>50.000000</td>\n",
       "    </tr>\n",
       "    <tr>\n",
       "      <th>max</th>\n",
       "      <td>1.000000</td>\n",
       "      <td>0.500000</td>\n",
       "      <td>9.000000</td>\n",
       "      <td>50.000000</td>\n",
       "    </tr>\n",
       "  </tbody>\n",
       "</table>\n",
       "</div>"
      ],
      "text/plain": [
       "             recall     threshold         top_k     top_k_kws\n",
       "count  30996.000000  30996.000000  30996.000000  30996.000000\n",
       "mean       0.359595      0.375000      5.000000     37.500000\n",
       "std        0.479889      0.085393      2.582031     12.500202\n",
       "min        0.000000      0.250000      1.000000     25.000000\n",
       "25%        0.000000      0.300000      3.000000     25.000000\n",
       "50%        0.000000      0.375000      5.000000     37.500000\n",
       "75%        1.000000      0.450000      7.000000     50.000000\n",
       "max        1.000000      0.500000      9.000000     50.000000"
      ]
     },
     "execution_count": 107,
     "metadata": {},
     "output_type": "execute_result"
    }
   ],
   "source": [
    "eval_retrieval_kws.describe()"
   ]
  },
  {
   "cell_type": "code",
   "execution_count": 117,
   "id": "f259f1c8-c958-4200-8874-50abd18ed7da",
   "metadata": {},
   "outputs": [],
   "source": [
    "# eval_retrieval_kws.to_csv(\"data/evals/osdr-eval-retrieval-kws.csv\", index=False)"
   ]
  },
  {
   "cell_type": "code",
   "execution_count": 118,
   "id": "6142066a-3fa1-4a42-a1a1-15c2cb5a8c84",
   "metadata": {},
   "outputs": [
    {
     "data": {
      "text/html": [
       "<h3>Good Recall (Passage Overlap Threshold=0.35, top_k=4)</h3"
      ],
      "text/plain": [
       "<IPython.core.display.HTML object>"
      ]
     },
     "metadata": {},
     "output_type": "display_data"
    },
    {
     "data": {
      "text/html": [
       "<h4>Question</h4>"
      ],
      "text/plain": [
       "<IPython.core.display.HTML object>"
      ]
     },
     "metadata": {},
     "output_type": "display_data"
    },
    {
     "name": "stdout",
     "output_type": "stream",
     "text": [
      "Are Lunar Regolith benign substrates?\n"
     ]
    },
    {
     "data": {
      "text/html": [
       "<h4>Generated Answer</h4>"
      ],
      "text/plain": [
       "<IPython.core.display.HTML object>"
      ]
     },
     "metadata": {},
     "output_type": "display_data"
    },
    {
     "name": "stdout",
     "output_type": "stream",
     "text": [
      "No, the lunar regolith is not considered a benign substrate for plant growth. The interaction between plants and lunar regolith can lead to stress in plants, slow development, and severe stress morphologies. Further research is needed to understand and mitigate these interactions for efficient plant growth in lunar habitats.\n"
     ]
    },
    {
     "data": {
      "text/html": [
       "<h4>Actual Answer</h4>"
      ],
      "text/plain": [
       "<IPython.core.display.HTML object>"
      ]
     },
     "metadata": {},
     "output_type": "display_data"
    },
    {
     "name": "stdout",
     "output_type": "stream",
     "text": [
      "No, they are not benign substrates.\n"
     ]
    },
    {
     "data": {
      "text/html": [
       "<h4>Actual Context</h4>"
      ],
      "text/plain": [
       "<IPython.core.display.HTML object>"
      ]
     },
     "metadata": {},
     "output_type": "display_data"
    },
    {
     "name": "stdout",
     "output_type": "stream",
     "text": [
      "The extent to which plants can enhance human life support on other worlds depends on the ability of plants to thrive in extraterrestrial environments using in situ resources. Using samples from Apollo 11, 12 and 17, we show that the terrestrial plant Arabidopsis thaliana germinates and grows in diverse lunar regoliths. However, our results show that growth is challenging; the lunar regolith plants were slow to develop, expressed genes indicative of ionic stresses, and many showed severe stress morphologies. Therefore, although in situ lunar regolith can be useful for plant production in lunar habitats, they are not benign substrates. The interaction between plants and lunar regolith will need to be further elucidated, and likely mitigated, to enable efficient use of lunar regolith for life support.\n"
     ]
    },
    {
     "data": {
      "text/html": [
       "<hr/>"
      ],
      "text/plain": [
       "<IPython.core.display.HTML object>"
      ]
     },
     "metadata": {},
     "output_type": "display_data"
    },
    {
     "data": {
      "text/html": [
       "<h4>Retrieved Context #1</h4>"
      ],
      "text/plain": [
       "<IPython.core.display.HTML object>"
      ]
     },
     "metadata": {},
     "output_type": "display_data"
    },
    {
     "name": "stdout",
     "output_type": "stream",
     "text": [
      "the <b>lunar</b> <b>regolith</b> plants were slow to develop, expressed genes indicative of ionic stresses, and many showed severe stress morphologies. Therefore, although in situ <b>lunar</b> <b>regolith</b> can be useful for plant production in <b>lunar</b> habitats, they are not <b>benign</b> <b>substrates</b>. The interaction between plants and <b>lunar</b> <b>regolith</b> will need to be further elucidated, and likely mitigated, to enable efficient use of <b>lunar</b> <b>regolith</b> for life support.  Factor(s)  Factor  Ontology: Concept  Treatment  treatment  Organism(s)  Arabidopsis thaliana  Assay(s)  Measurement  Technology  Device Platform  transcription profiling  RNA Sequencing (RNA-Seq)  Illumina  Morphometric analysis  Image analysis  ImageJ  Project  Project Title\n"
     ]
    },
    {
     "data": {
      "text/html": [
       "<h4>Retrieved Context #2</h4>"
      ],
      "text/plain": [
       "<IPython.core.display.HTML object>"
      ]
     },
     "metadata": {},
     "output_type": "display_data"
    },
    {
     "name": "stdout",
     "output_type": "stream",
     "text": [
      "A11 <b>Lunar</b> <b>regolith</b> and Rockwool plug moistened with a nutrient solution of 0.125x strength Murashige and Skoog nutrient solution, pH 5.7  900 milligram  Light Emitting Diode Device  vented terrarium chamber  22 degree Celsius  16:8 light:dark hour  21 day  2-4 seeds per well. The seedlings thinned to 1 on day 6 or 8  treatment protocol  plant embryo dormant stage  sample collection  Liquid Nitrogen  -80 degree Celsius  21 day  2  LP.02 two leaves visible stage  Col-0, Leaves, Apollo 12 <b>regolith</b>, replicate 2  GSM5691017  Arabidopsis thaliana  Wild Type  Col-0  aboveground biomass  Arabidopsis Biological Resource Center TAIR CS70000  Apollo 12 <b>regolith</b>\n"
     ]
    },
    {
     "data": {
      "text/html": [
       "<h4>Retrieved Context #3</h4>"
      ],
      "text/plain": [
       "<IPython.core.display.HTML object>"
      ]
     },
     "metadata": {},
     "output_type": "display_data"
    },
    {
     "name": "stdout",
     "output_type": "stream",
     "text": [
      "A11 <b>Lunar</b> <b>regolith</b> and Rockwool plug moistened with a nutrient solution of 0.125x strength Murashige and Skoog nutrient solution, pH 5.7  900 milligram  Light Emitting Diode Device  vented terrarium chamber  22 degree Celsius  16:8 light:dark hour  21 day  2-4 seeds per well. The seedlings thinned to 1 on day 6 or 8  treatment protocol  plant embryo dormant stage  sample collection  Liquid Nitrogen  -80 degree Celsius  21 day  4  LP.04 four leaves visible stage  Col-0, Leaves, Apollo 12 <b>regolith</b>, replicate 1  GSM5691013  Arabidopsis thaliana  Wild Type  Col-0  aboveground biomass  Arabidopsis Biological Resource Center TAIR CS70000  Apollo 12 <b>regolith</b>\n"
     ]
    },
    {
     "data": {
      "text/html": [
       "<h4>Retrieved Context #4</h4>"
      ],
      "text/plain": [
       "<IPython.core.display.HTML object>"
      ]
     },
     "metadata": {},
     "output_type": "display_data"
    },
    {
     "name": "stdout",
     "output_type": "stream",
     "text": [
      "treatment protocol  plant embryo dormant stage  sample collection  Liquid Nitrogen  -80 degree Celsius  21 day  6  LP.06 six leaves visible stage  Col-0, Leaves, Apollo 17 <b>regolith</b>, replicate 4  GSM5691026  Arabidopsis thaliana  Wild Type  Col-0  aboveground biomass  Arabidopsis Biological Resource Center TAIR CS70000  Apollo 17 <b>regolith</b>  growth protocol  Earth surface  A17 <b>Lunar</b> <b>regolith</b> and Rockwool plug moistened with a nutrient solution of 0.125x strength Murashige and Skoog nutrient solution, pH 5.7  900 milligram  Light Emitting Diode Device  vented terrarium chamber  22 degree Celsius  16:8 light:dark hour  21 day  2-4 seeds per well.\n"
     ]
    },
    {
     "data": {
      "text/html": [
       "<h4>Retrieved Context #5</h4>"
      ],
      "text/plain": [
       "<IPython.core.display.HTML object>"
      ]
     },
     "metadata": {},
     "output_type": "display_data"
    },
    {
     "name": "stdout",
     "output_type": "stream",
     "text": [
      "A11 <b>Lunar</b> <b>regolith</b> and Rockwool plug moistened with a nutrient solution of 0.125x strength Murashige and Skoog nutrient solution, pH 5.7  900 milligram  Light Emitting Diode Device  vented terrarium chamber  22 degree Celsius  16:8 light:dark hour  21 day  2-4 seeds per well. The seedlings thinned to 1 on day 6 or 8  treatment protocol  plant embryo dormant stage  sample collection  Liquid Nitrogen  -80 degree Celsius  21 day  0  only cotyledonary node visible  Col-0, Leaves, Apollo 12 <b>regolith</b>, replicate 3  GSM5691021  Arabidopsis thaliana  Wild Type  Col-0  aboveground biomass  Arabidopsis Biological Resource Center TAIR CS70000  Apollo 12 <b>regolith</b>  growth protocol\n"
     ]
    },
    {
     "data": {
      "text/html": [
       "<h4>Retrieved Context #6</h4>"
      ],
      "text/plain": [
       "<IPython.core.display.HTML object>"
      ]
     },
     "metadata": {},
     "output_type": "display_data"
    },
    {
     "name": "stdout",
     "output_type": "stream",
     "text": [
      "treatment protocol  plant embryo dormant stage  sample collection  Liquid Nitrogen  -80 degree Celsius  21 day  4  LP.04 four leaves visible stage  Col-0, Leaves, Apollo 17 <b>regolith</b>, replicate 3  GSM5691022  Arabidopsis thaliana  Wild Type  Col-0  aboveground biomass  Arabidopsis Biological Resource Center TAIR CS70000  Apollo 17 <b>regolith</b>  growth protocol  Earth surface  A17 <b>Lunar</b> <b>regolith</b> and Rockwool plug moistened with a nutrient solution of 0.125x strength Murashige and Skoog nutrient solution, pH 5.7  900 milligram  Light Emitting Diode Device  vented terrarium chamber  22 degree Celsius  16:8 light:dark hour  21 day  2-4 seeds per well.\n"
     ]
    },
    {
     "data": {
      "text/html": [
       "<h4>Retrieved Context #7</h4>"
      ],
      "text/plain": [
       "<IPython.core.display.HTML object>"
      ]
     },
     "metadata": {},
     "output_type": "display_data"
    },
    {
     "name": "stdout",
     "output_type": "stream",
     "text": [
      "treatment protocol  plant embryo dormant stage  sample collection  Liquid Nitrogen  -80 degree Celsius  20 day  10  LP.10 ten leaves visible stage  Col-0, Leaves, Apollo 11 <b>regolith</b>, replicate 4  GSM5691024  Arabidopsis thaliana  Wild Type  Col-0  aboveground biomass  Arabidopsis Biological Resource Center TAIR CS70000  Apollo 11 <b>regolith</b>  growth protocol  Earth surface  A11 <b>Lunar</b> <b>regolith</b> and Rockwool plug moistened with a nutrient solution of 0.125x strength Murashige and Skoog nutrient solution, pH 5.7  900 milligram  Light Emitting Diode Device  vented terrarium chamber  22 degree Celsius  16:8 light:dark hour  21 day  2-4 seeds per well.\n"
     ]
    },
    {
     "data": {
      "text/html": [
       "<h4>Retrieved Context #8</h4>"
      ],
      "text/plain": [
       "<IPython.core.display.HTML object>"
      ]
     },
     "metadata": {},
     "output_type": "display_data"
    },
    {
     "name": "stdout",
     "output_type": "stream",
     "text": [
      "A17 <b>Lunar</b> <b>regolith</b> and Rockwool plug moistened with a nutrient solution of 0.125x strength Murashige and Skoog nutrient solution, pH 5.7  900 milligram  Light Emitting Diode Device  vented terrarium chamber  22 degree Celsius  16:8 light:dark hour  21 day  2-4 seeds per well. The seedlings thinned to 1 on day 6 or 8  treatment protocol  plant embryo dormant stage  sample collection  Liquid Nitrogen  -80 degree Celsius  21 day  6  LP.06 six leaves visible stage  Col-0, Leaves, JSC-1A, replicate 3  GSM5691019  Arabidopsis thaliana  Wild Type  Col-0  aboveground biomass  Arabidopsis Biological Resource Center TAIR CS70000  JSC-1A <b>lunar</b> simulant\n"
     ]
    },
    {
     "data": {
      "text/html": [
       "<h4>Retrieved Context #9</h4>"
      ],
      "text/plain": [
       "<IPython.core.display.HTML object>"
      ]
     },
     "metadata": {},
     "output_type": "display_data"
    },
    {
     "name": "stdout",
     "output_type": "stream",
     "text": [
      "A17 <b>Lunar</b> <b>regolith</b> and Rockwool plug moistened with a nutrient solution of 0.125x strength Murashige and Skoog nutrient solution, pH 5.7  900 milligram  Light Emitting Diode Device  vented terrarium chamber  22 degree Celsius  16:8 light:dark hour  21 day  2-4 seeds per well. The seedlings thinned to 1 on day 6 or 8  treatment protocol  plant embryo dormant stage  sample collection  Liquid Nitrogen  -80 degree Celsius  21 day  2  LP.02 two leaves visible stage  Col-0, Leaves, JSC-1A, replicate 2  GSM5691015  Arabidopsis thaliana  Wild Type  Col-0  aboveground biomass  Arabidopsis Biological Resource Center TAIR CS70000  JSC-1A <b>lunar</b> simulant\n"
     ]
    },
    {
     "data": {
      "text/html": [
       "<h4>Retrieved Context #10</h4>"
      ],
      "text/plain": [
       "<IPython.core.display.HTML object>"
      ]
     },
     "metadata": {},
     "output_type": "display_data"
    },
    {
     "name": "stdout",
     "output_type": "stream",
     "text": [
      "Arabidopsis thaliana  Wild Type  Col-0  aboveground biomass  Arabidopsis Biological Resource Center TAIR CS70000  Apollo 12 <b>regolith</b>  growth protocol  Earth surface  A12 <b>Lunar</b> <b>regolith</b> and Rockwool plug moistened with a nutrient solution of 0.125x strength Murashige and Skoog nutrient solution, pH 5.7  900 milligram  Light Emitting Diode Device  vented terrarium chamber  22 degree Celsius  16:8 light:dark hour  21 day  2-4 seeds per well. The seedlings thinned to 1 on day 6 or 8  treatment protocol  plant embryo dormant stage  sample collection  Liquid Nitrogen  -80 degree Celsius  21 day  6  LP.06 six leaves visible stage\n"
     ]
    }
   ],
   "source": [
    "peek_evaluation_result(eval_retrieval_kws, peek_type=\"good\")"
   ]
  },
  {
   "cell_type": "code",
   "execution_count": 119,
   "id": "a4d86613-a98c-438a-939b-6fc420faeed8",
   "metadata": {},
   "outputs": [
    {
     "data": {
      "text/html": [
       "<h3>Bad Recall (Passage Overlap Threshold=0.3, top_k=9)</h3"
      ],
      "text/plain": [
       "<IPython.core.display.HTML object>"
      ]
     },
     "metadata": {},
     "output_type": "display_data"
    },
    {
     "data": {
      "text/html": [
       "<h4>Question</h4>"
      ],
      "text/plain": [
       "<IPython.core.display.HTML object>"
      ]
     },
     "metadata": {},
     "output_type": "display_data"
    },
    {
     "name": "stdout",
     "output_type": "stream",
     "text": [
      "What kind of tissues did this study use?\n"
     ]
    },
    {
     "data": {
      "text/html": [
       "<h4>Generated Answer</h4>"
      ],
      "text/plain": [
       "<IPython.core.display.HTML object>"
      ]
     },
     "metadata": {},
     "output_type": "display_data"
    },
    {
     "name": "stdout",
     "output_type": "stream",
     "text": [
      "The study mentioned in the context used various tissues such as lumbar spine, tibialis anterior, tibia, soleus, femur, and extensor digitorum longus from mice for different assays like DXA Scanning and Western blot.\n"
     ]
    },
    {
     "data": {
      "text/html": [
       "<h4>Actual Answer</h4>"
      ],
      "text/plain": [
       "<IPython.core.display.HTML object>"
      ]
     },
     "metadata": {},
     "output_type": "display_data"
    },
    {
     "name": "stdout",
     "output_type": "stream",
     "text": [
      "Hair\n"
     ]
    },
    {
     "data": {
      "text/html": [
       "<h4>Actual Context</h4>"
      ],
      "text/plain": [
       "<IPython.core.display.HTML object>"
      ]
     },
     "metadata": {},
     "output_type": "display_data"
    },
    {
     "name": "stdout",
     "output_type": "stream",
     "text": [
      "In each mission, five strands of hair were sampled six times from each astronaut within the period of July 2009 to February 2013. The sampling timings were as follows: 6 sampling time points (Fig 1); first preflight (Launch (L) -180 to -90 days: 6 to 3 months before launch), second preflight (L-60 to -14: 2 months to 2 weeks before launch), first inflight (L+20 to 37: 20 to 37 days after launch), second inflight (Return (R) -20 to -7: 20 to 7 days before return), first postflight (R+2 to 7: 2 to 7 days after return), and second postflight (R+30 to 90: from 1 to 3 months after return). In sampling day, two astronauts were paired and plucked another hair sample using tweezer in the direction of hair growth without damaging the hair roots. These plucked samples were stored at -80C until analysis.\n"
     ]
    },
    {
     "data": {
      "text/html": [
       "<hr/>"
      ],
      "text/plain": [
       "<IPython.core.display.HTML object>"
      ]
     },
     "metadata": {},
     "output_type": "display_data"
    },
    {
     "data": {
      "text/html": [
       "<h4>Retrieved Context #1</h4>"
      ],
      "text/plain": [
       "<IPython.core.display.HTML object>"
      ]
     },
     "metadata": {},
     "output_type": "display_data"
    },
    {
     "name": "stdout",
     "output_type": "stream",
     "text": [
      "In response to these and other observations, the Rapid Freeze hardware was built for <b>use</b> on the International Space Station. The Rapid Freeze hardware freezes mouse <b>tissues</b> (Glovebox freezer) and whole carcasses (Cryochiller) at rates closely mimicking those attained with immersion in liquid nitrogen. Because this hardware will be <b>used</b> extensively on future rodent research missions, it is crucial to understand whether or not it preserves signals in gene expression data in order to maximize the value of these rare and expensive spaceflight experiments. Therefore, this <b>study</b> was designed with three goals:\n"
     ]
    },
    {
     "data": {
      "text/html": [
       "<h4>Retrieved Context #2</h4>"
      ],
      "text/plain": [
       "<IPython.core.display.HTML object>"
      ]
     },
     "metadata": {},
     "output_type": "display_data"
    },
    {
     "name": "stdout",
     "output_type": "stream",
     "text": [
      "This <b>study</b> derives results from the DXA Scanning assay <b>using</b> lumbar spine <b>tissue</b> from HLS mice. The lumbar spine data in this <b>study</b> are related to other <b>studies</b> <b>using</b> <b>tissues</b> from the same experiment; OSD-654 (tibia), OSD-660 (tibialis anterior), OSD-662 (soleus), OSD-663 (femur), and OSD-664 (extensor digitorum longus).  Factor(s)  Factor  Ontology: Concept  Hindlimb Unloading  Hindlimb Suspension  Genotype  Genotype  Organism(s)  Mus musculus  Assay(s)  Measurement  Technology  Device Platform  Bone Microstructure  Dual-Energy X-Ray Absorptiometry  osteosys insight  Project  Payload Identifier  GROUND-2  Project Type  Ground <b>Study</b>  Experiment Platform  Hindlimb Unloading  Sponsoring Agency  NASA, CSA\n"
     ]
    },
    {
     "data": {
      "text/html": [
       "<h4>Retrieved Context #3</h4>"
      ],
      "text/plain": [
       "<IPython.core.display.HTML object>"
      ]
     },
     "metadata": {},
     "output_type": "display_data"
    },
    {
     "name": "stdout",
     "output_type": "stream",
     "text": [
      "01-Jul-2011  notifications share  GeneLab ID : GLDS-92 DOI : 10.26030/2k69-6j41 Source Accession : E-GEOD-16935  Cite this <b>Study</b>  info Description  Description  Accumulating data suggest that the biological responses to high and low doses of radiation are qualitatively different, necessitating the direct <b>study</b> of low dose responses. Most such <b>studies</b> have utilized 2-dimensional culture systems, which may not fully represent responses in 3-dimensional <b>tissues</b>.\n"
     ]
    },
    {
     "data": {
      "text/html": [
       "<h4>Retrieved Context #4</h4>"
      ],
      "text/plain": [
       "<IPython.core.display.HTML object>"
      ]
     },
     "metadata": {},
     "output_type": "display_data"
    },
    {
     "name": "stdout",
     "output_type": "stream",
     "text": [
      "This <b>study</b> derives results from the Western blot assay <b>using</b> tibialis anterior <b>tissue</b> from the RR9 mission. The tibialis anterior data in this <b>study</b> are related to other <b>studies</b> <b>using</b> <b>tissues</b> from the same experiment; OSD-654 (tibia), OSD-661 (lumbar spine), OSD-662 (soleus), OSD-663 (femur), and OSD-664 (extensor digitorum longus).  Factor(s)  Factor  Ontology: Concept  Spaceflight  Space Flight  Organism(s)  Mus musculus  Assay(s)  Measurement  Technology  Device Platform  protein quantification  Western Blot  BioRad ChemiDoc  Project  Payload Identifier  RR-9  Project Type  Spaceflight <b>Study</b>  Flight Program  ISS  Experiment Platform  Rodent Habitat  Sponsoring Agency  NASA  NASA Center\n"
     ]
    },
    {
     "data": {
      "text/html": [
       "<h4>Retrieved Context #5</h4>"
      ],
      "text/plain": [
       "<IPython.core.display.HTML object>"
      ]
     },
     "metadata": {},
     "output_type": "display_data"
    },
    {
     "name": "stdout",
     "output_type": "stream",
     "text": [
      "strength, and promoted the oxidative fiber type with Earth-based hindlimb unloading. In bone, GSK3 activation was enhanced after spaceflight; and strikingly, muscle-specific Gsk3 deletion increased bone mineral density in response to hindlimb unloading. Thus, future <b>studies</b> should test the effects of GSK3 inhibition during spaceflight. This <b>study</b> derives results from the Western blot assay <b>using</b> tibialis anterior <b>tissue</b> from the RR9 mission. The tibialis anterior data in this <b>study</b> are related to other <b>studies</b> <b>using</b> <b>tissues</b> from the same experiment;\n"
     ]
    },
    {
     "data": {
      "text/html": [
       "<h4>Retrieved Context #6</h4>"
      ],
      "text/plain": [
       "<IPython.core.display.HTML object>"
      ]
     },
     "metadata": {},
     "output_type": "display_data"
    },
    {
     "name": "stdout",
     "output_type": "stream",
     "text": [
      "different molecular mechanisms of tumorigenesis. Also seen in this <b>study</b> was novel unmapped transcripts that were significantly affected by HZE. To investigate the biological functions of these transcripts, we <b>used</b> a machine learning technique known as self-organizing maps (SOMs) to characterize the transcriptome expression profiles of 60 samples (45 HZE-irradiated, 15 non-irradiated control) from liver <b>tissues</b>. A handful of localized modules in the maps emerged as groups of co-regulated and co-expressed transcripts. The functional context of these modules was discovered <b>using</b> overrepresentation analysis.\n"
     ]
    },
    {
     "data": {
      "text/html": [
       "<h4>Retrieved Context #7</h4>"
      ],
      "text/plain": [
       "<IPython.core.display.HTML object>"
      ]
     },
     "metadata": {},
     "output_type": "display_data"
    },
    {
     "name": "stdout",
     "output_type": "stream",
     "text": [
      "order to maximize the value of these rare and expensive spaceflight experiments. Therefore, this <b>study</b> was designed with three goals: 1) To evaluate the temperature profile of the Cryochiller and Glovebox freezer cartridges (Rapid Freeze hardware) over time during mock on-orbit procedures; 2) To determine the freezing profiles of <b>tissues</b> and carcasses <b>using</b> Rapid Freeze hardware at both optimal and sub-optimal temperatures (to mimic on-orbit operations), compared with those frozen in liquid nitrogen (the laboratory gold standard) or frozen at -80 C (the current standard method); 3) To identify gene expression changes in a) <b>tissues</b> that were\n"
     ]
    }
   ],
   "source": [
    "peek_evaluation_result(eval_retrieval_kws, peek_type=\"bad\")"
   ]
  },
  {
   "cell_type": "code",
   "execution_count": 108,
   "id": "d39fd2a8-be95-490e-9475-a99cfa696fd3",
   "metadata": {},
   "outputs": [
    {
     "data": {
      "image/png": "[encoded data removed]",
      "text/plain": [
       "<Figure size 1200x600 with 1 Axes>"
      ]
     },
     "metadata": {},
     "output_type": "display_data"
    }
   ],
   "source": [
    "plot_mean_recall_kws(eval_retrieval_kws)"
   ]
  },
  {
   "cell_type": "markdown",
   "id": "f3bad7a6-b60b-43f9-afe8-fd754f370be7",
   "metadata": {},
   "source": [
    "### Semantic Retrieval Evaluation"
   ]
  },
  {
   "cell_type": "code",
   "execution_count": 109,
   "id": "e0bdca06-0871-454b-9244-35c2ec736c72",
   "metadata": {},
   "outputs": [],
   "source": [
    "BERT_SCORE = BertScore(per_instance_score=True)"
   ]
  },
  {
   "cell_type": "code",
   "execution_count": 110,
   "id": "525a9ba4-d02e-4e92-8cd3-cea549b03d3c",
   "metadata": {},
   "outputs": [],
   "source": [
    "def compute_recall_semantic(\n",
    "    reference: str,\n",
    "    retrieved_values: List[str],\n",
    "    top_k: int = 1,\n",
    "    top_k_kws: int = 10,\n",
    "    threshold:float = 0.5,\n",
    "    debug: bool = False,\n",
    ") -> float:\n",
    "    \n",
    "    recall = 0.0\n",
    "\n",
    "    retrieved_values = retrieved_values[:top_k]\n",
    "    references = [reference] * len(retrieved_values)\n",
    "    predictions = retrieved_values.copy()\n",
    "    result = BERT_SCORE(references=references, predictions=predictions)\n",
    "    max_score = max(result.extra[\"bertscore\"][\"recall\"])\n",
    "    return float(max_score >= threshold), max_score\n",
    "\n",
    "def evaluate_retrieval_semantic(\n",
    "    response: pd.DataFrame,\n",
    "    threshold=0.5,\n",
    "    top_k:int = 1,\n",
    "    top_k_kws: int = 10,\n",
    "    debug:bool=False\n",
    ") -> pd.DataFrame:\n",
    "    if \"question\" not in response and \"prediction\" not in response and \"reference\" not in response:\n",
    "        response = simplify_response(response)\n",
    "\n",
    "    response = response[response.retrieved_contexts.str.len() != 0]\n",
    "\n",
    "    results = []\n",
    "    for row in response.itertuples():\n",
    "        context = row.context\n",
    "        retrieved_contexts = row.retrieved_contexts\n",
    "        retrieved_contexts = list(map(lambda x: x[\"page_content\"], retrieved_contexts))\n",
    "        recall, score = compute_recall_semantic(\n",
    "            context,\n",
    "            retrieved_contexts,\n",
    "            threshold=threshold,\n",
    "            top_k=top_k,\n",
    "            top_k_kws=top_k_kws,\n",
    "            debug=debug\n",
    "        )\n",
    "        if debug:\n",
    "            print(recall, score)\n",
    "        results.append(dict(\n",
    "            context=context,\n",
    "            question=row.question,\n",
    "            answer=row.reference,\n",
    "            prediction=row.prediction,\n",
    "            retrieved_contexts=retrieved_contexts,\n",
    "            recall=recall,\n",
    "            score=score,\n",
    "        ))\n",
    "    return pd.DataFrame(results)"
   ]
  },
  {
   "cell_type": "code",
   "execution_count": 111,
   "id": "d550373d-7d7f-4637-aac1-f21aa33b82d5",
   "metadata": {},
   "outputs": [],
   "source": [
    "def batch_eval_semantic(response):\n",
    "    thresholds = [0.5, 0.65]\n",
    "    top_k_vals = [1, 5, 10]\n",
    "    for threshold in thresholds:\n",
    "        for top_k in top_k_vals:\n",
    "            logger.debug(f\"Evaluating for threshold={threshold}, top_k={top_k}\")\n",
    "            result = evaluate_retrieval_semantic_v2(\n",
    "                response,\n",
    "                threshold=threshold,\n",
    "                top_k=top_k, \n",
    "                top_k_kws=50,\n",
    "                debug=False)\n",
    "            fname = f\"data/evals/retrieval/bertscore/eval-context-bertscore-{threshold}-{top_k}.csv\"\n",
    "            logger.debug(f\"Dumping eval to {fname}\")\n",
    "            result.to_csv(fname, index=False)\n",
    "\n",
    "def load_retrieval_eval_semantic(\n",
    "    directory: str,\n",
    "    pattern: Optional[str] = None\n",
    ") -> pd.DataFrame:\n",
    "    \n",
    "    if pattern is None:\n",
    "        pattern = \"eval-context-bertscore-([0-9.]+)-([0-9]+).csv\"\n",
    "    \n",
    "    dfs = []\n",
    "    search_path = f\"{directory}/eval-context-bertscore*.csv\"\n",
    "    for path in glob.glob(search_path):\n",
    "        df = pd.read_csv(path)\n",
    "        match = re.search(pattern, path)\n",
    "        if match:\n",
    "            df[\"threshold\"] = float(match.group(1))\n",
    "            df[\"top_k\"] = int(match.group(2))\n",
    "        dfs.append(df)\n",
    "    df = pd.concat(dfs, axis=0)\n",
    "    df[\"retrieved_contexts\"] = df[\"retrieved_contexts\"].apply(ast.literal_eval)\n",
    "    return df"
   ]
  },
  {
   "cell_type": "code",
   "execution_count": 112,
   "id": "8f24d738-5d55-41c3-abee-d7a9b3ead510",
   "metadata": {},
   "outputs": [],
   "source": [
    "def plot_mean_recall_semantic(df, figsize=(12, 6)):\n",
    "    df = df.copy()\n",
    "    df['top_k'] = pd.to_numeric(df['top_k'], errors='coerce')\n",
    "    df['threshold'] = pd.to_numeric(df['threshold'], errors='coerce')\n",
    "    df['recall'] = pd.to_numeric(df['recall'], errors='coerce')\n",
    "\n",
    "    # recall vs. top_k with lines for each threshold\n",
    "    plt.figure(figsize=figsize)\n",
    "    ax = sns.lineplot(data=df, x='top_k', y='recall', hue='threshold', marker='o', palette='dark')\n",
    "    plt.title('Recall by Top K Retrieved Contexts (colored by Passage Overlap Threshold)')\n",
    "    plt.xlabel('Top K')\n",
    "    plt.ylabel('Recall')\n",
    "    plt.legend(title='Passage Overlap Threshold')\n",
    "\n",
    "    lines, labels = ax.get_legend_handles_labels()\n",
    "    for line, label in zip(ax.lines, labels[:]):  # Skip the first label as it is the legend title\n",
    "        x, y = line.get_data()\n",
    "        plt.text(x[-1], y[-1], f' {label}', verticalalignment='center')  # Annotate the end of the line\n",
    "    \n",
    "    plt.show()\n",
    "\n",
    "    # recall vs. threshold with lines for each top_k_kws\n",
    "    plt.figure(figsize=figsize)\n",
    "    sns.lineplot(data=df, x='threshold', y='recall', marker='o', palette='vlag')\n",
    "    plt.title('Recall by Passage Overlap Threshold')\n",
    "    plt.xlabel('Passage Overlap Threshold')\n",
    "    plt.ylabel('Recall')\n",
    "    plt.show()"
   ]
  },
  {
   "cell_type": "code",
   "execution_count": 113,
   "id": "e2d5d680-5ce7-4909-8026-46087fbc711a",
   "metadata": {},
   "outputs": [
    {
     "data": {
      "text/html": [
       "<div>\n",
       "<style scoped>\n",
       "    .dataframe tbody tr th:only-of-type {\n",
       "        vertical-align: middle;\n",
       "    }\n",
       "\n",
       "    .dataframe tbody tr th {\n",
       "        vertical-align: top;\n",
       "    }\n",
       "\n",
       "    .dataframe thead th {\n",
       "        text-align: right;\n",
       "    }\n",
       "</style>\n",
       "<table border=\"1\" class=\"dataframe\">\n",
       "  <thead>\n",
       "    <tr style=\"text-align: right;\">\n",
       "      <th></th>\n",
       "      <th>context</th>\n",
       "      <th>question</th>\n",
       "      <th>answer</th>\n",
       "      <th>prediction</th>\n",
       "      <th>retrieved_contexts</th>\n",
       "      <th>recall</th>\n",
       "      <th>score</th>\n",
       "      <th>threshold</th>\n",
       "      <th>top_k</th>\n",
       "    </tr>\n",
       "  </thead>\n",
       "  <tbody>\n",
       "    <tr>\n",
       "      <th>0</th>\n",
       "      <td>Genome-wide transcriptional profiling showed t...</td>\n",
       "      <td>Where were the gene expression alterations in ...</td>\n",
       "      <td>reducing gravity levels in the International S...</td>\n",
       "      <td>The gene expression alterations in Drosophila ...</td>\n",
       "      <td>[26-Jun-2013  notifications share  GeneLab ID ...</td>\n",
       "      <td>1.0</td>\n",
       "      <td>0.709230</td>\n",
       "      <td>0.5</td>\n",
       "      <td>10</td>\n",
       "    </tr>\n",
       "    <tr>\n",
       "      <th>1</th>\n",
       "      <td>Genome-wide transcriptional profiling showed t...</td>\n",
       "      <td>What kind of experiments showed differential r...</td>\n",
       "      <td>simulation experiments on ground testing space...</td>\n",
       "      <td>Experiments involving reducing gravity levels ...</td>\n",
       "      <td>[26-Jun-2013  notifications share  GeneLab ID ...</td>\n",
       "      <td>1.0</td>\n",
       "      <td>0.701952</td>\n",
       "      <td>0.5</td>\n",
       "      <td>10</td>\n",
       "    </tr>\n",
       "    <tr>\n",
       "      <th>2</th>\n",
       "      <td>Genome-wide transcriptional profiling showed t...</td>\n",
       "      <td>What is overrepresented in the different exper...</td>\n",
       "      <td>the same GO groups including a large multigene...</td>\n",
       "      <td>The same GO groups, including a large multigen...</td>\n",
       "      <td>[Curiously, although &lt;b&gt;particular&lt;/b&gt; &lt;b&gt;gene...</td>\n",
       "      <td>1.0</td>\n",
       "      <td>0.706340</td>\n",
       "      <td>0.5</td>\n",
       "      <td>10</td>\n",
       "    </tr>\n",
       "    <tr>\n",
       "      <th>3</th>\n",
       "      <td>Genome-wide transcriptional profiling showed t...</td>\n",
       "      <td>What are the implications of the findings in t...</td>\n",
       "      <td>The findings indicate that the finely adjusted...</td>\n",
       "      <td>The findings suggest that the transcriptome is...</td>\n",
       "      <td>[These results suggest that, in addition to be...</td>\n",
       "      <td>1.0</td>\n",
       "      <td>0.722527</td>\n",
       "      <td>0.5</td>\n",
       "      <td>10</td>\n",
       "    </tr>\n",
       "    <tr>\n",
       "      <th>4</th>\n",
       "      <td>The objective of the Rodent Research-5 (RR-5) ...</td>\n",
       "      <td>What was the main goal of the Rodent Research-...</td>\n",
       "      <td>to evaluate bone loss in mice during spaceflig...</td>\n",
       "      <td>The main goal of the Rodent Research-5 (RR-5) ...</td>\n",
       "      <td>[12-Aug-2019  notifications share  GeneLab ID ...</td>\n",
       "      <td>1.0</td>\n",
       "      <td>0.587473</td>\n",
       "      <td>0.5</td>\n",
       "      <td>10</td>\n",
       "    </tr>\n",
       "  </tbody>\n",
       "</table>\n",
       "</div>"
      ],
      "text/plain": [
       "                                             context  \\\n",
       "0  Genome-wide transcriptional profiling showed t...   \n",
       "1  Genome-wide transcriptional profiling showed t...   \n",
       "2  Genome-wide transcriptional profiling showed t...   \n",
       "3  Genome-wide transcriptional profiling showed t...   \n",
       "4  The objective of the Rodent Research-5 (RR-5) ...   \n",
       "\n",
       "                                            question  \\\n",
       "0  Where were the gene expression alterations in ...   \n",
       "1  What kind of experiments showed differential r...   \n",
       "2  What is overrepresented in the different exper...   \n",
       "3  What are the implications of the findings in t...   \n",
       "4  What was the main goal of the Rodent Research-...   \n",
       "\n",
       "                                              answer  \\\n",
       "0  reducing gravity levels in the International S...   \n",
       "1  simulation experiments on ground testing space...   \n",
       "2  the same GO groups including a large multigene...   \n",
       "3  The findings indicate that the finely adjusted...   \n",
       "4  to evaluate bone loss in mice during spaceflig...   \n",
       "\n",
       "                                          prediction  \\\n",
       "0  The gene expression alterations in Drosophila ...   \n",
       "1  Experiments involving reducing gravity levels ...   \n",
       "2  The same GO groups, including a large multigen...   \n",
       "3  The findings suggest that the transcriptome is...   \n",
       "4  The main goal of the Rodent Research-5 (RR-5) ...   \n",
       "\n",
       "                                  retrieved_contexts  recall     score  \\\n",
       "0  [26-Jun-2013  notifications share  GeneLab ID ...     1.0  0.709230   \n",
       "1  [26-Jun-2013  notifications share  GeneLab ID ...     1.0  0.701952   \n",
       "2  [Curiously, although <b>particular</b> <b>gene...     1.0  0.706340   \n",
       "3  [These results suggest that, in addition to be...     1.0  0.722527   \n",
       "4  [12-Aug-2019  notifications share  GeneLab ID ...     1.0  0.587473   \n",
       "\n",
       "   threshold  top_k  \n",
       "0        0.5     10  \n",
       "1        0.5     10  \n",
       "2        0.5     10  \n",
       "3        0.5     10  \n",
       "4        0.5     10  "
      ]
     },
     "execution_count": 113,
     "metadata": {},
     "output_type": "execute_result"
    }
   ],
   "source": [
    "# eval_retrieval_semantic = load_retrieval_eval_semantic(\"../data/osdr-eval/evals/retrieval/bertscore/\")\n",
    "eval_retrieval_semantic = load_retrieval_eval(\"../data/osdr-eval/osdr-eval-retrieval-semantic.csv\")\n",
    "eval_retrieval_semantic.head()"
   ]
  },
  {
   "cell_type": "code",
   "execution_count": 114,
   "id": "0b6283c0-02da-4a29-a45a-8b081564f50d",
   "metadata": {},
   "outputs": [
    {
     "data": {
      "text/html": [
       "<div>\n",
       "<style scoped>\n",
       "    .dataframe tbody tr th:only-of-type {\n",
       "        vertical-align: middle;\n",
       "    }\n",
       "\n",
       "    .dataframe tbody tr th {\n",
       "        vertical-align: top;\n",
       "    }\n",
       "\n",
       "    .dataframe thead th {\n",
       "        text-align: right;\n",
       "    }\n",
       "</style>\n",
       "<table border=\"1\" class=\"dataframe\">\n",
       "  <thead>\n",
       "    <tr style=\"text-align: right;\">\n",
       "      <th></th>\n",
       "      <th>recall</th>\n",
       "      <th>score</th>\n",
       "      <th>threshold</th>\n",
       "      <th>top_k</th>\n",
       "    </tr>\n",
       "  </thead>\n",
       "  <tbody>\n",
       "    <tr>\n",
       "      <th>count</th>\n",
       "      <td>3444.000000</td>\n",
       "      <td>3444.000000</td>\n",
       "      <td>3444.000000</td>\n",
       "      <td>3444.000000</td>\n",
       "    </tr>\n",
       "    <tr>\n",
       "      <th>mean</th>\n",
       "      <td>0.527294</td>\n",
       "      <td>0.581817</td>\n",
       "      <td>0.575000</td>\n",
       "      <td>5.333333</td>\n",
       "    </tr>\n",
       "    <tr>\n",
       "      <th>std</th>\n",
       "      <td>0.499327</td>\n",
       "      <td>0.107731</td>\n",
       "      <td>0.075011</td>\n",
       "      <td>3.682322</td>\n",
       "    </tr>\n",
       "    <tr>\n",
       "      <th>min</th>\n",
       "      <td>0.000000</td>\n",
       "      <td>0.357976</td>\n",
       "      <td>0.500000</td>\n",
       "      <td>1.000000</td>\n",
       "    </tr>\n",
       "    <tr>\n",
       "      <th>25%</th>\n",
       "      <td>0.000000</td>\n",
       "      <td>0.490861</td>\n",
       "      <td>0.500000</td>\n",
       "      <td>1.000000</td>\n",
       "    </tr>\n",
       "    <tr>\n",
       "      <th>50%</th>\n",
       "      <td>1.000000</td>\n",
       "      <td>0.572280</td>\n",
       "      <td>0.575000</td>\n",
       "      <td>5.000000</td>\n",
       "    </tr>\n",
       "    <tr>\n",
       "      <th>75%</th>\n",
       "      <td>1.000000</td>\n",
       "      <td>0.675793</td>\n",
       "      <td>0.650000</td>\n",
       "      <td>10.000000</td>\n",
       "    </tr>\n",
       "    <tr>\n",
       "      <th>max</th>\n",
       "      <td>1.000000</td>\n",
       "      <td>0.936264</td>\n",
       "      <td>0.650000</td>\n",
       "      <td>10.000000</td>\n",
       "    </tr>\n",
       "  </tbody>\n",
       "</table>\n",
       "</div>"
      ],
      "text/plain": [
       "            recall        score    threshold        top_k\n",
       "count  3444.000000  3444.000000  3444.000000  3444.000000\n",
       "mean      0.527294     0.581817     0.575000     5.333333\n",
       "std       0.499327     0.107731     0.075011     3.682322\n",
       "min       0.000000     0.357976     0.500000     1.000000\n",
       "25%       0.000000     0.490861     0.500000     1.000000\n",
       "50%       1.000000     0.572280     0.575000     5.000000\n",
       "75%       1.000000     0.675793     0.650000    10.000000\n",
       "max       1.000000     0.936264     0.650000    10.000000"
      ]
     },
     "execution_count": 114,
     "metadata": {},
     "output_type": "execute_result"
    }
   ],
   "source": [
    "eval_retrieval_semantic.describe()"
   ]
  },
  {
   "cell_type": "code",
   "execution_count": 61,
   "id": "f622112c-f771-4ce7-b36a-19a1ff8fbbf2",
   "metadata": {},
   "outputs": [],
   "source": [
    "# eval_retrieval_semantic.to_csv(\"../data/osdr-eval/evals/osdr-eval-retrieval-semantic.csv\", index=False)"
   ]
  },
  {
   "cell_type": "code",
   "execution_count": 110,
   "id": "dedf00e4-f377-42a7-9402-8c12fa8837b2",
   "metadata": {},
   "outputs": [
    {
     "data": {
      "text/html": [
       "<h3>Good Recall (Passage Overlap Threshold=0.65, top_k=1)</h3"
      ],
      "text/plain": [
       "<IPython.core.display.HTML object>"
      ]
     },
     "metadata": {},
     "output_type": "display_data"
    },
    {
     "data": {
      "text/html": [
       "<h4>Question</h4>"
      ],
      "text/plain": [
       "<IPython.core.display.HTML object>"
      ]
     },
     "metadata": {},
     "output_type": "display_data"
    },
    {
     "name": "stdout",
     "output_type": "stream",
     "text": [
      "Why was in vivo pQCT used?\n"
     ]
    },
    {
     "data": {
      "text/html": [
       "<h4>Generated Answer</h4>"
      ],
      "text/plain": [
       "<IPython.core.display.HTML object>"
      ]
     },
     "metadata": {},
     "output_type": "display_data"
    },
    {
     "name": "stdout",
     "output_type": "stream",
     "text": [
      "In vivo pQCT was used to measure trabecular bone density at the proximal tibia and assess the structural and functional skeletal alterations in rats exposed to varying degrees of partial weight bearing over different time periods.\n"
     ]
    },
    {
     "data": {
      "text/html": [
       "<h4>Actual Answer</h4>"
      ],
      "text/plain": [
       "<IPython.core.display.HTML object>"
      ]
     },
     "metadata": {},
     "output_type": "display_data"
    },
    {
     "name": "stdout",
     "output_type": "stream",
     "text": [
      "To find trabecular bone density\n"
     ]
    },
    {
     "data": {
      "text/html": [
       "<h4>Actual Context</h4>"
      ],
      "text/plain": [
       "<IPython.core.display.HTML object>"
      ]
     },
     "metadata": {},
     "output_type": "display_data"
    },
    {
     "name": "stdout",
     "output_type": "stream",
     "text": [
      "Reduced skeletal loading leads to marked bone loss. Animal models of hindlimb suspension are widely used to assess alterations in skeleton during the course of complete unloading. More recently, the effects of partial unloading on the musculoskeletal system have been interrogated in mice and rats, revealing dose-dependent effects of partial weight bearing (PWB) on the skeleton and skeletal muscle. Here, we extended these studies to determine the structural and functional skeletal alterations in 14-week-old male Wister rats exposed to 20%, 40%, 70%, or 100% of body weight for 1, 2, or 4 weeks (n  equals 11–12/group). Using in vivo pQCT, we found that trabecular bone density at the proximal tibia declined in proportion to the degree of unloading and continued progressively with time, without evidence of a plateau by 4 weeks. Ex vivo measurements of trabecular microarchitecture in the distal femur by microcomputed tomography revealed deficits in bone volume fraction, 2 and 4 weeks after unloading. Histologic analyses of trabecular bone in the distal femur revealed the decreased osteoblast number and mineralizing surface in unloaded rats. Three-point bending of the femoral diaphysis indicated modest or no reductions in femoral stiffness and estimated modulus due to PWB. Our results suggest that this rat model of PWB leads to trabecular bone deterioration that is progressive and generally proportional to the degree of PWB, with minimal effects on cortical bone. This study derives results from the Mechanical Testing, Bone Microstructure (microCT), and bone histomorphometry assays using femur tissue.\n"
     ]
    },
    {
     "data": {
      "text/html": [
       "<hr/>"
      ],
      "text/plain": [
       "<IPython.core.display.HTML object>"
      ]
     },
     "metadata": {},
     "output_type": "display_data"
    },
    {
     "data": {
      "text/html": [
       "<h4>Retrieved Context #1</h4>"
      ],
      "text/plain": [
       "<IPython.core.display.HTML object>"
      ]
     },
     "metadata": {},
     "output_type": "display_data"
    },
    {
     "name": "stdout",
     "output_type": "stream",
     "text": [
      "<b>Using</b> <b>in</b> <b>vivo</b> <b>pQCT</b>, we found that trabecular bone density at the proximal tibia declined in proportion to the degree of unloading and continued progressively with time, without evidence of a plateau by 4 weeks. Ex vivo measurements of trabecular microarchitecture in the distal femur by microcomputed tomography revealed deficits in bone volume fraction, 2 and 4 weeks after unloading. Histologic analyses of trabecular bone in the distal femur revealed the decreased osteoblast number and mineralizing surface in unloaded rats. Three-point bending of the femoral diaphysis indicated modest or no reductions in femoral stiffness and estimated modulus due to PWB.\n"
     ]
    },
    {
     "data": {
      "text/html": [
       "<h4>Retrieved Context #2</h4>"
      ],
      "text/plain": [
       "<IPython.core.display.HTML object>"
      ]
     },
     "metadata": {},
     "output_type": "display_data"
    },
    {
     "name": "stdout",
     "output_type": "stream",
     "text": [
      "More recently, the effects of partial unloading on the musculoskeletal system have been interrogated in mice and rats, revealing dose-dependent effects of partial weight bearing (PWB) on the skeleton and skeletal muscle. Here, we extended these studies to determine the structural and functional skeletal alterations in 14-week-old male Wister rats exposed to 20%, 40%, 70%, or 100% of body weight for 1, 2, or 4 weeks (n equals 11-12/group). <b>Using</b> <b>in</b> <b>vivo</b> <b>pQCT</b>, we found that trabecular bone density at the proximal tibia declined in proportion to the degree of unloading and continued progressively with time, without\n"
     ]
    },
    {
     "data": {
      "text/html": [
       "<h4>Retrieved Context #3</h4>"
      ],
      "text/plain": [
       "<IPython.core.display.HTML object>"
      ]
     },
     "metadata": {},
     "output_type": "display_data"
    },
    {
     "name": "stdout",
     "output_type": "stream",
     "text": [
      "5.0, 5.5, 6.0 millimeter  Proximal Tibia Plateau  20.0, 20.5 millimeter  100 micrometer  Not Available  LSDS-41_peripheral_quantitative_computed_tomography_pQCT_LSDS-41_<b>pQCT_KoSUBMITTED.xlsx</b>  ALSDA Transformed Data  LSDS-41_peripheral_quantitative_computed_tomography_pQCT_LSDS-41_<b>pQCT_KoTRANSFORMED.csv</b>  Items per page:  25  1 - 25 of 120  menu_book Publications  Dose-dependent skeletal deficits due to varied reductions in mechanical loading in rats  Authors : Ko FC, Mortreux M, Riveros D, Nagy JA, Rutkove SB, Bouxsein ML.  DOI : 10.1038/s41526-020-0105-0  sim_card_download Files  Study Files Selected: 0  Search Files  search  OSD-608  Study Metadata Files  <b>peripheral_quantitative_computedtomography_pQCT</b>  view_timeline Version History  Selected Version  Version 1  Updated Date: 17-May-2023  Changes: New data release\n"
     ]
    },
    {
     "data": {
      "text/html": [
       "<h4>Retrieved Context #4</h4>"
      ],
      "text/plain": [
       "<IPython.core.display.HTML object>"
      ]
     },
     "metadata": {},
     "output_type": "display_data"
    },
    {
     "name": "stdout",
     "output_type": "stream",
     "text": [
      "The data were analyzed using BRB-Array Tools (NIH), and further gene ontology analysis and network analysis was performed with Panther (Applied Biosystems) and IPA (Ingenuity), accordingly. Significantly responding genes were identified at all distances and included sets common to both direct and bystander responses. False discovery rate in bystander samples did not exceed 20% (p=0.001) and was sufficiently low in the samples obtained after the whole tissue exposure (0.06-1.16%). Analysis of the fragments cut at the same distance revealed 52, 54 and 88 differentially expressed genes.\n"
     ]
    },
    {
     "data": {
      "text/html": [
       "<h4>Retrieved Context #5</h4>"
      ],
      "text/plain": [
       "<IPython.core.display.HTML object>"
      ]
     },
     "metadata": {},
     "output_type": "display_data"
    },
    {
     "name": "stdout",
     "output_type": "stream",
     "text": [
      "Gamma irradiations were completed at 8:40 am, while HZE irradiations were conducted in two runs (due to space limitations) which were completed at 1:09 and 1:28pm respectively. Gamma treated seedlings were sampled at 10:10 am, 11:40 am, 2:55 pm, 8:40 pm, and 8:40 am. HZE treated seedlings were sampled at 2:39 pm, 4:09 pm, 7:24 pm, 1:09 am, and 1:09 pm. Un-irradiated WT and atm-1 control seedlings were sampled at 10:45 am on Day #1 and 9:15 am on Day #2.\n"
     ]
    },
    {
     "data": {
      "text/html": [
       "<h4>Retrieved Context #6</h4>"
      ],
      "text/plain": [
       "<IPython.core.display.HTML object>"
      ]
     },
     "metadata": {},
     "output_type": "display_data"
    },
    {
     "name": "stdout",
     "output_type": "stream",
     "text": [
      "PCR) methods after propidium monoazide (PMA) treatment. The 16S-tag and metagenome analyses were used to elucidate viable microbial diversity. The cultivable bacterial population yield from the polyester wipes was very high (5 to 7-logs) when compared with the contact slides (10^2 to 10^3 CFU/m2). The PMA-qPCR analysis showed considerable variation of viable bacterial population (10^5 to 10^9 16S rDNA gene copies/m2) among locations sampled.\n"
     ]
    },
    {
     "data": {
      "text/html": [
       "<h4>Retrieved Context #7</h4>"
      ],
      "text/plain": [
       "<IPython.core.display.HTML object>"
      ]
     },
     "metadata": {},
     "output_type": "display_data"
    },
    {
     "name": "stdout",
     "output_type": "stream",
     "text": [
      "We performed comparative RNA-Seq transcriptomic analysis to assess the carcinogenic effects of 600 MeV/n 56Fe (0.2 Gy), 1 GeV/n 16O (0.2 Gy), and 350 MeV/n 28Si (0.2 Gy) ions in a mouse model for radiation-induced hepatocellular carcinoma. C3H/HeNCrl mice were subjected to total body irradiation to simulate space HZE-irradiation environment and liver tissues were extracted at five different time points post-irradiation to investigate the time-dependent gradual carcinogenic response at the transcriptomic level.\n"
     ]
    },
    {
     "data": {
      "text/html": [
       "<h4>Retrieved Context #8</h4>"
      ],
      "text/plain": [
       "<IPython.core.display.HTML object>"
      ]
     },
     "metadata": {},
     "output_type": "display_data"
    },
    {
     "name": "stdout",
     "output_type": "stream",
     "text": [
      "In order to identify changes in gene expression that may be informative for detecting such exposure, and to begin examining the molecular responses involved, we have profiled global gene expression in mice injected with 137CsCl. We extracted RNA from the blood of control or 137CsCl-injected mice at 2, 3, 5, 20 or 30 days after exposure. Gene expression was measured using Agilent Whole Mouse Genome Microarrays, and the data was analyzed using BRB-ArrayTools.\n"
     ]
    }
   ],
   "source": [
    "peek_evaluation_result(eval_retrieval_semantic, peek_type=\"good\")"
   ]
  },
  {
   "cell_type": "code",
   "execution_count": 111,
   "id": "ad358d5c-77e5-43e9-bd0f-f13e24e7e704",
   "metadata": {},
   "outputs": [
    {
     "data": {
      "text/html": [
       "<h3>Bad Recall (Passage Overlap Threshold=0.5, top_k=1)</h3"
      ],
      "text/plain": [
       "<IPython.core.display.HTML object>"
      ]
     },
     "metadata": {},
     "output_type": "display_data"
    },
    {
     "data": {
      "text/html": [
       "<h4>Question</h4>"
      ],
      "text/plain": [
       "<IPython.core.display.HTML object>"
      ]
     },
     "metadata": {},
     "output_type": "display_data"
    },
    {
     "name": "stdout",
     "output_type": "stream",
     "text": [
      "What does WS stand for?\n"
     ]
    },
    {
     "data": {
      "text/html": [
       "<h4>Generated Answer</h4>"
      ],
      "text/plain": [
       "<IPython.core.display.HTML object>"
      ]
     },
     "metadata": {},
     "output_type": "display_data"
    },
    {
     "name": "stdout",
     "output_type": "stream",
     "text": [
      "In the context provided, WS likely stands for a specific genotype or ecotype of Arabidopsis thaliana, a type of plant used in the study.\n"
     ]
    },
    {
     "data": {
      "text/html": [
       "<h4>Actual Answer</h4>"
      ],
      "text/plain": [
       "<IPython.core.display.HTML object>"
      ]
     },
     "metadata": {},
     "output_type": "display_data"
    },
    {
     "name": "stdout",
     "output_type": "stream",
     "text": [
      "Wassilewskija.\n"
     ]
    },
    {
     "data": {
      "text/html": [
       "<h4>Actual Context</h4>"
      ],
      "text/plain": [
       "<IPython.core.display.HTML object>"
      ]
     },
     "metadata": {},
     "output_type": "display_data"
    },
    {
     "name": "stdout",
     "output_type": "stream",
     "text": [
      "The increasing availability of flights on suborbital rockets creates new avenues for the study of spaceflight effects on biological systems, in particular the transitions between hypergravity and microgravity. This paper presents an initial comparison of the responses of Arabidopsis thaliana to suborbital and atmospheric parabolic flights as an important step toward characterizing these emerging suborbital platforms and their effects on biology. Transcriptomic profiling of the response of the Arabidopsis ecotype Wassilewskija (WS) to the aggregate spaceflight experiences in the Blue Origin New Shepard and Virgin Galactic SpaceShipTwo rockets revealed that the transcriptomic load induced by flight differed greatly between the two flights, yet was biologically related to traditional parabolic flight responses. The sku5 skewing mutant and 14-3-3κ:GFP regulatory protein overexpression lines each showed altered intra-platform responses compared to WS in the Blue Origin and parabolic flights, respectively. An additional parabolic flight using the F-104 Starfighter showed that the response of 14-3-3κ:GFP to flight was modulated in a similar manner to the WS line. Despite the differing genotypes, experimental workflows, flight profiles and platforms, alteration of gene expression remodeling central metabolic processes was commonly observed as a response to the flights. The processes included carbon and nitrogen metabolism, branched-chain amino acid degradation, and hypoxic responses. The timing and directionality of differentially-expressed genes involved in the conserved pathways differed among the platforms. The data presented herein highlight the potential for various suborbital platforms to contribute insights into biological responses to spaceflight, and further suggest that in-flight fixation during suborbital experiments will provide insights into responses to each phase of flight.\n"
     ]
    },
    {
     "data": {
      "text/html": [
       "<hr/>"
      ],
      "text/plain": [
       "<IPython.core.display.HTML object>"
      ]
     },
     "metadata": {},
     "output_type": "display_data"
    },
    {
     "data": {
      "text/html": [
       "<h4>Retrieved Context #1</h4>"
      ],
      "text/plain": [
       "<IPython.core.display.HTML object>"
      ]
     },
     "metadata": {},
     "output_type": "display_data"
    },
    {
     "name": "stdout",
     "output_type": "stream",
     "text": [
      "The EXPRESS Rack  60% <b>WS</b>, 40% Col-0  ABRS  22 -24 degree Celsius  12 day  below -40 degree Celsius  Space Flight  hypocotyl  RNALater  Plants  <b>Atha_WS</b>-0_Col-0_Hypocotyl_FLT_Rep4  F4H2  P-MTAB-28101  Arabidopsis thaliana  solid 0.5x MS media plates; Advanced Biological Research System (ABRS); The EXPRESS Rack  60% <b>WS</b>, 40% Col-0  ABRS  22 -24 degree Celsius  12 day  below -40 degree Celsius  Space Flight  hypocotyl  RNALater  Plants  <b>Atha_WS</b>-0_Col-0_Hypocotyl_FLT_Rep5  F6H2  P-MTAB-28101  Arabidopsis thaliana  solid 0.5x MS media plates; Advanced Biological Research System (ABRS); The EXPRESS Rack  60% <b>WS</b>, 40% Col-0  ABRS  22 -24 degree Celsius  12 day\n"
     ]
    },
    {
     "data": {
      "text/html": [
       "<h4>Retrieved Context #2</h4>"
      ],
      "text/plain": [
       "<IPython.core.display.HTML object>"
      ]
     },
     "metadata": {},
     "output_type": "display_data"
    },
    {
     "name": "stdout",
     "output_type": "stream",
     "text": [
      "These differential genotypic responses suggest that genetic manipulation could further reduce, or perhaps eliminate the metabolic cost of spaceflight adaptation. When plants were germinated and then left in the dark on the ISS, the <b>WS</b> genotype actually mounted a larger transcriptome response than Col-0, suggesting that the in-space light environment affects physiological adaptation, which implies that manipulating the local habitat can also substantially impact the metabolic cost of spaceflight adaptation.  Factor(s)  Factor  Ontology: Concept  Ecotype  Ecotype  Spaceflight  Space Flight  Treatment  treatment  Organism(s)  Arabidopsis thaliana  Assay(s)  Measurement  Technology  Device Platform  transcription profiling  RNA Sequencing (RNA-Seq)\n"
     ]
    },
    {
     "data": {
      "text/html": [
       "<h4>Retrieved Context #3</h4>"
      ],
      "text/plain": [
       "<IPython.core.display.HTML object>"
      ]
     },
     "metadata": {},
     "output_type": "display_data"
    },
    {
     "name": "stdout",
     "output_type": "stream",
     "text": [
      "<b>Atha_WS</b>-0_Col-0_Shoot_GC_Rep5  G6S2  P-MTAB-28101  Arabidopsis thaliana  solid 0.5x MS media plates; Advanced solid media plates; Advanced Biological Research System (ABRS); GC Unit, OES chamber at KSC  60% <b>WS</b>, 40% Col-0  ABRS  22 -24 degree Celsius  12 day  below -40 degree Celsius  Ground Control  shoot  RNALater  Plants  <b>Atha_WS</b>-0_Col-0_Hypocotyl_FLT_Rep1  F2H1  P-MTAB-28101  Arabidopsis thaliana  solid 0.5x MS media plates; Advanced Biological Research System (ABRS); The EXPRESS Rack  60% <b>WS</b>, 40% Col-0  ABRS  22 -24 degree Celsius  12 day  below -40 degree Celsius  Space Flight  hypocotyl  RNALater  Plants  <b>Atha_WS</b>-0_Col-0_Hypocotyl_FLT_Rep2  F4H1\n"
     ]
    },
    {
     "data": {
      "text/html": [
       "<h4>Retrieved Context #4</h4>"
      ],
      "text/plain": [
       "<IPython.core.display.HTML object>"
      ]
     },
     "metadata": {},
     "output_type": "display_data"
    },
    {
     "name": "stdout",
     "output_type": "stream",
     "text": [
      "The EXPRESS Rack  60% <b>WS</b>, 40% Col-0  ABRS  22 -24 degree Celsius  12 day  below -40 degree Celsius  Space Flight  shoot  RNALater  Plants  <b>Atha_WS</b>-0_Col-0_Shoot_FLT_Rep4  F4S2  P-MTAB-28101  Arabidopsis thaliana  solid 0.5x MS media plates; Advanced Biological Research System (ABRS); The EXPRESS Rack  60% <b>WS</b>, 40% Col-0  ABRS  22 -24 degree Celsius  12 day  below -40 degree Celsius  Space Flight  shoot  RNALater  Plants  <b>Atha_WS</b>-0_Col-0_Shoot_FLT_Rep5  F6S2  P-MTAB-28101  Arabidopsis thaliana  solid 0.5x MS media plates; Advanced Biological Research System (ABRS); The EXPRESS Rack  60% <b>WS</b>, 40% Col-0  ABRS  22 -24 degree Celsius  12 day\n"
     ]
    },
    {
     "data": {
      "text/html": [
       "<h4>Retrieved Context #5</h4>"
      ],
      "text/plain": [
       "<IPython.core.display.HTML object>"
      ]
     },
     "metadata": {},
     "output_type": "display_data"
    },
    {
     "name": "stdout",
     "output_type": "stream",
     "text": [
      "ABRS  22 -24 degree Celsius  12 day  below -40 degree Celsius  Space Flight  hypocotyl  RNALater  Plants  <b>Atha_WS</b>-0_Col-0_Hypocotyl_FLT_Rep2  F4H1  P-MTAB-28101  Arabidopsis thaliana  solid 0.5x MS media plates; Advanced Biological Research System (ABRS); The EXPRESS Rack  60% <b>WS</b>, 40% Col-0  ABRS  22 -24 degree Celsius  12 day  below -40 degree Celsius  Space Flight  hypocotyl  RNALater  Plants  <b>Atha_WS</b>-0_Col-0_Hypocotyl_FLT_Rep3  F6H1  P-MTAB-28101  Arabidopsis thaliana  solid 0.5x MS media plates; Advanced Biological Research System (ABRS); The EXPRESS Rack  60% <b>WS</b>, 40% Col-0  ABRS  22 -24 degree Celsius  12 day  below -40 degree Celsius  Space Flight  hypocotyl  RNALater  Plants\n"
     ]
    },
    {
     "data": {
      "text/html": [
       "<h4>Retrieved Context #6</h4>"
      ],
      "text/plain": [
       "<IPython.core.display.HTML object>"
      ]
     },
     "metadata": {},
     "output_type": "display_data"
    },
    {
     "name": "stdout",
     "output_type": "stream",
     "text": [
      "Plants  <b>Atha_WS</b>-0_Whole-Plant_GC_Rep3  GCTAGES6  P-MTAB-28101  Arabidopsis thaliana  solid 0.5x MS media plates; Advanced solid media plates; Advanced Biological Research System (ABRS); GC Unit, OES chamber at KSC  <b>WS</b>  ABRS  22 -24 degree Celsius  12 day  below -40 degree Celsius  Ground Control  whole plant  RNALater  Plants  <b>Atha_WS</b>-0_Col-0_Shoot_FLT_Rep1  F2S1  P-MTAB-28101  Arabidopsis thaliana  solid 0.5x MS media plates; Advanced Biological Research System (ABRS); The EXPRESS Rack  60% <b>WS</b>, 40% Col-0  ABRS  22 -24 degree Celsius  12 day  below -40 degree Celsius  Space Flight  shoot  RNALater  Plants  <b>Atha_WS</b>-0_Col-0_Shoot_FLT_Rep2  F4S1  P-MTAB-28101\n"
     ]
    },
    {
     "data": {
      "text/html": [
       "<h4>Retrieved Context #7</h4>"
      ],
      "text/plain": [
       "<IPython.core.display.HTML object>"
      ]
     },
     "metadata": {},
     "output_type": "display_data"
    },
    {
     "name": "stdout",
     "output_type": "stream",
     "text": [
      "Advanced Biological Research System (ABRS); The EXPRESS Rack  <b>WS</b>  ABRS  22 -24 degree Celsius  12 day  below -40 degree Celsius  Space Flight  whole plant  RNALater  Plants  <b>Atha_WS</b>-0_Whole-Plant_FLT_Rep3  FLTAGES6  P-MTAB-28101  Arabidopsis thaliana  solid 0.5x MS media plates; Advanced Biological Research System (ABRS); The EXPRESS Rack  <b>WS</b>  ABRS  22 -24 degree Celsius  12 day  below -40 degree Celsius  Space Flight  whole plant  RNALater  Plants  <b>Atha_WS</b>-0_Whole-Plant_GC_Rep1  GCTAGES2  P-MTAB-28101  Arabidopsis thaliana  solid 0.5x MS media plates; Advanced solid media plates; Advanced Biological Research System (ABRS); GC Unit, OES chamber at KSC  <b>WS</b>  ABRS  22 -24 degree Celsius  12 day\n"
     ]
    },
    {
     "data": {
      "text/html": [
       "<h4>Retrieved Context #8</h4>"
      ],
      "text/plain": [
       "<IPython.core.display.HTML object>"
      ]
     },
     "metadata": {},
     "output_type": "display_data"
    },
    {
     "name": "stdout",
     "output_type": "stream",
     "text": [
      "solid 0.5x MS media plates; Advanced Biological Research System (ABRS); The EXPRESS Rack  60% <b>WS</b>, 40% Col-0  ABRS  22 -24 degree Celsius  12 day  below -40 degree Celsius  Space Flight  shoot  RNALater  Plants  <b>Atha_WS</b>-0_Col-0_Shoot_GC_Rep1  G2S1  P-MTAB-28101  Arabidopsis thaliana  solid 0.5x MS media plates; Advanced solid media plates; Advanced Biological Research System (ABRS); GC Unit, OES chamber at KSC  60% <b>WS</b>, 40% Col-0  ABRS  22 -24 degree Celsius  12 day  below -40 degree Celsius  Ground Control  shoot  RNALater  Plants  <b>Atha_WS</b>-0_Col-0_Shoot_GC_Rep2  G4S1  P-MTAB-28101  Arabidopsis thaliana  solid 0.5x MS media plates;\n"
     ]
    },
    {
     "data": {
      "text/html": [
       "<h4>Retrieved Context #9</h4>"
      ],
      "text/plain": [
       "<IPython.core.display.HTML object>"
      ]
     },
     "metadata": {},
     "output_type": "display_data"
    },
    {
     "name": "stdout",
     "output_type": "stream",
     "text": [
      "22 -24 degree Celsius  12 day  below -40 degree Celsius  Space Flight  shoot  RNALater  Plants  <b>Atha_WS</b>-0_Col-0_Shoot_FLT_Rep2  F4S1  P-MTAB-28101  Arabidopsis thaliana  solid 0.5x MS media plates; Advanced Biological Research System (ABRS); The EXPRESS Rack  60% <b>WS</b>, 40% Col-0  ABRS  22 -24 degree Celsius  12 day  below -40 degree Celsius  Space Flight  shoot  RNALater  Plants  <b>Atha_WS</b>-0_Col-0_Shoot_FLT_Rep3  F6S1  P-MTAB-28101  Arabidopsis thaliana  solid 0.5x MS media plates; Advanced Biological Research System (ABRS); The EXPRESS Rack  60% <b>WS</b>, 40% Col-0  ABRS  22 -24 degree Celsius  12 day  below -40 degree Celsius  Space Flight  shoot  RNALater  Plants\n"
     ]
    },
    {
     "data": {
      "text/html": [
       "<h4>Retrieved Context #10</h4>"
      ],
      "text/plain": [
       "<IPython.core.display.HTML object>"
      ]
     },
     "metadata": {},
     "output_type": "display_data"
    },
    {
     "name": "stdout",
     "output_type": "stream",
     "text": [
      "The whole-genome sequences (WGS) of three pathogenic bacterial strains collected from the International Space Station (ISS) were generated and identified as being part of Class Alphaproteobacteria. The WGS studies would enable further genomic/biochemical characterization of taxa for these bacteria that have been subjected to the microgravity conditions of space.  Factor(s)  Factor  Ontology: Concept  Spaceflight  Space Flight  Strain  strain  Organism(s)  Agrobacterium genomosp. 3  Assay(s)  Measurement  Technology  Device Platform  genome sequencing  nucleotide sequencing  Illumina NovaSeq 6000  Project  Payload Identifier  ISS-MO (MT-1B)  Project Title  ISS Microbial Observatory (Microbial Tracking-1B)  Project Type  Spaceflight Study  Flight Program\n"
     ]
    }
   ],
   "source": [
    "peek_evaluation_result(eval_retrieval_semantic, peek_type=\"bad\")"
   ]
  },
  {
   "cell_type": "code",
   "execution_count": 115,
   "id": "1e1196b9-39d3-43e3-bc4e-0f2b29145b0d",
   "metadata": {},
   "outputs": [
    {
     "data": {
      "image/png": "[encoded data removed]",
      "text/plain": [
       "<Figure size 1200x600 with 1 Axes>"
      ]
     },
     "metadata": {},
     "output_type": "display_data"
    },
    {
     "name": "stderr",
     "output_type": "stream",
     "text": [
      "/var/folders/_y/xn9wmmrx1_s68jvjw4gzmxfm0000gn/T/ipykernel_64803/4215088815.py:24: UserWarning: Ignoring `palette` because no `hue` variable has been assigned.\n",
      "  sns.lineplot(data=df, x='threshold', y='recall', marker='o', palette='vlag')\n"
     ]
    },
    {
     "data": {
      "image/png": "[encoded data removed]",
      "text/plain": [
       "<Figure size 1200x600 with 1 Axes>"
      ]
     },
     "metadata": {},
     "output_type": "display_data"
    }
   ],
   "source": [
    "plot_mean_recall_semantic(eval_retrieval_semantic)"
   ]
  },
  {
   "cell_type": "markdown",
   "id": "47a2e922-52a8-4e08-b449-e69873fc5276",
   "metadata": {},
   "source": [
    "## QA Evaluation\n",
    "\n",
    "Here we focus on semantic evaluation of generated answers which suggest the correctness of the answer w.r.t reference answer.\n",
    "\n",
    "We use following metrics:\n",
    "\n",
    "\n",
    "1. **Exact Match**\n",
    "2. **METEOR** (Metric for Evaluation of Translation with Explicit Ordering)\n",
    "    - more aligned with human judgment\n",
    "    - accounts for exact word matches, *synonyms*, and *paraphrases*\n",
    "    - useful for evaluating correctness across varied wordings\n",
    "3. **ROUGE** (Recall-Oriented Understudy for Gisting Evaluation)\n",
    "   - focuses on recall, measuring *word overlaps* with reference\n",
    "   - indicates content overlap rather than linguistic quality\n",
    "   - lower score may suggest fewer exact word matches\n",
    "4. **BERT Score**\n",
    "    - *semantic* similarity using contextual embeddings\n",
    "    - measures how well the generated answers match with references in meaning\n",
    "    - generalized comparison for a variety of downstream tasks (QA, Translation, Summarization, etc.)"
   ]
  },
  {
   "cell_type": "code",
   "execution_count": 116,
   "id": "186a8cfa-56f0-4939-ad9f-3d70a3de68c2",
   "metadata": {},
   "outputs": [],
   "source": [
    "def evaluate_qa(response: pd.DataFrame) -> pd.DataFrame:\n",
    "    if \"question\" not in response and \"prediction\" not in response and \"reference\" not in response:\n",
    "        response = simplify_response(response)\n",
    "    evaluator = Evaluator(metrics=[\n",
    "        BertScore(),\n",
    "        ExactMatchMetric(),\n",
    "        MeteorMetric(),\n",
    "        RougeMetric(),\n",
    "    ])\n",
    "    results = evaluator(\n",
    "        references=response[\"reference\"].to_list(),\n",
    "        predictions=response[\"prediction\"].to_list()\n",
    "    )\n",
    "    results = pd.DataFrame(results)\n",
    "    return results"
   ]
  },
  {
   "cell_type": "code",
   "execution_count": 117,
   "id": "9355afec-3315-4d13-a6d8-d2a636b81540",
   "metadata": {},
   "outputs": [],
   "source": [
    "def simplify_response(response: pd.DataFrame) -> pd.DataFrame:\n",
    "    response = response.copy()\n",
    "    response[\"result\"] = response[\"result\"].apply(ast.literal_eval)\n",
    "    res = []\n",
    "    for row in response.itertuples():\n",
    "        res.append(dict(\n",
    "            context=row.reference_context,\n",
    "            context_hash=row.context_hash,\n",
    "            question=row.question,\n",
    "            reference=row.reference_answer,\n",
    "            ground_truth=row.reference_answer,\n",
    "            prediction=row.result[\"answer\"],\n",
    "            retrieved_contexts=row.result[\"source_documents\"]\n",
    "        ))\n",
    "    return pd.DataFrame(res)"
   ]
  },
  {
   "cell_type": "code",
   "execution_count": 118,
   "id": "9e8d3d4a-6318-49f1-8805-8fdaad112a16",
   "metadata": {},
   "outputs": [],
   "source": [
    "def plot_eval_result(df: pd.DataFrame):\n",
    "    plt.figure(figsize=(12, 8))\n",
    "    barplot = sns.barplot(x='metric_name', y='score', data=df, palette='husl')\n",
    "    for p in barplot.patches:\n",
    "        barplot.annotate(format(p.get_height(), '.3f'), \n",
    "                         (p.get_x() + p.get_width() / 2., p.get_height()), \n",
    "                         ha = 'center', va = 'center', \n",
    "                         xytext = (0, 9), \n",
    "                         textcoords = 'offset points')\n",
    "    plt.title('Comparison of Metrics')\n",
    "    plt.xlabel('Metric')\n",
    "    plt.ylabel('Score')\n",
    "    plt.grid(True, which='both', axis='y', linestyle='--', linewidth=0.5)\n",
    "    plt.show()"
   ]
  },
  {
   "cell_type": "code",
   "execution_count": null,
   "id": "00040e3a-6d2c-4111-82d2-2a57a05aa5fc",
   "metadata": {},
   "outputs": [
    {
     "name": "stderr",
     "output_type": "stream",
     "text": [
      "/Users/npantha/dev/impact/projects/smd-llm-workshop/venv/lib/python3.10/site-packages/jury/metrics/_core/auto.py:106: UserWarning: Metric exact_match is not available on jury, falling back to evaluate metric. You may not fully utilize this metric for different input types, e.g multiple predictions or multiple references.\n",
      "  warnings.warn(\n"
     ]
    }
   ],
   "source": [
    "eval_qa = evaluate_qa(\n",
    "    response=pd.read_csv(\"../data/osdr-eval/responses-simplified-gpt-3.5-turbo-rephrased.csv\")\n",
    ")"
   ]
  },
  {
   "cell_type": "code",
   "execution_count": null,
   "id": "a8e93e54-57a1-44ae-b866-170efb206e07",
   "metadata": {},
   "outputs": [],
   "source": [
    "eval_qa"
   ]
  },
  {
   "cell_type": "code",
   "execution_count": null,
   "id": "3b8cce33-18d2-4093-9a20-35a389baa323",
   "metadata": {},
   "outputs": [],
   "source": [
    "plot_eval_result(eval_qa)"
   ]
  },
  {
   "cell_type": "markdown",
   "id": "b9cbd5e2-7ddd-4285-a987-c4edf15335f9",
   "metadata": {},
   "source": [
    "# Footnotes\n",
    "- [evalem](https://github.com/NASA-IMPACT/evalem)"
   ]
  },
  {
   "cell_type": "code",
   "execution_count": null,
   "id": "dc1f968f-653e-4795-90c3-9f5d51e736d3",
   "metadata": {},
   "outputs": [],
   "source": []
  }
 ],
 "metadata": {
  "kernelspec": {
   "display_name": "Python 3 (ipykernel)",
   "language": "python",
   "name": "python3"
  },
  "language_info": {
   "codemirror_mode": {
    "name": "ipython",
    "version": 3
   },
   "file_extension": ".py",
   "mimetype": "text/x-python",
   "name": "python",
   "nbconvert_exporter": "python",
   "pygments_lexer": "ipython3",
   "version": "3.10.13"
  }
 },
 "nbformat": 4,
 "nbformat_minor": 5
}
