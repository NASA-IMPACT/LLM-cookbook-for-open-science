{
 "cells": [
  {
   "cell_type": "markdown",
   "metadata": {},
   "source": [
    "# Finetuning the dataset using gpt-3.5-turbo-0125 for 10 epochs"
   ]
  },
  {
   "cell_type": "code",
   "execution_count": 1,
   "metadata": {},
   "outputs": [
    {
     "name": "stdout",
     "output_type": "stream",
     "text": [
      "Requirement already satisfied: openai==1.12.0 in /Users/rajashreedahal/myenv/lib/python3.10/site-packages (1.12.0)\n",
      "Requirement already satisfied: httpx<1,>=0.23.0 in /Users/rajashreedahal/myenv/lib/python3.10/site-packages (from openai==1.12.0) (0.27.0)\n",
      "Requirement already satisfied: sniffio in /Users/rajashreedahal/myenv/lib/python3.10/site-packages (from openai==1.12.0) (1.3.1)\n",
      "Requirement already satisfied: typing-extensions<5,>=4.7 in /Users/rajashreedahal/myenv/lib/python3.10/site-packages (from openai==1.12.0) (4.10.0)\n",
      "Requirement already satisfied: distro<2,>=1.7.0 in /Users/rajashreedahal/myenv/lib/python3.10/site-packages (from openai==1.12.0) (1.9.0)\n",
      "Requirement already satisfied: pydantic<3,>=1.9.0 in /Users/rajashreedahal/myenv/lib/python3.10/site-packages (from openai==1.12.0) (2.6.2)\n",
      "Requirement already satisfied: tqdm>4 in /Users/rajashreedahal/myenv/lib/python3.10/site-packages (from openai==1.12.0) (4.66.1)\n",
      "Requirement already satisfied: anyio<5,>=3.5.0 in /Users/rajashreedahal/myenv/lib/python3.10/site-packages (from openai==1.12.0) (3.7.1)\n",
      "Requirement already satisfied: exceptiongroup in /Users/rajashreedahal/myenv/lib/python3.10/site-packages (from anyio<5,>=3.5.0->openai==1.12.0) (1.2.0)\n",
      "Requirement already satisfied: idna>=2.8 in /Users/rajashreedahal/myenv/lib/python3.10/site-packages (from anyio<5,>=3.5.0->openai==1.12.0) (3.4)\n",
      "Requirement already satisfied: certifi in /Users/rajashreedahal/myenv/lib/python3.10/site-packages (from httpx<1,>=0.23.0->openai==1.12.0) (2022.12.7)\n",
      "Requirement already satisfied: httpcore==1.* in /Users/rajashreedahal/myenv/lib/python3.10/site-packages (from httpx<1,>=0.23.0->openai==1.12.0) (1.0.4)\n",
      "Requirement already satisfied: h11<0.15,>=0.13 in /Users/rajashreedahal/myenv/lib/python3.10/site-packages (from httpcore==1.*->httpx<1,>=0.23.0->openai==1.12.0) (0.14.0)\n",
      "Requirement already satisfied: pydantic-core==2.16.3 in /Users/rajashreedahal/myenv/lib/python3.10/site-packages (from pydantic<3,>=1.9.0->openai==1.12.0) (2.16.3)\n",
      "Requirement already satisfied: annotated-types>=0.4.0 in /Users/rajashreedahal/myenv/lib/python3.10/site-packages (from pydantic<3,>=1.9.0->openai==1.12.0) (0.6.0)\n",
      "\n",
      "\u001b[1m[\u001b[0m\u001b[34;49mnotice\u001b[0m\u001b[1;39;49m]\u001b[0m\u001b[39;49m A new release of pip available: \u001b[0m\u001b[31;49m22.2.2\u001b[0m\u001b[39;49m -> \u001b[0m\u001b[32;49m24.0\u001b[0m\n",
      "\u001b[1m[\u001b[0m\u001b[34;49mnotice\u001b[0m\u001b[1;39;49m]\u001b[0m\u001b[39;49m To update, run: \u001b[0m\u001b[32;49mpip install --upgrade pip\u001b[0m\n",
      "Requirement already satisfied: pandas in /Users/rajashreedahal/myenv/lib/python3.10/site-packages (2.2.1)\n",
      "Requirement already satisfied: pytz>=2020.1 in /Users/rajashreedahal/myenv/lib/python3.10/site-packages (from pandas) (2024.1)\n",
      "Requirement already satisfied: python-dateutil>=2.8.2 in /Users/rajashreedahal/myenv/lib/python3.10/site-packages (from pandas) (2.8.2)\n",
      "Requirement already satisfied: tzdata>=2022.7 in /Users/rajashreedahal/myenv/lib/python3.10/site-packages (from pandas) (2024.1)\n",
      "Requirement already satisfied: numpy<2,>=1.22.4 in /Users/rajashreedahal/myenv/lib/python3.10/site-packages (from pandas) (1.24.2)\n",
      "Requirement already satisfied: six>=1.5 in /Users/rajashreedahal/myenv/lib/python3.10/site-packages (from python-dateutil>=2.8.2->pandas) (1.16.0)\n",
      "\n",
      "\u001b[1m[\u001b[0m\u001b[34;49mnotice\u001b[0m\u001b[1;39;49m]\u001b[0m\u001b[39;49m A new release of pip available: \u001b[0m\u001b[31;49m22.2.2\u001b[0m\u001b[39;49m -> \u001b[0m\u001b[32;49m24.0\u001b[0m\n",
      "\u001b[1m[\u001b[0m\u001b[34;49mnotice\u001b[0m\u001b[1;39;49m]\u001b[0m\u001b[39;49m To update, run: \u001b[0m\u001b[32;49mpip install --upgrade pip\u001b[0m\n",
      "Requirement already satisfied: beautifulsoup4 in /Users/rajashreedahal/myenv/lib/python3.10/site-packages (4.12.3)\n",
      "Requirement already satisfied: soupsieve>1.2 in /Users/rajashreedahal/myenv/lib/python3.10/site-packages (from beautifulsoup4) (2.5)\n",
      "\n",
      "\u001b[1m[\u001b[0m\u001b[34;49mnotice\u001b[0m\u001b[1;39;49m]\u001b[0m\u001b[39;49m A new release of pip available: \u001b[0m\u001b[31;49m22.2.2\u001b[0m\u001b[39;49m -> \u001b[0m\u001b[32;49m24.0\u001b[0m\n",
      "\u001b[1m[\u001b[0m\u001b[34;49mnotice\u001b[0m\u001b[1;39;49m]\u001b[0m\u001b[39;49m To update, run: \u001b[0m\u001b[32;49mpip install --upgrade pip\u001b[0m\n",
      "mkdir: train_data: File exists\n",
      "Requirement already satisfied: python-dotenv in /Users/rajashreedahal/myenv/lib/python3.10/site-packages (1.0.1)\n",
      "\n",
      "\u001b[1m[\u001b[0m\u001b[34;49mnotice\u001b[0m\u001b[1;39;49m]\u001b[0m\u001b[39;49m A new release of pip available: \u001b[0m\u001b[31;49m22.2.2\u001b[0m\u001b[39;49m -> \u001b[0m\u001b[32;49m24.0\u001b[0m\n",
      "\u001b[1m[\u001b[0m\u001b[34;49mnotice\u001b[0m\u001b[1;39;49m]\u001b[0m\u001b[39;49m To update, run: \u001b[0m\u001b[32;49mpip install --upgrade pip\u001b[0m\n"
     ]
    }
   ],
   "source": [
    "!pip install openai==1.12.0\n",
    "!pip install pandas\n",
    "!pip install beautifulsoup4\n",
    "!mkdir train_data\n",
    "!pip install python-dotenv\n"
   ]
  },
  {
   "cell_type": "code",
   "execution_count": 2,
   "metadata": {},
   "outputs": [
    {
     "name": "stderr",
     "output_type": "stream",
     "text": [
      "/var/folders/m4/9_ydsvdn3b3d84rntrrsxm0h0000gn/T/ipykernel_29242/3261597445.py:10: FutureWarning: Series.__getitem__ treating keys as positions is deprecated. In a future version, integer keys will always be treated as labels (consistent with DataFrame behavior). To access a value by position, use `ser.iloc[pos]`\n",
      "  final_data[each_data[1][8]]={\"Indicators\":each_data[1][0],\n",
      "/var/folders/m4/9_ydsvdn3b3d84rntrrsxm0h0000gn/T/ipykernel_29242/3261597445.py:12: FutureWarning: Series.__getitem__ treating keys as positions is deprecated. In a future version, integer keys will always be treated as labels (consistent with DataFrame behavior). To access a value by position, use `ser.iloc[pos]`\n",
      "  \"Geographic_Coverage\":each_data[1][2],\n",
      "/var/folders/m4/9_ydsvdn3b3d84rntrrsxm0h0000gn/T/ipykernel_29242/3261597445.py:13: FutureWarning: Series.__getitem__ treating keys as positions is deprecated. In a future version, integer keys will always be treated as labels (consistent with DataFrame behavior). To access a value by position, use `ser.iloc[pos]`\n",
      "  \"Format\":each_data[1][3],\n",
      "/var/folders/m4/9_ydsvdn3b3d84rntrrsxm0h0000gn/T/ipykernel_29242/3261597445.py:14: FutureWarning: Series.__getitem__ treating keys as positions is deprecated. In a future version, integer keys will always be treated as labels (consistent with DataFrame behavior). To access a value by position, use `ser.iloc[pos]`\n",
      "  \"Spatial_Resolution\":each_data[1][4],\n",
      "/var/folders/m4/9_ydsvdn3b3d84rntrrsxm0h0000gn/T/ipykernel_29242/3261597445.py:15: FutureWarning: Series.__getitem__ treating keys as positions is deprecated. In a future version, integer keys will always be treated as labels (consistent with DataFrame behavior). To access a value by position, use `ser.iloc[pos]`\n",
      "  \"Temporal_Resolution\":each_data[1][5],\n",
      "/var/folders/m4/9_ydsvdn3b3d84rntrrsxm0h0000gn/T/ipykernel_29242/3261597445.py:16: FutureWarning: Series.__getitem__ treating keys as positions is deprecated. In a future version, integer keys will always be treated as labels (consistent with DataFrame behavior). To access a value by position, use `ser.iloc[pos]`\n",
      "  \"Temporal_Extent\":each_data[1][6],\n",
      "/var/folders/m4/9_ydsvdn3b3d84rntrrsxm0h0000gn/T/ipykernel_29242/3261597445.py:17: FutureWarning: Series.__getitem__ treating keys as positions is deprecated. In a future version, integer keys will always be treated as labels (consistent with DataFrame behavior). To access a value by position, use `ser.iloc[pos]`\n",
      "  \"Latency\":each_data[1][7],\n",
      "/var/folders/m4/9_ydsvdn3b3d84rntrrsxm0h0000gn/T/ipykernel_29242/3261597445.py:18: FutureWarning: Series.__getitem__ treating keys as positions is deprecated. In a future version, integer keys will always be treated as labels (consistent with DataFrame behavior). To access a value by position, use `ser.iloc[pos]`\n",
      "  \"Project\":each_data[1][9],\n",
      "/var/folders/m4/9_ydsvdn3b3d84rntrrsxm0h0000gn/T/ipykernel_29242/3261597445.py:19: FutureWarning: Series.__getitem__ treating keys as positions is deprecated. In a future version, integer keys will always be treated as labels (consistent with DataFrame behavior). To access a value by position, use `ser.iloc[pos]`\n",
      "  \"Data_Visualization\":each_data[1][10]}\n"
     ]
    },
    {
     "data": {
      "text/plain": [
       "FileObject(id='file-FLMunoYmrkXBfD4AyoFxbfDo', bytes=775517, created_at=1709045965, filename='train_data_125_without_description.jsonl', object='file', purpose='fine-tune', status='processed', status_details=None)"
      ]
     },
     "execution_count": 2,
     "metadata": {},
     "output_type": "execute_result"
    }
   ],
   "source": [
    "import pandas as pd\n",
    "import re\n",
    "from bs4 import BeautifulSoup\n",
    "import requests\n",
    "import json\n",
    "\n",
    "\n",
    "from openai import OpenAI\n",
    "from dotenv import load_dotenv\n",
    "import os\n",
    "# Load environment variables from .env file\n",
    "load_dotenv()\n",
    "# Access the API key from the environment\n",
    "openai_api_key = os.getenv(\"OPENAI_API_KEY\")\n",
    "\n",
    "train_data=pd.read_csv(\"Finetune_data_125.csv\",encoding='latin1')\n",
    "\n",
    "final_data={}\n",
    "for each_data in train_data.iterrows():\n",
    "    final_data[each_data[1][8]]={\"Indicators\":each_data[1][0],\n",
    "            #   \"Description\":each_data[1][1],\n",
    "              \"Geographic_Coverage\":each_data[1][2],\n",
    "              \"Format\":each_data[1][3],\n",
    "              \"Spatial_Resolution\":each_data[1][4],\n",
    "              \"Temporal_Resolution\":each_data[1][5],\n",
    "              \"Temporal_Extent\":each_data[1][6],\n",
    "              \"Latency\":each_data[1][7],\n",
    "                \"Project\":each_data[1][9],\n",
    "                \"Data_Visualization\":each_data[1][10]}\n",
    "    \n",
    "for url,value in final_data.items():\n",
    "    response=requests.get(url)\n",
    "    html_page = response.text\n",
    "    soup = BeautifulSoup(html_page, \"html.parser\")\n",
    "    text=soup.get_text()\n",
    "    text = re.sub(r'[\\t\\n\\r\\f\\v]+', '', text)\n",
    "    text=re.sub(r'[^\\w\\s]', '', text)\n",
    "    final_data[url][\"text\"]=text\n",
    "\n",
    "_SYSTEM_PROMPT =\"Extract metadata and entities details accurately from my requests.\" + \"Metadata extraction for Indicators should clearly be one of the element in the list ['Disasters','Human Dimensions','Food Availability','Health & Air Quality','Water Availability', 'Extreme Heat','Urban Flooding','Climate']. Do not create new element for indicators \" + \"Make sure the following fields follow the following regex pattern\"+\"Spatial_Resolution: ^(\\d+(\\.\\d+)? [a-zA-Z]+|varies|N/A)$\"+\"Temporal_Resolution: ^(\\d+(\\.\\d+)? [a-zA-Z]+|N/A|varies|weekly|monthly|daily|yearly|varies-multiple datasets included|Daily < Weekly|Hourly < Daily|Weekly < Monthly|Monthly < Yearly|1 minute)$\"+\"Temporal_Extent: ^(\\d{4}-\\d{2}-\\d{2} to present|present|\\d{4}-\\d{2}-\\d{2} (?:to|until) present|\\d{4}-\\d{2}-\\d{2} to \\d{4}-\\d{2}-\\d{2}|varies(?:- multiple datasets (?:included|available))?)$\"\n",
    "\n",
    "\n",
    "train_data=[]\n",
    "for url,value in final_data.items():\n",
    "    # output_content={\"Indicators\":value[\"Indicators\"],\"Description\":value[\"Description\"],\"Geographic_Coverage\":value[\"Geographic_Coverage\"], \"Format\":value[\"Format\"],\"Spatial_Resolution\":value[\"Spatial_Resolution\"],\"Temporal_Resolution\":value[\"Temporal_Resolution\"],\"Temporal_Extent\":value[\"Temporal_Extent\"],\"Latency\":value[\"Latency\"],\"Project\":value[\"Project\"],\"Data_Visualization\":value[\"Data_Visualization\"]}\n",
    "    output_content={\"Indicators\":value[\"Indicators\"],\"Geographic_Coverage\":value[\"Geographic_Coverage\"], \"Format\":value[\"Format\"],\"Spatial_Resolution\":value[\"Spatial_Resolution\"],\"Temporal_Resolution\":value[\"Temporal_Resolution\"],\"Temporal_Extent\":value[\"Temporal_Extent\"],\"Latency\":value[\"Latency\"],\"Project\":value[\"Project\"],\"Data_Visualization\":value[\"Data_Visualization\"]}\n",
    "    output_content=str(output_content)\n",
    "    data={\"messages\": [{\"role\": \"system\", \"content\":_SYSTEM_PROMPT},{\"role\": \"user\", \"content\":f'{value[\"text\"]}'}, {\"role\": \"assistant\", \"content\": output_content}]}\n",
    "    train_data.append(data)\n",
    "    \n",
    "with open(\"train_data_125_without_description.jsonl\", 'w') as jsonl_file:\n",
    "    for record in train_data:\n",
    "        jsonl_file.write(json.dumps(record) + '\\n')\n",
    "\n",
    "import pickle\n",
    "train_125_urls=list(final_data.keys())\n",
    "with open(\"train_data/train_125_urls_without_description.pkl\",'wb') as file:\n",
    "    pickle.dump(train_125_urls,file)\n",
    "\n",
    "\n",
    "client = OpenAI(api_key=openai_api_key)\n",
    "\n",
    "client.files.create(\n",
    "  file=open(\"train_data_125_without_description.jsonl\", \"rb\"),\n",
    "  purpose=\"fine-tune\"\n",
    ")"
   ]
  },
  {
   "cell_type": "code",
   "execution_count": 3,
   "metadata": {},
   "outputs": [
    {
     "data": {
      "text/plain": [
       "FineTuningJob(id='ftjob-bDh8kRLqdPvH474MGFZvQecK', created_at=1709046159, error=Error(code=None, message=None, param=None, error=None), fine_tuned_model=None, finished_at=None, hyperparameters=Hyperparameters(n_epochs=10, batch_size='auto', learning_rate_multiplier='auto'), model='gpt-3.5-turbo-1106', object='fine_tuning.job', organization_id='org-KVpMEM9Q8Xm2pc8YuAMYw8r3', result_files=[], status='validating_files', trained_tokens=None, training_file='file-FLMunoYmrkXBfD4AyoFxbfDo', validation_file=None, user_provided_suffix=None)"
      ]
     },
     "execution_count": 3,
     "metadata": {},
     "output_type": "execute_result"
    }
   ],
   "source": [
    "import pandas as pd\n",
    "import re\n",
    "from bs4 import BeautifulSoup\n",
    "import requests\n",
    "import json\n",
    "client.fine_tuning.jobs.create(\n",
    "  training_file=\"file-FLMunoYmrkXBfD4AyoFxbfDo\", \n",
    "  model=\"gpt-3.5-turbo-1106\", \n",
    "  hyperparameters={\n",
    "    \"n_epochs\":10\n",
    "  }\n",
    ")"
   ]
  },
  {
   "cell_type": "code",
   "execution_count": 8,
   "metadata": {},
   "outputs": [
    {
     "data": {
      "text/plain": [
       "SyncCursorPage[FineTuningJob](data=[FineTuningJob(id='ftjob-bDh8kRLqdPvH474MGFZvQecK', created_at=1709046159, error=Error(code=None, message=None, param=None, error=None), fine_tuned_model='ft:gpt-3.5-turbo-1106:nasa::8wu2oCdL', finished_at=1709049150, hyperparameters=Hyperparameters(n_epochs=10, batch_size=1, learning_rate_multiplier=2), model='gpt-3.5-turbo-1106', object='fine_tuning.job', organization_id='org-KVpMEM9Q8Xm2pc8YuAMYw8r3', result_files=['file-T8kiLwTkA2Kgu1ZbfRI3fpbx'], status='succeeded', trained_tokens=1676880, training_file='file-FLMunoYmrkXBfD4AyoFxbfDo', validation_file=None, user_provided_suffix=None)], object='list', has_more=True)"
      ]
     },
     "execution_count": 8,
     "metadata": {},
     "output_type": "execute_result"
    }
   ],
   "source": [
    "# List the top 1 fine-tuning jobs\n",
    "client.fine_tuning.jobs.list(limit=1)"
   ]
  },
  {
   "cell_type": "code",
   "execution_count": null,
   "metadata": {},
   "outputs": [],
   "source": []
  }
 ],
 "metadata": {
  "kernelspec": {
   "display_name": "myenv",
   "language": "python",
   "name": "python3"
  },
  "language_info": {
   "codemirror_mode": {
    "name": "ipython",
    "version": 3
   },
   "file_extension": ".py",
   "mimetype": "text/x-python",
   "name": "python",
   "nbconvert_exporter": "python",
   "pygments_lexer": "ipython3",
   "version": "3.10.7"
  }
 },
 "nbformat": 4,
 "nbformat_minor": 2
}
