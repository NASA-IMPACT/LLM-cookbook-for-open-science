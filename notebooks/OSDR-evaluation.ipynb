{
 "cells": [
  {
   "cell_type": "code",
   "execution_count": 1,
   "id": "0218187e-16be-4d4f-af8f-bf16270f2794",
   "metadata": {},
   "outputs": [],
   "source": [
    "%reload_ext autoreload\n",
    "%autoreload 2"
   ]
  },
  {
   "cell_type": "code",
   "execution_count": null,
   "id": "9f9a7deb-e1e4-4214-91e6-69e92b132de3",
   "metadata": {},
   "outputs": [],
   "source": [
    "!pip install openpyxl -qq\n",
    "!pip install tenacity -qq\n",
    "!pip install loguru -qq\n",
    "!pip install git+https://git@github.com/NASA-IMPACT/evalem.git@develop -qq\n",
    "!pip install rake-nltk -qq"
   ]
  },
  {
   "cell_type": "code",
   "execution_count": 2,
   "id": "a0dcc700-a774-469c-92bd-78a085931103",
   "metadata": {},
   "outputs": [],
   "source": [
    "import json\n",
    "from typing import List"
   ]
  },
  {
   "cell_type": "code",
   "execution_count": 3,
   "id": "e00f4048-be53-4cfa-819e-25ec66a8e98d",
   "metadata": {},
   "outputs": [],
   "source": [
    "from pprint import pprint\n",
    "from IPython.display import display, HTML"
   ]
  },
  {
   "cell_type": "code",
   "execution_count": 4,
   "id": "28d68408-a6f6-4b31-a118-23229fdbd439",
   "metadata": {},
   "outputs": [],
   "source": [
    "from loguru import logger\n",
    "import glob\n",
    "import random\n",
    "import re"
   ]
  },
  {
   "cell_type": "code",
   "execution_count": 5,
   "id": "8754ddab-a661-47c0-98cf-da4a00265f02",
   "metadata": {},
   "outputs": [],
   "source": [
    "import matplotlib.pyplot as plt\n",
    "import pandas as pd\n",
    "import seaborn as sns"
   ]
  },
  {
   "cell_type": "markdown",
   "id": "ff194b8d-1240-4489-94e6-bdba80632d79",
   "metadata": {},
   "source": [
    "# Load Validation Data"
   ]
  },
  {
   "cell_type": "code",
   "execution_count": 6,
   "id": "7be67049-2832-4d4e-a413-2cbede699a3e",
   "metadata": {},
   "outputs": [],
   "source": [
    "FILE_PATH = \"data/OSDR_LLM_QA_correctFormat.xlsx\""
   ]
  },
  {
   "cell_type": "code",
   "execution_count": 7,
   "id": "d49eb939-2b6b-451f-acaf-78cc9c1b665c",
   "metadata": {},
   "outputs": [],
   "source": [
    "def load_data(path) -> pd.DataFrame:\n",
    "    data = pd.read_excel(path)\n",
    "    data = data.rename(columns={data.columns[0]: 'context'})\n",
    "    return data"
   ]
  },
  {
   "cell_type": "code",
   "execution_count": 8,
   "id": "aec1b9b5-9c05-454e-b178-d47fbdacb1bf",
   "metadata": {},
   "outputs": [],
   "source": [
    "def simplify_columns(df: pd.DataFrame) -> pd.DataFrame:\n",
    "    df = df.copy()\n",
    "    transformed_data = []\n",
    "    for index, row in df.iterrows():\n",
    "        context = row['context']\n",
    "        url = row['URL']\n",
    "        for i in range(1, 6): # Assuming there are 5 question-answer pairs\n",
    "            question = row[f'Question {i}']\n",
    "            answer = row[f'Question {i} Answer']\n",
    "            if question and answer:\n",
    "                transformed_data.append(dict(\n",
    "                    context=context,\n",
    "                    context_hash=abs(hash(context)) % (10 ** 8),\n",
    "                    url=url,\n",
    "                    question=question,\n",
    "                    answer=answer,\n",
    "                ))\n",
    "    df =  pd.DataFrame(transformed_data)\n",
    "    return df.dropna(subset=['question', 'answer'], how='all')"
   ]
  },
  {
   "cell_type": "code",
   "execution_count": 9,
   "id": "464f6e4b-7701-403c-bf30-2286092b8cbd",
   "metadata": {},
   "outputs": [
    {
     "data": {
      "text/html": [
       "<div>\n",
       "<style scoped>\n",
       "    .dataframe tbody tr th:only-of-type {\n",
       "        vertical-align: middle;\n",
       "    }\n",
       "\n",
       "    .dataframe tbody tr th {\n",
       "        vertical-align: top;\n",
       "    }\n",
       "\n",
       "    .dataframe thead th {\n",
       "        text-align: right;\n",
       "    }\n",
       "</style>\n",
       "<table border=\"1\" class=\"dataframe\">\n",
       "  <thead>\n",
       "    <tr style=\"text-align: right;\">\n",
       "      <th></th>\n",
       "      <th>context</th>\n",
       "      <th>URL</th>\n",
       "      <th>Question 1</th>\n",
       "      <th>Question 1 Answer</th>\n",
       "      <th>Question 2</th>\n",
       "      <th>Question 2 Answer</th>\n",
       "      <th>Question 3</th>\n",
       "      <th>Question 3 Answer</th>\n",
       "      <th>Question 4</th>\n",
       "      <th>Question 4 Answer</th>\n",
       "      <th>Question 5</th>\n",
       "      <th>Question 5 Answer</th>\n",
       "    </tr>\n",
       "  </thead>\n",
       "  <tbody>\n",
       "    <tr>\n",
       "      <th>0</th>\n",
       "      <td>Genome-wide transcriptional profiling showed t...</td>\n",
       "      <td>https://sciencediscoveryengine.nasa.gov#/previ...</td>\n",
       "      <td>Where were the gene expression alterations in ...</td>\n",
       "      <td>reducing gravity levels in the International S...</td>\n",
       "      <td>What kind of experiments showed differential r...</td>\n",
       "      <td>simulation experiments on ground testing space...</td>\n",
       "      <td>What is overrepresented in the different exper...</td>\n",
       "      <td>the same GO groups including a large multigene...</td>\n",
       "      <td>what analytical methodology provided integrati...</td>\n",
       "      <td>Self-organizing maps of the Gene Expression Dy...</td>\n",
       "      <td>What are the implications of the findings in t...</td>\n",
       "      <td>The findings indicate that the finely adjusted...</td>\n",
       "    </tr>\n",
       "    <tr>\n",
       "      <th>1</th>\n",
       "      <td>The objective of the Rodent Research-5 (RR-5) ...</td>\n",
       "      <td>https://sciencediscoveryengine.nasa.gov#/previ...</td>\n",
       "      <td>What was the main goal of the Rodent Research-...</td>\n",
       "      <td>to evaluate bone loss in mice during spaceflig...</td>\n",
       "      <td>What type of mice and how old were they when f...</td>\n",
       "      <td>a cohort of forty 30-weeks-old female BALB/cAn...</td>\n",
       "      <td>How many days after launch were the mice treat...</td>\n",
       "      <td>Six days after launch</td>\n",
       "      <td>How was the Earth recovery period for the subj...</td>\n",
       "      <td>Following their return to Earth, the experimen...</td>\n",
       "      <td>What specific type of samples and from which c...</td>\n",
       "      <td>GeneLab received RNA later preserved dorsal sk...</td>\n",
       "    </tr>\n",
       "    <tr>\n",
       "      <th>2</th>\n",
       "      <td>The radiation bystander response is an importa...</td>\n",
       "      <td>https://sciencediscoveryengine.nasa.gov#/previ...</td>\n",
       "      <td>What is a key component of the overall respons...</td>\n",
       "      <td>The radiation bystander response</td>\n",
       "      <td>Which methods were used to measure the bystand...</td>\n",
       "      <td>using chromosomal aberration and micronucleus ...</td>\n",
       "      <td>What was shown to increase chromosomal structu...</td>\n",
       "      <td>depletion or mutation of RAD9</td>\n",
       "      <td>what cellular pathways were altered as a resul...</td>\n",
       "      <td>The depletion of RAD9 caused changes in numero...</td>\n",
       "      <td>How were differences in the activation of tran...</td>\n",
       "      <td>The use of network analysis allowed the discov...</td>\n",
       "    </tr>\n",
       "    <tr>\n",
       "      <th>3</th>\n",
       "      <td>Martian regolith (unconsolidated surface mater...</td>\n",
       "      <td>https://sciencediscoveryengine.nasa.gov#/previ...</td>\n",
       "      <td>What is considered a potential medium for plan...</td>\n",
       "      <td>Martian regolith (unconsolidated surface mater...</td>\n",
       "      <td>What is the level of hydrated magnesium sulfat...</td>\n",
       "      <td>hydrated magnesium sulfate mineral levels in t...</td>\n",
       "      <td>What was characterized in the study to identif...</td>\n",
       "      <td>The early Arabidopsis root transcriptome respo...</td>\n",
       "      <td>how was the genetic comparison approached to d...</td>\n",
       "      <td>A comparative analysis was conducted between t...</td>\n",
       "      <td>What distinctive characteristic does the cax1-...</td>\n",
       "      <td>The cax1-1 mutant line demonstrated relative t...</td>\n",
       "    </tr>\n",
       "    <tr>\n",
       "      <th>4</th>\n",
       "      <td>The objective of the Rodent Research-23 missio...</td>\n",
       "      <td>https://sciencediscoveryengine.nasa.gov#/previ...</td>\n",
       "      <td>What was the objective of the Rodent Research-...</td>\n",
       "      <td>to better understand the effects of spacefligh...</td>\n",
       "      <td>How many mice and of what type were involved i...</td>\n",
       "      <td>twenty male, C57BL/6J, 16-17 weeks-old mice</td>\n",
       "      <td>How long were the mice in the RR-23 study main...</td>\n",
       "      <td>maintained in microgravity for 38 days</td>\n",
       "      <td>What was the procedure followed for the mice f...</td>\n",
       "      <td>The mice, after landing in the Atlantic, were ...</td>\n",
       "      <td>How was RNA extraction and analysis managed fo...</td>\n",
       "      <td>Adrenal glands of the mice were preserved by i...</td>\n",
       "    </tr>\n",
       "  </tbody>\n",
       "</table>\n",
       "</div>"
      ],
      "text/plain": [
       "                                             context  \\\n",
       "0  Genome-wide transcriptional profiling showed t...   \n",
       "1  The objective of the Rodent Research-5 (RR-5) ...   \n",
       "2  The radiation bystander response is an importa...   \n",
       "3  Martian regolith (unconsolidated surface mater...   \n",
       "4  The objective of the Rodent Research-23 missio...   \n",
       "\n",
       "                                                 URL  \\\n",
       "0  https://sciencediscoveryengine.nasa.gov#/previ...   \n",
       "1  https://sciencediscoveryengine.nasa.gov#/previ...   \n",
       "2  https://sciencediscoveryengine.nasa.gov#/previ...   \n",
       "3  https://sciencediscoveryengine.nasa.gov#/previ...   \n",
       "4  https://sciencediscoveryengine.nasa.gov#/previ...   \n",
       "\n",
       "                                          Question 1  \\\n",
       "0  Where were the gene expression alterations in ...   \n",
       "1  What was the main goal of the Rodent Research-...   \n",
       "2  What is a key component of the overall respons...   \n",
       "3  What is considered a potential medium for plan...   \n",
       "4  What was the objective of the Rodent Research-...   \n",
       "\n",
       "                                   Question 1 Answer  \\\n",
       "0  reducing gravity levels in the International S...   \n",
       "1  to evaluate bone loss in mice during spaceflig...   \n",
       "2                   The radiation bystander response   \n",
       "3  Martian regolith (unconsolidated surface mater...   \n",
       "4  to better understand the effects of spacefligh...   \n",
       "\n",
       "                                          Question 2  \\\n",
       "0  What kind of experiments showed differential r...   \n",
       "1  What type of mice and how old were they when f...   \n",
       "2  Which methods were used to measure the bystand...   \n",
       "3  What is the level of hydrated magnesium sulfat...   \n",
       "4  How many mice and of what type were involved i...   \n",
       "\n",
       "                                   Question 2 Answer  \\\n",
       "0  simulation experiments on ground testing space...   \n",
       "1  a cohort of forty 30-weeks-old female BALB/cAn...   \n",
       "2  using chromosomal aberration and micronucleus ...   \n",
       "3  hydrated magnesium sulfate mineral levels in t...   \n",
       "4        twenty male, C57BL/6J, 16-17 weeks-old mice   \n",
       "\n",
       "                                          Question 3  \\\n",
       "0  What is overrepresented in the different exper...   \n",
       "1  How many days after launch were the mice treat...   \n",
       "2  What was shown to increase chromosomal structu...   \n",
       "3  What was characterized in the study to identif...   \n",
       "4  How long were the mice in the RR-23 study main...   \n",
       "\n",
       "                                   Question 3 Answer  \\\n",
       "0  the same GO groups including a large multigene...   \n",
       "1                              Six days after launch   \n",
       "2                      depletion or mutation of RAD9   \n",
       "3  The early Arabidopsis root transcriptome respo...   \n",
       "4             maintained in microgravity for 38 days   \n",
       "\n",
       "                                          Question 4  \\\n",
       "0  what analytical methodology provided integrati...   \n",
       "1  How was the Earth recovery period for the subj...   \n",
       "2  what cellular pathways were altered as a resul...   \n",
       "3  how was the genetic comparison approached to d...   \n",
       "4  What was the procedure followed for the mice f...   \n",
       "\n",
       "                                   Question 4 Answer  \\\n",
       "0  Self-organizing maps of the Gene Expression Dy...   \n",
       "1  Following their return to Earth, the experimen...   \n",
       "2  The depletion of RAD9 caused changes in numero...   \n",
       "3  A comparative analysis was conducted between t...   \n",
       "4  The mice, after landing in the Atlantic, were ...   \n",
       "\n",
       "                                          Question 5  \\\n",
       "0  What are the implications of the findings in t...   \n",
       "1  What specific type of samples and from which c...   \n",
       "2  How were differences in the activation of tran...   \n",
       "3  What distinctive characteristic does the cax1-...   \n",
       "4  How was RNA extraction and analysis managed fo...   \n",
       "\n",
       "                                   Question 5 Answer  \n",
       "0  The findings indicate that the finely adjusted...  \n",
       "1  GeneLab received RNA later preserved dorsal sk...  \n",
       "2  The use of network analysis allowed the discov...  \n",
       "3  The cax1-1 mutant line demonstrated relative t...  \n",
       "4  Adrenal glands of the mice were preserved by i...  "
      ]
     },
     "execution_count": 9,
     "metadata": {},
     "output_type": "execute_result"
    }
   ],
   "source": [
    "data = load_data(FILE_PATH)\n",
    "data.head()"
   ]
  },
  {
   "cell_type": "markdown",
   "id": "91c44192-e4d2-480e-9bfd-08f765b80822",
   "metadata": {},
   "source": [
    "## Data Peek\n",
    "\n",
    "Here we pick a sample row to inspect the nature of data.\n",
    "- What each column looks like"
   ]
  },
  {
   "cell_type": "code",
   "execution_count": 10,
   "id": "0fdfb6da-a192-4188-8ff6-fc0e895c5a0b",
   "metadata": {},
   "outputs": [],
   "source": [
    "def peek_data(data: pd.DataFrame, row_index: int = 0):\n",
    "    print(f\"Row = {row_index}\")\n",
    "    row = data.iloc[row_index]\n",
    "    for col, value in zip(data.columns, row):\n",
    "        display(HTML(f\"<h4>{col}</h4>\"))\n",
    "        print(value)\n",
    "        display(HTML(\"<hr/>\"))"
   ]
  },
  {
   "cell_type": "code",
   "execution_count": 11,
   "id": "7f75d398-58ce-4b4e-acc6-3f08a7028074",
   "metadata": {},
   "outputs": [
    {
     "data": {
      "text/plain": [
       "(60, 12)"
      ]
     },
     "execution_count": 11,
     "metadata": {},
     "output_type": "execute_result"
    }
   ],
   "source": [
    "data.shape"
   ]
  },
  {
   "cell_type": "code",
   "execution_count": 12,
   "id": "194713b7-dd62-46f2-a2c5-84458dbca3dd",
   "metadata": {},
   "outputs": [
    {
     "name": "stdout",
     "output_type": "stream",
     "text": [
      "Row = 0\n"
     ]
    },
    {
     "data": {
      "text/html": [
       "<h4>context</h4>"
      ],
      "text/plain": [
       "<IPython.core.display.HTML object>"
      ]
     },
     "metadata": {},
     "output_type": "display_data"
    },
    {
     "name": "stdout",
     "output_type": "stream",
     "text": [
      "Genome-wide transcriptional profiling showed that reducing gravity levels in the International Space Station (ISS) causes important alterations in Drosophila gene expression intimately linked to imposed spaceflight-related environmental constrains during Drosophila metamorphosis. However, simulation experiments on ground testing space-related environmental constraints, show differential responses. Curiously, although particular genes are not common in the different experiments, the same GO groups including a large multigene family related with behavior, stress response and organogenesis are over represented in them. A global and integrative analysis using the gene expression dynamics inspector (GEDI) self-organizing maps, reveals different degrees in the responses of the transcriptome when using different environmental conditions or microgravity/hypergravity simulation devices. These results suggest that the transcriptome is finely tuned to normal gravity. In regular environmental conditions the alteration of this constant parameter on Earth can have mild effects on gene expression but when environmental conditions are far from optimal, the gene expression is much more intense and consistent effects.\n"
     ]
    },
    {
     "data": {
      "text/html": [
       "<hr/>"
      ],
      "text/plain": [
       "<IPython.core.display.HTML object>"
      ]
     },
     "metadata": {},
     "output_type": "display_data"
    },
    {
     "data": {
      "text/html": [
       "<h4>URL</h4>"
      ],
      "text/plain": [
       "<IPython.core.display.HTML object>"
      ]
     },
     "metadata": {},
     "output_type": "display_data"
    },
    {
     "name": "stdout",
     "output_type": "stream",
     "text": [
      "https://sciencediscoveryengine.nasa.gov#/preview?id=%2FSDE%2Fgenelab_lsda%2F%7Chttps:%2F%2Fosdr.nasa.gov%2Fbio%2Frepo%2Fdata%2Fstudies%2FOSD-70%2F&query=%7B%22name%22:%22query-smd-primary%22,%22scope%22:%22All%22,%22text%22:%22osd-70%22%7D\n"
     ]
    },
    {
     "data": {
      "text/html": [
       "<hr/>"
      ],
      "text/plain": [
       "<IPython.core.display.HTML object>"
      ]
     },
     "metadata": {},
     "output_type": "display_data"
    },
    {
     "data": {
      "text/html": [
       "<h4>Question 1</h4>"
      ],
      "text/plain": [
       "<IPython.core.display.HTML object>"
      ]
     },
     "metadata": {},
     "output_type": "display_data"
    },
    {
     "name": "stdout",
     "output_type": "stream",
     "text": [
      "Where were the gene expression alterations in Drosophila observed during their metamorphosis?\n"
     ]
    },
    {
     "data": {
      "text/html": [
       "<hr/>"
      ],
      "text/plain": [
       "<IPython.core.display.HTML object>"
      ]
     },
     "metadata": {},
     "output_type": "display_data"
    },
    {
     "data": {
      "text/html": [
       "<h4>Question 1 Answer</h4>"
      ],
      "text/plain": [
       "<IPython.core.display.HTML object>"
      ]
     },
     "metadata": {},
     "output_type": "display_data"
    },
    {
     "name": "stdout",
     "output_type": "stream",
     "text": [
      "reducing gravity levels in the International Space Station (ISS)\n"
     ]
    },
    {
     "data": {
      "text/html": [
       "<hr/>"
      ],
      "text/plain": [
       "<IPython.core.display.HTML object>"
      ]
     },
     "metadata": {},
     "output_type": "display_data"
    },
    {
     "data": {
      "text/html": [
       "<h4>Question 2</h4>"
      ],
      "text/plain": [
       "<IPython.core.display.HTML object>"
      ]
     },
     "metadata": {},
     "output_type": "display_data"
    },
    {
     "name": "stdout",
     "output_type": "stream",
     "text": [
      "What kind of experiments showed differential responses in gene expression?\n"
     ]
    },
    {
     "data": {
      "text/html": [
       "<hr/>"
      ],
      "text/plain": [
       "<IPython.core.display.HTML object>"
      ]
     },
     "metadata": {},
     "output_type": "display_data"
    },
    {
     "data": {
      "text/html": [
       "<h4>Question 2 Answer</h4>"
      ],
      "text/plain": [
       "<IPython.core.display.HTML object>"
      ]
     },
     "metadata": {},
     "output_type": "display_data"
    },
    {
     "name": "stdout",
     "output_type": "stream",
     "text": [
      "simulation experiments on ground testing space-related environmental constraints\n"
     ]
    },
    {
     "data": {
      "text/html": [
       "<hr/>"
      ],
      "text/plain": [
       "<IPython.core.display.HTML object>"
      ]
     },
     "metadata": {},
     "output_type": "display_data"
    },
    {
     "data": {
      "text/html": [
       "<h4>Question 3</h4>"
      ],
      "text/plain": [
       "<IPython.core.display.HTML object>"
      ]
     },
     "metadata": {},
     "output_type": "display_data"
    },
    {
     "name": "stdout",
     "output_type": "stream",
     "text": [
      "What is overrepresented in the different experiments despite particular genes not being common?\n"
     ]
    },
    {
     "data": {
      "text/html": [
       "<hr/>"
      ],
      "text/plain": [
       "<IPython.core.display.HTML object>"
      ]
     },
     "metadata": {},
     "output_type": "display_data"
    },
    {
     "data": {
      "text/html": [
       "<h4>Question 3 Answer</h4>"
      ],
      "text/plain": [
       "<IPython.core.display.HTML object>"
      ]
     },
     "metadata": {},
     "output_type": "display_data"
    },
    {
     "name": "stdout",
     "output_type": "stream",
     "text": [
      "the same GO groups including a large multigene family related with behavior, stress response and organogenesis\n"
     ]
    },
    {
     "data": {
      "text/html": [
       "<hr/>"
      ],
      "text/plain": [
       "<IPython.core.display.HTML object>"
      ]
     },
     "metadata": {},
     "output_type": "display_data"
    },
    {
     "data": {
      "text/html": [
       "<h4>Question 4</h4>"
      ],
      "text/plain": [
       "<IPython.core.display.HTML object>"
      ]
     },
     "metadata": {},
     "output_type": "display_data"
    },
    {
     "name": "stdout",
     "output_type": "stream",
     "text": [
      "what analytical methodology provided integrative insights on transcriptome variations?\n"
     ]
    },
    {
     "data": {
      "text/html": [
       "<hr/>"
      ],
      "text/plain": [
       "<IPython.core.display.HTML object>"
      ]
     },
     "metadata": {},
     "output_type": "display_data"
    },
    {
     "data": {
      "text/html": [
       "<h4>Question 4 Answer</h4>"
      ],
      "text/plain": [
       "<IPython.core.display.HTML object>"
      ]
     },
     "metadata": {},
     "output_type": "display_data"
    },
    {
     "name": "stdout",
     "output_type": "stream",
     "text": [
      "Self-organizing maps of the Gene Expression Dynamics Inspector (GEDI) were utilized to reveal transcriptome variations under various environmental conditions or microgravity/hypergravity simulation devices.\n"
     ]
    },
    {
     "data": {
      "text/html": [
       "<hr/>"
      ],
      "text/plain": [
       "<IPython.core.display.HTML object>"
      ]
     },
     "metadata": {},
     "output_type": "display_data"
    },
    {
     "data": {
      "text/html": [
       "<h4>Question 5</h4>"
      ],
      "text/plain": [
       "<IPython.core.display.HTML object>"
      ]
     },
     "metadata": {},
     "output_type": "display_data"
    },
    {
     "name": "stdout",
     "output_type": "stream",
     "text": [
      "What are the implications of the findings in terms of the tuning of the transcriptome to Earth's gravity and its variations in extreme environmental conditions?\n"
     ]
    },
    {
     "data": {
      "text/html": [
       "<hr/>"
      ],
      "text/plain": [
       "<IPython.core.display.HTML object>"
      ]
     },
     "metadata": {},
     "output_type": "display_data"
    },
    {
     "data": {
      "text/html": [
       "<h4>Question 5 Answer</h4>"
      ],
      "text/plain": [
       "<IPython.core.display.HTML object>"
      ]
     },
     "metadata": {},
     "output_type": "display_data"
    },
    {
     "name": "stdout",
     "output_type": "stream",
     "text": [
      "The findings indicate that the finely adjusted transcriptome is tuned to normal Earth gravity, showing a more marked and coherent genetic response when environmental conditions significantly deviate from optimal.\n"
     ]
    },
    {
     "data": {
      "text/html": [
       "<hr/>"
      ],
      "text/plain": [
       "<IPython.core.display.HTML object>"
      ]
     },
     "metadata": {},
     "output_type": "display_data"
    }
   ],
   "source": [
    "# index = random.randint(0, len(data))\n",
    "peek_data(data, row_index=0)"
   ]
  },
  {
   "cell_type": "markdown",
   "id": "6d907c7a-b5dd-4021-b3e6-f2559ad0999d",
   "metadata": {},
   "source": [
    "## Simplify Data\n",
    "\n",
    "Here we separate out individual question/answer pair into separate row for each context.\n",
    "\n",
    "\n",
    "This is used for simplifying the validation process so that each row would have consistent view of data."
   ]
  },
  {
   "cell_type": "code",
   "execution_count": 13,
   "id": "9e51eb58-ad91-485a-8eae-a29e409c660d",
   "metadata": {},
   "outputs": [
    {
     "data": {
      "text/html": [
       "<div>\n",
       "<style scoped>\n",
       "    .dataframe tbody tr th:only-of-type {\n",
       "        vertical-align: middle;\n",
       "    }\n",
       "\n",
       "    .dataframe tbody tr th {\n",
       "        vertical-align: top;\n",
       "    }\n",
       "\n",
       "    .dataframe thead th {\n",
       "        text-align: right;\n",
       "    }\n",
       "</style>\n",
       "<table border=\"1\" class=\"dataframe\">\n",
       "  <thead>\n",
       "    <tr style=\"text-align: right;\">\n",
       "      <th></th>\n",
       "      <th>context</th>\n",
       "      <th>context_hash</th>\n",
       "      <th>url</th>\n",
       "      <th>question</th>\n",
       "      <th>answer</th>\n",
       "    </tr>\n",
       "  </thead>\n",
       "  <tbody>\n",
       "    <tr>\n",
       "      <th>0</th>\n",
       "      <td>Genome-wide transcriptional profiling showed t...</td>\n",
       "      <td>82796915</td>\n",
       "      <td>https://sciencediscoveryengine.nasa.gov#/previ...</td>\n",
       "      <td>Where were the gene expression alterations in ...</td>\n",
       "      <td>reducing gravity levels in the International S...</td>\n",
       "    </tr>\n",
       "    <tr>\n",
       "      <th>1</th>\n",
       "      <td>Genome-wide transcriptional profiling showed t...</td>\n",
       "      <td>82796915</td>\n",
       "      <td>https://sciencediscoveryengine.nasa.gov#/previ...</td>\n",
       "      <td>What kind of experiments showed differential r...</td>\n",
       "      <td>simulation experiments on ground testing space...</td>\n",
       "    </tr>\n",
       "    <tr>\n",
       "      <th>2</th>\n",
       "      <td>Genome-wide transcriptional profiling showed t...</td>\n",
       "      <td>82796915</td>\n",
       "      <td>https://sciencediscoveryengine.nasa.gov#/previ...</td>\n",
       "      <td>What is overrepresented in the different exper...</td>\n",
       "      <td>the same GO groups including a large multigene...</td>\n",
       "    </tr>\n",
       "    <tr>\n",
       "      <th>3</th>\n",
       "      <td>Genome-wide transcriptional profiling showed t...</td>\n",
       "      <td>82796915</td>\n",
       "      <td>https://sciencediscoveryengine.nasa.gov#/previ...</td>\n",
       "      <td>what analytical methodology provided integrati...</td>\n",
       "      <td>Self-organizing maps of the Gene Expression Dy...</td>\n",
       "    </tr>\n",
       "    <tr>\n",
       "      <th>4</th>\n",
       "      <td>Genome-wide transcriptional profiling showed t...</td>\n",
       "      <td>82796915</td>\n",
       "      <td>https://sciencediscoveryengine.nasa.gov#/previ...</td>\n",
       "      <td>What are the implications of the findings in t...</td>\n",
       "      <td>The findings indicate that the finely adjusted...</td>\n",
       "    </tr>\n",
       "    <tr>\n",
       "      <th>5</th>\n",
       "      <td>The objective of the Rodent Research-5 (RR-5) ...</td>\n",
       "      <td>74429782</td>\n",
       "      <td>https://sciencediscoveryengine.nasa.gov#/previ...</td>\n",
       "      <td>What was the main goal of the Rodent Research-...</td>\n",
       "      <td>to evaluate bone loss in mice during spaceflig...</td>\n",
       "    </tr>\n",
       "    <tr>\n",
       "      <th>6</th>\n",
       "      <td>The objective of the Rodent Research-5 (RR-5) ...</td>\n",
       "      <td>74429782</td>\n",
       "      <td>https://sciencediscoveryengine.nasa.gov#/previ...</td>\n",
       "      <td>What type of mice and how old were they when f...</td>\n",
       "      <td>a cohort of forty 30-weeks-old female BALB/cAn...</td>\n",
       "    </tr>\n",
       "    <tr>\n",
       "      <th>7</th>\n",
       "      <td>The objective of the Rodent Research-5 (RR-5) ...</td>\n",
       "      <td>74429782</td>\n",
       "      <td>https://sciencediscoveryengine.nasa.gov#/previ...</td>\n",
       "      <td>How many days after launch were the mice treat...</td>\n",
       "      <td>Six days after launch</td>\n",
       "    </tr>\n",
       "    <tr>\n",
       "      <th>8</th>\n",
       "      <td>The objective of the Rodent Research-5 (RR-5) ...</td>\n",
       "      <td>74429782</td>\n",
       "      <td>https://sciencediscoveryengine.nasa.gov#/previ...</td>\n",
       "      <td>How was the Earth recovery period for the subj...</td>\n",
       "      <td>Following their return to Earth, the experimen...</td>\n",
       "    </tr>\n",
       "    <tr>\n",
       "      <th>9</th>\n",
       "      <td>The objective of the Rodent Research-5 (RR-5) ...</td>\n",
       "      <td>74429782</td>\n",
       "      <td>https://sciencediscoveryengine.nasa.gov#/previ...</td>\n",
       "      <td>What specific type of samples and from which c...</td>\n",
       "      <td>GeneLab received RNA later preserved dorsal sk...</td>\n",
       "    </tr>\n",
       "  </tbody>\n",
       "</table>\n",
       "</div>"
      ],
      "text/plain": [
       "                                             context  context_hash  \\\n",
       "0  Genome-wide transcriptional profiling showed t...      82796915   \n",
       "1  Genome-wide transcriptional profiling showed t...      82796915   \n",
       "2  Genome-wide transcriptional profiling showed t...      82796915   \n",
       "3  Genome-wide transcriptional profiling showed t...      82796915   \n",
       "4  Genome-wide transcriptional profiling showed t...      82796915   \n",
       "5  The objective of the Rodent Research-5 (RR-5) ...      74429782   \n",
       "6  The objective of the Rodent Research-5 (RR-5) ...      74429782   \n",
       "7  The objective of the Rodent Research-5 (RR-5) ...      74429782   \n",
       "8  The objective of the Rodent Research-5 (RR-5) ...      74429782   \n",
       "9  The objective of the Rodent Research-5 (RR-5) ...      74429782   \n",
       "\n",
       "                                                 url  \\\n",
       "0  https://sciencediscoveryengine.nasa.gov#/previ...   \n",
       "1  https://sciencediscoveryengine.nasa.gov#/previ...   \n",
       "2  https://sciencediscoveryengine.nasa.gov#/previ...   \n",
       "3  https://sciencediscoveryengine.nasa.gov#/previ...   \n",
       "4  https://sciencediscoveryengine.nasa.gov#/previ...   \n",
       "5  https://sciencediscoveryengine.nasa.gov#/previ...   \n",
       "6  https://sciencediscoveryengine.nasa.gov#/previ...   \n",
       "7  https://sciencediscoveryengine.nasa.gov#/previ...   \n",
       "8  https://sciencediscoveryengine.nasa.gov#/previ...   \n",
       "9  https://sciencediscoveryengine.nasa.gov#/previ...   \n",
       "\n",
       "                                            question  \\\n",
       "0  Where were the gene expression alterations in ...   \n",
       "1  What kind of experiments showed differential r...   \n",
       "2  What is overrepresented in the different exper...   \n",
       "3  what analytical methodology provided integrati...   \n",
       "4  What are the implications of the findings in t...   \n",
       "5  What was the main goal of the Rodent Research-...   \n",
       "6  What type of mice and how old were they when f...   \n",
       "7  How many days after launch were the mice treat...   \n",
       "8  How was the Earth recovery period for the subj...   \n",
       "9  What specific type of samples and from which c...   \n",
       "\n",
       "                                              answer  \n",
       "0  reducing gravity levels in the International S...  \n",
       "1  simulation experiments on ground testing space...  \n",
       "2  the same GO groups including a large multigene...  \n",
       "3  Self-organizing maps of the Gene Expression Dy...  \n",
       "4  The findings indicate that the finely adjusted...  \n",
       "5  to evaluate bone loss in mice during spaceflig...  \n",
       "6  a cohort of forty 30-weeks-old female BALB/cAn...  \n",
       "7                              Six days after launch  \n",
       "8  Following their return to Earth, the experimen...  \n",
       "9  GeneLab received RNA later preserved dorsal sk...  "
      ]
     },
     "execution_count": 13,
     "metadata": {},
     "output_type": "execute_result"
    }
   ],
   "source": [
    "data = simplify_columns(data)\n",
    "data.head(10)"
   ]
  },
  {
   "cell_type": "code",
   "execution_count": 14,
   "id": "78a5cc46-2659-4b89-9cf0-f3fa7118fbbe",
   "metadata": {},
   "outputs": [
    {
     "data": {
      "text/plain": [
       "(295, 5)"
      ]
     },
     "execution_count": 14,
     "metadata": {},
     "output_type": "execute_result"
    }
   ],
   "source": [
    "data.shape"
   ]
  },
  {
   "cell_type": "code",
   "execution_count": 15,
   "id": "8b3b805c-a5b2-46a1-b6e9-18acbcca0939",
   "metadata": {},
   "outputs": [
    {
     "name": "stdout",
     "output_type": "stream",
     "text": [
      "Row = 0\n"
     ]
    },
    {
     "data": {
      "text/html": [
       "<h4>context</h4>"
      ],
      "text/plain": [
       "<IPython.core.display.HTML object>"
      ]
     },
     "metadata": {},
     "output_type": "display_data"
    },
    {
     "name": "stdout",
     "output_type": "stream",
     "text": [
      "Genome-wide transcriptional profiling showed that reducing gravity levels in the International Space Station (ISS) causes important alterations in Drosophila gene expression intimately linked to imposed spaceflight-related environmental constrains during Drosophila metamorphosis. However, simulation experiments on ground testing space-related environmental constraints, show differential responses. Curiously, although particular genes are not common in the different experiments, the same GO groups including a large multigene family related with behavior, stress response and organogenesis are over represented in them. A global and integrative analysis using the gene expression dynamics inspector (GEDI) self-organizing maps, reveals different degrees in the responses of the transcriptome when using different environmental conditions or microgravity/hypergravity simulation devices. These results suggest that the transcriptome is finely tuned to normal gravity. In regular environmental conditions the alteration of this constant parameter on Earth can have mild effects on gene expression but when environmental conditions are far from optimal, the gene expression is much more intense and consistent effects.\n"
     ]
    },
    {
     "data": {
      "text/html": [
       "<hr/>"
      ],
      "text/plain": [
       "<IPython.core.display.HTML object>"
      ]
     },
     "metadata": {},
     "output_type": "display_data"
    },
    {
     "data": {
      "text/html": [
       "<h4>context_hash</h4>"
      ],
      "text/plain": [
       "<IPython.core.display.HTML object>"
      ]
     },
     "metadata": {},
     "output_type": "display_data"
    },
    {
     "name": "stdout",
     "output_type": "stream",
     "text": [
      "82796915\n"
     ]
    },
    {
     "data": {
      "text/html": [
       "<hr/>"
      ],
      "text/plain": [
       "<IPython.core.display.HTML object>"
      ]
     },
     "metadata": {},
     "output_type": "display_data"
    },
    {
     "data": {
      "text/html": [
       "<h4>url</h4>"
      ],
      "text/plain": [
       "<IPython.core.display.HTML object>"
      ]
     },
     "metadata": {},
     "output_type": "display_data"
    },
    {
     "name": "stdout",
     "output_type": "stream",
     "text": [
      "https://sciencediscoveryengine.nasa.gov#/preview?id=%2FSDE%2Fgenelab_lsda%2F%7Chttps:%2F%2Fosdr.nasa.gov%2Fbio%2Frepo%2Fdata%2Fstudies%2FOSD-70%2F&query=%7B%22name%22:%22query-smd-primary%22,%22scope%22:%22All%22,%22text%22:%22osd-70%22%7D\n"
     ]
    },
    {
     "data": {
      "text/html": [
       "<hr/>"
      ],
      "text/plain": [
       "<IPython.core.display.HTML object>"
      ]
     },
     "metadata": {},
     "output_type": "display_data"
    },
    {
     "data": {
      "text/html": [
       "<h4>question</h4>"
      ],
      "text/plain": [
       "<IPython.core.display.HTML object>"
      ]
     },
     "metadata": {},
     "output_type": "display_data"
    },
    {
     "name": "stdout",
     "output_type": "stream",
     "text": [
      "Where were the gene expression alterations in Drosophila observed during their metamorphosis?\n"
     ]
    },
    {
     "data": {
      "text/html": [
       "<hr/>"
      ],
      "text/plain": [
       "<IPython.core.display.HTML object>"
      ]
     },
     "metadata": {},
     "output_type": "display_data"
    },
    {
     "data": {
      "text/html": [
       "<h4>answer</h4>"
      ],
      "text/plain": [
       "<IPython.core.display.HTML object>"
      ]
     },
     "metadata": {},
     "output_type": "display_data"
    },
    {
     "name": "stdout",
     "output_type": "stream",
     "text": [
      "reducing gravity levels in the International Space Station (ISS)\n"
     ]
    },
    {
     "data": {
      "text/html": [
       "<hr/>"
      ],
      "text/plain": [
       "<IPython.core.display.HTML object>"
      ]
     },
     "metadata": {},
     "output_type": "display_data"
    }
   ],
   "source": [
    "peek_data(data, row_index=0)"
   ]
  },
  {
   "cell_type": "code",
   "execution_count": 16,
   "id": "16d87194-9768-4015-8103-6bfc2d5e89e6",
   "metadata": {},
   "outputs": [
    {
     "name": "stdout",
     "output_type": "stream",
     "text": [
      "Row = 1\n"
     ]
    },
    {
     "data": {
      "text/html": [
       "<h4>context</h4>"
      ],
      "text/plain": [
       "<IPython.core.display.HTML object>"
      ]
     },
     "metadata": {},
     "output_type": "display_data"
    },
    {
     "name": "stdout",
     "output_type": "stream",
     "text": [
      "Genome-wide transcriptional profiling showed that reducing gravity levels in the International Space Station (ISS) causes important alterations in Drosophila gene expression intimately linked to imposed spaceflight-related environmental constrains during Drosophila metamorphosis. However, simulation experiments on ground testing space-related environmental constraints, show differential responses. Curiously, although particular genes are not common in the different experiments, the same GO groups including a large multigene family related with behavior, stress response and organogenesis are over represented in them. A global and integrative analysis using the gene expression dynamics inspector (GEDI) self-organizing maps, reveals different degrees in the responses of the transcriptome when using different environmental conditions or microgravity/hypergravity simulation devices. These results suggest that the transcriptome is finely tuned to normal gravity. In regular environmental conditions the alteration of this constant parameter on Earth can have mild effects on gene expression but when environmental conditions are far from optimal, the gene expression is much more intense and consistent effects.\n"
     ]
    },
    {
     "data": {
      "text/html": [
       "<hr/>"
      ],
      "text/plain": [
       "<IPython.core.display.HTML object>"
      ]
     },
     "metadata": {},
     "output_type": "display_data"
    },
    {
     "data": {
      "text/html": [
       "<h4>context_hash</h4>"
      ],
      "text/plain": [
       "<IPython.core.display.HTML object>"
      ]
     },
     "metadata": {},
     "output_type": "display_data"
    },
    {
     "name": "stdout",
     "output_type": "stream",
     "text": [
      "82796915\n"
     ]
    },
    {
     "data": {
      "text/html": [
       "<hr/>"
      ],
      "text/plain": [
       "<IPython.core.display.HTML object>"
      ]
     },
     "metadata": {},
     "output_type": "display_data"
    },
    {
     "data": {
      "text/html": [
       "<h4>url</h4>"
      ],
      "text/plain": [
       "<IPython.core.display.HTML object>"
      ]
     },
     "metadata": {},
     "output_type": "display_data"
    },
    {
     "name": "stdout",
     "output_type": "stream",
     "text": [
      "https://sciencediscoveryengine.nasa.gov#/preview?id=%2FSDE%2Fgenelab_lsda%2F%7Chttps:%2F%2Fosdr.nasa.gov%2Fbio%2Frepo%2Fdata%2Fstudies%2FOSD-70%2F&query=%7B%22name%22:%22query-smd-primary%22,%22scope%22:%22All%22,%22text%22:%22osd-70%22%7D\n"
     ]
    },
    {
     "data": {
      "text/html": [
       "<hr/>"
      ],
      "text/plain": [
       "<IPython.core.display.HTML object>"
      ]
     },
     "metadata": {},
     "output_type": "display_data"
    },
    {
     "data": {
      "text/html": [
       "<h4>question</h4>"
      ],
      "text/plain": [
       "<IPython.core.display.HTML object>"
      ]
     },
     "metadata": {},
     "output_type": "display_data"
    },
    {
     "name": "stdout",
     "output_type": "stream",
     "text": [
      "What kind of experiments showed differential responses in gene expression?\n"
     ]
    },
    {
     "data": {
      "text/html": [
       "<hr/>"
      ],
      "text/plain": [
       "<IPython.core.display.HTML object>"
      ]
     },
     "metadata": {},
     "output_type": "display_data"
    },
    {
     "data": {
      "text/html": [
       "<h4>answer</h4>"
      ],
      "text/plain": [
       "<IPython.core.display.HTML object>"
      ]
     },
     "metadata": {},
     "output_type": "display_data"
    },
    {
     "name": "stdout",
     "output_type": "stream",
     "text": [
      "simulation experiments on ground testing space-related environmental constraints\n"
     ]
    },
    {
     "data": {
      "text/html": [
       "<hr/>"
      ],
      "text/plain": [
       "<IPython.core.display.HTML object>"
      ]
     },
     "metadata": {},
     "output_type": "display_data"
    }
   ],
   "source": [
    "peek_data(data, row_index=1)"
   ]
  },
  {
   "cell_type": "markdown",
   "id": "bee52cc4-5257-47d5-9141-a82ac02ae9e2",
   "metadata": {},
   "source": [
    "# promptlab \n",
    "\n",
    "\n",
    "**promptlab** provides a programmatic approach to interact with the bot via its REST API.\n",
    "Specificially, the `/process/` endpoint can process any query and generate the respond accordingly.\n",
    "https://api.promptlab.nasa-impact.net/api/v1/process/\n",
    "\n",
    "We can send a request to the API with the query/question and get the response.\n",
    "\n",
    "Here, the `FlowRunner` class abstracts everything. Its `.run(...)` method processes the query which:\n",
    "- Takes in a query string\n",
    "- Returns a result json/dictionary\n",
    "\n",
    "The result from the API tentatively gives us following information:\n",
    "\n",
    "- *question* : input question fed into the bot\n",
    "- *answer* : generated answer based on retrieved contexts\n",
    "- *retrieved contexts* : List of **top-k** contexts retrieved by the RAG system"
   ]
  },
  {
   "cell_type": "markdown",
   "id": "783bcbf4-b439-4045-b12f-80c4f5f545e0",
   "metadata": {},
   "source": [
    "## setup flow processors"
   ]
  },
  {
   "cell_type": "code",
   "execution_count": 17,
   "id": "9b91d48d-1c8b-4572-a5f8-b1f04cca610b",
   "metadata": {},
   "outputs": [],
   "source": [
    "import requests\n",
    "from typing import Optional, Union\n",
    "import urllib.parse"
   ]
  },
  {
   "cell_type": "code",
   "execution_count": 18,
   "id": "bd72e375-e9e6-438a-b5b0-ceb4d53d8eab",
   "metadata": {},
   "outputs": [],
   "source": [
    "from loguru import logger"
   ]
  },
  {
   "cell_type": "code",
   "execution_count": 19,
   "id": "3822fbeb-a9f7-4550-9411-85d1b24f33b8",
   "metadata": {},
   "outputs": [],
   "source": [
    "from tenacity import retry, retry_if_result, stop_after_attempt, wait_fixed, retry_if_exception, retry_if_exception_type"
   ]
  },
  {
   "cell_type": "code",
   "execution_count": 20,
   "id": "b630a0a7-9552-483b-aaa2-ed1f5ac194fd",
   "metadata": {},
   "outputs": [],
   "source": [
    "# Setup the base URL to point to the production\n",
    "BASE_API_URL = \"https://api.promptlab.nasa-impact.net/api/v1/process/\"\n",
    "\n",
    "# Setup api key to authenticate\n",
    "PROMPTLAB_API_KEY =  \"sk-e0bvhSxSSk5Vw16d-8s1cVGjUcr9d7nam49-6K28FZQ\""
   ]
  },
  {
   "cell_type": "code",
   "execution_count": 21,
   "id": "4027554b-6321-4c7f-bd63-edfca390c7e1",
   "metadata": {},
   "outputs": [],
   "source": [
    "# tweaks for the OSDR bot flow\n",
    "TWEAKS = {\n",
    "  \"ConversationalRetrievalChain-83vns\": {},\n",
    "  \"ChatOpenAI-gsfUD\": {\"model\": \"gpt-3.5-turbo\"},\n",
    "  \"ConversationBufferMemory-z2ZqE\": {},\n",
    "  \"Sinequa-Z8S73\": {}\n",
    "}\n",
    "\n",
    "# flow id of the OSDR bot in promptlab that is used for QA programmatically\n",
    "FLOW_ID = \"1edbe0f9-d7ff-4c2a-a371-5f6312964f05\""
   ]
  },
  {
   "cell_type": "code",
   "execution_count": 22,
   "id": "cdc7b670-02a4-4974-ab57-3b7d0ac9baf0",
   "metadata": {},
   "outputs": [],
   "source": [
    "class FlowRunner:\n",
    "    def __init__(self, base_url: str, api_key: str, debug:bool = False) -> None:\n",
    "        self.base_url = base_url\n",
    "        self.api_key = api_key\n",
    "        self.debug=bool(debug)\n",
    "\n",
    "    def run_flow(\n",
    "        self,\n",
    "        inputs: dict,\n",
    "        flow_id: str,\n",
    "        tweaks: Optional[dict] = None,\n",
    "    ) -> dict:\n",
    "        \"\"\"\n",
    "        Run a flow with a given message and optional tweaks.\n",
    "    \n",
    "        :param message: The message to send to the flow\n",
    "        :param flow_id: The ID of the flow to run\n",
    "        :param tweaks: Optional tweaks to customize the flow\n",
    "        :return: The JSON response from the flow\n",
    "        \"\"\"\n",
    "        api_url = urllib.parse.urljoin(self.base_url, flow_id)\n",
    "        if self.debug:\n",
    "            logger.debug(f\"URL = {api_url}\")\n",
    "\n",
    "        api_key = self.api_key\n",
    "        payload = {\"inputs\": inputs}\n",
    "        headers = None\n",
    "        if tweaks:\n",
    "            payload[\"tweaks\"] = tweaks\n",
    "        if api_key:\n",
    "            headers = {\"x-api-key\": api_key}\n",
    "        response = requests.post(api_url, json=payload, headers=headers)\n",
    "        if self.debug:\n",
    "            logger.debug(f\"response = {response}\")\n",
    "            logger.debug(f\"status code = {response.status_code}\")\n",
    "        if response.status_code != 200:\n",
    "            raise requests.exceptions.HTTPError(f\"Error: {response.status_code}\")\n",
    "        return response.json()\n",
    "\n",
    "    @staticmethod\n",
    "    def if_not_valid_result(result: dict) -> bool:\n",
    "        return not (isinstance(result, dict) and \"result\" in result and \"answer\" in result.get(\"result\", {}))\n",
    "    \n",
    "    @retry(\n",
    "        retry=(retry_if_exception_type(requests.exceptions.RequestException) | retry_if_result(if_not_valid_result)),\n",
    "        stop=stop_after_attempt(3),\n",
    "        wait=wait_fixed(2)\n",
    "    )\n",
    "    def run(\n",
    "        self,\n",
    "        input: Union[dict, str],\n",
    "        flow_id: str,\n",
    "        tweaks: Optional[dict] = None,\n",
    "    ) -> dict:\n",
    "        if isinstance(input, str):\n",
    "            input = dict(question=input)\n",
    "        result = self.run_flow(\n",
    "            inputs=input,\n",
    "            flow_id=flow_id,\n",
    "            tweaks=tweaks,\n",
    "        )\n",
    "        result[\"question\"] = input[\"question\"] if isinstance(input, dict) else input\n",
    "\n",
    "        if \"result\" in result:\n",
    "            source_documents = result.get(\"result\", {}).get(\"source_documents\", \"[]\")\n",
    "            if isinstance(source_documents, str):\n",
    "                result[\"result\"][\"source_documents\"] = json.loads(source_documents)\n",
    "        return result\n",
    "\n",
    "    @staticmethod\n",
    "    def display_result(result: dict, question: Optional[str]=None, reference_answer=None):\n",
    "        header_tag = \"h4\"\n",
    "        question = result.get(\"question\", question)\n",
    "        if question:\n",
    "            display(HTML(f\"<{header_tag}>Question</{header_tag}>\"))\n",
    "            print(question)\n",
    "            display(HTML(\"<hr/>\"))\n",
    "\n",
    "        if \"result\" in result:\n",
    "            result = result[\"result\"]\n",
    "        display(HTML(f\"<{header_tag}>Generated Answer</{header_tag}>\"))\n",
    "        print(result[\"answer\"])\n",
    "        display(HTML(\"<hr/>\"))\n",
    "\n",
    "        if reference_answer:\n",
    "            display(HTML(f\"<{header_tag}>Exepcted Answer (Reference/Ground Truth)</{header_tag}>\"))\n",
    "            print(reference_answer)\n",
    "            display(HTML(\"<hr/>\"))\n",
    "        \n",
    "        # display(HTML(f\"<{header_tag}>Retrieved Contexts</{header_tag}>\"))\n",
    "        for idx, doc in enumerate(result[\"source_documents\"], start=1):\n",
    "            display(HTML(f\"<{header_tag}>Retrieved Context #{idx}</{header_tag}>\"))\n",
    "            print(doc[\"page_content\"])\n",
    "            print(doc[\"metadata\"][\"source\"])\n",
    "            display(HTML(\"<hr/>\"))"
   ]
  },
  {
   "cell_type": "markdown",
   "id": "a0a6cd33-17a9-4f76-9b30-aac4b726ddcd",
   "metadata": {},
   "source": [
    "## Test Run\n",
    "\n",
    "Now, let's check what a sample test run looks like when we call the API for QA."
   ]
  },
  {
   "cell_type": "code",
   "execution_count": 23,
   "id": "bef70819-ac3d-43a0-a3a4-b6af8f6ba2f9",
   "metadata": {},
   "outputs": [],
   "source": [
    "flow_runner = FlowRunner(\n",
    "    base_url=BASE_API_URL,\n",
    "    api_key=PROMPTLAB_API_KEY\n",
    ")"
   ]
  },
  {
   "cell_type": "code",
   "execution_count": 24,
   "id": "ee541856-c87c-4dc7-85ce-26ef6e3cdd73",
   "metadata": {},
   "outputs": [],
   "source": [
    "query = \"What parasites were sent to ISS to study host immunity?\""
   ]
  },
  {
   "cell_type": "code",
   "execution_count": 25,
   "id": "197ff92a-0b01-4a79-9355-02af414e6d6c",
   "metadata": {},
   "outputs": [],
   "source": [
    "result = flow_runner.run(\n",
    "    input=query,\n",
    "    flow_id=FLOW_ID,\n",
    "    tweaks=TWEAKS,\n",
    ")"
   ]
  },
  {
   "cell_type": "code",
   "execution_count": 26,
   "id": "a0f6565d-cbfa-430f-9067-f429001e797f",
   "metadata": {},
   "outputs": [
    {
     "data": {
      "text/plain": [
       "'What parasites were sent to ISS to study host immunity?'"
      ]
     },
     "execution_count": 26,
     "metadata": {},
     "output_type": "execute_result"
    }
   ],
   "source": [
    "result[\"question\"]"
   ]
  },
  {
   "cell_type": "code",
   "execution_count": 27,
   "id": "340f1781-096f-485e-a8f4-ea48365f741d",
   "metadata": {},
   "outputs": [
    {
     "data": {
      "text/html": [
       "<h4>Question</h4>"
      ],
      "text/plain": [
       "<IPython.core.display.HTML object>"
      ]
     },
     "metadata": {},
     "output_type": "display_data"
    },
    {
     "name": "stdout",
     "output_type": "stream",
     "text": [
      "What parasites were sent to ISS to study host immunity?\n"
     ]
    },
    {
     "data": {
      "text/html": [
       "<hr/>"
      ],
      "text/plain": [
       "<IPython.core.display.HTML object>"
      ]
     },
     "metadata": {},
     "output_type": "display_data"
    },
    {
     "data": {
      "text/html": [
       "<h4>Generated Answer</h4>"
      ],
      "text/plain": [
       "<IPython.core.display.HTML object>"
      ]
     },
     "metadata": {},
     "output_type": "display_data"
    },
    {
     "name": "stdout",
     "output_type": "stream",
     "text": [
      "In the study mentioned, fruit flies and their parasitic wasps were sent to the ISS to examine changes in host immunity and parasite virulence. The parasitic wasps included Leptopilina boulardi 17 and Leptopilina heterotoma 14.\n"
     ]
    },
    {
     "data": {
      "text/html": [
       "<hr/>"
      ],
      "text/plain": [
       "<IPython.core.display.HTML object>"
      ]
     },
     "metadata": {},
     "output_type": "display_data"
    },
    {
     "data": {
      "text/html": [
       "<h4>Retrieved Context #1</h4>"
      ],
      "text/plain": [
       "<IPython.core.display.HTML object>"
      ]
     },
     "metadata": {},
     "output_type": "display_data"
    },
    {
     "name": "stdout",
     "output_type": "stream",
     "text": [
      "In this <b>study</b>, fruit flies and their parasitic wasps were <b>sent</b> to the <b>ISS</b> to examine changes in <b>host</b> <b>immunity</b> and <b>parasite</b> virulence. Key findings from this work are as follows: (a) Spaceflight spiked the expression of inflammation genes in fruit flies; (b) Spaceflight enhanced tumor growth in flies already suffering from chronic inflammation; (c) Spaceflight did not significantly affect parasitic wasp development, emergence, or the expression of virulence genes; (d) <b>Parasite</b> mutants with visible wing color and shape alterations were obtained. This <b>study</b> contains Drosophila melanogaster data.\n",
      "https://osdr.nasa.gov/bio/repo/data/studies/OSD-588/\n"
     ]
    },
    {
     "data": {
      "text/html": [
       "<hr/>"
      ],
      "text/plain": [
       "<IPython.core.display.HTML object>"
      ]
     },
     "metadata": {},
     "output_type": "display_data"
    },
    {
     "data": {
      "text/html": [
       "<h4>Retrieved Context #2</h4>"
      ],
      "text/plain": [
       "<IPython.core.display.HTML object>"
      ]
     },
     "metadata": {},
     "output_type": "display_data"
    },
    {
     "name": "stdout",
     "output_type": "stream",
     "text": [
      "In this <b>study</b>, fruit flies and their parasitic wasps were <b>sent</b> to the <b>ISS</b> to examine changes in <b>host</b> <b>immunity</b> and <b>parasite</b> virulence. Key findings from this work are as follows: (a) Spaceflight spiked the expression of inflammation genes in fruit flies; (b) Spaceflight enhanced tumor growth in flies already suffering from chronic inflammation; (c) Spaceflight did not significantly affect parasitic wasp development, emergence, or the expression of virulence genes; (d) <b>Parasite</b> mutants with visible wing color and shape alterations were obtained. This <b>study</b> contains Leptopilina boulardi 17 data.\n",
      "https://osdr.nasa.gov/bio/repo/data/studies/OSD-610/\n"
     ]
    },
    {
     "data": {
      "text/html": [
       "<hr/>"
      ],
      "text/plain": [
       "<IPython.core.display.HTML object>"
      ]
     },
     "metadata": {},
     "output_type": "display_data"
    },
    {
     "data": {
      "text/html": [
       "<h4>Retrieved Context #3</h4>"
      ],
      "text/plain": [
       "<IPython.core.display.HTML object>"
      ]
     },
     "metadata": {},
     "output_type": "display_data"
    },
    {
     "name": "stdout",
     "output_type": "stream",
     "text": [
      "In this <b>study</b>, fruit flies and their parasitic wasps were <b>sent</b> to the <b>ISS</b> to examine changes in <b>host</b> <b>immunity</b> and <b>parasite</b> virulence. Key findings from this work are as follows: (a) Spaceflight spiked the expression of inflammation genes in fruit flies; (b) Spaceflight enhanced tumor growth in flies already suffering from chronic inflammation; (c) Spaceflight did not significantly affect parasitic wasp development, emergence, or the expression of virulence genes; (d) <b>Parasite</b> mutants with visible wing color and shape alterations were obtained. This <b>study</b> contains Leptopilina heterotoma14 data.\n",
      "https://osdr.nasa.gov/bio/repo/data/studies/OSD-609/\n"
     ]
    },
    {
     "data": {
      "text/html": [
       "<hr/>"
      ],
      "text/plain": [
       "<IPython.core.display.HTML object>"
      ]
     },
     "metadata": {},
     "output_type": "display_data"
    },
    {
     "data": {
      "text/html": [
       "<h4>Retrieved Context #4</h4>"
      ],
      "text/plain": [
       "<IPython.core.display.HTML object>"
      ]
     },
     "metadata": {},
     "output_type": "display_data"
    },
    {
     "name": "stdout",
     "output_type": "stream",
     "text": [
      "About  Charter  How to Join  Current AWG Members  Citizen Science  SOLSTICE  SOLSTICE Members  FAQ  Terms & Conditions  Genelab Tutorials  Contact Us  account_circle expand_more  1.26 TB  OSD-588 Version 1  Drosophila parasitoids go to space: Unexpected effects of spaceflight on <b>hosts</b> and their parasitoids - Drosophila data <b>Study</b>  Submitted Date: 02-Feb-2023  Initial Release Date: 02-Jan-2024  notifications share  GeneLab ID : GLDS-583 DOI : 10.26030/v9rh-5a70  Cite this <b>Study</b>  info Description  Description  In this <b>study</b>, fruit flies and their parasitic wasps were <b>sent</b> to the <b>ISS</b> to examine changes in <b>host</b> <b>immunity</b> and <b>parasite</b> virulence.\n",
      "https://osdr.nasa.gov/bio/repo/data/studies/OSD-588/\n"
     ]
    },
    {
     "data": {
      "text/html": [
       "<hr/>"
      ],
      "text/plain": [
       "<IPython.core.display.HTML object>"
      ]
     },
     "metadata": {},
     "output_type": "display_data"
    },
    {
     "data": {
      "text/html": [
       "<h4>Retrieved Context #5</h4>"
      ],
      "text/plain": [
       "<IPython.core.display.HTML object>"
      ]
     },
     "metadata": {},
     "output_type": "display_data"
    },
    {
     "name": "stdout",
     "output_type": "stream",
     "text": [
      "About  Charter  How to Join  Current AWG Members  Citizen Science  SOLSTICE  SOLSTICE Members  FAQ  Terms & Conditions  Genelab Tutorials  Contact Us  account_circle expand_more  148.92 GB  OSD-610 Version 1  Drosophila parasitoids go to space: Unexpected and differential effects of spaceflight on <b>hosts</b> and their parasitoids - Wasp Leptopilina boulardi 17 data <b>Study</b>  Submitted Date: 28-Apr-2023  Initial Release Date: 02-Jan-2024  notifications share  GeneLab ID : GLDS-587 DOI : 10.26030/9ee4-6s36  Cite this <b>Study</b>  info Description  Description  In this <b>study</b>, fruit flies and their parasitic wasps were <b>sent</b> to the <b>ISS</b> to examine changes in <b>host</b> <b>immunity</b> and <b>parasite</b> virulence.\n",
      "https://osdr.nasa.gov/bio/repo/data/studies/OSD-610/\n"
     ]
    },
    {
     "data": {
      "text/html": [
       "<hr/>"
      ],
      "text/plain": [
       "<IPython.core.display.HTML object>"
      ]
     },
     "metadata": {},
     "output_type": "display_data"
    },
    {
     "data": {
      "text/html": [
       "<h4>Retrieved Context #6</h4>"
      ],
      "text/plain": [
       "<IPython.core.display.HTML object>"
      ]
     },
     "metadata": {},
     "output_type": "display_data"
    },
    {
     "name": "stdout",
     "output_type": "stream",
     "text": [
      "About  Charter  How to Join  Current AWG Members  Citizen Science  SOLSTICE  SOLSTICE Members  FAQ  Terms & Conditions  Genelab Tutorials  Contact Us  account_circle expand_more  176.26 GB  OSD-609 Version 1  Drosophila parasitoids go to space: Unexpected and differential effects of spaceflight on <b>hosts</b> and their parasitoids - Wasp Leptopilina heterotoma 14 data <b>Study</b>  Submitted Date: 28-Apr-2023  Initial Release Date: 02-Jan-2024  notifications share  GeneLab ID : GLDS-586 DOI : 10.26030/5rjq-a347  Cite this <b>Study</b>  info Description  Description  In this <b>study</b>, fruit flies and their parasitic wasps were <b>sent</b> to the <b>ISS</b> to examine changes in <b>host</b> <b>immunity</b> and <b>parasite</b> virulence.\n",
      "https://osdr.nasa.gov/bio/repo/data/studies/OSD-609/\n"
     ]
    },
    {
     "data": {
      "text/html": [
       "<hr/>"
      ],
      "text/plain": [
       "<IPython.core.display.HTML object>"
      ]
     },
     "metadata": {},
     "output_type": "display_data"
    },
    {
     "data": {
      "text/html": [
       "<h4>Retrieved Context #7</h4>"
      ],
      "text/plain": [
       "<IPython.core.display.HTML object>"
      ]
     },
     "metadata": {},
     "output_type": "display_data"
    },
    {
     "name": "stdout",
     "output_type": "stream",
     "text": [
      "The biology chosen for this experiment was Arabidopsis thaliana, ecotype Col-0, because of the plant's history of spaceflight experimentation within KFTs and wealth of comparative data from orbital experiments. KFTs were deployed as a wearable device, a leg pouch attached to the astronaut, which proved to be operationally effective during the course of the flight. Data from the inflight samples indicated that the microgravity period of the flight elicited the strongest transcriptomic responses as measured by the number of genes showing differential expression.\n",
      "https://osdr.nasa.gov/bio/repo/data/studies/OSD-624/\n"
     ]
    },
    {
     "data": {
      "text/html": [
       "<hr/>"
      ],
      "text/plain": [
       "<IPython.core.display.HTML object>"
      ]
     },
     "metadata": {},
     "output_type": "display_data"
    },
    {
     "data": {
      "text/html": [
       "<h4>Retrieved Context #8</h4>"
      ],
      "text/plain": [
       "<IPython.core.display.HTML object>"
      ]
     },
     "metadata": {},
     "output_type": "display_data"
    },
    {
     "name": "stdout",
     "output_type": "stream",
     "text": [
      "Fungal Pathogenesis , Tumorigenesis , and Effects of <b>Host</b> <b>Immunity</b> in Space  Project Type  Spaceflight <b>Study</b>  Flight Program  Space Transportation System (STS)  Experiment Platform  Shuttle Life Sciences Research (Middeck)  Sponsoring Agency  NASA  NASA Center  Ames Research Center (ARC)  Funding Source  This <b>study</b> work was supported by a NASA grant to SB for Fungal Pathogenesis, Tumorigenesis, and Effects of <b>Host</b> <b>Immunity</b> in the Space Environment (FSB-FIT-2005). The funder had a role in <b>study</b> design and in supporting data collection.  Acknowledgments  We thank David Schneider for helping us with the design of this experiment.\n",
      "https://osdr.nasa.gov/bio/repo/data/studies/OSD-3/\n"
     ]
    },
    {
     "data": {
      "text/html": [
       "<hr/>"
      ],
      "text/plain": [
       "<IPython.core.display.HTML object>"
      ]
     },
     "metadata": {},
     "output_type": "display_data"
    },
    {
     "data": {
      "text/html": [
       "<h4>Retrieved Context #9</h4>"
      ],
      "text/plain": [
       "<IPython.core.display.HTML object>"
      ]
     },
     "metadata": {},
     "output_type": "display_data"
    },
    {
     "name": "stdout",
     "output_type": "stream",
     "text": [
      "Spaceflight uniquely alters the physiology of both human cells and microbial pathogens, stimulating cellular and molecular changes directly relevant to infectious disease. However, the influence of this environment on host-pathogen interactions remains poorly understood. Here we report our results from the STL-IMMUNE study flown aboard Space Shuttle mission STS-131, which investigated multi-omic responses (transcriptomic, proteomic) of human intestinal epithelial cells to infection with Salmonella Typhimurium when both host and pathogen were simultaneously exposed to spaceflight. To our knowledge, this was the first in-flight infection and dual RNA-seq analysis using human cells.\n",
      "https://osdr.nasa.gov/bio/repo/data/studies/OSD-323/\n"
     ]
    },
    {
     "data": {
      "text/html": [
       "<hr/>"
      ],
      "text/plain": [
       "<IPython.core.display.HTML object>"
      ]
     },
     "metadata": {},
     "output_type": "display_data"
    },
    {
     "data": {
      "text/html": [
       "<h4>Retrieved Context #10</h4>"
      ],
      "text/plain": [
       "<IPython.core.display.HTML object>"
      ]
     },
     "metadata": {},
     "output_type": "display_data"
    },
    {
     "name": "stdout",
     "output_type": "stream",
     "text": [
      "Immune dysregulation is among the main adverse outcomes of spaceflight. Despite its crucial role in host protection, effects on the human antibody repertoire are unknown. Consequently, we examined the IgM repertoire of five cosmonauts 25 days before launch, after 64 and 129 days spent on the International Space Station (ISS), and after 1, 7 and 30 days of Earth reambulation using high-throughput sequencing. This is the first study of this kind.\n",
      "https://osdr.nasa.gov/bio/repo/data/studies/OSD-316/\n"
     ]
    },
    {
     "data": {
      "text/html": [
       "<hr/>"
      ],
      "text/plain": [
       "<IPython.core.display.HTML object>"
      ]
     },
     "metadata": {},
     "output_type": "display_data"
    }
   ],
   "source": [
    "flow_runner.display_result(result)"
   ]
  },
  {
   "cell_type": "markdown",
   "id": "1145101f-e93c-44ef-a493-1d224e1dbf90",
   "metadata": {},
   "source": [
    "# Run OSDR Validation set\n",
    "\n",
    "Instead of manually running each question through the bot to generate the answer, we run all the questions from the validation data in bulk.\n",
    "\n",
    "We have some functions for housekeeping and the details for them are hidden away for brevity.\n",
    "\n",
    "> Note: Since it takes some time to run through all the questions, we'll pre-load the responses from a csv."
   ]
  },
  {
   "cell_type": "code",
   "execution_count": 28,
   "id": "a481fd4b-e50f-491e-8346-ebea7d26d5e0",
   "metadata": {},
   "outputs": [],
   "source": [
    "from tqdm import tqdm\n",
    "from joblib import Parallel, delayed\n",
    "import ast"
   ]
  },
  {
   "cell_type": "code",
   "execution_count": 29,
   "id": "2c504385-1609-48a2-aad9-d02a48e71f4c",
   "metadata": {},
   "outputs": [],
   "source": [
    "def process_row(row, flow_runner, flow_id, tweaks):\n",
    "    try:\n",
    "        result = flow_runner.run(input=row.question, flow_id=flow_id, tweaks=tweaks)\n",
    "    except:\n",
    "        logger.error(f\"Error for question={row.question}. Skipping\")\n",
    "        result = {}\n",
    "    print(result.keys())\n",
    "    result[\"reference_context\"] = row.context\n",
    "    result[\"reference_answer\"] = row.answer\n",
    "    result[\"context_hash\"] = row.context_hash\n",
    "    return result"
   ]
  },
  {
   "cell_type": "code",
   "execution_count": 30,
   "id": "1ba8708a-2bc7-4c96-9178-10a7280680cc",
   "metadata": {},
   "outputs": [],
   "source": [
    "def get_osdr_responses(\n",
    "    data: pd.DataFrame,\n",
    "    flow_runner: FlowRunner,\n",
    "    flow_id,\n",
    "    tweaks\n",
    ") -> pd.DataFrame:\n",
    "    results = []\n",
    "    for row in tqdm(data.itertuples()):\n",
    "        result = process_row(row, flow_runner, flow_id, tweaks)\n",
    "        results.append(result)\n",
    "    return pd.DataFrame(results)\n",
    "\n",
    "def get_osdr_responses_parallel(\n",
    "    data: pd.DataFrame,\n",
    "    flow_runner,\n",
    "    flow_id, \n",
    "    tweaks\n",
    ") -> pd.DataFrame:\n",
    "    results = Parallel(n_jobs=-1, backend=\"threading\")(\n",
    "        delayed(process_row)\\\n",
    "        (row, flow_runner, flow_id, tweaks) for row in tqdm(data.itertuples(index=False))\n",
    "    )\n",
    "    results_df = pd.DataFrame(results)\n",
    "    return results_df"
   ]
  },
  {
   "cell_type": "code",
   "execution_count": 31,
   "id": "55acaec1-1d4d-4845-bc00-9459dbab6a88",
   "metadata": {},
   "outputs": [],
   "source": [
    "def load_responses(path: str) -> pd.DataFrame:\n",
    "    df = pd.read_csv(path)\n",
    "    df[\"result\"] = df[\"result\"].apply(ast.literal_eval)\n",
    "    return df"
   ]
  },
  {
   "cell_type": "code",
   "execution_count": null,
   "id": "1fedaca6-2564-4d89-aaa5-d666e9fce707",
   "metadata": {},
   "outputs": [],
   "source": [
    "# # get all the responses\n",
    "responses = get_osdr_responses_parallel(\n",
    "    data=simplify_columns(load_data(FILE_PATH)).iloc[:],\n",
    "    flow_runner=flow_runner,\n",
    "    flow_id=FLOW_ID,\n",
    "    tweaks=TWEAKS\n",
    ")"
   ]
  },
  {
   "cell_type": "code",
   "execution_count": 32,
   "id": "8854fe51-db69-4821-9871-fced425035a8",
   "metadata": {},
   "outputs": [],
   "source": [
    "# load already dumped responses\n",
    "responses = load_responses(\"data/responses-gpt-3.5-turbo.csv\")"
   ]
  },
  {
   "cell_type": "code",
   "execution_count": null,
   "id": "8a5746d6-c365-48e4-9323-02514e65b77d",
   "metadata": {},
   "outputs": [],
   "source": [
    "responses.head(3)"
   ]
  },
  {
   "cell_type": "code",
   "execution_count": null,
   "id": "117d7ed2-cc9e-441a-9dcf-baa909843a4a",
   "metadata": {},
   "outputs": [],
   "source": [
    "responses.to_csv(\"data/responses-gpt-3.5-turbo.csv\", index=False)"
   ]
  },
  {
   "cell_type": "code",
   "execution_count": 33,
   "id": "db8843f3-6983-42be-8644-b6b719f4eeaa",
   "metadata": {},
   "outputs": [
    {
     "data": {
      "text/html": [
       "<h4>Question</h4>"
      ],
      "text/plain": [
       "<IPython.core.display.HTML object>"
      ]
     },
     "metadata": {},
     "output_type": "display_data"
    },
    {
     "name": "stdout",
     "output_type": "stream",
     "text": [
      "Who was the principal investigator for this study?\n"
     ]
    },
    {
     "data": {
      "text/html": [
       "<hr/>"
      ],
      "text/plain": [
       "<IPython.core.display.HTML object>"
      ]
     },
     "metadata": {},
     "output_type": "display_data"
    },
    {
     "data": {
      "text/html": [
       "<h4>Generated Answer</h4>"
      ],
      "text/plain": [
       "<IPython.core.display.HTML object>"
      ]
     },
     "metadata": {},
     "output_type": "display_data"
    },
    {
     "name": "stdout",
     "output_type": "stream",
     "text": [
      "The principal investigators for the mentioned studies are Kasthuri J Venkateswaran, Sally A Amundson, Rosamund Smith, Jamie Foster, and Amrita K. Cheema.\n"
     ]
    },
    {
     "data": {
      "text/html": [
       "<hr/>"
      ],
      "text/plain": [
       "<IPython.core.display.HTML object>"
      ]
     },
     "metadata": {},
     "output_type": "display_data"
    },
    {
     "data": {
      "text/html": [
       "<h4>Exepcted Answer (Reference/Ground Truth)</h4>"
      ],
      "text/plain": [
       "<IPython.core.display.HTML object>"
      ]
     },
     "metadata": {},
     "output_type": "display_data"
    },
    {
     "name": "stdout",
     "output_type": "stream",
     "text": [
      "Rob Ferl was the principal investigator for this study.\n"
     ]
    },
    {
     "data": {
      "text/html": [
       "<hr/>"
      ],
      "text/plain": [
       "<IPython.core.display.HTML object>"
      ]
     },
     "metadata": {},
     "output_type": "display_data"
    },
    {
     "data": {
      "text/html": [
       "<h4>Retrieved Context #1</h4>"
      ],
      "text/plain": [
       "<IPython.core.display.HTML object>"
      ]
     },
     "metadata": {},
     "output_type": "display_data"
    },
    {
     "name": "stdout",
     "output_type": "stream",
     "text": [
      "We would like to thank all the astronauts who participated in this <b>study</b> and provided saliva.  Contact(s)  Kasthuri J Venkateswaran email , Credit: <b>principal</b> <b>investigator</b> Affiliation: NASA Jet Propulsion Laboratory Email: kjvenkat@jpl.nasa.gov Camilla Urbaniak , Credit: Affiliation: NASA Jet Propulsion Laboratory Hernan Lorenzi , Credit: Affiliation: NASA Johnson Space Center James Thissen , Credit: Affiliation: Lawrence Livermore National Laboratory Crystal Jaing , Credit: Affiliation: Lawrence Livermore National Laboratory Brian Crucian , Credit: Affiliation: NASA Johnson Space Center Clarence Sams , Credit: Affiliation: NASA Johnson Space Center Duane Pierson , Credit: Affiliation: NASA Johnson Space Center Satish Mehta Credit: Affiliation: NASA Johnson Space Center  assignment Experiments\n",
      "https://osdr.nasa.gov/bio/repo/data/studies/OSD-280/\n"
     ]
    },
    {
     "data": {
      "text/html": [
       "<hr/>"
      ],
      "text/plain": [
       "<IPython.core.display.HTML object>"
      ]
     },
     "metadata": {},
     "output_type": "display_data"
    },
    {
     "data": {
      "text/html": [
       "<h4>Retrieved Context #2</h4>"
      ],
      "text/plain": [
       "<IPython.core.display.HTML object>"
      ]
     },
     "metadata": {},
     "output_type": "display_data"
    },
    {
     "name": "stdout",
     "output_type": "stream",
     "text": [
      "This <b>study</b> was supported by the Biomedical Advanced Research and Development Authority (BARDA), Office of the Assistant Secretary for Preparedness and Response, Office of the Secretary, Department of Health and Human Services under Contract No. HHS01201000008C. SAA was also supported by the Center for High-Throughput Minimally-Invasive Radiation Biodosimetry, National Institute of Allergy and Infectious Diseases Grant Number U19 AI067773  Contact(s)  Sally A Amundson email , Credit: <b>principal</b> <b>investigator</b> Affiliation: Columbia University Email: saa2108@cumc.columbia.edu Sunirmal Paul , Credit: Author Affiliation: Norman J Kleiman Credit: Author Affiliation:  assignment Experiments  No associated experiments  explore Payloads  No associated payloads  rocket_launch Missions\n",
      "https://osdr.nasa.gov/bio/repo/data/studies/OSD-455/\n"
     ]
    },
    {
     "data": {
      "text/html": [
       "<hr/>"
      ],
      "text/plain": [
       "<IPython.core.display.HTML object>"
      ]
     },
     "metadata": {},
     "output_type": "display_data"
    },
    {
     "data": {
      "text/html": [
       "<h4>Retrieved Context #3</h4>"
      ],
      "text/plain": [
       "<IPython.core.display.HTML object>"
      ]
     },
     "metadata": {},
     "output_type": "display_data"
    },
    {
     "name": "stdout",
     "output_type": "stream",
     "text": [
      "Samples from the RR-3 experiment were provided to GeneLab through the Biospecimen Sharing Plan of the NASA Life Sciences Data Archive. We would like to acknowledge the NASA Biospecimen Sharing Program (BSP) for their expertise and efforts in coordinating and collecting all the samples in this <b>study</b>.  Contact(s)  Rosamund Smith , Credit: <b>Principal</b> <b>Investigator</b> Affiliation: Eli Lilly and Company Marty Cramer , Credit: Co-<b>Investigator</b> Affiliation: Eli Lilly and Company Ruth Globus email , Credit: Project Scientist Affiliation: NASA Ames Research Center Email: ruth.k.globus@nasa.gov Jonathan Galazka email Credit: Project Scientist Affiliation: NASA GeneLab Email: jonathan.m.galazka@nasa.gov  assignment Experiments  No associated experiments  explore Payloads  Identifier  Name  Type  Description\n",
      "https://osdr.nasa.gov/bio/repo/data/studies/OSD-137/\n"
     ]
    },
    {
     "data": {
      "text/html": [
       "<hr/>"
      ],
      "text/plain": [
       "<IPython.core.display.HTML object>"
      ]
     },
     "metadata": {},
     "output_type": "display_data"
    },
    {
     "data": {
      "text/html": [
       "<h4>Retrieved Context #4</h4>"
      ],
      "text/plain": [
       "<IPython.core.display.HTML object>"
      ]
     },
     "metadata": {},
     "output_type": "display_data"
    },
    {
     "name": "stdout",
     "output_type": "stream",
     "text": [
      "Ames Research Center (ARC)  Funding Source  This <b>study</b> was supported by NASA's Space Biology program grant NNX13AM44G.  Additional Project Metadata  LSDA Archived Data Link  Contact(s)  Jamie Foster , Credit: <b>Principal</b> <b>Investigator</b> Affiliation: University of Florida Giorgio Casaburi email Credit: Post Doctoral Research Associate Affiliation: University of Florida Email: giorgiocasaburi@gmail.com  assignment Experiments  No associated experiments  explore Payloads  No associated payloads  rocket_launch Missions  No associated missions  content_paste Protocols  visibility Expand All visibility_off Collapse All  Samples  Assay - transcription profiling - nucleotide sequencing - Illumina  science Samples  Select Export Columns  Source Name  Sample Name  Comment: Source Name Description  Characteristics: Organism  Characteristics: secondary organism  Characteristics: age\n",
      "https://osdr.nasa.gov/bio/repo/data/studies/OSD-119/\n"
     ]
    },
    {
     "data": {
      "text/html": [
       "<hr/>"
      ],
      "text/plain": [
       "<IPython.core.display.HTML object>"
      ]
     },
     "metadata": {},
     "output_type": "display_data"
    },
    {
     "data": {
      "text/html": [
       "<h4>Retrieved Context #5</h4>"
      ],
      "text/plain": [
       "<IPython.core.display.HTML object>"
      ]
     },
     "metadata": {},
     "output_type": "display_data"
    },
    {
     "name": "stdout",
     "output_type": "stream",
     "text": [
      "We would like to acknowledge the NASA Biospecimen Sharing Program (BSP) for their expertise and efforts in coordinating and collecting all the samples in this <b>study</b>.  Contact(s)  Rosamund Smith , Credit: <b>Principal</b> <b>Investigator</b> Affiliation: Eli Lilly and Company Marty Cramer , Credit: Co-<b>Investigator</b> Affiliation: Eli Lilly and Company Ruth Globus email , Credit: Project Scientist Affiliation: NASA Ames Research Center Email: ruth.k.globus@nasa.gov Jonathan Galazka email Credit: Project Scientist Affiliation: NASA GeneLab Email: jonathan.m.galazka@nasa.gov  assignment Experiments  No associated experiments  explore Payloads  No associated payloads  rocket_launch Missions  Identifier  Start Date  End Date  SpaceX-8  08-Apr-2016  11-May-2016  SpaceX-9  18-Jul-2016  26-Aug-2016\n",
      "https://osdr.nasa.gov/bio/repo/data/studies/OSD-162/\n"
     ]
    },
    {
     "data": {
      "text/html": [
       "<hr/>"
      ],
      "text/plain": [
       "<IPython.core.display.HTML object>"
      ]
     },
     "metadata": {},
     "output_type": "display_data"
    },
    {
     "data": {
      "text/html": [
       "<h4>Retrieved Context #6</h4>"
      ],
      "text/plain": [
       "<IPython.core.display.HTML object>"
      ]
     },
     "metadata": {},
     "output_type": "display_data"
    },
    {
     "name": "stdout",
     "output_type": "stream",
     "text": [
      "mCT imaging was performed at the Bone Imaging Research Core of the Endocrine Research Unit at the UCSF-affiliated Veterans Affairs Medical Center. We would also like to thank Aaron Fields and Jeannie Bailey for contributing helpful advice for this <b>study</b>. None of the authors have affiliations that are perceived to have biased the presentation.  Contact(s)  Jeffrey C. Lotz email , Credit: <b>principal</b> <b>investigator</b> Affiliation: UC San Francisco Email: jeffrey.lotz@ucsf.edu Britta Berg-Johansen , Credit: Research Personnel Affiliation: UC San Francisco Ellen C. Liebenberg , Credit: Research Personnel Affiliation: UC San Francisco Alfred Li , Credit: Research Personnel Affiliation: UC San Francisco Brandon R. Macias , Credit:\n",
      "https://osdr.nasa.gov/bio/repo/data/studies/OSD-471/\n"
     ]
    },
    {
     "data": {
      "text/html": [
       "<hr/>"
      ],
      "text/plain": [
       "<IPython.core.display.HTML object>"
      ]
     },
     "metadata": {},
     "output_type": "display_data"
    },
    {
     "data": {
      "text/html": [
       "<h4>Retrieved Context #7</h4>"
      ],
      "text/plain": [
       "<IPython.core.display.HTML object>"
      ]
     },
     "metadata": {},
     "output_type": "display_data"
    },
    {
     "name": "stdout",
     "output_type": "stream",
     "text": [
      "Funding for this <b>study</b> was supported by NASA grants NNX13AM01G (C.A.N., J.B., C.M.O., B.J.A.), NNX15AL06G (C.A.N., J.B., C.M.O.) and 80NSSC18K1478 (C.A.N., J.B., C.M.O. and H.B.).  Additional Project Metadata  LSDA Archived Data Link  Contact(s)  Kristina Buss email , Credit: formal analysis role Affiliation: Bioinformatics Core Facility, Bioscience, Knowledge Enterprise, Arizona State University Email: kristina.buss@asu.edu Jennifer Barrila email , Credit: Co-<b>principal</b> <b>investigator</b> Affiliation: The Biodesign Institute, Arizona State University Email: Jennifer.Barrila@asu.edu Cheryl A Nickerson email , Credit: Co-<b>principal</b> <b>investigator</b> Affiliation: The Biodesign Institute, Arizona State University Email: Cheryl.Nickerson@asu.edu Karla Franco , Credit: Affiliation: Shanshan Yang , Credit: Affiliation: Trenton Davis , Credit: Affiliation:\n",
      "https://osdr.nasa.gov/bio/repo/data/studies/OSD-277/\n"
     ]
    },
    {
     "data": {
      "text/html": [
       "<hr/>"
      ],
      "text/plain": [
       "<IPython.core.display.HTML object>"
      ]
     },
     "metadata": {},
     "output_type": "display_data"
    },
    {
     "data": {
      "text/html": [
       "<h4>Retrieved Context #8</h4>"
      ],
      "text/plain": [
       "<IPython.core.display.HTML object>"
      ]
     },
     "metadata": {},
     "output_type": "display_data"
    },
    {
     "name": "stdout",
     "output_type": "stream",
     "text": [
      "Organism(s)  Microbiota  Assay(s)  Measurement  Technology  Device Platform  metagenome profiling  nucleotide sequencing  Illumina  Project  Project Type  Ground <b>Study</b>  Funding Source  This <b>study</b> was supported by the National Space Biomedical Research Institute [RE03701 through NCC 9-58] and the NIH National Center for Advancing Translational Science (NCATS) UCLA CTSI Grant Number UL1TR00188.  Contact(s)  Amrita K. Cheema email , Credit: <b>principal</b> <b>investigator</b> Affiliation: Georgetown University Medical Center Email: akc27@georgetown.edu David Casero Credit: submitter Affiliation: Department of Pathology and Laboratory Medicine, David Geffen School of Medicine, University of California, Los Angeles  assignment Experiments  No associated experiments  explore Payloads  No associated payloads  rocket_launch Missions\n",
      "https://osdr.nasa.gov/bio/repo/data/studies/OSD-146/\n"
     ]
    },
    {
     "data": {
      "text/html": [
       "<hr/>"
      ],
      "text/plain": [
       "<IPython.core.display.HTML object>"
      ]
     },
     "metadata": {},
     "output_type": "display_data"
    }
   ],
   "source": [
    "sample_row = responses.sample(1)\n",
    "FlowRunner.display_result(\n",
    "    sample_row.result.iloc[0],\n",
    "    sample_row.question.iloc[0],\n",
    "    reference_answer=sample_row.reference_answer.iloc[0]\n",
    ")"
   ]
  },
  {
   "cell_type": "markdown",
   "id": "9cf2f1ae-33da-4a54-9019-27bcf2c2931b",
   "metadata": {},
   "source": [
    "# Evaluation\n",
    "\n",
    "Here, we evaluate the generated responses. We primarily follow two modes of evaluation:\n",
    "\n",
    "- I. Evaluation of **retrieved contexts** (recall)\n",
    "\n",
    "    How good/accurate are the retrieved contexts based on the input query?\n",
    "\n",
    "- II. Evaluation of **generated answers** (different evaluation metrics)\n",
    "\n",
    "    How good/accurate are the generated answers?"
   ]
  },
  {
   "cell_type": "code",
   "execution_count": 34,
   "id": "bc002b54-2f36-479a-ac20-bf88aa718472",
   "metadata": {},
   "outputs": [],
   "source": [
    "from evalem.nlp.metrics import (\n",
    "    BertScore,\n",
    "    ExactMatchMetric,\n",
    "    MeteorMetric,\n",
    "    RougeMetric,\n",
    ")\n",
    "from evalem import Evaluator\n",
    "from evalem._base.structures import MetricResult"
   ]
  },
  {
   "cell_type": "code",
   "execution_count": 35,
   "id": "0eca9b67-d8cf-4bff-a387-23301253d279",
   "metadata": {},
   "outputs": [],
   "source": [
    "from nltk.corpus import stopwords\n",
    "from nltk.tokenize import word_tokenize\n",
    "from rake_nltk import Rake"
   ]
  },
  {
   "cell_type": "code",
   "execution_count": 36,
   "id": "76b8d635-d6b1-4ee7-8254-166f0639396a",
   "metadata": {},
   "outputs": [
    {
     "name": "stderr",
     "output_type": "stream",
     "text": [
      "[nltk_data] Downloading package stopwords to\n",
      "[nltk_data]     /Users/npantha/nltk_data...\n",
      "[nltk_data]   Package stopwords is already up-to-date!\n"
     ]
    },
    {
     "data": {
      "text/plain": [
       "True"
      ]
     },
     "execution_count": 36,
     "metadata": {},
     "output_type": "execute_result"
    }
   ],
   "source": [
    "import nltk\n",
    "nltk.download(\"stopwords\")"
   ]
  },
  {
   "attachments": {
    "258c7d85-21c9-48ee-a018-a4d6d760ea9c.png": {
     "image/png": "[encoded data removed]"
    }
   },
   "cell_type": "markdown",
   "id": "8670d2d4-06c6-441d-8195-22ad35ccebd6",
   "metadata": {},
   "source": [
    "## Retrieval Evaluation\n",
    "\n",
    "In this mode of evaluation, we compare whether the actual context (which is the ground truth context) lies in any of the **top-k** retrieved context chunks.\n",
    "\n",
    "$$\\text{Recall} = \\begin{cases} \n",
    "1 & \\text{if actual context is in top } k \\text{ retrieved contexts}, \\\\\n",
    "0 & \\text{otherwise}.\n",
    "\\end{cases}$$\n",
    "\n",
    "![recall.png](attachment:258c7d85-21c9-48ee-a018-a4d6d760ea9c.png)"
   ]
  },
  {
   "cell_type": "markdown",
   "id": "69cf023c-9bc4-4575-846e-994f4de625e4",
   "metadata": {},
   "source": [
    "### Keyword-based evaluation\n",
    "\n",
    "We compute the recall of retrieved contexts based on the overlapping of keywords between the\n",
    "actual context (ground truth context) and the retrieved context."
   ]
  },
  {
   "cell_type": "code",
   "execution_count": 37,
   "id": "f78219bc-28aa-4ece-83b1-b72d110c52a0",
   "metadata": {},
   "outputs": [],
   "source": [
    "def extract_keywords(text, top_k: int = 10):\n",
    "    text = preprocess_text(text, top_k)\n",
    "    text = text.lower()\n",
    "    stop_words = set(stopwords.words('english'))\n",
    "    words = word_tokenize(text)\n",
    "    keywords = [word.lower() for word in words if word.isalpha() and word.lower() not in stop_words]\n",
    "    return set(keywords)\n",
    "\n",
    "def preprocess_text(text, top_k=10):\n",
    "    text = text.lower()\n",
    "    r = Rake()\n",
    "    r.extract_keywords_from_text(text)\n",
    "    return \" \".join(set(r.get_ranked_phrases()[:top_k]))\n",
    "\n",
    "def compute_recall_kws(\n",
    "    reference: str,\n",
    "    retrieved_values: List[str],\n",
    "    top_k: int = 1,\n",
    "    top_k_kws: int = 10,\n",
    "    threshold:float = 0.5,\n",
    "    debug: bool = False,\n",
    ") -> float:\n",
    "    ref_keywords = extract_keywords(reference, top_k_kws)\n",
    "    relevant_items = 0\n",
    "\n",
    "    recall = 0.0\n",
    "\n",
    "    if debug:\n",
    "        print(f\">>>>> reference = {reference}\")\n",
    "        print(f\">>>>> reference keywords = {ref_keywords} | {len(ref_keywords)}\")\n",
    "    for idx, value in enumerate(retrieved_values, start=1):\n",
    "        keywords = extract_keywords(value, top_k=top_k_kws)\n",
    "        overlap = len(ref_keywords.intersection(keywords))\n",
    "        score = overlap/len(ref_keywords)\n",
    "        if debug:\n",
    "            print(f\">>>>> retrieved = {value}\")\n",
    "            print(f\">>>>> retrieved kws = {keywords}\")\n",
    "            print(f\">>>>> overlap = {overlap}\")\n",
    "            print(f\">>>> score = {score}\")\n",
    "\n",
    "        if score >= threshold:\n",
    "            recall = 1.0\n",
    "        if idx >= top_k:\n",
    "            break\n",
    "    return recall\n",
    "\n",
    "def evaluate_contexts_keywords(\n",
    "    response: pd.DataFrame,\n",
    "    threshold=0.5,\n",
    "    top_k:int = 1,\n",
    "    top_k_kws: int = 10,\n",
    "    debug:bool=False\n",
    ") -> pd.DataFrame:\n",
    "    if \"question\" not in response and \"prediction\" not in response and \"reference\" not in response:\n",
    "        response = simplify_response(response)\n",
    "\n",
    "    response = response[response.retrieved_contexts.str.len() != 0]\n",
    "\n",
    "    results = []\n",
    "    for row in response.itertuples():\n",
    "        context = row.context\n",
    "        retrieved_contexts = row.retrieved_contexts\n",
    "        retrieved_contexts = list(map(lambda x: x[\"page_content\"], retrieved_contexts))\n",
    "        recall = compute_recall_kws(\n",
    "            context,\n",
    "            retrieved_contexts,\n",
    "            threshold=threshold,\n",
    "            top_k=top_k,\n",
    "            top_k_kws=top_k_kws,\n",
    "            debug=debug\n",
    "        )\n",
    "        results.append(dict(\n",
    "            context=context,\n",
    "            question=row.question,\n",
    "            answer=row.reference,\n",
    "            prediction=row.prediction,\n",
    "            retrieved_contexts=retrieved_contexts,\n",
    "            recall=recall\n",
    "        ))\n",
    "    return pd.DataFrame(results)"
   ]
  },
  {
   "cell_type": "code",
   "execution_count": 38,
   "id": "7536ad44-3eaa-4e0b-9141-4c1e9320ece1",
   "metadata": {},
   "outputs": [],
   "source": [
    "def batch_evaluate_contexts_keywords(\n",
    "    response: pd.DataFrame,\n",
    "):\n",
    "    final_df = []\n",
    "    for threshold in [0.25, 0.3, 0.35, 0.4, 0.45, 0.5]:\n",
    "        for top_k in range(1, 10):\n",
    "            for top_k_kws in [25, 50]:\n",
    "                result = evaluate_contexts_keywords(\n",
    "                    response,\n",
    "                    threshold=threshold,\n",
    "                    top_k=top_k,\n",
    "                    top_k_kws=top_k_kws,\n",
    "                    debug=False\n",
    "                )\n",
    "                fname = f\"data/evals/retrieval/keywords/eval-context-keywords-{threshold}-{top_k}-{top_k_kws}.csv\"\n",
    "                logger.debug(f\"Dumping eval to {fname}\")\n",
    "                result.to_csv(fname, index=False)\n",
    "\n",
    "def load_retrieval_eval_keywords(\n",
    "    directory: str,\n",
    "    pattern: Optional[str] = None\n",
    ") -> pd.DataFrame:\n",
    "    \n",
    "    if pattern is None:\n",
    "        pattern = \"eval-context-keywords-([0-9.]+)-([0-9]+)-([0-9.]+).csv\"\n",
    "    \n",
    "    dfs = []\n",
    "    search_path = f\"{directory}/eval-context-keywords*.csv\"\n",
    "    for path in glob.glob(search_path):\n",
    "        df = pd.read_csv(path)\n",
    "        match = re.search(pattern, path)\n",
    "        if match:\n",
    "            df[\"threshold\"] = float(match.group(1))\n",
    "            df[\"top_k\"] = int(match.group(2))\n",
    "            df[\"top_k_kws\"] = int(match.group(3))\n",
    "        dfs.append(df)\n",
    "    df = pd.concat(dfs, axis=0)\n",
    "    df[\"retrieved_contexts\"] = df[\"retrieved_contexts\"].apply(ast.literal_eval)\n",
    "    return df"
   ]
  },
  {
   "cell_type": "code",
   "execution_count": 39,
   "id": "5e357985-6073-432c-ac54-2692ae446110",
   "metadata": {},
   "outputs": [],
   "source": [
    "def peek_evaluation_result(df: pd.DataFrame, peek_type:str =\"max\"):\n",
    "    df = df.copy()\n",
    "    peek_type = peek_type.lower().strip()\n",
    "    if peek_type in [\"max\", \"good\"]:\n",
    "        df = df[df['recall'] == df['recall'].max()]\n",
    "    else:\n",
    "        df = df[df['recall'] == df['recall'].min()]\n",
    "        \n",
    "    row = df.sample(n=1).iloc[0]\n",
    "\n",
    "    header_tag = \"h4\"\n",
    "    display(HTML(f\"<h3>{'Good' if peek_type in ['max', 'good'] else 'Bad'} Recall (Passage Overlap Threshold={row['threshold']}, top_k={row['top_k']})</h3\"))\n",
    "    display(HTML(f\"<{header_tag}>Question</{header_tag}>\"))\n",
    "    print(row[\"question\"])\n",
    "\n",
    "    display(HTML(f\"<{header_tag}>Generated Answer</{header_tag}>\"))\n",
    "    print(row[\"prediction\"])\n",
    "\n",
    "    display(HTML(f\"<{header_tag}>Actual Answer</{header_tag}>\"))\n",
    "    print(row[\"answer\"])\n",
    "\n",
    "    display(HTML(f\"<{header_tag}>Actual Context</{header_tag}>\"))\n",
    "    print(row[\"context\"])\n",
    "\n",
    "    display(HTML(\"<hr/>\"))\n",
    "    for idx, ctx in enumerate(row[\"retrieved_contexts\"], start=1):\n",
    "        display(HTML(f\"<{header_tag}>Retrieved Context #{idx}</{header_tag}>\"))\n",
    "        print(ctx)"
   ]
  },
  {
   "cell_type": "code",
   "execution_count": 40,
   "id": "26ba0221-f7f5-412e-ad77-4023dbcd2f49",
   "metadata": {},
   "outputs": [],
   "source": [
    "def plot_mean_recall_kws(df, figsize=(12, 6)):\n",
    "    df = df.copy()\n",
    "    df['top_k'] = pd.to_numeric(df['top_k'], errors='coerce')\n",
    "    df['threshold'] = pd.to_numeric(df['threshold'], errors='coerce')\n",
    "    df['recall'] = pd.to_numeric(df['recall'], errors='coerce')\n",
    "    df['top_k_kws'] = pd.to_numeric(df['top_k_kws'], errors='coerce')\n",
    "\n",
    "    # df = df.groupby(['threshold', 'top_k', 'top_k_kws'])['recall'].mean().reset_index()\n",
    "\n",
    "    # df_mean_recall = df.copy()\n",
    "\n",
    "    # mean recall vs. top_k with lines for each threshold\n",
    "    plt.figure(figsize=figsize)\n",
    "    ax = sns.lineplot(data=df, x='top_k', y='recall', hue='threshold', marker='o', palette='hls')\n",
    "    plt.title('Recall by Top K Retrieved Contexts (colored by Passage Overlap Threshold)')\n",
    "    plt.xlabel('Top K')\n",
    "    plt.ylabel('Recall')\n",
    "    plt.legend(title='Passage Overlap Threshold')\n",
    "\n",
    "    lines, labels = ax.get_legend_handles_labels()\n",
    "    for line, label in zip(ax.lines, labels[:]):  # Skip the first label as it is the legend title\n",
    "        x, y = line.get_data()\n",
    "        plt.text(x[-1], y[-1], f' {label}', verticalalignment='center')  # Annotate the end of the line\n",
    "    \n",
    "    plt.show()"
   ]
  },
  {
   "cell_type": "code",
   "execution_count": 41,
   "id": "a6221d61-b051-441a-8bf1-95476cc48377",
   "metadata": {},
   "outputs": [
    {
     "name": "stdout",
     "output_type": "stream",
     "text": [
      "(30996, 9)\n"
     ]
    },
    {
     "data": {
      "text/html": [
       "<div>\n",
       "<style scoped>\n",
       "    .dataframe tbody tr th:only-of-type {\n",
       "        vertical-align: middle;\n",
       "    }\n",
       "\n",
       "    .dataframe tbody tr th {\n",
       "        vertical-align: top;\n",
       "    }\n",
       "\n",
       "    .dataframe thead th {\n",
       "        text-align: right;\n",
       "    }\n",
       "</style>\n",
       "<table border=\"1\" class=\"dataframe\">\n",
       "  <thead>\n",
       "    <tr style=\"text-align: right;\">\n",
       "      <th></th>\n",
       "      <th>context</th>\n",
       "      <th>question</th>\n",
       "      <th>answer</th>\n",
       "      <th>prediction</th>\n",
       "      <th>retrieved_contexts</th>\n",
       "      <th>recall</th>\n",
       "      <th>threshold</th>\n",
       "      <th>top_k</th>\n",
       "      <th>top_k_kws</th>\n",
       "    </tr>\n",
       "  </thead>\n",
       "  <tbody>\n",
       "    <tr>\n",
       "      <th>0</th>\n",
       "      <td>Genome-wide transcriptional profiling showed t...</td>\n",
       "      <td>Where were the gene expression alterations in ...</td>\n",
       "      <td>reducing gravity levels in the International S...</td>\n",
       "      <td>The gene expression alterations in Drosophila ...</td>\n",
       "      <td>[26-Jun-2013  notifications share  GeneLab ID ...</td>\n",
       "      <td>1.0</td>\n",
       "      <td>0.25</td>\n",
       "      <td>6</td>\n",
       "      <td>25</td>\n",
       "    </tr>\n",
       "    <tr>\n",
       "      <th>1</th>\n",
       "      <td>Genome-wide transcriptional profiling showed t...</td>\n",
       "      <td>What kind of experiments showed differential r...</td>\n",
       "      <td>simulation experiments on ground testing space...</td>\n",
       "      <td>Experiments involving reducing gravity levels ...</td>\n",
       "      <td>[26-Jun-2013  notifications share  GeneLab ID ...</td>\n",
       "      <td>1.0</td>\n",
       "      <td>0.25</td>\n",
       "      <td>6</td>\n",
       "      <td>25</td>\n",
       "    </tr>\n",
       "    <tr>\n",
       "      <th>2</th>\n",
       "      <td>Genome-wide transcriptional profiling showed t...</td>\n",
       "      <td>What is overrepresented in the different exper...</td>\n",
       "      <td>the same GO groups including a large multigene...</td>\n",
       "      <td>The same GO groups, including a large multigen...</td>\n",
       "      <td>[Curiously, although &lt;b&gt;particular&lt;/b&gt; &lt;b&gt;gene...</td>\n",
       "      <td>1.0</td>\n",
       "      <td>0.25</td>\n",
       "      <td>6</td>\n",
       "      <td>25</td>\n",
       "    </tr>\n",
       "    <tr>\n",
       "      <th>3</th>\n",
       "      <td>Genome-wide transcriptional profiling showed t...</td>\n",
       "      <td>What are the implications of the findings in t...</td>\n",
       "      <td>The findings indicate that the finely adjusted...</td>\n",
       "      <td>The findings suggest that the transcriptome is...</td>\n",
       "      <td>[These results suggest that, in addition to be...</td>\n",
       "      <td>1.0</td>\n",
       "      <td>0.25</td>\n",
       "      <td>6</td>\n",
       "      <td>25</td>\n",
       "    </tr>\n",
       "    <tr>\n",
       "      <th>4</th>\n",
       "      <td>The objective of the Rodent Research-5 (RR-5) ...</td>\n",
       "      <td>What was the main goal of the Rodent Research-...</td>\n",
       "      <td>to evaluate bone loss in mice during spaceflig...</td>\n",
       "      <td>The main goal of the Rodent Research-5 (RR-5) ...</td>\n",
       "      <td>[12-Aug-2019  notifications share  GeneLab ID ...</td>\n",
       "      <td>1.0</td>\n",
       "      <td>0.25</td>\n",
       "      <td>6</td>\n",
       "      <td>25</td>\n",
       "    </tr>\n",
       "  </tbody>\n",
       "</table>\n",
       "</div>"
      ],
      "text/plain": [
       "                                             context  \\\n",
       "0  Genome-wide transcriptional profiling showed t...   \n",
       "1  Genome-wide transcriptional profiling showed t...   \n",
       "2  Genome-wide transcriptional profiling showed t...   \n",
       "3  Genome-wide transcriptional profiling showed t...   \n",
       "4  The objective of the Rodent Research-5 (RR-5) ...   \n",
       "\n",
       "                                            question  \\\n",
       "0  Where were the gene expression alterations in ...   \n",
       "1  What kind of experiments showed differential r...   \n",
       "2  What is overrepresented in the different exper...   \n",
       "3  What are the implications of the findings in t...   \n",
       "4  What was the main goal of the Rodent Research-...   \n",
       "\n",
       "                                              answer  \\\n",
       "0  reducing gravity levels in the International S...   \n",
       "1  simulation experiments on ground testing space...   \n",
       "2  the same GO groups including a large multigene...   \n",
       "3  The findings indicate that the finely adjusted...   \n",
       "4  to evaluate bone loss in mice during spaceflig...   \n",
       "\n",
       "                                          prediction  \\\n",
       "0  The gene expression alterations in Drosophila ...   \n",
       "1  Experiments involving reducing gravity levels ...   \n",
       "2  The same GO groups, including a large multigen...   \n",
       "3  The findings suggest that the transcriptome is...   \n",
       "4  The main goal of the Rodent Research-5 (RR-5) ...   \n",
       "\n",
       "                                  retrieved_contexts  recall  threshold  \\\n",
       "0  [26-Jun-2013  notifications share  GeneLab ID ...     1.0       0.25   \n",
       "1  [26-Jun-2013  notifications share  GeneLab ID ...     1.0       0.25   \n",
       "2  [Curiously, although <b>particular</b> <b>gene...     1.0       0.25   \n",
       "3  [These results suggest that, in addition to be...     1.0       0.25   \n",
       "4  [12-Aug-2019  notifications share  GeneLab ID ...     1.0       0.25   \n",
       "\n",
       "   top_k  top_k_kws  \n",
       "0      6         25  \n",
       "1      6         25  \n",
       "2      6         25  \n",
       "3      6         25  \n",
       "4      6         25  "
      ]
     },
     "execution_count": 41,
     "metadata": {},
     "output_type": "execute_result"
    }
   ],
   "source": [
    "eval_retrieval_kws = load_retrieval_eval_keywords(directory=\"data/evals/retrieval/keywords/\")\n",
    "print(eval_retrieval_kws.shape)\n",
    "eval_retrieval_kws.head()"
   ]
  },
  {
   "cell_type": "code",
   "execution_count": 42,
   "id": "27dd072d-7ee6-4334-8998-1b3ec5a68254",
   "metadata": {},
   "outputs": [
    {
     "data": {
      "text/html": [
       "<div>\n",
       "<style scoped>\n",
       "    .dataframe tbody tr th:only-of-type {\n",
       "        vertical-align: middle;\n",
       "    }\n",
       "\n",
       "    .dataframe tbody tr th {\n",
       "        vertical-align: top;\n",
       "    }\n",
       "\n",
       "    .dataframe thead th {\n",
       "        text-align: right;\n",
       "    }\n",
       "</style>\n",
       "<table border=\"1\" class=\"dataframe\">\n",
       "  <thead>\n",
       "    <tr style=\"text-align: right;\">\n",
       "      <th></th>\n",
       "      <th>recall</th>\n",
       "      <th>threshold</th>\n",
       "      <th>top_k</th>\n",
       "      <th>top_k_kws</th>\n",
       "    </tr>\n",
       "  </thead>\n",
       "  <tbody>\n",
       "    <tr>\n",
       "      <th>count</th>\n",
       "      <td>30996.000000</td>\n",
       "      <td>30996.000000</td>\n",
       "      <td>30996.000000</td>\n",
       "      <td>30996.000000</td>\n",
       "    </tr>\n",
       "    <tr>\n",
       "      <th>mean</th>\n",
       "      <td>0.359595</td>\n",
       "      <td>0.375000</td>\n",
       "      <td>5.000000</td>\n",
       "      <td>37.500000</td>\n",
       "    </tr>\n",
       "    <tr>\n",
       "      <th>std</th>\n",
       "      <td>0.479889</td>\n",
       "      <td>0.085393</td>\n",
       "      <td>2.582031</td>\n",
       "      <td>12.500202</td>\n",
       "    </tr>\n",
       "    <tr>\n",
       "      <th>min</th>\n",
       "      <td>0.000000</td>\n",
       "      <td>0.250000</td>\n",
       "      <td>1.000000</td>\n",
       "      <td>25.000000</td>\n",
       "    </tr>\n",
       "    <tr>\n",
       "      <th>25%</th>\n",
       "      <td>0.000000</td>\n",
       "      <td>0.300000</td>\n",
       "      <td>3.000000</td>\n",
       "      <td>25.000000</td>\n",
       "    </tr>\n",
       "    <tr>\n",
       "      <th>50%</th>\n",
       "      <td>0.000000</td>\n",
       "      <td>0.375000</td>\n",
       "      <td>5.000000</td>\n",
       "      <td>37.500000</td>\n",
       "    </tr>\n",
       "    <tr>\n",
       "      <th>75%</th>\n",
       "      <td>1.000000</td>\n",
       "      <td>0.450000</td>\n",
       "      <td>7.000000</td>\n",
       "      <td>50.000000</td>\n",
       "    </tr>\n",
       "    <tr>\n",
       "      <th>max</th>\n",
       "      <td>1.000000</td>\n",
       "      <td>0.500000</td>\n",
       "      <td>9.000000</td>\n",
       "      <td>50.000000</td>\n",
       "    </tr>\n",
       "  </tbody>\n",
       "</table>\n",
       "</div>"
      ],
      "text/plain": [
       "             recall     threshold         top_k     top_k_kws\n",
       "count  30996.000000  30996.000000  30996.000000  30996.000000\n",
       "mean       0.359595      0.375000      5.000000     37.500000\n",
       "std        0.479889      0.085393      2.582031     12.500202\n",
       "min        0.000000      0.250000      1.000000     25.000000\n",
       "25%        0.000000      0.300000      3.000000     25.000000\n",
       "50%        0.000000      0.375000      5.000000     37.500000\n",
       "75%        1.000000      0.450000      7.000000     50.000000\n",
       "max        1.000000      0.500000      9.000000     50.000000"
      ]
     },
     "execution_count": 42,
     "metadata": {},
     "output_type": "execute_result"
    }
   ],
   "source": [
    "eval_retrieval_kws.describe()"
   ]
  },
  {
   "cell_type": "code",
   "execution_count": 43,
   "id": "6142066a-3fa1-4a42-a1a1-15c2cb5a8c84",
   "metadata": {},
   "outputs": [
    {
     "data": {
      "text/html": [
       "<h3>Good Recall (Passage Overlap Threshold=0.3, top_k=6)</h3"
      ],
      "text/plain": [
       "<IPython.core.display.HTML object>"
      ]
     },
     "metadata": {},
     "output_type": "display_data"
    },
    {
     "data": {
      "text/html": [
       "<h4>Question</h4>"
      ],
      "text/plain": [
       "<IPython.core.display.HTML object>"
      ]
     },
     "metadata": {},
     "output_type": "display_data"
    },
    {
     "name": "stdout",
     "output_type": "stream",
     "text": [
      "Which plant varieties flew on CRS-4 mission in the BRIC hardwre?\n"
     ]
    },
    {
     "data": {
      "text/html": [
       "<h4>Generated Answer</h4>"
      ],
      "text/plain": [
       "<IPython.core.display.HTML object>"
      ]
     },
     "metadata": {},
     "output_type": "display_data"
    },
    {
     "name": "stdout",
     "output_type": "stream",
     "text": [
      "The plant varieties that flew on the CRS-4 mission in the BRIC hardware were Col_0, Ler-2, Ws-2, and Cvi-0.\n"
     ]
    },
    {
     "data": {
      "text/html": [
       "<h4>Actual Answer</h4>"
      ],
      "text/plain": [
       "<IPython.core.display.HTML object>"
      ]
     },
     "metadata": {},
     "output_type": "display_data"
    },
    {
     "name": "stdout",
     "output_type": "stream",
     "text": [
      "CRS-4 mission\n"
     ]
    },
    {
     "data": {
      "text/html": [
       "<h4>Actual Context</h4>"
      ],
      "text/plain": [
       "<IPython.core.display.HTML object>"
      ]
     },
     "metadata": {},
     "output_type": "display_data"
    },
    {
     "name": "stdout",
     "output_type": "stream",
     "text": [
      "This experiment compared the spaceflight transcriptomes of four commonly used natural variants (ecotypes) of Arabidopsis thaliana using RNAseq. In nature, Arabidopsis is a native of Europe/Asia/Northwestern Africa and is found across the globe growing in a wide range of environments. The geographical spread of these various populations has led to a slow divergence leading to distinct ecotypes. Understanding the impact of this ecotypic variability is an important factor when using Arabidopsis as a model. Seeds of the ecotypes Col_0, Ler-2, Ws-2 and Cvi-0 were flown to the International Space Station as part of CRS-4 mission in the Biological Research in Canister (BRIC) hardware. The seeds were germinated on orbit, grown for 8 days and then fixed in RNAlater and frozen in the MELFI freezer for return to Earth. Once returned RNA was isolated and RNAseq performed to catalog the transcriptional patterns of the plants grown in space. An identical set of samples were grown in parallel on the ground to provide controls to allow assessment of transcriptional changes specifically associated with the spaceflight environment. This data release includes 48 out of 56 sample expression files with the remaining 8 files to be released at a later date.\n"
     ]
    },
    {
     "data": {
      "text/html": [
       "<hr/>"
      ],
      "text/plain": [
       "<IPython.core.display.HTML object>"
      ]
     },
     "metadata": {},
     "output_type": "display_data"
    },
    {
     "data": {
      "text/html": [
       "<h4>Retrieved Context #1</h4>"
      ],
      "text/plain": [
       "<IPython.core.display.HTML object>"
      ]
     },
     "metadata": {},
     "output_type": "display_data"
    },
    {
     "name": "stdout",
     "output_type": "stream",
     "text": [
      "The geographical spread of these various populations has led to a slow divergence leading to distinct ecotypes. Understanding the impact of this ecotypic variability is an important factor when using Arabidopsis as a model. Seeds of the ecotypes Col_0, Ler-2, Ws-2 and Cvi-0 were <b>flown</b> to the International Space Station as part of <b>CRS</b>-<b>4</b> <b>mission</b> in the Biological Research in Canister (<b>BRIC</b>) <b>hardware</b>. The seeds were germinated <b>on</b> orbit, grown for 8 days and then fixed in RNAlater and frozen in the MELFI freezer for return to Earth.\n"
     ]
    },
    {
     "data": {
      "text/html": [
       "<h4>Retrieved Context #2</h4>"
      ],
      "text/plain": [
       "<IPython.core.display.HTML object>"
      ]
     },
     "metadata": {},
     "output_type": "display_data"
    },
    {
     "name": "stdout",
     "output_type": "stream",
     "text": [
      "<b>BRIC</b>-A PDFU-1  tissue source: derived from hypocotyls of SALK_024542C <b>plants</b> (ARG1 T-DNA insertion knockout <b>plants</b>)  sample collection  -80 degree Celsius  RNALater  GCA2  Atha_Col-0_HypocotylCC_WT_GC_Rep3  Arabidopsis thaliana  Col-0  14 day  hypocotyl cell culture  Wild Type  Ground Control  GROUND <b>BRIC</b> A PDFU-2 332 WT  treatment protocol  continuous dark  ISS  <b>BRIC</b>  A1  10 day  <b>wildtype_space_flown_solid</b> media plates; <b>BRIC</b>-17; Dragon,ISS; <b>BRIC</b>-A PDFU-1  tissue source: derived from hypocotyls of SALK_024542C <b>plants</b> (ARG1 T-DNA insertion knockout <b>plants</b>)  sample collection  -80 degree Celsius  RNALater  GCB1  Atha_Col-0_<b>HypocotylCC_WT_GC_Rep4</b>  Arabidopsis thaliana  Col-0  14 day  hypocotyl cell culture  Wild Type\n"
     ]
    },
    {
     "data": {
      "text/html": [
       "<h4>Retrieved Context #3</h4>"
      ],
      "text/plain": [
       "<IPython.core.display.HTML object>"
      ]
     },
     "metadata": {},
     "output_type": "display_data"
    },
    {
     "name": "stdout",
     "output_type": "stream",
     "text": [
      "Multiple genotypes of Arabidopsis thaliana seedlings were flown on either the Virgin Galactic SpaceShipTwo (VG VP-03; Col-0 and WS) or Blue Origin New Shepard (BO NS-12; WS and sku5) suborbital flight platforms. Plates containing the seedlings, 10 days and 11 days old in VG and BO, respectively, were wrapped in Duvetyn Black-Out cloth and mounted to the internal wall of the FLEX imaging system payload used in these flights. Gene expression was compared between the ground control and spaceflight-exposed seedlings via RNA-Seq analysis of extracted total RNA from the roots of these seedlings\n"
     ]
    },
    {
     "data": {
      "text/html": [
       "<h4>Retrieved Context #4</h4>"
      ],
      "text/plain": [
       "<IPython.core.display.HTML object>"
      ]
     },
     "metadata": {},
     "output_type": "display_data"
    },
    {
     "name": "stdout",
     "output_type": "stream",
     "text": [
      "The Col-0 plants used different genes reflecting different physiological processes than WS plants, suggesting the role of the genetic background in the developmental decisions. The 4 days old Col-0 plant in orbit showed deficit in wax and suberin production relatively to the 8 days old plants, the difference unregistered on the ground.\n"
     ]
    },
    {
     "data": {
      "text/html": [
       "<h4>Retrieved Context #5</h4>"
      ],
      "text/plain": [
       "<IPython.core.display.HTML object>"
      ]
     },
     "metadata": {},
     "output_type": "display_data"
    },
    {
     "name": "stdout",
     "output_type": "stream",
     "text": [
      "<b>BRIC</b>-A PDFU-1  tissue source: derived from hypocotyls of SALK_024542C <b>plants</b> (ARG1 T-DNA insertion knockout <b>plants</b>)  sample collection  -80 degree Celsius  RNALater  FA2  Atha_Col-0_HypocotylCC_WT_FLT_Rep3  Arabidopsis thaliana  Col-0  14 day  hypocotyl cell culture  Wild Type  Space Flight  FLIGHT <b>BRIC</b> A PDFU-2 302 WT  treatment protocol  continuous dark  ISS  <b>BRIC</b>  A1  10 day  <b>wildtype_space_flown_solid</b> media plates; <b>BRIC</b>-17; Dragon,ISS; <b>BRIC</b>-A PDFU-1  tissue source: derived from hypocotyls of SALK_024542C <b>plants</b> (ARG1 T-DNA insertion knockout <b>plants</b>)  sample collection  -80 degree Celsius  RNALater  FB1  Atha_Col-0_<b>HypocotylCC_WT_FLT_Rep4</b>  Arabidopsis thaliana  Col-0  14 day  hypocotyl cell culture  Wild Type\n"
     ]
    },
    {
     "data": {
      "text/html": [
       "<h4>Retrieved Context #6</h4>"
      ],
      "text/plain": [
       "<IPython.core.display.HTML object>"
      ]
     },
     "metadata": {},
     "output_type": "display_data"
    },
    {
     "name": "stdout",
     "output_type": "stream",
     "text": [
      "GROUND <b>BRIC</b> A PDFU-5 336 ARG1 KO  treatment protocol  continuous dark  ISS  <b>BRIC</b>  A5  10 day  ARG1 KO_ground_control_solid media plates; <b>BRIC</b>-17; OES chamber: <b>BRIC</b>-A PDFU-5  tissue source: derived from hypocotyls of SALK_024542C <b>plants</b> (ARG1 T-DNA insertion knockout <b>plants</b>)  sample collection  -80 degree Celsius  RNALater  FA1  Atha_Col-0_HypocotylCC_WT_FLT_Rep1  Arabidopsis thaliana  Col-0  14 day  hypocotyl cell culture  Wild Type  Space Flight  FLIGHT <b>BRIC</b> A PDFU-1 300 WT Rep1  treatment protocol  continuous dark  ISS  <b>BRIC</b>  A1  10 day  <b>wildtype_space_flown_solid</b> media plates; <b>BRIC</b>-17; Dragon,ISS; <b>BRIC</b>-A PDFU-1  tissue source:\n"
     ]
    },
    {
     "data": {
      "text/html": [
       "<h4>Retrieved Context #7</h4>"
      ],
      "text/plain": [
       "<IPython.core.display.HTML object>"
      ]
     },
     "metadata": {},
     "output_type": "display_data"
    },
    {
     "name": "stdout",
     "output_type": "stream",
     "text": [
      "Dragon,ISS; <b>BRIC</b>-A PDFU-<b>4</b>  tissue source: derived from hypocotyls of SALK_024542C <b>plants</b> (ARG1 T-DNA insertion knockout <b>plants</b>)  sample collection  -80 degree Celsius  RNALater  FA5  Atha_Col-0_HypocotylCC_ARG1-<b>KO_FLT_Rep4</b>  Arabidopsis thaliana  Col-0  14 day  hypocotyl cell culture  ARG1 KO  Space Flight  FLIGHT <b>BRIC</b> A PDFU-5 327 ARG1 KO  treatment protocol  continuous dark  ISS  <b>BRIC</b>  A5  10 day  ARG1 <b>KO_space_flown_solid</b> media plates; <b>BRIC</b>-17; Dragon,ISS; <b>BRIC</b>-A PDFU-5  tissue source: derived from hypocotyls of SALK_024542C <b>plants</b> (ARG1 T-DNA insertion knockout <b>plants</b>)  sample collection  -80 degree Celsius  RNALater  GCA3  Atha_Col-0_HypocotylCC_ARG1-KO_GC_Rep1  Arabidopsis thaliana  Col-0\n"
     ]
    },
    {
     "data": {
      "text/html": [
       "<h4>Retrieved Context #8</h4>"
      ],
      "text/plain": [
       "<IPython.core.display.HTML object>"
      ]
     },
     "metadata": {},
     "output_type": "display_data"
    },
    {
     "name": "stdout",
     "output_type": "stream",
     "text": [
      "continuous dark  ISS  <b>BRIC</b>  A1  10 day  <b>wildtype_space_flown_solid</b> media plates; <b>BRIC</b>-17; Dragon,ISS; <b>BRIC</b>-A PDFU-1  tissue source: derived from hypocotyls of SALK_024542C <b>plants</b> (ARG1 T-DNA insertion knockout <b>plants</b>)  sample collection  -80 degree Celsius  RNALater  GCA1.2  Atha_Col-0_HypocotylCC_WT_GC_Rep2  Arabidopsis thaliana  Col-0  14 day  hypocotyl cell culture  Wild Type  Ground Control  GROUND <b>BRIC</b> A PDFU-1 331 WT Rep2  treatment protocol  continuous dark  ISS  <b>BRIC</b>  A1  10 day  <b>wildtype_space_flown_solid</b> media plates; <b>BRIC</b>-17; Dragon,ISS; <b>BRIC</b>-A PDFU-1  tissue source: derived from hypocotyls of SALK_024542C <b>plants</b> (ARG1 T-DNA insertion knockout <b>plants</b>)  sample collection  -80 degree Celsius\n"
     ]
    },
    {
     "data": {
      "text/html": [
       "<h4>Retrieved Context #9</h4>"
      ],
      "text/plain": [
       "<IPython.core.display.HTML object>"
      ]
     },
     "metadata": {},
     "output_type": "display_data"
    },
    {
     "name": "stdout",
     "output_type": "stream",
     "text": [
      "continuous dark  ISS  <b>BRIC</b>  A1  10 day  <b>wildtype_space_flown_solid</b> media plates; <b>BRIC</b>-17; Dragon,ISS; <b>BRIC</b>-A PDFU-1  tissue source: derived from hypocotyls of SALK_024542C <b>plants</b> (ARG1 T-DNA insertion knockout <b>plants</b>)  sample collection  -80 degree Celsius  RNALater  FA1.2  Atha_Col-0_HypocotylCC_WT_FLT_Rep2  Arabidopsis thaliana  Col-0  14 day  hypocotyl cell culture  Wild Type  Space Flight  FLIGHT <b>BRIC</b> A PDFU-1 300 WT Rep2  treatment protocol  continuous dark  ISS  <b>BRIC</b>  A1  10 day  <b>wildtype_space_flown_solid</b> media plates; <b>BRIC</b>-17; Dragon,ISS; <b>BRIC</b>-A PDFU-1  tissue source: derived from hypocotyls of SALK_024542C <b>plants</b> (ARG1 T-DNA insertion knockout <b>plants</b>)  sample collection  -80 degree Celsius\n"
     ]
    }
   ],
   "source": [
    "peek_evaluation_result(eval_retrieval_kws, peek_type=\"good\")"
   ]
  },
  {
   "cell_type": "code",
   "execution_count": 44,
   "id": "a4d86613-a98c-438a-939b-6fc420faeed8",
   "metadata": {},
   "outputs": [
    {
     "data": {
      "text/html": [
       "<h3>Bad Recall (Passage Overlap Threshold=0.3, top_k=1)</h3"
      ],
      "text/plain": [
       "<IPython.core.display.HTML object>"
      ]
     },
     "metadata": {},
     "output_type": "display_data"
    },
    {
     "data": {
      "text/html": [
       "<h4>Question</h4>"
      ],
      "text/plain": [
       "<IPython.core.display.HTML object>"
      ]
     },
     "metadata": {},
     "output_type": "display_data"
    },
    {
     "name": "stdout",
     "output_type": "stream",
     "text": [
      "Did this study take place in space or on Earth?\n"
     ]
    },
    {
     "data": {
      "text/html": [
       "<h4>Generated Answer</h4>"
      ],
      "text/plain": [
       "<IPython.core.display.HTML object>"
      ]
     },
     "metadata": {},
     "output_type": "display_data"
    },
    {
     "name": "stdout",
     "output_type": "stream",
     "text": [
      "The study mentioned in the context took place both in space and on Earth. It involved comparing the effects of the environment in space on different organisms and cells compared to those on Earth.\n"
     ]
    },
    {
     "data": {
      "text/html": [
       "<h4>Actual Answer</h4>"
      ],
      "text/plain": [
       "<IPython.core.display.HTML object>"
      ]
     },
     "metadata": {},
     "output_type": "display_data"
    },
    {
     "name": "stdout",
     "output_type": "stream",
     "text": [
      "This was a ground study that took place on Earth.\n"
     ]
    },
    {
     "data": {
      "text/html": [
       "<h4>Actual Context</h4>"
      ],
      "text/plain": [
       "<IPython.core.display.HTML object>"
      ]
     },
     "metadata": {},
     "output_type": "display_data"
    },
    {
     "name": "stdout",
     "output_type": "stream",
     "text": [
      "Time-series RNAseq analysis following lateral root induction by gravistimulation. Lateral root organogenesis is a key process in the development of a plant’s root system and its adaptation to the environment. During lateral root formation, an early phase of cell proliferation first produces a four-cell-layered primordium, and only from this stage onwards is a root meristem-like structure, expressing root stem cell niche marker genes, being established in the developing organ. Previous studies reported that the gene regulatory network controlling lateral root formation is organized into two subnetworks whose mutual inhibition may contribute to organ patterning. PUCHI encodes an AP2/ERF transcription factor expressed early during lateral root primordium development and required for correct lateral root formation. To dissect the molecular events occurring during this early phase, we generated time-series transcriptomic datasets profiling lateral root development in puchi-1 mutants and wild types. Transcriptomic and reporter analyses revealed that meristem-related genes were expressed ectopically at early stages of lateral root formation in puchi-1 mutants. We conclude that, consistent with the inhibition of genetic modules contributing to lateral root development, PUCHI represses ectopic establishment of meristematic cell identities at early stages of organ development. These findings shed light on gene network properties that orchestrate correct timing and patterning during lateral root formation.\n"
     ]
    },
    {
     "data": {
      "text/html": [
       "<hr/>"
      ],
      "text/plain": [
       "<IPython.core.display.HTML object>"
      ]
     },
     "metadata": {},
     "output_type": "display_data"
    },
    {
     "data": {
      "text/html": [
       "<h4>Retrieved Context #1</h4>"
      ],
      "text/plain": [
       "<IPython.core.display.HTML object>"
      ]
     },
     "metadata": {},
     "output_type": "display_data"
    },
    {
     "name": "stdout",
     "output_type": "stream",
     "text": [
      "We found that there were significant differences in the number of macrophages that developed in <b>space</b> compared to controls maintained <b>on</b> <b>Earth</b>. We found that there were significant changes in the distribution of cells that expressed CD11b, CD31, F4/80, Mac2, Ly6C and c-Fos. However, there were no changes in c-Fms expression and no consistent pattern of advanced or retarded differentiation during <b>space</b> flight.\n"
     ]
    },
    {
     "data": {
      "text/html": [
       "<h4>Retrieved Context #2</h4>"
      ],
      "text/plain": [
       "<IPython.core.display.HTML object>"
      ]
     },
     "metadata": {},
     "output_type": "display_data"
    },
    {
     "name": "stdout",
     "output_type": "stream",
     "text": [
      "Hence gravitropism is one of the fundamental growth responses in plants. For any experiment <b>studying</b> the effects of gravity <b>on</b> plants, the ultimate control is the microgravity in <b>space</b>. <b>In</b> this <b>study</b>, Arabidopsis seeds were flown to the International <b>Space</b> Station and allowed to germinate and grow for 3 days in microgravity.\n"
     ]
    },
    {
     "data": {
      "text/html": [
       "<h4>Retrieved Context #3</h4>"
      ],
      "text/plain": [
       "<IPython.core.display.HTML object>"
      ]
     },
     "metadata": {},
     "output_type": "display_data"
    },
    {
     "name": "stdout",
     "output_type": "stream",
     "text": [
      "08-Jun-2017  notifications share  GeneLab ID : GLDS-120  ALSDA ID : LSDS-33 DOI : 10.26030/0w7t-3128  Cite this <b>Study</b>  info Description  Description  Experimentation <b>on</b> the International <b>Space</b> Station has reached the stage where repeated and nuanced transcriptome <b>studies</b> are beginning to illuminate the structural and metabolic differences between plants grown in <b>space</b> compared to plants <b>on</b> the <b>Earth</b>. Genes that are important in establishing the spaceflight responses are being identified, their roles in spaceflight physiological adaptation are increasingly understood, and the fact that different genotypes adapt differently is recognized.\n"
     ]
    },
    {
     "data": {
      "text/html": [
       "<h4>Retrieved Context #4</h4>"
      ],
      "text/plain": [
       "<IPython.core.display.HTML object>"
      ]
     },
     "metadata": {},
     "output_type": "display_data"
    },
    {
     "name": "stdout",
     "output_type": "stream",
     "text": [
      "To realistically evaluate the effects of the environment in <b>space</b>, it is necessary to understand the effects of external factors during sample transport from <b>Earth</b> to <b>space</b>. The present <b>study</b> focused <b>on</b> temperature, profiling the altered gene expression that develops under low cultivation temperatures in C. elegans, used as a <b>space</b> life science model. The 7903 genes were selected as differentially expressed genes, and divided into five sets with similar expression patterns using k-means clustering. Results from Gene Ontology analysis are significantly indicated that the cell cycle related genes, and the TGF?/insulin-like signal pathway related genes changed.\n"
     ]
    },
    {
     "data": {
      "text/html": [
       "<h4>Retrieved Context #5</h4>"
      ],
      "text/plain": [
       "<IPython.core.display.HTML object>"
      ]
     },
     "metadata": {},
     "output_type": "display_data"
    },
    {
     "name": "stdout",
     "output_type": "stream",
     "text": [
      "We used flow cytometry to assess molecules <b>on</b> cells that were preserved during flight to define the differentiation state of the developing bone marrow macrophages; including CD11b, CD31, CD44, Ly6C, Ly6G, F4/80, Mac2, c-Fos as well as c-Fms. <b>In</b> addition, RNA was preserved during the flight and was used to perform a gene microarray. We found that there were significant differences in the number of macrophages that developed in <b>space</b> compared to controls maintained <b>on</b> <b>Earth</b>.\n"
     ]
    },
    {
     "data": {
      "text/html": [
       "<h4>Retrieved Context #6</h4>"
      ],
      "text/plain": [
       "<IPython.core.display.HTML object>"
      ]
     },
     "metadata": {},
     "output_type": "display_data"
    },
    {
     "name": "stdout",
     "output_type": "stream",
     "text": [
      "Immune dysregulation is among the main adverse outcomes of spaceflight. Despite its crucial role in host protection, effects <b>on</b> the human antibody repertoire are unknown. Consequently, we examined the IgM repertoire of five cosmonauts 25 days before launch, after 64 and 129 days spent <b>on</b> the International <b>Space</b> Station (ISS), and after 1, 7 and 30 days of <b>Earth</b> reambulation using high-throughput sequencing. This is the first <b>study</b> of this kind.\n"
     ]
    },
    {
     "data": {
      "text/html": [
       "<h4>Retrieved Context #7</h4>"
      ],
      "text/plain": [
       "<IPython.core.display.HTML object>"
      ]
     },
     "metadata": {},
     "output_type": "display_data"
    },
    {
     "name": "stdout",
     "output_type": "stream",
     "text": [
      "Thus, the purpose of this <b>study</b> was to evaluate gait changes in response to spaceflight. A prospective collection of gait data was collected <b>on</b> 3 groups of mice: those who spent~35 days in orbit (FLIGHT) aboard the International <b>Space</b> Station (ISS); a ground-based control with the same habitat conditions as ISS (Ground Control;\n"
     ]
    },
    {
     "data": {
      "text/html": [
       "<h4>Retrieved Context #8</h4>"
      ],
      "text/plain": [
       "<IPython.core.display.HTML object>"
      ]
     },
     "metadata": {},
     "output_type": "display_data"
    },
    {
     "name": "stdout",
     "output_type": "stream",
     "text": [
      "<b>Space</b> travel presents unlimited opportunities for exploration and discovery, but requires a more complete understanding of the immunological consequences of long-term exposure to the conditions of spaceflight. To understand these consequences better and to contribute to design of effective countermeasures, we used the Drosophila model to compare innate immune responses to bacteria and fungi in flies that were either raised <b>on</b> <b>earth</b> or in outer <b>space</b> aboard the NASA <b>Space</b> Shuttle Discovery (STS-121). Microarrays were used to characterize changes in gene expression that occur in response to infection by bacteria and fungus in drosophila that were either hatched and\n"
     ]
    },
    {
     "data": {
      "text/html": [
       "<h4>Retrieved Context #9</h4>"
      ],
      "text/plain": [
       "<IPython.core.display.HTML object>"
      ]
     },
     "metadata": {},
     "output_type": "display_data"
    },
    {
     "name": "stdout",
     "output_type": "stream",
     "text": [
      "info Description  Description  Purpose: Astronauts traveling beyond low <b>Earth</b> orbit will be exposed to high linear energy transfer charged particles. Because there is concern about the adverse effects of <b>space</b> radiation <b>on</b> the cardiovascular system, this <b>study</b> assessed cardiac function and structure and immune cell infiltration in a mouse model of charged particle irradiation. Materials and methods:\n"
     ]
    }
   ],
   "source": [
    "peek_evaluation_result(eval_retrieval_kws, peek_type=\"bad\")"
   ]
  },
  {
   "cell_type": "code",
   "execution_count": 45,
   "id": "045aca37-d2d4-4096-bdcc-80cf2afff7d5",
   "metadata": {},
   "outputs": [
    {
     "data": {
      "text/html": [
       "<div>\n",
       "<style scoped>\n",
       "    .dataframe tbody tr th:only-of-type {\n",
       "        vertical-align: middle;\n",
       "    }\n",
       "\n",
       "    .dataframe tbody tr th {\n",
       "        vertical-align: top;\n",
       "    }\n",
       "\n",
       "    .dataframe thead th {\n",
       "        text-align: right;\n",
       "    }\n",
       "</style>\n",
       "<table border=\"1\" class=\"dataframe\">\n",
       "  <thead>\n",
       "    <tr style=\"text-align: right;\">\n",
       "      <th></th>\n",
       "      <th>recall</th>\n",
       "      <th>threshold</th>\n",
       "      <th>top_k</th>\n",
       "      <th>top_k_kws</th>\n",
       "    </tr>\n",
       "  </thead>\n",
       "  <tbody>\n",
       "    <tr>\n",
       "      <th>count</th>\n",
       "      <td>30996.000000</td>\n",
       "      <td>30996.000000</td>\n",
       "      <td>30996.000000</td>\n",
       "      <td>30996.000000</td>\n",
       "    </tr>\n",
       "    <tr>\n",
       "      <th>mean</th>\n",
       "      <td>0.359595</td>\n",
       "      <td>0.375000</td>\n",
       "      <td>5.000000</td>\n",
       "      <td>37.500000</td>\n",
       "    </tr>\n",
       "    <tr>\n",
       "      <th>std</th>\n",
       "      <td>0.479889</td>\n",
       "      <td>0.085393</td>\n",
       "      <td>2.582031</td>\n",
       "      <td>12.500202</td>\n",
       "    </tr>\n",
       "    <tr>\n",
       "      <th>min</th>\n",
       "      <td>0.000000</td>\n",
       "      <td>0.250000</td>\n",
       "      <td>1.000000</td>\n",
       "      <td>25.000000</td>\n",
       "    </tr>\n",
       "    <tr>\n",
       "      <th>25%</th>\n",
       "      <td>0.000000</td>\n",
       "      <td>0.300000</td>\n",
       "      <td>3.000000</td>\n",
       "      <td>25.000000</td>\n",
       "    </tr>\n",
       "    <tr>\n",
       "      <th>50%</th>\n",
       "      <td>0.000000</td>\n",
       "      <td>0.375000</td>\n",
       "      <td>5.000000</td>\n",
       "      <td>37.500000</td>\n",
       "    </tr>\n",
       "    <tr>\n",
       "      <th>75%</th>\n",
       "      <td>1.000000</td>\n",
       "      <td>0.450000</td>\n",
       "      <td>7.000000</td>\n",
       "      <td>50.000000</td>\n",
       "    </tr>\n",
       "    <tr>\n",
       "      <th>max</th>\n",
       "      <td>1.000000</td>\n",
       "      <td>0.500000</td>\n",
       "      <td>9.000000</td>\n",
       "      <td>50.000000</td>\n",
       "    </tr>\n",
       "  </tbody>\n",
       "</table>\n",
       "</div>"
      ],
      "text/plain": [
       "             recall     threshold         top_k     top_k_kws\n",
       "count  30996.000000  30996.000000  30996.000000  30996.000000\n",
       "mean       0.359595      0.375000      5.000000     37.500000\n",
       "std        0.479889      0.085393      2.582031     12.500202\n",
       "min        0.000000      0.250000      1.000000     25.000000\n",
       "25%        0.000000      0.300000      3.000000     25.000000\n",
       "50%        0.000000      0.375000      5.000000     37.500000\n",
       "75%        1.000000      0.450000      7.000000     50.000000\n",
       "max        1.000000      0.500000      9.000000     50.000000"
      ]
     },
     "execution_count": 45,
     "metadata": {},
     "output_type": "execute_result"
    }
   ],
   "source": [
    "eval_retrieval_kws.describe()"
   ]
  },
  {
   "cell_type": "code",
   "execution_count": 46,
   "id": "d39fd2a8-be95-490e-9475-a99cfa696fd3",
   "metadata": {},
   "outputs": [
    {
     "data": {
      "image/png": "[encoded data removed]",
      "text/plain": [
       "<Figure size 1200x600 with 1 Axes>"
      ]
     },
     "metadata": {},
     "output_type": "display_data"
    }
   ],
   "source": [
    "plot_mean_recall_kws(eval_retrieval_kws)"
   ]
  },
  {
   "cell_type": "markdown",
   "id": "f3bad7a6-b60b-43f9-afe8-fd754f370be7",
   "metadata": {},
   "source": [
    "### Semantic Retrieval Evaluation"
   ]
  },
  {
   "cell_type": "code",
   "execution_count": 47,
   "id": "e0bdca06-0871-454b-9244-35c2ec736c72",
   "metadata": {},
   "outputs": [],
   "source": [
    "BERT_SCORE = BertScore(per_instance_score=True)"
   ]
  },
  {
   "cell_type": "code",
   "execution_count": 48,
   "id": "525a9ba4-d02e-4e92-8cd3-cea549b03d3c",
   "metadata": {},
   "outputs": [],
   "source": [
    "def compute_recall_semantic(\n",
    "    reference: str,\n",
    "    retrieved_values: List[str],\n",
    "    top_k: int = 1,\n",
    "    top_k_kws: int = 10,\n",
    "    threshold:float = 0.5,\n",
    "    debug: bool = False,\n",
    ") -> float:\n",
    "    \n",
    "    recall = 0.0\n",
    "\n",
    "    retrieved_values = retrieved_values[:top_k]\n",
    "    references = [reference] * len(retrieved_values)\n",
    "    predictions = retrieved_values.copy()\n",
    "    result = BERT_SCORE(references=references, predictions=predictions)\n",
    "    max_score = max(result.extra[\"bertscore\"][\"recall\"])\n",
    "    \n",
    "    return float(max_score >= threshold), max_score\n",
    "\n",
    "def evaluate_contexts_semantic(\n",
    "    response: pd.DataFrame,\n",
    "    threshold=0.5,\n",
    "    top_k:int = 1,\n",
    "    top_k_kws: int = 10,\n",
    "    debug:bool=False\n",
    ") -> pd.DataFrame:\n",
    "    if \"question\" not in response and \"prediction\" not in response and \"reference\" not in response:\n",
    "        response = simplify_response(response)\n",
    "\n",
    "    response = response[response.retrieved_contexts.str.len() != 0]\n",
    "\n",
    "    results = []\n",
    "    for row in response.itertuples():\n",
    "        context = row.context\n",
    "        retrieved_contexts = row.retrieved_contexts\n",
    "        retrieved_contexts = list(map(lambda x: x[\"page_content\"], retrieved_contexts))\n",
    "        recall, score = compute_recall_semantic(\n",
    "            context,\n",
    "            retrieved_contexts,\n",
    "            threshold=threshold,\n",
    "            top_k=top_k,\n",
    "            top_k_kws=top_k_kws,\n",
    "            debug=debug\n",
    "        )\n",
    "        if debug:\n",
    "            print(recall, score)\n",
    "        results.append(dict(\n",
    "            context=context,\n",
    "            question=row.question,\n",
    "            answer=row.reference,\n",
    "            prediction=row.prediction,\n",
    "            retrieved_contexts=retrieved_contexts,\n",
    "            recall=recall,\n",
    "            score=score,\n",
    "        ))\n",
    "    return pd.DataFrame(results)"
   ]
  },
  {
   "cell_type": "code",
   "execution_count": 49,
   "id": "d550373d-7d7f-4637-aac1-f21aa33b82d5",
   "metadata": {},
   "outputs": [],
   "source": [
    "def batch_eval_semantic_v2(response):\n",
    "    thresholds = [0.5, 0.65]\n",
    "    top_k_vals = [1, 5, 10]\n",
    "    for threshold in thresholds:\n",
    "        for top_k in top_k_vals:\n",
    "            logger.debug(f\"Evaluating for threshold={threshold}, top_k={top_k}\")\n",
    "            result = evaluate_contexts_semantic_v2(\n",
    "                response,\n",
    "                threshold=threshold,\n",
    "                top_k=top_k, \n",
    "                top_k_kws=50,\n",
    "                debug=False)\n",
    "            fname = f\"data/eval-context-bertscore-{threshold}-{top_k}.csv\"\n",
    "            logger.debug(f\"Dumping eval to {fname}\")\n",
    "            result.to_csv(fname, index=False)\n",
    "\n",
    "def load_context_eval_semantic() -> pd.DataFrame:\n",
    "    dfs = []\n",
    "    pattern = \"eval-context-bertscore-([0-9.]+)-([0-9]+).csv\"\n",
    "    for path in glob.glob(\"data/evals/retrieval/bertscore/eval-context-bertscore*.csv\"):\n",
    "        df = pd.read_csv(path)\n",
    "        match = re.search(pattern, path)\n",
    "        if match:\n",
    "            df[\"threshold\"] = float(match.group(1))\n",
    "            df[\"top_k\"] = int(match.group(2))\n",
    "        dfs.append(df)\n",
    "    df = pd.concat(dfs, axis=0)\n",
    "    df[\"retrieved_contexts\"] = df[\"retrieved_contexts\"].apply(ast.literal_eval)\n",
    "    return df"
   ]
  },
  {
   "cell_type": "code",
   "execution_count": 50,
   "id": "8f24d738-5d55-41c3-abee-d7a9b3ead510",
   "metadata": {},
   "outputs": [],
   "source": [
    "def plot_mean_recall_semantic(df, figsize=(12, 6)):\n",
    "    df = df.copy()\n",
    "    df['top_k'] = pd.to_numeric(df['top_k'], errors='coerce')\n",
    "    df['threshold'] = pd.to_numeric(df['threshold'], errors='coerce')\n",
    "    df['recall'] = pd.to_numeric(df['recall'], errors='coerce')\n",
    "\n",
    "    # recall vs. top_k with lines for each threshold\n",
    "    plt.figure(figsize=figsize)\n",
    "    ax = sns.lineplot(data=df, x='top_k', y='recall', hue='threshold', marker='o', palette='dark')\n",
    "    plt.title('Recall by Top K Retrieved Contexts (colored by Passage Overlap Threshold)')\n",
    "    plt.xlabel('Top K')\n",
    "    plt.ylabel('Recall')\n",
    "    plt.legend(title='Passage Overlap Threshold')\n",
    "\n",
    "    lines, labels = ax.get_legend_handles_labels()\n",
    "    for line, label in zip(ax.lines, labels[:]):  # Skip the first label as it is the legend title\n",
    "        x, y = line.get_data()\n",
    "        plt.text(x[-1], y[-1], f' {label}', verticalalignment='center')  # Annotate the end of the line\n",
    "    \n",
    "    plt.show()\n",
    "\n",
    "    # recall vs. threshold with lines for each top_k_kws\n",
    "    plt.figure(figsize=figsize)\n",
    "    sns.lineplot(data=df, x='threshold', y='recall', marker='o', palette='vlag')\n",
    "    plt.title('Recall by Passage Overlap Threshold')\n",
    "    plt.xlabel('Passage Overlap Threshold')\n",
    "    plt.ylabel('Recall')\n",
    "    plt.show()"
   ]
  },
  {
   "cell_type": "code",
   "execution_count": 51,
   "id": "e2d5d680-5ce7-4909-8026-46087fbc711a",
   "metadata": {},
   "outputs": [
    {
     "data": {
      "text/html": [
       "<div>\n",
       "<style scoped>\n",
       "    .dataframe tbody tr th:only-of-type {\n",
       "        vertical-align: middle;\n",
       "    }\n",
       "\n",
       "    .dataframe tbody tr th {\n",
       "        vertical-align: top;\n",
       "    }\n",
       "\n",
       "    .dataframe thead th {\n",
       "        text-align: right;\n",
       "    }\n",
       "</style>\n",
       "<table border=\"1\" class=\"dataframe\">\n",
       "  <thead>\n",
       "    <tr style=\"text-align: right;\">\n",
       "      <th></th>\n",
       "      <th>context</th>\n",
       "      <th>question</th>\n",
       "      <th>answer</th>\n",
       "      <th>prediction</th>\n",
       "      <th>retrieved_contexts</th>\n",
       "      <th>recall</th>\n",
       "      <th>score</th>\n",
       "      <th>threshold</th>\n",
       "      <th>top_k</th>\n",
       "    </tr>\n",
       "  </thead>\n",
       "  <tbody>\n",
       "    <tr>\n",
       "      <th>0</th>\n",
       "      <td>Genome-wide transcriptional profiling showed t...</td>\n",
       "      <td>Where were the gene expression alterations in ...</td>\n",
       "      <td>reducing gravity levels in the International S...</td>\n",
       "      <td>The gene expression alterations in Drosophila ...</td>\n",
       "      <td>[26-Jun-2013  notifications share  GeneLab ID ...</td>\n",
       "      <td>1.0</td>\n",
       "      <td>0.709230</td>\n",
       "      <td>0.5</td>\n",
       "      <td>10</td>\n",
       "    </tr>\n",
       "    <tr>\n",
       "      <th>1</th>\n",
       "      <td>Genome-wide transcriptional profiling showed t...</td>\n",
       "      <td>What kind of experiments showed differential r...</td>\n",
       "      <td>simulation experiments on ground testing space...</td>\n",
       "      <td>Experiments involving reducing gravity levels ...</td>\n",
       "      <td>[26-Jun-2013  notifications share  GeneLab ID ...</td>\n",
       "      <td>1.0</td>\n",
       "      <td>0.701952</td>\n",
       "      <td>0.5</td>\n",
       "      <td>10</td>\n",
       "    </tr>\n",
       "    <tr>\n",
       "      <th>2</th>\n",
       "      <td>Genome-wide transcriptional profiling showed t...</td>\n",
       "      <td>What is overrepresented in the different exper...</td>\n",
       "      <td>the same GO groups including a large multigene...</td>\n",
       "      <td>The same GO groups, including a large multigen...</td>\n",
       "      <td>[Curiously, although &lt;b&gt;particular&lt;/b&gt; &lt;b&gt;gene...</td>\n",
       "      <td>1.0</td>\n",
       "      <td>0.706340</td>\n",
       "      <td>0.5</td>\n",
       "      <td>10</td>\n",
       "    </tr>\n",
       "    <tr>\n",
       "      <th>3</th>\n",
       "      <td>Genome-wide transcriptional profiling showed t...</td>\n",
       "      <td>What are the implications of the findings in t...</td>\n",
       "      <td>The findings indicate that the finely adjusted...</td>\n",
       "      <td>The findings suggest that the transcriptome is...</td>\n",
       "      <td>[These results suggest that, in addition to be...</td>\n",
       "      <td>1.0</td>\n",
       "      <td>0.722527</td>\n",
       "      <td>0.5</td>\n",
       "      <td>10</td>\n",
       "    </tr>\n",
       "    <tr>\n",
       "      <th>4</th>\n",
       "      <td>The objective of the Rodent Research-5 (RR-5) ...</td>\n",
       "      <td>What was the main goal of the Rodent Research-...</td>\n",
       "      <td>to evaluate bone loss in mice during spaceflig...</td>\n",
       "      <td>The main goal of the Rodent Research-5 (RR-5) ...</td>\n",
       "      <td>[12-Aug-2019  notifications share  GeneLab ID ...</td>\n",
       "      <td>1.0</td>\n",
       "      <td>0.587473</td>\n",
       "      <td>0.5</td>\n",
       "      <td>10</td>\n",
       "    </tr>\n",
       "  </tbody>\n",
       "</table>\n",
       "</div>"
      ],
      "text/plain": [
       "                                             context  \\\n",
       "0  Genome-wide transcriptional profiling showed t...   \n",
       "1  Genome-wide transcriptional profiling showed t...   \n",
       "2  Genome-wide transcriptional profiling showed t...   \n",
       "3  Genome-wide transcriptional profiling showed t...   \n",
       "4  The objective of the Rodent Research-5 (RR-5) ...   \n",
       "\n",
       "                                            question  \\\n",
       "0  Where were the gene expression alterations in ...   \n",
       "1  What kind of experiments showed differential r...   \n",
       "2  What is overrepresented in the different exper...   \n",
       "3  What are the implications of the findings in t...   \n",
       "4  What was the main goal of the Rodent Research-...   \n",
       "\n",
       "                                              answer  \\\n",
       "0  reducing gravity levels in the International S...   \n",
       "1  simulation experiments on ground testing space...   \n",
       "2  the same GO groups including a large multigene...   \n",
       "3  The findings indicate that the finely adjusted...   \n",
       "4  to evaluate bone loss in mice during spaceflig...   \n",
       "\n",
       "                                          prediction  \\\n",
       "0  The gene expression alterations in Drosophila ...   \n",
       "1  Experiments involving reducing gravity levels ...   \n",
       "2  The same GO groups, including a large multigen...   \n",
       "3  The findings suggest that the transcriptome is...   \n",
       "4  The main goal of the Rodent Research-5 (RR-5) ...   \n",
       "\n",
       "                                  retrieved_contexts  recall     score  \\\n",
       "0  [26-Jun-2013  notifications share  GeneLab ID ...     1.0  0.709230   \n",
       "1  [26-Jun-2013  notifications share  GeneLab ID ...     1.0  0.701952   \n",
       "2  [Curiously, although <b>particular</b> <b>gene...     1.0  0.706340   \n",
       "3  [These results suggest that, in addition to be...     1.0  0.722527   \n",
       "4  [12-Aug-2019  notifications share  GeneLab ID ...     1.0  0.587473   \n",
       "\n",
       "   threshold  top_k  \n",
       "0        0.5     10  \n",
       "1        0.5     10  \n",
       "2        0.5     10  \n",
       "3        0.5     10  \n",
       "4        0.5     10  "
      ]
     },
     "execution_count": 51,
     "metadata": {},
     "output_type": "execute_result"
    }
   ],
   "source": [
    "eval_retrieval_semantic = load_context_eval_semantic()\n",
    "eval_retrieval_semantic.head()"
   ]
  },
  {
   "cell_type": "code",
   "execution_count": 52,
   "id": "0b6283c0-02da-4a29-a45a-8b081564f50d",
   "metadata": {},
   "outputs": [
    {
     "data": {
      "text/html": [
       "<div>\n",
       "<style scoped>\n",
       "    .dataframe tbody tr th:only-of-type {\n",
       "        vertical-align: middle;\n",
       "    }\n",
       "\n",
       "    .dataframe tbody tr th {\n",
       "        vertical-align: top;\n",
       "    }\n",
       "\n",
       "    .dataframe thead th {\n",
       "        text-align: right;\n",
       "    }\n",
       "</style>\n",
       "<table border=\"1\" class=\"dataframe\">\n",
       "  <thead>\n",
       "    <tr style=\"text-align: right;\">\n",
       "      <th></th>\n",
       "      <th>recall</th>\n",
       "      <th>score</th>\n",
       "      <th>threshold</th>\n",
       "      <th>top_k</th>\n",
       "    </tr>\n",
       "  </thead>\n",
       "  <tbody>\n",
       "    <tr>\n",
       "      <th>count</th>\n",
       "      <td>3444.000000</td>\n",
       "      <td>3444.000000</td>\n",
       "      <td>3444.000000</td>\n",
       "      <td>3444.000000</td>\n",
       "    </tr>\n",
       "    <tr>\n",
       "      <th>mean</th>\n",
       "      <td>0.527294</td>\n",
       "      <td>0.581817</td>\n",
       "      <td>0.575000</td>\n",
       "      <td>5.333333</td>\n",
       "    </tr>\n",
       "    <tr>\n",
       "      <th>std</th>\n",
       "      <td>0.499327</td>\n",
       "      <td>0.107731</td>\n",
       "      <td>0.075011</td>\n",
       "      <td>3.682322</td>\n",
       "    </tr>\n",
       "    <tr>\n",
       "      <th>min</th>\n",
       "      <td>0.000000</td>\n",
       "      <td>0.357976</td>\n",
       "      <td>0.500000</td>\n",
       "      <td>1.000000</td>\n",
       "    </tr>\n",
       "    <tr>\n",
       "      <th>25%</th>\n",
       "      <td>0.000000</td>\n",
       "      <td>0.490861</td>\n",
       "      <td>0.500000</td>\n",
       "      <td>1.000000</td>\n",
       "    </tr>\n",
       "    <tr>\n",
       "      <th>50%</th>\n",
       "      <td>1.000000</td>\n",
       "      <td>0.572280</td>\n",
       "      <td>0.575000</td>\n",
       "      <td>5.000000</td>\n",
       "    </tr>\n",
       "    <tr>\n",
       "      <th>75%</th>\n",
       "      <td>1.000000</td>\n",
       "      <td>0.675793</td>\n",
       "      <td>0.650000</td>\n",
       "      <td>10.000000</td>\n",
       "    </tr>\n",
       "    <tr>\n",
       "      <th>max</th>\n",
       "      <td>1.000000</td>\n",
       "      <td>0.936264</td>\n",
       "      <td>0.650000</td>\n",
       "      <td>10.000000</td>\n",
       "    </tr>\n",
       "  </tbody>\n",
       "</table>\n",
       "</div>"
      ],
      "text/plain": [
       "            recall        score    threshold        top_k\n",
       "count  3444.000000  3444.000000  3444.000000  3444.000000\n",
       "mean      0.527294     0.581817     0.575000     5.333333\n",
       "std       0.499327     0.107731     0.075011     3.682322\n",
       "min       0.000000     0.357976     0.500000     1.000000\n",
       "25%       0.000000     0.490861     0.500000     1.000000\n",
       "50%       1.000000     0.572280     0.575000     5.000000\n",
       "75%       1.000000     0.675793     0.650000    10.000000\n",
       "max       1.000000     0.936264     0.650000    10.000000"
      ]
     },
     "execution_count": 52,
     "metadata": {},
     "output_type": "execute_result"
    }
   ],
   "source": [
    "eval_retrieval_semantic.describe()"
   ]
  },
  {
   "cell_type": "code",
   "execution_count": 57,
   "id": "dedf00e4-f377-42a7-9402-8c12fa8837b2",
   "metadata": {},
   "outputs": [
    {
     "data": {
      "text/html": [
       "<h3>Good Recall (Passage Overlap Threshold=0.5, top_k=10)</h3"
      ],
      "text/plain": [
       "<IPython.core.display.HTML object>"
      ]
     },
     "metadata": {},
     "output_type": "display_data"
    },
    {
     "data": {
      "text/html": [
       "<h4>Question</h4>"
      ],
      "text/plain": [
       "<IPython.core.display.HTML object>"
      ]
     },
     "metadata": {},
     "output_type": "display_data"
    },
    {
     "name": "stdout",
     "output_type": "stream",
     "text": [
      "What type of animal model and age were used to explore the structural and functional consequences of partial weight bearing on bones?\n"
     ]
    },
    {
     "data": {
      "text/html": [
       "<h4>Generated Answer</h4>"
      ],
      "text/plain": [
       "<IPython.core.display.HTML object>"
      ]
     },
     "metadata": {},
     "output_type": "display_data"
    },
    {
     "name": "stdout",
     "output_type": "stream",
     "text": [
      "The study used 14-week-old male Wister rats as the animal model to explore the structural and functional consequences of partial weight bearing on bones.\n"
     ]
    },
    {
     "data": {
      "text/html": [
       "<h4>Actual Answer</h4>"
      ],
      "text/plain": [
       "<IPython.core.display.HTML object>"
      ]
     },
     "metadata": {},
     "output_type": "display_data"
    },
    {
     "name": "stdout",
     "output_type": "stream",
     "text": [
      "14-week-old male Wister rats were used to investigate structural and functional changes in the skeleton under varying degrees of weight support.\n"
     ]
    },
    {
     "data": {
      "text/html": [
       "<h4>Actual Context</h4>"
      ],
      "text/plain": [
       "<IPython.core.display.HTML object>"
      ]
     },
     "metadata": {},
     "output_type": "display_data"
    },
    {
     "name": "stdout",
     "output_type": "stream",
     "text": [
      "Reduced skeletal loading leads to marked bone loss. Animal models of hindlimb suspension are widely used to assess alterations in skeleton during the course of complete unloading. More recently, the effects of partial unloading on the musculoskeletal system have been interrogated in mice and rats, revealing dose-dependent effects of partial weight bearing (PWB) on the skeleton and skeletal muscle. Here, we extended these studies to determine the structural and functional skeletal alterations in 14-week-old male Wister rats exposed to 20%, 40%, 70%, or 100% of body weight for 1, 2, or 4 weeks (n equals 11–12/group). Using in vivo pQCT, we found that trabecular bone density at the proximal tibia declined in proportion to the degree of unloading and continued progressively with time, without evidence of a plateau by 4 weeks. Ex vivo measurements of trabecular microarchitecture in the distal femur by microcomputed tomography revealed deficits in bone volume fraction, 2 and 4 weeks after unloading. Histologic analyses of trabecular bone in the distal femur revealed the decreased osteoblast number and mineralizing surface in unloaded rats. Three-point bending of the femoral diaphysis indicated modest or no reductions in femoral stiffness and estimated modulus due to PWB. Our results suggest that this rat model of PWB leads to trabecular bone deterioration that is progressive and generally proportional to the degree of PWB, with minimal effects on cortical bone. This study derives results from the Mechanical Testing, Bone Microstructure (microCT), and bone histomorphometry assays using femur tissue.\n"
     ]
    },
    {
     "data": {
      "text/html": [
       "<hr/>"
      ],
      "text/plain": [
       "<IPython.core.display.HTML object>"
      ]
     },
     "metadata": {},
     "output_type": "display_data"
    },
    {
     "data": {
      "text/html": [
       "<h4>Retrieved Context #1</h4>"
      ],
      "text/plain": [
       "<IPython.core.display.HTML object>"
      ]
     },
     "metadata": {},
     "output_type": "display_data"
    },
    {
     "name": "stdout",
     "output_type": "stream",
     "text": [
      "More recently, the effects of <b>partial</b> unloading <b>on</b> the musculoskeletal system have been interrogated in mice and rats, revealing dose-dependent effects of <b>partial</b> <b>weight</b> <b>bearing</b> (PWB) <b>on</b> the skeleton and skeletal muscle. Here, we extended these studies to determine the <b>structural</b> and <b>functional</b> skeletal alterations in 14-week-old male Wister rats exposed to 20%, 40%, 70%, or 100% of body <b>weight</b> for 1, 2, or 4 weeks (n equals 11-12/group). <b>Using</b> in vivo pQCT, we found that trabecular <b>bone</b> density at the proximal tibia declined in proportion to the degree of unloading and continued progressively with time, without\n"
     ]
    },
    {
     "data": {
      "text/html": [
       "<h4>Retrieved Context #2</h4>"
      ],
      "text/plain": [
       "<IPython.core.display.HTML object>"
      ]
     },
     "metadata": {},
     "output_type": "display_data"
    },
    {
     "name": "stdout",
     "output_type": "stream",
     "text": [
      "10.26030/emsm-0648 Related Study : OSD-418  Cite this Study  info Description  Description  Reduced skeletal loading leads to marked <b>bone</b> loss. <b>Animal</b> <b>models</b> of hindlimb suspension are widely <b>used</b> to assess alterations in skeleton during the course of complete unloading. More recently, the effects of <b>partial</b> unloading <b>on</b> the musculoskeletal system have been interrogated in mice and rats, revealing dose-dependent effects of <b>partial</b> <b>weight</b> <b>bearing</b> (PWB) <b>on</b> the skeleton and skeletal muscle.\n"
     ]
    },
    {
     "data": {
      "text/html": [
       "<h4>Retrieved Context #3</h4>"
      ],
      "text/plain": [
       "<IPython.core.display.HTML object>"
      ]
     },
     "metadata": {},
     "output_type": "display_data"
    },
    {
     "name": "stdout",
     "output_type": "stream",
     "text": [
      "10.26030/b09t-mw60 Related Studies : OSD-418 , OSD-608  Cite this Study  info Description  Description  Reduced skeletal loading leads to marked <b>bone</b> loss. <b>Animal</b> <b>models</b> of hindlimb suspension are widely <b>used</b> to assess alterations in skeleton during the course of complete unloading. More recently, the effects of <b>partial</b> unloading <b>on</b> the musculoskeletal system have been interrogated in mice and rats, revealing dose-dependent effects of <b>partial</b> <b>weight</b> <b>bearing</b> (PWB) <b>on</b> the skeleton and skeletal muscle.\n"
     ]
    },
    {
     "data": {
      "text/html": [
       "<h4>Retrieved Context #4</h4>"
      ],
      "text/plain": [
       "<IPython.core.display.HTML object>"
      ]
     },
     "metadata": {},
     "output_type": "display_data"
    },
    {
     "name": "stdout",
     "output_type": "stream",
     "text": [
      "Three-point bending of the femoral diaphysis indicated modest or no reductions in femoral stiffness and estimated modulus due to PWB. Our results suggest that this rat <b>model</b> of PWB leads to trabecular <b>bone</b> deterioration that is progressive and generally proportional to the degree of PWB, with minimal effects <b>on</b> cortical <b>bone</b>. This study derives results from the Mechanical Testing, <b>Bone</b> Microstructure (microCT), and <b>bone</b> histomorphometry assays <b>using</b> femur tissue.  Factor(s)  Factor  Ontology: Concept  <b>Partial</b> <b>Weight</b> <b>Bearing</b>  <b>Partial</b> <b>Weight</b>-<b>Bearing</b>  Time  time  Organism(s)  Rattus norvegicus  Assay(s)  Measurement  Technology  Device Platform  <b>Bone</b> biomechanical measurement  <b>Bone</b> biomechanical measurement\n"
     ]
    },
    {
     "data": {
      "text/html": [
       "<h4>Retrieved Context #5</h4>"
      ],
      "text/plain": [
       "<IPython.core.display.HTML object>"
      ]
     },
     "metadata": {},
     "output_type": "display_data"
    },
    {
     "name": "stdout",
     "output_type": "stream",
     "text": [
      "Three-point bending of the femoral diaphysis indicated modest or no reductions in femoral stiffness and estimated modulus due to PWB. Our results suggest that this rat <b>model</b> of PWB leads to trabecular <b>bone</b> deterioration that is progressive and generally proportional to the degree of PWB, with minimal effects <b>on</b> cortical <b>bone</b>. This study derives results from the pQCT assay <b>using</b> tibia tissue.  Factor(s)  Factor  Ontology: Concept  <b>Partial</b> <b>Weight</b> <b>Bearing</b>  <b>Partial</b> <b>Weight</b>-<b>Bearing</b>  Time  time  Organism(s)  Rattus norvegicus  Assay(s)  Measurement  Technology  Device Platform  <b>Bone</b> Microstructure  Peripheral Quantitative Computed Tomography  XCT Research SA+(Stratec)  Project  Project Title\n"
     ]
    },
    {
     "data": {
      "text/html": [
       "<h4>Retrieved Context #6</h4>"
      ],
      "text/plain": [
       "<IPython.core.display.HTML object>"
      ]
     },
     "metadata": {},
     "output_type": "display_data"
    },
    {
     "name": "stdout",
     "output_type": "stream",
     "text": [
      "gently held and restrained by a trained researcher  Experiment Settings  Paw  Bar  50 newton  ~30-60 second  2  Grip Strength  Not Available  LSDS-76_Force Transducer_Grip_Strength_Original_Submitted_Files.zip  ALSDA Transformed Data  LSDS-76_Force Transducer_Bodyweight_Transformed.csv , LSDS-76_Force Transducer_Grip_Strength_Transformed.csv  639403_Rear_Paw_F_C_0PWB_T0  Subject Evironment And Positioning  gently held and restrained by a trained researcher  Experiment Settings  Paw  Bar  50 newton  ~30-60 second  2  Grip Strength  Not Available  LSDS-76_Force Transducer_Grip_Strength_Original_Submitted_Files.zip  ALSDA Transformed Data  LSDS-76_Force Transducer_Bodyweight_Transformed.csv , LSDS-76_Force Transducer_Grip_Strength_Transformed.csv  639406_Rear_Paw_F_C_0PWB_T0  Subject Evironment And Positioning  gently held and restrained by a trained researcher  Experiment Settings  Paw  Bar  50 newton\n"
     ]
    },
    {
     "data": {
      "text/html": [
       "<h4>Retrieved Context #7</h4>"
      ],
      "text/plain": [
       "<IPython.core.display.HTML object>"
      ]
     },
     "metadata": {},
     "output_type": "display_data"
    },
    {
     "name": "stdout",
     "output_type": "stream",
     "text": [
      "gently held and restrained by a trained researcher  Experiment Settings  Paw  Bar  50 newton  ~30-60 second  2  Grip Strength  Not Available  LSDS-76_Force Transducer_Grip_Strength_Original_Submitted_Files.zip  ALSDA Transformed Data  LSDS-76_Force Transducer_Bodyweight_Transformed.csv , LSDS-76_Force Transducer_Grip_Strength_Transformed.csv  639392_Rear_Paw_F_C_0PWB_T14  Subject Evironment And Positioning  gently held and restrained by a trained researcher  Experiment Settings  Paw  Bar  50 newton  ~30-60 second  2  Grip Strength  Not Available  LSDS-76_Force Transducer_Grip_Strength_Original_Submitted_Files.zip  ALSDA Transformed Data  LSDS-76_Force Transducer_Bodyweight_Transformed.csv , LSDS-76_Force Transducer_Grip_Strength_Transformed.csv  639401_Rear_Paw_F_C_0PWB_T14  Subject Evironment And Positioning  gently held and restrained by a trained researcher  Experiment Settings  Paw  Bar  50 newton\n"
     ]
    },
    {
     "data": {
      "text/html": [
       "<h4>Retrieved Context #8</h4>"
      ],
      "text/plain": [
       "<IPython.core.display.HTML object>"
      ]
     },
     "metadata": {},
     "output_type": "display_data"
    },
    {
     "name": "stdout",
     "output_type": "stream",
     "text": [
      "Objective of this study was to further validate <b>bone</b> degradation in microgravity as site-specific and preferential to <b>weight</b> <b>bearing</b> <b>bone</b>. An objective of this study was to further understand the role of the mechanical environment in controlling the process of <b>bone</b> remodeling, namely local formation and resorption to maintain a healthy structure. These data from the lumbar 4 <b>bones</b> of Rodent Research-1 mission aboard the International Space Station, are unpublished, and were presented at the 2016 meeting of the American Society for Gravitational Space Research. This dataset derives results from the micro-computed tomography (mCT) assay.  Factor(s)\n"
     ]
    },
    {
     "data": {
      "text/html": [
       "<h4>Retrieved Context #9</h4>"
      ],
      "text/plain": [
       "<IPython.core.display.HTML object>"
      ]
     },
     "metadata": {},
     "output_type": "display_data"
    },
    {
     "name": "stdout",
     "output_type": "stream",
     "text": [
      "gently held and restrained by a trained researcher  Experiment Settings  Paw  Bar  50 newton  ~30-60 second  2  Grip Strength  Not Available  LSDS-76_Force Transducer_Grip_Strength_Original_Submitted_Files.zip  ALSDA Transformed Data  LSDS-76_Force Transducer_Bodyweight_Transformed.csv , LSDS-76_Force Transducer_Grip_Strength_Transformed.csv  639401_Rear_Paw_F_C_0PWB_T07  Subject Evironment And Positioning  gently held and restrained by a trained researcher  Experiment Settings  Paw  Bar  50 newton  ~30-60 second  2  Grip Strength  Not Available  LSDS-76_Force Transducer_Grip_Strength_Original_Submitted_Files.zip  ALSDA Transformed Data  LSDS-76_Force Transducer_Bodyweight_Transformed.csv , LSDS-76_Force Transducer_Grip_Strength_Transformed.csv  639403_Rear_Paw_F_C_0PWB_T07  Subject Evironment And Positioning  gently held and restrained by a trained researcher  Experiment Settings  Paw  Bar  50 newton\n"
     ]
    }
   ],
   "source": [
    "peek_evaluation_result(eval_retrieval_semantic, peek_type=\"good\")"
   ]
  },
  {
   "cell_type": "code",
   "execution_count": 56,
   "id": "ad358d5c-77e5-43e9-bd0f-f13e24e7e704",
   "metadata": {},
   "outputs": [
    {
     "data": {
      "text/html": [
       "<h3>Bad Recall (Passage Overlap Threshold=0.5, top_k=1)</h3"
      ],
      "text/plain": [
       "<IPython.core.display.HTML object>"
      ]
     },
     "metadata": {},
     "output_type": "display_data"
    },
    {
     "data": {
      "text/html": [
       "<h4>Question</h4>"
      ],
      "text/plain": [
       "<IPython.core.display.HTML object>"
      ]
     },
     "metadata": {},
     "output_type": "display_data"
    },
    {
     "name": "stdout",
     "output_type": "stream",
     "text": [
      "Where is the hangar located that houses the F-102 Starfighter?\n"
     ]
    },
    {
     "data": {
      "text/html": [
       "<h4>Generated Answer</h4>"
      ],
      "text/plain": [
       "<IPython.core.display.HTML object>"
      ]
     },
     "metadata": {},
     "output_type": "display_data"
    },
    {
     "name": "stdout",
     "output_type": "stream",
     "text": [
      "I don't have information about the location of the hangar that houses the F-102 Starfighter.\n"
     ]
    },
    {
     "data": {
      "text/html": [
       "<h4>Actual Answer</h4>"
      ],
      "text/plain": [
       "<IPython.core.display.HTML object>"
      ]
     },
     "metadata": {},
     "output_type": "display_data"
    },
    {
     "name": "stdout",
     "output_type": "stream",
     "text": [
      "The hangar containing F-104 Starfighters is located at Kennedy Space Center.\n"
     ]
    },
    {
     "data": {
      "text/html": [
       "<h4>Actual Context</h4>"
      ],
      "text/plain": [
       "<IPython.core.display.HTML object>"
      ]
     },
     "metadata": {},
     "output_type": "display_data"
    },
    {
     "name": "stdout",
     "output_type": "stream",
     "text": [
      "The increasing availability of flights on suborbital rockets creates new avenues for the study of spaceflight effects on biological systems, in particular the transitions between hypergravity and microgravity. This paper presents an initial comparison of the responses of Arabidopsis thaliana to suborbital and atmospheric parabolic flights as an important step toward characterizing these emerging suborbital platforms and their effects on biology. Transcriptomic profiling of the response of the Arabidopsis ecotype Wassilewskija (WS) to the aggregate spaceflight experiences in the Blue Origin New Shepard and Virgin Galactic SpaceShipTwo rockets revealed that the transcriptomic load induced by flight differed greatly between the two flights, yet was biologically related to traditional parabolic flight responses. The sku5 skewing mutant and 14-3-3κ:GFP regulatory protein overexpression lines each showed altered intra-platform responses compared to WS in the Blue Origin and parabolic flights, respectively. An additional parabolic flight using the F-104 Starfighter showed that the response of 14-3-3κ:GFP to flight was modulated in a similar manner to the WS line. Despite the differing genotypes, experimental workflows, flight profiles and platforms, alteration of gene expression remodeling central metabolic processes was commonly observed as a response to the flights. The processes included carbon and nitrogen metabolism, branched-chain amino acid degradation, and hypoxic responses. The timing and directionality of differentially-expressed genes involved in the conserved pathways differed among the platforms. The data presented herein highlight the potential for various suborbital platforms to contribute insights into biological responses to spaceflight, and further suggest that in-flight fixation during suborbital experiments will provide insights into responses to each phase of flight. Multiple genotypes of Arabidopsis thaliana seedlings were flown on either the Virgin Galactic SpaceShipTwo (VG VP-03; Col-0 and WS) or Blue Origin New Shepard (BO NS-12; WS and sku5) suborbital flight platforms. Plates containing the seedlings, 10 days and 11 days old in VG and BO, respectively, were wrapped in Duvetyn Black-Out cloth and mounted to the internal wall of the FLEX imaging system payload used in these flights. Gene expression was compared between the ground control and spaceflight-exposed seedlings via RNA-Seq analysis of extracted total RNA from the roots of these seedlings\n"
     ]
    },
    {
     "data": {
      "text/html": [
       "<hr/>"
      ],
      "text/plain": [
       "<IPython.core.display.HTML object>"
      ]
     },
     "metadata": {},
     "output_type": "display_data"
    },
    {
     "data": {
      "text/html": [
       "<h4>Retrieved Context #1</h4>"
      ],
      "text/plain": [
       "<IPython.core.display.HTML object>"
      ]
     },
     "metadata": {},
     "output_type": "display_data"
    },
    {
     "name": "stdout",
     "output_type": "stream",
     "text": [
      "In addition, crew members recorded approximately 50 images and over 3 hrs of video of flight operations. Over 2 gigabytes of environmental data were obtained from the flight and ground control units. A ground control experiment was conducted in the BPS ground control chamber in the Orbiter Environment Simulator (OES) at the Kennedy Space Center Launch Site Support Facility in Hangar L. The ground control was delayed by 14-days from the real- time flight operations in order to duplicate the flight operations as closely as possible in a 1 g environment.\n"
     ]
    },
    {
     "data": {
      "text/html": [
       "<h4>Retrieved Context #2</h4>"
      ],
      "text/plain": [
       "<IPython.core.display.HTML object>"
      ]
     },
     "metadata": {},
     "output_type": "display_data"
    },
    {
     "name": "stdout",
     "output_type": "stream",
     "text": [
      "Flies were kept in the VFB throughout the 30-day mission and were stored aboard the docked Dragon capsule that shared atmosphere with the ISS. The Dragon capsule unberthed at 13:26 UTC (Co-ordinated Universal Time) on May 18, 2014 and re-entry into the Earth's atmosphere occurred the same day at 19:05 UTC. Following retrieval of the Dragon capsule off the coast of Mexico, the VFB was offloaded at Long Beach Port, California and transported by car to La Jolla, California in a climate-controlled vehicle.\n"
     ]
    },
    {
     "data": {
      "text/html": [
       "<h4>Retrieved Context #3</h4>"
      ],
      "text/plain": [
       "<IPython.core.display.HTML object>"
      ]
     },
     "metadata": {},
     "output_type": "display_data"
    },
    {
     "name": "stdout",
     "output_type": "stream",
     "text": [
      "A Ground Control group mimicked the Flight LAR group, which was housed at KSC, then shipped alive, to Novartis' Facilities, where both the LAR and LAR Ground Control groups were processed (~41 weeks old; 1/16/18). All were anesthetized with isoflurane, blood samples were obtained by closed-chest cardiac puncture, and the animals were euthanized by exsanguination and thoracotomy. The 20 ISS Terminal mice were anesthetized via intraperitoneal injection of ketamine/xylazine/acepromazine over the course of a four days of dissections (2/6/18 until 2/9/18; 53-56 days after launch;\n"
     ]
    },
    {
     "data": {
      "text/html": [
       "<h4>Retrieved Context #4</h4>"
      ],
      "text/plain": [
       "<IPython.core.display.HTML object>"
      ]
     },
     "metadata": {},
     "output_type": "display_data"
    },
    {
     "name": "stdout",
     "output_type": "stream",
     "text": [
      "A Ground Control group mimicked the Flight LAR group, which was housed at KSC, then shipped alive, to Novartis' facilities, where both the LAR and LAR Ground Control groups were processed (~41 weeks old; 1/16/18). All were anesthetized with isoflurane, blood samples were obtained by closed-chest cardiac puncture, and the animals were euthanized by exsanguination and thoracotomy. The 20 ISS Terminal mice were anesthetized via intraperitoneal injection of ketamine/xylazine/acepromazine over the course of a four days of dissections (2/6/18 until 2/9/18; 53-56 days after launch;\n"
     ]
    },
    {
     "data": {
      "text/html": [
       "<h4>Retrieved Context #5</h4>"
      ],
      "text/plain": [
       "<IPython.core.display.HTML object>"
      ]
     },
     "metadata": {},
     "output_type": "display_data"
    },
    {
     "name": "stdout",
     "output_type": "stream",
     "text": [
      "Stainless steel mesh coupon coated with 1% Phytagel, 0.5× MS media, 5g/L sucrose  24 hour  Virgin Galactic Unity 22  857 second  sample collection  RNALater  Not Available  SRX20707874  Flight-1-LEAVES-rep2  Arabidopsis thaliana  Col-0  Cotyledons fully open  7 day  F1  Plant Leaves  Internal lab stock maintained by UF Space Plants Laboratory, University of Florida  Suborbital Flight  Growth Protocol  1% Phytagel, 0.5× MS media, 5g/L sucrose  24 hour light  Light Emitting Diode Device  continuous light regimen  80 micromole per square meter per second  Treatment Protocol\n"
     ]
    },
    {
     "data": {
      "text/html": [
       "<h4>Retrieved Context #6</h4>"
      ],
      "text/plain": [
       "<IPython.core.display.HTML object>"
      ]
     },
     "metadata": {},
     "output_type": "display_data"
    },
    {
     "name": "stdout",
     "output_type": "stream",
     "text": [
      "Ground Control  857 second  sample collection  RNALater  Not Available  SRX20707863  Flight-1-ROOTS-rep1  Arabidopsis thaliana  Col-0  Cotyledons fully open  7 day  F1  Plant Roots  Internal lab stock maintained by UF Space Plants Laboratory, University of Florida  Suborbital Flight  Growth Protocol  1% Phytagel, 0.5× MS media, 5g/L sucrose  24 hour light  Light Emitting Diode Device  continuous light regimen  80 micromole per square meter per second  Treatment Protocol  Stainless steel mesh coupon coated with 1% Phytagel, 0.5× MS media, 5g/L sucrose  24 hour  Virgin Galactic Unity 22  857 second  sample collection  RNALater  Not Available  SRX20707864\n"
     ]
    },
    {
     "data": {
      "text/html": [
       "<h4>Retrieved Context #7</h4>"
      ],
      "text/plain": [
       "<IPython.core.display.HTML object>"
      ]
     },
     "metadata": {},
     "output_type": "display_data"
    },
    {
     "name": "stdout",
     "output_type": "stream",
     "text": [
      "Stainless steel mesh coupon coated with 1% Phytagel, 0.5× MS media, 5g/L sucrose  24 hour  Virgin Galactic Unity 22  857 second  sample collection  RNALater  Not Available  SRX20707864  Flight-1-ROOTS-rep2  Arabidopsis thaliana  Col-0  Cotyledons fully open  7 day  F1  Plant Roots  Internal lab stock maintained by UF Space Plants Laboratory, University of Florida  Suborbital Flight  Growth Protocol  1% Phytagel, 0.5× MS media, 5g/L sucrose  24 hour light  Light Emitting Diode Device  continuous light regimen  80 micromole per square meter per second  Treatment Protocol\n"
     ]
    },
    {
     "data": {
      "text/html": [
       "<h4>Retrieved Context #8</h4>"
      ],
      "text/plain": [
       "<IPython.core.display.HTML object>"
      ]
     },
     "metadata": {},
     "output_type": "display_data"
    },
    {
     "name": "stdout",
     "output_type": "stream",
     "text": [
      "To this end, a flight group (FLT) of 10-week-old male C57BL/6J mice were launched from Kennedy Space Center (KSC) on 8/14/2017 and housed in Rodent Habitats on the ISS for 33 days before being returned alive to Earth. After splashdown in the Pacific Ocean, the animals were transported to Loma Linda University (LLU) for testing, euthanasia, and dissection on 9/18/2018. Ground Control (GC) studies were planned to commence at KSC approximately one-week after the conclusion of the flight experiments.\n"
     ]
    },
    {
     "data": {
      "text/html": [
       "<h4>Retrieved Context #9</h4>"
      ],
      "text/plain": [
       "<IPython.core.display.HTML object>"
      ]
     },
     "metadata": {},
     "output_type": "display_data"
    },
    {
     "name": "stdout",
     "output_type": "stream",
     "text": [
      "Acknowledgments  The authors would like to express their gratitude to Ann Janssen and Ilse Coninx (SCK-CEN) for technical assistance. We are grateful to Dr Proto Pippia and Dr Mariantonia Meloni for providing us access to their ESA RPM facility and Gavino Campus for technical support (University of Sassari, Italy). We thank Dr Mark Ott (Johnson Space Center, Houston, USA) and Ir. Hugo Moors (SCK-CEN) for fruitful discussions.  Contact(s)  Pieter Monsieurs email , Credit: submitter Affiliation: SCK-CEN Email: pmonsieu@sckcen.be Natalie Leys email , Credit: submitter Affiliation: SCK-CEN Email: nleys@sckcen.be Cheryl Nickerson , Credit: Affiliation: Benny Pycke , Credit: Affiliation:\n"
     ]
    }
   ],
   "source": [
    "peek_evaluation_result(eval_retrieval_semantic, peek_type=\"bad\")"
   ]
  },
  {
   "cell_type": "code",
   "execution_count": 55,
   "id": "1e1196b9-39d3-43e3-bc4e-0f2b29145b0d",
   "metadata": {},
   "outputs": [
    {
     "data": {
      "image/png": "[encoded data removed]",
      "text/plain": [
       "<Figure size 1200x600 with 1 Axes>"
      ]
     },
     "metadata": {},
     "output_type": "display_data"
    },
    {
     "name": "stderr",
     "output_type": "stream",
     "text": [
      "/var/folders/_y/xn9wmmrx1_s68jvjw4gzmxfm0000gn/T/ipykernel_55750/4215088815.py:24: UserWarning: Ignoring `palette` because no `hue` variable has been assigned.\n",
      "  sns.lineplot(data=df, x='threshold', y='recall', marker='o', palette='vlag')\n"
     ]
    },
    {
     "data": {
      "image/png": "[encoded data removed]",
      "text/plain": [
       "<Figure size 1200x600 with 1 Axes>"
      ]
     },
     "metadata": {},
     "output_type": "display_data"
    }
   ],
   "source": [
    "plot_mean_recall_semantic(eval_retrieval_semantic)"
   ]
  },
  {
   "cell_type": "markdown",
   "id": "47a2e922-52a8-4e08-b449-e69873fc5276",
   "metadata": {},
   "source": [
    "## QA Evaluation\n",
    "\n",
    "Here we focus on semantic evaluation of generated answers which suggest the correctness of the answer w.r.t reference answer.\n",
    "\n",
    "We use following metrics:\n",
    "\n",
    "\n",
    "1. **Exacth Match**\n",
    "2. **METEOR** (Metric for Evaluation of Translation with Explicit Ordering)\n",
    "    - more aligned with human judgment\n",
    "    - accounts for exact word matches, *synonyms*, and *paraphrases*\n",
    "    - useful for evaluating correctness across varied wordings\n",
    "3. **ROUGE** (Recall-Oriented Understudy for Gisting Evaluation)\n",
    "   - focuses on recall, measuring *word overlaps* with reference\n",
    "   - indicates content overlap rather than linguistic quality\n",
    "   - lower score may suggest fewer exact word matches\n",
    "4. **BERT Score**\n",
    "    - *semantic* similarity using contextual embeddings\n",
    "    - measures how well the generated answers match with references in meaning\n",
    "    - generalized comparison for a variety of downstream tasks (QA, Translation, Summarization, etc.)"
   ]
  },
  {
   "cell_type": "code",
   "execution_count": 58,
   "id": "186a8cfa-56f0-4939-ad9f-3d70a3de68c2",
   "metadata": {},
   "outputs": [],
   "source": [
    "def evaluate_qa(response: pd.DataFrame) -> pd.DataFrame:\n",
    "    if \"question\" not in response and \"prediction\" not in response and \"reference\" not in response:\n",
    "        response = simplify_response(response)\n",
    "    evaluator = Evaluator(metrics=[\n",
    "        BertScore(),\n",
    "        ExactMatchMetric(),\n",
    "        MeteorMetric(),\n",
    "        RougeMetric(),\n",
    "    ])\n",
    "    results = evaluator(\n",
    "        references=response[\"reference\"].to_list(),\n",
    "        predictions=response[\"prediction\"].to_list()\n",
    "    )\n",
    "    results = pd.DataFrame(results)\n",
    "    return results"
   ]
  },
  {
   "cell_type": "code",
   "execution_count": 59,
   "id": "9355afec-3315-4d13-a6d8-d2a636b81540",
   "metadata": {},
   "outputs": [],
   "source": [
    "def simplify_response(response: pd.DataFrame) -> pd.DataFrame:\n",
    "    response = response.copy()\n",
    "    response[\"result\"] = response[\"result\"].apply(ast.literal_eval)\n",
    "    res = []\n",
    "    for row in response.itertuples():\n",
    "        res.append(dict(\n",
    "            context=row.reference_context,\n",
    "            context_hash=row.context_hash,\n",
    "            question=row.question,\n",
    "            reference=row.reference_answer,\n",
    "            ground_truth=row.reference_answer,\n",
    "            prediction=row.result[\"answer\"],\n",
    "            retrieved_contexts=row.result[\"source_documents\"]\n",
    "        ))\n",
    "    return pd.DataFrame(res)"
   ]
  },
  {
   "cell_type": "code",
   "execution_count": 60,
   "id": "9e8d3d4a-6318-49f1-8805-8fdaad112a16",
   "metadata": {},
   "outputs": [],
   "source": [
    "def plot_eval_result(df: pd.DataFrame):\n",
    "    plt.figure(figsize=(12, 8))\n",
    "    barplot = sns.barplot(x='metric_name', y='score', data=df, palette='husl')\n",
    "    for p in barplot.patches:\n",
    "        barplot.annotate(format(p.get_height(), '.3f'), \n",
    "                         (p.get_x() + p.get_width() / 2., p.get_height()), \n",
    "                         ha = 'center', va = 'center', \n",
    "                         xytext = (0, 9), \n",
    "                         textcoords = 'offset points')\n",
    "    plt.title('Comparison of Metrics')\n",
    "    plt.xlabel('Metric')\n",
    "    plt.ylabel('Score')\n",
    "    plt.grid(True, which='both', axis='y', linestyle='--', linewidth=0.5)\n",
    "    plt.show()"
   ]
  },
  {
   "cell_type": "code",
   "execution_count": null,
   "id": "00040e3a-6d2c-4111-82d2-2a57a05aa5fc",
   "metadata": {},
   "outputs": [
    {
     "name": "stderr",
     "output_type": "stream",
     "text": [
      "/Users/npantha/dev/impact/experiments/osdr-bot/venv/lib/python3.10/site-packages/jury/metrics/_core/auto.py:106: UserWarning: Metric exact_match is not available on jury, falling back to evaluate metric. You may not fully utilize this metric for different input types, e.g multiple predictions or multiple references.\n",
      "  warnings.warn(\n"
     ]
    }
   ],
   "source": [
    "eval_qa = evaluate_qa(\n",
    "    response=pd.read_csv(\"data/responses-simplified-gpt-3.5-turbo-rephrased.csv\")\n",
    ")"
   ]
  },
  {
   "cell_type": "code",
   "execution_count": null,
   "id": "a8e93e54-57a1-44ae-b866-170efb206e07",
   "metadata": {},
   "outputs": [],
   "source": [
    "eval_qa"
   ]
  },
  {
   "cell_type": "code",
   "execution_count": null,
   "id": "3b8cce33-18d2-4093-9a20-35a389baa323",
   "metadata": {},
   "outputs": [],
   "source": [
    "plot_eval_result(eval_qa)"
   ]
  },
  {
   "cell_type": "markdown",
   "id": "b9cbd5e2-7ddd-4285-a987-c4edf15335f9",
   "metadata": {},
   "source": [
    "# Footnotes\n",
    "- [evalem](https://github.com/NASA-IMPACT/evalem)"
   ]
  }
 ],
 "metadata": {
  "kernelspec": {
   "display_name": "Python 3 (ipykernel)",
   "language": "python",
   "name": "python3"
  },
  "language_info": {
   "codemirror_mode": {
    "name": "ipython",
    "version": 3
   },
   "file_extension": ".py",
   "mimetype": "text/x-python",
   "name": "python",
   "nbconvert_exporter": "python",
   "pygments_lexer": "ipython3",
   "version": "3.10.13"
  }
 },
 "nbformat": 4,
 "nbformat_minor": 5
}
