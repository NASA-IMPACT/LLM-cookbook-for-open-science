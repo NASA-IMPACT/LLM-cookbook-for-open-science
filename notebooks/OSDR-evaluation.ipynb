{
 "cells": [
  {
   "cell_type": "code",
   "execution_count": 1,
   "id": "0218187e-16be-4d4f-af8f-bf16270f2794",
   "metadata": {},
   "outputs": [],
   "source": [
    "%reload_ext autoreload\n",
    "%autoreload 2"
   ]
  },
  {
   "cell_type": "code",
   "execution_count": null,
   "id": "9f9a7deb-e1e4-4214-91e6-69e92b132de3",
   "metadata": {},
   "outputs": [],
   "source": [
    "!pip install openpyxl\n",
    "!pip install tenacity\n",
    "!pip install loguru\n",
    "!pip install git+ssh://git@github.com/NASA-IMPACT/evalem.git@develop\n",
    "!pip install rake-nltk"
   ]
  },
  {
   "cell_type": "code",
   "execution_count": 2,
   "id": "a0dcc700-a774-469c-92bd-78a085931103",
   "metadata": {},
   "outputs": [],
   "source": [
    "import json\n",
    "from typing import List"
   ]
  },
  {
   "cell_type": "code",
   "execution_count": 3,
   "id": "e00f4048-be53-4cfa-819e-25ec66a8e98d",
   "metadata": {},
   "outputs": [],
   "source": [
    "from pprint import pprint\n",
    "from IPython.display import display, HTML"
   ]
  },
  {
   "cell_type": "code",
   "execution_count": 4,
   "id": "28d68408-a6f6-4b31-a118-23229fdbd439",
   "metadata": {},
   "outputs": [],
   "source": [
    "from loguru import logger\n",
    "import glob\n",
    "import random\n",
    "import re"
   ]
  },
  {
   "cell_type": "code",
   "execution_count": 5,
   "id": "8754ddab-a661-47c0-98cf-da4a00265f02",
   "metadata": {},
   "outputs": [],
   "source": [
    "import matplotlib.pyplot as plt\n",
    "import pandas as pd\n",
    "import seaborn as sns"
   ]
  },
  {
   "cell_type": "markdown",
   "id": "ff194b8d-1240-4489-94e6-bdba80632d79",
   "metadata": {},
   "source": [
    "# Load Validation Data"
   ]
  },
  {
   "cell_type": "code",
   "execution_count": 6,
   "id": "7be67049-2832-4d4e-a413-2cbede699a3e",
   "metadata": {},
   "outputs": [],
   "source": [
    "FILE_PATH = \"data/OSDR_LLM_QA_correctFormat.xlsx\""
   ]
  },
  {
   "cell_type": "code",
   "execution_count": 7,
   "id": "d49eb939-2b6b-451f-acaf-78cc9c1b665c",
   "metadata": {},
   "outputs": [],
   "source": [
    "def load_data(path) -> pd.DataFrame:\n",
    "    data = pd.read_excel(path)\n",
    "    data = data.rename(columns={data.columns[0]: 'context'})\n",
    "    return data"
   ]
  },
  {
   "cell_type": "code",
   "execution_count": 8,
   "id": "aec1b9b5-9c05-454e-b178-d47fbdacb1bf",
   "metadata": {},
   "outputs": [],
   "source": [
    "def simplify_columns(df: pd.DataFrame) -> pd.DataFrame:\n",
    "    df = df.copy()\n",
    "    transformed_data = []\n",
    "    for index, row in df.iterrows():\n",
    "        context = row['context']\n",
    "        url = row['URL']\n",
    "        for i in range(1, 6): # Assuming there are 5 question-answer pairs\n",
    "            question = row[f'Question {i}']\n",
    "            answer = row[f'Question {i} Answer']\n",
    "            if question and answer:\n",
    "                transformed_data.append(dict(\n",
    "                    context=context,\n",
    "                    context_hash=abs(hash(context)) % (10 ** 8),\n",
    "                    url=url,\n",
    "                    question=question,\n",
    "                    answer=answer,\n",
    "                ))\n",
    "    df =  pd.DataFrame(transformed_data)\n",
    "    return df.dropna(subset=['question', 'answer'], how='all')"
   ]
  },
  {
   "cell_type": "code",
   "execution_count": 9,
   "id": "464f6e4b-7701-403c-bf30-2286092b8cbd",
   "metadata": {},
   "outputs": [
    {
     "data": {
      "text/html": [
       "<div>\n",
       "<style scoped>\n",
       "    .dataframe tbody tr th:only-of-type {\n",
       "        vertical-align: middle;\n",
       "    }\n",
       "\n",
       "    .dataframe tbody tr th {\n",
       "        vertical-align: top;\n",
       "    }\n",
       "\n",
       "    .dataframe thead th {\n",
       "        text-align: right;\n",
       "    }\n",
       "</style>\n",
       "<table border=\"1\" class=\"dataframe\">\n",
       "  <thead>\n",
       "    <tr style=\"text-align: right;\">\n",
       "      <th></th>\n",
       "      <th>context</th>\n",
       "      <th>URL</th>\n",
       "      <th>Question 1</th>\n",
       "      <th>Question 1 Answer</th>\n",
       "      <th>Question 2</th>\n",
       "      <th>Question 2 Answer</th>\n",
       "      <th>Question 3</th>\n",
       "      <th>Question 3 Answer</th>\n",
       "      <th>Question 4</th>\n",
       "      <th>Question 4 Answer</th>\n",
       "      <th>Question 5</th>\n",
       "      <th>Question 5 Answer</th>\n",
       "    </tr>\n",
       "  </thead>\n",
       "  <tbody>\n",
       "    <tr>\n",
       "      <th>0</th>\n",
       "      <td>Genome-wide transcriptional profiling showed t...</td>\n",
       "      <td>https://sciencediscoveryengine.nasa.gov#/previ...</td>\n",
       "      <td>Where were the gene expression alterations in ...</td>\n",
       "      <td>reducing gravity levels in the International S...</td>\n",
       "      <td>What kind of experiments showed differential r...</td>\n",
       "      <td>simulation experiments on ground testing space...</td>\n",
       "      <td>What is overrepresented in the different exper...</td>\n",
       "      <td>the same GO groups including a large multigene...</td>\n",
       "      <td>what analytical methodology provided integrati...</td>\n",
       "      <td>Self-organizing maps of the Gene Expression Dy...</td>\n",
       "      <td>What are the implications of the findings in t...</td>\n",
       "      <td>The findings indicate that the finely adjusted...</td>\n",
       "    </tr>\n",
       "    <tr>\n",
       "      <th>1</th>\n",
       "      <td>The objective of the Rodent Research-5 (RR-5) ...</td>\n",
       "      <td>https://sciencediscoveryengine.nasa.gov#/previ...</td>\n",
       "      <td>What was the main goal of the Rodent Research-...</td>\n",
       "      <td>to evaluate bone loss in mice during spaceflig...</td>\n",
       "      <td>What type of mice and how old were they when f...</td>\n",
       "      <td>a cohort of forty 30-weeks-old female BALB/cAn...</td>\n",
       "      <td>How many days after launch were the mice treat...</td>\n",
       "      <td>Six days after launch</td>\n",
       "      <td>How was the Earth recovery period for the subj...</td>\n",
       "      <td>Following their return to Earth, the experimen...</td>\n",
       "      <td>What specific type of samples and from which c...</td>\n",
       "      <td>GeneLab received RNA later preserved dorsal sk...</td>\n",
       "    </tr>\n",
       "    <tr>\n",
       "      <th>2</th>\n",
       "      <td>The radiation bystander response is an importa...</td>\n",
       "      <td>https://sciencediscoveryengine.nasa.gov#/previ...</td>\n",
       "      <td>What is a key component of the overall respons...</td>\n",
       "      <td>The radiation bystander response</td>\n",
       "      <td>Which methods were used to measure the bystand...</td>\n",
       "      <td>using chromosomal aberration and micronucleus ...</td>\n",
       "      <td>What was shown to increase chromosomal structu...</td>\n",
       "      <td>depletion or mutation of RAD9</td>\n",
       "      <td>what cellular pathways were altered as a resul...</td>\n",
       "      <td>The depletion of RAD9 caused changes in numero...</td>\n",
       "      <td>How were differences in the activation of tran...</td>\n",
       "      <td>The use of network analysis allowed the discov...</td>\n",
       "    </tr>\n",
       "    <tr>\n",
       "      <th>3</th>\n",
       "      <td>Martian regolith (unconsolidated surface mater...</td>\n",
       "      <td>https://sciencediscoveryengine.nasa.gov#/previ...</td>\n",
       "      <td>What is considered a potential medium for plan...</td>\n",
       "      <td>Martian regolith (unconsolidated surface mater...</td>\n",
       "      <td>What is the level of hydrated magnesium sulfat...</td>\n",
       "      <td>hydrated magnesium sulfate mineral levels in t...</td>\n",
       "      <td>What was characterized in the study to identif...</td>\n",
       "      <td>The early Arabidopsis root transcriptome respo...</td>\n",
       "      <td>how was the genetic comparison approached to d...</td>\n",
       "      <td>A comparative analysis was conducted between t...</td>\n",
       "      <td>What distinctive characteristic does the cax1-...</td>\n",
       "      <td>The cax1-1 mutant line demonstrated relative t...</td>\n",
       "    </tr>\n",
       "    <tr>\n",
       "      <th>4</th>\n",
       "      <td>The objective of the Rodent Research-23 missio...</td>\n",
       "      <td>https://sciencediscoveryengine.nasa.gov#/previ...</td>\n",
       "      <td>What was the objective of the Rodent Research-...</td>\n",
       "      <td>to better understand the effects of spacefligh...</td>\n",
       "      <td>How many mice and of what type were involved i...</td>\n",
       "      <td>twenty male, C57BL/6J, 16-17 weeks-old mice</td>\n",
       "      <td>How long were the mice in the RR-23 study main...</td>\n",
       "      <td>maintained in microgravity for 38 days</td>\n",
       "      <td>What was the procedure followed for the mice f...</td>\n",
       "      <td>The mice, after landing in the Atlantic, were ...</td>\n",
       "      <td>How was RNA extraction and analysis managed fo...</td>\n",
       "      <td>Adrenal glands of the mice were preserved by i...</td>\n",
       "    </tr>\n",
       "  </tbody>\n",
       "</table>\n",
       "</div>"
      ],
      "text/plain": [
       "                                             context  \\\n",
       "0  Genome-wide transcriptional profiling showed t...   \n",
       "1  The objective of the Rodent Research-5 (RR-5) ...   \n",
       "2  The radiation bystander response is an importa...   \n",
       "3  Martian regolith (unconsolidated surface mater...   \n",
       "4  The objective of the Rodent Research-23 missio...   \n",
       "\n",
       "                                                 URL  \\\n",
       "0  https://sciencediscoveryengine.nasa.gov#/previ...   \n",
       "1  https://sciencediscoveryengine.nasa.gov#/previ...   \n",
       "2  https://sciencediscoveryengine.nasa.gov#/previ...   \n",
       "3  https://sciencediscoveryengine.nasa.gov#/previ...   \n",
       "4  https://sciencediscoveryengine.nasa.gov#/previ...   \n",
       "\n",
       "                                          Question 1  \\\n",
       "0  Where were the gene expression alterations in ...   \n",
       "1  What was the main goal of the Rodent Research-...   \n",
       "2  What is a key component of the overall respons...   \n",
       "3  What is considered a potential medium for plan...   \n",
       "4  What was the objective of the Rodent Research-...   \n",
       "\n",
       "                                   Question 1 Answer  \\\n",
       "0  reducing gravity levels in the International S...   \n",
       "1  to evaluate bone loss in mice during spaceflig...   \n",
       "2                   The radiation bystander response   \n",
       "3  Martian regolith (unconsolidated surface mater...   \n",
       "4  to better understand the effects of spacefligh...   \n",
       "\n",
       "                                          Question 2  \\\n",
       "0  What kind of experiments showed differential r...   \n",
       "1  What type of mice and how old were they when f...   \n",
       "2  Which methods were used to measure the bystand...   \n",
       "3  What is the level of hydrated magnesium sulfat...   \n",
       "4  How many mice and of what type were involved i...   \n",
       "\n",
       "                                   Question 2 Answer  \\\n",
       "0  simulation experiments on ground testing space...   \n",
       "1  a cohort of forty 30-weeks-old female BALB/cAn...   \n",
       "2  using chromosomal aberration and micronucleus ...   \n",
       "3  hydrated magnesium sulfate mineral levels in t...   \n",
       "4        twenty male, C57BL/6J, 16-17 weeks-old mice   \n",
       "\n",
       "                                          Question 3  \\\n",
       "0  What is overrepresented in the different exper...   \n",
       "1  How many days after launch were the mice treat...   \n",
       "2  What was shown to increase chromosomal structu...   \n",
       "3  What was characterized in the study to identif...   \n",
       "4  How long were the mice in the RR-23 study main...   \n",
       "\n",
       "                                   Question 3 Answer  \\\n",
       "0  the same GO groups including a large multigene...   \n",
       "1                              Six days after launch   \n",
       "2                      depletion or mutation of RAD9   \n",
       "3  The early Arabidopsis root transcriptome respo...   \n",
       "4             maintained in microgravity for 38 days   \n",
       "\n",
       "                                          Question 4  \\\n",
       "0  what analytical methodology provided integrati...   \n",
       "1  How was the Earth recovery period for the subj...   \n",
       "2  what cellular pathways were altered as a resul...   \n",
       "3  how was the genetic comparison approached to d...   \n",
       "4  What was the procedure followed for the mice f...   \n",
       "\n",
       "                                   Question 4 Answer  \\\n",
       "0  Self-organizing maps of the Gene Expression Dy...   \n",
       "1  Following their return to Earth, the experimen...   \n",
       "2  The depletion of RAD9 caused changes in numero...   \n",
       "3  A comparative analysis was conducted between t...   \n",
       "4  The mice, after landing in the Atlantic, were ...   \n",
       "\n",
       "                                          Question 5  \\\n",
       "0  What are the implications of the findings in t...   \n",
       "1  What specific type of samples and from which c...   \n",
       "2  How were differences in the activation of tran...   \n",
       "3  What distinctive characteristic does the cax1-...   \n",
       "4  How was RNA extraction and analysis managed fo...   \n",
       "\n",
       "                                   Question 5 Answer  \n",
       "0  The findings indicate that the finely adjusted...  \n",
       "1  GeneLab received RNA later preserved dorsal sk...  \n",
       "2  The use of network analysis allowed the discov...  \n",
       "3  The cax1-1 mutant line demonstrated relative t...  \n",
       "4  Adrenal glands of the mice were preserved by i...  "
      ]
     },
     "execution_count": 9,
     "metadata": {},
     "output_type": "execute_result"
    }
   ],
   "source": [
    "data = load_data(FILE_PATH)\n",
    "data.head()"
   ]
  },
  {
   "cell_type": "markdown",
   "id": "91c44192-e4d2-480e-9bfd-08f765b80822",
   "metadata": {},
   "source": [
    "## Data Peek\n",
    "\n",
    "Here we pick a sample row to inspect the nature of data.\n",
    "- What each column looks like"
   ]
  },
  {
   "cell_type": "code",
   "execution_count": 13,
   "id": "0fdfb6da-a192-4188-8ff6-fc0e895c5a0b",
   "metadata": {},
   "outputs": [],
   "source": [
    "def peek_data(data: pd.DataFrame, row_index: int = 0):\n",
    "    print(f\"Row = {row_index}\")\n",
    "    row = data.iloc[row_index]\n",
    "    for col, value in zip(data.columns, row):\n",
    "        display(HTML(f\"<h4>{col}</h4>\"))\n",
    "        print(value)\n",
    "        display(HTML(\"<hr/>\"))"
   ]
  },
  {
   "cell_type": "code",
   "execution_count": 14,
   "id": "7f75d398-58ce-4b4e-acc6-3f08a7028074",
   "metadata": {},
   "outputs": [
    {
     "data": {
      "text/plain": [
       "(60, 12)"
      ]
     },
     "execution_count": 14,
     "metadata": {},
     "output_type": "execute_result"
    }
   ],
   "source": [
    "data.shape"
   ]
  },
  {
   "cell_type": "code",
   "execution_count": 15,
   "id": "194713b7-dd62-46f2-a2c5-84458dbca3dd",
   "metadata": {},
   "outputs": [
    {
     "name": "stdout",
     "output_type": "stream",
     "text": [
      "Row = 0\n"
     ]
    },
    {
     "data": {
      "text/html": [
       "<h4>context</h4>"
      ],
      "text/plain": [
       "<IPython.core.display.HTML object>"
      ]
     },
     "metadata": {},
     "output_type": "display_data"
    },
    {
     "name": "stdout",
     "output_type": "stream",
     "text": [
      "Genome-wide transcriptional profiling showed that reducing gravity levels in the International Space Station (ISS) causes important alterations in Drosophila gene expression intimately linked to imposed spaceflight-related environmental constrains during Drosophila metamorphosis. However, simulation experiments on ground testing space-related environmental constraints, show differential responses. Curiously, although particular genes are not common in the different experiments, the same GO groups including a large multigene family related with behavior, stress response and organogenesis are over represented in them. A global and integrative analysis using the gene expression dynamics inspector (GEDI) self-organizing maps, reveals different degrees in the responses of the transcriptome when using different environmental conditions or microgravity/hypergravity simulation devices. These results suggest that the transcriptome is finely tuned to normal gravity. In regular environmental conditions the alteration of this constant parameter on Earth can have mild effects on gene expression but when environmental conditions are far from optimal, the gene expression is much more intense and consistent effects.\n"
     ]
    },
    {
     "data": {
      "text/html": [
       "<hr/>"
      ],
      "text/plain": [
       "<IPython.core.display.HTML object>"
      ]
     },
     "metadata": {},
     "output_type": "display_data"
    },
    {
     "data": {
      "text/html": [
       "<h4>URL</h4>"
      ],
      "text/plain": [
       "<IPython.core.display.HTML object>"
      ]
     },
     "metadata": {},
     "output_type": "display_data"
    },
    {
     "name": "stdout",
     "output_type": "stream",
     "text": [
      "https://sciencediscoveryengine.nasa.gov#/preview?id=%2FSDE%2Fgenelab_lsda%2F%7Chttps:%2F%2Fosdr.nasa.gov%2Fbio%2Frepo%2Fdata%2Fstudies%2FOSD-70%2F&query=%7B%22name%22:%22query-smd-primary%22,%22scope%22:%22All%22,%22text%22:%22osd-70%22%7D\n"
     ]
    },
    {
     "data": {
      "text/html": [
       "<hr/>"
      ],
      "text/plain": [
       "<IPython.core.display.HTML object>"
      ]
     },
     "metadata": {},
     "output_type": "display_data"
    },
    {
     "data": {
      "text/html": [
       "<h4>Question 1</h4>"
      ],
      "text/plain": [
       "<IPython.core.display.HTML object>"
      ]
     },
     "metadata": {},
     "output_type": "display_data"
    },
    {
     "name": "stdout",
     "output_type": "stream",
     "text": [
      "Where were the gene expression alterations in Drosophila observed during their metamorphosis?\n"
     ]
    },
    {
     "data": {
      "text/html": [
       "<hr/>"
      ],
      "text/plain": [
       "<IPython.core.display.HTML object>"
      ]
     },
     "metadata": {},
     "output_type": "display_data"
    },
    {
     "data": {
      "text/html": [
       "<h4>Question 1 Answer</h4>"
      ],
      "text/plain": [
       "<IPython.core.display.HTML object>"
      ]
     },
     "metadata": {},
     "output_type": "display_data"
    },
    {
     "name": "stdout",
     "output_type": "stream",
     "text": [
      "reducing gravity levels in the International Space Station (ISS)\n"
     ]
    },
    {
     "data": {
      "text/html": [
       "<hr/>"
      ],
      "text/plain": [
       "<IPython.core.display.HTML object>"
      ]
     },
     "metadata": {},
     "output_type": "display_data"
    },
    {
     "data": {
      "text/html": [
       "<h4>Question 2</h4>"
      ],
      "text/plain": [
       "<IPython.core.display.HTML object>"
      ]
     },
     "metadata": {},
     "output_type": "display_data"
    },
    {
     "name": "stdout",
     "output_type": "stream",
     "text": [
      "What kind of experiments showed differential responses in gene expression?\n"
     ]
    },
    {
     "data": {
      "text/html": [
       "<hr/>"
      ],
      "text/plain": [
       "<IPython.core.display.HTML object>"
      ]
     },
     "metadata": {},
     "output_type": "display_data"
    },
    {
     "data": {
      "text/html": [
       "<h4>Question 2 Answer</h4>"
      ],
      "text/plain": [
       "<IPython.core.display.HTML object>"
      ]
     },
     "metadata": {},
     "output_type": "display_data"
    },
    {
     "name": "stdout",
     "output_type": "stream",
     "text": [
      "simulation experiments on ground testing space-related environmental constraints\n"
     ]
    },
    {
     "data": {
      "text/html": [
       "<hr/>"
      ],
      "text/plain": [
       "<IPython.core.display.HTML object>"
      ]
     },
     "metadata": {},
     "output_type": "display_data"
    },
    {
     "data": {
      "text/html": [
       "<h4>Question 3</h4>"
      ],
      "text/plain": [
       "<IPython.core.display.HTML object>"
      ]
     },
     "metadata": {},
     "output_type": "display_data"
    },
    {
     "name": "stdout",
     "output_type": "stream",
     "text": [
      "What is overrepresented in the different experiments despite particular genes not being common?\n"
     ]
    },
    {
     "data": {
      "text/html": [
       "<hr/>"
      ],
      "text/plain": [
       "<IPython.core.display.HTML object>"
      ]
     },
     "metadata": {},
     "output_type": "display_data"
    },
    {
     "data": {
      "text/html": [
       "<h4>Question 3 Answer</h4>"
      ],
      "text/plain": [
       "<IPython.core.display.HTML object>"
      ]
     },
     "metadata": {},
     "output_type": "display_data"
    },
    {
     "name": "stdout",
     "output_type": "stream",
     "text": [
      "the same GO groups including a large multigene family related with behavior, stress response and organogenesis\n"
     ]
    },
    {
     "data": {
      "text/html": [
       "<hr/>"
      ],
      "text/plain": [
       "<IPython.core.display.HTML object>"
      ]
     },
     "metadata": {},
     "output_type": "display_data"
    },
    {
     "data": {
      "text/html": [
       "<h4>Question 4</h4>"
      ],
      "text/plain": [
       "<IPython.core.display.HTML object>"
      ]
     },
     "metadata": {},
     "output_type": "display_data"
    },
    {
     "name": "stdout",
     "output_type": "stream",
     "text": [
      "what analytical methodology provided integrative insights on transcriptome variations?\n"
     ]
    },
    {
     "data": {
      "text/html": [
       "<hr/>"
      ],
      "text/plain": [
       "<IPython.core.display.HTML object>"
      ]
     },
     "metadata": {},
     "output_type": "display_data"
    },
    {
     "data": {
      "text/html": [
       "<h4>Question 4 Answer</h4>"
      ],
      "text/plain": [
       "<IPython.core.display.HTML object>"
      ]
     },
     "metadata": {},
     "output_type": "display_data"
    },
    {
     "name": "stdout",
     "output_type": "stream",
     "text": [
      "Self-organizing maps of the Gene Expression Dynamics Inspector (GEDI) were utilized to reveal transcriptome variations under various environmental conditions or microgravity/hypergravity simulation devices.\n"
     ]
    },
    {
     "data": {
      "text/html": [
       "<hr/>"
      ],
      "text/plain": [
       "<IPython.core.display.HTML object>"
      ]
     },
     "metadata": {},
     "output_type": "display_data"
    },
    {
     "data": {
      "text/html": [
       "<h4>Question 5</h4>"
      ],
      "text/plain": [
       "<IPython.core.display.HTML object>"
      ]
     },
     "metadata": {},
     "output_type": "display_data"
    },
    {
     "name": "stdout",
     "output_type": "stream",
     "text": [
      "What are the implications of the findings in terms of the tuning of the transcriptome to Earth's gravity and its variations in extreme environmental conditions?\n"
     ]
    },
    {
     "data": {
      "text/html": [
       "<hr/>"
      ],
      "text/plain": [
       "<IPython.core.display.HTML object>"
      ]
     },
     "metadata": {},
     "output_type": "display_data"
    },
    {
     "data": {
      "text/html": [
       "<h4>Question 5 Answer</h4>"
      ],
      "text/plain": [
       "<IPython.core.display.HTML object>"
      ]
     },
     "metadata": {},
     "output_type": "display_data"
    },
    {
     "name": "stdout",
     "output_type": "stream",
     "text": [
      "The findings indicate that the finely adjusted transcriptome is tuned to normal Earth gravity, showing a more marked and coherent genetic response when environmental conditions significantly deviate from optimal.\n"
     ]
    },
    {
     "data": {
      "text/html": [
       "<hr/>"
      ],
      "text/plain": [
       "<IPython.core.display.HTML object>"
      ]
     },
     "metadata": {},
     "output_type": "display_data"
    }
   ],
   "source": [
    "# index = random.randint(0, len(data))\n",
    "peek_data(data, row_index=0)"
   ]
  },
  {
   "cell_type": "markdown",
   "id": "6d907c7a-b5dd-4021-b3e6-f2559ad0999d",
   "metadata": {},
   "source": [
    "## Simplify Data\n",
    "\n",
    "Here we separate out individual question/answer pair into separate row for each context.\n",
    "This is used for simplifying the validation process so that each row would have consistent view of data."
   ]
  },
  {
   "cell_type": "code",
   "execution_count": 16,
   "id": "9e51eb58-ad91-485a-8eae-a29e409c660d",
   "metadata": {},
   "outputs": [
    {
     "data": {
      "text/html": [
       "<div>\n",
       "<style scoped>\n",
       "    .dataframe tbody tr th:only-of-type {\n",
       "        vertical-align: middle;\n",
       "    }\n",
       "\n",
       "    .dataframe tbody tr th {\n",
       "        vertical-align: top;\n",
       "    }\n",
       "\n",
       "    .dataframe thead th {\n",
       "        text-align: right;\n",
       "    }\n",
       "</style>\n",
       "<table border=\"1\" class=\"dataframe\">\n",
       "  <thead>\n",
       "    <tr style=\"text-align: right;\">\n",
       "      <th></th>\n",
       "      <th>context</th>\n",
       "      <th>context_hash</th>\n",
       "      <th>url</th>\n",
       "      <th>question</th>\n",
       "      <th>answer</th>\n",
       "    </tr>\n",
       "  </thead>\n",
       "  <tbody>\n",
       "    <tr>\n",
       "      <th>0</th>\n",
       "      <td>Genome-wide transcriptional profiling showed t...</td>\n",
       "      <td>24878159</td>\n",
       "      <td>https://sciencediscoveryengine.nasa.gov#/previ...</td>\n",
       "      <td>Where were the gene expression alterations in ...</td>\n",
       "      <td>reducing gravity levels in the International S...</td>\n",
       "    </tr>\n",
       "    <tr>\n",
       "      <th>1</th>\n",
       "      <td>Genome-wide transcriptional profiling showed t...</td>\n",
       "      <td>24878159</td>\n",
       "      <td>https://sciencediscoveryengine.nasa.gov#/previ...</td>\n",
       "      <td>What kind of experiments showed differential r...</td>\n",
       "      <td>simulation experiments on ground testing space...</td>\n",
       "    </tr>\n",
       "    <tr>\n",
       "      <th>2</th>\n",
       "      <td>Genome-wide transcriptional profiling showed t...</td>\n",
       "      <td>24878159</td>\n",
       "      <td>https://sciencediscoveryengine.nasa.gov#/previ...</td>\n",
       "      <td>What is overrepresented in the different exper...</td>\n",
       "      <td>the same GO groups including a large multigene...</td>\n",
       "    </tr>\n",
       "    <tr>\n",
       "      <th>3</th>\n",
       "      <td>Genome-wide transcriptional profiling showed t...</td>\n",
       "      <td>24878159</td>\n",
       "      <td>https://sciencediscoveryengine.nasa.gov#/previ...</td>\n",
       "      <td>what analytical methodology provided integrati...</td>\n",
       "      <td>Self-organizing maps of the Gene Expression Dy...</td>\n",
       "    </tr>\n",
       "    <tr>\n",
       "      <th>4</th>\n",
       "      <td>Genome-wide transcriptional profiling showed t...</td>\n",
       "      <td>24878159</td>\n",
       "      <td>https://sciencediscoveryengine.nasa.gov#/previ...</td>\n",
       "      <td>What are the implications of the findings in t...</td>\n",
       "      <td>The findings indicate that the finely adjusted...</td>\n",
       "    </tr>\n",
       "    <tr>\n",
       "      <th>5</th>\n",
       "      <td>The objective of the Rodent Research-5 (RR-5) ...</td>\n",
       "      <td>41570944</td>\n",
       "      <td>https://sciencediscoveryengine.nasa.gov#/previ...</td>\n",
       "      <td>What was the main goal of the Rodent Research-...</td>\n",
       "      <td>to evaluate bone loss in mice during spaceflig...</td>\n",
       "    </tr>\n",
       "    <tr>\n",
       "      <th>6</th>\n",
       "      <td>The objective of the Rodent Research-5 (RR-5) ...</td>\n",
       "      <td>41570944</td>\n",
       "      <td>https://sciencediscoveryengine.nasa.gov#/previ...</td>\n",
       "      <td>What type of mice and how old were they when f...</td>\n",
       "      <td>a cohort of forty 30-weeks-old female BALB/cAn...</td>\n",
       "    </tr>\n",
       "    <tr>\n",
       "      <th>7</th>\n",
       "      <td>The objective of the Rodent Research-5 (RR-5) ...</td>\n",
       "      <td>41570944</td>\n",
       "      <td>https://sciencediscoveryengine.nasa.gov#/previ...</td>\n",
       "      <td>How many days after launch were the mice treat...</td>\n",
       "      <td>Six days after launch</td>\n",
       "    </tr>\n",
       "    <tr>\n",
       "      <th>8</th>\n",
       "      <td>The objective of the Rodent Research-5 (RR-5) ...</td>\n",
       "      <td>41570944</td>\n",
       "      <td>https://sciencediscoveryengine.nasa.gov#/previ...</td>\n",
       "      <td>How was the Earth recovery period for the subj...</td>\n",
       "      <td>Following their return to Earth, the experimen...</td>\n",
       "    </tr>\n",
       "    <tr>\n",
       "      <th>9</th>\n",
       "      <td>The objective of the Rodent Research-5 (RR-5) ...</td>\n",
       "      <td>41570944</td>\n",
       "      <td>https://sciencediscoveryengine.nasa.gov#/previ...</td>\n",
       "      <td>What specific type of samples and from which c...</td>\n",
       "      <td>GeneLab received RNA later preserved dorsal sk...</td>\n",
       "    </tr>\n",
       "  </tbody>\n",
       "</table>\n",
       "</div>"
      ],
      "text/plain": [
       "                                             context  context_hash  \\\n",
       "0  Genome-wide transcriptional profiling showed t...      24878159   \n",
       "1  Genome-wide transcriptional profiling showed t...      24878159   \n",
       "2  Genome-wide transcriptional profiling showed t...      24878159   \n",
       "3  Genome-wide transcriptional profiling showed t...      24878159   \n",
       "4  Genome-wide transcriptional profiling showed t...      24878159   \n",
       "5  The objective of the Rodent Research-5 (RR-5) ...      41570944   \n",
       "6  The objective of the Rodent Research-5 (RR-5) ...      41570944   \n",
       "7  The objective of the Rodent Research-5 (RR-5) ...      41570944   \n",
       "8  The objective of the Rodent Research-5 (RR-5) ...      41570944   \n",
       "9  The objective of the Rodent Research-5 (RR-5) ...      41570944   \n",
       "\n",
       "                                                 url  \\\n",
       "0  https://sciencediscoveryengine.nasa.gov#/previ...   \n",
       "1  https://sciencediscoveryengine.nasa.gov#/previ...   \n",
       "2  https://sciencediscoveryengine.nasa.gov#/previ...   \n",
       "3  https://sciencediscoveryengine.nasa.gov#/previ...   \n",
       "4  https://sciencediscoveryengine.nasa.gov#/previ...   \n",
       "5  https://sciencediscoveryengine.nasa.gov#/previ...   \n",
       "6  https://sciencediscoveryengine.nasa.gov#/previ...   \n",
       "7  https://sciencediscoveryengine.nasa.gov#/previ...   \n",
       "8  https://sciencediscoveryengine.nasa.gov#/previ...   \n",
       "9  https://sciencediscoveryengine.nasa.gov#/previ...   \n",
       "\n",
       "                                            question  \\\n",
       "0  Where were the gene expression alterations in ...   \n",
       "1  What kind of experiments showed differential r...   \n",
       "2  What is overrepresented in the different exper...   \n",
       "3  what analytical methodology provided integrati...   \n",
       "4  What are the implications of the findings in t...   \n",
       "5  What was the main goal of the Rodent Research-...   \n",
       "6  What type of mice and how old were they when f...   \n",
       "7  How many days after launch were the mice treat...   \n",
       "8  How was the Earth recovery period for the subj...   \n",
       "9  What specific type of samples and from which c...   \n",
       "\n",
       "                                              answer  \n",
       "0  reducing gravity levels in the International S...  \n",
       "1  simulation experiments on ground testing space...  \n",
       "2  the same GO groups including a large multigene...  \n",
       "3  Self-organizing maps of the Gene Expression Dy...  \n",
       "4  The findings indicate that the finely adjusted...  \n",
       "5  to evaluate bone loss in mice during spaceflig...  \n",
       "6  a cohort of forty 30-weeks-old female BALB/cAn...  \n",
       "7                              Six days after launch  \n",
       "8  Following their return to Earth, the experimen...  \n",
       "9  GeneLab received RNA later preserved dorsal sk...  "
      ]
     },
     "execution_count": 16,
     "metadata": {},
     "output_type": "execute_result"
    }
   ],
   "source": [
    "data = simplify_columns(data)\n",
    "data.head(10)"
   ]
  },
  {
   "cell_type": "code",
   "execution_count": 17,
   "id": "78a5cc46-2659-4b89-9cf0-f3fa7118fbbe",
   "metadata": {},
   "outputs": [
    {
     "data": {
      "text/plain": [
       "(295, 5)"
      ]
     },
     "execution_count": 17,
     "metadata": {},
     "output_type": "execute_result"
    }
   ],
   "source": [
    "data.shape"
   ]
  },
  {
   "cell_type": "code",
   "execution_count": 18,
   "id": "8b3b805c-a5b2-46a1-b6e9-18acbcca0939",
   "metadata": {},
   "outputs": [
    {
     "name": "stdout",
     "output_type": "stream",
     "text": [
      "Row = 0\n"
     ]
    },
    {
     "data": {
      "text/html": [
       "<h4>context</h4>"
      ],
      "text/plain": [
       "<IPython.core.display.HTML object>"
      ]
     },
     "metadata": {},
     "output_type": "display_data"
    },
    {
     "name": "stdout",
     "output_type": "stream",
     "text": [
      "Genome-wide transcriptional profiling showed that reducing gravity levels in the International Space Station (ISS) causes important alterations in Drosophila gene expression intimately linked to imposed spaceflight-related environmental constrains during Drosophila metamorphosis. However, simulation experiments on ground testing space-related environmental constraints, show differential responses. Curiously, although particular genes are not common in the different experiments, the same GO groups including a large multigene family related with behavior, stress response and organogenesis are over represented in them. A global and integrative analysis using the gene expression dynamics inspector (GEDI) self-organizing maps, reveals different degrees in the responses of the transcriptome when using different environmental conditions or microgravity/hypergravity simulation devices. These results suggest that the transcriptome is finely tuned to normal gravity. In regular environmental conditions the alteration of this constant parameter on Earth can have mild effects on gene expression but when environmental conditions are far from optimal, the gene expression is much more intense and consistent effects.\n"
     ]
    },
    {
     "data": {
      "text/html": [
       "<hr/>"
      ],
      "text/plain": [
       "<IPython.core.display.HTML object>"
      ]
     },
     "metadata": {},
     "output_type": "display_data"
    },
    {
     "data": {
      "text/html": [
       "<h4>context_hash</h4>"
      ],
      "text/plain": [
       "<IPython.core.display.HTML object>"
      ]
     },
     "metadata": {},
     "output_type": "display_data"
    },
    {
     "name": "stdout",
     "output_type": "stream",
     "text": [
      "24878159\n"
     ]
    },
    {
     "data": {
      "text/html": [
       "<hr/>"
      ],
      "text/plain": [
       "<IPython.core.display.HTML object>"
      ]
     },
     "metadata": {},
     "output_type": "display_data"
    },
    {
     "data": {
      "text/html": [
       "<h4>url</h4>"
      ],
      "text/plain": [
       "<IPython.core.display.HTML object>"
      ]
     },
     "metadata": {},
     "output_type": "display_data"
    },
    {
     "name": "stdout",
     "output_type": "stream",
     "text": [
      "https://sciencediscoveryengine.nasa.gov#/preview?id=%2FSDE%2Fgenelab_lsda%2F%7Chttps:%2F%2Fosdr.nasa.gov%2Fbio%2Frepo%2Fdata%2Fstudies%2FOSD-70%2F&query=%7B%22name%22:%22query-smd-primary%22,%22scope%22:%22All%22,%22text%22:%22osd-70%22%7D\n"
     ]
    },
    {
     "data": {
      "text/html": [
       "<hr/>"
      ],
      "text/plain": [
       "<IPython.core.display.HTML object>"
      ]
     },
     "metadata": {},
     "output_type": "display_data"
    },
    {
     "data": {
      "text/html": [
       "<h4>question</h4>"
      ],
      "text/plain": [
       "<IPython.core.display.HTML object>"
      ]
     },
     "metadata": {},
     "output_type": "display_data"
    },
    {
     "name": "stdout",
     "output_type": "stream",
     "text": [
      "Where were the gene expression alterations in Drosophila observed during their metamorphosis?\n"
     ]
    },
    {
     "data": {
      "text/html": [
       "<hr/>"
      ],
      "text/plain": [
       "<IPython.core.display.HTML object>"
      ]
     },
     "metadata": {},
     "output_type": "display_data"
    },
    {
     "data": {
      "text/html": [
       "<h4>answer</h4>"
      ],
      "text/plain": [
       "<IPython.core.display.HTML object>"
      ]
     },
     "metadata": {},
     "output_type": "display_data"
    },
    {
     "name": "stdout",
     "output_type": "stream",
     "text": [
      "reducing gravity levels in the International Space Station (ISS)\n"
     ]
    },
    {
     "data": {
      "text/html": [
       "<hr/>"
      ],
      "text/plain": [
       "<IPython.core.display.HTML object>"
      ]
     },
     "metadata": {},
     "output_type": "display_data"
    }
   ],
   "source": [
    "peek_data(data, row_index=0)"
   ]
  },
  {
   "cell_type": "code",
   "execution_count": 19,
   "id": "16d87194-9768-4015-8103-6bfc2d5e89e6",
   "metadata": {},
   "outputs": [
    {
     "name": "stdout",
     "output_type": "stream",
     "text": [
      "Row = 1\n"
     ]
    },
    {
     "data": {
      "text/html": [
       "<h4>context</h4>"
      ],
      "text/plain": [
       "<IPython.core.display.HTML object>"
      ]
     },
     "metadata": {},
     "output_type": "display_data"
    },
    {
     "name": "stdout",
     "output_type": "stream",
     "text": [
      "Genome-wide transcriptional profiling showed that reducing gravity levels in the International Space Station (ISS) causes important alterations in Drosophila gene expression intimately linked to imposed spaceflight-related environmental constrains during Drosophila metamorphosis. However, simulation experiments on ground testing space-related environmental constraints, show differential responses. Curiously, although particular genes are not common in the different experiments, the same GO groups including a large multigene family related with behavior, stress response and organogenesis are over represented in them. A global and integrative analysis using the gene expression dynamics inspector (GEDI) self-organizing maps, reveals different degrees in the responses of the transcriptome when using different environmental conditions or microgravity/hypergravity simulation devices. These results suggest that the transcriptome is finely tuned to normal gravity. In regular environmental conditions the alteration of this constant parameter on Earth can have mild effects on gene expression but when environmental conditions are far from optimal, the gene expression is much more intense and consistent effects.\n"
     ]
    },
    {
     "data": {
      "text/html": [
       "<hr/>"
      ],
      "text/plain": [
       "<IPython.core.display.HTML object>"
      ]
     },
     "metadata": {},
     "output_type": "display_data"
    },
    {
     "data": {
      "text/html": [
       "<h4>context_hash</h4>"
      ],
      "text/plain": [
       "<IPython.core.display.HTML object>"
      ]
     },
     "metadata": {},
     "output_type": "display_data"
    },
    {
     "name": "stdout",
     "output_type": "stream",
     "text": [
      "24878159\n"
     ]
    },
    {
     "data": {
      "text/html": [
       "<hr/>"
      ],
      "text/plain": [
       "<IPython.core.display.HTML object>"
      ]
     },
     "metadata": {},
     "output_type": "display_data"
    },
    {
     "data": {
      "text/html": [
       "<h4>url</h4>"
      ],
      "text/plain": [
       "<IPython.core.display.HTML object>"
      ]
     },
     "metadata": {},
     "output_type": "display_data"
    },
    {
     "name": "stdout",
     "output_type": "stream",
     "text": [
      "https://sciencediscoveryengine.nasa.gov#/preview?id=%2FSDE%2Fgenelab_lsda%2F%7Chttps:%2F%2Fosdr.nasa.gov%2Fbio%2Frepo%2Fdata%2Fstudies%2FOSD-70%2F&query=%7B%22name%22:%22query-smd-primary%22,%22scope%22:%22All%22,%22text%22:%22osd-70%22%7D\n"
     ]
    },
    {
     "data": {
      "text/html": [
       "<hr/>"
      ],
      "text/plain": [
       "<IPython.core.display.HTML object>"
      ]
     },
     "metadata": {},
     "output_type": "display_data"
    },
    {
     "data": {
      "text/html": [
       "<h4>question</h4>"
      ],
      "text/plain": [
       "<IPython.core.display.HTML object>"
      ]
     },
     "metadata": {},
     "output_type": "display_data"
    },
    {
     "name": "stdout",
     "output_type": "stream",
     "text": [
      "What kind of experiments showed differential responses in gene expression?\n"
     ]
    },
    {
     "data": {
      "text/html": [
       "<hr/>"
      ],
      "text/plain": [
       "<IPython.core.display.HTML object>"
      ]
     },
     "metadata": {},
     "output_type": "display_data"
    },
    {
     "data": {
      "text/html": [
       "<h4>answer</h4>"
      ],
      "text/plain": [
       "<IPython.core.display.HTML object>"
      ]
     },
     "metadata": {},
     "output_type": "display_data"
    },
    {
     "name": "stdout",
     "output_type": "stream",
     "text": [
      "simulation experiments on ground testing space-related environmental constraints\n"
     ]
    },
    {
     "data": {
      "text/html": [
       "<hr/>"
      ],
      "text/plain": [
       "<IPython.core.display.HTML object>"
      ]
     },
     "metadata": {},
     "output_type": "display_data"
    }
   ],
   "source": [
    "peek_data(data, row_index=1)"
   ]
  },
  {
   "cell_type": "markdown",
   "id": "bee52cc4-5257-47d5-9141-a82ac02ae9e2",
   "metadata": {},
   "source": [
    "# promptlab \n",
    "\n",
    "\n",
    "**promptlab** provides a programmatic approach to interact with the bot via its REST API.\n",
    "Specificially, the `/process/` endpoint can process any query and generate the respond accordingly.\n",
    "https://api.promptlab.nasa-impact.net/api/v1/process/\n",
    "\n",
    "We can send a request to the API with the query/question and get the response.\n",
    "\n",
    "Here, the `FlowRunner` class abstracts everything. Its `.run(...)` method processes the query which:\n",
    "- Takes in a query string\n",
    "- Returns a result json/dictionary\n",
    "\n",
    "The result from the API tentatively gives us following information:\n",
    "\n",
    "- *question* : input question fed into the bot\n",
    "- *answer* : generated answer based on retrieved contexts\n",
    "- *retrieved contexts* : List of **top-k** contexts retrieved by the RAG system"
   ]
  },
  {
   "cell_type": "markdown",
   "id": "783bcbf4-b439-4045-b12f-80c4f5f545e0",
   "metadata": {},
   "source": [
    "## setup flow processors"
   ]
  },
  {
   "cell_type": "code",
   "execution_count": 20,
   "id": "9b91d48d-1c8b-4572-a5f8-b1f04cca610b",
   "metadata": {},
   "outputs": [],
   "source": [
    "import requests\n",
    "from typing import Optional, Union\n",
    "import urllib.parse"
   ]
  },
  {
   "cell_type": "code",
   "execution_count": 21,
   "id": "bd72e375-e9e6-438a-b5b0-ceb4d53d8eab",
   "metadata": {},
   "outputs": [],
   "source": [
    "from loguru import logger"
   ]
  },
  {
   "cell_type": "code",
   "execution_count": 22,
   "id": "3822fbeb-a9f7-4550-9411-85d1b24f33b8",
   "metadata": {},
   "outputs": [],
   "source": [
    "from tenacity import retry, retry_if_result, stop_after_attempt, wait_fixed, retry_if_exception, retry_if_exception_type"
   ]
  },
  {
   "cell_type": "code",
   "execution_count": 23,
   "id": "b630a0a7-9552-483b-aaa2-ed1f5ac194fd",
   "metadata": {},
   "outputs": [],
   "source": [
    "# Setup the base URL to point to the production\n",
    "BASE_API_URL = \"https://api.promptlab.nasa-impact.net/api/v1/process/\"\n",
    "\n",
    "# Setup api key to authenticate\n",
    "PROMPTLAB_API_KEY =  \"sk-e0bvhSxSSk5Vw16d-8s1cVGjUcr9d7nam49-6K28FZQ\""
   ]
  },
  {
   "cell_type": "code",
   "execution_count": 24,
   "id": "4027554b-6321-4c7f-bd63-edfca390c7e1",
   "metadata": {},
   "outputs": [],
   "source": [
    "# tweaks for the OSDR bot flow\n",
    "TWEAKS = {\n",
    "  \"ConversationalRetrievalChain-83vns\": {},\n",
    "  \"ChatOpenAI-gsfUD\": {\"model\": \"gpt-3.5-turbo\"},\n",
    "  \"ConversationBufferMemory-z2ZqE\": {},\n",
    "  \"Sinequa-Z8S73\": {}\n",
    "}\n",
    "\n",
    "# flow id of the OSDR bot in promptlab that is used for QA programmatically\n",
    "FLOW_ID = \"1edbe0f9-d7ff-4c2a-a371-5f6312964f05\""
   ]
  },
  {
   "cell_type": "code",
   "execution_count": 25,
   "id": "cdc7b670-02a4-4974-ab57-3b7d0ac9baf0",
   "metadata": {},
   "outputs": [],
   "source": [
    "class FlowRunner:\n",
    "    def __init__(self, base_url: str, api_key: str, debug:bool = False) -> None:\n",
    "        self.base_url = base_url\n",
    "        self.api_key = api_key\n",
    "        self.debug=bool(debug)\n",
    "\n",
    "    def run_flow(\n",
    "        self,\n",
    "        inputs: dict,\n",
    "        flow_id: str,\n",
    "        tweaks: Optional[dict] = None,\n",
    "    ) -> dict:\n",
    "        \"\"\"\n",
    "        Run a flow with a given message and optional tweaks.\n",
    "    \n",
    "        :param message: The message to send to the flow\n",
    "        :param flow_id: The ID of the flow to run\n",
    "        :param tweaks: Optional tweaks to customize the flow\n",
    "        :return: The JSON response from the flow\n",
    "        \"\"\"\n",
    "        api_url = urllib.parse.urljoin(self.base_url, flow_id)\n",
    "        if self.debug:\n",
    "            logger.debug(f\"URL = {api_url}\")\n",
    "\n",
    "        api_key = self.api_key\n",
    "        payload = {\"inputs\": inputs}\n",
    "        headers = None\n",
    "        if tweaks:\n",
    "            payload[\"tweaks\"] = tweaks\n",
    "        if api_key:\n",
    "            headers = {\"x-api-key\": api_key}\n",
    "        response = requests.post(api_url, json=payload, headers=headers)\n",
    "        if self.debug:\n",
    "            logger.debug(f\"response = {response}\")\n",
    "            logger.debug(f\"status code = {response.status_code}\")\n",
    "        if response.status_code != 200:\n",
    "            raise requests.exceptions.HTTPError(f\"Error: {response.status_code}\")\n",
    "        return response.json()\n",
    "\n",
    "    @staticmethod\n",
    "    def if_not_valid_result(result: dict) -> bool:\n",
    "        return not (isinstance(result, dict) and \"result\" in result and \"answer\" in result.get(\"result\", {}))\n",
    "    \n",
    "    @retry(\n",
    "        retry=(retry_if_exception_type(requests.exceptions.RequestException) | retry_if_result(if_not_valid_result)),\n",
    "        stop=stop_after_attempt(3),\n",
    "        wait=wait_fixed(2)\n",
    "    )\n",
    "    def run(\n",
    "        self,\n",
    "        input: Union[dict, str],\n",
    "        flow_id: str,\n",
    "        tweaks: Optional[dict] = None,\n",
    "    ) -> dict:\n",
    "        if isinstance(input, str):\n",
    "            input = dict(question=input)\n",
    "        result = self.run_flow(\n",
    "            inputs=input,\n",
    "            flow_id=flow_id,\n",
    "            tweaks=tweaks,\n",
    "        )\n",
    "        result[\"question\"] = input[\"question\"] if isinstance(input, dict) else input\n",
    "\n",
    "        if \"result\" in result:\n",
    "            source_documents = result.get(\"result\", {}).get(\"source_documents\", \"[]\")\n",
    "            if isinstance(source_documents, str):\n",
    "                result[\"result\"][\"source_documents\"] = json.loads(source_documents)\n",
    "        return result\n",
    "\n",
    "    @staticmethod\n",
    "    def display_result(result: dict, question: Optional[str]=None):\n",
    "        header_tag = \"h4\"\n",
    "        question = result.get(\"question\", question)\n",
    "        if question:\n",
    "            display(HTML(f\"<{header_tag}>question</{header_tag}>\"))\n",
    "            print(question)\n",
    "            display(HTML(\"<hr/>\"))\n",
    "\n",
    "        if \"result\" in result:\n",
    "            result = result[\"result\"]\n",
    "        display(HTML(f\"<{header_tag}>answer</{header_tag}>\"))\n",
    "        print(result[\"answer\"])\n",
    "        display(HTML(\"<hr/>\"))\n",
    "        \n",
    "        # display(HTML(f\"<{header_tag}>Retrieved Contexts</{header_tag}>\"))\n",
    "        for idx, doc in enumerate(result[\"source_documents\"], start=1):\n",
    "            display(HTML(f\"<{header_tag}>Retrieved Context #{idx}</{header_tag}>\"))\n",
    "            print(doc[\"page_content\"])\n",
    "            print(doc[\"metadata\"][\"source\"])\n",
    "            display(HTML(\"<hr/>\"))"
   ]
  },
  {
   "cell_type": "markdown",
   "id": "a0a6cd33-17a9-4f76-9b30-aac4b726ddcd",
   "metadata": {},
   "source": [
    "## Test Run\n",
    "\n",
    "Now, let's check what a sample test run looks like when we call the API for QA."
   ]
  },
  {
   "cell_type": "code",
   "execution_count": 26,
   "id": "bef70819-ac3d-43a0-a3a4-b6af8f6ba2f9",
   "metadata": {},
   "outputs": [],
   "source": [
    "flow_runner = FlowRunner(\n",
    "    base_url=BASE_API_URL,\n",
    "    api_key=PROMPTLAB_API_KEY\n",
    ")"
   ]
  },
  {
   "cell_type": "code",
   "execution_count": 27,
   "id": "ee541856-c87c-4dc7-85ce-26ef6e3cdd73",
   "metadata": {},
   "outputs": [],
   "source": [
    "query = \"What parasites were sent to ISS to study host immunity?\""
   ]
  },
  {
   "cell_type": "code",
   "execution_count": 28,
   "id": "197ff92a-0b01-4a79-9355-02af414e6d6c",
   "metadata": {},
   "outputs": [],
   "source": [
    "result = flow_runner.run(\n",
    "    input=query,\n",
    "    flow_id=FLOW_ID,\n",
    "    tweaks=TWEAKS,\n",
    ")"
   ]
  },
  {
   "cell_type": "code",
   "execution_count": 29,
   "id": "a0f6565d-cbfa-430f-9067-f429001e797f",
   "metadata": {},
   "outputs": [
    {
     "data": {
      "text/plain": [
       "'What parasites were sent to ISS to study host immunity?'"
      ]
     },
     "execution_count": 29,
     "metadata": {},
     "output_type": "execute_result"
    }
   ],
   "source": [
    "result[\"question\"]"
   ]
  },
  {
   "cell_type": "code",
   "execution_count": 30,
   "id": "340f1781-096f-485e-a8f4-ea48365f741d",
   "metadata": {},
   "outputs": [
    {
     "data": {
      "text/html": [
       "<h4>question</h4>"
      ],
      "text/plain": [
       "<IPython.core.display.HTML object>"
      ]
     },
     "metadata": {},
     "output_type": "display_data"
    },
    {
     "name": "stdout",
     "output_type": "stream",
     "text": [
      "What parasites were sent to ISS to study host immunity?\n"
     ]
    },
    {
     "data": {
      "text/html": [
       "<hr/>"
      ],
      "text/plain": [
       "<IPython.core.display.HTML object>"
      ]
     },
     "metadata": {},
     "output_type": "display_data"
    },
    {
     "data": {
      "text/html": [
       "<h4>answer</h4>"
      ],
      "text/plain": [
       "<IPython.core.display.HTML object>"
      ]
     },
     "metadata": {},
     "output_type": "display_data"
    },
    {
     "name": "stdout",
     "output_type": "stream",
     "text": [
      "In the studies mentioned, parasitic wasps Leptopilina boulardi 17 and Leptopilina heterotoma 14 were sent to the ISS to study host immunity.\n"
     ]
    },
    {
     "data": {
      "text/html": [
       "<hr/>"
      ],
      "text/plain": [
       "<IPython.core.display.HTML object>"
      ]
     },
     "metadata": {},
     "output_type": "display_data"
    },
    {
     "data": {
      "text/html": [
       "<h4>Retrieved Context #1</h4>"
      ],
      "text/plain": [
       "<IPython.core.display.HTML object>"
      ]
     },
     "metadata": {},
     "output_type": "display_data"
    },
    {
     "name": "stdout",
     "output_type": "stream",
     "text": [
      "In this <b>study</b>, fruit flies and their parasitic wasps were <b>sent</b> to the <b>ISS</b> to examine changes in <b>host</b> <b>immunity</b> and <b>parasite</b> virulence. Key findings from this work are as follows: (a) Spaceflight spiked the expression of inflammation genes in fruit flies; (b) Spaceflight enhanced tumor growth in flies already suffering from chronic inflammation; (c) Spaceflight did not significantly affect parasitic wasp development, emergence, or the expression of virulence genes; (d) <b>Parasite</b> mutants with visible wing color and shape alterations were obtained. This <b>study</b> contains Drosophila melanogaster data.\n",
      "https://osdr.nasa.gov/bio/repo/data/studies/OSD-588/\n"
     ]
    },
    {
     "data": {
      "text/html": [
       "<hr/>"
      ],
      "text/plain": [
       "<IPython.core.display.HTML object>"
      ]
     },
     "metadata": {},
     "output_type": "display_data"
    },
    {
     "data": {
      "text/html": [
       "<h4>Retrieved Context #2</h4>"
      ],
      "text/plain": [
       "<IPython.core.display.HTML object>"
      ]
     },
     "metadata": {},
     "output_type": "display_data"
    },
    {
     "name": "stdout",
     "output_type": "stream",
     "text": [
      "In this <b>study</b>, fruit flies and their parasitic wasps were <b>sent</b> to the <b>ISS</b> to examine changes in <b>host</b> <b>immunity</b> and <b>parasite</b> virulence. Key findings from this work are as follows: (a) Spaceflight spiked the expression of inflammation genes in fruit flies; (b) Spaceflight enhanced tumor growth in flies already suffering from chronic inflammation; (c) Spaceflight did not significantly affect parasitic wasp development, emergence, or the expression of virulence genes; (d) <b>Parasite</b> mutants with visible wing color and shape alterations were obtained. This <b>study</b> contains Leptopilina boulardi 17 data.\n",
      "https://osdr.nasa.gov/bio/repo/data/studies/OSD-610/\n"
     ]
    },
    {
     "data": {
      "text/html": [
       "<hr/>"
      ],
      "text/plain": [
       "<IPython.core.display.HTML object>"
      ]
     },
     "metadata": {},
     "output_type": "display_data"
    },
    {
     "data": {
      "text/html": [
       "<h4>Retrieved Context #3</h4>"
      ],
      "text/plain": [
       "<IPython.core.display.HTML object>"
      ]
     },
     "metadata": {},
     "output_type": "display_data"
    },
    {
     "name": "stdout",
     "output_type": "stream",
     "text": [
      "In this <b>study</b>, fruit flies and their parasitic wasps were <b>sent</b> to the <b>ISS</b> to examine changes in <b>host</b> <b>immunity</b> and <b>parasite</b> virulence. Key findings from this work are as follows: (a) Spaceflight spiked the expression of inflammation genes in fruit flies; (b) Spaceflight enhanced tumor growth in flies already suffering from chronic inflammation; (c) Spaceflight did not significantly affect parasitic wasp development, emergence, or the expression of virulence genes; (d) <b>Parasite</b> mutants with visible wing color and shape alterations were obtained. This <b>study</b> contains Leptopilina heterotoma14 data.\n",
      "https://osdr.nasa.gov/bio/repo/data/studies/OSD-609/\n"
     ]
    },
    {
     "data": {
      "text/html": [
       "<hr/>"
      ],
      "text/plain": [
       "<IPython.core.display.HTML object>"
      ]
     },
     "metadata": {},
     "output_type": "display_data"
    },
    {
     "data": {
      "text/html": [
       "<h4>Retrieved Context #4</h4>"
      ],
      "text/plain": [
       "<IPython.core.display.HTML object>"
      ]
     },
     "metadata": {},
     "output_type": "display_data"
    },
    {
     "name": "stdout",
     "output_type": "stream",
     "text": [
      "About  Charter  How to Join  Current AWG Members  Citizen Science  SOLSTICE  SOLSTICE Members  FAQ  Terms & Conditions  Genelab Tutorials  Contact Us  account_circle expand_more  1.26 TB  OSD-588 Version 1  Drosophila parasitoids go to space: Unexpected effects of spaceflight on <b>hosts</b> and their parasitoids - Drosophila data <b>Study</b>  Submitted Date: 02-Feb-2023  Initial Release Date: 02-Jan-2024  notifications share  GeneLab ID : GLDS-583 DOI : 10.26030/v9rh-5a70  Cite this <b>Study</b>  info Description  Description  In this <b>study</b>, fruit flies and their parasitic wasps were <b>sent</b> to the <b>ISS</b> to examine changes in <b>host</b> <b>immunity</b> and <b>parasite</b> virulence.\n",
      "https://osdr.nasa.gov/bio/repo/data/studies/OSD-588/\n"
     ]
    },
    {
     "data": {
      "text/html": [
       "<hr/>"
      ],
      "text/plain": [
       "<IPython.core.display.HTML object>"
      ]
     },
     "metadata": {},
     "output_type": "display_data"
    },
    {
     "data": {
      "text/html": [
       "<h4>Retrieved Context #5</h4>"
      ],
      "text/plain": [
       "<IPython.core.display.HTML object>"
      ]
     },
     "metadata": {},
     "output_type": "display_data"
    },
    {
     "name": "stdout",
     "output_type": "stream",
     "text": [
      "About  Charter  How to Join  Current AWG Members  Citizen Science  SOLSTICE  SOLSTICE Members  FAQ  Terms & Conditions  Genelab Tutorials  Contact Us  account_circle expand_more  148.92 GB  OSD-610 Version 1  Drosophila parasitoids go to space: Unexpected and differential effects of spaceflight on <b>hosts</b> and their parasitoids - Wasp Leptopilina boulardi 17 data <b>Study</b>  Submitted Date: 28-Apr-2023  Initial Release Date: 02-Jan-2024  notifications share  GeneLab ID : GLDS-587 DOI : 10.26030/9ee4-6s36  Cite this <b>Study</b>  info Description  Description  In this <b>study</b>, fruit flies and their parasitic wasps were <b>sent</b> to the <b>ISS</b> to examine changes in <b>host</b> <b>immunity</b> and <b>parasite</b> virulence.\n",
      "https://osdr.nasa.gov/bio/repo/data/studies/OSD-610/\n"
     ]
    },
    {
     "data": {
      "text/html": [
       "<hr/>"
      ],
      "text/plain": [
       "<IPython.core.display.HTML object>"
      ]
     },
     "metadata": {},
     "output_type": "display_data"
    },
    {
     "data": {
      "text/html": [
       "<h4>Retrieved Context #6</h4>"
      ],
      "text/plain": [
       "<IPython.core.display.HTML object>"
      ]
     },
     "metadata": {},
     "output_type": "display_data"
    },
    {
     "name": "stdout",
     "output_type": "stream",
     "text": [
      "About  Charter  How to Join  Current AWG Members  Citizen Science  SOLSTICE  SOLSTICE Members  FAQ  Terms & Conditions  Genelab Tutorials  Contact Us  account_circle expand_more  176.26 GB  OSD-609 Version 1  Drosophila parasitoids go to space: Unexpected and differential effects of spaceflight on <b>hosts</b> and their parasitoids - Wasp Leptopilina heterotoma 14 data <b>Study</b>  Submitted Date: 28-Apr-2023  Initial Release Date: 02-Jan-2024  notifications share  GeneLab ID : GLDS-586 DOI : 10.26030/5rjq-a347  Cite this <b>Study</b>  info Description  Description  In this <b>study</b>, fruit flies and their parasitic wasps were <b>sent</b> to the <b>ISS</b> to examine changes in <b>host</b> <b>immunity</b> and <b>parasite</b> virulence.\n",
      "https://osdr.nasa.gov/bio/repo/data/studies/OSD-609/\n"
     ]
    },
    {
     "data": {
      "text/html": [
       "<hr/>"
      ],
      "text/plain": [
       "<IPython.core.display.HTML object>"
      ]
     },
     "metadata": {},
     "output_type": "display_data"
    },
    {
     "data": {
      "text/html": [
       "<h4>Retrieved Context #7</h4>"
      ],
      "text/plain": [
       "<IPython.core.display.HTML object>"
      ]
     },
     "metadata": {},
     "output_type": "display_data"
    },
    {
     "name": "stdout",
     "output_type": "stream",
     "text": [
      "The biology chosen for this experiment was Arabidopsis thaliana, ecotype Col-0, because of the plant's history of spaceflight experimentation within KFTs and wealth of comparative data from orbital experiments. KFTs were deployed as a wearable device, a leg pouch attached to the astronaut, which proved to be operationally effective during the course of the flight. Data from the inflight samples indicated that the microgravity period of the flight elicited the strongest transcriptomic responses as measured by the number of genes showing differential expression.\n",
      "https://osdr.nasa.gov/bio/repo/data/studies/OSD-624/\n"
     ]
    },
    {
     "data": {
      "text/html": [
       "<hr/>"
      ],
      "text/plain": [
       "<IPython.core.display.HTML object>"
      ]
     },
     "metadata": {},
     "output_type": "display_data"
    },
    {
     "data": {
      "text/html": [
       "<h4>Retrieved Context #8</h4>"
      ],
      "text/plain": [
       "<IPython.core.display.HTML object>"
      ]
     },
     "metadata": {},
     "output_type": "display_data"
    },
    {
     "name": "stdout",
     "output_type": "stream",
     "text": [
      "Fungal Pathogenesis , Tumorigenesis , and Effects of <b>Host</b> <b>Immunity</b> in Space  Project Type  Spaceflight <b>Study</b>  Flight Program  Space Transportation System (STS)  Experiment Platform  Shuttle Life Sciences Research (Middeck)  Sponsoring Agency  NASA  NASA Center  Ames Research Center (ARC)  Funding Source  This <b>study</b> work was supported by a NASA grant to SB for Fungal Pathogenesis, Tumorigenesis, and Effects of <b>Host</b> <b>Immunity</b> in the Space Environment (FSB-FIT-2005). The funder had a role in <b>study</b> design and in supporting data collection.  Acknowledgments  We thank David Schneider for helping us with the design of this experiment.\n",
      "https://osdr.nasa.gov/bio/repo/data/studies/OSD-3/\n"
     ]
    },
    {
     "data": {
      "text/html": [
       "<hr/>"
      ],
      "text/plain": [
       "<IPython.core.display.HTML object>"
      ]
     },
     "metadata": {},
     "output_type": "display_data"
    },
    {
     "data": {
      "text/html": [
       "<h4>Retrieved Context #9</h4>"
      ],
      "text/plain": [
       "<IPython.core.display.HTML object>"
      ]
     },
     "metadata": {},
     "output_type": "display_data"
    },
    {
     "name": "stdout",
     "output_type": "stream",
     "text": [
      "Spaceflight uniquely alters the physiology of both human cells and microbial pathogens, stimulating cellular and molecular changes directly relevant to infectious disease. However, the influence of this environment on host-pathogen interactions remains poorly understood. Here we report our results from the STL-IMMUNE study flown aboard Space Shuttle mission STS-131, which investigated multi-omic responses (transcriptomic, proteomic) of human intestinal epithelial cells to infection with Salmonella Typhimurium when both host and pathogen were simultaneously exposed to spaceflight. To our knowledge, this was the first in-flight infection and dual RNA-seq analysis using human cells.\n",
      "https://osdr.nasa.gov/bio/repo/data/studies/OSD-323/\n"
     ]
    },
    {
     "data": {
      "text/html": [
       "<hr/>"
      ],
      "text/plain": [
       "<IPython.core.display.HTML object>"
      ]
     },
     "metadata": {},
     "output_type": "display_data"
    },
    {
     "data": {
      "text/html": [
       "<h4>Retrieved Context #10</h4>"
      ],
      "text/plain": [
       "<IPython.core.display.HTML object>"
      ]
     },
     "metadata": {},
     "output_type": "display_data"
    },
    {
     "name": "stdout",
     "output_type": "stream",
     "text": [
      "Immune dysregulation is among the main adverse outcomes of spaceflight. Despite its crucial role in host protection, effects on the human antibody repertoire are unknown. Consequently, we examined the IgM repertoire of five cosmonauts 25 days before launch, after 64 and 129 days spent on the International Space Station (ISS), and after 1, 7 and 30 days of Earth reambulation using high-throughput sequencing. This is the first study of this kind.\n",
      "https://osdr.nasa.gov/bio/repo/data/studies/OSD-316/\n"
     ]
    },
    {
     "data": {
      "text/html": [
       "<hr/>"
      ],
      "text/plain": [
       "<IPython.core.display.HTML object>"
      ]
     },
     "metadata": {},
     "output_type": "display_data"
    }
   ],
   "source": [
    "flow_runner.display_result(result)"
   ]
  },
  {
   "cell_type": "markdown",
   "id": "1145101f-e93c-44ef-a493-1d224e1dbf90",
   "metadata": {},
   "source": [
    "# Run OSDR Validattion set\n",
    "\n",
    "Instead of manually running each question through the bot to generate the answer, we run all the questions from the validation data in bulk.\n",
    "\n",
    "We have some functions for housekeeping and the details for them are hidden away for brevity.\n",
    "\n",
    "> Note: Since it takes some time to run through all the questions, we'll pre-load the responses from a csv."
   ]
  },
  {
   "cell_type": "code",
   "execution_count": 31,
   "id": "a481fd4b-e50f-491e-8346-ebea7d26d5e0",
   "metadata": {},
   "outputs": [],
   "source": [
    "from tqdm import tqdm\n",
    "from joblib import Parallel, delayed\n",
    "import ast"
   ]
  },
  {
   "cell_type": "code",
   "execution_count": 32,
   "id": "2c504385-1609-48a2-aad9-d02a48e71f4c",
   "metadata": {},
   "outputs": [],
   "source": [
    "def process_row(row, flow_runner, flow_id, tweaks):\n",
    "    try:\n",
    "        result = flow_runner.run(input=row.question, flow_id=flow_id, tweaks=tweaks)\n",
    "    except:\n",
    "        logger.error(f\"Error for question={row.question}. Skipping\")\n",
    "        result = {}\n",
    "    print(result.keys())\n",
    "    result[\"reference_context\"] = row.context\n",
    "    result[\"reference_answer\"] = row.answer\n",
    "    result[\"context_hash\"] = row.context_hash\n",
    "    return result"
   ]
  },
  {
   "cell_type": "code",
   "execution_count": 33,
   "id": "1ba8708a-2bc7-4c96-9178-10a7280680cc",
   "metadata": {},
   "outputs": [],
   "source": [
    "def get_osdr_responses(\n",
    "    data: pd.DataFrame,\n",
    "    flow_runner: FlowRunner,\n",
    "    flow_id,\n",
    "    tweaks\n",
    ") -> pd.DataFrame:\n",
    "    results = []\n",
    "    for row in tqdm(data.itertuples()):\n",
    "        result = process_row(row, flow_runner, flow_id, tweaks)\n",
    "        results.append(result)\n",
    "    return pd.DataFrame(results)\n",
    "\n",
    "def get_osdr_responses_parallel(\n",
    "    data: pd.DataFrame,\n",
    "    flow_runner,\n",
    "    flow_id, \n",
    "    tweaks\n",
    ") -> pd.DataFrame:\n",
    "    results = Parallel(n_jobs=-1, backend=\"threading\")(\n",
    "        delayed(process_row)\\\n",
    "        (row, flow_runner, flow_id, tweaks) for row in tqdm(data.itertuples(index=False))\n",
    "    )\n",
    "    results_df = pd.DataFrame(results)\n",
    "    return results_df"
   ]
  },
  {
   "cell_type": "code",
   "execution_count": 34,
   "id": "55acaec1-1d4d-4845-bc00-9459dbab6a88",
   "metadata": {},
   "outputs": [],
   "source": [
    "def load_responses(path: str) -> pd.DataFrame:\n",
    "    df = pd.read_csv(path)\n",
    "    df[\"result\"] = df[\"result\"].apply(ast.literal_eval)\n",
    "    return df"
   ]
  },
  {
   "cell_type": "code",
   "execution_count": 36,
   "id": "1fedaca6-2564-4d89-aaa5-d666e9fce707",
   "metadata": {},
   "outputs": [],
   "source": [
    "# # get all the responses\n",
    "responses = get_osdr_responses_parallel(\n",
    "    data=simplify_columns(load_data(FILE_PATH)).iloc[:],\n",
    "    flow_runner=flow_runner,\n",
    "    flow_id=FLOW_ID,\n",
    "    tweaks=TWEAKS\n",
    ")"
   ]
  },
  {
   "cell_type": "code",
   "execution_count": 37,
   "id": "8854fe51-db69-4821-9871-fced425035a8",
   "metadata": {},
   "outputs": [],
   "source": [
    "# load already dumped responses\n",
    "responses = load_responses(\"data/responses-gpt-3.5-turbo.csv\")"
   ]
  },
  {
   "cell_type": "code",
   "execution_count": 38,
   "id": "8a5746d6-c365-48e4-9323-02514e65b77d",
   "metadata": {},
   "outputs": [
    {
     "data": {
      "text/html": [
       "<div>\n",
       "<style scoped>\n",
       "    .dataframe tbody tr th:only-of-type {\n",
       "        vertical-align: middle;\n",
       "    }\n",
       "\n",
       "    .dataframe tbody tr th {\n",
       "        vertical-align: top;\n",
       "    }\n",
       "\n",
       "    .dataframe thead th {\n",
       "        text-align: right;\n",
       "    }\n",
       "</style>\n",
       "<table border=\"1\" class=\"dataframe\">\n",
       "  <thead>\n",
       "    <tr style=\"text-align: right;\">\n",
       "      <th></th>\n",
       "      <th>result</th>\n",
       "      <th>status</th>\n",
       "      <th>task</th>\n",
       "      <th>session_id</th>\n",
       "      <th>backend</th>\n",
       "      <th>question</th>\n",
       "      <th>reference_context</th>\n",
       "      <th>reference_answer</th>\n",
       "      <th>context_hash</th>\n",
       "    </tr>\n",
       "  </thead>\n",
       "  <tbody>\n",
       "    <tr>\n",
       "      <th>0</th>\n",
       "      <td>{'answer': 'The gene expression alterations in...</td>\n",
       "      <td>NaN</td>\n",
       "      <td>{'id': '139756224681744', 'href': 'api/v1/task...</td>\n",
       "      <td>RG8XKS:6b5b553ba5e766ccbc1429e4540911c1e7ac597...</td>\n",
       "      <td>anyio</td>\n",
       "      <td>Where were the gene expression alterations in ...</td>\n",
       "      <td>Genome-wide transcriptional profiling showed t...</td>\n",
       "      <td>reducing gravity levels in the International S...</td>\n",
       "      <td>30225908</td>\n",
       "    </tr>\n",
       "    <tr>\n",
       "      <th>1</th>\n",
       "      <td>{'answer': 'Experiments involving reducing gra...</td>\n",
       "      <td>NaN</td>\n",
       "      <td>{'id': '139756227007232', 'href': 'api/v1/task...</td>\n",
       "      <td>JHTOXO:6b5b553ba5e766ccbc1429e4540911c1e7ac597...</td>\n",
       "      <td>anyio</td>\n",
       "      <td>What kind of experiments showed differential r...</td>\n",
       "      <td>Genome-wide transcriptional profiling showed t...</td>\n",
       "      <td>simulation experiments on ground testing space...</td>\n",
       "      <td>30225908</td>\n",
       "    </tr>\n",
       "    <tr>\n",
       "      <th>2</th>\n",
       "      <td>{'answer': 'The same GO groups, including a la...</td>\n",
       "      <td>NaN</td>\n",
       "      <td>{'id': '139756223614704', 'href': 'api/v1/task...</td>\n",
       "      <td>VWW7ZL:6b5b553ba5e766ccbc1429e4540911c1e7ac597...</td>\n",
       "      <td>anyio</td>\n",
       "      <td>What is overrepresented in the different exper...</td>\n",
       "      <td>Genome-wide transcriptional profiling showed t...</td>\n",
       "      <td>the same GO groups including a large multigene...</td>\n",
       "      <td>30225908</td>\n",
       "    </tr>\n",
       "  </tbody>\n",
       "</table>\n",
       "</div>"
      ],
      "text/plain": [
       "                                              result  status  \\\n",
       "0  {'answer': 'The gene expression alterations in...     NaN   \n",
       "1  {'answer': 'Experiments involving reducing gra...     NaN   \n",
       "2  {'answer': 'The same GO groups, including a la...     NaN   \n",
       "\n",
       "                                                task  \\\n",
       "0  {'id': '139756224681744', 'href': 'api/v1/task...   \n",
       "1  {'id': '139756227007232', 'href': 'api/v1/task...   \n",
       "2  {'id': '139756223614704', 'href': 'api/v1/task...   \n",
       "\n",
       "                                          session_id backend  \\\n",
       "0  RG8XKS:6b5b553ba5e766ccbc1429e4540911c1e7ac597...   anyio   \n",
       "1  JHTOXO:6b5b553ba5e766ccbc1429e4540911c1e7ac597...   anyio   \n",
       "2  VWW7ZL:6b5b553ba5e766ccbc1429e4540911c1e7ac597...   anyio   \n",
       "\n",
       "                                            question  \\\n",
       "0  Where were the gene expression alterations in ...   \n",
       "1  What kind of experiments showed differential r...   \n",
       "2  What is overrepresented in the different exper...   \n",
       "\n",
       "                                   reference_context  \\\n",
       "0  Genome-wide transcriptional profiling showed t...   \n",
       "1  Genome-wide transcriptional profiling showed t...   \n",
       "2  Genome-wide transcriptional profiling showed t...   \n",
       "\n",
       "                                    reference_answer  context_hash  \n",
       "0  reducing gravity levels in the International S...      30225908  \n",
       "1  simulation experiments on ground testing space...      30225908  \n",
       "2  the same GO groups including a large multigene...      30225908  "
      ]
     },
     "execution_count": 38,
     "metadata": {},
     "output_type": "execute_result"
    }
   ],
   "source": [
    "responses.head(3)"
   ]
  },
  {
   "cell_type": "code",
   "execution_count": null,
   "id": "117d7ed2-cc9e-441a-9dcf-baa909843a4a",
   "metadata": {},
   "outputs": [],
   "source": [
    "responses.to_csv(\"data/responses-gpt-3.5-turbo.csv\", index=False)"
   ]
  },
  {
   "cell_type": "code",
   "execution_count": 43,
   "id": "db8843f3-6983-42be-8644-b6b719f4eeaa",
   "metadata": {},
   "outputs": [
    {
     "data": {
      "text/html": [
       "<h4>question</h4>"
      ],
      "text/plain": [
       "<IPython.core.display.HTML object>"
      ]
     },
     "metadata": {},
     "output_type": "display_data"
    },
    {
     "name": "stdout",
     "output_type": "stream",
     "text": [
      "Which tools were used to assess percentage of rRNA?\n"
     ]
    },
    {
     "data": {
      "text/html": [
       "<hr/>"
      ],
      "text/plain": [
       "<IPython.core.display.HTML object>"
      ]
     },
     "metadata": {},
     "output_type": "display_data"
    },
    {
     "data": {
      "text/html": [
       "<h4>answer</h4>"
      ],
      "text/plain": [
       "<IPython.core.display.HTML object>"
      ]
     },
     "metadata": {},
     "output_type": "display_data"
    },
    {
     "name": "stdout",
     "output_type": "stream",
     "text": [
      "The tools used to assess the percentage of rRNA in the provided context are Agilent 2100 Bioanalyzer and NanoDrop 2000 spectrophotometer.\n"
     ]
    },
    {
     "data": {
      "text/html": [
       "<hr/>"
      ],
      "text/plain": [
       "<IPython.core.display.HTML object>"
      ]
     },
     "metadata": {},
     "output_type": "display_data"
    },
    {
     "data": {
      "text/html": [
       "<h4>Retrieved Context #1</h4>"
      ],
      "text/plain": [
       "<IPython.core.display.HTML object>"
      ]
     },
     "metadata": {},
     "output_type": "display_data"
    },
    {
     "name": "stdout",
     "output_type": "stream",
     "text": [
      "to include conditions used for multiple RR missions and is designed to help determine factors which may confound data analysis. To determine whether these various factors affect changes in gene expression, this ground-based study generated gene expression profiles measured by RNAseq from the livers of 20-21 week-old female C57BL/6J mice. Multiple, interacting factors were investigated:\n",
      "https://osdr.nasa.gov/bio/repo/data/studies/OSD-235/\n"
     ]
    },
    {
     "data": {
      "text/html": [
       "<hr/>"
      ],
      "text/plain": [
       "<IPython.core.display.HTML object>"
      ]
     },
     "metadata": {},
     "output_type": "display_data"
    },
    {
     "data": {
      "text/html": [
       "<h4>Retrieved Context #2</h4>"
      ],
      "text/plain": [
       "<IPython.core.display.HTML object>"
      ]
     },
     "metadata": {},
     "output_type": "display_data"
    },
    {
     "name": "stdout",
     "output_type": "stream",
     "text": [
      "1.45 percent  GLDS-120_rna_seq_Atha_Ws_root_FLT_Alight_Rep1_GSM2493780_Day13_R1_raw.fastq.gz , GLDS-120_rna_seq_Atha_Ws_root_FLT_Alight_Rep1_GSM2493780_Day13_R2_raw.fastq.gz  GLDS-120_rna_seq_raw_multiqc_report.zip  GeneLab RNAseq data processing protocol  GLDS-120_rna_seq_Atha_Ws_root_FLT_Alight_Rep1_GSM2493780_Day13_R1_trimmed.fastq.gz , GLDS-120_rna_seq_Atha_Ws_root_FLT_Alight_Rep1_GSM2493780_Day13_R2_trimmed.fastq.gz  GLDS-120_rna_seq_trimmed_multiqc_report.zip  GLDS-120_rna_seq_Atha_Ws_root_FLT_Alight_Rep1_GSM2493780_Day13_R1_raw.fastq.gz_trimming_report.txt , GLDS-120_rna_seq_Atha_Ws_root_FLT_Alight_Rep1_GSM2493780_Day13_R2_raw.fastq.gz_trimming_report.txt  GLDS-120_rna_seq_Atha_Ws_root_FLT_Alight_Rep1_GSM2493780_Day13_Aligned.sortedByCoord_sorted.out.bam , GLDS-120_rna_seq_Atha_Ws_root_FLT_Alight_Rep1_GSM2493780_Day13_Aligned.sortedByCoord_sorted.out.bam.bai , GLDS-120_rna_seq_Atha_Ws_root_FLT_Alight_Rep1_GSM2493780_Day13_Aligned.toTranscriptome.out.bam , GLDS-120_rna_seq_Atha_Ws_root_FLT_Alight_Rep1_GSM2493780_Day13_SJ.out.tab  GLDS-120_rna_seq_Atha_Ws_root_FLT_Alight_Rep1_GSM2493780_Day13_Log.final.out  GLDS-120_rna_seq_align_multiqc_report.zip  GLDS-120_rna_seq_geneBody_cov_multiqc_report.zip , GLDS-120_rna_seq_infer_exp_multiqc_report.zip , GLDS-120_rna_seq_inner_dist_multiqc_report.zip , GLDS-120_rna_seq_read_dist_multiqc_report.zip  GLDS-120_rna_seq_Atha_Ws_root_FLT_Alight_Rep1_GSM2493780_Day13.genes.results , GLDS-120_rna_seq_Atha_Ws_root_FLT_Alight_Rep1_GSM2493780_Day13.isoforms.results  GLDS-120_rna_seq_RSEM_count_multiqc_report.zip  GLDS-120_rna_seq_RSEM_Unnormalized_Counts.csv , GLDS-120_rna_seq_STAR_Unnormalized_Counts.csv  GLDS-120_rna_seq_Normalized_Counts.csv  GLDS-120_rna_seq_contrasts.csv , GLDS-120_rna_seq_differential_expression.csv , GLDS-120_rna_seq_SampleTable.csv  Atha_Ws_root_FLT_Alight_Rep2_GSM2493781_Day13  Nucleic Acid Extraction  Agilent 2100 Bioanalyzer  Atha_Ws_root_FLT_Alight_Rep2_GSM2493781_Day13  Library Construction  ribo-depletion  PAIRED  STRANDED  Nucleic Acid Sequencing  Illumina NextSeq 500\n",
      "https://osdr.nasa.gov/bio/repo/data/studies/OSD-120/\n"
     ]
    },
    {
     "data": {
      "text/html": [
       "<hr/>"
      ],
      "text/plain": [
       "<IPython.core.display.HTML object>"
      ]
     },
     "metadata": {},
     "output_type": "display_data"
    },
    {
     "data": {
      "text/html": [
       "<h4>Retrieved Context #3</h4>"
      ],
      "text/plain": [
       "<IPython.core.display.HTML object>"
      ]
     },
     "metadata": {},
     "output_type": "display_data"
    },
    {
     "name": "stdout",
     "output_type": "stream",
     "text": [
      "59.79 percent  GLDS-426_rna_seq_EU183_R1_raw.fastq.gz , GLDS-426_rna_seq_EU183_R2_raw.fastq.gz  GLDS-426_rna_seq_raw_multiqc_report.zip  GeneLab RNAseq data processing protocol  GLDS-426_rna_seq_EU183_R1_trimmed.fastq.gz , GLDS-426_rna_seq_EU183_R2_trimmed.fastq.gz  GLDS-426_rna_seq_trimmed_multiqc_report.zip  GLDS-426_rna_seq_EU183_R1_raw.fastq.gz_trimming_report.txt , GLDS-426_rna_seq_EU183_R2_raw.fastq.gz_trimming_report.txt  GLDS-426_rna_seq_EU183_Aligned.sortedByCoord_sorted.out.bam , GLDS-426_rna_seq_EU183_Aligned.sortedByCoord_sorted.out.bam.bai , GLDS-426_rna_seq_EU183_Aligned.toTranscriptome.out.bam , GLDS-426_rna_seq_EU183_SJ.out.tab  GLDS-426_rna_seq_EU183_Log.final.out  GLDS-426_rna_seq_align_multiqc_report.zip  GLDS-426_rna_seq_geneBody_cov_multiqc_report.zip , GLDS-426_rna_seq_infer_exp_multiqc_report.zip , GLDS-426_rna_seq_inner_dist_multiqc_report.zip , GLDS-426_rna_seq_read_dist_multiqc_report.zip  GLDS-426_rna_seq_EU183.genes.results , GLDS-426_rna_seq_EU183.isoforms.results  GLDS-426_rna_seq_RSEM_count_multiqc_report.zip  GLDS-426_rna_seq_RSEM_Unnormalized_Counts.csv , GLDS-426_rna_seq_STAR_Unnormalized_Counts.csv  GLDS-426_rna_seq_Normalized_Counts.csv  GLDS-426_rna_seq_SampleTable.csv , GLDS-426_rna_seq_contrasts.csv , GLDS-426_rna_seq_differential_expression.csv  EU182  Nucleic Acid Extraction  NanoDrop 2000 spectrophotometer  GSM5043440  Library Construction  polyA enrichment  PAIRED  Stranded\n",
      "https://osdr.nasa.gov/bio/repo/data/studies/OSD-426/\n"
     ]
    },
    {
     "data": {
      "text/html": [
       "<hr/>"
      ],
      "text/plain": [
       "<IPython.core.display.HTML object>"
      ]
     },
     "metadata": {},
     "output_type": "display_data"
    },
    {
     "data": {
      "text/html": [
       "<h4>Retrieved Context #4</h4>"
      ],
      "text/plain": [
       "<IPython.core.display.HTML object>"
      ]
     },
     "metadata": {},
     "output_type": "display_data"
    },
    {
     "name": "stdout",
     "output_type": "stream",
     "text": [
      "1.17 percent  GLDS-295_rna_seq_raw_multiqc_report.zip  GeneLab RNAseq data processing protocol  GLDS-295_rna_seq_Mmus_C57-6CR_SLS_6mon_HLU_Rep1_trimmed.fastq.gz  GLDS-295_rna_seq_trimmed_multiqc_report.zip  GLDS-295_rna_seq_Mmus_C57-6CR_SLS_6mon_HLU_Rep1_raw.fastq.gz_trimming_report.txt  GLDS-295_rna_seq_Mmus_C57-6CR_SLS_6mon_HLU_Rep1_Aligned.sortedByCoord_sorted.out.bam , GLDS-295_rna_seq_Mmus_C57-6CR_SLS_6mon_HLU_Rep1_Aligned.sortedByCoord_sorted.out.bam.bai , GLDS-295_rna_seq_Mmus_C57-6CR_SLS_6mon_HLU_Rep1_Aligned.toTranscriptome.out.bam , GLDS-295_rna_seq_Mmus_C57-6CR_SLS_6mon_HLU_Rep1_SJ.out.tab  GLDS-295_rna_seq_Mmus_C57-6CR_SLS_6mon_HLU_Rep1_Log.final.out  GLDS-295_rna_seq_align_multiqc_report.zip  GLDS-295_rna_seq_geneBody_cov_multiqc_report.zip, GLDS-295_rna_seq_infer_exp_multiqc_report.zip, GLDS-295_rna_seq_read_dist_multiqc_report.zip  GLDS-295_rna_seq_Mmus_C57-6CR_SLS_6mon_HLU_Rep1.genes.results , GLDS-295_rna_seq_Mmus_C57-6CR_SLS_6mon_HLU_Rep1.isoforms.results  GLDS-295_rna_seq_RSEM_count_multiqc_report.zip  GLDS-295_rna_seq_RSEM_Unnormalized_Counts.csv , GLDS-295_rna_seq_STAR_Unnormalized_Counts.csv  GLDS-295_rna_seq_Normalized_Counts.csv  GLDS-295_rna_seq_SampleTable.csv , GLDS-295_rna_seq_contrasts.csv , GLDS-295_rna_seq_differential_expression.csv  Mmus_C57-6CR_SLS_6mon_HLU_Rep2  nucleic acid extraction  Agilent Bioanalyzer  RNA Nano chip  GSM2732903\n",
      "https://osdr.nasa.gov/bio/repo/data/studies/OSD-295/\n"
     ]
    },
    {
     "data": {
      "text/html": [
       "<hr/>"
      ],
      "text/plain": [
       "<IPython.core.display.HTML object>"
      ]
     },
     "metadata": {},
     "output_type": "display_data"
    },
    {
     "data": {
      "text/html": [
       "<h4>Retrieved Context #5</h4>"
      ],
      "text/plain": [
       "<IPython.core.display.HTML object>"
      ]
     },
     "metadata": {},
     "output_type": "display_data"
    },
    {
     "name": "stdout",
     "output_type": "stream",
     "text": [
      "1.26 percent  GLDS-295_rna_seq_raw_multiqc_report.zip  GeneLab RNAseq data processing protocol  GLDS-295_rna_seq_Mmus_C57-6CR_SLS_6mon_HLU_Rep4_trimmed.fastq.gz  GLDS-295_rna_seq_trimmed_multiqc_report.zip  GLDS-295_rna_seq_Mmus_C57-6CR_SLS_6mon_HLU_Rep4_raw.fastq.gz_trimming_report.txt  GLDS-295_rna_seq_Mmus_C57-6CR_SLS_6mon_HLU_Rep4_Aligned.sortedByCoord_sorted.out.bam , GLDS-295_rna_seq_Mmus_C57-6CR_SLS_6mon_HLU_Rep4_Aligned.sortedByCoord_sorted.out.bam.bai , GLDS-295_rna_seq_Mmus_C57-6CR_SLS_6mon_HLU_Rep4_Aligned.toTranscriptome.out.bam , GLDS-295_rna_seq_Mmus_C57-6CR_SLS_6mon_HLU_Rep4_SJ.out.tab  GLDS-295_rna_seq_Mmus_C57-6CR_SLS_6mon_HLU_Rep4_Log.final.out  GLDS-295_rna_seq_align_multiqc_report.zip  GLDS-295_rna_seq_geneBody_cov_multiqc_report.zip, GLDS-295_rna_seq_infer_exp_multiqc_report.zip, GLDS-295_rna_seq_read_dist_multiqc_report.zip  GLDS-295_rna_seq_Mmus_C57-6CR_SLS_6mon_HLU_Rep4.genes.results , GLDS-295_rna_seq_Mmus_C57-6CR_SLS_6mon_HLU_Rep4.isoforms.results  GLDS-295_rna_seq_RSEM_count_multiqc_report.zip  GLDS-295_rna_seq_RSEM_Unnormalized_Counts.csv , GLDS-295_rna_seq_STAR_Unnormalized_Counts.csv  GLDS-295_rna_seq_Normalized_Counts.csv  GLDS-295_rna_seq_SampleTable.csv , GLDS-295_rna_seq_contrasts.csv , GLDS-295_rna_seq_differential_expression.csv  Mmus_C57-6CR_SLS_6mon_HLU-RL_Rep1  nucleic acid extraction  Agilent Bioanalyzer  RNA Nano chip  GSM2732906\n",
      "https://osdr.nasa.gov/bio/repo/data/studies/OSD-295/\n"
     ]
    },
    {
     "data": {
      "text/html": [
       "<hr/>"
      ],
      "text/plain": [
       "<IPython.core.display.HTML object>"
      ]
     },
     "metadata": {},
     "output_type": "display_data"
    },
    {
     "data": {
      "text/html": [
       "<h4>Retrieved Context #6</h4>"
      ],
      "text/plain": [
       "<IPython.core.display.HTML object>"
      ]
     },
     "metadata": {},
     "output_type": "display_data"
    },
    {
     "name": "stdout",
     "output_type": "stream",
     "text": [
      "1.76 percent  GLDS-295_rna_seq_raw_multiqc_report.zip  GeneLab RNAseq data processing protocol  GLDS-295_rna_seq_Mmus_C57-6CR_SLS_6mon_HLLC_Rep4_trimmed.fastq.gz  GLDS-295_rna_seq_trimmed_multiqc_report.zip  GLDS-295_rna_seq_Mmus_C57-6CR_SLS_6mon_HLLC_Rep4_raw.fastq.gz_trimming_report.txt  GLDS-295_rna_seq_Mmus_C57-6CR_SLS_6mon_HLLC_Rep4_Aligned.sortedByCoord_sorted.out.bam , GLDS-295_rna_seq_Mmus_C57-6CR_SLS_6mon_HLLC_Rep4_Aligned.sortedByCoord_sorted.out.bam.bai , GLDS-295_rna_seq_Mmus_C57-6CR_SLS_6mon_HLLC_Rep4_Aligned.toTranscriptome.out.bam , GLDS-295_rna_seq_Mmus_C57-6CR_SLS_6mon_HLLC_Rep4_SJ.out.tab  GLDS-295_rna_seq_Mmus_C57-6CR_SLS_6mon_HLLC_Rep4_Log.final.out  GLDS-295_rna_seq_align_multiqc_report.zip  GLDS-295_rna_seq_geneBody_cov_multiqc_report.zip, GLDS-295_rna_seq_infer_exp_multiqc_report.zip, GLDS-295_rna_seq_read_dist_multiqc_report.zip  GLDS-295_rna_seq_Mmus_C57-6CR_SLS_6mon_HLLC_Rep4.genes.results , GLDS-295_rna_seq_Mmus_C57-6CR_SLS_6mon_HLLC_Rep4.isoforms.results  GLDS-295_rna_seq_RSEM_count_multiqc_report.zip  GLDS-295_rna_seq_RSEM_Unnormalized_Counts.csv , GLDS-295_rna_seq_STAR_Unnormalized_Counts.csv  GLDS-295_rna_seq_Normalized_Counts.csv  GLDS-295_rna_seq_SampleTable.csv , GLDS-295_rna_seq_contrasts.csv , GLDS-295_rna_seq_differential_expression.csv  Mmus_C57-6CR_SLS_6mon_HLLC_Rep5  nucleic acid extraction  Agilent Bioanalyzer  RNA Nano chip  GSM2732897  library construction\n",
      "https://osdr.nasa.gov/bio/repo/data/studies/OSD-295/\n"
     ]
    },
    {
     "data": {
      "text/html": [
       "<hr/>"
      ],
      "text/plain": [
       "<IPython.core.display.HTML object>"
      ]
     },
     "metadata": {},
     "output_type": "display_data"
    },
    {
     "data": {
      "text/html": [
       "<h4>Retrieved Context #7</h4>"
      ],
      "text/plain": [
       "<IPython.core.display.HTML object>"
      ]
     },
     "metadata": {},
     "output_type": "display_data"
    },
    {
     "name": "stdout",
     "output_type": "stream",
     "text": [
      "Spatially resolved transcriptional profiles were generated from hearts from three flight and three ground control animals as follows. Hearts were cryosectioned longitudinally onto an array of capture probes that bind RNA, fixed, stained and visualized. Heart sections were then permeabilized to release RNA onto the capture probes, and cDNA synthesized on the chip so that its spatial arrangement is encoded within a set of molecular barcodes. cDNA was then released and sequenced. Four to five levels of each heart was analyzed in this manner to allow a 3D reconstruction of the transcriptome.\n",
      "https://osdr.nasa.gov/bio/repo/data/studies/OSD-270/\n"
     ]
    },
    {
     "data": {
      "text/html": [
       "<hr/>"
      ],
      "text/plain": [
       "<IPython.core.display.HTML object>"
      ]
     },
     "metadata": {},
     "output_type": "display_data"
    },
    {
     "data": {
      "text/html": [
       "<h4>Retrieved Context #8</h4>"
      ],
      "text/plain": [
       "<IPython.core.display.HTML object>"
      ]
     },
     "metadata": {},
     "output_type": "display_data"
    },
    {
     "name": "stdout",
     "output_type": "stream",
     "text": [
      "1.96 percent  GLDS-295_rna_seq_raw_multiqc_report.zip  GeneLab RNAseq data processing protocol  GLDS-295_rna_seq_Mmus_C57-6CR_SLS_6mon_HLLC_Rep9_trimmed.fastq.gz  GLDS-295_rna_seq_trimmed_multiqc_report.zip  GLDS-295_rna_seq_Mmus_C57-6CR_SLS_6mon_HLLC_Rep9_raw.fastq.gz_trimming_report.txt  GLDS-295_rna_seq_Mmus_C57-6CR_SLS_6mon_HLLC_Rep9_Aligned.sortedByCoord_sorted.out.bam , GLDS-295_rna_seq_Mmus_C57-6CR_SLS_6mon_HLLC_Rep9_Aligned.sortedByCoord_sorted.out.bam.bai , GLDS-295_rna_seq_Mmus_C57-6CR_SLS_6mon_HLLC_Rep9_Aligned.toTranscriptome.out.bam , GLDS-295_rna_seq_Mmus_C57-6CR_SLS_6mon_HLLC_Rep9_SJ.out.tab  GLDS-295_rna_seq_Mmus_C57-6CR_SLS_6mon_HLLC_Rep9_Log.final.out  GLDS-295_rna_seq_align_multiqc_report.zip  GLDS-295_rna_seq_geneBody_cov_multiqc_report.zip, GLDS-295_rna_seq_infer_exp_multiqc_report.zip, GLDS-295_rna_seq_read_dist_multiqc_report.zip  GLDS-295_rna_seq_Mmus_C57-6CR_SLS_6mon_HLLC_Rep9.genes.results , GLDS-295_rna_seq_Mmus_C57-6CR_SLS_6mon_HLLC_Rep9.isoforms.results  GLDS-295_rna_seq_RSEM_count_multiqc_report.zip  GLDS-295_rna_seq_RSEM_Unnormalized_Counts.csv , GLDS-295_rna_seq_STAR_Unnormalized_Counts.csv  GLDS-295_rna_seq_Normalized_Counts.csv  GLDS-295_rna_seq_SampleTable.csv , GLDS-295_rna_seq_contrasts.csv , GLDS-295_rna_seq_differential_expression.csv  Mmus_C57-6CR_SLS_6mon_HLU_Rep1  nucleic acid extraction  Agilent Bioanalyzer  RNA Nano chip  GSM2732902  library construction\n",
      "https://osdr.nasa.gov/bio/repo/data/studies/OSD-295/\n"
     ]
    },
    {
     "data": {
      "text/html": [
       "<hr/>"
      ],
      "text/plain": [
       "<IPython.core.display.HTML object>"
      ]
     },
     "metadata": {},
     "output_type": "display_data"
    },
    {
     "data": {
      "text/html": [
       "<h4>Retrieved Context #9</h4>"
      ],
      "text/plain": [
       "<IPython.core.display.HTML object>"
      ]
     },
     "metadata": {},
     "output_type": "display_data"
    },
    {
     "name": "stdout",
     "output_type": "stream",
     "text": [
      "1.65 percent  GLDS-295_rna_seq_raw_multiqc_report.zip  GeneLab RNAseq data processing protocol  GLDS-295_rna_seq_Mmus_C57-6CR_SLS_6mon_HLLC_Rep3_trimmed.fastq.gz  GLDS-295_rna_seq_trimmed_multiqc_report.zip  GLDS-295_rna_seq_Mmus_C57-6CR_SLS_6mon_HLLC_Rep3_raw.fastq.gz_trimming_report.txt  GLDS-295_rna_seq_Mmus_C57-6CR_SLS_6mon_HLLC_Rep3_Aligned.sortedByCoord_sorted.out.bam , GLDS-295_rna_seq_Mmus_C57-6CR_SLS_6mon_HLLC_Rep3_Aligned.sortedByCoord_sorted.out.bam.bai , GLDS-295_rna_seq_Mmus_C57-6CR_SLS_6mon_HLLC_Rep3_Aligned.toTranscriptome.out.bam , GLDS-295_rna_seq_Mmus_C57-6CR_SLS_6mon_HLLC_Rep3_SJ.out.tab  GLDS-295_rna_seq_Mmus_C57-6CR_SLS_6mon_HLLC_Rep3_Log.final.out  GLDS-295_rna_seq_align_multiqc_report.zip  GLDS-295_rna_seq_geneBody_cov_multiqc_report.zip, GLDS-295_rna_seq_infer_exp_multiqc_report.zip, GLDS-295_rna_seq_read_dist_multiqc_report.zip  GLDS-295_rna_seq_Mmus_C57-6CR_SLS_6mon_HLLC_Rep3.genes.results , GLDS-295_rna_seq_Mmus_C57-6CR_SLS_6mon_HLLC_Rep3.isoforms.results  GLDS-295_rna_seq_RSEM_count_multiqc_report.zip  GLDS-295_rna_seq_RSEM_Unnormalized_Counts.csv , GLDS-295_rna_seq_STAR_Unnormalized_Counts.csv  GLDS-295_rna_seq_Normalized_Counts.csv  GLDS-295_rna_seq_SampleTable.csv , GLDS-295_rna_seq_contrasts.csv , GLDS-295_rna_seq_differential_expression.csv  Mmus_C57-6CR_SLS_6mon_HLLC_Rep4  nucleic acid extraction  Agilent Bioanalyzer  RNA Nano chip  GSM2732896  library construction\n",
      "https://osdr.nasa.gov/bio/repo/data/studies/OSD-295/\n"
     ]
    },
    {
     "data": {
      "text/html": [
       "<hr/>"
      ],
      "text/plain": [
       "<IPython.core.display.HTML object>"
      ]
     },
     "metadata": {},
     "output_type": "display_data"
    },
    {
     "data": {
      "text/html": [
       "<h4>Retrieved Context #10</h4>"
      ],
      "text/plain": [
       "<IPython.core.display.HTML object>"
      ]
     },
     "metadata": {},
     "output_type": "display_data"
    },
    {
     "name": "stdout",
     "output_type": "stream",
     "text": [
      "2.69 percent  GLDS-295_rna_seq_raw_multiqc_report.zip  GeneLab RNAseq data processing protocol  GLDS-295_rna_seq_Mmus_C57-6CR_SLS_6mon_HLLC_Rep8_trimmed.fastq.gz  GLDS-295_rna_seq_trimmed_multiqc_report.zip  GLDS-295_rna_seq_Mmus_C57-6CR_SLS_6mon_HLLC_Rep8_raw.fastq.gz_trimming_report.txt  GLDS-295_rna_seq_Mmus_C57-6CR_SLS_6mon_HLLC_Rep8_Aligned.sortedByCoord_sorted.out.bam , GLDS-295_rna_seq_Mmus_C57-6CR_SLS_6mon_HLLC_Rep8_Aligned.sortedByCoord_sorted.out.bam.bai , GLDS-295_rna_seq_Mmus_C57-6CR_SLS_6mon_HLLC_Rep8_Aligned.toTranscriptome.out.bam , GLDS-295_rna_seq_Mmus_C57-6CR_SLS_6mon_HLLC_Rep8_SJ.out.tab  GLDS-295_rna_seq_Mmus_C57-6CR_SLS_6mon_HLLC_Rep8_Log.final.out  GLDS-295_rna_seq_align_multiqc_report.zip  GLDS-295_rna_seq_geneBody_cov_multiqc_report.zip, GLDS-295_rna_seq_infer_exp_multiqc_report.zip, GLDS-295_rna_seq_read_dist_multiqc_report.zip  GLDS-295_rna_seq_Mmus_C57-6CR_SLS_6mon_HLLC_Rep8.genes.results , GLDS-295_rna_seq_Mmus_C57-6CR_SLS_6mon_HLLC_Rep8.isoforms.results  GLDS-295_rna_seq_RSEM_count_multiqc_report.zip  GLDS-295_rna_seq_RSEM_Unnormalized_Counts.csv , GLDS-295_rna_seq_STAR_Unnormalized_Counts.csv  GLDS-295_rna_seq_Normalized_Counts.csv  GLDS-295_rna_seq_SampleTable.csv , GLDS-295_rna_seq_contrasts.csv , GLDS-295_rna_seq_differential_expression.csv  Mmus_C57-6CR_SLS_6mon_HLLC_Rep9  nucleic acid extraction  Agilent Bioanalyzer  RNA Nano chip  GSM2732901  library construction\n",
      "https://osdr.nasa.gov/bio/repo/data/studies/OSD-295/\n"
     ]
    },
    {
     "data": {
      "text/html": [
       "<hr/>"
      ],
      "text/plain": [
       "<IPython.core.display.HTML object>"
      ]
     },
     "metadata": {},
     "output_type": "display_data"
    }
   ],
   "source": [
    "sample_row = responses.sample(1)\n",
    "FlowRunner.display_result(sample_row.result.iloc[0], sample_row.question.iloc[0])"
   ]
  },
  {
   "cell_type": "markdown",
   "id": "9cf2f1ae-33da-4a54-9019-27bcf2c2931b",
   "metadata": {},
   "source": [
    "# Evaluation\n",
    "\n",
    "Here, we evaluate the generated responses. We primarily follow two modes of evaluation:\n",
    "\n",
    "- I. Evaluation of **retrieved contexts** (recall)\n",
    "\n",
    "    How good/accurate are the retrieved contexts based on the input query?\n",
    "\n",
    "- II. Evaluation of **generated answers** (different evaluation metrics)\n",
    "\n",
    "    How good/accurate are the generated answers?"
   ]
  },
  {
   "cell_type": "code",
   "execution_count": 61,
   "id": "bc002b54-2f36-479a-ac20-bf88aa718472",
   "metadata": {},
   "outputs": [],
   "source": [
    "from evalem.nlp.metrics import (\n",
    "    BertScore,\n",
    "    ExactMatchMetric,\n",
    "    MeteorMetric,\n",
    "    RougeMetric,\n",
    ")\n",
    "from evalem import Evaluator\n",
    "from evalem._base.structures import MetricResult"
   ]
  },
  {
   "cell_type": "code",
   "execution_count": 62,
   "id": "0eca9b67-d8cf-4bff-a387-23301253d279",
   "metadata": {},
   "outputs": [],
   "source": [
    "from nltk.corpus import stopwords\n",
    "from nltk.tokenize import word_tokenize\n",
    "from rake_nltk import Rake"
   ]
  },
  {
   "cell_type": "code",
   "execution_count": 144,
   "id": "76b8d635-d6b1-4ee7-8254-166f0639396a",
   "metadata": {},
   "outputs": [
    {
     "name": "stderr",
     "output_type": "stream",
     "text": [
      "[nltk_data] Downloading package stopwords to\n",
      "[nltk_data]     /Users/npantha/nltk_data...\n",
      "[nltk_data]   Package stopwords is already up-to-date!\n"
     ]
    },
    {
     "data": {
      "text/plain": [
       "True"
      ]
     },
     "execution_count": 144,
     "metadata": {},
     "output_type": "execute_result"
    }
   ],
   "source": [
    "import nltk\n",
    "nltk.download(\"stopwords\")"
   ]
  },
  {
   "cell_type": "markdown",
   "id": "8670d2d4-06c6-441d-8195-22ad35ccebd6",
   "metadata": {},
   "source": [
    "## Retrieval Evaluation"
   ]
  },
  {
   "cell_type": "markdown",
   "id": "69cf023c-9bc4-4575-846e-994f4de625e4",
   "metadata": {},
   "source": [
    "### Keyword-based evaluation\n",
    "\n",
    "We compute the recall of retrieved contexts based on the overlapping of keywords between the\n",
    "actual context (ground truth context) and the retrieved context."
   ]
  },
  {
   "cell_type": "code",
   "execution_count": 63,
   "id": "f78219bc-28aa-4ece-83b1-b72d110c52a0",
   "metadata": {},
   "outputs": [],
   "source": [
    "def extract_keywords(text, top_k: int = 10):\n",
    "    text = preprocess_text(text, top_k)\n",
    "    text = text.lower()\n",
    "    stop_words = set(stopwords.words('english'))\n",
    "    words = word_tokenize(text)\n",
    "    keywords = [word.lower() for word in words if word.isalpha() and word.lower() not in stop_words]\n",
    "    return set(keywords)\n",
    "\n",
    "def preprocess_text(text, top_k=10):\n",
    "    text = text.lower()\n",
    "    r = Rake()\n",
    "    r.extract_keywords_from_text(text)\n",
    "    return \" \".join(set(r.get_ranked_phrases()[:top_k]))\n",
    "\n",
    "def compute_recall_kws(\n",
    "    reference: str,\n",
    "    retrieved_values: List[str],\n",
    "    top_k: int = 1,\n",
    "    top_k_kws: int = 10,\n",
    "    threshold:float = 0.5,\n",
    "    debug: bool = False,\n",
    ") -> float:\n",
    "    ref_keywords = extract_keywords(reference, top_k_kws)\n",
    "    relevant_items = 0\n",
    "\n",
    "    recall = 0.0\n",
    "\n",
    "    if debug:\n",
    "        print(f\">>>>> reference = {reference}\")\n",
    "        print(f\">>>>> reference keywords = {ref_keywords} | {len(ref_keywords)}\")\n",
    "    for idx, value in enumerate(retrieved_values, start=1):\n",
    "        keywords = extract_keywords(value, top_k=top_k_kws)\n",
    "        overlap = len(ref_keywords.intersection(keywords))\n",
    "        score = overlap/len(ref_keywords)\n",
    "        if debug:\n",
    "            print(f\">>>>> retrieved = {value}\")\n",
    "            print(f\">>>>> retrieved kws = {keywords}\")\n",
    "            print(f\">>>>> overlap = {overlap}\")\n",
    "            print(f\">>>> score = {score}\")\n",
    "\n",
    "        if score >= threshold:\n",
    "            recall = 1.0\n",
    "        if idx >= top_k:\n",
    "            break\n",
    "    return recall\n",
    "\n",
    "def evaluate_contexts_keywords(\n",
    "    response: pd.DataFrame,\n",
    "    threshold=0.5,\n",
    "    top_k:int = 1,\n",
    "    top_k_kws: int = 10,\n",
    "    debug:bool=False\n",
    ") -> pd.DataFrame:\n",
    "    if \"question\" not in response and \"prediction\" not in response and \"reference\" not in response:\n",
    "        response = simplify_response(response)\n",
    "\n",
    "    response = response[response.retrieved_contexts.str.len() != 0]\n",
    "\n",
    "    results = []\n",
    "    for row in response.itertuples():\n",
    "        context = row.context\n",
    "        retrieved_contexts = row.retrieved_contexts\n",
    "        retrieved_contexts = list(map(lambda x: x[\"page_content\"], retrieved_contexts))\n",
    "        recall = compute_recall_kws(\n",
    "            context,\n",
    "            retrieved_contexts,\n",
    "            threshold=threshold,\n",
    "            top_k=top_k,\n",
    "            top_k_kws=top_k_kws,\n",
    "            debug=debug\n",
    "        )\n",
    "        results.append(dict(\n",
    "            context=context,\n",
    "            question=row.question,\n",
    "            answer=row.reference,\n",
    "            prediction=row.prediction,\n",
    "            retrieved_contexts=retrieved_contexts,\n",
    "            recall=recall\n",
    "        ))\n",
    "    return pd.DataFrame(results)"
   ]
  },
  {
   "cell_type": "code",
   "execution_count": 84,
   "id": "7536ad44-3eaa-4e0b-9141-4c1e9320ece1",
   "metadata": {},
   "outputs": [],
   "source": [
    "def batch_evaluate_contexts_keywords(\n",
    "    response: pd.DataFrame,\n",
    "):\n",
    "    final_df = []\n",
    "    for threshold in [0.25, 0.3, 0.35, 0.4, 0.45, 0.5]:\n",
    "        for top_k in range(1, 10):\n",
    "            for top_k_kws in [25, 50]:\n",
    "                result = evaluate_contexts_keywords(\n",
    "                    response,\n",
    "                    threshold=threshold,\n",
    "                    top_k=top_k,\n",
    "                    top_k_kws=top_k_kws,\n",
    "                    debug=False\n",
    "                )\n",
    "                fname = f\"data/evals/retrieval/keywords/eval-context-keywords-{threshold}-{top_k}-{top_k_kws}.csv\"\n",
    "                logger.debug(f\"Dumping eval to {fname}\")\n",
    "                result.to_csv(fname, index=False)\n",
    "\n",
    "def load_retrieval_eval_keywords(\n",
    "    directory: str,\n",
    "    pattern: Optional[str] = None\n",
    ") -> pd.DataFrame:\n",
    "    \n",
    "    if pattern is None:\n",
    "        pattern = \"eval-context-keywords-([0-9.]+)-([0-9]+)-([0-9.]+).csv\"\n",
    "    \n",
    "    dfs = []\n",
    "    search_path = f\"{directory}/eval-context-keywords*.csv\"\n",
    "    for path in glob.glob(search_path):\n",
    "        df = pd.read_csv(path)\n",
    "        match = re.search(pattern, path)\n",
    "        if match:\n",
    "            df[\"threshold\"] = float(match.group(1))\n",
    "            df[\"top_k\"] = int(match.group(2))\n",
    "            df[\"top_k_kws\"] = int(match.group(3))\n",
    "        dfs.append(df)\n",
    "    return pd.concat(dfs, axis=0)"
   ]
  },
  {
   "cell_type": "code",
   "execution_count": 121,
   "id": "26ba0221-f7f5-412e-ad77-4023dbcd2f49",
   "metadata": {},
   "outputs": [],
   "source": [
    "def plot_mean_recall_kws(df):\n",
    "    df = df.copy()\n",
    "    df['top_k'] = pd.to_numeric(df['top_k'], errors='coerce')\n",
    "    df['threshold'] = pd.to_numeric(df['threshold'], errors='coerce')\n",
    "    df['recall'] = pd.to_numeric(df['recall'], errors='coerce')\n",
    "    df['top_k_kws'] = pd.to_numeric(df['top_k_kws'], errors='coerce')\n",
    "\n",
    "    df_mean_recall = df.groupby(['threshold', 'top_k', 'top_k_kws'])['recall'].mean().reset_index()\n",
    "\n",
    "    # mean recall vs. top_k with lines for each threshold\n",
    "    plt.figure(figsize=(12, 6))\n",
    "    sns.lineplot(data=df_mean_recall, x='top_k', y='recall', hue='threshold', marker='o', palette='husl')\n",
    "    plt.title('Mean Recall by Top K Retrieved Contexts (colored by Threshold)')\n",
    "    plt.xlabel('Top K')\n",
    "    plt.ylabel('Mean Recall')\n",
    "    plt.legend(title='Threshold')\n",
    "    plt.show()\n",
    "\n",
    "    # mean recall vs. threshold with lines for each top_k_kws\n",
    "    plt.figure(figsize=(12, 6))\n",
    "    sns.lineplot(data=df_mean_recall, x='threshold', y='recall', hue='top_k_kws', marker='o', palette='vlag')\n",
    "    plt.title('Mean Recall by Threshold (colored by Top K Keywords)')\n",
    "    plt.xlabel('Threshold')\n",
    "    plt.ylabel('Mean Recall')\n",
    "    plt.legend(title='Top K Keywords')\n",
    "    plt.show()\n",
    "\n",
    "    # # mean recall vs. top_k_kws with lines for each top_k\n",
    "    # plt.figure(figsize=(12, 6))\n",
    "    # sns.lineplot(data=df_mean_recall, x='top_k_kws', y='recall', hue='top_k', marker='o', palette='husl')\n",
    "    # plt.title('Mean Recall by Top K Keywords (colored by Top K)')\n",
    "    # plt.xlabel('Top K Keywords')\n",
    "    # plt.ylabel('Mean Recall')\n",
    "    # plt.legend(title='Top K')\n",
    "    # plt.show()\n",
    "\n",
    "def plot_recall_df(df):\n",
    "    df = df.copy()\n",
    "    plt.figure(figsize=(10, 6))\n",
    "    for threshold in df[\"threshold\"].unique():\n",
    "        subset = df[df[\"threshold\"] == threshold]\n",
    "        if \"mean_recall\" in subset:\n",
    "            plt.plot(subset[\"top_k\"], subset[\"mean_recall\"], marker='o', label=f'Threshold {threshold}')\n",
    "        else:\n",
    "            plt.plot(subset[\"top_k\"], subset[\"recall\"], marker='o', label=f'Threshold {threshold}')\n",
    "    \n",
    "    plt.title('Mean Recall by Top K and Threshold')\n",
    "    plt.xlabel('Top K')\n",
    "    plt.ylabel('Mean Recall')\n",
    "    plt.legend()\n",
    "    plt.grid(True)\n",
    "    plt.show()"
   ]
  },
  {
   "cell_type": "code",
   "execution_count": 122,
   "id": "a6221d61-b051-441a-8bf1-95476cc48377",
   "metadata": {},
   "outputs": [
    {
     "data": {
      "text/html": [
       "<div>\n",
       "<style scoped>\n",
       "    .dataframe tbody tr th:only-of-type {\n",
       "        vertical-align: middle;\n",
       "    }\n",
       "\n",
       "    .dataframe tbody tr th {\n",
       "        vertical-align: top;\n",
       "    }\n",
       "\n",
       "    .dataframe thead th {\n",
       "        text-align: right;\n",
       "    }\n",
       "</style>\n",
       "<table border=\"1\" class=\"dataframe\">\n",
       "  <thead>\n",
       "    <tr style=\"text-align: right;\">\n",
       "      <th></th>\n",
       "      <th>context</th>\n",
       "      <th>question</th>\n",
       "      <th>answer</th>\n",
       "      <th>prediction</th>\n",
       "      <th>retrieved_contexts</th>\n",
       "      <th>recall</th>\n",
       "      <th>threshold</th>\n",
       "      <th>top_k</th>\n",
       "      <th>top_k_kws</th>\n",
       "    </tr>\n",
       "  </thead>\n",
       "  <tbody>\n",
       "    <tr>\n",
       "      <th>0</th>\n",
       "      <td>Genome-wide transcriptional profiling showed t...</td>\n",
       "      <td>Where were the gene expression alterations in ...</td>\n",
       "      <td>reducing gravity levels in the International S...</td>\n",
       "      <td>The gene expression alterations in Drosophila ...</td>\n",
       "      <td>['26-Jun-2013  notifications share  GeneLab ID...</td>\n",
       "      <td>1.0</td>\n",
       "      <td>0.25</td>\n",
       "      <td>6</td>\n",
       "      <td>25</td>\n",
       "    </tr>\n",
       "    <tr>\n",
       "      <th>1</th>\n",
       "      <td>Genome-wide transcriptional profiling showed t...</td>\n",
       "      <td>What kind of experiments showed differential r...</td>\n",
       "      <td>simulation experiments on ground testing space...</td>\n",
       "      <td>Experiments involving reducing gravity levels ...</td>\n",
       "      <td>['26-Jun-2013  notifications share  GeneLab ID...</td>\n",
       "      <td>1.0</td>\n",
       "      <td>0.25</td>\n",
       "      <td>6</td>\n",
       "      <td>25</td>\n",
       "    </tr>\n",
       "    <tr>\n",
       "      <th>2</th>\n",
       "      <td>Genome-wide transcriptional profiling showed t...</td>\n",
       "      <td>What is overrepresented in the different exper...</td>\n",
       "      <td>the same GO groups including a large multigene...</td>\n",
       "      <td>The same GO groups, including a large multigen...</td>\n",
       "      <td>['Curiously, although &lt;b&gt;particular&lt;/b&gt; &lt;b&gt;gen...</td>\n",
       "      <td>1.0</td>\n",
       "      <td>0.25</td>\n",
       "      <td>6</td>\n",
       "      <td>25</td>\n",
       "    </tr>\n",
       "    <tr>\n",
       "      <th>3</th>\n",
       "      <td>Genome-wide transcriptional profiling showed t...</td>\n",
       "      <td>What are the implications of the findings in t...</td>\n",
       "      <td>The findings indicate that the finely adjusted...</td>\n",
       "      <td>The findings suggest that the transcriptome is...</td>\n",
       "      <td>['These results suggest that, in addition to b...</td>\n",
       "      <td>1.0</td>\n",
       "      <td>0.25</td>\n",
       "      <td>6</td>\n",
       "      <td>25</td>\n",
       "    </tr>\n",
       "    <tr>\n",
       "      <th>4</th>\n",
       "      <td>The objective of the Rodent Research-5 (RR-5) ...</td>\n",
       "      <td>What was the main goal of the Rodent Research-...</td>\n",
       "      <td>to evaluate bone loss in mice during spaceflig...</td>\n",
       "      <td>The main goal of the Rodent Research-5 (RR-5) ...</td>\n",
       "      <td>['12-Aug-2019  notifications share  GeneLab ID...</td>\n",
       "      <td>1.0</td>\n",
       "      <td>0.25</td>\n",
       "      <td>6</td>\n",
       "      <td>25</td>\n",
       "    </tr>\n",
       "  </tbody>\n",
       "</table>\n",
       "</div>"
      ],
      "text/plain": [
       "                                             context  \\\n",
       "0  Genome-wide transcriptional profiling showed t...   \n",
       "1  Genome-wide transcriptional profiling showed t...   \n",
       "2  Genome-wide transcriptional profiling showed t...   \n",
       "3  Genome-wide transcriptional profiling showed t...   \n",
       "4  The objective of the Rodent Research-5 (RR-5) ...   \n",
       "\n",
       "                                            question  \\\n",
       "0  Where were the gene expression alterations in ...   \n",
       "1  What kind of experiments showed differential r...   \n",
       "2  What is overrepresented in the different exper...   \n",
       "3  What are the implications of the findings in t...   \n",
       "4  What was the main goal of the Rodent Research-...   \n",
       "\n",
       "                                              answer  \\\n",
       "0  reducing gravity levels in the International S...   \n",
       "1  simulation experiments on ground testing space...   \n",
       "2  the same GO groups including a large multigene...   \n",
       "3  The findings indicate that the finely adjusted...   \n",
       "4  to evaluate bone loss in mice during spaceflig...   \n",
       "\n",
       "                                          prediction  \\\n",
       "0  The gene expression alterations in Drosophila ...   \n",
       "1  Experiments involving reducing gravity levels ...   \n",
       "2  The same GO groups, including a large multigen...   \n",
       "3  The findings suggest that the transcriptome is...   \n",
       "4  The main goal of the Rodent Research-5 (RR-5) ...   \n",
       "\n",
       "                                  retrieved_contexts  recall  threshold  \\\n",
       "0  ['26-Jun-2013  notifications share  GeneLab ID...     1.0       0.25   \n",
       "1  ['26-Jun-2013  notifications share  GeneLab ID...     1.0       0.25   \n",
       "2  ['Curiously, although <b>particular</b> <b>gen...     1.0       0.25   \n",
       "3  ['These results suggest that, in addition to b...     1.0       0.25   \n",
       "4  ['12-Aug-2019  notifications share  GeneLab ID...     1.0       0.25   \n",
       "\n",
       "   top_k  top_k_kws  \n",
       "0      6         25  \n",
       "1      6         25  \n",
       "2      6         25  \n",
       "3      6         25  \n",
       "4      6         25  "
      ]
     },
     "execution_count": 122,
     "metadata": {},
     "output_type": "execute_result"
    }
   ],
   "source": [
    "eval_retrieval_kws = load_retrieval_eval_keywords(directory=\"data/evals/retrieval/keywords/\")\n",
    "eval_retrieval_kws.head()"
   ]
  },
  {
   "cell_type": "code",
   "execution_count": 123,
   "id": "6142066a-3fa1-4a42-a1a1-15c2cb5a8c84",
   "metadata": {},
   "outputs": [
    {
     "data": {
      "text/plain": [
       "(30996, 9)"
      ]
     },
     "execution_count": 123,
     "metadata": {},
     "output_type": "execute_result"
    }
   ],
   "source": [
    "eval_retrieval_kws.shape"
   ]
  },
  {
   "cell_type": "code",
   "execution_count": 124,
   "id": "045aca37-d2d4-4096-bdcc-80cf2afff7d5",
   "metadata": {},
   "outputs": [
    {
     "data": {
      "text/html": [
       "<div>\n",
       "<style scoped>\n",
       "    .dataframe tbody tr th:only-of-type {\n",
       "        vertical-align: middle;\n",
       "    }\n",
       "\n",
       "    .dataframe tbody tr th {\n",
       "        vertical-align: top;\n",
       "    }\n",
       "\n",
       "    .dataframe thead th {\n",
       "        text-align: right;\n",
       "    }\n",
       "</style>\n",
       "<table border=\"1\" class=\"dataframe\">\n",
       "  <thead>\n",
       "    <tr style=\"text-align: right;\">\n",
       "      <th></th>\n",
       "      <th>recall</th>\n",
       "      <th>threshold</th>\n",
       "      <th>top_k</th>\n",
       "      <th>top_k_kws</th>\n",
       "    </tr>\n",
       "  </thead>\n",
       "  <tbody>\n",
       "    <tr>\n",
       "      <th>count</th>\n",
       "      <td>30996.000000</td>\n",
       "      <td>30996.000000</td>\n",
       "      <td>30996.000000</td>\n",
       "      <td>30996.000000</td>\n",
       "    </tr>\n",
       "    <tr>\n",
       "      <th>mean</th>\n",
       "      <td>0.359595</td>\n",
       "      <td>0.375000</td>\n",
       "      <td>5.000000</td>\n",
       "      <td>37.500000</td>\n",
       "    </tr>\n",
       "    <tr>\n",
       "      <th>std</th>\n",
       "      <td>0.479889</td>\n",
       "      <td>0.085393</td>\n",
       "      <td>2.582031</td>\n",
       "      <td>12.500202</td>\n",
       "    </tr>\n",
       "    <tr>\n",
       "      <th>min</th>\n",
       "      <td>0.000000</td>\n",
       "      <td>0.250000</td>\n",
       "      <td>1.000000</td>\n",
       "      <td>25.000000</td>\n",
       "    </tr>\n",
       "    <tr>\n",
       "      <th>25%</th>\n",
       "      <td>0.000000</td>\n",
       "      <td>0.300000</td>\n",
       "      <td>3.000000</td>\n",
       "      <td>25.000000</td>\n",
       "    </tr>\n",
       "    <tr>\n",
       "      <th>50%</th>\n",
       "      <td>0.000000</td>\n",
       "      <td>0.375000</td>\n",
       "      <td>5.000000</td>\n",
       "      <td>37.500000</td>\n",
       "    </tr>\n",
       "    <tr>\n",
       "      <th>75%</th>\n",
       "      <td>1.000000</td>\n",
       "      <td>0.450000</td>\n",
       "      <td>7.000000</td>\n",
       "      <td>50.000000</td>\n",
       "    </tr>\n",
       "    <tr>\n",
       "      <th>max</th>\n",
       "      <td>1.000000</td>\n",
       "      <td>0.500000</td>\n",
       "      <td>9.000000</td>\n",
       "      <td>50.000000</td>\n",
       "    </tr>\n",
       "  </tbody>\n",
       "</table>\n",
       "</div>"
      ],
      "text/plain": [
       "             recall     threshold         top_k     top_k_kws\n",
       "count  30996.000000  30996.000000  30996.000000  30996.000000\n",
       "mean       0.359595      0.375000      5.000000     37.500000\n",
       "std        0.479889      0.085393      2.582031     12.500202\n",
       "min        0.000000      0.250000      1.000000     25.000000\n",
       "25%        0.000000      0.300000      3.000000     25.000000\n",
       "50%        0.000000      0.375000      5.000000     37.500000\n",
       "75%        1.000000      0.450000      7.000000     50.000000\n",
       "max        1.000000      0.500000      9.000000     50.000000"
      ]
     },
     "execution_count": 124,
     "metadata": {},
     "output_type": "execute_result"
    }
   ],
   "source": [
    "eval_retrieval_kws.describe()"
   ]
  },
  {
   "cell_type": "code",
   "execution_count": 125,
   "id": "d39fd2a8-be95-490e-9475-a99cfa696fd3",
   "metadata": {},
   "outputs": [
    {
     "data": {
      "image/png": "[encoded data removed]",
      "text/plain": [
       "<Figure size 1200x600 with 1 Axes>"
      ]
     },
     "metadata": {},
     "output_type": "display_data"
    },
    {
     "data": {
      "image/png": "[encoded data removed]",
      "text/plain": [
       "<Figure size 1200x600 with 1 Axes>"
      ]
     },
     "metadata": {},
     "output_type": "display_data"
    }
   ],
   "source": [
    "plot_mean_recall_kws(eval_retrieval_kws)"
   ]
  },
  {
   "cell_type": "markdown",
   "id": "f3bad7a6-b60b-43f9-afe8-fd754f370be7",
   "metadata": {},
   "source": [
    "### Semantic Retrieval Evaluation"
   ]
  },
  {
   "cell_type": "code",
   "execution_count": 145,
   "id": "e0bdca06-0871-454b-9244-35c2ec736c72",
   "metadata": {},
   "outputs": [],
   "source": [
    "BERT_SCORE = BertScore(per_instance_score=True, device=\"mps\")"
   ]
  },
  {
   "cell_type": "code",
   "execution_count": 146,
   "id": "525a9ba4-d02e-4e92-8cd3-cea549b03d3c",
   "metadata": {},
   "outputs": [],
   "source": [
    "def compute_recall_semantic(\n",
    "    reference: str,\n",
    "    retrieved_values: List[str],\n",
    "    top_k: int = 1,\n",
    "    top_k_kws: int = 10,\n",
    "    threshold:float = 0.5,\n",
    "    debug: bool = False,\n",
    ") -> float:\n",
    "    \n",
    "    recall = 0.0\n",
    "\n",
    "    retrieved_values = retrieved_values[:top_k]\n",
    "    references = [reference] * len(retrieved_values)\n",
    "    predictions = retrieved_values.copy()\n",
    "    result = BERT_SCORE(references=references, predictions=predictions)\n",
    "    max_score = max(result.extra[\"bertscore\"][\"recall\"])\n",
    "    \n",
    "    return float(max_score >= threshold), max_score\n",
    "\n",
    "def evaluate_contexts_semantic(\n",
    "    response: pd.DataFrame,\n",
    "    threshold=0.5,\n",
    "    top_k:int = 1,\n",
    "    top_k_kws: int = 10,\n",
    "    debug:bool=False\n",
    ") -> pd.DataFrame:\n",
    "    if \"question\" not in response and \"prediction\" not in response and \"reference\" not in response:\n",
    "        response = simplify_response(response)\n",
    "\n",
    "    response = response[response.retrieved_contexts.str.len() != 0]\n",
    "\n",
    "    results = []\n",
    "    for row in response.itertuples():\n",
    "        context = row.context\n",
    "        retrieved_contexts = row.retrieved_contexts\n",
    "        retrieved_contexts = list(map(lambda x: x[\"page_content\"], retrieved_contexts))\n",
    "        recall, score = compute_recall_semantic(\n",
    "            context,\n",
    "            retrieved_contexts,\n",
    "            threshold=threshold,\n",
    "            top_k=top_k,\n",
    "            top_k_kws=top_k_kws,\n",
    "            debug=debug\n",
    "        )\n",
    "        if debug:\n",
    "            print(recall, score)\n",
    "        results.append(dict(\n",
    "            context=context,\n",
    "            question=row.question,\n",
    "            answer=row.reference,\n",
    "            prediction=row.prediction,\n",
    "            retrieved_contexts=retrieved_contexts,\n",
    "            recall=recall,\n",
    "            score=score,\n",
    "        ))\n",
    "    return pd.DataFrame(results)"
   ]
  },
  {
   "cell_type": "code",
   "execution_count": 147,
   "id": "d550373d-7d7f-4637-aac1-f21aa33b82d5",
   "metadata": {},
   "outputs": [],
   "source": [
    "def batch_eval_semantic_v2(response):\n",
    "    thresholds = [0.5, 0.65]\n",
    "    top_k_vals = [1, 5, 10]\n",
    "    for threshold in thresholds:\n",
    "        for top_k in top_k_vals:\n",
    "            logger.debug(f\"Evaluating for threshold={threshold}, top_k={top_k}\")\n",
    "            result = evaluate_contexts_semantic_v2(\n",
    "                response,\n",
    "                threshold=threshold,\n",
    "                top_k=top_k, \n",
    "                top_k_kws=50,\n",
    "                debug=False)\n",
    "            fname = f\"data/eval-context-bertscore-{threshold}-{top_k}.csv\"\n",
    "            logger.debug(f\"Dumping eval to {fname}\")\n",
    "            result.to_csv(fname, index=False)\n",
    "\n",
    "def load_context_eval_semantic() -> pd.DataFrame:\n",
    "    dfs = []\n",
    "    pattern = \"eval-context-bertscore-([0-9.]+)-([0-9]+).csv\"\n",
    "    for path in glob.glob(\"data/evals/retrieval/bertscore/eval-context-bertscore*.csv\"):\n",
    "        df = pd.read_csv(path)\n",
    "        match = re.search(pattern, path)\n",
    "        if match:\n",
    "            df[\"threshold\"] = float(match.group(1))\n",
    "            df[\"top_k\"] = int(match.group(2))\n",
    "        dfs.append(df)\n",
    "    return pd.concat(dfs, axis=0)"
   ]
  },
  {
   "cell_type": "code",
   "execution_count": 157,
   "id": "8f24d738-5d55-41c3-abee-d7a9b3ead510",
   "metadata": {},
   "outputs": [],
   "source": [
    "def plot_mean_recall_semantic(df):\n",
    "    df = df.copy()\n",
    "    df['top_k'] = pd.to_numeric(df['top_k'], errors='coerce')\n",
    "    df['threshold'] = pd.to_numeric(df['threshold'], errors='coerce')\n",
    "    df['recall'] = pd.to_numeric(df['recall'], errors='coerce')\n",
    "    # df['top_k_kws'] = pd.to_numeric(df['top_k_kws'], errors='coerce')\n",
    "\n",
    "    df_mean_recall = df.groupby(['threshold', 'top_k'])['recall'].mean().reset_index()\n",
    "\n",
    "    # mean recall vs. top_k with lines for each threshold\n",
    "    plt.figure(figsize=(12, 6))\n",
    "    sns.lineplot(data=df_mean_recall, x='top_k', y='recall', hue='threshold', marker='o', palette='hls')\n",
    "    plt.title('Mean Recall by Top K (colored by Threshold)')\n",
    "    plt.xlabel('Top K')\n",
    "    plt.ylabel('Mean Recall')\n",
    "    plt.legend(title='Threshold')\n",
    "    plt.show()\n",
    "\n",
    "    # mean recall vs threshold per top_k\n",
    "    plt.figure(figsize=(12, 6))\n",
    "    sns.lineplot(data=df_mean_recall, x='threshold', y='recall', hue='top_k', marker='o', palette='husl')\n",
    "    plt.title('Mean Recall by Top K (colored by top_k)')\n",
    "    plt.xlabel(\"Threshold\")\n",
    "    plt.ylabel('Mean Recall')\n",
    "    plt.legend(title='top_k')\n",
    "    plt.show()\n"
   ]
  },
  {
   "cell_type": "code",
   "execution_count": 160,
   "id": "e2d5d680-5ce7-4909-8026-46087fbc711a",
   "metadata": {},
   "outputs": [
    {
     "data": {
      "text/html": [
       "<div>\n",
       "<style scoped>\n",
       "    .dataframe tbody tr th:only-of-type {\n",
       "        vertical-align: middle;\n",
       "    }\n",
       "\n",
       "    .dataframe tbody tr th {\n",
       "        vertical-align: top;\n",
       "    }\n",
       "\n",
       "    .dataframe thead th {\n",
       "        text-align: right;\n",
       "    }\n",
       "</style>\n",
       "<table border=\"1\" class=\"dataframe\">\n",
       "  <thead>\n",
       "    <tr style=\"text-align: right;\">\n",
       "      <th></th>\n",
       "      <th>context</th>\n",
       "      <th>question</th>\n",
       "      <th>answer</th>\n",
       "      <th>prediction</th>\n",
       "      <th>retrieved_contexts</th>\n",
       "      <th>recall</th>\n",
       "      <th>score</th>\n",
       "      <th>threshold</th>\n",
       "      <th>top_k</th>\n",
       "    </tr>\n",
       "  </thead>\n",
       "  <tbody>\n",
       "    <tr>\n",
       "      <th>0</th>\n",
       "      <td>Genome-wide transcriptional profiling showed t...</td>\n",
       "      <td>Where were the gene expression alterations in ...</td>\n",
       "      <td>reducing gravity levels in the International S...</td>\n",
       "      <td>The gene expression alterations in Drosophila ...</td>\n",
       "      <td>['26-Jun-2013  notifications share  GeneLab ID...</td>\n",
       "      <td>1.0</td>\n",
       "      <td>0.709230</td>\n",
       "      <td>0.5</td>\n",
       "      <td>10</td>\n",
       "    </tr>\n",
       "    <tr>\n",
       "      <th>1</th>\n",
       "      <td>Genome-wide transcriptional profiling showed t...</td>\n",
       "      <td>What kind of experiments showed differential r...</td>\n",
       "      <td>simulation experiments on ground testing space...</td>\n",
       "      <td>Experiments involving reducing gravity levels ...</td>\n",
       "      <td>['26-Jun-2013  notifications share  GeneLab ID...</td>\n",
       "      <td>1.0</td>\n",
       "      <td>0.701952</td>\n",
       "      <td>0.5</td>\n",
       "      <td>10</td>\n",
       "    </tr>\n",
       "    <tr>\n",
       "      <th>2</th>\n",
       "      <td>Genome-wide transcriptional profiling showed t...</td>\n",
       "      <td>What is overrepresented in the different exper...</td>\n",
       "      <td>the same GO groups including a large multigene...</td>\n",
       "      <td>The same GO groups, including a large multigen...</td>\n",
       "      <td>['Curiously, although &lt;b&gt;particular&lt;/b&gt; &lt;b&gt;gen...</td>\n",
       "      <td>1.0</td>\n",
       "      <td>0.706340</td>\n",
       "      <td>0.5</td>\n",
       "      <td>10</td>\n",
       "    </tr>\n",
       "    <tr>\n",
       "      <th>3</th>\n",
       "      <td>Genome-wide transcriptional profiling showed t...</td>\n",
       "      <td>What are the implications of the findings in t...</td>\n",
       "      <td>The findings indicate that the finely adjusted...</td>\n",
       "      <td>The findings suggest that the transcriptome is...</td>\n",
       "      <td>['These results suggest that, in addition to b...</td>\n",
       "      <td>1.0</td>\n",
       "      <td>0.722527</td>\n",
       "      <td>0.5</td>\n",
       "      <td>10</td>\n",
       "    </tr>\n",
       "    <tr>\n",
       "      <th>4</th>\n",
       "      <td>The objective of the Rodent Research-5 (RR-5) ...</td>\n",
       "      <td>What was the main goal of the Rodent Research-...</td>\n",
       "      <td>to evaluate bone loss in mice during spaceflig...</td>\n",
       "      <td>The main goal of the Rodent Research-5 (RR-5) ...</td>\n",
       "      <td>['12-Aug-2019  notifications share  GeneLab ID...</td>\n",
       "      <td>1.0</td>\n",
       "      <td>0.587473</td>\n",
       "      <td>0.5</td>\n",
       "      <td>10</td>\n",
       "    </tr>\n",
       "  </tbody>\n",
       "</table>\n",
       "</div>"
      ],
      "text/plain": [
       "                                             context  \\\n",
       "0  Genome-wide transcriptional profiling showed t...   \n",
       "1  Genome-wide transcriptional profiling showed t...   \n",
       "2  Genome-wide transcriptional profiling showed t...   \n",
       "3  Genome-wide transcriptional profiling showed t...   \n",
       "4  The objective of the Rodent Research-5 (RR-5) ...   \n",
       "\n",
       "                                            question  \\\n",
       "0  Where were the gene expression alterations in ...   \n",
       "1  What kind of experiments showed differential r...   \n",
       "2  What is overrepresented in the different exper...   \n",
       "3  What are the implications of the findings in t...   \n",
       "4  What was the main goal of the Rodent Research-...   \n",
       "\n",
       "                                              answer  \\\n",
       "0  reducing gravity levels in the International S...   \n",
       "1  simulation experiments on ground testing space...   \n",
       "2  the same GO groups including a large multigene...   \n",
       "3  The findings indicate that the finely adjusted...   \n",
       "4  to evaluate bone loss in mice during spaceflig...   \n",
       "\n",
       "                                          prediction  \\\n",
       "0  The gene expression alterations in Drosophila ...   \n",
       "1  Experiments involving reducing gravity levels ...   \n",
       "2  The same GO groups, including a large multigen...   \n",
       "3  The findings suggest that the transcriptome is...   \n",
       "4  The main goal of the Rodent Research-5 (RR-5) ...   \n",
       "\n",
       "                                  retrieved_contexts  recall     score  \\\n",
       "0  ['26-Jun-2013  notifications share  GeneLab ID...     1.0  0.709230   \n",
       "1  ['26-Jun-2013  notifications share  GeneLab ID...     1.0  0.701952   \n",
       "2  ['Curiously, although <b>particular</b> <b>gen...     1.0  0.706340   \n",
       "3  ['These results suggest that, in addition to b...     1.0  0.722527   \n",
       "4  ['12-Aug-2019  notifications share  GeneLab ID...     1.0  0.587473   \n",
       "\n",
       "   threshold  top_k  \n",
       "0        0.5     10  \n",
       "1        0.5     10  \n",
       "2        0.5     10  \n",
       "3        0.5     10  \n",
       "4        0.5     10  "
      ]
     },
     "execution_count": 160,
     "metadata": {},
     "output_type": "execute_result"
    }
   ],
   "source": [
    "eval_retrieval_semantic = load_context_eval_semantic()\n",
    "eval_retrieval_semantic.head()"
   ]
  },
  {
   "cell_type": "code",
   "execution_count": 161,
   "id": "0b6283c0-02da-4a29-a45a-8b081564f50d",
   "metadata": {},
   "outputs": [
    {
     "data": {
      "text/html": [
       "<div>\n",
       "<style scoped>\n",
       "    .dataframe tbody tr th:only-of-type {\n",
       "        vertical-align: middle;\n",
       "    }\n",
       "\n",
       "    .dataframe tbody tr th {\n",
       "        vertical-align: top;\n",
       "    }\n",
       "\n",
       "    .dataframe thead th {\n",
       "        text-align: right;\n",
       "    }\n",
       "</style>\n",
       "<table border=\"1\" class=\"dataframe\">\n",
       "  <thead>\n",
       "    <tr style=\"text-align: right;\">\n",
       "      <th></th>\n",
       "      <th>recall</th>\n",
       "      <th>score</th>\n",
       "      <th>threshold</th>\n",
       "      <th>top_k</th>\n",
       "    </tr>\n",
       "  </thead>\n",
       "  <tbody>\n",
       "    <tr>\n",
       "      <th>count</th>\n",
       "      <td>3444.000000</td>\n",
       "      <td>3444.000000</td>\n",
       "      <td>3444.000000</td>\n",
       "      <td>3444.000000</td>\n",
       "    </tr>\n",
       "    <tr>\n",
       "      <th>mean</th>\n",
       "      <td>0.527294</td>\n",
       "      <td>0.581817</td>\n",
       "      <td>0.575000</td>\n",
       "      <td>5.333333</td>\n",
       "    </tr>\n",
       "    <tr>\n",
       "      <th>std</th>\n",
       "      <td>0.499327</td>\n",
       "      <td>0.107731</td>\n",
       "      <td>0.075011</td>\n",
       "      <td>3.682322</td>\n",
       "    </tr>\n",
       "    <tr>\n",
       "      <th>min</th>\n",
       "      <td>0.000000</td>\n",
       "      <td>0.357976</td>\n",
       "      <td>0.500000</td>\n",
       "      <td>1.000000</td>\n",
       "    </tr>\n",
       "    <tr>\n",
       "      <th>25%</th>\n",
       "      <td>0.000000</td>\n",
       "      <td>0.490861</td>\n",
       "      <td>0.500000</td>\n",
       "      <td>1.000000</td>\n",
       "    </tr>\n",
       "    <tr>\n",
       "      <th>50%</th>\n",
       "      <td>1.000000</td>\n",
       "      <td>0.572280</td>\n",
       "      <td>0.575000</td>\n",
       "      <td>5.000000</td>\n",
       "    </tr>\n",
       "    <tr>\n",
       "      <th>75%</th>\n",
       "      <td>1.000000</td>\n",
       "      <td>0.675793</td>\n",
       "      <td>0.650000</td>\n",
       "      <td>10.000000</td>\n",
       "    </tr>\n",
       "    <tr>\n",
       "      <th>max</th>\n",
       "      <td>1.000000</td>\n",
       "      <td>0.936264</td>\n",
       "      <td>0.650000</td>\n",
       "      <td>10.000000</td>\n",
       "    </tr>\n",
       "  </tbody>\n",
       "</table>\n",
       "</div>"
      ],
      "text/plain": [
       "            recall        score    threshold        top_k\n",
       "count  3444.000000  3444.000000  3444.000000  3444.000000\n",
       "mean      0.527294     0.581817     0.575000     5.333333\n",
       "std       0.499327     0.107731     0.075011     3.682322\n",
       "min       0.000000     0.357976     0.500000     1.000000\n",
       "25%       0.000000     0.490861     0.500000     1.000000\n",
       "50%       1.000000     0.572280     0.575000     5.000000\n",
       "75%       1.000000     0.675793     0.650000    10.000000\n",
       "max       1.000000     0.936264     0.650000    10.000000"
      ]
     },
     "execution_count": 161,
     "metadata": {},
     "output_type": "execute_result"
    }
   ],
   "source": [
    "eval_retrieval_semantic.describe()"
   ]
  },
  {
   "cell_type": "code",
   "execution_count": 167,
   "id": "481fe75e-d069-4202-819b-f5767e4f5798",
   "metadata": {},
   "outputs": [],
   "source": [
    "# sns.boxplot(x='top_k', y='score', data=eval_retrieval_semantic, palette=\"Set3\")"
   ]
  },
  {
   "cell_type": "code",
   "execution_count": 168,
   "id": "1e1196b9-39d3-43e3-bc4e-0f2b29145b0d",
   "metadata": {},
   "outputs": [
    {
     "data": {
      "image/png": "[encoded data removed]",
      "text/plain": [
       "<Figure size 1200x600 with 1 Axes>"
      ]
     },
     "metadata": {},
     "output_type": "display_data"
    },
    {
     "data": {
      "image/png": "[encoded data removed]",
      "text/plain": [
       "<Figure size 1200x600 with 1 Axes>"
      ]
     },
     "metadata": {},
     "output_type": "display_data"
    }
   ],
   "source": [
    "plot_mean_recall_semantic(eval_retrieval_semantic)"
   ]
  },
  {
   "cell_type": "markdown",
   "id": "47a2e922-52a8-4e08-b449-e69873fc5276",
   "metadata": {},
   "source": [
    "## QA Evaluation\n",
    "\n",
    "Here we focus on semantic evaluation of generated answers.\n",
    "\n",
    "We use following metrics:\n",
    "\n",
    "\n",
    "1. Exacth Match\n",
    "2. METEOR (Metric for Evaluation of Translation with Explicit Ordering)\n",
    "    - more aligned with human judgment\n",
    "    - accounts for exact word matches, synonyms, and paraphrases\n",
    "    - useful for evaluating correctness across varied wordings\n",
    "3. ROUGE (Recall-Oriented Understudy for Gisting Evaluation)\n",
    "   - focuses on recall, measuring word overlaps with reference\n",
    "   - indicates content overlap rather than linguistic quality\n",
    "   - lower score may suggest fewer exact word matches\n",
    "4. Bert Score\n",
    "    - semantic similarity using contextual embeddings\n",
    "    - measures how well the generated answers match with references in meaning\n",
    "    - generalized comparison for a variety of downstream tasks (QA, Translation, Summarization, etc.)"
   ]
  },
  {
   "cell_type": "code",
   "execution_count": 202,
   "id": "186a8cfa-56f0-4939-ad9f-3d70a3de68c2",
   "metadata": {},
   "outputs": [],
   "source": [
    "def evaluate_qa(response: pd.DataFrame) -> pd.DataFrame:\n",
    "    if \"question\" not in response and \"prediction\" not in response and \"reference\" not in response:\n",
    "        response = simplify_response(response)\n",
    "    evaluator = Evaluator(metrics=[\n",
    "        BertScore(),\n",
    "        ExactMatchMetric(),\n",
    "        MeteorMetric(),\n",
    "        RougeMetric(),\n",
    "    ])\n",
    "    results = evaluator(\n",
    "        references=response[\"reference\"].to_list(),\n",
    "        predictions=response[\"prediction\"].to_list()\n",
    "    )\n",
    "    results = pd.DataFrame(results)\n",
    "    return results"
   ]
  },
  {
   "cell_type": "code",
   "execution_count": 203,
   "id": "9355afec-3315-4d13-a6d8-d2a636b81540",
   "metadata": {},
   "outputs": [],
   "source": [
    "def simplify_response(response: pd.DataFrame) -> pd.DataFrame:\n",
    "    response = response.copy()\n",
    "    response[\"result\"] = response[\"result\"].apply(ast.literal_eval)\n",
    "    res = []\n",
    "    for row in response.itertuples():\n",
    "        res.append(dict(\n",
    "            context=row.reference_context,\n",
    "            context_hash=row.context_hash,\n",
    "            question=row.question,\n",
    "            reference=row.reference_answer,\n",
    "            ground_truth=row.reference_answer,\n",
    "            prediction=row.result[\"answer\"],\n",
    "            retrieved_contexts=row.result[\"source_documents\"]\n",
    "        ))\n",
    "    return pd.DataFrame(res)"
   ]
  },
  {
   "cell_type": "code",
   "execution_count": 204,
   "id": "9e8d3d4a-6318-49f1-8805-8fdaad112a16",
   "metadata": {},
   "outputs": [],
   "source": [
    "def plot_eval_result(df: pd.DataFrame):\n",
    "    plt.figure(figsize=(12, 8))\n",
    "    barplot = sns.barplot(x='metric_name', y='score', data=df, palette='husl')\n",
    "    for p in barplot.patches:\n",
    "        barplot.annotate(format(p.get_height(), '.3f'), \n",
    "                         (p.get_x() + p.get_width() / 2., p.get_height()), \n",
    "                         ha = 'center', va = 'center', \n",
    "                         xytext = (0, 9), \n",
    "                         textcoords = 'offset points')\n",
    "    plt.title('Comparison of Metric Scores')\n",
    "    plt.xlabel('Metric')\n",
    "    plt.ylabel('Score')\n",
    "    plt.grid(True, which='both', axis='y', linestyle='--', linewidth=0.5)\n",
    "    plt.show()"
   ]
  },
  {
   "cell_type": "code",
   "execution_count": 205,
   "id": "00040e3a-6d2c-4111-82d2-2a57a05aa5fc",
   "metadata": {},
   "outputs": [
    {
     "name": "stderr",
     "output_type": "stream",
     "text": [
      "/Users/npantha/dev/impact/experiments/osdr-bot/venv/lib/python3.10/site-packages/jury/metrics/_core/auto.py:106: UserWarning: Metric exact_match is not available on jury, falling back to evaluate metric. You may not fully utilize this metric for different input types, e.g multiple predictions or multiple references.\n",
      "  warnings.warn(\n"
     ]
    }
   ],
   "source": [
    "eval_qa = evaluate_qa(\n",
    "    response=simplify_response(pd.read_csv(\"data/responses-gpt-3.5-turbo.csv\"))\n",
    ")"
   ]
  },
  {
   "cell_type": "code",
   "execution_count": 206,
   "id": "6c5ac4d0-6af3-43c0-b24d-0a79b0580739",
   "metadata": {},
   "outputs": [
    {
     "data": {
      "text/html": [
       "<div>\n",
       "<style scoped>\n",
       "    .dataframe tbody tr th:only-of-type {\n",
       "        vertical-align: middle;\n",
       "    }\n",
       "\n",
       "    .dataframe tbody tr th {\n",
       "        vertical-align: top;\n",
       "    }\n",
       "\n",
       "    .dataframe thead th {\n",
       "        text-align: right;\n",
       "    }\n",
       "</style>\n",
       "<table border=\"1\" class=\"dataframe\">\n",
       "  <thead>\n",
       "    <tr style=\"text-align: right;\">\n",
       "      <th></th>\n",
       "      <th>score</th>\n",
       "      <th>total_items</th>\n",
       "      <th>metric_name</th>\n",
       "      <th>empty_items</th>\n",
       "      <th>extra</th>\n",
       "    </tr>\n",
       "  </thead>\n",
       "  <tbody>\n",
       "    <tr>\n",
       "      <th>0</th>\n",
       "      <td>0.564440</td>\n",
       "      <td>295</td>\n",
       "      <td>BertScore</td>\n",
       "      <td>0</td>\n",
       "      <td>{'bertscore': {'score': 0.5644399915711354, 'p...</td>\n",
       "    </tr>\n",
       "    <tr>\n",
       "      <th>1</th>\n",
       "      <td>0.013559</td>\n",
       "      <td>295</td>\n",
       "      <td>ExactMatchMetric</td>\n",
       "      <td>0</td>\n",
       "      <td>{'exact_match': 0.013559322033898305, 'flatten...</td>\n",
       "    </tr>\n",
       "    <tr>\n",
       "      <th>2</th>\n",
       "      <td>0.383189</td>\n",
       "      <td>295</td>\n",
       "      <td>MeteorMetric</td>\n",
       "      <td>0</td>\n",
       "      <td>{'meteor': {'score': 0.38318901990050613}}</td>\n",
       "    </tr>\n",
       "    <tr>\n",
       "      <th>3</th>\n",
       "      <td>0.245379</td>\n",
       "      <td>295</td>\n",
       "      <td>RougeMetric</td>\n",
       "      <td>0</td>\n",
       "      <td>{'rouge': {'rouge1': 0.2831125083117858, 'roug...</td>\n",
       "    </tr>\n",
       "  </tbody>\n",
       "</table>\n",
       "</div>"
      ],
      "text/plain": [
       "      score  total_items       metric_name  empty_items  \\\n",
       "0  0.564440          295         BertScore            0   \n",
       "1  0.013559          295  ExactMatchMetric            0   \n",
       "2  0.383189          295      MeteorMetric            0   \n",
       "3  0.245379          295       RougeMetric            0   \n",
       "\n",
       "                                               extra  \n",
       "0  {'bertscore': {'score': 0.5644399915711354, 'p...  \n",
       "1  {'exact_match': 0.013559322033898305, 'flatten...  \n",
       "2         {'meteor': {'score': 0.38318901990050613}}  \n",
       "3  {'rouge': {'rouge1': 0.2831125083117858, 'roug...  "
      ]
     },
     "execution_count": 206,
     "metadata": {},
     "output_type": "execute_result"
    }
   ],
   "source": [
    "eval_qa"
   ]
  },
  {
   "cell_type": "code",
   "execution_count": 207,
   "id": "3b8cce33-18d2-4093-9a20-35a389baa323",
   "metadata": {},
   "outputs": [
    {
     "name": "stderr",
     "output_type": "stream",
     "text": [
      "/var/folders/_y/xn9wmmrx1_s68jvjw4gzmxfm0000gn/T/ipykernel_43387/2349567968.py:3: FutureWarning: \n",
      "\n",
      "Passing `palette` without assigning `hue` is deprecated and will be removed in v0.14.0. Assign the `x` variable to `hue` and set `legend=False` for the same effect.\n",
      "\n",
      "  barplot = sns.barplot(x='metric_name', y='score', data=df, palette='husl')\n"
     ]
    },
    {
     "data": {
      "image/png": "[encoded data removed]",
      "text/plain": [
       "<Figure size 1200x800 with 1 Axes>"
      ]
     },
     "metadata": {},
     "output_type": "display_data"
    }
   ],
   "source": [
    "plot_eval_result(eval_qa)"
   ]
  },
  {
   "cell_type": "markdown",
   "id": "b9cbd5e2-7ddd-4285-a987-c4edf15335f9",
   "metadata": {},
   "source": [
    "# Footnotes\n",
    "- [evalem](https://github.com/NASA-IMPACT/evalem)"
   ]
  }
 ],
 "metadata": {
  "kernelspec": {
   "display_name": "Python 3 (ipykernel)",
   "language": "python",
   "name": "python3"
  },
  "language_info": {
   "codemirror_mode": {
    "name": "ipython",
    "version": 3
   },
   "file_extension": ".py",
   "mimetype": "text/x-python",
   "name": "python",
   "nbconvert_exporter": "python",
   "pygments_lexer": "ipython3",
   "version": "3.10.13"
  }
 },
 "nbformat": 4,
 "nbformat_minor": 5
}
