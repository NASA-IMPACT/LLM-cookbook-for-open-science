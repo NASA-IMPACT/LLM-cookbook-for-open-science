{
 "cells": [
  {
   "cell_type": "code",
   "execution_count": 4,
   "id": "159a08ba-3638-41fd-b84c-1ada638666d6",
   "metadata": {},
   "outputs": [
    {
     "name": "stdout",
     "output_type": "stream",
     "text": [
      "Obtaining file:///Users/rajashreedahal/Desktop/Metadata_Finetuning/larch\n",
      "  Installing build dependencies ... \u001b[?25ldone\n",
      "\u001b[?25h  Checking if build backend supports build_editable ... \u001b[?25ldone\n",
      "\u001b[?25h  Getting requirements to build editable ... \u001b[?25ldone\n",
      "\u001b[?25h  Preparing editable metadata (pyproject.toml) ... \u001b[?25ldone\n",
      "\u001b[?25hRequirement already satisfied: pynequa==0.2.0 in /Library/Frameworks/Python.framework/Versions/3.10/lib/python3.10/site-packages (from larch==0.0.2a0) (0.2.0)\n",
      "Requirement already satisfied: pytest-cov==4.1.0 in /Library/Frameworks/Python.framework/Versions/3.10/lib/python3.10/site-packages (from larch==0.0.2a0) (4.1.0)\n",
      "Requirement already satisfied: tqdm==4.66.1 in /Library/Frameworks/Python.framework/Versions/3.10/lib/python3.10/site-packages (from larch==0.0.2a0) (4.66.1)\n",
      "Requirement already satisfied: pgvector==0.2.4 in /Library/Frameworks/Python.framework/Versions/3.10/lib/python3.10/site-packages (from larch==0.0.2a0) (0.2.4)\n",
      "Requirement already satisfied: joblib==1.3.2 in /Library/Frameworks/Python.framework/Versions/3.10/lib/python3.10/site-packages (from larch==0.0.2a0) (1.3.2)\n",
      "Requirement already satisfied: openai==0.28.1 in /Library/Frameworks/Python.framework/Versions/3.10/lib/python3.10/site-packages (from larch==0.0.2a0) (0.28.1)\n",
      "Requirement already satisfied: pytest==7.4.4 in /Library/Frameworks/Python.framework/Versions/3.10/lib/python3.10/site-packages (from larch==0.0.2a0) (7.4.4)\n",
      "Requirement already satisfied: langchain==0.0.304 in /Library/Frameworks/Python.framework/Versions/3.10/lib/python3.10/site-packages (from larch==0.0.2a0) (0.0.304)\n",
      "Requirement already satisfied: rapidfuzz==3.4.0 in /Library/Frameworks/Python.framework/Versions/3.10/lib/python3.10/site-packages (from larch==0.0.2a0) (3.4.0)\n",
      "Requirement already satisfied: deepdiff==6.6.1 in /Library/Frameworks/Python.framework/Versions/3.10/lib/python3.10/site-packages (from larch==0.0.2a0) (6.6.1)\n",
      "Requirement already satisfied: loguru==0.7.2 in /Library/Frameworks/Python.framework/Versions/3.10/lib/python3.10/site-packages (from larch==0.0.2a0) (0.7.2)\n",
      "Requirement already satisfied: langchain-experimental==0.0.23 in /Library/Frameworks/Python.framework/Versions/3.10/lib/python3.10/site-packages (from larch==0.0.2a0) (0.0.23)\n",
      "Requirement already satisfied: instructor==0.2.9 in /Library/Frameworks/Python.framework/Versions/3.10/lib/python3.10/site-packages (from larch==0.0.2a0) (0.2.9)\n",
      "Requirement already satisfied: tiktoken==0.5.2 in /Library/Frameworks/Python.framework/Versions/3.10/lib/python3.10/site-packages (from larch==0.0.2a0) (0.5.2)\n",
      "Requirement already satisfied: psycopg2-binary==2.9.9 in /Library/Frameworks/Python.framework/Versions/3.10/lib/python3.10/site-packages (from larch==0.0.2a0) (2.9.9)\n",
      "Requirement already satisfied: ordered-set<4.2.0,>=4.0.2 in /Library/Frameworks/Python.framework/Versions/3.10/lib/python3.10/site-packages (from deepdiff==6.6.1->larch==0.0.2a0) (4.1.0)\n",
      "Requirement already satisfied: pydantic<3.0.0,>=2.0.2 in /Library/Frameworks/Python.framework/Versions/3.10/lib/python3.10/site-packages (from instructor==0.2.9->larch==0.0.2a0) (2.6.1)\n",
      "Requirement already satisfied: docstring-parser<0.16,>=0.15 in /Library/Frameworks/Python.framework/Versions/3.10/lib/python3.10/site-packages (from instructor==0.2.9->larch==0.0.2a0) (0.15)\n",
      "Requirement already satisfied: typer<0.10.0,>=0.9.0 in /Library/Frameworks/Python.framework/Versions/3.10/lib/python3.10/site-packages (from instructor==0.2.9->larch==0.0.2a0) (0.9.0)\n",
      "Requirement already satisfied: async-timeout<5.0.0,>=4.0.0 in /Library/Frameworks/Python.framework/Versions/3.10/lib/python3.10/site-packages (from langchain==0.0.304->larch==0.0.2a0) (4.0.2)\n",
      "Requirement already satisfied: aiohttp<4.0.0,>=3.8.3 in /Library/Frameworks/Python.framework/Versions/3.10/lib/python3.10/site-packages (from langchain==0.0.304->larch==0.0.2a0) (3.8.4)\n",
      "Requirement already satisfied: jsonpatch<2.0,>=1.33 in /Library/Frameworks/Python.framework/Versions/3.10/lib/python3.10/site-packages (from langchain==0.0.304->larch==0.0.2a0) (1.33)\n",
      "Requirement already satisfied: numpy<2,>=1 in /Library/Frameworks/Python.framework/Versions/3.10/lib/python3.10/site-packages (from langchain==0.0.304->larch==0.0.2a0) (1.24.2)\n",
      "Requirement already satisfied: numexpr<3.0.0,>=2.8.4 in /Library/Frameworks/Python.framework/Versions/3.10/lib/python3.10/site-packages (from langchain==0.0.304->larch==0.0.2a0) (2.8.4)\n",
      "Requirement already satisfied: PyYAML>=5.3 in /Library/Frameworks/Python.framework/Versions/3.10/lib/python3.10/site-packages (from langchain==0.0.304->larch==0.0.2a0) (6.0.1)\n",
      "Requirement already satisfied: tenacity<9.0.0,>=8.1.0 in /Library/Frameworks/Python.framework/Versions/3.10/lib/python3.10/site-packages (from langchain==0.0.304->larch==0.0.2a0) (8.2.2)\n",
      "Requirement already satisfied: anyio<4.0 in /Library/Frameworks/Python.framework/Versions/3.10/lib/python3.10/site-packages (from langchain==0.0.304->larch==0.0.2a0) (3.6.2)\n",
      "Requirement already satisfied: dataclasses-json<0.7,>=0.5.7 in /Library/Frameworks/Python.framework/Versions/3.10/lib/python3.10/site-packages (from langchain==0.0.304->larch==0.0.2a0) (0.5.9)\n",
      "Requirement already satisfied: langsmith<0.1.0,>=0.0.38 in /Library/Frameworks/Python.framework/Versions/3.10/lib/python3.10/site-packages (from langchain==0.0.304->larch==0.0.2a0) (0.0.86)\n",
      "Requirement already satisfied: SQLAlchemy<3,>=1.4 in /Library/Frameworks/Python.framework/Versions/3.10/lib/python3.10/site-packages (from langchain==0.0.304->larch==0.0.2a0) (2.0.18)\n",
      "Requirement already satisfied: requests<3,>=2 in /Library/Frameworks/Python.framework/Versions/3.10/lib/python3.10/site-packages (from langchain==0.0.304->larch==0.0.2a0) (2.31.0)\n",
      "Requirement already satisfied: tomli>=1.0.0 in /Library/Frameworks/Python.framework/Versions/3.10/lib/python3.10/site-packages (from pytest==7.4.4->larch==0.0.2a0) (2.0.1)\n",
      "Requirement already satisfied: pluggy<2.0,>=0.12 in /Library/Frameworks/Python.framework/Versions/3.10/lib/python3.10/site-packages (from pytest==7.4.4->larch==0.0.2a0) (1.4.0)\n",
      "Requirement already satisfied: iniconfig in /Library/Frameworks/Python.framework/Versions/3.10/lib/python3.10/site-packages (from pytest==7.4.4->larch==0.0.2a0) (2.0.0)\n",
      "Requirement already satisfied: packaging in /Library/Frameworks/Python.framework/Versions/3.10/lib/python3.10/site-packages (from pytest==7.4.4->larch==0.0.2a0) (23.1)\n",
      "Requirement already satisfied: exceptiongroup>=1.0.0rc8 in /Library/Frameworks/Python.framework/Versions/3.10/lib/python3.10/site-packages (from pytest==7.4.4->larch==0.0.2a0) (1.0.0)\n",
      "Requirement already satisfied: coverage[toml]>=5.2.1 in /Library/Frameworks/Python.framework/Versions/3.10/lib/python3.10/site-packages (from pytest-cov==4.1.0->larch==0.0.2a0) (6.4.4)\n",
      "Requirement already satisfied: regex>=2022.1.18 in /Library/Frameworks/Python.framework/Versions/3.10/lib/python3.10/site-packages (from tiktoken==0.5.2->larch==0.0.2a0) (2023.8.8)\n",
      "Requirement already satisfied: frozenlist>=1.1.1 in /Library/Frameworks/Python.framework/Versions/3.10/lib/python3.10/site-packages (from aiohttp<4.0.0,>=3.8.3->langchain==0.0.304->larch==0.0.2a0) (1.3.3)\n",
      "Requirement already satisfied: aiosignal>=1.1.2 in /Library/Frameworks/Python.framework/Versions/3.10/lib/python3.10/site-packages (from aiohttp<4.0.0,>=3.8.3->langchain==0.0.304->larch==0.0.2a0) (1.3.1)\n",
      "Requirement already satisfied: attrs>=17.3.0 in /Library/Frameworks/Python.framework/Versions/3.10/lib/python3.10/site-packages (from aiohttp<4.0.0,>=3.8.3->langchain==0.0.304->larch==0.0.2a0) (22.1.0)\n",
      "Requirement already satisfied: charset-normalizer<4.0,>=2.0 in /Library/Frameworks/Python.framework/Versions/3.10/lib/python3.10/site-packages (from aiohttp<4.0.0,>=3.8.3->langchain==0.0.304->larch==0.0.2a0) (3.2.0)\n",
      "Requirement already satisfied: multidict<7.0,>=4.5 in /Library/Frameworks/Python.framework/Versions/3.10/lib/python3.10/site-packages (from aiohttp<4.0.0,>=3.8.3->langchain==0.0.304->larch==0.0.2a0) (6.0.4)\n",
      "Requirement already satisfied: yarl<2.0,>=1.0 in /Library/Frameworks/Python.framework/Versions/3.10/lib/python3.10/site-packages (from aiohttp<4.0.0,>=3.8.3->langchain==0.0.304->larch==0.0.2a0) (1.9.2)\n",
      "Requirement already satisfied: sniffio>=1.1 in /Library/Frameworks/Python.framework/Versions/3.10/lib/python3.10/site-packages (from anyio<4.0->langchain==0.0.304->larch==0.0.2a0) (1.3.0)\n",
      "Requirement already satisfied: idna>=2.8 in /Library/Frameworks/Python.framework/Versions/3.10/lib/python3.10/site-packages (from anyio<4.0->langchain==0.0.304->larch==0.0.2a0) (3.4)\n",
      "Requirement already satisfied: typing-inspect>=0.4.0 in /Library/Frameworks/Python.framework/Versions/3.10/lib/python3.10/site-packages (from dataclasses-json<0.7,>=0.5.7->langchain==0.0.304->larch==0.0.2a0) (0.9.0)\n"
     ]
    },
    {
     "name": "stdout",
     "output_type": "stream",
     "text": [
      "Requirement already satisfied: marshmallow-enum<2.0.0,>=1.5.1 in /Library/Frameworks/Python.framework/Versions/3.10/lib/python3.10/site-packages (from dataclasses-json<0.7,>=0.5.7->langchain==0.0.304->larch==0.0.2a0) (1.5.1)\n",
      "Requirement already satisfied: marshmallow<4.0.0,>=3.3.0 in /Library/Frameworks/Python.framework/Versions/3.10/lib/python3.10/site-packages (from dataclasses-json<0.7,>=0.5.7->langchain==0.0.304->larch==0.0.2a0) (3.19.0)\n",
      "Requirement already satisfied: jsonpointer>=1.9 in /Library/Frameworks/Python.framework/Versions/3.10/lib/python3.10/site-packages (from jsonpatch<2.0,>=1.33->langchain==0.0.304->larch==0.0.2a0) (2.3)\n",
      "Requirement already satisfied: annotated-types>=0.4.0 in /Library/Frameworks/Python.framework/Versions/3.10/lib/python3.10/site-packages (from pydantic<3.0.0,>=2.0.2->instructor==0.2.9->larch==0.0.2a0) (0.6.0)\n",
      "Requirement already satisfied: typing-extensions>=4.6.1 in /Library/Frameworks/Python.framework/Versions/3.10/lib/python3.10/site-packages (from pydantic<3.0.0,>=2.0.2->instructor==0.2.9->larch==0.0.2a0) (4.8.0)\n",
      "Requirement already satisfied: pydantic-core==2.16.2 in /Library/Frameworks/Python.framework/Versions/3.10/lib/python3.10/site-packages (from pydantic<3.0.0,>=2.0.2->instructor==0.2.9->larch==0.0.2a0) (2.16.2)\n",
      "Requirement already satisfied: urllib3<3,>=1.21.1 in /Library/Frameworks/Python.framework/Versions/3.10/lib/python3.10/site-packages (from requests<3,>=2->langchain==0.0.304->larch==0.0.2a0) (1.26.16)\n",
      "Requirement already satisfied: certifi>=2017.4.17 in /Library/Frameworks/Python.framework/Versions/3.10/lib/python3.10/site-packages (from requests<3,>=2->langchain==0.0.304->larch==0.0.2a0) (2023.7.22)\n",
      "Requirement already satisfied: click<9.0.0,>=7.1.1 in /Library/Frameworks/Python.framework/Versions/3.10/lib/python3.10/site-packages (from typer<0.10.0,>=0.9.0->instructor==0.2.9->larch==0.0.2a0) (8.1.3)\n",
      "Requirement already satisfied: mypy-extensions>=0.3.0 in /Library/Frameworks/Python.framework/Versions/3.10/lib/python3.10/site-packages (from typing-inspect>=0.4.0->dataclasses-json<0.7,>=0.5.7->langchain==0.0.304->larch==0.0.2a0) (0.4.3)\n",
      "Building wheels for collected packages: larch\n",
      "  Building editable for larch (pyproject.toml) ... \u001b[?25ldone\n",
      "\u001b[?25h  Created wheel for larch: filename=larch-0.0.2a0-0.editable-py3-none-any.whl size=14420 sha256=8654cee9105820fd3405570201e026b260b5f055fb18cf879113365ef9beb317\n",
      "  Stored in directory: /private/var/folders/m4/9_ydsvdn3b3d84rntrrsxm0h0000gn/T/pip-ephem-wheel-cache-bp9ptwer/wheels/3a/98/39/46f8f1efc02842106044493327f82ab1f2c43a0a7f389a1df9\n",
      "Successfully built larch\n",
      "Installing collected packages: larch\n",
      "  Attempting uninstall: larch\n",
      "    Found existing installation: larch 0.0.2a0\n",
      "    Uninstalling larch-0.0.2a0:\n",
      "      Successfully uninstalled larch-0.0.2a0\n",
      "Successfully installed larch-0.0.2a0\n",
      "\n",
      "\u001b[1m[\u001b[0m\u001b[34;49mnotice\u001b[0m\u001b[1;39;49m]\u001b[0m\u001b[39;49m A new release of pip is available: \u001b[0m\u001b[31;49m23.0.1\u001b[0m\u001b[39;49m -> \u001b[0m\u001b[32;49m24.0\u001b[0m\n",
      "\u001b[1m[\u001b[0m\u001b[34;49mnotice\u001b[0m\u001b[1;39;49m]\u001b[0m\u001b[39;49m To update, run: \u001b[0m\u001b[32;49mpip install --upgrade pip\u001b[0m\n",
      "Requirement already satisfied: spacy in /Library/Frameworks/Python.framework/Versions/3.10/lib/python3.10/site-packages (3.7.3)\n",
      "Requirement already satisfied: srsly<3.0.0,>=2.4.3 in /Library/Frameworks/Python.framework/Versions/3.10/lib/python3.10/site-packages (from spacy) (2.4.8)\n",
      "Requirement already satisfied: preshed<3.1.0,>=3.0.2 in /Library/Frameworks/Python.framework/Versions/3.10/lib/python3.10/site-packages (from spacy) (3.0.9)\n",
      "Requirement already satisfied: catalogue<2.1.0,>=2.0.6 in /Library/Frameworks/Python.framework/Versions/3.10/lib/python3.10/site-packages (from spacy) (2.0.10)\n",
      "Requirement already satisfied: pydantic!=1.8,!=1.8.1,<3.0.0,>=1.7.4 in /Library/Frameworks/Python.framework/Versions/3.10/lib/python3.10/site-packages (from spacy) (2.6.1)\n",
      "Requirement already satisfied: spacy-loggers<2.0.0,>=1.0.0 in /Library/Frameworks/Python.framework/Versions/3.10/lib/python3.10/site-packages (from spacy) (1.0.5)\n",
      "Requirement already satisfied: thinc<8.3.0,>=8.2.2 in /Library/Frameworks/Python.framework/Versions/3.10/lib/python3.10/site-packages (from spacy) (8.2.2)\n",
      "Requirement already satisfied: numpy>=1.19.0 in /Library/Frameworks/Python.framework/Versions/3.10/lib/python3.10/site-packages (from spacy) (1.24.2)\n",
      "Requirement already satisfied: jinja2 in /Library/Frameworks/Python.framework/Versions/3.10/lib/python3.10/site-packages (from spacy) (3.1.2)\n",
      "Requirement already satisfied: spacy-legacy<3.1.0,>=3.0.11 in /Library/Frameworks/Python.framework/Versions/3.10/lib/python3.10/site-packages (from spacy) (3.0.12)\n",
      "Requirement already satisfied: murmurhash<1.1.0,>=0.28.0 in /Library/Frameworks/Python.framework/Versions/3.10/lib/python3.10/site-packages (from spacy) (1.0.10)\n",
      "Requirement already satisfied: requests<3.0.0,>=2.13.0 in /Library/Frameworks/Python.framework/Versions/3.10/lib/python3.10/site-packages (from spacy) (2.31.0)\n",
      "Requirement already satisfied: typer<0.10.0,>=0.3.0 in /Library/Frameworks/Python.framework/Versions/3.10/lib/python3.10/site-packages (from spacy) (0.9.0)\n",
      "Requirement already satisfied: langcodes<4.0.0,>=3.2.0 in /Library/Frameworks/Python.framework/Versions/3.10/lib/python3.10/site-packages (from spacy) (3.3.0)\n",
      "Requirement already satisfied: cymem<2.1.0,>=2.0.2 in /Library/Frameworks/Python.framework/Versions/3.10/lib/python3.10/site-packages (from spacy) (2.0.8)\n",
      "Requirement already satisfied: tqdm<5.0.0,>=4.38.0 in /Library/Frameworks/Python.framework/Versions/3.10/lib/python3.10/site-packages (from spacy) (4.66.1)\n",
      "Requirement already satisfied: packaging>=20.0 in /Library/Frameworks/Python.framework/Versions/3.10/lib/python3.10/site-packages (from spacy) (23.1)\n",
      "Requirement already satisfied: wasabi<1.2.0,>=0.9.1 in /Library/Frameworks/Python.framework/Versions/3.10/lib/python3.10/site-packages (from spacy) (1.1.2)\n",
      "Requirement already satisfied: setuptools in /Library/Frameworks/Python.framework/Versions/3.10/lib/python3.10/site-packages (from spacy) (63.2.0)\n",
      "Requirement already satisfied: weasel<0.4.0,>=0.1.0 in /Library/Frameworks/Python.framework/Versions/3.10/lib/python3.10/site-packages (from spacy) (0.3.4)\n",
      "Requirement already satisfied: smart-open<7.0.0,>=5.2.1 in /Library/Frameworks/Python.framework/Versions/3.10/lib/python3.10/site-packages (from spacy) (6.3.0)\n",
      "Requirement already satisfied: annotated-types>=0.4.0 in /Library/Frameworks/Python.framework/Versions/3.10/lib/python3.10/site-packages (from pydantic!=1.8,!=1.8.1,<3.0.0,>=1.7.4->spacy) (0.6.0)\n",
      "Requirement already satisfied: pydantic-core==2.16.2 in /Library/Frameworks/Python.framework/Versions/3.10/lib/python3.10/site-packages (from pydantic!=1.8,!=1.8.1,<3.0.0,>=1.7.4->spacy) (2.16.2)\n",
      "Requirement already satisfied: typing-extensions>=4.6.1 in /Library/Frameworks/Python.framework/Versions/3.10/lib/python3.10/site-packages (from pydantic!=1.8,!=1.8.1,<3.0.0,>=1.7.4->spacy) (4.8.0)\n",
      "Requirement already satisfied: idna<4,>=2.5 in /Library/Frameworks/Python.framework/Versions/3.10/lib/python3.10/site-packages (from requests<3.0.0,>=2.13.0->spacy) (3.4)\n",
      "Requirement already satisfied: charset-normalizer<4,>=2 in /Library/Frameworks/Python.framework/Versions/3.10/lib/python3.10/site-packages (from requests<3.0.0,>=2.13.0->spacy) (3.2.0)\n",
      "Requirement already satisfied: certifi>=2017.4.17 in /Library/Frameworks/Python.framework/Versions/3.10/lib/python3.10/site-packages (from requests<3.0.0,>=2.13.0->spacy) (2023.7.22)\n",
      "Requirement already satisfied: urllib3<3,>=1.21.1 in /Library/Frameworks/Python.framework/Versions/3.10/lib/python3.10/site-packages (from requests<3.0.0,>=2.13.0->spacy) (1.26.16)\n",
      "Requirement already satisfied: blis<0.8.0,>=0.7.8 in /Library/Frameworks/Python.framework/Versions/3.10/lib/python3.10/site-packages (from thinc<8.3.0,>=8.2.2->spacy) (0.7.11)\n",
      "Requirement already satisfied: confection<1.0.0,>=0.0.1 in /Library/Frameworks/Python.framework/Versions/3.10/lib/python3.10/site-packages (from thinc<8.3.0,>=8.2.2->spacy) (0.1.4)\n",
      "Requirement already satisfied: click<9.0.0,>=7.1.1 in /Library/Frameworks/Python.framework/Versions/3.10/lib/python3.10/site-packages (from typer<0.10.0,>=0.3.0->spacy) (8.1.3)\n",
      "Requirement already satisfied: cloudpathlib<0.17.0,>=0.7.0 in /Library/Frameworks/Python.framework/Versions/3.10/lib/python3.10/site-packages (from weasel<0.4.0,>=0.1.0->spacy) (0.16.0)\n"
     ]
    },
    {
     "name": "stdout",
     "output_type": "stream",
     "text": [
      "Requirement already satisfied: MarkupSafe>=2.0 in /Library/Frameworks/Python.framework/Versions/3.10/lib/python3.10/site-packages (from jinja2->spacy) (2.1.3)\n",
      "\n",
      "\u001b[1m[\u001b[0m\u001b[34;49mnotice\u001b[0m\u001b[1;39;49m]\u001b[0m\u001b[39;49m A new release of pip is available: \u001b[0m\u001b[31;49m23.0.1\u001b[0m\u001b[39;49m -> \u001b[0m\u001b[32;49m24.0\u001b[0m\n",
      "\u001b[1m[\u001b[0m\u001b[34;49mnotice\u001b[0m\u001b[1;39;49m]\u001b[0m\u001b[39;49m To update, run: \u001b[0m\u001b[32;49mpip install --upgrade pip\u001b[0m\n",
      "Collecting en-core-web-lg==3.7.1\n",
      "  Downloading https://github.com/explosion/spacy-models/releases/download/en_core_web_lg-3.7.1/en_core_web_lg-3.7.1-py3-none-any.whl (587.7 MB)\n",
      "\u001b[2K     \u001b[38;2;114;156;31m━━━━━━━━━━━━━━━━━━━━━━━━━━━━━━━━━━━━━━\u001b[0m \u001b[32m587.7/587.7 MB\u001b[0m \u001b[31m13.6 MB/s\u001b[0m eta \u001b[36m0:00:00\u001b[0mm eta \u001b[36m0:00:01\u001b[0m[36m0:00:01\u001b[0m\n",
      "\u001b[?25hRequirement already satisfied: spacy<3.8.0,>=3.7.2 in /Library/Frameworks/Python.framework/Versions/3.10/lib/python3.10/site-packages (from en-core-web-lg==3.7.1) (3.7.3)\n",
      "Requirement already satisfied: cymem<2.1.0,>=2.0.2 in /Library/Frameworks/Python.framework/Versions/3.10/lib/python3.10/site-packages (from spacy<3.8.0,>=3.7.2->en-core-web-lg==3.7.1) (2.0.8)\n",
      "Requirement already satisfied: requests<3.0.0,>=2.13.0 in /Library/Frameworks/Python.framework/Versions/3.10/lib/python3.10/site-packages (from spacy<3.8.0,>=3.7.2->en-core-web-lg==3.7.1) (2.31.0)\n",
      "Requirement already satisfied: langcodes<4.0.0,>=3.2.0 in /Library/Frameworks/Python.framework/Versions/3.10/lib/python3.10/site-packages (from spacy<3.8.0,>=3.7.2->en-core-web-lg==3.7.1) (3.3.0)\n",
      "Requirement already satisfied: thinc<8.3.0,>=8.2.2 in /Library/Frameworks/Python.framework/Versions/3.10/lib/python3.10/site-packages (from spacy<3.8.0,>=3.7.2->en-core-web-lg==3.7.1) (8.2.2)\n",
      "Requirement already satisfied: spacy-loggers<2.0.0,>=1.0.0 in /Library/Frameworks/Python.framework/Versions/3.10/lib/python3.10/site-packages (from spacy<3.8.0,>=3.7.2->en-core-web-lg==3.7.1) (1.0.5)\n",
      "Requirement already satisfied: preshed<3.1.0,>=3.0.2 in /Library/Frameworks/Python.framework/Versions/3.10/lib/python3.10/site-packages (from spacy<3.8.0,>=3.7.2->en-core-web-lg==3.7.1) (3.0.9)\n",
      "Requirement already satisfied: catalogue<2.1.0,>=2.0.6 in /Library/Frameworks/Python.framework/Versions/3.10/lib/python3.10/site-packages (from spacy<3.8.0,>=3.7.2->en-core-web-lg==3.7.1) (2.0.10)\n",
      "Requirement already satisfied: pydantic!=1.8,!=1.8.1,<3.0.0,>=1.7.4 in /Library/Frameworks/Python.framework/Versions/3.10/lib/python3.10/site-packages (from spacy<3.8.0,>=3.7.2->en-core-web-lg==3.7.1) (2.6.1)\n",
      "Requirement already satisfied: typer<0.10.0,>=0.3.0 in /Library/Frameworks/Python.framework/Versions/3.10/lib/python3.10/site-packages (from spacy<3.8.0,>=3.7.2->en-core-web-lg==3.7.1) (0.9.0)\n",
      "Requirement already satisfied: packaging>=20.0 in /Library/Frameworks/Python.framework/Versions/3.10/lib/python3.10/site-packages (from spacy<3.8.0,>=3.7.2->en-core-web-lg==3.7.1) (23.1)\n",
      "Requirement already satisfied: srsly<3.0.0,>=2.4.3 in /Library/Frameworks/Python.framework/Versions/3.10/lib/python3.10/site-packages (from spacy<3.8.0,>=3.7.2->en-core-web-lg==3.7.1) (2.4.8)\n",
      "Requirement already satisfied: tqdm<5.0.0,>=4.38.0 in /Library/Frameworks/Python.framework/Versions/3.10/lib/python3.10/site-packages (from spacy<3.8.0,>=3.7.2->en-core-web-lg==3.7.1) (4.66.1)\n",
      "Requirement already satisfied: smart-open<7.0.0,>=5.2.1 in /Library/Frameworks/Python.framework/Versions/3.10/lib/python3.10/site-packages (from spacy<3.8.0,>=3.7.2->en-core-web-lg==3.7.1) (6.3.0)\n",
      "Requirement already satisfied: setuptools in /Library/Frameworks/Python.framework/Versions/3.10/lib/python3.10/site-packages (from spacy<3.8.0,>=3.7.2->en-core-web-lg==3.7.1) (63.2.0)\n",
      "Requirement already satisfied: murmurhash<1.1.0,>=0.28.0 in /Library/Frameworks/Python.framework/Versions/3.10/lib/python3.10/site-packages (from spacy<3.8.0,>=3.7.2->en-core-web-lg==3.7.1) (1.0.10)\n",
      "Requirement already satisfied: numpy>=1.19.0 in /Library/Frameworks/Python.framework/Versions/3.10/lib/python3.10/site-packages (from spacy<3.8.0,>=3.7.2->en-core-web-lg==3.7.1) (1.24.2)\n",
      "Requirement already satisfied: spacy-legacy<3.1.0,>=3.0.11 in /Library/Frameworks/Python.framework/Versions/3.10/lib/python3.10/site-packages (from spacy<3.8.0,>=3.7.2->en-core-web-lg==3.7.1) (3.0.12)\n",
      "Requirement already satisfied: weasel<0.4.0,>=0.1.0 in /Library/Frameworks/Python.framework/Versions/3.10/lib/python3.10/site-packages (from spacy<3.8.0,>=3.7.2->en-core-web-lg==3.7.1) (0.3.4)\n",
      "Requirement already satisfied: jinja2 in /Library/Frameworks/Python.framework/Versions/3.10/lib/python3.10/site-packages (from spacy<3.8.0,>=3.7.2->en-core-web-lg==3.7.1) (3.1.2)\n",
      "Requirement already satisfied: wasabi<1.2.0,>=0.9.1 in /Library/Frameworks/Python.framework/Versions/3.10/lib/python3.10/site-packages (from spacy<3.8.0,>=3.7.2->en-core-web-lg==3.7.1) (1.1.2)\n",
      "Requirement already satisfied: annotated-types>=0.4.0 in /Library/Frameworks/Python.framework/Versions/3.10/lib/python3.10/site-packages (from pydantic!=1.8,!=1.8.1,<3.0.0,>=1.7.4->spacy<3.8.0,>=3.7.2->en-core-web-lg==3.7.1) (0.6.0)\n",
      "Requirement already satisfied: pydantic-core==2.16.2 in /Library/Frameworks/Python.framework/Versions/3.10/lib/python3.10/site-packages (from pydantic!=1.8,!=1.8.1,<3.0.0,>=1.7.4->spacy<3.8.0,>=3.7.2->en-core-web-lg==3.7.1) (2.16.2)\n",
      "Requirement already satisfied: typing-extensions>=4.6.1 in /Library/Frameworks/Python.framework/Versions/3.10/lib/python3.10/site-packages (from pydantic!=1.8,!=1.8.1,<3.0.0,>=1.7.4->spacy<3.8.0,>=3.7.2->en-core-web-lg==3.7.1) (4.8.0)\n",
      "Requirement already satisfied: urllib3<3,>=1.21.1 in /Library/Frameworks/Python.framework/Versions/3.10/lib/python3.10/site-packages (from requests<3.0.0,>=2.13.0->spacy<3.8.0,>=3.7.2->en-core-web-lg==3.7.1) (1.26.16)\n",
      "Requirement already satisfied: charset-normalizer<4,>=2 in /Library/Frameworks/Python.framework/Versions/3.10/lib/python3.10/site-packages (from requests<3.0.0,>=2.13.0->spacy<3.8.0,>=3.7.2->en-core-web-lg==3.7.1) (3.2.0)\n",
      "Requirement already satisfied: idna<4,>=2.5 in /Library/Frameworks/Python.framework/Versions/3.10/lib/python3.10/site-packages (from requests<3.0.0,>=2.13.0->spacy<3.8.0,>=3.7.2->en-core-web-lg==3.7.1) (3.4)\n",
      "Requirement already satisfied: certifi>=2017.4.17 in /Library/Frameworks/Python.framework/Versions/3.10/lib/python3.10/site-packages (from requests<3.0.0,>=2.13.0->spacy<3.8.0,>=3.7.2->en-core-web-lg==3.7.1) (2023.7.22)\n",
      "Requirement already satisfied: confection<1.0.0,>=0.0.1 in /Library/Frameworks/Python.framework/Versions/3.10/lib/python3.10/site-packages (from thinc<8.3.0,>=8.2.2->spacy<3.8.0,>=3.7.2->en-core-web-lg==3.7.1) (0.1.4)\n",
      "Requirement already satisfied: blis<0.8.0,>=0.7.8 in /Library/Frameworks/Python.framework/Versions/3.10/lib/python3.10/site-packages (from thinc<8.3.0,>=8.2.2->spacy<3.8.0,>=3.7.2->en-core-web-lg==3.7.1) (0.7.11)\n",
      "Requirement already satisfied: click<9.0.0,>=7.1.1 in /Library/Frameworks/Python.framework/Versions/3.10/lib/python3.10/site-packages (from typer<0.10.0,>=0.3.0->spacy<3.8.0,>=3.7.2->en-core-web-lg==3.7.1) (8.1.3)\n",
      "Requirement already satisfied: cloudpathlib<0.17.0,>=0.7.0 in /Library/Frameworks/Python.framework/Versions/3.10/lib/python3.10/site-packages (from weasel<0.4.0,>=0.1.0->spacy<3.8.0,>=3.7.2->en-core-web-lg==3.7.1) (0.16.0)\n",
      "Requirement already satisfied: MarkupSafe>=2.0 in /Library/Frameworks/Python.framework/Versions/3.10/lib/python3.10/site-packages (from jinja2->spacy<3.8.0,>=3.7.2->en-core-web-lg==3.7.1) (2.1.3)\n",
      "Installing collected packages: en-core-web-lg\n",
      "Successfully installed en-core-web-lg-3.7.1\n",
      "\n",
      "\u001b[1m[\u001b[0m\u001b[34;49mnotice\u001b[0m\u001b[1;39;49m]\u001b[0m\u001b[39;49m A new release of pip is available: \u001b[0m\u001b[31;49m23.0.1\u001b[0m\u001b[39;49m -> \u001b[0m\u001b[32;49m24.0\u001b[0m\n",
      "\u001b[1m[\u001b[0m\u001b[34;49mnotice\u001b[0m\u001b[1;39;49m]\u001b[0m\u001b[39;49m To update, run: \u001b[0m\u001b[32;49mpip install --upgrade pip\u001b[0m\n",
      "\u001b[38;5;2m✔ Download and installation successful\u001b[0m\n",
      "You can now load the package via spacy.load('en_core_web_lg')\n",
      "Requirement already satisfied: pandas in /Library/Frameworks/Python.framework/Versions/3.10/lib/python3.10/site-packages (1.5.3)\n",
      "Requirement already satisfied: pytz>=2020.1 in /Library/Frameworks/Python.framework/Versions/3.10/lib/python3.10/site-packages (from pandas) (2023.3.post1)\n",
      "Requirement already satisfied: numpy>=1.21.0 in /Library/Frameworks/Python.framework/Versions/3.10/lib/python3.10/site-packages (from pandas) (1.24.2)\n",
      "Requirement already satisfied: python-dateutil>=2.8.1 in /Library/Frameworks/Python.framework/Versions/3.10/lib/python3.10/site-packages (from pandas) (2.8.2)\n",
      "Requirement already satisfied: six>=1.5 in /Library/Frameworks/Python.framework/Versions/3.10/lib/python3.10/site-packages (from python-dateutil>=2.8.1->pandas) (1.16.0)\n"
     ]
    },
    {
     "name": "stdout",
     "output_type": "stream",
     "text": [
      "\n",
      "\u001b[1m[\u001b[0m\u001b[34;49mnotice\u001b[0m\u001b[1;39;49m]\u001b[0m\u001b[39;49m A new release of pip is available: \u001b[0m\u001b[31;49m23.0.1\u001b[0m\u001b[39;49m -> \u001b[0m\u001b[32;49m24.0\u001b[0m\n",
      "\u001b[1m[\u001b[0m\u001b[34;49mnotice\u001b[0m\u001b[1;39;49m]\u001b[0m\u001b[39;49m To update, run: \u001b[0m\u001b[32;49mpip install --upgrade pip\u001b[0m\n",
      "Requirement already satisfied: openpyxl in /Library/Frameworks/Python.framework/Versions/3.10/lib/python3.10/site-packages (3.1.2)\n",
      "Requirement already satisfied: et-xmlfile in /Library/Frameworks/Python.framework/Versions/3.10/lib/python3.10/site-packages (from openpyxl) (1.1.0)\n",
      "\n",
      "\u001b[1m[\u001b[0m\u001b[34;49mnotice\u001b[0m\u001b[1;39;49m]\u001b[0m\u001b[39;49m A new release of pip is available: \u001b[0m\u001b[31;49m23.0.1\u001b[0m\u001b[39;49m -> \u001b[0m\u001b[32;49m24.0\u001b[0m\n",
      "\u001b[1m[\u001b[0m\u001b[34;49mnotice\u001b[0m\u001b[1;39;49m]\u001b[0m\u001b[39;49m To update, run: \u001b[0m\u001b[32;49mpip install --upgrade pip\u001b[0m\n"
     ]
    }
   ],
   "source": [
    "!pip install -e .\n",
    "!pip install spacy\n",
    "!python3 -m spacy download en_core_web_lg\n",
    "!pip install pandas\n",
    "!pip install openpyxl\n"
   ]
  },
  {
   "cell_type": "code",
   "execution_count": 65,
   "id": "99619be3-2817-48e2-98ea-8ae70c219fc1",
   "metadata": {},
   "outputs": [],
   "source": [
    "import pandas as pd\n",
    "from larch.metadata import InstructorBasedOpenAIMetadataExtractor\n",
    "from larch.metadata.validators import WhitelistBasedMetadataValidator\n",
    "from larch.processors import PIIRemover, TextProcessingPipeline\n",
    "from larch.utils import load_whitelist\n",
    "\n",
    "text_processor = TextProcessingPipeline(\n",
    "    lambda x: re.sub(r\"\\$(?=\\w|\\n|\\()\", \" \", x).strip(),\n",
    "    lambda x: re.sub(r\"\\)(?=\\w|\\n|\\()\", \" \", x).strip(),\n",
    "    lambda x: re.sub(r\"\\#(?=\\w|\\n|\\()\", \" \", x).strip(),\n",
    "    lambda x: x.replace(\"\\t\", \" \").replace(\"!\", \" \").strip(),\n",
    "    PIIRemover()\n",
    ")\n",
    "import re\n",
    "import requests\n",
    "from bs4 import BeautifulSoup\n",
    "\n",
    "from pydantic import BaseModel,constr,Field\n",
    "from typing import Literal\n",
    "\n",
    "class Environmental_Justice(BaseModel):\n",
    "    Indicators: Literal[\"Disasters\",\"Human Dimensions\",\"Food Availability\",\"Health & Air Quality\",\"Water Availability\", \"Extreme Heat\",\"Urban Flooding\",\"Climate\"]\n",
    "    Description: str\n",
    "    Geographic_Coverage: str =Field(pattern=r'')\n",
    "    Format: str\n",
    "    Spatial_Resolution: str = Field(pattern=r'^(\\d+(\\.\\d+)? [a-zA-Z]+|varies|N/A)$')\n",
    "    Temporal_Resolution: str = Field(pattern=r'^(\\d+(\\.\\d+)? [a-zA-Z]+|N/A|varies|weekly|monthly|daily|yearly|varies-multiple datasets included|Daily < Weekly|Hourly < Daily|Weekly < Monthly|Monthly < Yearly|1 minute)$')\n",
    "    Temporal_Extent: str = Field(pattern=r'^(\\d{4}-\\d{2}-\\d{2} to present|present|\\d{4}-\\d{2}-\\d{2} (?:to|until) present|\\d{4}-\\d{2}-\\d{2} to \\d{4}-\\d{2}-\\d{2}|varies(?:- multiple datasets (?:included|available))?)$')\n",
    "    Latency: str = Field(pattern=r'^\\d+(\\s*(Day|days|months|NRT))?$')\n",
    "    Project: str\n",
    "    Data_Visualization: bool\n",
    "\n",
    "    \n",
    "\n",
    "    \n",
    "schema = Environmental_Justice\n",
    "sheet_names=[\"Water Availability - Cleaned\", \"Disasters (Disaster Recovery) -\", \n",
    " \"Food Availability - Cleaned\", \"Human Dimensions - Cleaned\", \"Urban Flooding - Cleaned\",\n",
    " \"Extreme Heat - CIP\",\"Health and Air Quality - CIP\", \"Climate (Climate Change) - CIP\"]\n",
    "sheet_names=[\"Water Availability - Cleaned\"]\n",
    "mapper = pd.read_excel(\"nasa_esds.xlsx\", sheet_name=sheet_names)\n",
    "res = {}\n",
    "url_lists=[]\n",
    "for field_key, value_df in mapper.items():\n",
    "    res[field_key] = {}\n",
    "    cols = value_df.columns\n",
    "    for i, row in value_df.iterrows():\n",
    "        source_link_col = [col for col in cols if col == \"Source/Link\"]\n",
    "        alternate_vals = filter(None, row[source_link_col])\n",
    "        alternate_vals=list(alternate_vals)\n",
    "        if alternate_vals and str(alternate_vals[0]).startswith(\"http\"):\n",
    "            url_lists.append(alternate_vals[0])\n",
    "\n",
    "url_content=[]\n",
    "urls=[]\n",
    "for url in url_lists:\n",
    "    response=requests.get(url)\n",
    "    html_page = response.text\n",
    "    soup = BeautifulSoup(html_page, \"html.parser\")\n",
    "    text=soup.get_text()\n",
    "    text = re.sub(r'[\\t\\n\\r\\f\\v]+', '', text)\n",
    "    text=re.sub(r'[^\\w\\s]', '', text)\n",
    "    url_content.append(text)\n",
    "    urls.append(url)\n",
    "\n"
   ]
  },
  {
   "cell_type": "code",
   "execution_count": 66,
   "id": "c6c7f8b9",
   "metadata": {},
   "outputs": [
    {
     "data": {
      "text/plain": [
       "['https://doi.org/10.5067/MEaSUREs/GFSAD/GFSAD30AFCE.001',\n",
       " 'https://doi.org/10.5067/MEaSUREs/GFSAD/GFSAD30AUNZCNMOCE.001',\n",
       " 'https://doi.org/10.5067/MEaSUREs/GFSAD/GFSAD30SEACE.001',\n",
       " 'https://doi.org/10.5067/MEaSUREs/GFSAD/GFSAD30EUCEARUMECE.001',\n",
       " 'https://doi.org/10.5067/MEaSUREs/GFSAD/GFSAD30SACE.001',\n",
       " 'https://fews.net/',\n",
       " 'https://ldas.gsfc.nasa.gov/fldas',\n",
       " 'https://dx.doi.org/10.5067/TEMSC-3JC63',\n",
       " 'https://doi.org/10.7927/H4HH6H08 ',\n",
       " 'https://doi.org/10.7927/H4N877QK ']"
      ]
     },
     "execution_count": 66,
     "metadata": {},
     "output_type": "execute_result"
    }
   ],
   "source": [
    "urls"
   ]
  },
  {
   "cell_type": "code",
   "execution_count": 67,
   "id": "a9303d60-5934-406a-a645-da32ff595293",
   "metadata": {},
   "outputs": [
    {
     "name": "stderr",
     "output_type": "stream",
     "text": [
      "\u001b[32m2024-02-07 12:05:55.431\u001b[0m | \u001b[34m\u001b[1mDEBUG   \u001b[0m | \u001b[36mlarch.metadata.extractors_openai\u001b[0m:\u001b[36m_extract\u001b[0m:\u001b[36m73\u001b[0m - \u001b[34m\u001b[1mnchars=8105\n",
      "Text :: LP DAAC  GFSAD30AFCEHomeAboutAbout LP DAAC                                                                                                    News Archive                                                                                                    DataGet Started with Data                                                                                                    Search Data Catalog                                                                                                    Data Citations and Policies                                                                                                    View All DataToolsAppEEARSData PoolData Prep ScriptsNASA Earthdata SearchUSGS EarthExplorerView All ToolsResourcesData in Action                                                                                                    ELearning                                                                                                    Podcasts                                                                                                    Outreach Materials                                                                                                    Publications Table                                                                                                    FAQs                                                                                                    View All ResourcesContactContact Information                                                                                                    Submit Data                                                                                                    General Site SearchGFSAD30AFCE v001Global Food Securitysupport Analysis Data GFSAD Cropland Extent 2015 Africa 30 mPI Prasad ThenkabailDocumentationUsing the DataAccess DataCitationRelated ProductsHomepageDataSearch Data CatalogGFSAD30AFCEv001DescriptionThe NASA Making Earth System Data Records for Use in Research Environments MEaSUREs Global Food Securitysupport Analysis Data GFSAD data product provides cropland extent data over the continent of Africa for nominal year 2015 at 30 meter resolution GFSAD30AFCE The monitoring of global cropland extent is critical for policymaking and provides important baseline data that are used in many agricultural cropland studies pertaining to water sustainability and food security The GFSAD30AFCE data product uses two pixelbased supervised classifiers Random Forest RF and Support Vector Machine SVM and one objectoriented classifier Recursive Hierarchical Image Segmentation RHSEG The classifiers retrieve cropland extent from a combination of Landsat 8 Operational Land Imager OLI and Sentinel2 MultiSpectral Instrument MSI data and elevation derived from the Shuttle Radar Topography Mission SRTM Version 3 data products Each GFSAD30AFCE GeoTIFF file contains a cropland extent layer that defines areas of cropland noncropland and water bodies over a 10 by 10 arearead moreCharacteristicsCollection and GranuleCollectionCharacteristicDescriptionCollectionMEaSUREs GFSADDOI105067MEaSUREsGFSADGFSAD30AFCE001File Size1904 MBTemporal ResolutionMultiYearTemporal Extent20130101 to 20160630Spatial ExtentAfricaCoordinate SystemGeographic Latitude and LongitudeDatumWorld Geodetic System WGS84File FormatGeoTIFFGeographic Dimensions10 x 10GranuleCharacteristicDescriptionNumber of Science Dataset SDS Layers1ColumnsRows37115 x 37375Pixel Size30 mLayers  VariablesSDS NameDescriptionUnitsData TypeFill ValueNo Data ValueValid RangeScale FactorBand 1Cropland Extent for Africa defined with three classesNA8bit unsigned integerNANA0 to 2NACropland Extent Class DescriptionsClass LabelNameDescription0WaterWater bodiesnodata1NonCroplandNonCropland areas2CroplandCropland areasFilename convention GFSAD30AFCE_2015_GridTile_001_ProcessingDateYYYYJJJHHMMSStifProduct QualityProduct Quality information can be found on page 19 of the Algorithm Theoretical Basis Document ATBDKnown IssuesKnown issues including constraints and limitations are provided on page 20 of the ATBDAbout the imageGlobal Food Securitysupport Analysis Data GFSAD Cropland Extent data from the GFSAD30AFCE product over eastern Africa 2015View fullsize imageDocumentationUser GuideAlgorithm Theoretical Basis Document ATBDSource CodeUsing the DataELearningData Citation Tips from NASAs Land Processes DAACPublicationsView research publications that used these dataEarthdata ForumJoin the data discussion over on the Earthdata ForumAccess DataToolFunctionalityDescriptionDownload DataData PoolDirect DownloadThe Data Pool is the publicly available portion of the LP DAAC online holdings Data Pool provides NASA Earthdata SearchBrowse Image Preview Direct Download Order Search SubsetEarthdata Search combines the latest EOSDIS service offerings with user experience research and eUSGS EarthExplorerBrowse Image Preview SearchThe EarthExplorer EE user interface developed by the United States Geological Survey USGS proDAAC2Disk UtilityDirect DownloadThe LP DAAC2Disk download manager allows users to simplify the search and HTTPS download process ofCitationDOI 105067MEaSUREsGFSADGFSAD30AFCE001Select a citation styleAPAChicago                       Copy Citation                Related ProductsView data products that are related to this productAbout                                About the LP DAAC                                                                                            News Archive                                                            Data                                View All Data                                                                                            Get Started with Data                                                                                            Collection Overviews                                                                                            Workflow Examples                                                                                            Search Data Catalog                                                                                            Data Citation and Policies                                                            Tools                                AppEEARS                                                                                            Data Pool                                                                                            DAAC2Disk Utility                                                                                            NASA Earthdata Search                                                                                            USGS EarthExplorer                                                                                            View All Tools                                                            Resources                                ELearning                                                                                            FAQs                                                                                            Data in Action                                                                                            Outreach Materials                                                                                            View All Resources                                                            Contact                                Contact LP DAAC                                                                                            Submit Data                                                                                            Earthdata Forum                                                                                                            DOI Privacy PolicyLegalAccessibilityContact USGSUS Department of the InteriorDOI Inspector GeneralWhite HouseEGovNo Fear ActFOIA47914 252nd Street                               Sioux Falls SD 571980001                            Voice 6055946116                              Toll Free 8665733222                             Fax 6055946963lpdaacusgsgov\u001b[0m\n"
     ]
    },
    {
     "name": "stdout",
     "output_type": "stream",
     "text": [
      "the system prompt is Extract metadata and entities details accurately from my requests.\n",
      "The messages is [{'role': 'system', 'content': 'Extract metadata and entities details accurately from my requests.'}, {'role': 'user', 'content': 'LP DAAC  GFSAD30AFCEHomeAboutAbout LP DAAC                                                                                                    News Archive                                                                                                    DataGet Started with Data                                                                                                    Search Data Catalog                                                                                                    Data Citations and Policies                                                                                                    View All DataToolsAppEEARSData PoolData Prep ScriptsNASA Earthdata SearchUSGS EarthExplorerView All ToolsResourcesData in Action                                                                                                    ELearning                                                                                                    Podcasts                                                                                                    Outreach Materials                                                                                                    Publications Table                                                                                                    FAQs                                                                                                    View All ResourcesContactContact Information                                                                                                    Submit Data                                                                                                    General Site SearchGFSAD30AFCE v001Global Food Securitysupport Analysis Data GFSAD Cropland Extent 2015 Africa 30 mPI Prasad ThenkabailDocumentationUsing the DataAccess DataCitationRelated ProductsHomepageDataSearch Data CatalogGFSAD30AFCEv001DescriptionThe NASA Making Earth System Data Records for Use in Research Environments MEaSUREs Global Food Securitysupport Analysis Data GFSAD data product provides cropland extent data over the continent of Africa for nominal year 2015 at 30 meter resolution GFSAD30AFCE The monitoring of global cropland extent is critical for policymaking and provides important baseline data that are used in many agricultural cropland studies pertaining to water sustainability and food security The GFSAD30AFCE data product uses two pixelbased supervised classifiers Random Forest RF and Support Vector Machine SVM and one objectoriented classifier Recursive Hierarchical Image Segmentation RHSEG The classifiers retrieve cropland extent from a combination of Landsat 8 Operational Land Imager OLI and Sentinel2 MultiSpectral Instrument MSI data and elevation derived from the Shuttle Radar Topography Mission SRTM Version 3 data products Each GFSAD30AFCE GeoTIFF file contains a cropland extent layer that defines areas of cropland noncropland and water bodies over a 10 by 10 arearead moreCharacteristicsCollection and GranuleCollectionCharacteristicDescriptionCollectionMEaSUREs GFSADDOI105067MEaSUREsGFSADGFSAD30AFCE001File Size1904 MBTemporal ResolutionMultiYearTemporal Extent20130101 to 20160630Spatial ExtentAfricaCoordinate SystemGeographic Latitude and LongitudeDatumWorld Geodetic System WGS84File FormatGeoTIFFGeographic Dimensions10 x 10GranuleCharacteristicDescriptionNumber of Science Dataset SDS Layers1ColumnsRows37115 x 37375Pixel Size30 mLayers  VariablesSDS NameDescriptionUnitsData TypeFill ValueNo Data ValueValid RangeScale FactorBand\\xa01Cropland\\xa0Extent for Africa defined with three classesNA8bit unsigned integerNANA0 to 2NACropland Extent Class DescriptionsClass LabelNameDescription0WaterWater bodiesnodata1NonCroplandNonCropland areas2CroplandCropland areasFilename convention GFSAD30AFCE_2015_GridTile_001_ProcessingDateYYYYJJJHHMMSStifProduct QualityProduct Quality information can be found on page 19 of the Algorithm Theoretical Basis Document ATBDKnown IssuesKnown issues including constraints and limitations are provided on page 20 of the ATBDAbout the imageGlobal Food Securitysupport Analysis Data GFSAD Cropland Extent data from the GFSAD30AFCE product over eastern Africa 2015View fullsize imageDocumentationUser GuideAlgorithm Theoretical Basis Document ATBDSource CodeUsing the DataELearningData Citation Tips from NASAs Land Processes DAACPublicationsView research publications that used these dataEarthdata ForumJoin the data discussion over on the Earthdata ForumAccess DataToolFunctionalityDescriptionDownload DataData PoolDirect DownloadThe Data Pool is the publicly available portion of the LP DAAC online holdings Data Pool provides NASA Earthdata SearchBrowse Image Preview Direct Download Order Search SubsetEarthdata Search combines the latest EOSDIS service offerings with user experience research and eUSGS EarthExplorerBrowse Image Preview SearchThe EarthExplorer EE user interface developed by the United States Geological Survey USGS proDAAC2Disk UtilityDirect DownloadThe LP DAAC2Disk download manager allows users to simplify the search and HTTPS download process ofCitationDOI 105067MEaSUREsGFSADGFSAD30AFCE001Select a citation styleAPAChicago                       Copy Citation                Related ProductsView data products that are related to this productAbout                                About the LP DAAC                                                                                            News Archive                                                            Data                                View All Data                                                                                            Get Started with Data                                                                                            Collection Overviews                                                                                            Workflow Examples                                                                                            Search Data Catalog                                                                                            Data Citation and Policies                                                            Tools                                AppEEARS                                                                                            Data Pool                                                                                            DAAC2Disk Utility                                                                                            NASA Earthdata Search                                                                                            USGS EarthExplorer                                                                                            View All Tools                                                            Resources                                ELearning                                                                                            FAQs                                                                                            Data in Action                                                                                            Outreach Materials                                                                                            View All Resources                                                            Contact                                Contact LP DAAC                                                                                            Submit Data                                                                                            Earthdata Forum                                                                                                            DOI Privacy PolicyLegalAccessibilityContact USGSUS Department of the InteriorDOI Inspector GeneralWhite HouseEGovNo Fear ActFOIA47914 252nd Street                               Sioux Falls SD 571980001                            Voice 6055946116                              Toll Free 8665733222                             Fax 6055946963lpdaacusgsgov'}]\n"
     ]
    },
    {
     "name": "stderr",
     "output_type": "stream",
     "text": [
      "\u001b[32m2024-02-07 12:05:58.301\u001b[0m | \u001b[34m\u001b[1mDEBUG   \u001b[0m | \u001b[36mlarch.metadata.extractors_openai\u001b[0m:\u001b[36m_extract\u001b[0m:\u001b[36m73\u001b[0m - \u001b[34m\u001b[1mnchars=8294\n",
      "Text :: LP DAAC  GFSAD30AUNZCNMOCEHomeAboutAbout LP DAAC                                                                                                    News Archive                                                                                                    DataGet Started with Data                                                                                                    Search Data Catalog                                                                                                    Data Citations and Policies                                                                                                    View All DataToolsAppEEARSData PoolData Prep ScriptsNASA Earthdata SearchUSGS EarthExplorerView All ToolsResourcesData in Action                                                                                                    ELearning                                                                                                    Podcasts                                                                                                    Outreach Materials                                                                                                    Publications Table                                                                                                    FAQs                                                                                                    View All ResourcesContactContact Information                                                                                                    Submit Data                                                                                                    General Site SearchGFSAD30AUNZCNMOCE v001Global Food Securitysupport Analysis Data GFSAD Cropland Extent 2015 Australia New Zealand China Mongolia 30 m PI Prasad ThenkabailDocumentationUsing the DataAccess DataCitationRelated ProductsHomepageDataSearch Data CatalogGFSAD30AUNZCNMOCEv001DescriptionThe NASA Making Earth System Data Records for Use in Research Environments MEaSUREs Global Food Securitysupport Analysis Data GFSAD data product provides cropland extent data over Australia New Zealand China and Mongolia for nominal year 2015 at 30 meter resolution GFSAD30AUNZCNMOCE The monitoring of global cropland extent is critical for policymaking and provides important baseline data that are used in many agricultural cropland studies pertaining to water sustainability and food security The GFSAD30AUNZCNMOCE data product uses the pixelbased supervised classifier Random Forest RF to retrieve cropland extent from a combination of Landsat 8 Operational Land Imager OLI and Landsat 7 Enhanced Thematic Mapper Plus ETM data Each GFSAD30AUNZCNMOCE GeoTIFF file contains a cropland extent layer that defines areas of cropland noncropland and water bodies over a 10 by 10 arearead moreCharacteristicsCollection and GranuleCollectionCharacteristicDescriptionCollectionMEaSUREs GFSADDOI105067MEaSUREsGFSADGFSAD30AUNZCNMOCE001File Size1949 MBTemporal ResolutionMultiYearTemporal Extent20130101 to 20161231Spatial ExtentAustralia New Zealand China MongoliaCoordinate SystemGeographic Latitude and LongitudeDatumWorld Geodetic System WGS84File FormatGeoTIFFGeographic Dimensions10 x 10GranuleCharacteristicDescriptionNumber of Science Dataset SDS Layers1ColumnsRows37114 x 37253Pixel Size30 mLayers  VariablesSDS NameDescriptionUnitsData TypeFill ValueNo Data ValueValid RangeScale FactorBand 1Cropland Extent for Australia New Zealand China and Mongolia defined with three classesNA8bit unsigned integerNANA0 to 2NACropland Extent Class DescriptionsClass LabelNameDescription0WaterOcean and water bodies1NonCroplandNonCropland areas2CroplandCropland and cropland fallowsFilename convention GFSAD30AUNZCNMOCE_2015_GridTile_001_ProcessingDateYYYYJJJHHMMSStifProduct QualityProduct Quality information can be found on page 19 of the Algorithm Theoretical Basis Document ATBDKnown IssuesNote overlapping tiles The following tile also covers part of another tile in GFSAD30SEACE Indonesia Please ignore the Indonesian data in the following tile GFSAD30AUNZCNMOCE_2015_S20E120_001_2017286154500tifAdditional known issues including constraints and limitations are provided on page 22 of the ATBDAbout the imageGlobal Food Securitysupport Analysis Data GFSAD Cropland Extent data from the GFSAD30AUNZCNMOCE product over Mongolia 2015View fullsize imageDocumentationUser GuideAlgorithm Theoretical Basis Document ATBDSource CodeUsing the DataELearningData Citation Tips from NASAs Land Processes DAACPublicationsView research publications that used these dataEarthdata ForumJoin the data discussion over on the Earthdata ForumAccess DataToolFunctionalityDescriptionDownload DataData PoolDirect DownloadThe Data Pool is the publicly available portion of the LP DAAC online holdings Data Pool provides NASA Earthdata SearchBrowse Image Preview Direct Download Order Search SubsetEarthdata Search combines the latest EOSDIS service offerings with user experience research and eUSGS EarthExplorerBrowse Image Preview SearchThe EarthExplorer EE user interface developed by the United States Geological Survey USGS proDAAC2Disk UtilityDirect DownloadThe LP DAAC2Disk download manager allows users to simplify the search and HTTPS download process ofCitationDOI 105067MEaSUREsGFSADGFSAD30AUNZCNMOCE001Select a citation styleAPAChicago                       Copy Citation                Related ProductsView data products that are related to this productAbout                                About the LP DAAC                                                                                            News Archive                                                            Data                                View All Data                                                                                            Get Started with Data                                                                                            Collection Overviews                                                                                            Workflow Examples                                                                                            Search Data Catalog                                                                                            Data Citation and Policies                                                            Tools                                AppEEARS                                                                                            Data Pool                                                                                            DAAC2Disk Utility                                                                                            NASA Earthdata Search                                                                                            USGS EarthExplorer                                                                                            View All Tools                                                            Resources                                ELearning                                                                                            FAQs                                                                                            Data in Action                                                                                            Outreach Materials                                                                                            View All Resources                                                            Contact                                Contact LP DAAC                                                                                            Submit Data                                                                                            Earthdata Forum                                                                                                            DOI Privacy PolicyLegalAccessibilityContact USGSUS Department of the InteriorDOI Inspector GeneralWhite HouseEGovNo Fear ActFOIA47914 252nd Street                               Sioux Falls SD 571980001                            Voice 6055946116                              Toll Free 8665733222                             Fax 6055946963lpdaacusgsgov\u001b[0m\n"
     ]
    },
    {
     "name": "stdout",
     "output_type": "stream",
     "text": [
      "the system prompt is Extract metadata and entities details accurately from my requests.\n",
      "The messages is [{'role': 'system', 'content': 'Extract metadata and entities details accurately from my requests.'}, {'role': 'user', 'content': 'LP DAAC  GFSAD30AUNZCNMOCEHomeAboutAbout LP DAAC                                                                                                    News Archive                                                                                                    DataGet Started with Data                                                                                                    Search Data Catalog                                                                                                    Data Citations and Policies                                                                                                    View All DataToolsAppEEARSData PoolData Prep ScriptsNASA Earthdata SearchUSGS EarthExplorerView All ToolsResourcesData in Action                                                                                                    ELearning                                                                                                    Podcasts                                                                                                    Outreach Materials                                                                                                    Publications Table                                                                                                    FAQs                                                                                                    View All ResourcesContactContact Information                                                                                                    Submit Data                                                                                                    General Site SearchGFSAD30AUNZCNMOCE v001Global Food Securitysupport Analysis Data GFSAD Cropland Extent 2015 Australia New Zealand China Mongolia 30 m PI Prasad ThenkabailDocumentationUsing the DataAccess DataCitationRelated ProductsHomepageDataSearch Data CatalogGFSAD30AUNZCNMOCEv001DescriptionThe NASA Making Earth System Data Records for Use in Research Environments MEaSUREs Global Food Securitysupport Analysis Data GFSAD data product provides cropland extent data over Australia New Zealand China and Mongolia for nominal year 2015 at 30 meter resolution GFSAD30AUNZCNMOCE The monitoring of global cropland extent is critical for policymaking and provides important baseline data that are used in many agricultural cropland studies pertaining to water sustainability and food security The GFSAD30AUNZCNMOCE data product uses the pixelbased supervised classifier Random Forest RF to retrieve cropland extent from a combination of Landsat 8 Operational Land Imager OLI and Landsat 7 Enhanced Thematic Mapper Plus ETM data Each GFSAD30AUNZCNMOCE GeoTIFF file contains a cropland extent layer that defines areas of cropland noncropland and water bodies over a 10 by 10 arearead moreCharacteristicsCollection and GranuleCollectionCharacteristicDescriptionCollectionMEaSUREs GFSADDOI105067MEaSUREsGFSADGFSAD30AUNZCNMOCE001File Size1949 MBTemporal ResolutionMultiYearTemporal Extent20130101 to 20161231Spatial ExtentAustralia New Zealand China MongoliaCoordinate SystemGeographic Latitude and LongitudeDatumWorld Geodetic System WGS84File FormatGeoTIFFGeographic Dimensions10 x 10GranuleCharacteristicDescriptionNumber of Science Dataset SDS Layers1ColumnsRows37114 x 37253Pixel Size30 mLayers  VariablesSDS NameDescriptionUnitsData TypeFill ValueNo Data ValueValid RangeScale FactorBand\\xa01Cropland\\xa0Extent for Australia\\xa0New Zealand China and Mongolia defined with three classesNA8bit unsigned integerNANA0 to 2NACropland Extent Class DescriptionsClass LabelNameDescription0WaterOcean and water bodies1NonCroplandNonCropland areas2CroplandCropland and cropland fallowsFilename convention GFSAD30AUNZCNMOCE_2015_GridTile_001_ProcessingDateYYYYJJJHHMMSStifProduct QualityProduct Quality information can be found on page 19 of the Algorithm Theoretical Basis Document ATBDKnown IssuesNote overlapping tiles The following tile also covers part of another tile in GFSAD30SEACE Indonesia Please ignore the Indonesian data in the following tile GFSAD30AUNZCNMOCE_2015_S20E120_001_2017286154500tifAdditional known issues including constraints and limitations are provided on page 22 of the ATBDAbout the imageGlobal Food Securitysupport Analysis Data GFSAD Cropland Extent data from the GFSAD30AUNZCNMOCE product over Mongolia 2015View fullsize imageDocumentationUser GuideAlgorithm Theoretical Basis Document ATBDSource CodeUsing the DataELearningData Citation Tips from NASAs Land Processes DAACPublicationsView research publications that used these dataEarthdata ForumJoin the data discussion over on the Earthdata ForumAccess DataToolFunctionalityDescriptionDownload DataData PoolDirect DownloadThe Data Pool is the publicly available portion of the LP DAAC online holdings Data Pool provides NASA Earthdata SearchBrowse Image Preview Direct Download Order Search SubsetEarthdata Search combines the latest EOSDIS service offerings with user experience research and eUSGS EarthExplorerBrowse Image Preview SearchThe EarthExplorer EE user interface developed by the United States Geological Survey USGS proDAAC2Disk UtilityDirect DownloadThe LP DAAC2Disk download manager allows users to simplify the search and HTTPS download process ofCitationDOI 105067MEaSUREsGFSADGFSAD30AUNZCNMOCE001Select a citation styleAPAChicago                       Copy Citation                Related ProductsView data products that are related to this productAbout                                About the LP DAAC                                                                                            News Archive                                                            Data                                View All Data                                                                                            Get Started with Data                                                                                            Collection Overviews                                                                                            Workflow Examples                                                                                            Search Data Catalog                                                                                            Data Citation and Policies                                                            Tools                                AppEEARS                                                                                            Data Pool                                                                                            DAAC2Disk Utility                                                                                            NASA Earthdata Search                                                                                            USGS EarthExplorer                                                                                            View All Tools                                                            Resources                                ELearning                                                                                            FAQs                                                                                            Data in Action                                                                                            Outreach Materials                                                                                            View All Resources                                                            Contact                                Contact LP DAAC                                                                                            Submit Data                                                                                            Earthdata Forum                                                                                                            DOI Privacy PolicyLegalAccessibilityContact USGSUS Department of the InteriorDOI Inspector GeneralWhite HouseEGovNo Fear ActFOIA47914 252nd Street                               Sioux Falls SD 571980001                            Voice 6055946116                              Toll Free 8665733222                             Fax 6055946963lpdaacusgsgov'}]\n"
     ]
    },
    {
     "name": "stderr",
     "output_type": "stream",
     "text": [
      "\u001b[32m2024-02-07 12:06:01.019\u001b[0m | \u001b[34m\u001b[1mDEBUG   \u001b[0m | \u001b[36mlarch.metadata.extractors_openai\u001b[0m:\u001b[36m_extract\u001b[0m:\u001b[36m73\u001b[0m - \u001b[34m\u001b[1mnchars=8162\n",
      "Text :: LP DAAC  GFSAD30SEACEHomeAboutAbout LP DAAC                                                                                                    News Archive                                                                                                    DataGet Started with Data                                                                                                    Search Data Catalog                                                                                                    Data Citations and Policies                                                                                                    View All DataToolsAppEEARSData PoolData Prep ScriptsNASA Earthdata SearchUSGS EarthExplorerView All ToolsResourcesData in Action                                                                                                    ELearning                                                                                                    Podcasts                                                                                                    Outreach Materials                                                                                                    Publications Table                                                                                                    FAQs                                                                                                    View All ResourcesContactContact Information                                                                                                    Submit Data                                                                                                    General Site SearchGFSAD30SEACE v001Global Food Securitysupport Analysis Data GFSAD Cropland Extent 2015 Southeast and Northeast Asia 30 mPI Prasad ThenkabailDocumentationUsing the DataAccess DataCitationRelated ProductsHomepageDataSearch Data CatalogGFSAD30SEACEv001DescriptionThe NASA Making Earth System Data Records for Use in Research Environments MEaSUREs Global Food Securitysupport Analysis Data GFSAD data product provides cropland extent data over Southeast and Northeast Asia for nominal year 2015 at 30 meter resolution GFSAD30SEACE The monitoring of global cropland extent is critical for policymaking and provides important baseline data that are used in many agricultural cropland studies pertaining to water sustainability and food security The GFSAD30SEACE data product uses the pixelbased supervised classifiers Random Forest RF to retrieve cropland extent from a combination of Landsat 8 Operational Land Imager OLI Landsat 7 Enhanced Thematic Mapper Plus ETM and elevation derived from the Shuttle Radar Topography Mission SRTM Version 3 data products Each GFSAD30SEACE GeoTIFF file contains a cropland extent layer that defines areas of cropland noncropland and water bodies over a 10 by 10 arearead moreCharacteristicsCollection and GranuleCollectionCharacteristicDescriptionCollectionMEaSUREs GFSADDOI105067MEaSUREsGFSADGFSAD30SEACE001File Size1147 MBTemporal ResolutionMultiYearTemporal Extent20130101 to 20161231Spatial ExtentSoutheast and Northeast AsiaCoordinate SystemGeographic Latitude and LongitudeDatumWorld Geodetic System WGS84File FormatGeoTIFFGeographic Dimensions10 x 10GranuleCharacteristicDescriptionNumber of Science Dataset SDS Layers1ColumnsRows37114 x 37253Pixel Size30 mLayers  VariablesSDS NameDescriptionUnitsData TypeFill ValueNo Data ValueValid RangeScale FactorBand 1Cropland Extent for Southeast and Northeast Asia defined with three classesNA8bit unsigned integerNANA0 to 2NACropland Extent Class DescriptionsClass LabelNameDescription0WaterWater bodies1NonCroplandNonCropland areas2CroplandCropland areasFilename convention GFSAD30SEACE_2015_GridTile_001_ProcessingDateYYYYJJJHHMMSStifProduct QualityProduct Quality information can be found on page 17 of the Algorithm Theoretical Basis Document ATBDKnown IssuesCertain small islands in the Pacific are not classified and therefore data for these areas are not providedAdditional known issues including constraints and limitations are provided on page 19 of the ATBDAbout the imageGlobal Food Securitysupport Analysis Data GFSAD Cropland Extent data from the GFSAD30SEACE product over Thailand 2015View fullsize imageDocumentationUser GuideAlgorithm Theoretical Basis Document ATBDSource CodeUsing the DataELearningData Citation Tips from NASAs Land Processes DAACPublicationsView research publications that used these dataEarthdata ForumJoin the data discussion over on the Earthdata ForumAccess DataToolFunctionalityDescriptionDownload DataData PoolDirect DownloadThe Data Pool is the publicly available portion of the LP DAAC online holdings Data Pool provides NASA Earthdata SearchBrowse Image Preview Direct Download Order Search SubsetEarthdata Search combines the latest EOSDIS service offerings with user experience research and eUSGS EarthExplorerBrowse Image Preview SearchThe EarthExplorer EE user interface developed by the United States Geological Survey USGS proDAAC2Disk UtilityDirect DownloadThe LP DAAC2Disk download manager allows users to simplify the search and HTTPS download process ofCitationDOI 105067MEaSUREsGFSADGFSAD30SEACE001Select a citation styleAPAChicago                       Copy Citation                Related ProductsView data products that are related to this productAbout                                About the LP DAAC                                                                                            News Archive                                                            Data                                View All Data                                                                                            Get Started with Data                                                                                            Collection Overviews                                                                                            Workflow Examples                                                                                            Search Data Catalog                                                                                            Data Citation and Policies                                                            Tools                                AppEEARS                                                                                            Data Pool                                                                                            DAAC2Disk Utility                                                                                            NASA Earthdata Search                                                                                            USGS EarthExplorer                                                                                            View All Tools                                                            Resources                                ELearning                                                                                            FAQs                                                                                            Data in Action                                                                                            Outreach Materials                                                                                            View All Resources                                                            Contact                                Contact LP DAAC                                                                                            Submit Data                                                                                            Earthdata Forum                                                                                                            DOI Privacy PolicyLegalAccessibilityContact USGSUS Department of the InteriorDOI Inspector GeneralWhite HouseEGovNo Fear ActFOIA47914 252nd Street                               Sioux Falls SD 571980001                            Voice 6055946116                              Toll Free 8665733222                             Fax 6055946963lpdaacusgsgov\u001b[0m\n"
     ]
    },
    {
     "name": "stdout",
     "output_type": "stream",
     "text": [
      "the system prompt is Extract metadata and entities details accurately from my requests.\n",
      "The messages is [{'role': 'system', 'content': 'Extract metadata and entities details accurately from my requests.'}, {'role': 'user', 'content': 'LP DAAC  GFSAD30SEACEHomeAboutAbout LP DAAC                                                                                                    News Archive                                                                                                    DataGet Started with Data                                                                                                    Search Data Catalog                                                                                                    Data Citations and Policies                                                                                                    View All DataToolsAppEEARSData PoolData Prep ScriptsNASA Earthdata SearchUSGS EarthExplorerView All ToolsResourcesData in Action                                                                                                    ELearning                                                                                                    Podcasts                                                                                                    Outreach Materials                                                                                                    Publications Table                                                                                                    FAQs                                                                                                    View All ResourcesContactContact Information                                                                                                    Submit Data                                                                                                    General Site SearchGFSAD30SEACE v001Global Food Securitysupport Analysis Data GFSAD Cropland Extent 2015 Southeast and Northeast Asia 30 mPI Prasad ThenkabailDocumentationUsing the DataAccess DataCitationRelated ProductsHomepageDataSearch Data CatalogGFSAD30SEACEv001DescriptionThe NASA Making Earth System Data Records for Use in Research Environments MEaSUREs Global Food Securitysupport Analysis Data GFSAD data product provides cropland extent data over Southeast and Northeast Asia for nominal year 2015 at 30 meter resolution GFSAD30SEACE The monitoring of global cropland extent is critical for policymaking and provides important baseline data that are used in many agricultural cropland studies pertaining to water sustainability and food security The GFSAD30SEACE data product uses the pixelbased supervised classifiers Random Forest RF to retrieve cropland extent from a combination of Landsat 8 Operational Land Imager OLI Landsat 7 Enhanced Thematic Mapper Plus ETM and elevation derived from the Shuttle Radar Topography Mission SRTM Version 3 data products Each GFSAD30SEACE GeoTIFF file contains a cropland extent layer that defines areas of cropland noncropland and water bodies over a 10 by 10 arearead moreCharacteristicsCollection and GranuleCollectionCharacteristicDescriptionCollectionMEaSUREs GFSADDOI105067MEaSUREsGFSADGFSAD30SEACE001File Size1147 MBTemporal ResolutionMultiYearTemporal Extent20130101 to 20161231Spatial ExtentSoutheast and Northeast AsiaCoordinate SystemGeographic Latitude and LongitudeDatumWorld Geodetic System WGS84File FormatGeoTIFFGeographic Dimensions10 x 10GranuleCharacteristicDescriptionNumber of Science Dataset SDS Layers1ColumnsRows37114 x 37253Pixel Size30 mLayers  VariablesSDS NameDescriptionUnitsData TypeFill ValueNo Data ValueValid RangeScale FactorBand\\xa01Cropland\\xa0Extent for Southeast and Northeast Asia defined with three classesNA8bit unsigned integerNANA0 to 2NACropland Extent Class DescriptionsClass LabelNameDescription0WaterWater bodies1NonCroplandNonCropland areas2CroplandCropland areasFilename convention GFSAD30SEACE_2015_GridTile_001_ProcessingDateYYYYJJJHHMMSStifProduct QualityProduct Quality information can be found on page 17 of the Algorithm Theoretical Basis Document ATBDKnown IssuesCertain small islands in the Pacific are not classified and therefore data for these areas are not providedAdditional known issues including constraints and limitations are provided on page 19 of the ATBDAbout the imageGlobal Food Securitysupport Analysis Data GFSAD Cropland Extent data from the GFSAD30SEACE product over Thailand 2015View fullsize imageDocumentationUser GuideAlgorithm Theoretical Basis Document ATBDSource CodeUsing the DataELearningData Citation Tips from NASAs Land Processes DAACPublicationsView research publications that used these dataEarthdata ForumJoin the data discussion over on the Earthdata ForumAccess DataToolFunctionalityDescriptionDownload DataData PoolDirect DownloadThe Data Pool is the publicly available portion of the LP DAAC online holdings Data Pool provides NASA Earthdata SearchBrowse Image Preview Direct Download Order Search SubsetEarthdata Search combines the latest EOSDIS service offerings with user experience research and eUSGS EarthExplorerBrowse Image Preview SearchThe EarthExplorer EE user interface developed by the United States Geological Survey USGS proDAAC2Disk UtilityDirect DownloadThe LP DAAC2Disk download manager allows users to simplify the search and HTTPS download process ofCitationDOI 105067MEaSUREsGFSADGFSAD30SEACE001Select a citation styleAPAChicago                       Copy Citation                Related ProductsView data products that are related to this productAbout                                About the LP DAAC                                                                                            News Archive                                                            Data                                View All Data                                                                                            Get Started with Data                                                                                            Collection Overviews                                                                                            Workflow Examples                                                                                            Search Data Catalog                                                                                            Data Citation and Policies                                                            Tools                                AppEEARS                                                                                            Data Pool                                                                                            DAAC2Disk Utility                                                                                            NASA Earthdata Search                                                                                            USGS EarthExplorer                                                                                            View All Tools                                                            Resources                                ELearning                                                                                            FAQs                                                                                            Data in Action                                                                                            Outreach Materials                                                                                            View All Resources                                                            Contact                                Contact LP DAAC                                                                                            Submit Data                                                                                            Earthdata Forum                                                                                                            DOI Privacy PolicyLegalAccessibilityContact USGSUS Department of the InteriorDOI Inspector GeneralWhite HouseEGovNo Fear ActFOIA47914 252nd Street                               Sioux Falls SD 571980001                            Voice 6055946116                              Toll Free 8665733222                             Fax 6055946963lpdaacusgsgov'}]\n"
     ]
    },
    {
     "name": "stderr",
     "output_type": "stream",
     "text": [
      "\u001b[32m2024-02-07 12:06:03.758\u001b[0m | \u001b[34m\u001b[1mDEBUG   \u001b[0m | \u001b[36mlarch.metadata.extractors_openai\u001b[0m:\u001b[36m_extract\u001b[0m:\u001b[36m73\u001b[0m - \u001b[34m\u001b[1mnchars=8181\n",
      "Text :: LP DAAC  GFSAD30EUCEARUMECEHomeAboutAbout LP DAAC                                                                                                    News Archive                                                                                                    DataGet Started with Data                                                                                                    Search Data Catalog                                                                                                    Data Citations and Policies                                                                                                    View All DataToolsAppEEARSData PoolData Prep ScriptsNASA Earthdata SearchUSGS EarthExplorerView All ToolsResourcesData in Action                                                                                                    ELearning                                                                                                    Podcasts                                                                                                    Outreach Materials                                                                                                    Publications Table                                                                                                    FAQs                                                                                                    View All ResourcesContactContact Information                                                                                                    Submit Data                                                                                                    General Site SearchGFSAD30EUCEARUMECE v001Global Food Securitysupport Analysis Data GFSAD Cropland Extent 2015 Europe Central Asia Russia Middle East 30 m PI Prasad ThenkabailDocumentationUsing the DataAccess DataCitationRelated ProductsHomepageDataSearch Data CatalogGFSAD30EUCEARUMECEv001DescriptionThe NASA Making Earth System Data Records for Use in Research Environments MEaSUREs Global Food Securitysupport Analysis Data GFSAD data product provides cropland extent data over Europe Central Asia Russia and the Middle East for nominal year 2015 at 30 meter resolution GFSAD30EUCEARUMECE The monitoring of global cropland extent is critical for policymaking and provides important baseline data that are used in many agricultural cropland studies pertaining to water sustainability and food security The GFSAD30EUCEARUMECE product uses a pixelbased supervised random forest machine learning algorithm to retrieve cropland extent from a combination of Landsat 7 Enhanced Thematic Mapper ETM Landsat 8 Operational Land Imager OLI data and elevation derived from the Shuttle Radar Topography Mission SRTM Version 3 data products Each GFSAD30EUCEARUMECE GeoTIFF file contains a cropland extent layer that defines areas of cropland noncropland and water bodies over a 10 by 10 arearead moreCharacteristicsCollection and GranuleCollectionCharacteristicDescriptionCollectionMEaSUREs GFSADDOI105067MEaSUREsGFSADGFSAD30EUCEARUMECE001File Size2929 MBTemporal ResolutionMultiYearTemporal Extent20130101 to 20161231Spatial ExtentEurope Central Asia Russia and the Middle EastCoordinate SystemGeographic Latitude and LongitudeDatumWorld Geodetic System WGS84File FormatGeoTIFFGeographic Dimensions10 x 10GranuleCharacteristicDescriptionNumber of Science Dataset SDS Layers1ColumnsRows37115 x 37375Pixel Size30 mLayers  VariablesSDS NameDescriptionUnitsData TypeFill ValueNo Data ValueValid RangeScale FactorBand 1Cropland Extent for Europe Central Asia Russia and the Middle East defined with three classesNA8bit unsigned integerNANA0 to 2NACropland Extent Class DescriptionsClass LabelNameDescription0WaterWater bodies1NonCroplandNonCropland areas2CroplandCropland areasFilename convention GFSAD30EUCEARUMECE _2015_GridTile_001_ProcessingDateYYYYJJJHHMMSStifProduct QualityProduct Quality information can be found on page 19 of the Algorithm Theoretical Basis Document ATBDKnown IssuesKnown issues including constraints and limitations are provided on page 20 of the ATBDAbout the imageGlobal Food Securitysupport Analysis Data GFSAD Cropland Extent data from the GFSAD30EUCEARUMECE product over eastern Europe 2015View fullsize imageDocumentationUser GuideAlgorithm Theoretical Basis Document ATBDSource CodeUsing the DataELearningData Citation Tips from NASAs Land Processes DAACPublicationsView research publications that used these dataEarthdata ForumJoin the data discussion over on the Earthdata ForumAccess DataToolFunctionalityDescriptionDownload DataData PoolDirect DownloadThe Data Pool is the publicly available portion of the LP DAAC online holdings Data Pool provides NASA Earthdata SearchBrowse Image Preview Direct Download Order Search SubsetEarthdata Search combines the latest EOSDIS service offerings with user experience research and eUSGS EarthExplorerBrowse Image Preview SearchThe EarthExplorer EE user interface developed by the United States Geological Survey USGS proDAAC2Disk UtilityDirect DownloadThe LP DAAC2Disk download manager allows users to simplify the search and HTTPS download process ofCitationDOI 105067MEaSUREsGFSADGFSAD30EUCEARUMECE001Select a citation styleAPAChicago                       Copy Citation                Related ProductsView data products that are related to this productAbout                                About the LP DAAC                                                                                            News Archive                                                            Data                                View All Data                                                                                            Get Started with Data                                                                                            Collection Overviews                                                                                            Workflow Examples                                                                                            Search Data Catalog                                                                                            Data Citation and Policies                                                            Tools                                AppEEARS                                                                                            Data Pool                                                                                            DAAC2Disk Utility                                                                                            NASA Earthdata Search                                                                                            USGS EarthExplorer                                                                                            View All Tools                                                            Resources                                ELearning                                                                                            FAQs                                                                                            Data in Action                                                                                            Outreach Materials                                                                                            View All Resources                                                            Contact                                Contact LP DAAC                                                                                            Submit Data                                                                                            Earthdata Forum                                                                                                            DOI Privacy PolicyLegalAccessibilityContact USGSUS Department of the InteriorDOI Inspector GeneralWhite HouseEGovNo Fear ActFOIA47914 252nd Street                               Sioux Falls SD 571980001                            Voice 6055946116                              Toll Free 8665733222                             Fax 6055946963lpdaacusgsgov\u001b[0m\n"
     ]
    },
    {
     "name": "stdout",
     "output_type": "stream",
     "text": [
      "the system prompt is Extract metadata and entities details accurately from my requests.\n",
      "The messages is [{'role': 'system', 'content': 'Extract metadata and entities details accurately from my requests.'}, {'role': 'user', 'content': 'LP DAAC  GFSAD30EUCEARUMECEHomeAboutAbout LP DAAC                                                                                                    News Archive                                                                                                    DataGet Started with Data                                                                                                    Search Data Catalog                                                                                                    Data Citations and Policies                                                                                                    View All DataToolsAppEEARSData PoolData Prep ScriptsNASA Earthdata SearchUSGS EarthExplorerView All ToolsResourcesData in Action                                                                                                    ELearning                                                                                                    Podcasts                                                                                                    Outreach Materials                                                                                                    Publications Table                                                                                                    FAQs                                                                                                    View All ResourcesContactContact Information                                                                                                    Submit Data                                                                                                    General Site SearchGFSAD30EUCEARUMECE v001Global Food Securitysupport Analysis Data GFSAD Cropland Extent 2015 Europe Central Asia Russia Middle East 30 m PI Prasad ThenkabailDocumentationUsing the DataAccess DataCitationRelated ProductsHomepageDataSearch Data CatalogGFSAD30EUCEARUMECEv001DescriptionThe NASA Making Earth System Data Records for Use in Research Environments MEaSUREs Global Food Securitysupport Analysis Data GFSAD data product provides cropland extent data over Europe Central Asia Russia and the Middle East for nominal year 2015 at 30 meter resolution GFSAD30EUCEARUMECE The monitoring of global cropland extent is critical for policymaking and provides important baseline data that are used in many agricultural cropland studies pertaining to water sustainability and food security The GFSAD30EUCEARUMECE product uses a pixelbased supervised random forest machine learning algorithm to retrieve cropland extent from a combination of Landsat 7 Enhanced Thematic Mapper ETM Landsat 8 Operational Land Imager OLI data and elevation derived from the Shuttle Radar Topography Mission SRTM Version 3 data products Each GFSAD30EUCEARUMECE GeoTIFF file contains a cropland extent layer that defines areas of cropland noncropland and water bodies over a 10 by 10 arearead moreCharacteristicsCollection and GranuleCollectionCharacteristicDescriptionCollectionMEaSUREs GFSADDOI105067MEaSUREsGFSADGFSAD30EUCEARUMECE001File Size2929 MBTemporal ResolutionMultiYearTemporal Extent20130101 to 20161231Spatial ExtentEurope Central Asia Russia and the Middle EastCoordinate SystemGeographic Latitude and LongitudeDatumWorld Geodetic System WGS84File FormatGeoTIFFGeographic Dimensions10 x 10GranuleCharacteristicDescriptionNumber of Science Dataset SDS Layers1ColumnsRows37115 x 37375Pixel Size30 mLayers  VariablesSDS NameDescriptionUnitsData TypeFill ValueNo Data ValueValid RangeScale FactorBand\\xa01Cropland\\xa0Extent for Europe\\xa0Central Asia Russia and the Middle East defined with three classesNA8bit unsigned integerNANA0 to 2NACropland Extent Class DescriptionsClass LabelNameDescription0WaterWater bodies1NonCroplandNonCropland areas2CroplandCropland areasFilename convention GFSAD30EUCEARUMECE _2015_GridTile_001_ProcessingDateYYYYJJJHHMMSStifProduct QualityProduct Quality information can be found on page 19 of the Algorithm Theoretical Basis Document ATBDKnown IssuesKnown issues including constraints and limitations are provided on page 20 of the ATBDAbout the imageGlobal Food Securitysupport Analysis Data GFSAD Cropland Extent data from the GFSAD30EUCEARUMECE product over eastern Europe 2015View fullsize imageDocumentationUser GuideAlgorithm Theoretical Basis Document ATBDSource CodeUsing the DataELearningData Citation Tips from NASAs Land Processes DAACPublicationsView research publications that used these dataEarthdata ForumJoin the data discussion over on the Earthdata ForumAccess DataToolFunctionalityDescriptionDownload DataData PoolDirect DownloadThe Data Pool is the publicly available portion of the LP DAAC online holdings Data Pool provides NASA Earthdata SearchBrowse Image Preview Direct Download Order Search SubsetEarthdata Search combines the latest EOSDIS service offerings with user experience research and eUSGS EarthExplorerBrowse Image Preview SearchThe EarthExplorer EE user interface developed by the United States Geological Survey USGS proDAAC2Disk UtilityDirect DownloadThe LP DAAC2Disk download manager allows users to simplify the search and HTTPS download process ofCitationDOI 105067MEaSUREsGFSADGFSAD30EUCEARUMECE001Select a citation styleAPAChicago                       Copy Citation                Related ProductsView data products that are related to this productAbout                                About the LP DAAC                                                                                            News Archive                                                            Data                                View All Data                                                                                            Get Started with Data                                                                                            Collection Overviews                                                                                            Workflow Examples                                                                                            Search Data Catalog                                                                                            Data Citation and Policies                                                            Tools                                AppEEARS                                                                                            Data Pool                                                                                            DAAC2Disk Utility                                                                                            NASA Earthdata Search                                                                                            USGS EarthExplorer                                                                                            View All Tools                                                            Resources                                ELearning                                                                                            FAQs                                                                                            Data in Action                                                                                            Outreach Materials                                                                                            View All Resources                                                            Contact                                Contact LP DAAC                                                                                            Submit Data                                                                                            Earthdata Forum                                                                                                            DOI Privacy PolicyLegalAccessibilityContact USGSUS Department of the InteriorDOI Inspector GeneralWhite HouseEGovNo Fear ActFOIA47914 252nd Street                               Sioux Falls SD 571980001                            Voice 6055946116                              Toll Free 8665733222                             Fax 6055946963lpdaacusgsgov'}]\n"
     ]
    },
    {
     "name": "stderr",
     "output_type": "stream",
     "text": [
      "\u001b[32m2024-02-07 12:06:05.548\u001b[0m | \u001b[34m\u001b[1mDEBUG   \u001b[0m | \u001b[36mlarch.metadata.extractors_openai\u001b[0m:\u001b[36m_extract\u001b[0m:\u001b[36m73\u001b[0m - \u001b[34m\u001b[1mnchars=8082\n",
      "Text :: LP DAAC  GFSAD30SACEHomeAboutAbout LP DAAC                                                                                                    News Archive                                                                                                    DataGet Started with Data                                                                                                    Search Data Catalog                                                                                                    Data Citations and Policies                                                                                                    View All DataToolsAppEEARSData PoolData Prep ScriptsNASA Earthdata SearchUSGS EarthExplorerView All ToolsResourcesData in Action                                                                                                    ELearning                                                                                                    Podcasts                                                                                                    Outreach Materials                                                                                                    Publications Table                                                                                                    FAQs                                                                                                    View All ResourcesContactContact Information                                                                                                    Submit Data                                                                                                    General Site SearchGFSAD30SACE v001Global Food Securitysupport Analysis Data GFSAD Cropland Extent 2015 South America 30 mPI Prasad ThenkabailDocumentationUsing the DataAccess DataCitationRelated ProductsHomepageDataSearch Data CatalogGFSAD30SACEv001DescriptionThe NASA Making Earth System Data Records for Use in Research Environments MEaSUREs Global Food Securitysupport Analysis Data GFSAD data product provides cropland extent data over South America for nominal year 2015 at 30 meter resolution GFSAD30SACE The monitoring of global cropland extent is critical for policymaking and provides important baseline data that are used in many agricultural cropland studies pertaining to water sustainability and food security The GFSAD30SACE data product uses the pixelbased supervised classifier Random Forest RF to retrieve cropland extent from a combination of Landsat 5 Thematic Mapper TM Landsat 7 Enhanced Thematic Mapper Plus ETM Landsat 8 Operational Land Imager OLI data and elevation derived from the Shuttle Radar Topography Mission SRTM Version 3 data products Each GFSAD30SACE GeoTIFF file contains a cropland extent layer that defines areas of cropland noncropland and water bodies over a 10 by 10 arearead moreCharacteristicsCollection and GranuleCollectionCharacteristicDescriptionCollectionMEaSUREs GFSADDOI105067MEaSUREsGFSADGFSAD30SACE001File Size2797 MBTemporal ResolutionMultiYearTemporal Extent20130101 to 20161231Spatial ExtentSouth AmericaCoordinate SystemGeographic Latitude and LongitudeDatumWorld Geodetic System WGS84File FormatGeoTIFFGeographic Dimensions10 x 10GranuleCharacteristicDescriptionNumber of Science Dataset SDS Layers1ColumnsRows37114 x 37253Pixel Size30 mLayers  VariablesSDS NameDescriptionUnitsData TypeFill ValueNo Data ValueValid RangeScale FactorBand 1Cropland Extent for South America defined with three classesNA8bit unsigned integerNANA0 to 2NACropland Extent Class DescriptionsClass LabelNameDescription0WaterWater bodies1NonCroplandNonCropland areas2CroplandCropland areasFilename convention GFSAD30SACE_2015_GridTile_001_ProcessingDateYYYYJJJHHMMSStifProduct QualityProduct Quality information can be found on page 17 of the Algorithm Theoretical Basis Document ATBDKnown IssuesKnown issues including constraints and limitations are provided on page 18 of the ATBDAbout the imageGlobal Food Securitysupport Analysis Data GFSAD Cropland Extent data from the GFSAD30SACE product over Brazil 2015View fullsize imageDocumentationUser GuideAlgorithm Theoretical Basis Document ATBDSource CodeUsing the DataELearningObserving Land from Space Interacting with Geospatial Data from NASAs LP DAACData Citation Tips from NASAs Land Processes DAACPublicationsView research publications that used these dataEarthdata ForumJoin the data discussion over on the Earthdata ForumAccess DataToolFunctionalityDescriptionDownload DataData PoolDirect DownloadThe Data Pool is the publicly available portion of the LP DAAC online holdings Data Pool provides NASA Earthdata SearchBrowse Image Preview Direct Download Order Search SubsetEarthdata Search combines the latest EOSDIS service offerings with user experience research and eUSGS EarthExplorerBrowse Image Preview SearchThe EarthExplorer EE user interface developed by the United States Geological Survey USGS proDAAC2Disk UtilityDirect DownloadThe LP DAAC2Disk download manager allows users to simplify the search and HTTPS download process ofCitationDOI 105067MEaSUREsGFSADGFSAD30SACE001Select a citation styleAPAChicago                       Copy Citation                Related ProductsView data products that are related to this productAbout                                About the LP DAAC                                                                                            News Archive                                                            Data                                View All Data                                                                                            Get Started with Data                                                                                            Collection Overviews                                                                                            Workflow Examples                                                                                            Search Data Catalog                                                                                            Data Citation and Policies                                                            Tools                                AppEEARS                                                                                            Data Pool                                                                                            DAAC2Disk Utility                                                                                            NASA Earthdata Search                                                                                            USGS EarthExplorer                                                                                            View All Tools                                                            Resources                                ELearning                                                                                            FAQs                                                                                            Data in Action                                                                                            Outreach Materials                                                                                            View All Resources                                                            Contact                                Contact LP DAAC                                                                                            Submit Data                                                                                            Earthdata Forum                                                                                                            DOI Privacy PolicyLegalAccessibilityContact USGSUS Department of the InteriorDOI Inspector GeneralWhite HouseEGovNo Fear ActFOIA47914 252nd Street                               Sioux Falls SD 571980001                            Voice 6055946116                              Toll Free 8665733222                             Fax 6055946963lpdaacusgsgov\u001b[0m\n"
     ]
    },
    {
     "name": "stdout",
     "output_type": "stream",
     "text": [
      "the system prompt is Extract metadata and entities details accurately from my requests.\n",
      "The messages is [{'role': 'system', 'content': 'Extract metadata and entities details accurately from my requests.'}, {'role': 'user', 'content': 'LP DAAC  GFSAD30SACEHomeAboutAbout LP DAAC                                                                                                    News Archive                                                                                                    DataGet Started with Data                                                                                                    Search Data Catalog                                                                                                    Data Citations and Policies                                                                                                    View All DataToolsAppEEARSData PoolData Prep ScriptsNASA Earthdata SearchUSGS EarthExplorerView All ToolsResourcesData in Action                                                                                                    ELearning                                                                                                    Podcasts                                                                                                    Outreach Materials                                                                                                    Publications Table                                                                                                    FAQs                                                                                                    View All ResourcesContactContact Information                                                                                                    Submit Data                                                                                                    General Site SearchGFSAD30SACE v001Global Food Securitysupport Analysis Data GFSAD Cropland Extent 2015 South America 30 mPI Prasad ThenkabailDocumentationUsing the DataAccess DataCitationRelated ProductsHomepageDataSearch Data CatalogGFSAD30SACEv001DescriptionThe NASA Making Earth System Data Records for Use in Research Environments MEaSUREs Global Food Securitysupport Analysis Data GFSAD data product provides cropland extent data over South America for nominal year 2015 at 30 meter resolution GFSAD30SACE The monitoring of global cropland extent is critical for policymaking and provides important baseline data that are used in many agricultural cropland studies pertaining to water sustainability and food security The GFSAD30SACE data product uses the pixelbased supervised classifier Random Forest RF to retrieve cropland extent from a combination of Landsat 5 Thematic Mapper TM Landsat 7 Enhanced Thematic Mapper Plus ETM Landsat 8 Operational Land Imager OLI data and elevation derived from the Shuttle Radar Topography Mission SRTM Version 3 data products Each GFSAD30SACE GeoTIFF file contains a cropland extent layer that defines areas of cropland noncropland and water bodies over a 10 by 10 arearead moreCharacteristicsCollection and GranuleCollectionCharacteristicDescriptionCollectionMEaSUREs GFSADDOI105067MEaSUREsGFSADGFSAD30SACE001File Size2797 MBTemporal ResolutionMultiYearTemporal Extent20130101 to 20161231Spatial ExtentSouth AmericaCoordinate SystemGeographic Latitude and LongitudeDatumWorld Geodetic System WGS84File FormatGeoTIFFGeographic Dimensions10 x 10GranuleCharacteristicDescriptionNumber of Science Dataset SDS Layers1ColumnsRows37114 x 37253Pixel Size30 mLayers  VariablesSDS NameDescriptionUnitsData TypeFill ValueNo Data ValueValid RangeScale FactorBand\\xa01Cropland\\xa0Extent for South\\xa0America defined with three classesNA8bit unsigned integerNANA0 to 2NACropland Extent Class DescriptionsClass LabelNameDescription0WaterWater bodies1NonCroplandNonCropland areas2CroplandCropland areasFilename convention GFSAD30SACE_2015_GridTile_001_ProcessingDateYYYYJJJHHMMSStifProduct QualityProduct Quality information can be found on page 17 of the Algorithm Theoretical Basis Document ATBDKnown IssuesKnown issues including constraints and limitations are provided on page 18 of the ATBDAbout the imageGlobal Food Securitysupport Analysis Data GFSAD Cropland Extent data from the GFSAD30SACE product over Brazil 2015View fullsize imageDocumentationUser GuideAlgorithm Theoretical Basis Document ATBDSource CodeUsing the DataELearningObserving Land from Space Interacting with Geospatial Data from NASAs LP DAACData Citation Tips from NASAs Land Processes DAACPublicationsView research publications that used these dataEarthdata ForumJoin the data discussion over on the Earthdata ForumAccess DataToolFunctionalityDescriptionDownload DataData PoolDirect DownloadThe Data Pool is the publicly available portion of the LP DAAC online holdings Data Pool provides NASA Earthdata SearchBrowse Image Preview Direct Download Order Search SubsetEarthdata Search combines the latest EOSDIS service offerings with user experience research and eUSGS EarthExplorerBrowse Image Preview SearchThe EarthExplorer EE user interface developed by the United States Geological Survey USGS proDAAC2Disk UtilityDirect DownloadThe LP DAAC2Disk download manager allows users to simplify the search and HTTPS download process ofCitationDOI 105067MEaSUREsGFSADGFSAD30SACE001Select a citation styleAPAChicago                       Copy Citation                Related ProductsView data products that are related to this productAbout                                About the LP DAAC                                                                                            News Archive                                                            Data                                View All Data                                                                                            Get Started with Data                                                                                            Collection Overviews                                                                                            Workflow Examples                                                                                            Search Data Catalog                                                                                            Data Citation and Policies                                                            Tools                                AppEEARS                                                                                            Data Pool                                                                                            DAAC2Disk Utility                                                                                            NASA Earthdata Search                                                                                            USGS EarthExplorer                                                                                            View All Tools                                                            Resources                                ELearning                                                                                            FAQs                                                                                            Data in Action                                                                                            Outreach Materials                                                                                            View All Resources                                                            Contact                                Contact LP DAAC                                                                                            Submit Data                                                                                            Earthdata Forum                                                                                                            DOI Privacy PolicyLegalAccessibilityContact USGSUS Department of the InteriorDOI Inspector GeneralWhite HouseEGovNo Fear ActFOIA47914 252nd Street                               Sioux Falls SD 571980001                            Voice 6055946116                              Toll Free 8665733222                             Fax 6055946963lpdaacusgsgov'}]\n"
     ]
    },
    {
     "name": "stderr",
     "output_type": "stream",
     "text": [
      "\u001b[32m2024-02-07 12:06:07.691\u001b[0m | \u001b[34m\u001b[1mDEBUG   \u001b[0m | \u001b[36mlarch.metadata.extractors_openai\u001b[0m:\u001b[36m_extract\u001b[0m:\u001b[36m73\u001b[0m - \u001b[34m\u001b[1mnchars=6626\n",
      "Text :: HOME  FEWS NET        Skip to main content      FEWS NET Data ExplorerPress ReleasesMedia RequestsJobsMain navigationCountries  Regions                Back to Main Navigation              Countries  RegionsEast Africa                Back to Countries  Regions              East AfricaBurundiDjiboutiEthiopiaKenyaRwandaSomaliaSouth SudanSudanTanzaniaUgandaYemenSouthern Africa                Back to Countries  Regions              Southern AfricaAngolaDemocratic Republic of CongoLesothoMadagascarMalawiMozambiqueZambiaZimbabweWest Africa                Back to Countries  Regions              West AfricaBurkina FasoCameroonCentral African RepublicChadGuineaLiberiaMaliMauritaniaNigerNigeriaSenegalSierra LeoneMiddle East and Asia                Back to Countries  Regions              Middle East and Asia AfghanistanGazaTajikistanYemenLatin America and the Caribbean                Back to Countries  Regions              Latin America and the CaribbeanEl SalvadorGuatemalaHaitiHondurasNicaraguaVenezuelaGlobalData                Back to Main Navigation              DataFEWS NET Data ExplorerClimate Conflict and Migration Interactive MapAcute Food Insecurity DataMarkets and Trade DataAgroclimatology DataLivelihood ZonesGeographic BoundariesTopics                Back to Main Navigation              TopicsMarkets and TradeAgroclimatologyLivelihoodsNutritionConflictSpecial Topics                Back to Topics              Special TopicsEl Niño 20232024Horn of AfricaUkraine CrisisOur Services                Back to Main Navigation              Our ServicesSearch for AnalysisFEWS NET Services DirectoryFood Assistance Outlook BriefsGuidance DocumentsAbout Us                Back to Main Navigation              About UsAbout FEWS NETWhat We DoHow We Make ProjectionsWhat is the IPCOur Networking ApproachOur PartnersContact UsSite SearchSite SearchMonitoring  forecasting acute food insecurityMonitoring  forecasting acute food insecurityThe Famine Early Warning Systems Network FEWS NET is a leading provider of early warning and analysis on acute food insecurity around the world        See the latest Analysis                        Featured Reports and Alerts                Featured Reports and Alerts        Alert Clashes in Sudans breadbasket threaten national food availability      Feb 1 2024        Read the Latest Food Assistance Outlook Brief FAOB      Jan 11 2024        FEWS NET Coverage of the Gaza Strip      Dec 21 2023        Alert Strong El Niño will drive high needs across Southern Africa through early 2025      Nov 8 2023HeadingMonitoring  Forecasting Global Acute Food InsecurityDescriptionAcute food insecurity refers to rapidonset or shortterm food insecurity of an extent that merits emergency response Its severity is defined by assessing the degree to which households can meet basic survival needs and maintain normal livelihoods The Integrated Food Security Phase Classification IPC phases mapped above represent FEWS NETs analysis of the most likely acute food insecurity outcomes for nearterm 4 months into the future and mediumterm 8 months into the future projection periods FEWS NET classifications are IPCcompatible IPCcompatible analysis follow all IPC methodological protocols but do not necessarily reflect the consensus of national food security partners Countries that host FEWS NET offices and analysts are referred to as presence countries More detailed subnational analysis are produced for these countries which is reflected on FEWS NET maps by fully classifying by IPC phase the area within the country borders Countries routinely monitored by FEWS NET that do not have FEWS NET offices in the country are referred to as remote monitoring countries These countries are indicated on FEWS NET maps through the use of a colored outline of the national border The outline color represents the highest IPC classification for areas of concern within the country but not necessarily for the country as a wholeAnalyzing the Drivers of Acute Food InsecurityAcute food insecurity is a complex outcome typically driven by a combination of economic natural political andor social factors FEWS NET closely monitors and analyzes the nature location magnitude and duration of these complex drivers including but not limited to  ClimateFEWS NETs Agroclimatology Team uses remote sensing satellite imagery to monitor and forecast climatic conditions in the worlds most food insecure countries        Learn more        ConflictFEWS NET uses a standardized approach to gather information and develop assumptions about conflict as it relates to acute food insecurity in FEWS NETmonitored countries        Learn more        Markets  TradeFEWS NET regularly monitors market prices staple food production macroeconomic indicators trade policies and shocks that affect market operations and trade        Learn more                        What We Do                What We DoImage MonitorAnalysts working across 30 FEWS NETmonitored countries continuously gather evidence of the current food security situation in areas of concern Our monitoring contributes to countryspecific integrated food security analysis products and alerts on emerging or likely acute food insecurity crisesView the regions that we monitorImage Analyze  ForecastUsing the data and evidence from ongoing monitoring of the factors that influence food security  staple food prices household income rainfall crop production and more  our analysts forecast likely outcomes for the futureLearn how we make projectionsImage ClassifyTo describe the current and anticipated level of acute food insecurity our analysts use the widely accepted fivephase IPC acute food insecurity scale to help governments and other humanitarian actors understand the severity and magnitude of acute food insecurity and take actionUnderstand the IPC scaleImage Report  ShareAs an early warning system we produce regular monthly reports alerts and themed special reports to provide decisionmakers with forwardlooking information to guide their humanitarian response plans We also provide direct access to food security data through the FEWS NET Data Explorer FDE and data holdings listed on the main menuSearch for a report    Get the latest food security updates in your inbox  Sign up for emailsThe information provided on this Website is not official US Government information and does not represent the views or positions of the US Agency for International Development or the US GovernmentSearch for ReportsPress ReleasesMedia RequestsJobsContact UsSecondary Footer MenuTendersData AttributionPrivacy PolicyCookie Settings        Jump back to top\u001b[0m\n"
     ]
    },
    {
     "name": "stdout",
     "output_type": "stream",
     "text": [
      "the system prompt is Extract metadata and entities details accurately from my requests.\n",
      "The messages is [{'role': 'system', 'content': 'Extract metadata and entities details accurately from my requests.'}, {'role': 'user', 'content': 'HOME  FEWS NET        Skip to main content      FEWS NET Data ExplorerPress ReleasesMedia RequestsJobsMain navigationCountries  Regions                Back to Main Navigation              Countries  RegionsEast Africa                Back to Countries  Regions              East AfricaBurundiDjiboutiEthiopiaKenyaRwandaSomaliaSouth SudanSudanTanzaniaUgandaYemenSouthern Africa                Back to Countries  Regions              Southern AfricaAngolaDemocratic Republic of CongoLesothoMadagascarMalawiMozambiqueZambiaZimbabweWest Africa                Back to Countries  Regions              West AfricaBurkina FasoCameroonCentral African RepublicChadGuineaLiberiaMaliMauritaniaNigerNigeriaSenegalSierra LeoneMiddle East and Asia                Back to Countries  Regions              Middle East and Asia AfghanistanGazaTajikistanYemenLatin America and the Caribbean                Back to Countries  Regions              Latin America and the CaribbeanEl SalvadorGuatemalaHaitiHondurasNicaraguaVenezuelaGlobalData                Back to Main Navigation              DataFEWS NET Data ExplorerClimate Conflict and Migration Interactive MapAcute Food Insecurity DataMarkets and Trade DataAgroclimatology DataLivelihood ZonesGeographic BoundariesTopics                Back to Main Navigation              TopicsMarkets and TradeAgroclimatologyLivelihoodsNutritionConflictSpecial Topics                Back to Topics              Special TopicsEl Niño 20232024Horn of AfricaUkraine CrisisOur Services                Back to Main Navigation              Our ServicesSearch for AnalysisFEWS NET Services DirectoryFood Assistance Outlook BriefsGuidance DocumentsAbout Us                Back to Main Navigation              About UsAbout FEWS NETWhat We DoHow We Make ProjectionsWhat is the IPCOur Networking ApproachOur PartnersContact UsSite SearchSite SearchMonitoring  forecasting acute food insecurityMonitoring  forecasting acute food insecurityThe Famine Early Warning Systems Network FEWS NET is a leading provider of early warning and analysis on acute food insecurity around the world        See the latest Analysis                        Featured Reports and Alerts                Featured Reports and Alerts        Alert Clashes in Sudans breadbasket threaten national food availability      Feb 1 2024        Read the Latest Food Assistance Outlook Brief FAOB      Jan 11 2024        FEWS NET Coverage of the Gaza Strip      Dec 21 2023        Alert Strong El Niño will drive high needs across Southern Africa through early 2025      Nov 8 2023HeadingMonitoring  Forecasting Global Acute Food InsecurityDescriptionAcute food insecurity refers to rapidonset or shortterm food insecurity of an extent that merits emergency response Its severity is defined by assessing the degree to which households can meet basic survival needs and maintain normal livelihoods The\\xa0Integrated Food Security Phase Classification IPC phases mapped above represent FEWS NETs analysis of the most likely acute food insecurity outcomes for nearterm 4 months into the future and mediumterm 8 months into the future projection periods\\xa0FEWS NET classifications are\\xa0IPCcompatible IPCcompatible analysis follow all IPC methodological protocols but do not necessarily reflect the consensus of national food security partners\\xa0Countries that host FEWS NET offices and analysts are referred to as presence countries More detailed subnational analysis are produced for these countries which is reflected on FEWS NET maps by fully classifying by IPC phase the area within the country borders\\xa0Countries routinely monitored by FEWS NET that do not have FEWS NET offices in the country are referred to as remote monitoring countries These countries are indicated on FEWS NET maps through the use of a colored outline of the national border The outline color represents the highest IPC classification for areas of concern within the country but not necessarily for the country as a wholeAnalyzing the Drivers of Acute Food InsecurityAcute food insecurity is a complex outcome typically driven by a combination of economic natural political andor social factors FEWS NET closely monitors and analyzes the nature location magnitude and duration of these complex drivers including but not limited to  ClimateFEWS NETs Agroclimatology Team uses remote sensing satellite imagery to monitor and forecast climatic conditions in the worlds most food insecure countries        Learn more        ConflictFEWS NET uses a standardized approach to gather information and develop assumptions about conflict as it relates to acute food insecurity in FEWS NETmonitored countries        Learn more        Markets  TradeFEWS NET regularly monitors market prices staple food production macroeconomic indicators trade policies and shocks that affect market operations and trade        Learn more                        What We Do                What We DoImage MonitorAnalysts working across 30 FEWS NETmonitored countries continuously gather evidence of the current food security situation in areas of concern Our monitoring contributes to countryspecific integrated food security analysis products and alerts on emerging or likely acute food insecurity crisesView the regions that we monitorImage Analyze  ForecastUsing the data and evidence from ongoing monitoring of the factors that influence food security  staple food prices household income rainfall crop production and more  our analysts forecast likely outcomes for the futureLearn how we make projectionsImage ClassifyTo describe the current and anticipated level of acute food insecurity our analysts use the widely accepted fivephase IPC acute food insecurity scale to help governments and other humanitarian actors understand the severity and magnitude of acute food insecurity and take actionUnderstand the IPC scaleImage Report  ShareAs an early warning system we produce regular monthly reports alerts and themed special reports to provide decisionmakers with forwardlooking information to guide their humanitarian response plans We also provide direct access to food security data through the FEWS NET Data Explorer FDE and data holdings listed on the main menuSearch for a report    Get the latest food security updates in your inbox  Sign up for emailsThe information provided on this Website is not official US Government information and does not represent the views or positions of the US Agency for International Development or the US GovernmentSearch for ReportsPress ReleasesMedia RequestsJobsContact UsSecondary Footer MenuTendersData AttributionPrivacy PolicyCookie Settings        Jump back to top'}]\n"
     ]
    },
    {
     "name": "stderr",
     "output_type": "stream",
     "text": [
      "\u001b[32m2024-02-07 12:06:09.174\u001b[0m | \u001b[34m\u001b[1mDEBUG   \u001b[0m | \u001b[36mlarch.metadata.extractors_openai\u001b[0m:\u001b[36m_extract\u001b[0m:\u001b[36m73\u001b[0m - \u001b[34m\u001b[1mnchars=3524\n",
      "Text :: FLDAS Project Goals  LDAS      Skip to main content    LDASLand Data Assimilation SystemMain MenuGLDASAboutNewsSpecificationsParametersElevationSoilsVegetation ClassMaskVegetation ParametersLAIGreennessForcing DataModel OutputPublicationsNLDASAboutNewsSpecificationsParametersElevationSoilsVegetation ClassVegetation ParametersLAIGreennessNLDAS1 ForcingNLDAS1 ModelsNLDAS2 ForcingNLDAS2 ModelsDrought MonitorPresentationsPublicationsNCALDASAboutNewsSpecificationsParametersElevationSoilsVegetation ClassVegetation ParametersOther LSM ParametersForcing DataAssimilated DataModel OutputPresentationsPublicationsFLDASAboutNewsSpecificationsParametersElevationSoilsVegetation ClassVegetation ParametersLAIGreennessModel OutputFLDAS GlobalFLDAS Central AsiaFLDAS ForecastData DescriptorPresentationsPublicationsWLDASAboutModel OutputNewsParametersPublications and PresentationsSpecificationsFAQGeneralGLDASNLDASNCALDASFLDASGet DataFLDAS Project GoalsFLDAS is the Famine Early Warning Systems Network FEWS NET Land Data Assimilation System The goal of FLDAS is to use observational datasets and advanced modeling and data assimilation methods to generate high quality fields of land surface states and fluxes used for FEWS NET decision support The FLDAS systems are custom instances of the NASA Land Information System LIS that have been adapted to work with the domains data streams and monitoring and forecast requirements associated with food security assessment in datasparse developing countriesFLDAS consists of three modeling systems FLDASGlobal FLDASCentral Asia and FLDASForecast that are run routinely over several domains FLDASGlobal McNally et al 2017 is run twice a month a preliminary run and a final run and produces monthly outputs at 01 spatial resolution over a quasiglobal domain FLDASCentral Asia McNally et al 2022 is run in near realtime with 1day latency over the Central Asia domain and produces output at 001 spatial resolution FLDASForecast Arsenault et al 2020 Hazra et al 2023 is run over Africa and the Middle East and produces monthly forecasts at 025 spatial resolution out to 5 months    Get the DataLDAS datasets are available from the NASA GES DISCThe NASA Goddard Earth Sciences Data and Information Services Center GES DISC provides access to LDAS datasets using multiple methods including HTTPS GDS and the ability to subset spatially temporally andor by variableGLDASNLDASNCALDAS FLDAS These datasets are also available via <NAME> is an online application developed by the GES DISC that allows researchers to rapidly explore data so that spatialtemporal variability anomalous conditions and patterns of interest can be directly and easily analyzed online before optionally downloading the data Supported download formats include NetCDF GeoTIFF and KMZ Latest NewsReprocessed FLDAS DataOutput data for several FLDAS model runs and selected periods have been reprocessed Central Asia hydrologic monitoring data set publishedMcNally A et al A Central Asia hydrologic monitoring dataset for food and water security applications in Afghanistan ESSD 14 31153135 2022Central Asia Extended Outlook Reservoir water levels are low with a possible drought loomingCentral Asia Extended Outlook Reservoir water levels are low with a possible drought looming 2021 httpsblogchcucsbedup1044 View All NewsJump to TopResponsible NASA Official        Matt RodellWeb Developers        Nate Perrin Susannah PearceCurator        Rashida HollandContact Us      Site Map      Privacy Policy     Last Updated 09252023\u001b[0m\n"
     ]
    },
    {
     "name": "stdout",
     "output_type": "stream",
     "text": [
      "the system prompt is Extract metadata and entities details accurately from my requests.\n",
      "The messages is [{'role': 'system', 'content': 'Extract metadata and entities details accurately from my requests.'}, {'role': 'user', 'content': 'FLDAS Project Goals  LDAS      Skip to main content    LDASLand Data Assimilation SystemMain MenuGLDASAboutNewsSpecificationsParametersElevationSoilsVegetation ClassMaskVegetation ParametersLAIGreennessForcing DataModel OutputPublicationsNLDASAboutNewsSpecificationsParametersElevationSoilsVegetation ClassVegetation ParametersLAIGreennessNLDAS1 ForcingNLDAS1 ModelsNLDAS2 ForcingNLDAS2 ModelsDrought MonitorPresentationsPublicationsNCALDASAboutNewsSpecificationsParametersElevationSoilsVegetation ClassVegetation ParametersOther LSM ParametersForcing DataAssimilated DataModel OutputPresentationsPublicationsFLDASAboutNewsSpecificationsParametersElevationSoilsVegetation ClassVegetation ParametersLAIGreennessModel OutputFLDAS GlobalFLDAS Central AsiaFLDAS ForecastData DescriptorPresentationsPublicationsWLDASAboutModel OutputNewsParametersPublications and PresentationsSpecificationsFAQGeneralGLDASNLDASNCALDASFLDASGet DataFLDAS Project GoalsFLDAS is the\\xa0Famine Early Warning Systems Network FEWS NET\\xa0Land Data Assimilation System The goal\\xa0of FLDAS is to use observational datasets and advanced modeling and data assimilation methods to generate high quality fields of land surface states and fluxes used for FEWS NET decision support The\\xa0FLDAS systems\\xa0are custom instances of the NASA Land Information System LIS that have been adapted to work with the domains data streams and monitoring and forecast requirements associated with food security assessment in datasparse developing countriesFLDAS consists of three modeling systems FLDASGlobal FLDASCentral Asia and FLDASForecast that are run routinely over several domains FLDASGlobal McNally et al 2017 is run twice a month a preliminary run and a final run and produces monthly outputs at 01\\xa0spatial resolution over a quasiglobal domain FLDASCentral Asia McNally et al 2022 is run in near realtime with 1day latency over the Central Asia domain and produces output at 001 spatial resolution FLDASForecast Arsenault et al 2020 Hazra et al 2023 is run over Africa and the Middle East and produces monthly forecasts at 025 spatial resolution out to 5 months\\xa0\\xa0\\xa0\\xa0Get the DataLDAS datasets are available from the NASA GES DISCThe NASA Goddard Earth Sciences Data and Information Services Center\\xa0GES DISC provides access to LDAS datasets using multiple\\xa0methods including HTTPS GDS and the ability to subset\\xa0spatially temporally andor by variableGLDASNLDASNCALDAS\\xa0FLDAS\\xa0These datasets are also available via <NAME> is an online application developed by the GES DISC that allows researchers to rapidly explore data so that spatialtemporal variability anomalous conditions and patterns of interest can be directly and easily analyzed online before optionally downloading the data Supported download formats include NetCDF GeoTIFF and KMZ\\xa0Latest NewsReprocessed FLDAS DataOutput data for several FLDAS model runs and selected periods have been reprocessed\\xa0Central Asia hydrologic monitoring data set publishedMcNally A et al A Central Asia hydrologic monitoring dataset for food and water security applications in Afghanistan ESSD 14 31153135 2022Central Asia Extended Outlook Reservoir water levels are low with a possible drought loomingCentral Asia Extended Outlook Reservoir water levels are low with a possible drought looming 2021\\xa0httpsblogchcucsbedup1044\\xa0View All NewsJump to TopResponsible NASA Official        Matt RodellWeb Developers        Nate Perrin Susannah PearceCurator        Rashida HollandContact Us      Site Map      Privacy Policy     Last Updated 09252023'}]\n"
     ]
    },
    {
     "name": "stderr",
     "output_type": "stream",
     "text": [
      "\u001b[32m2024-02-07 12:06:11.265\u001b[0m | \u001b[34m\u001b[1mDEBUG   \u001b[0m | \u001b[36mlarch.metadata.extractors_openai\u001b[0m:\u001b[36m_extract\u001b[0m:\u001b[36m73\u001b[0m - \u001b[34m\u001b[1mnchars=12256\n",
      "Text :: JPL GRACE and GRACEFO Mascon Ocean Ice and Hydrology Equivalent Water Height Coastal Resolution Improvement CRI Filtered Release 061 Version 03  PODAAC  JPL  NASA Search Type WebsiteDataSearch   Jet Propulsion LaboratoryCalifornia Institute of Technology PODAACFollow UsNavigation   Search Type WebsiteDataSearch HomeFind DataScience DisciplinesOcean Cryosphere Terrestrial Hydrosphere MeasurementsGlaciersIce SheetsGravityGravitational FieldOcean CirculationOcean Heat BudgetOcean Surface TopographyOcean TemperatureOcean WavesOcean WindsSalinityDensitySea IceSurface WaterMissionsADEOSIIAQUAAQUARIUSSACDCOWVRTEMPESTCYGNSSECCOGEOS3GHRSSTGRACEGRACEFOISSRAPIDSCAT JASON 1JASON 3MEASURESCCMPMEASURESMURMEASURESPRESWOTNASASSHNSCATOMGOPERAOSTMJASON 2QUIKSCATSMODESNPPSASSIESEASATSENTINEL6SMAPSPURSSWOTTERRATOPEXPOSEIDONAccess DataRESOURCESCloud Data UsersData ProvidersData UsersAboutABOUT UsABOUT PODAACData Use and Citation PolicyMEASUREMENTSGlaciersIce SheetsGravityGravitational FieldOcean CirculationOcean Heat BudgetOcean Surface TopographyOcean TemperatureOcean WavesOcean WindsSalinityDensitySea IceSurface WaterMISSIONSADEOSIIAQUAAquariusSACDCYGNSSECCOGEOS3GHRSSTGRACEGRACEFOISSRapidScatJASON 1JASON 3MEaSUREsCCMPMEaSUREsMURMEaSUREsPreSWOTNASASSHNSCATOMGOPERAOSTM  JASON 2QuikSCATSMODESNPPSASSIESeasatSentinel6SMAPSPURSSWOTTERRATOPEXPOSEIDONNEWSAnnouncementsEventsMeetings and WorkshopsSystem AlertsHELPMailing ListForumPODAAC RSS FeedsCLOUD DATAABOUTCloud DatasetsAccess DataFAQResourcesMigration You are hereHome  Dataset Discovery JPL GRACE and GRACEFO Mascon Ocean Ice and Hydrology Equivalent Water Height Coastal Resolution Improvement CRI Filtered Release 061 Version 03JPL GRACE and GRACEFO Mascon Ocean Ice and Hydrology Equivalent Water Height Coastal Resolution Improvement CRI Filtered Release 061 Version 03TELLUS_GRACGRFO_MASCON_CRI_GRID_RL061_V3CloseShare Dataset URL  Information Coverage Data Access Documentation CitationVersionRL061Mv03Processing Level3StartStop Date2002Apr04 to PresentShort NameTELLUS_GRACGRFO_MASCON_CRI_GRID_RL061_V3DescriptionThis dataset contains gridded monthly global water storageheight anomalies relative to a timemean derived from GRACE and GRACEFO and processed at JPL using the Mascon approach RL061Mv03 This version of the data employs a Coastal Resolution Improvement CRI filter that reduces signal leakage errors across coastlines These data are provided in a single data file in netCDF format and can be used for analysis for ocean ice and hydrology phenomena The water storageheight anomalies are given in equivalent water thickness units cm The solution provided here is derived from solving for monthly gravity field variations in terms of geolocated spherical cap mass concentration functions rather than global spherical harmonic coefficients Additionally realistic geophysical information is introduced during the solution inversion to intrinsically remove correlated error Thus these Mascon grids do not need to be destriped or smoothed like traditional spherical harmonic gravity solutions The complete Mascon solution consists of 4551 relatively independent estimates of surface mass change that have been derived using an equalarea 3degree grid of individual mascons A subset of these individual mascons span coastlines and contain mixed land and ocean mass change signals In a postprocessing step the CRI filter is applied to those mixed landocean Mascons to separate land and ocean mass The land mask used to perform this separation is provided in the same directory as this dataset Since the individual mascons act as an inherent smoother on the gravity field a set of optional gain factors for continental hydrology applications that can be applied to the solution to study mass change signals at submascon resolution is also provided within the same data directory as the Mascon data This RL061Mv03 is an updated version of the previous Tellus JPL Mascon RL06Mv02 DOI 105067TEMSC3JC62 RL061Mv03 differs from RL06Mv02 only in the Level1B accelerometer transplant data that is used for the GF2 GRACEFO 2 satellite RL061Mv03 uses the ACH data product For more information please visit httpsgracejplnasagovdatagetdatajpl_global_mascons  For a detailed description on the Mascon solution including the mathematical derivation implementation of geophysical constraints and solution validation please see Watkins et al 2015 doi 1010022014JB011547 For a detailed description of the CRI filter implementation please see Wiese et al 2016 doi1010022016WR019344DOI105067TEMSC3JC63MeasurementTERRESTRIAL HYDROSPHERE  WATER BUDGET  TERRESTRIAL WATER STORAGETERRESTRIAL HYDROSPHERE  GROUND WATERCRYOSPHERE  GLACIERSICE SHEETS  GLACIER MASS BALANCEICE SHEET MASS BALANCEPlatformSensorProjectGravity Recovery and Climate Experiment GRACEProjectGravity Recovery and Climate Experiment FollowOn GRACEFOData ProviderPublisherTELLUSCreatorD N Wiese DN Yuan C Boening F W Landerer M M WatkinsRelease PlaceJPLPODAACRelease Date2023Jan25Resourcehttpgracejplnasagovdatagetdatajpl_global_masconsFormatnetCDF4KeywordsTellus Mascon Ocean Mass Water Height Water Mass Gravity Ocean Bottom Pressure RL061Mv03 Sea Level GRACEFO Terrestrial Water Storage Questions related to this dataset Contact podaacpodaacjplnasagovResolutionSpatial Resolution 05 Decimal Degrees x 05 Decimal DegreesTemporal Resolution Monthly   Annual CoverageRegion GLOBALNorth Bounding Coordinate 90 degreesSouth Bounding Coordinate 90 degreesWest Bounding Coordinate 180 degreesEast Bounding Coordinate 180 degreesTime Span 2002Apr04 to PresentGranule Time Span 2002Apr16 to 2023Nov16 ProjectionProjection Type Equal Area Spherical LatLonProjection Detail Geolocation information included for each pixelEllipsoid WGS 84  CapabilitiesDownloadSubsetDIRECT ACCESSBrowse Granule ListinghttpscmrearthdatanasagovvirtualdirectorycollectionsC2536962485POCLOUDLAND_MASKCRI FilehttpsarchivepodaacearthdatanasagovpodaacopscumulusdocstellusopenL3mascondocsLAND_MASKCRIncPLACEMENT filehttpsarchivepodaacearthdatanasagovpodaacopscumulusdocstellusopenL3mascondocsJPL_MSCNv03_PLACEMENTncSCALE_FACTOR FilehttpsarchivepodaacearthdatanasagovpodaacopscumulusdocstellusopenL3mascondocsCLM4SCALE_FACTORJPLMSCNv03CRIncSearch GranuleshttpssearchearthdatanasagovsearchgranulespC2536962485POCLOUDDIRECT S3ACCESSAvailable for access inregion with AWS CloudRegionuswest2BucketObject Prefix Protected buckets contain the data files for a given collection Protected simply means users must log in to Earthdata Login before gaining access to contents within that S3 Bucket Please use the S3Credential endpoint to gain an Earthdata login token for use in S3 AccessPublic buckets in contrast house metadata such as checksums imagery and metadata files and the like A user can access public buckets and these types of files without logging in to Earthdata LoginMost of the time youll want to access the protected bucket InformationpodaacopscumulusprotectedTELLUS_GRACGRFO_MASCON_CRI_GRID_RL061_V3podaacopscumuluspublicTELLUS_GRACGRFO_MASCON_CRI_GRID_RL061_V3AWS S3 CredentialsGet AWS S3 Credentials  Documentation IMPORTANT NOTICEhttpsarchivepodaacearthdatanasagovpodaacopscumulusdocstellusopenL3docsGRACE_GRACEFO_ReleaseNotes_JPL_MASCONpdfRelease NotehttpsgracejplnasagovdatadataupdatesGrace Tellus Project site for announcing recent and historical updates regarding Tellus datasetsGENERAL DOCUMENTATIONhttpsgracejplnasagovdatagetdatajpl_global_masconsProvides additional resources and information for the Global Mascon datasetshttpspodaacjplnasagovGRACEFOGRACEFO Mission Information PagehttpspodaacjplnasagovGRACEGRACE Mission Information PagehttpsgracejplnasagovaboutfaqGRACE Tellus Project page for Frequently <NAME>GRACE Documentation and Technical Noteshttpspodaacjplnasagovgravitygracefodocumentation GRACEFO Documentation and Technical NotesPUBLICATIONShttpsarchivepodaacearthdatanasagovpodaacopscumulusdocsgraceopenL1BGFZAOD1BRL04docsWiese_2016_WRRpdfFor derivations of the CRI filter and gain factors along with a discussion of leakage errors please see Wiese et al 2016 doi1010022016WR019344ANOMALIEShttpsarchivepodaacearthdatanasagovpodaacopscumulusdocsgracefoopendocsGRACE_GRACEFO_Months_RL06csvGRACE monthly data integration rangehttpsgracejplnasagovaboutfeedbackGRACE Tellus Project web tool for entering user feedback Users are advised to only use this tool when submitting data quality issues directly to the GRACE Tellus Project For all other inquiries please visit httpspodaacjplnasagovforumDATA RECIPEhttpsgithubcompodaacdatareaders Generic Data ReadershttpsgithubcompodaacGRACEPython script of converting netCDF4 to GeoTIFFDATA CITATION POLICYhttpspodaacjplnasagovCitingPODAACData Use and Citation Policy  Citation is critically important for dataset documentation and discovery Please cite the data as follows and cite the reference papers when it is appropriateCitationD N Wiese DN Yuan C Boening F W Landerer M M Watkins 2023 JPL GRACE and GRACEFO Mascon Ocean Ice and Hydrology Equivalent Water Height CRI Filtered Ver RL061Mv03 PODAACCAUSA Dataset accessed YYYYMMDD at httpsdoiorg105067TEMSC3JC63Download CitationRISBIBXMLJSONLDFor more information see Data Citations and AcknowledgmentsJournal ReferenceWatkins M M Wiese D N Yuan D N Boening C  <NAME> Improved methods for observing Earths time variable mass distribution with GRACE using spherical cap mascons Improved Gravity Observations from GRACE Journal of Geophysical Research Solid Earth 120 4 1010022014JB011547 SHARE THIS PAGE  Cloud EnabledStatusACTIVEShort NameTELLUS_GRACGRFO_MASCON_CRI_GRID_RL061_V3Collection Concept IDC2536962485POCLOUDSpatial CoverageN 90S 90E 180W 180AccessBrowse Granule ListingSearch GranulesLAND_MASKCRI FilePLACEMENT fileSCALE_FACTOR FileCapabilitiesDownloadSubsetCloseDownloadJPL GRACE and GRACEFO Mascon Ocean Ice and Hydrology Equivalent Water Height Coastal Resolution Improvement CRI Filtered Release 061 Version 03Short Name TELLUS_GRACGRFO_MASCON_CRI_GRID_RL061_V3Collection Concept ID C2536962485POCLOUDTools                                                      PODAAC Data Subscriber                                                    Information                        podaacdatasubscriber c TELLUS_GRACGRFO_MASCON_CRI_GRID_RL061_V3 d dataTELLUS_GRACGRFO_MASCON_CRI_GRID_RL061_V3 startdate 20020404T000000Z                         Direct S3AccessAvailable for access inregion with AWS CloudRegionuswest2BucketObject Prefix Protected buckets contain the data files for a given collection Protected simply means users must log in to Earthdata Login before gaining access to contents within that S3 Bucket Please use the S3Credential endpoint to gain an Earthdata login token for use in S3 AccessPublic buckets in contrast house metadata such as checksums imagery and metadata files and the like A user can access public buckets and these types of files without logging in to Earthdata LoginMost of the time youll want to access the protected bucket InformationpodaacopscumulusprotectedTELLUS_GRACGRFO_MASCON_CRI_GRID_RL061_V3podaacopscumuluspublicTELLUS_GRACGRFO_MASCON_CRI_GRID_RL061_V3AWS S3 CredentialsGet AWS S3 Credentials  DocumentationCloseServiceJPL GRACE and GRACEFO Mascon Ocean Ice and Hydrology Equivalent Water Height Coastal Resolution Improvement CRI Filtered Release 061 Version 03Short Name TELLUS_GRACGRFO_MASCON_CRI_GRID_RL061_V3Collection Concept ID C2536962485POCLOUDCloseSubsetJPL GRACE and GRACEFO Mascon Ocean Ice and Hydrology Equivalent Water Height Coastal Resolution Improvement CRI Filtered Release 061 Version 03Short Name TELLUS_GRACGRFO_MASCON_CRI_GRID_RL061_V3Collection Concept ID C2536962485POCLOUDServices                        OPeNDAP in the Cloud                         Information                        httpsopendapearthdatanasagov                        CloseVisualizeJPL GRACE and GRACEFO Mascon Ocean Ice and Hydrology Equivalent Water Height Coastal Resolution Improvement CRI Filtered Release 061 Version 03Short Name TELLUS_GRACGRFO_MASCON_CRI_GRID_RL061_V3Collection Concept ID C2536962485POCLOUDData RecipesGeneric Data ReadersPython script of converting netCDF4 to GeoTIFF RSS FeedPrivacyData CitationAbout PODAACContact  Get PODAAC Updates by Email Subscribe Clearance Number CL050770topBack to top\u001b[0m\n"
     ]
    },
    {
     "name": "stdout",
     "output_type": "stream",
     "text": [
      "the system prompt is Extract metadata and entities details accurately from my requests.\n",
      "The messages is [{'role': 'system', 'content': 'Extract metadata and entities details accurately from my requests.'}, {'role': 'user', 'content': 'JPL GRACE and GRACEFO Mascon Ocean Ice and Hydrology Equivalent Water Height Coastal Resolution Improvement CRI Filtered Release 061 Version 03  PODAAC  JPL  NASA Search Type WebsiteDataSearch   Jet Propulsion LaboratoryCalifornia Institute of Technology PODAACFollow UsNavigation   Search Type WebsiteDataSearch HomeFind DataScience DisciplinesOcean Cryosphere Terrestrial Hydrosphere MeasurementsGlaciersIce SheetsGravityGravitational FieldOcean CirculationOcean Heat BudgetOcean Surface TopographyOcean TemperatureOcean WavesOcean WindsSalinityDensitySea IceSurface WaterMissionsADEOSIIAQUAAQUARIUSSACDCOWVRTEMPESTCYGNSSECCOGEOS3GHRSSTGRACEGRACEFOISSRAPIDSCAT JASON 1JASON 3MEASURESCCMPMEASURESMURMEASURESPRESWOTNASASSHNSCATOMGOPERAOSTMJASON 2QUIKSCATSMODESNPPSASSIESEASATSENTINEL6SMAPSPURSSWOTTERRATOPEXPOSEIDONAccess DataRESOURCESCloud Data UsersData ProvidersData UsersAboutABOUT UsABOUT PODAACData Use and Citation PolicyMEASUREMENTSGlaciersIce SheetsGravityGravitational FieldOcean CirculationOcean Heat BudgetOcean Surface TopographyOcean TemperatureOcean WavesOcean WindsSalinityDensitySea IceSurface WaterMISSIONSADEOSIIAQUAAquariusSACDCYGNSSECCOGEOS3GHRSSTGRACEGRACEFOISSRapidScatJASON 1JASON 3MEaSUREsCCMPMEaSUREsMURMEaSUREsPreSWOTNASASSHNSCATOMGOPERAOSTM  JASON 2QuikSCATSMODESNPPSASSIESeasatSentinel6SMAPSPURSSWOTTERRATOPEXPOSEIDONNEWSAnnouncementsEventsMeetings and WorkshopsSystem AlertsHELPMailing ListForumPODAAC RSS FeedsCLOUD DATAABOUTCloud DatasetsAccess DataFAQResourcesMigration You are hereHome  Dataset Discovery JPL GRACE and GRACEFO Mascon Ocean Ice and Hydrology Equivalent Water Height Coastal Resolution Improvement CRI Filtered Release 061 Version 03JPL GRACE and GRACEFO Mascon Ocean Ice and Hydrology Equivalent Water Height Coastal Resolution Improvement CRI Filtered Release 061 Version 03TELLUS_GRACGRFO_MASCON_CRI_GRID_RL061_V3CloseShare Dataset URL  Information Coverage Data Access Documentation CitationVersionRL061Mv03Processing Level3StartStop Date2002Apr04 to PresentShort NameTELLUS_GRACGRFO_MASCON_CRI_GRID_RL061_V3DescriptionThis dataset contains gridded monthly global water storageheight anomalies relative to a timemean derived from GRACE and GRACEFO and processed at JPL using the Mascon approach RL061Mv03 This version of the data employs a Coastal Resolution Improvement CRI filter that reduces signal leakage errors across coastlines These data are provided in a single data file in netCDF format and can be used for analysis for ocean ice and hydrology phenomena The water storageheight anomalies are given in equivalent water thickness units cm The solution provided here is derived from solving for monthly gravity field variations in terms of geolocated spherical cap mass concentration functions rather than global spherical harmonic coefficients Additionally realistic geophysical information is introduced during the solution inversion to intrinsically remove correlated error Thus these Mascon grids do not need to be destriped or smoothed like traditional spherical harmonic gravity solutions The complete Mascon solution consists of 4551 relatively independent estimates of surface mass change that have been derived using an equalarea 3degree grid of individual mascons A subset of these individual mascons span coastlines and contain mixed land and ocean mass change signals In a postprocessing step the CRI filter is applied to those mixed landocean Mascons to separate land and ocean mass The land mask used to perform this separation is provided in the same directory as this dataset Since the individual mascons act as an inherent smoother on the gravity field a set of optional gain factors for continental hydrology applications that can be applied to the solution to study mass change signals at submascon resolution is also provided within the same data directory as the Mascon data This RL061Mv03 is an updated version of the previous Tellus JPL Mascon RL06Mv02 DOI 105067TEMSC3JC62 RL061Mv03 differs from RL06Mv02 only in the Level1B accelerometer transplant data that is used for the GF2 GRACEFO 2 satellite RL061Mv03 uses the ACH data product For more information please visit httpsgracejplnasagovdatagetdatajpl_global_mascons  For a detailed description on the Mascon solution including the mathematical derivation implementation of geophysical constraints and solution validation please see Watkins et al 2015 doi 1010022014JB011547 For a detailed description of the CRI filter implementation please see Wiese et al 2016 doi1010022016WR019344DOI105067TEMSC3JC63MeasurementTERRESTRIAL HYDROSPHERE  WATER BUDGET  TERRESTRIAL WATER STORAGETERRESTRIAL HYDROSPHERE  GROUND WATERCRYOSPHERE  GLACIERSICE SHEETS  GLACIER MASS BALANCEICE SHEET MASS BALANCEPlatformSensorProjectGravity Recovery and Climate Experiment GRACEProjectGravity Recovery and Climate Experiment FollowOn GRACEFOData ProviderPublisherTELLUSCreatorD N Wiese DN Yuan C Boening F W Landerer M M WatkinsRelease PlaceJPLPODAACRelease Date2023Jan25Resourcehttpgracejplnasagovdatagetdatajpl_global_masconsFormatnetCDF4KeywordsTellus Mascon Ocean Mass Water Height Water Mass Gravity Ocean Bottom Pressure RL061Mv03 Sea Level GRACEFO Terrestrial Water Storage Questions related to this dataset Contact podaacpodaacjplnasagovResolutionSpatial Resolution 05 Decimal Degrees x 05 Decimal DegreesTemporal Resolution Monthly   Annual\\xa0CoverageRegion GLOBALNorth Bounding Coordinate 90 degreesSouth Bounding Coordinate 90 degreesWest Bounding Coordinate 180 degreesEast Bounding Coordinate 180 degreesTime Span 2002Apr04 to PresentGranule Time Span 2002Apr16 to 2023Nov16\\xa0ProjectionProjection Type Equal Area Spherical LatLonProjection Detail Geolocation information included for each pixelEllipsoid WGS 84\\xa0 CapabilitiesDownloadSubsetDIRECT ACCESSBrowse Granule ListinghttpscmrearthdatanasagovvirtualdirectorycollectionsC2536962485POCLOUDLAND_MASKCRI FilehttpsarchivepodaacearthdatanasagovpodaacopscumulusdocstellusopenL3mascondocsLAND_MASKCRIncPLACEMENT filehttpsarchivepodaacearthdatanasagovpodaacopscumulusdocstellusopenL3mascondocsJPL_MSCNv03_PLACEMENTncSCALE_FACTOR FilehttpsarchivepodaacearthdatanasagovpodaacopscumulusdocstellusopenL3mascondocsCLM4SCALE_FACTORJPLMSCNv03CRIncSearch GranuleshttpssearchearthdatanasagovsearchgranulespC2536962485POCLOUDDIRECT S3ACCESSAvailable for access inregion with AWS CloudRegionuswest2BucketObject Prefix Protected buckets contain the data files for a given collection Protected simply means users must log in to Earthdata Login before gaining access to contents within that S3 Bucket Please use the S3Credential endpoint to gain an Earthdata login token for use in S3 AccessPublic buckets in contrast house metadata such as checksums imagery and metadata files and the like A user can access public buckets and these types of files without logging in to Earthdata LoginMost of the time youll want to access the protected bucket InformationpodaacopscumulusprotectedTELLUS_GRACGRFO_MASCON_CRI_GRID_RL061_V3podaacopscumuluspublicTELLUS_GRACGRFO_MASCON_CRI_GRID_RL061_V3AWS S3 CredentialsGet AWS S3 Credentials\\xa0\\xa0Documentation IMPORTANT NOTICEhttpsarchivepodaacearthdatanasagovpodaacopscumulusdocstellusopenL3docsGRACE_GRACEFO_ReleaseNotes_JPL_MASCONpdfRelease NotehttpsgracejplnasagovdatadataupdatesGrace Tellus Project site for announcing recent and historical updates regarding Tellus datasetsGENERAL DOCUMENTATIONhttpsgracejplnasagovdatagetdatajpl_global_masconsProvides additional resources and information for the Global Mascon datasetshttpspodaacjplnasagovGRACEFOGRACEFO Mission Information PagehttpspodaacjplnasagovGRACEGRACE Mission Information PagehttpsgracejplnasagovaboutfaqGRACE Tellus Project page for Frequently <NAME>GRACE Documentation and Technical Noteshttpspodaacjplnasagovgravitygracefodocumentation GRACEFO Documentation and Technical NotesPUBLICATIONShttpsarchivepodaacearthdatanasagovpodaacopscumulusdocsgraceopenL1BGFZAOD1BRL04docsWiese_2016_WRRpdfFor derivations of the CRI filter and gain factors along with a discussion of leakage errors please see Wiese et al 2016 doi1010022016WR019344ANOMALIEShttpsarchivepodaacearthdatanasagovpodaacopscumulusdocsgracefoopendocsGRACE_GRACEFO_Months_RL06csvGRACE monthly data integration rangehttpsgracejplnasagovaboutfeedbackGRACE Tellus Project web tool for entering user feedback Users are advised to only use this tool when submitting data quality issues directly to the GRACE Tellus Project For all other inquiries please visit httpspodaacjplnasagovforumDATA RECIPEhttpsgithubcompodaacdatareaders Generic Data ReadershttpsgithubcompodaacGRACEPython script of converting netCDF4 to GeoTIFFDATA CITATION POLICYhttpspodaacjplnasagovCitingPODAACData Use and Citation Policy  Citation is critically important for dataset documentation and discovery Please cite the data as follows and cite the reference papers when it is appropriateCitationD N Wiese DN Yuan C Boening F W Landerer M M Watkins 2023 JPL GRACE and GRACEFO Mascon Ocean Ice and Hydrology Equivalent Water Height CRI Filtered Ver RL061Mv03 PODAACCAUSA Dataset accessed YYYYMMDD at httpsdoiorg105067TEMSC3JC63Download CitationRISBIBXMLJSONLDFor more information see Data Citations and AcknowledgmentsJournal ReferenceWatkins M M Wiese D N Yuan D N Boening C  <NAME> Improved methods for observing Earths time variable mass distribution with GRACE using spherical cap mascons Improved Gravity Observations from GRACE Journal of Geophysical Research Solid Earth 120 4 1010022014JB011547 SHARE THIS PAGE\\xa0\\xa0Cloud EnabledStatusACTIVEShort NameTELLUS_GRACGRFO_MASCON_CRI_GRID_RL061_V3Collection Concept IDC2536962485POCLOUDSpatial CoverageN 90S 90E 180W 180AccessBrowse Granule ListingSearch GranulesLAND_MASKCRI FilePLACEMENT fileSCALE_FACTOR FileCapabilitiesDownloadSubsetCloseDownloadJPL GRACE and GRACEFO Mascon Ocean Ice and Hydrology Equivalent Water Height Coastal Resolution Improvement CRI Filtered Release 061 Version 03Short Name TELLUS_GRACGRFO_MASCON_CRI_GRID_RL061_V3Collection Concept ID C2536962485POCLOUDTools                                                      PODAAC Data Subscriber                                                    Information                        podaacdatasubscriber c TELLUS_GRACGRFO_MASCON_CRI_GRID_RL061_V3 d dataTELLUS_GRACGRFO_MASCON_CRI_GRID_RL061_V3 startdate 20020404T000000Z                         Direct S3AccessAvailable for access inregion with AWS CloudRegionuswest2BucketObject Prefix Protected buckets contain the data files for a given collection Protected simply means users must log in to Earthdata Login before gaining access to contents within that S3 Bucket Please use the S3Credential endpoint to gain an Earthdata login token for use in S3 AccessPublic buckets in contrast house metadata such as checksums imagery and metadata files and the like A user can access public buckets and these types of files without logging in to Earthdata LoginMost of the time youll want to access the protected bucket InformationpodaacopscumulusprotectedTELLUS_GRACGRFO_MASCON_CRI_GRID_RL061_V3podaacopscumuluspublicTELLUS_GRACGRFO_MASCON_CRI_GRID_RL061_V3AWS S3 CredentialsGet AWS S3 Credentials\\xa0\\xa0DocumentationCloseServiceJPL GRACE and GRACEFO Mascon Ocean Ice and Hydrology Equivalent Water Height Coastal Resolution Improvement CRI Filtered Release 061 Version 03Short Name TELLUS_GRACGRFO_MASCON_CRI_GRID_RL061_V3Collection Concept ID C2536962485POCLOUDCloseSubsetJPL GRACE and GRACEFO Mascon Ocean Ice and Hydrology Equivalent Water Height Coastal Resolution Improvement CRI Filtered Release 061 Version 03Short Name TELLUS_GRACGRFO_MASCON_CRI_GRID_RL061_V3Collection Concept ID C2536962485POCLOUDServices                        OPeNDAP in the Cloud                         Information                        httpsopendapearthdatanasagov                        CloseVisualizeJPL GRACE and GRACEFO Mascon Ocean Ice and Hydrology Equivalent Water Height Coastal Resolution Improvement CRI Filtered Release 061 Version 03Short Name TELLUS_GRACGRFO_MASCON_CRI_GRID_RL061_V3Collection Concept ID C2536962485POCLOUDData RecipesGeneric Data ReadersPython script of converting netCDF4 to GeoTIFF RSS FeedPrivacyData CitationAbout PODAACContact  Get PODAAC Updates by Email Subscribe Clearance Number CL050770topBack to top'}]\n"
     ]
    },
    {
     "name": "stderr",
     "output_type": "stream",
     "text": [
      "\u001b[32m2024-02-07 12:06:13.474\u001b[0m | \u001b[34m\u001b[1mDEBUG   \u001b[0m | \u001b[36mlarch.metadata.extractors_openai\u001b[0m:\u001b[36m_extract\u001b[0m:\u001b[36m73\u001b[0m - \u001b[34m\u001b[1mnchars=3942\n",
      "Text :: Reservoirs v101 Global Reservoir and Dam GRanD v1  SEDAC Socioeconomic Data and Applications Center sedacA Data Center in NASAs Earth Observing System Data and Information System EOSDIS  Hosted by CIESIN at Columbia UniversitySearch SEDACDataData SetsMapsWeb Pagessearch Data Data Sets Data Collections Featured Data Uses Data Citations Citations Database Data SubmissionMaps Map Gallery Map Viewer Map Services Mapping ToolsThemes Agriculture Climate Conservation Governance Hazards Health Infrastructure Land Use Marine and Coastal Population Poverty Remote Sensing Sustainability Urban WaterResources Guides Multimedia Networks News Publications Related Sites Remote Sensing ToolsSocial Media Twitter FaceBook YouTube Flickr Blog Posts CommunitiesAbout About SEDAC User Working Group Privacy User RegistrationHelp Global Reservoir and Dam GRanD v1  Follow Us TwitterFollow Us on FacebookYouTubeFlickr      Share  TwitterFacebookCollection OverviewMethodsData Sets 2Reservoirs v101 2011Dams v101 2011Map Gallery 20Map Services 2CitationsProject WebsiteSEDAC Hazards MapperReservoirs v101 2011Set OverviewData DownloadMapsMap ServicesMetadataPurposeTo provide a geographically explicit and reliable database of reservoirs for the scientific communityAbstractGlobal Reservoir and Dam Database Version 1 Revision 01 v101 contains 6862 records of reservoirs and their associated dams with a cumulative storage capacity of 6197 cubic km The reservoirs were delineated from high spatial resolution satellite imagery and are available as polygon shape files The only attribute for the reservoirs is the area of the reservoir The associated dams data set includes multiple attributes such as name of the dam and the impounded river primary use nearest city area and year of construction or commissioning While the main focus was to include all reservoirs with a storage capacity of more than 01 cubic kilometers many smaller reservoirs were added where data were available The data were compiled by Lehner et al 2011 and are distributed by the Global Water System Project GWSP and by the Columbia University Center for International Earth Science Information Network CIESIN For details please refer to the Technical Documentation which is provided with the dataRecommended CitationsLehner B C Reidy Liermann C Revenga C Vorosmarty B Fekete P <NAME> M <NAME> Frenken J Magome C Nilsson JC Robertson R Rodel N Sindorf and D Wisser        2011        Global Reservoir and Dam Database Version 1 GRanDv1 Reservoirs Revision 01        Palisades        New York        NASA Socioeconomic Data and Applications Center SEDAChttpsdoiorg107927H4HH6H08 Accessed DAY MONTH YEAR ENW EndNote  RefWorks       RIS Others       Lehner B C Reidy Liermann C Revenga C Vörösmarty B Fekete P Crouzet P Döll M <NAME> Frenken J Magome  C Nilsson JC Robertson R Rodel N Sindorf and D Wisser2011        HighResolution Mapping of the Worlds Reservoirs and Dams for Sustainable RiverFlow ManagementFrontiers in Ecology and the Environment 9 9 494502        httpsdoiorg101890100125         ENW EndNote  RefWorks       RIS Others       When authors make use of data they should cite both the data set and the scientific publication if available  Such a practice gives credit to data set producers and advances principles of transparency and reproducibility Please visit the data citations page for details Users who would like to choose to format the citations for this dataset using a myriad of alternate styles can copy the DOI number and paste it into Crosscites website For EndNote users please check the Research Note field for issues with importing authors that are organizations when using the ENW file formatAvailable Formats  vector map map serviceHome  Data  Data Uses  Data Citations  Maps  Map ServicesNews  Tools  Guides  Publications  Blog PostsAbout  Help  Privacy  User RegistrationCopyright  19972024 The Trustees of Columbia University in the City of New York\u001b[0m\n"
     ]
    },
    {
     "name": "stdout",
     "output_type": "stream",
     "text": [
      "the system prompt is Extract metadata and entities details accurately from my requests.\n",
      "The messages is [{'role': 'system', 'content': 'Extract metadata and entities details accurately from my requests.'}, {'role': 'user', 'content': 'Reservoirs v101 Global Reservoir and Dam GRanD v1  SEDAC Socioeconomic Data and Applications Center sedacA Data Center in NASAs Earth Observing System Data and Information System EOSDIS  Hosted by CIESIN at Columbia UniversitySearch SEDACDataData SetsMapsWeb Pagessearch Data Data Sets Data Collections Featured Data Uses Data Citations Citations Database Data SubmissionMaps Map Gallery Map Viewer Map Services Mapping ToolsThemes Agriculture Climate Conservation Governance Hazards Health Infrastructure Land Use Marine and Coastal Population Poverty Remote Sensing Sustainability Urban WaterResources Guides Multimedia Networks News Publications Related Sites Remote Sensing ToolsSocial Media Twitter FaceBook YouTube Flickr Blog Posts CommunitiesAbout About SEDAC User Working Group Privacy User RegistrationHelp\\xa0Global Reservoir and Dam GRanD v1  Follow Us TwitterFollow Us on FacebookYouTubeFlickr\\xa0\\xa0\\xa0\\xa0\\xa0\\xa0Share  TwitterFacebookCollection OverviewMethodsData Sets 2Reservoirs v101 2011Dams v101 2011Map Gallery 20Map Services 2CitationsProject WebsiteSEDAC Hazards MapperReservoirs v101 2011Set OverviewData DownloadMapsMap ServicesMetadataPurposeTo provide a geographically explicit and reliable database of reservoirs for the scientific communityAbstractGlobal Reservoir and Dam Database Version 1 Revision 01 v101 contains 6862 records of reservoirs and their associated dams with a cumulative storage capacity of 6197 cubic km The reservoirs were delineated from high spatial resolution satellite imagery and are available as polygon shape files The only attribute for the reservoirs is the area of the reservoir The associated dams data set includes multiple attributes such as name of the dam and the impounded river primary use nearest city area and year of construction or commissioning While the main focus was to include all reservoirs with a storage capacity of more than 01 cubic kilometers many smaller reservoirs were added where data were available The data were compiled by Lehner et al 2011 and are distributed by the Global Water System Project GWSP and by the Columbia University Center for International Earth Science Information Network CIESIN For details please refer to the Technical Documentation which is provided with the dataRecommended CitationsLehner B C Reidy Liermann C Revenga C Vorosmarty B Fekete P <NAME> M <NAME> Frenken J Magome C Nilsson JC Robertson R Rodel N Sindorf and D Wisser        2011        Global Reservoir and Dam Database Version 1 GRanDv1 Reservoirs Revision 01        Palisades        New York        NASA Socioeconomic Data and Applications Center SEDAChttpsdoiorg107927H4HH6H08 Accessed DAY MONTH YEAR ENW EndNote  RefWorks       RIS Others       Lehner B C Reidy Liermann C Revenga C Vörösmarty B Fekete P Crouzet P Döll M <NAME> Frenken J Magome  C Nilsson JC Robertson R Rodel N Sindorf and D Wisser2011        HighResolution Mapping of the Worlds Reservoirs and Dams for Sustainable RiverFlow ManagementFrontiers in Ecology and the Environment 9 9 494502        httpsdoiorg101890100125         ENW EndNote  RefWorks       RIS Others       When authors make use of data they should cite both the data set and the scientific publication if available  Such a practice gives credit to data set producers and advances principles of transparency and reproducibility Please visit the data citations page for details Users who would like to choose to format the citations for this dataset using a myriad of alternate styles can copy the DOI number and paste it into Crosscites website For EndNote users please check the Research Note field for issues with importing authors that are organizations when using the ENW file formatAvailable Formats  vector map map serviceHome  Data  Data Uses  Data Citations  Maps  Map ServicesNews  Tools  Guides  Publications  Blog PostsAbout  Help  Privacy  User RegistrationCopyright  19972024 The Trustees of Columbia University in the City of New York'}]\n"
     ]
    },
    {
     "name": "stderr",
     "output_type": "stream",
     "text": [
      "\u001b[32m2024-02-07 12:06:15.419\u001b[0m | \u001b[34m\u001b[1mDEBUG   \u001b[0m | \u001b[36mlarch.metadata.extractors_openai\u001b[0m:\u001b[36m_extract\u001b[0m:\u001b[36m73\u001b[0m - \u001b[34m\u001b[1mnchars=3877\n",
      "Text :: Dams v101 Global Reservoir and Dam GRanD v1  SEDAC Socioeconomic Data and Applications Center sedacA Data Center in NASAs Earth Observing System Data and Information System EOSDIS  Hosted by CIESIN at Columbia UniversitySearch SEDACDataData SetsMapsWeb Pagessearch Data Data Sets Data Collections Featured Data Uses Data Citations Citations Database Data SubmissionMaps Map Gallery Map Viewer Map Services Mapping ToolsThemes Agriculture Climate Conservation Governance Hazards Health Infrastructure Land Use Marine and Coastal Population Poverty Remote Sensing Sustainability Urban WaterResources Guides Multimedia Networks News Publications Related Sites Remote Sensing ToolsSocial Media Twitter FaceBook YouTube Flickr Blog Posts CommunitiesAbout About SEDAC User Working Group Privacy User RegistrationHelp Global Reservoir and Dam GRanD v1  Follow Us TwitterFollow Us on FacebookYouTubeFlickr      Share  TwitterFacebookCollection OverviewMethodsData Sets 2Dams v101 2011Reservoirs v101 2011Map Gallery 20Map Services 2CitationsProject WebsiteSEDAC Hazards MapperDams v101 2011Set OverviewData DownloadMapsMap ServicesMetadataPurposeTo provide a geographically explicit and reliable database of dams for the scientific communityAbstractThe Global Reservoir and Dam Database Version 1 Revision 01 v101 contains 6862 records of reservoirs and their associated dams with a cumulative storage capacity of 6197 cubic km The dams were geospatially referenced and assigned to polygons depicting reservoir outlines at high spatial resolution Dams have multiple attributes such as name of the dam and impounded river primary use nearest city height area and volume of reservoir and year of construction or commissioning While the main focus was to include all dams associated with reservoirs that have a storage capacity of more than 01 cubic kilometers many smaller dams and reservoirs were added where data were available The data were compiled by Lehner et al 2011 and are distributed by the Global Water System Project GWSP and by the Columbia University Center for International Earth Science Information Network CIESIN For details please refer to the Technical Documentation which is provided with the dataRecommended CitationsLehner B C Reidy Liermann C Revenga C Vorosmarty B Fekete P <NAME> M <NAME> Frenken J Magome C Nilsson JC Robertson R Rodel N Sindorf and D Wisser        2011        Global Reservoir and Dam Database Version 1 GRanDv1 Dams Revision 01        Palisades        New York        NASA Socioeconomic Data and Applications Center SEDAChttpsdoiorg107927H4N877QK Accessed DAY MONTH YEAR ENW EndNote  RefWorks       RIS Others       Lehner B C Reidy Liermann C Revenga C Vörösmarty B Fekete P Crouzet P Döll M <NAME> <NAME>C Nilsson JC Robertson R Rodel N Sindorf and D Wisser2011        HighResolution Mapping of the Worlds Reservoirs and Dams for Sustainable RiverFlow ManagementFrontiers in Ecology and the Environment 9 9 494502        httpsdoiorg101890100125         ENW EndNote  RefWorks       RIS Others       When authors make use of data they should cite both the data set and the scientific publication if available  Such a practice gives credit to data set producers and advances principles of transparency and reproducibility Please visit the data citations page for details Users who would like to choose to format the citations for this dataset using a myriad of alternate styles can copy the DOI number and paste it into Crosscites website For EndNote users please check the Research Note field for issues with importing authors that are organizations when using the ENW file formatAvailable Formats  vector map map serviceHome  Data  Data Uses  Data Citations  Maps  Map ServicesNews  Tools  Guides  Publications  Blog PostsAbout  Help  Privacy  User RegistrationCopyright  19972024 The Trustees of Columbia University in the City of New York\u001b[0m\n"
     ]
    },
    {
     "name": "stdout",
     "output_type": "stream",
     "text": [
      "the system prompt is Extract metadata and entities details accurately from my requests.\n",
      "The messages is [{'role': 'system', 'content': 'Extract metadata and entities details accurately from my requests.'}, {'role': 'user', 'content': 'Dams v101 Global Reservoir and Dam GRanD v1  SEDAC Socioeconomic Data and Applications Center sedacA Data Center in NASAs Earth Observing System Data and Information System EOSDIS  Hosted by CIESIN at Columbia UniversitySearch SEDACDataData SetsMapsWeb Pagessearch Data Data Sets Data Collections Featured Data Uses Data Citations Citations Database Data SubmissionMaps Map Gallery Map Viewer Map Services Mapping ToolsThemes Agriculture Climate Conservation Governance Hazards Health Infrastructure Land Use Marine and Coastal Population Poverty Remote Sensing Sustainability Urban WaterResources Guides Multimedia Networks News Publications Related Sites Remote Sensing ToolsSocial Media Twitter FaceBook YouTube Flickr Blog Posts CommunitiesAbout About SEDAC User Working Group Privacy User RegistrationHelp\\xa0Global Reservoir and Dam GRanD v1  Follow Us TwitterFollow Us on FacebookYouTubeFlickr\\xa0\\xa0\\xa0\\xa0\\xa0\\xa0Share  TwitterFacebookCollection OverviewMethodsData Sets 2Dams v101 2011Reservoirs v101 2011Map Gallery 20Map Services 2CitationsProject WebsiteSEDAC Hazards MapperDams v101 2011Set OverviewData DownloadMapsMap ServicesMetadataPurposeTo provide a geographically explicit and reliable database of dams for the scientific communityAbstractThe Global Reservoir and Dam Database Version 1 Revision 01 v101 contains 6862 records of reservoirs and their associated dams with a cumulative storage capacity of 6197 cubic km The dams were geospatially referenced and assigned to polygons depicting reservoir outlines at high spatial resolution Dams have multiple attributes such as name of the dam and impounded river primary use nearest city height area and volume of reservoir and year of construction or commissioning While the main focus was to include all dams associated with reservoirs that have a storage capacity of more than 01 cubic kilometers many smaller dams and reservoirs were added where data were available The data were compiled by Lehner et al 2011 and are distributed by the Global Water System Project GWSP and by the Columbia University Center for International Earth Science Information Network CIESIN For details please refer to the Technical Documentation which is provided with the dataRecommended CitationsLehner B C Reidy Liermann C Revenga C Vorosmarty B Fekete P <NAME> M <NAME> Frenken J Magome C Nilsson JC Robertson R Rodel N Sindorf and D Wisser        2011        Global Reservoir and Dam Database Version 1 GRanDv1 Dams Revision 01        Palisades        New York        NASA Socioeconomic Data and Applications Center SEDAChttpsdoiorg107927H4N877QK Accessed DAY MONTH YEAR ENW EndNote  RefWorks       RIS Others       Lehner B C Reidy Liermann C Revenga C Vörösmarty B Fekete P Crouzet P Döll M <NAME> <NAME>C Nilsson JC Robertson R Rodel N Sindorf and D Wisser2011        HighResolution Mapping of the Worlds Reservoirs and Dams for Sustainable RiverFlow ManagementFrontiers in Ecology and the Environment 9 9 494502        httpsdoiorg101890100125         ENW EndNote  RefWorks       RIS Others       When authors make use of data they should cite both the data set and the scientific publication if available  Such a practice gives credit to data set producers and advances principles of transparency and reproducibility Please visit the data citations page for details Users who would like to choose to format the citations for this dataset using a myriad of alternate styles can copy the DOI number and paste it into Crosscites website For EndNote users please check the Research Note field for issues with importing authors that are organizations when using the ENW file formatAvailable Formats  vector map map serviceHome  Data  Data Uses  Data Citations  Maps  Map ServicesNews  Tools  Guides  Publications  Blog PostsAbout  Help  Privacy  User RegistrationCopyright  19972024 The Trustees of Columbia University in the City of New York'}]\n"
     ]
    }
   ],
   "source": [
    "\n",
    "import json\n",
    "\n",
    "metadata_extractor = InstructorBasedOpenAIMetadataExtractor(\n",
    "    model=\"gpt-3.5-turbo-0125\",\n",
    "#     model=\"gpt-4\",\n",
    "    schema=schema,\n",
    "    preprocessor=text_processor,\n",
    "    debug=True,\n",
    ")\n",
    "\n",
    "response_result={}\n",
    "for enum,text in enumerate(url_content):\n",
    "    metadata = metadata_extractor(text)\n",
    "    response=json.loads((metadata['choices'][0]['message'][\"function_call\"][\"arguments\"]))\n",
    "    response_result[urls[enum]]=response\n"
   ]
  },
  {
   "cell_type": "code",
   "execution_count": 62,
   "id": "7c997b93-401e-4790-a910-8e612b603b2e",
   "metadata": {},
   "outputs": [
    {
     "name": "stdout",
     "output_type": "stream",
     "text": [
      "{'Indicators': 'Poverty', 'Description': 'Global Gridded Relative Deprivation Index (GRDI) v1 is a dataset that characterizes the relative levels of multidimensional deprivation and poverty in each 30 arcsecond (1 km) pixel. It provides a value from 0 to 100, where 100 represents the highest level of deprivation and 0 the lowest.', 'Geographic_Coverage': 'Global', 'Format': 'Raster map', 'Spatial_Resolution': '1 km', 'Temporal_Resolution': 'N/A', 'Temporal_Extent': '2010-2020', 'Latency': 'N/A', 'Project': 'NASA Socioeconomic Data and Applications Center (SEDAC) at Columbia University', 'Data_Visualization': True}\n"
     ]
    }
   ],
   "source": [
    "import json\n",
    "response=json.loads((metadata['choices'][0]['message'][\"function_call\"][\"arguments\"]))\n",
    "print(response)"
   ]
  },
  {
   "cell_type": "code",
   "execution_count": 68,
   "id": "b0af9a44-078a-4414-b662-4455614a1a71",
   "metadata": {},
   "outputs": [
    {
     "data": {
      "text/plain": [
       "{'https://doi.org/10.5067/MEaSUREs/GFSAD/GFSAD30AFCE.001': {'Indicators': 'Food Availability',\n",
       "  'Description': 'The NASA Making Earth System Data Records for Use in Research Environments (MEaSUREs) Global Food Security-support Analysis Data (GFSAD) data product provides cropland extent data over the continent of Africa for the nominal year 2015 at 30-meter resolution. The monitoring of global cropland extent is critical for policymaking and provides important baseline data used in agricultural cropland studies pertaining to water sustainability and food security.',\n",
       "  'Geographic_Coverage': 'Africa',\n",
       "  'Format': 'GeoTIFF',\n",
       "  'Spatial_Resolution': '30 m',\n",
       "  'Temporal_Resolution': 'Multi-Year',\n",
       "  'Temporal_Extent': '2013-01-01 to 2016-06-30',\n",
       "  'Latency': 'N/A',\n",
       "  'Project': 'MEaSUREs GFSAD',\n",
       "  'Data_Visualization': False},\n",
       " 'https://doi.org/10.5067/MEaSUREs/GFSAD/GFSAD30AUNZCNMOCE.001': {'Indicators': 'Food Availability',\n",
       "  'Description': 'The NASA Making Earth System Data Records for Use in Research Environments (MEaSUREs) Global Food Security-support Analysis Data (GFSAD) data product provides cropland extent data over Australia, New Zealand, China, and Mongolia for the nominal year 2015 at 30-meter resolution. The monitoring of global cropland extent is critical for policymaking and provides important baseline data used in agricultural cropland studies pertaining to water sustainability and food security.',\n",
       "  'Geographic_Coverage': 'Australia, New Zealand, China, Mongolia',\n",
       "  'Format': 'GeoTIFF',\n",
       "  'Spatial_Resolution': '30 m',\n",
       "  'Temporal_Resolution': 'Multi-Year',\n",
       "  'Temporal_Extent': '2013-01-01 to 2016-12-31',\n",
       "  'Latency': 'N/A',\n",
       "  'Project': 'MEaSUREs GFSAD',\n",
       "  'Data_Visualization': False},\n",
       " 'https://doi.org/10.5067/MEaSUREs/GFSAD/GFSAD30SEACE.001': {'Indicators': 'Food Availability',\n",
       "  'Description': 'The NASA Making Earth System Data Records for Use in Research Environments MEaSUREs Global Food Securitysupport Analysis Data GFSAD data product provides cropland extent data over Southeast and Northeast Asia for nominal year 2015 at 30-meter resolution. The monitoring of global cropland extent is critical for policymaking and provides important baseline data that are used in many agricultural cropland studies pertaining to water sustainability and food security. The GFSAD30SEACE data product uses the pixel-based supervised classifiers Random Forest (RF) to retrieve cropland extent from a combination of Landsat 8 Operational Land Imager (OLI), Landsat 7 Enhanced Thematic Mapper Plus (ETM), and elevation derived from the Shuttle Radar Topography Mission (SRTM) Version 3 data products.',\n",
       "  'Geographic_Coverage': 'Southeast and Northeast Asia',\n",
       "  'Format': 'GeoTIFF',\n",
       "  'Spatial_Resolution': '30 m',\n",
       "  'Temporal_Resolution': 'Multi-Year',\n",
       "  'Temporal_Extent': '2013-01-01 to 2016-12-31',\n",
       "  'Latency': 'N/A',\n",
       "  'Project': 'MEaSUREs GFSAD',\n",
       "  'Data_Visualization': False},\n",
       " 'https://doi.org/10.5067/MEaSUREs/GFSAD/GFSAD30EUCEARUMECE.001': {'Indicators': 'Food Availability',\n",
       "  'Description': 'Global Food Security-support Analysis Data (GFSAD) Cropland Extent 2015 over Europe, Central Asia, Russia, and the Middle East at 30-meter resolution',\n",
       "  'Geographic_Coverage': 'Europe, Central Asia, Russia, Middle East',\n",
       "  'Format': 'GeoTIFF',\n",
       "  'Spatial_Resolution': '30 m',\n",
       "  'Temporal_Resolution': 'Multi-Year',\n",
       "  'Temporal_Extent': '2013-01-01 to 2016-12-31',\n",
       "  'Latency': 'N/A',\n",
       "  'Project': 'MEaSUREs GFSAD',\n",
       "  'Data_Visualization': False},\n",
       " 'https://doi.org/10.5067/MEaSUREs/GFSAD/GFSAD30SACE.001': {'Indicators': 'Food Availability',\n",
       "  'Description': 'Global Food Security-support Analysis Data (GFSAD) Cropland Extent 2015 over South America at 30-meter resolution',\n",
       "  'Geographic_Coverage': 'South America',\n",
       "  'Format': 'GeoTIFF',\n",
       "  'Spatial_Resolution': '30 m',\n",
       "  'Temporal_Resolution': 'Multi-Year',\n",
       "  'Temporal_Extent': '2013-01-01 to 2016-12-31',\n",
       "  'Latency': 'N/A',\n",
       "  'Project': 'MEaSUREs GFSAD',\n",
       "  'Data_Visualization': False},\n",
       " 'https://fews.net/': {'Indicators': 'Climate',\n",
       "  'Description': 'FEWS NET is a leading provider of early warning and analysis on acute food insecurity around the world. The Famine Early Warning Systems Network (FEWS NET) monitors and analyzes the nature, location, magnitude, and duration of complex drivers of acute food insecurity, including climate, conflict, and markets & trade.',\n",
       "  'Geographic_Coverage': 'Global',\n",
       "  'Format': 'Reports, Alerts, Data Explorer',\n",
       "  'Spatial_Resolution': 'N/A',\n",
       "  'Temporal_Resolution': 'N/A',\n",
       "  'Temporal_Extent': 'Present',\n",
       "  'Latency': 'Monthly',\n",
       "  'Project': 'FEWS NET',\n",
       "  'Data_Visualization': True},\n",
       " 'https://ldas.gsfc.nasa.gov/fldas': {'Indicators': 'Food Availability',\n",
       "  'Description': 'The FLDAS (Famine Early Warning Systems Network Land Data Assimilation System) aims to generate high-quality fields of land surface states and fluxes used for FEWS NET decision support. It uses observational datasets and advanced modeling and data assimilation methods to assess food security in data-sparse developing countries.',\n",
       "  'Geographic_Coverage': 'Global, Central Asia, Africa, Middle East',\n",
       "  'Format': 'NetCDF, GeoTIFF, KMZ',\n",
       "  'Spatial_Resolution': '0.01, 0.001, 0.25',\n",
       "  'Temporal_Resolution': 'Monthly, Daily',\n",
       "  'Temporal_Extent': 'varies-multiple datasets included, present, up to 5 months',\n",
       "  'Latency': '1 day',\n",
       "  'Project': 'FLDAS (Famine Early Warning Systems Network Land Data Assimilation System)',\n",
       "  'Data_Visualization': True},\n",
       " 'https://dx.doi.org/10.5067/TEMSC-3JC63': {'Indicators': 'Water Availability',\n",
       "  'Description': 'Dataset containing gridded monthly global water storage height anomalies relative to a time mean derived from GRACE and GRACEFO and processed at JPL using the Mascon approach RL061Mv03. The data employs a Coastal Resolution Improvement (CRI) filter that reduces signal leakage errors across coastlines. It can be used for analysis of ocean ice and hydrology phenomena.',\n",
       "  'Geographic_Coverage': 'GLOBAL',\n",
       "  'Format': 'netCDF',\n",
       "  'Spatial_Resolution': '0.5 Decimal Degrees x 0.5 Decimal Degrees',\n",
       "  'Temporal_Resolution': 'Monthly',\n",
       "  'Temporal_Extent': '2002Apr04 to Present',\n",
       "  'Latency': 'N/A',\n",
       "  'Project': 'Gravity Recovery and Climate Experiment (GRACE) and Gravity Recovery and Climate Experiment Follow-On (GRACEFO)',\n",
       "  'Data_Visualization': True},\n",
       " 'https://doi.org/10.7927/H4HH6H08 ': {'Indicators': 'Water Availability',\n",
       "  'Description': 'Global Reservoir and Dam Database Version 1 (GRanDv1) contains 6862 records of reservoirs and their associated dams with a cumulative storage capacity of 6197 cubic km. The reservoirs were delineated from high spatial resolution satellite imagery and are available as polygon shape files. The associated dams dataset includes multiple attributes such as the name of the dam, impounded river, primary use, nearest city, area, and year of construction or commissioning.',\n",
       "  'Geographic_Coverage': 'Global',\n",
       "  'Format': 'vector map',\n",
       "  'Spatial_Resolution': 'N/A',\n",
       "  'Temporal_Resolution': 'N/A',\n",
       "  'Temporal_Extent': '2011',\n",
       "  'Latency': 'N/A',\n",
       "  'Project': 'Global Reservoir and Dam GRanD v1',\n",
       "  'Data_Visualization': True},\n",
       " 'https://doi.org/10.7927/H4N877QK ': {'Indicators': 'Water Availability',\n",
       "  'Description': 'Global Reservoir and Dam Database Version 1 (GRanD v1) contains 6862 records of reservoirs and their associated dams with a cumulative storage capacity of 6197 cubic km. The dams were geospatially referenced and assigned to polygons depicting reservoir outlines at high spatial resolution. Dams have multiple attributes such as name of the dam and impounded river, primary use, nearest city, height, area and volume of reservoir, and year of construction or commissioning.',\n",
       "  'Geographic_Coverage': 'Global',\n",
       "  'Format': 'vector map',\n",
       "  'Spatial_Resolution': 'varies',\n",
       "  'Temporal_Resolution': 'N/A',\n",
       "  'Temporal_Extent': '2011',\n",
       "  'Latency': 'N/A',\n",
       "  'Project': 'Global Reservoir and Dam Database Version 1 (GRanD v1)',\n",
       "  'Data_Visualization': True}}"
      ]
     },
     "execution_count": 68,
     "metadata": {},
     "output_type": "execute_result"
    }
   ],
   "source": [
    "response_result"
   ]
  },
  {
   "cell_type": "code",
   "execution_count": 69,
   "id": "ece6e9c7",
   "metadata": {},
   "outputs": [],
   "source": [
    "with open(\"extractions/gpt3.5/Water Availability - Cleaned_gpt3_5.json\",'w') as file:\n",
    "    json.dump(response_result,file,indent=4)"
   ]
  },
  {
   "cell_type": "code",
   "execution_count": 5,
   "id": "0a00a313",
   "metadata": {},
   "outputs": [],
   "source": [
    "import math\n",
    "import pandas as pd\n",
    "import json"
   ]
  },
  {
   "cell_type": "markdown",
   "id": "a772468e",
   "metadata": {},
   "source": [
    "# Evalutation metrics for sample data sheet"
   ]
  },
  {
   "cell_type": "code",
   "execution_count": 16,
   "id": "3d7f3d2d",
   "metadata": {},
   "outputs": [
    {
     "name": "stdout",
     "output_type": "stream",
     "text": [
      "Index(['In SDE?', 'Unnamed: 1', 'Notes', 'Dataset',\n",
      "       'Indicators                     (Select from drop-down list)',\n",
      "       'Description', 'Description Simplified', 'Geographic Coverage',\n",
      "       'Format', 'Spatial Resolution', 'Spatial Resolution (standard)',\n",
      "       'Temporal Resolution', 'Temporal Extent', 'Latency', 'Source/Link',\n",
      "       'Project', 'Strengths', 'Limitations', 'Data Visualization',\n",
      "       'Intended Use'],\n",
      "      dtype='object')\n"
     ]
    }
   ],
   "source": [
    "\n",
    "sheet_names=[\"Water Availability - Cleaned\"]\n",
    "mapper = pd.read_excel(\"nasa_esds.xlsx\", sheet_name=sheet_names)\n",
    "true_data = {}\n",
    "for field_key, value_df in mapper.items():\n",
    "#     res[field_key] = {}\n",
    "    cols = value_df.columns\n",
    "    for i, row in value_df.iterrows():\n",
    "        source_link_col = [\"Source/Link\",\"Indicators                     (Select from drop-down list)\",\"Description\",\"Description Simplified\",\"Geographic Coverage\",\"Format\",\"Spatial Resolution\",\"Spatial Resolution (standard)\",\"Temporal Resolution\",\"Temporal Extent\",\"Latency\",\"Project\",\"Data Visualization\"]\n",
    "        alternate_vals=row[source_link_col]\n",
    "        alternate_vals=list(alternate_vals)\n",
    "        source_link_col[1]=\"Indicators\"\n",
    "        alternate_values=alternate_vals[1:]\n",
    "        value={}\n",
    "        for enum,i in enumerate(source_link_col[1:]):\n",
    "            if i==\"Data Visualization\":\n",
    "                if isinstance(alternate_values[enum],str):\n",
    "                    value[i]=True\n",
    "                else:\n",
    "                    value[i]=False\n",
    "            else:\n",
    "                value[i]=alternate_values[enum]\n",
    "        true_data[alternate_vals[0]]=value\n",
    "                \n",
    "            \n",
    "        \n",
    "\n"
   ]
  },
  {
   "cell_type": "code",
   "execution_count": 119,
   "id": "d2b82d0e",
   "metadata": {},
   "outputs": [
    {
     "data": {
      "text/plain": [
       "{'https://doi.org/10.5067/MEaSUREs/GFSAD/GFSAD30AFCE.001': {'Indicators': 'Food Availability',\n",
       "  'Description Simplified': 'The Global Food Security-support Analysis Data (GFSAD) Cropland Extent 2015 Africa 30 m V001 dataset provides cropland extent data over Africa for the year 2015. These data may be useful in agricultural cropland studies related to water sustainability and food security.',\n",
       "  'Geographic Coverage': 'Africa',\n",
       "  'Format': 'GeoTIFF',\n",
       "  'Spatial Resolution': '30m',\n",
       "  'Spatial Resolution (standard)': '30 meters',\n",
       "  'Temporal Resolution': nan,\n",
       "  'Temporal Extent': '2013-01-01 to 2016-06-30',\n",
       "  'Latency': nan,\n",
       "  'Project': 'MEaSUREs - Making Earth System Data Records for Use in Research Environments',\n",
       "  'Data Visualization': False},\n",
       " 'https://doi.org/10.5067/MEaSUREs/GFSAD/GFSAD30AUNZCNMOCE.001': {'Indicators': 'Food Availability',\n",
       "  'Description Simplified': 'The Global Food Security-support Analysis Data (GFSAD) Cropland Extent 2015 Australia, New Zealand, China, Mongolia 30 m V001 dataset provides cropland extent data over Australia, New Zealand, China, and Mongolia for the year 2015. These data may be useful in agricultural cropland studies related to water sustainability and food security.',\n",
       "  'Geographic Coverage': 'Australia, New Zealand, China, Mongolia',\n",
       "  'Format': 'GeoTIFF',\n",
       "  'Spatial Resolution': '30m',\n",
       "  'Spatial Resolution (standard)': '30 meters',\n",
       "  'Temporal Resolution': nan,\n",
       "  'Temporal Extent': '2013-01-01 to 2016-12-31',\n",
       "  'Latency': nan,\n",
       "  'Project': 'MEaSUREs - Making Earth System Data Records for Use in Research Environments',\n",
       "  'Data Visualization': False},\n",
       " 'https://doi.org/10.5067/MEaSUREs/GFSAD/GFSAD30SEACE.001': {'Indicators': 'Food Availability',\n",
       "  'Description Simplified': 'The Global Food Security-support Analysis Data (GFSAD) Cropland Extent 2015 Southeast and Northeast Asia product 30 m V001 dataset provides cropland extent data over Southeast and Northeast Asia for the year 2015. These data may be useful in agricultural cropland studies related to water sustainability and food security.',\n",
       "  'Geographic Coverage': 'Southeastern Asia, Eastern Asia',\n",
       "  'Format': 'GeoTIFF',\n",
       "  'Spatial Resolution': '30m',\n",
       "  'Spatial Resolution (standard)': '30 meters',\n",
       "  'Temporal Resolution': nan,\n",
       "  'Temporal Extent': '2013-01-01 to 2016-12-31',\n",
       "  'Latency': nan,\n",
       "  'Project': 'MEaSUREs - Making Earth System Data Records for Use in Research Environments',\n",
       "  'Data Visualization': False},\n",
       " 'https://doi.org/10.5067/MEaSUREs/GFSAD/GFSAD30EUCEARUMECE.001': {'Indicators': 'Food Availability',\n",
       "  'Description Simplified': 'The Global Food Security-support Analysis Data (GFSAD) Cropland Extent 2015 Europe, Central Asia, Russia, Middle East product 30 m V001 dataset provides cropland extent data for Europe, Central Asia, Russia, and the Middle East for the year 2015. These data may be useful in agricultural cropland studies related to water sustainability and food security.',\n",
       "  'Geographic Coverage': 'Europe, Asia',\n",
       "  'Format': 'GeoTIFF',\n",
       "  'Spatial Resolution': '30m',\n",
       "  'Spatial Resolution (standard)': '30 meters',\n",
       "  'Temporal Resolution': nan,\n",
       "  'Temporal Extent': '2013-01-01 to 2016-12-31',\n",
       "  'Latency': nan,\n",
       "  'Project': 'MEaSUREs - Making Earth System Data Records for Use in Research Environments',\n",
       "  'Data Visualization': False},\n",
       " 'https://doi.org/10.5067/MEaSUREs/GFSAD/GFSAD30SACE.001': {'Indicators': 'Food Availability',\n",
       "  'Description Simplified': 'The Global Food Security-support Analysis Data (GFSAD) Cropland Extent 2015 Europe, Central Asia, Russia, Middle East product 30 m V001 dataset provides cropland extent data for South America for the year 2015. These data may be useful in agricultural cropland studies related to water sustainability and food security.',\n",
       "  'Geographic Coverage': 'South America',\n",
       "  'Format': 'GeoTIFF',\n",
       "  'Spatial Resolution': '30m',\n",
       "  'Spatial Resolution (standard)': '30 meters',\n",
       "  'Temporal Resolution': nan,\n",
       "  'Temporal Extent': '2013-01-01 to 2016-12-31',\n",
       "  'Latency': nan,\n",
       "  'Project': 'MEaSUREs - Making Earth System Data Records for Use in Research Environments',\n",
       "  'Data Visualization': False},\n",
       " 'https://fews.net/': {'Indicators': 'Food Availability',\n",
       "  'Description Simplified': 'The Famine Early Warning Systems Network (FEWS NET) provides early warning and analysis on acute food insecurity around the world. These data may be useful in food insecuriy and response research.',\n",
       "  'Geographic Coverage': 'Global',\n",
       "  'Format': 'Shapefile',\n",
       "  'Spatial Resolution': 'Varies',\n",
       "  'Spatial Resolution (standard)': 'Varies',\n",
       "  'Temporal Resolution': nan,\n",
       "  'Temporal Extent': 'Varies',\n",
       "  'Latency': nan,\n",
       "  'Project': nan,\n",
       "  'Data Visualization': True},\n",
       " 'https://ldas.gsfc.nasa.gov/fldas': {'Indicators': 'Food Availability',\n",
       "  'Description Simplified': 'The Famine Early Warning Systems Network (FEWS NET) Land Data Assimilation System (FLDAS) dataset is a custom model incorporating various data and monitoring systems. These data may aid in food insecurity research.',\n",
       "  'Geographic Coverage': 'Global',\n",
       "  'Format': 'netCDF-3, KMZ, GeoTIFF',\n",
       "  'Spatial Resolution': 'Varies',\n",
       "  'Spatial Resolution (standard)': 'Varies',\n",
       "  'Temporal Resolution': nan,\n",
       "  'Temporal Extent': 'Varies',\n",
       "  'Latency': nan,\n",
       "  'Project': 'FEWS NET - FEWS NET Land Data Assimilation System',\n",
       "  'Data Visualization': True},\n",
       " 'https://dx.doi.org/10.5067/TEMSC-3JC63': {'Indicators': 'Water Availability',\n",
       "  'Description Simplified': 'This dataset includes monthly global water storage/height to be used in studying groundwater availability. These data may aid in freshwater availability and access research.',\n",
       "  'Geographic Coverage': 'Global',\n",
       "  'Format': 'netCDF-4',\n",
       "  'Spatial Resolution': '0.5 degrees (Latitude) x 0.5 degrees (Longitude)',\n",
       "  'Spatial Resolution (standard)': '55 kilometers',\n",
       "  'Temporal Resolution': 'Monthly - < Annual',\n",
       "  'Temporal Extent': '2002-04-04 to Present',\n",
       "  'Latency': nan,\n",
       "  'Project': 'GRACE - Gravity Recovery and Climate Experiment, GRACE-FO - Gravity Recovery and Climate Experiment Follow-On',\n",
       "  'Data Visualization': False},\n",
       " 'https://doi.org/10.7927/H4HH6H08 ': {'Indicators': 'Water Availability',\n",
       "  'Description Simplified': 'The Global Reservoir and Dam Database, Version 1, Revision 01 (v1.01) dataset contains 6,862 records of reservoirs and their associated dams with a cumulative storage capacity of 6,197 cubic km. This dataset provides the area of each reservoir. These data may aid in water availability research.',\n",
       "  'Geographic Coverage': 'Global',\n",
       "  'Format': 'Shapefile, PDF, PNG, WMS',\n",
       "  'Spatial Resolution': nan,\n",
       "  'Spatial Resolution (standard)': nan,\n",
       "  'Temporal Resolution': nan,\n",
       "  'Temporal Extent': '2011-01-01 to 2011-12-31',\n",
       "  'Latency': nan,\n",
       "  'Project': 'GRAND - Global Reservoir and Dam Database',\n",
       "  'Data Visualization': True},\n",
       " 'https://doi.org/10.7927/H4N877QK ': {'Indicators': 'Water Availability',\n",
       "  'Description Simplified': 'The Global Reservoir and Dam Database, Version 1, Revision 01 (v1.01) dataset contains 6,862 records of reservoirs and their associated dams with a cumulative storage capacity of 6,197 cubic km. Information available for each dam include the name of the dam and impounded river, primary use, nearest city, height, area and volume of reservoir, and year of construction (or commissioning). These data may aid in water availability research.',\n",
       "  'Geographic Coverage': 'Global',\n",
       "  'Format': 'Shapefile, PDF, PNG, WMS',\n",
       "  'Spatial Resolution': nan,\n",
       "  'Spatial Resolution (standard)': nan,\n",
       "  'Temporal Resolution': nan,\n",
       "  'Temporal Extent': '2011-01-01 to 2011-12-31',\n",
       "  'Latency': nan,\n",
       "  'Project': 'GRAND - Global Reservoir and Dam Database',\n",
       "  'Data Visualization': False}}"
      ]
     },
     "execution_count": 119,
     "metadata": {},
     "output_type": "execute_result"
    }
   ],
   "source": [
    "true_data"
   ]
  },
  {
   "cell_type": "code",
   "execution_count": 50,
   "id": "30dcd1be",
   "metadata": {},
   "outputs": [],
   "source": []
  },
  {
   "cell_type": "code",
   "execution_count": 37,
   "id": "fa942003",
   "metadata": {},
   "outputs": [],
   "source": [
    "import json\n",
    "with open(\"extractions/gpt3.5/Water Availability - Cleaned_gpt3_5.json\",'r') as file:\n",
    "    pred_data=json.load(file)\n"
   ]
  },
  {
   "cell_type": "code",
   "execution_count": 38,
   "id": "29e31089",
   "metadata": {},
   "outputs": [
    {
     "name": "stdout",
     "output_type": "stream",
     "text": [
      "dict_keys(['https://doi.org/10.5067/MEaSUREs/GFSAD/GFSAD30AFCE.001', 'https://doi.org/10.5067/MEaSUREs/GFSAD/GFSAD30AUNZCNMOCE.001', 'https://doi.org/10.5067/MEaSUREs/GFSAD/GFSAD30SEACE.001', 'https://doi.org/10.5067/MEaSUREs/GFSAD/GFSAD30EUCEARUMECE.001', 'https://doi.org/10.5067/MEaSUREs/GFSAD/GFSAD30SACE.001', 'https://fews.net/', 'https://ldas.gsfc.nasa.gov/fldas', 'https://dx.doi.org/10.5067/TEMSC-3JC63', 'https://doi.org/10.7927/H4HH6H08 ', 'https://doi.org/10.7927/H4N877QK ']) dict_keys(['https://doi.org/10.5067/MEaSUREs/GFSAD/GFSAD30AFCE.001', 'https://doi.org/10.5067/MEaSUREs/GFSAD/GFSAD30AUNZCNMOCE.001', 'https://doi.org/10.5067/MEaSUREs/GFSAD/GFSAD30SEACE.001', 'https://doi.org/10.5067/MEaSUREs/GFSAD/GFSAD30EUCEARUMECE.001', 'https://doi.org/10.5067/MEaSUREs/GFSAD/GFSAD30SACE.001', 'https://fews.net/', 'https://ldas.gsfc.nasa.gov/fldas', 'https://dx.doi.org/10.5067/TEMSC-3JC63', 'https://doi.org/10.7927/H4HH6H08 ', 'https://doi.org/10.7927/H4N877QK '])\n"
     ]
    }
   ],
   "source": [
    "print(true_data.keys(),pred_data.keys())"
   ]
  },
  {
   "cell_type": "code",
   "execution_count": 39,
   "id": "a84bccb3",
   "metadata": {},
   "outputs": [],
   "source": [
    "for key in true_data.keys():\n",
    "    true_source=true_data[key]\n",
    "    pred_source=pred_data[key]"
   ]
  },
  {
   "cell_type": "code",
   "execution_count": 40,
   "id": "feb1c950",
   "metadata": {},
   "outputs": [
    {
     "data": {
      "text/plain": [
       "{'Indicators': 'Water Availability',\n",
       " 'Description': 'Global Reservoir and Dam Database Version 1 (GRanD v1) contains 6862 records of reservoirs and their associated dams with a cumulative storage capacity of 6197 cubic km. The dams were geospatially referenced and assigned to polygons depicting reservoir outlines at high spatial resolution. Dams have multiple attributes such as name of the dam and impounded river, primary use, nearest city, height, area and volume of reservoir, and year of construction or commissioning.',\n",
       " 'Geographic_Coverage': 'Global',\n",
       " 'Format': 'vector map',\n",
       " 'Spatial_Resolution': 'varies',\n",
       " 'Temporal_Resolution': 'N/A',\n",
       " 'Temporal_Extent': '2011',\n",
       " 'Latency': 'N/A',\n",
       " 'Project': 'Global Reservoir and Dam Database Version 1 (GRanD v1)',\n",
       " 'Data_Visualization': True}"
      ]
     },
     "execution_count": 40,
     "metadata": {},
     "output_type": "execute_result"
    }
   ],
   "source": [
    "pred_source"
   ]
  },
  {
   "cell_type": "code",
   "execution_count": 19,
   "id": "e517efda",
   "metadata": {},
   "outputs": [
    {
     "data": {
      "text/plain": [
       "{'Indicators': 'Water Availability',\n",
       " 'Description': 'The Global Reservoir and Dam Database, Version 1, Revision 01 (v1.01) contains 6,862 records of reservoirs and their associated dams with a cumulative storage capacity of 6,197 cubic km. The dams were geospatially referenced and assigned to polygons depicting reservoir outlines at high spatial resolution. Dams have multiple attributes, such as name of the dam and impounded river, primary use, nearest city, height, area and volume of reservoir, and year of construction (or commissioning). While the main focus was to include all dams associated with reservoirs that have a storage capacity of more than 0.1 cubic kilometers, many smaller dams and reservoirs were added where data were available. The data were compiled by Lehner et al. (2011) and are distributed by the Global Water System Project (GWSP) and by the Columbia University Center for International Earth Science Information Network (CIESIN). For details please refer to the Technical Documentation which is provided with the data.',\n",
       " 'Description Simplified': 'The Global Reservoir and Dam Database, Version 1, Revision 01 (v1.01) dataset contains 6,862 records of reservoirs and their associated dams with a cumulative storage capacity of 6,197 cubic km. Information available for each dam include the name of the dam and impounded river, primary use, nearest city, height, area and volume of reservoir, and year of construction (or commissioning). These data may aid in water availability research.',\n",
       " 'Geographic Coverage': 'Global',\n",
       " 'Format': 'Shapefile, PDF, PNG, WMS',\n",
       " 'Spatial Resolution': nan,\n",
       " 'Spatial Resolution (standard)': nan,\n",
       " 'Temporal Resolution': nan,\n",
       " 'Temporal Extent': '2011-01-01 to 2011-12-31',\n",
       " 'Latency': nan,\n",
       " 'Project': 'GRAND - Global Reservoir and Dam Database',\n",
       " 'Data Visualization': False}"
      ]
     },
     "execution_count": 19,
     "metadata": {},
     "output_type": "execute_result"
    }
   ],
   "source": [
    "true_source"
   ]
  },
  {
   "cell_type": "code",
   "execution_count": 46,
   "id": "4b6a600a",
   "metadata": {},
   "outputs": [
    {
     "data": {
      "text/plain": [
       "{'Indicators': 'Water Availability',\n",
       " 'Description': 'Global Reservoir and Dam Database Version 1 (GRanD v1) contains 6862 records of reservoirs and their associated dams with a cumulative storage capacity of 6197 cubic km. The dams were geospatially referenced and assigned to polygons depicting reservoir outlines at high spatial resolution. Dams have multiple attributes such as name of the dam and impounded river, primary use, nearest city, height, area and volume of reservoir, and year of construction or commissioning.',\n",
       " 'Geographic_Coverage': 'Global',\n",
       " 'Format': 'vector map',\n",
       " 'Spatial_Resolution': 'varies',\n",
       " 'Temporal_Resolution': 'N/A',\n",
       " 'Temporal_Extent': '2011',\n",
       " 'Latency': nan,\n",
       " 'Project': 'Global Reservoir and Dam Database Version 1 (GRanD v1)',\n",
       " 'Data_Visualization': True}"
      ]
     },
     "execution_count": 46,
     "metadata": {},
     "output_type": "execute_result"
    }
   ],
   "source": [
    "pred_source"
   ]
  },
  {
   "cell_type": "code",
   "execution_count": 45,
   "id": "bd529274",
   "metadata": {},
   "outputs": [
    {
     "data": {
      "text/plain": [
       "True"
      ]
     },
     "execution_count": 45,
     "metadata": {},
     "output_type": "execute_result"
    }
   ],
   "source": [
    "import numpy as np\n",
    "pred_source[\"Latency\"] = np.nan if pred_source[\"Latency\"]==\"N/A\" else pred_source[\"Latency\"]\n",
    "np.isnan(pred_source[\"Latency\"])==np.isnan(true_source[\"Latency\"])"
   ]
  },
  {
   "cell_type": "code",
   "execution_count": 172,
   "id": "a5d04240",
   "metadata": {},
   "outputs": [],
   "source": [
    "# !pip install sentence_transformers\n",
    "from difflib import SequenceMatcher\n",
    "import re \n",
    "import torch\n",
    "from sentence_transformers import SentenceTransformer\n",
    "from sentence_transformers.util import cos_sim\n",
    "\n",
    "\n",
    "encoder = SentenceTransformer('all-mpnet-base-v2').to('cpu')\n",
    "\n",
    "# Evaluation Metric: Exact Match  #Indicators, temporal resolution, temporal extent,\n",
    "def evaluate_exact_match(predicted, ground_truth):\n",
    "    return int(predicted.lower() == ground_truth.lower())\n",
    "\n",
    "# Evaluation Metric: description, project, geographic measure\n",
    "def evaluate_similarity_or_edit_distance(predicted, ground_truth1,ground_truth2,encoder):\n",
    "    \n",
    "    with torch.no_grad():\n",
    "        pred_embeddings = encoder.encode(predicted, show_progress_bar=False)\n",
    "        truth1_embeddings = encoder.encode(ground_truth1, show_progress_bar=False)\n",
    "        truth2_embeddings = encoder.encode(ground_truth2, show_progress_bar=False)\n",
    "    similarity1 = cos_sim(pred_embeddings, truth1_embeddings).numpy()[0][0]\n",
    "    similarity2 = cos_sim(pred_embeddings, truth2_embeddings).numpy() [0][0]\n",
    "    similarity=max(similarity1,similarity2)\n",
    "    if similarity>0.7:\n",
    "        return 1\n",
    "    else:\n",
    "        return 0\n",
    "    \n",
    "def evaluate_project(predicted, ground_truth,encoder):\n",
    "    if type(predicted)==float and type(ground_truth)==float:\n",
    "        return 1\n",
    "    elif type(ground_truth)==float:\n",
    "        return 0\n",
    "    ground_truth=ground_truth.split(\"-\",1)\n",
    "    with torch.no_grad():\n",
    "        pred_embeddings = encoder.encode(predicted, show_progress_bar=False)\n",
    "        truth1_embeddings = encoder.encode(ground_truth[0], show_progress_bar=False)\n",
    "        similarity = cos_sim(pred_embeddings, truth1_embeddings).numpy()[0][0]\n",
    "        if len(ground_truth)>1:\n",
    "            truth2_embeddings = encoder.encode(ground_truth[1], show_progress_bar=False)\n",
    "            similarity1 = cos_sim(pred_embeddings, truth2_embeddings).numpy()[0][0]\n",
    "            similarity=max(similarity,similarity1)\n",
    "    print(\"prediction\",predicted)\n",
    "    print(\"ground_truth\",ground_truth)\n",
    "    print(\"Similarity\")\n",
    "    if similarity>0.58:\n",
    "        return 1\n",
    "    else:\n",
    "        return 0\n",
    "\n",
    "\n",
    "# Evaluation Metric: Exact Match or at least one match if multiple\n",
    "def evaluate_format(predicted, ground_truth):\n",
    "    predicted = np.nan if predicted==\"N/A\" else predicted\n",
    "    if type(predicted)==float and type(ground_truth)==float:\n",
    "        return 1\n",
    "    predicted=predicted.lower()\n",
    "    ground_truth=ground_truth.lower()\n",
    "    if predicted==ground_truth:\n",
    "        return 1\n",
    "    predicted_formats = set(predicted.split(\",\"))\n",
    "    ground_truth_formats = set(ground_truth.split(\",\"))\n",
    "    if predicted_formats.intersection(ground_truth_formats):\n",
    "        return 1\n",
    "    return 0\n",
    "\n",
    "def evaluate_spatial_resolution(predicted, ground_truth1,ground_truth2):\n",
    "    predicted = np.nan if predicted==\"N/A\" else predicted\n",
    "    if (type(predicted)==float and type(ground_truth1)==float) or (type(predicted)==float and type(ground_truth2)==float):\n",
    "        return 1\n",
    "    elif (type(ground_truth1)==float or type(ground_truth2)==float):\n",
    "        return 0\n",
    "    elif type(predicted)==float:\n",
    "        return 0\n",
    "    predicted=predicted.lower()\n",
    "    ground_truth1=ground_truth1.lower()\n",
    "    ground_truth2=ground_truth2.lower()\n",
    "    if (predicted==ground_truth1) or (predicted==ground_truth2):\n",
    "        return 1\n",
    "    predicted = re.sub(r'[a-zA-Z\\(\\)\\[\\]]', '', predicted).strip()\n",
    "    ground_truth1=re.sub(r'[a-zA-Z\\(\\)\\[\\]]', '', ground_truth1).strip()\n",
    "    ground_truth2=re.sub(r'[a-zA-Z\\(\\)\\[\\]]', '', ground_truth2).strip()\n",
    "    if not (ground_truth1 or ground_truth2) and predicted.find(',') != -1:\n",
    "        return 1\n",
    "    if predicted==ground_truth1 or predicted==ground_truth2:\n",
    "        return 1\n",
    "    if (int(predicted)==int(ground_truth1)) or (int(predicted)==int(ground_truth2)):\n",
    "        return 1\n",
    "    return 0\n",
    "\n",
    "\n",
    "def evaluate_latency(predicted, ground_truth):\n",
    "    predicted = np.nan if predicted==\"N/A\" else predicted\n",
    "    if type(predicted)==float and type(ground_truth)==float:\n",
    "        return 1\n",
    "    if type(predicted)==float or type(ground_truth)==float:\n",
    "        return 0\n",
    "    predicted=predicted.lower()\n",
    "    ground_truth=ground_truth.lower()\n",
    "    if (predicted==ground_truth):\n",
    "        return 1\n",
    "    predicted = re.sub(r'[a-zA-Z]', '', predicted)\n",
    "    ground_truth=re.sub(r'[a-zA-Z]', '', ground_truth)\n",
    "    if (int(predicted)==int(ground_truth)):\n",
    "        return 1\n",
    "    return 0\n",
    "\n",
    "\n",
    "def evaluate_temporal_resolution_extent(predicted,ground_truth):\n",
    "    predicted = np.nan if predicted==\"N/A\" else predicted\n",
    "    ground_truth=np.nan if (type(ground_truth)==str and ground_truth.lower()==\"nan\") else ground_truth\n",
    "    if type(predicted)==float and type(ground_truth)==float:\n",
    "        return 1\n",
    "    if type(predicted)==float or type(ground_truth)==float:\n",
    "        return 0\n",
    "    predicted=predicted.lower()\n",
    "    ground_truth=ground_truth.lower()\n",
    "    if predicted==ground_truth:\n",
    "        return 1\n",
    "    predicted = ''.join(re.findall(r'\\w', predicted))\n",
    "    ground_truth=''.join(re.findall(r'\\w', ground_truth))\n",
    "    if predicted==ground_truth:\n",
    "        return 1 \n",
    "    return 0\n",
    "\n",
    "def evaluate_data_visualization_indicators(predicted,ground_truth):\n",
    "    if predicted==ground_truth:\n",
    "        return 1\n",
    "    return 0\n",
    "    \n"
   ]
  },
  {
   "cell_type": "code",
   "execution_count": 173,
   "id": "a2e21fdd",
   "metadata": {},
   "outputs": [
    {
     "name": "stdout",
     "output_type": "stream",
     "text": [
      "prediction MEaSUREs GFSAD\n",
      "ground_truth ['MEaSUREs ', ' Making Earth System Data Records for Use in Research Environments']\n",
      "prediction MEaSUREs GFSAD\n",
      "ground_truth ['MEaSUREs ', ' Making Earth System Data Records for Use in Research Environments']\n",
      "prediction MEaSUREs GFSAD\n",
      "ground_truth ['MEaSUREs ', ' Making Earth System Data Records for Use in Research Environments']\n",
      "prediction MEaSUREs GFSAD\n",
      "ground_truth ['MEaSUREs ', ' Making Earth System Data Records for Use in Research Environments']\n",
      "prediction MEaSUREs GFSAD\n",
      "ground_truth ['MEaSUREs ', ' Making Earth System Data Records for Use in Research Environments']\n",
      "prediction FLDAS (Famine Early Warning Systems Network Land Data Assimilation System)\n",
      "ground_truth ['FEWS NET ', ' FEWS NET Land Data Assimilation System']\n",
      "prediction Gravity Recovery and Climate Experiment (GRACE) and Gravity Recovery and Climate Experiment Follow-On (GRACEFO)\n",
      "ground_truth ['GRACE ', ' Gravity Recovery and Climate Experiment, GRACE', 'FO ', ' Gravity Recovery and Climate Experiment Follow', 'On']\n",
      "prediction Global Reservoir and Dam GRanD v1\n",
      "ground_truth ['GRAND ', ' Global Reservoir and Dam Database']\n",
      "prediction Global Reservoir and Dam Database Version 1 (GRanD v1)\n",
      "ground_truth ['GRAND ', ' Global Reservoir and Dam Database']\n"
     ]
    }
   ],
   "source": [
    "metrics={}\n",
    "for key in true_data.keys():\n",
    "    true_source=true_data[key]\n",
    "    pred_source=pred_data[key]\n",
    "    for each_key in pred_source.keys():\n",
    "        if each_key==\"Indicators\":\n",
    "            result=evaluate_exact_match(pred_source[each_key],true_source[each_key])\n",
    "            if each_key not in metrics.keys():\n",
    "                    metrics[each_key]=[result]\n",
    "            else:\n",
    "                metrics[each_key].append(result)\n",
    "        elif each_key==\"Description\":\n",
    "            result=evaluate_similarity_or_edit_distance(pred_source[each_key], true_source[each_key],true_source[\"Description Simplified\"],encoder)\n",
    "            if each_key not in metrics.keys():\n",
    "                metrics[each_key]=[result]\n",
    "            else:\n",
    "                metrics[each_key].append(result)\n",
    "        elif each_key==\"Geographic_Coverage\":\n",
    "            evaluate_format(pred_source[each_key],true_source[\"Geographic Coverage\"])\n",
    "            if each_key not in metrics.keys():\n",
    "                metrics[each_key]=[result]\n",
    "            else:\n",
    "                metrics[each_key].append(result) \n",
    "        elif each_key==\"Format\":\n",
    "            result=evaluate_format(pred_source[each_key],true_source[each_key])\n",
    "            if each_key not in metrics.keys():\n",
    "                metrics[each_key]=[result]\n",
    "            else:\n",
    "                metrics[each_key].append(result)\n",
    "        elif each_key==\"Spatial_Resolution\":\n",
    "            result=evaluate_spatial_resolution(pred_source[each_key],true_source[\"Spatial Resolution\"],true_source[\"Spatial Resolution (standard)\"])\n",
    "            if each_key not in metrics.keys():\n",
    "                metrics[each_key]=[result]\n",
    "            else:\n",
    "                metrics[each_key].append(result)\n",
    "        elif each_key==\"Temporal_Resolution\":\n",
    "            result=evaluate_temporal_resolution_extent(pred_source[each_key],true_source[\"Temporal Resolution\"])\n",
    "            if each_key not in metrics.keys():\n",
    "                metrics[each_key]=[result]\n",
    "            else:\n",
    "                metrics[each_key].append(result)\n",
    "        elif each_key==\"Temporal_Extent\":\n",
    "            result=evaluate_temporal_resolution_extent(pred_source[each_key],true_source[\"Temporal Extent\"])\n",
    "            if each_key not in metrics.keys():\n",
    "                metrics[each_key]=[result]\n",
    "            else:\n",
    "                metrics[each_key].append(result)\n",
    "        elif each_key==\"Latency\":\n",
    "            result=evaluate_latency(pred_source[each_key],true_source[\"Latency\"])\n",
    "            if each_key not in metrics.keys():\n",
    "                metrics[each_key]=[result]\n",
    "            else:\n",
    "                metrics[each_key].append(result)\n",
    "        elif each_key==\"Project\":\n",
    "            result=evaluate_project(pred_source[each_key], true_source[each_key],encoder)\n",
    "            if each_key not in metrics.keys():\n",
    "                metrics[each_key]=[result]\n",
    "            else:\n",
    "                metrics[each_key].append(result)\n",
    "        elif each_key==\"Data_Visualization\":\n",
    "            result=evaluate_data_visualization_indicators(pred_source[each_key], true_source[\"Data Visualization\"])\n",
    "            if each_key not in metrics.keys():\n",
    "                metrics[each_key]=[result]\n",
    "            else:\n",
    "                metrics[each_key].append(result)\n",
    "\n",
    "\n",
    "\n",
    "\n",
    "\n",
    "\n",
    "\n"
   ]
  },
  {
   "cell_type": "code",
   "execution_count": 171,
   "id": "05d5f4ff",
   "metadata": {},
   "outputs": [
    {
     "data": {
      "text/plain": [
       "{'Indicators': [1, 1, 1, 1, 1, 0, 1, 1, 1, 1],\n",
       " 'Description': [1, 1, 1, 1, 1, 1, 1, 1, 1, 1],\n",
       " 'Geographic_Coverage': [1, 1, 1, 1, 1, 1, 1, 1, 1, 1],\n",
       " 'Format': [1, 1, 1, 1, 1, 0, 1, 0, 0, 0],\n",
       " 'Spatial_Resolution': [1, 1, 1, 1, 1, 0, 1, 1, 1, 0],\n",
       " 'Temporal_Resolution': [0, 0, 0, 0, 0, 1, 0, 0, 1, 1],\n",
       " 'Temporal_Extent': [1, 1, 1, 1, 1, 0, 0, 0, 0, 0],\n",
       " 'Latency': [1, 1, 1, 1, 1, 0, 0, 1, 1, 1],\n",
       " 'Project': [1, 1, 1, 1, 1, 0, 1, 1, 1, 1],\n",
       " 'Data_Visualization': [1, 1, 1, 1, 1, 1, 1, 0, 1, 0]}"
      ]
     },
     "execution_count": 171,
     "metadata": {},
     "output_type": "execute_result"
    }
   ],
   "source": [
    "metrics"
   ]
  },
  {
   "cell_type": "code",
   "execution_count": 158,
   "id": "9ca16bac",
   "metadata": {},
   "outputs": [
    {
     "name": "stdout",
     "output_type": "stream",
     "text": [
      "Indicators\n",
      "Accuracy: 0.90\n",
      "Precision: 0.90\n",
      "Recall: 1.00\n",
      "F1-score: 0.95\n",
      "\n",
      "Description\n",
      "Accuracy: 1.00\n",
      "Precision: 1.00\n",
      "Recall: 1.00\n",
      "F1-score: 1.00\n",
      "\n",
      "Geographic_Coverage\n",
      "Accuracy: 1.00\n",
      "Precision: 1.00\n",
      "Recall: 1.00\n",
      "F1-score: 1.00\n",
      "\n",
      "Format\n",
      "Accuracy: 0.60\n",
      "Precision: 0.60\n",
      "Recall: 1.00\n",
      "F1-score: 0.75\n",
      "\n",
      "Spatial_Resolution\n",
      "Accuracy: 0.80\n",
      "Precision: 0.80\n",
      "Recall: 1.00\n",
      "F1-score: 0.89\n",
      "\n",
      "Temporal_Resolution\n",
      "Accuracy: 0.30\n",
      "Precision: 0.30\n",
      "Recall: 1.00\n",
      "F1-score: 0.46\n",
      "\n",
      "Temporal_Extent\n",
      "Accuracy: 0.50\n",
      "Precision: 0.50\n",
      "Recall: 1.00\n",
      "F1-score: 0.67\n",
      "\n",
      "Latency\n",
      "Accuracy: 0.80\n",
      "Precision: 0.80\n",
      "Recall: 1.00\n",
      "F1-score: 0.89\n",
      "\n",
      "Project\n",
      "Accuracy: 0.30\n",
      "Precision: 0.30\n",
      "Recall: 1.00\n",
      "F1-score: 0.46\n",
      "\n",
      "Data_Visualization\n",
      "Accuracy: 0.80\n",
      "Precision: 0.80\n",
      "Recall: 1.00\n",
      "F1-score: 0.89\n",
      "\n"
     ]
    }
   ],
   "source": [
    "predictions=metrics\n",
    "from sklearn.metrics import accuracy_score, precision_score, recall_score, f1_score\n",
    "aspect_metrics = {}\n",
    "for aspect, preds in predictions.items():\n",
    "    accuracy = accuracy_score(preds, [1]*len(preds))  # Assuming ground truth is always 1\n",
    "    precision = precision_score(preds, [1]*len(preds))\n",
    "    recall = recall_score(preds, [1]*len(preds))\n",
    "    f1 = f1_score(preds, [1]*len(preds))\n",
    "    aspect_metrics[aspect] = {'Accuracy': accuracy, 'Precision': precision, 'Recall': recall, 'F1-score': f1}\n",
    "\n",
    "# Print metrics\n",
    "for aspect, metrics in aspect_metrics.items():\n",
    "    print(aspect)\n",
    "    for metric, value in metrics.items():\n",
    "        print(f\"{metric}: {value:.2f}\")\n",
    "    print()"
   ]
  },
  {
   "cell_type": "code",
   "execution_count": null,
   "id": "5b59f743",
   "metadata": {},
   "outputs": [],
   "source": []
  }
 ],
 "metadata": {
  "kernelspec": {
   "display_name": "Python 3 (ipykernel)",
   "language": "python",
   "name": "python3"
  },
  "language_info": {
   "codemirror_mode": {
    "name": "ipython",
    "version": 3
   },
   "file_extension": ".py",
   "mimetype": "text/x-python",
   "name": "python",
   "nbconvert_exporter": "python",
   "pygments_lexer": "ipython3",
   "version": "3.10.7"
  }
 },
 "nbformat": 4,
 "nbformat_minor": 5
}
